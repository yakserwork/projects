{
 "cells": [
  {
   "cell_type": "markdown",
   "metadata": {},
   "source": [
    "# Определение перспективного тарифа для телеком-компании\n",
    "\n",
    "Оператор сотовой связи предлагает два тарифных плана: «Смарт» и «Ультра». Необходимо определить перспективный тариф, чтобы скорректировать рекламный бюджет. В распоряжении данные пользователей. \n",
    "\n",
    "**Цель исследования:**\n",
    "\n",
    "На небольшой выборке проанализировать поведение клиентов и сделать вывод — какой тариф лучше.\n",
    "\n",
    "**Описание тарифов**\n",
    "\n",
    "Тариф «Смарт»\n",
    "\n",
    "1. Ежемесячная плата: 550 рублей\n",
    "2. Включено 500 минут разговора, 50 сообщений и 15 Гб интернет-трафика\n",
    "3. Стоимость услуг сверх тарифного пакета:\n",
    "    * минута разговора: 3 рубля\n",
    "    * сообщение: 3 рубля\n",
    "    * 1 Гб интернет-трафика: 200 рублей\n",
    "\n",
    "Тариф «Ультра»\n",
    "\n",
    "1. Ежемесячная плата: 1950 рублей\n",
    "2. Включено 3000 минут разговора, 1000 сообщений и 30 Гб интернет-трафика\n",
    "3. Стоимость услуг сверх тарифного пакета:\n",
    "    * минута разговора: 1 рубль\n",
    "    * сообщение: 1 рубль\n",
    "    * 1 Гб интернет-трафика: 150 рублей\n",
    "    \n",
    "***Примечание:***\n",
    "Оператор всегда округляет секунды до минут, а мегабайты — до гигабайт. Каждый звонок округляется отдельно: даже если он длился всего 1 секунду, будет засчитан как 1 минута.\n",
    "Для веб-трафика отдельные сессии не считаются. Вместо этого общая сумма за месяц округляется в бо́льшую сторону. Если абонент использует 1025 мегабайт в этом месяце, с него возьмут плату за 2 гигабайта.\n",
    "\n",
    "\n",
    "**Ход исследования**\n",
    " \n",
    "Таким образом, исследование пройдёт в 5 этапов:\n",
    " 1. Обзор данных.\n",
    " 2. Предобработка данных.\n",
    " 3. Подготовка данных.\n",
    " 4. Анализ данных\n",
    " 4. Проверка гипотез.\n",
    " 5. Общий вывод."
   ]
  },
  {
   "cell_type": "markdown",
   "metadata": {},
   "source": [
    "## Обзор данных\n",
    "\n",
    "### Описание данных\n",
    "\n",
    "**Таблица users (информация о пользователях):**\n",
    "* `user_id` — уникальный идентификатор пользователя\n",
    "* `first_name` — имя пользователя\n",
    "* `last_name` — фамилия пользователя\n",
    "* `age` — возраст пользователя (годы)\n",
    "* `reg_date` — дата подключения тарифа (день, месяц, год)\n",
    "* `churn_date` — дата прекращения пользования тарифом (если значение пропущено, то тариф ещё действовал на момент выгрузки данных)\n",
    "* `city` — город проживания пользователя\n",
    "* `tariff` — название тарифного плана\n",
    "\n",
    "**Таблица calls (информация о звонках):**\n",
    "* `id` — уникальный номер звонка\n",
    "* `call_date` — дата звонка\n",
    "* `duration` — длительность звонка в минутах\n",
    "* `user_id` — идентификатор пользователя, сделавшего звонок\n",
    "\n",
    "**Таблица messages (информация о сообщениях):**\n",
    "* `id` — уникальный номер сообщения\n",
    "* `message_date` — дата сообщения\n",
    "* `user_id` — идентификатор пользователя, отправившего сообщение\n",
    "\n",
    "**Таблица internet (информация об интернет-сессиях):**\n",
    "* `id` — уникальный номер сессии\n",
    "* `mb_used` — объём потраченного за сессию интернет-трафика (в мегабайтах)\n",
    "* `session_date` — дата интернет-сессии\n",
    "* `user_id` — идентификатор пользователя\n",
    "\n",
    "**Таблица tariffs (информация о тарифах):**\n",
    "* `tariff_name` — название тарифа\n",
    "* `rub_monthly_fee` — ежемесячная абонентская плата в рублях\n",
    "* `minutes_included` — количество минут разговора в месяц, включённых в абонентскую плату\n",
    "* `messages_included` — количество сообщений в месяц, включённых в абонентскую плату\n",
    "* `mb_per_month_included` — объём интернет-трафика, включённого в абонентскую плату (в мегабайтах)\n",
    "* `rub_per_minute` — стоимость минуты разговора сверх тарифного пакета (например, если в тарифе 100 минут разговора в месяц, то со 101 минуты будет взиматься плата)\n",
    "* `rub_per_message` — стоимость отправки сообщения сверх тарифного пакета\n",
    "* `rub_per_gb` — стоимость дополнительного гигабайта интернет-трафика сверх тарифного пакета (1 гигабайт = 1024 мегабайта)"
   ]
  },
  {
   "cell_type": "markdown",
   "metadata": {},
   "source": [
    "### Изучение данных из файла\n",
    "\n",
    "Импортируем все необходимые библиотеки."
   ]
  },
  {
   "cell_type": "code",
   "execution_count": 1,
   "metadata": {},
   "outputs": [],
   "source": [
    "import pandas as pd # импорт библиотеки pandas\n",
    "import numpy as np # импорт библиотеки numpy\n",
    "from scipy import stats as st # импорт библиотеки stats\n",
    "import matplotlib.pyplot as plt # импорт библиотеки matplotlib\n",
    "import seaborn as sns # импорт библиотеки seaborn\n",
    "import math # импорт библиотеки math"
   ]
  },
  {
   "cell_type": "markdown",
   "metadata": {},
   "source": [
    "Сохраним полученные данные в переменные и выведем их на экран для ознакомления."
   ]
  },
  {
   "cell_type": "code",
   "execution_count": 2,
   "metadata": {},
   "outputs": [
    {
     "data": {
      "text/html": [
       "<div>\n",
       "<style scoped>\n",
       "    .dataframe tbody tr th:only-of-type {\n",
       "        vertical-align: middle;\n",
       "    }\n",
       "\n",
       "    .dataframe tbody tr th {\n",
       "        vertical-align: top;\n",
       "    }\n",
       "\n",
       "    .dataframe thead th {\n",
       "        text-align: right;\n",
       "    }\n",
       "</style>\n",
       "<table border=\"1\" class=\"dataframe\">\n",
       "  <thead>\n",
       "    <tr style=\"text-align: right;\">\n",
       "      <th></th>\n",
       "      <th>id</th>\n",
       "      <th>call_date</th>\n",
       "      <th>duration</th>\n",
       "      <th>user_id</th>\n",
       "    </tr>\n",
       "  </thead>\n",
       "  <tbody>\n",
       "    <tr>\n",
       "      <th>0</th>\n",
       "      <td>1000_0</td>\n",
       "      <td>2018-07-25</td>\n",
       "      <td>0.00</td>\n",
       "      <td>1000</td>\n",
       "    </tr>\n",
       "    <tr>\n",
       "      <th>1</th>\n",
       "      <td>1000_1</td>\n",
       "      <td>2018-08-17</td>\n",
       "      <td>0.00</td>\n",
       "      <td>1000</td>\n",
       "    </tr>\n",
       "    <tr>\n",
       "      <th>2</th>\n",
       "      <td>1000_2</td>\n",
       "      <td>2018-06-11</td>\n",
       "      <td>2.85</td>\n",
       "      <td>1000</td>\n",
       "    </tr>\n",
       "    <tr>\n",
       "      <th>3</th>\n",
       "      <td>1000_3</td>\n",
       "      <td>2018-09-21</td>\n",
       "      <td>13.80</td>\n",
       "      <td>1000</td>\n",
       "    </tr>\n",
       "    <tr>\n",
       "      <th>4</th>\n",
       "      <td>1000_4</td>\n",
       "      <td>2018-12-15</td>\n",
       "      <td>5.18</td>\n",
       "      <td>1000</td>\n",
       "    </tr>\n",
       "  </tbody>\n",
       "</table>\n",
       "</div>"
      ],
      "text/plain": [
       "       id   call_date  duration  user_id\n",
       "0  1000_0  2018-07-25      0.00     1000\n",
       "1  1000_1  2018-08-17      0.00     1000\n",
       "2  1000_2  2018-06-11      2.85     1000\n",
       "3  1000_3  2018-09-21     13.80     1000\n",
       "4  1000_4  2018-12-15      5.18     1000"
      ]
     },
     "metadata": {},
     "output_type": "display_data"
    },
    {
     "data": {
      "text/html": [
       "<div>\n",
       "<style scoped>\n",
       "    .dataframe tbody tr th:only-of-type {\n",
       "        vertical-align: middle;\n",
       "    }\n",
       "\n",
       "    .dataframe tbody tr th {\n",
       "        vertical-align: top;\n",
       "    }\n",
       "\n",
       "    .dataframe thead th {\n",
       "        text-align: right;\n",
       "    }\n",
       "</style>\n",
       "<table border=\"1\" class=\"dataframe\">\n",
       "  <thead>\n",
       "    <tr style=\"text-align: right;\">\n",
       "      <th></th>\n",
       "      <th>Unnamed: 0</th>\n",
       "      <th>id</th>\n",
       "      <th>mb_used</th>\n",
       "      <th>session_date</th>\n",
       "      <th>user_id</th>\n",
       "    </tr>\n",
       "  </thead>\n",
       "  <tbody>\n",
       "    <tr>\n",
       "      <th>0</th>\n",
       "      <td>0</td>\n",
       "      <td>1000_0</td>\n",
       "      <td>112.95</td>\n",
       "      <td>2018-11-25</td>\n",
       "      <td>1000</td>\n",
       "    </tr>\n",
       "    <tr>\n",
       "      <th>1</th>\n",
       "      <td>1</td>\n",
       "      <td>1000_1</td>\n",
       "      <td>1052.81</td>\n",
       "      <td>2018-09-07</td>\n",
       "      <td>1000</td>\n",
       "    </tr>\n",
       "    <tr>\n",
       "      <th>2</th>\n",
       "      <td>2</td>\n",
       "      <td>1000_2</td>\n",
       "      <td>1197.26</td>\n",
       "      <td>2018-06-25</td>\n",
       "      <td>1000</td>\n",
       "    </tr>\n",
       "    <tr>\n",
       "      <th>3</th>\n",
       "      <td>3</td>\n",
       "      <td>1000_3</td>\n",
       "      <td>550.27</td>\n",
       "      <td>2018-08-22</td>\n",
       "      <td>1000</td>\n",
       "    </tr>\n",
       "    <tr>\n",
       "      <th>4</th>\n",
       "      <td>4</td>\n",
       "      <td>1000_4</td>\n",
       "      <td>302.56</td>\n",
       "      <td>2018-09-24</td>\n",
       "      <td>1000</td>\n",
       "    </tr>\n",
       "  </tbody>\n",
       "</table>\n",
       "</div>"
      ],
      "text/plain": [
       "   Unnamed: 0      id  mb_used session_date  user_id\n",
       "0           0  1000_0   112.95   2018-11-25     1000\n",
       "1           1  1000_1  1052.81   2018-09-07     1000\n",
       "2           2  1000_2  1197.26   2018-06-25     1000\n",
       "3           3  1000_3   550.27   2018-08-22     1000\n",
       "4           4  1000_4   302.56   2018-09-24     1000"
      ]
     },
     "metadata": {},
     "output_type": "display_data"
    },
    {
     "data": {
      "text/html": [
       "<div>\n",
       "<style scoped>\n",
       "    .dataframe tbody tr th:only-of-type {\n",
       "        vertical-align: middle;\n",
       "    }\n",
       "\n",
       "    .dataframe tbody tr th {\n",
       "        vertical-align: top;\n",
       "    }\n",
       "\n",
       "    .dataframe thead th {\n",
       "        text-align: right;\n",
       "    }\n",
       "</style>\n",
       "<table border=\"1\" class=\"dataframe\">\n",
       "  <thead>\n",
       "    <tr style=\"text-align: right;\">\n",
       "      <th></th>\n",
       "      <th>id</th>\n",
       "      <th>message_date</th>\n",
       "      <th>user_id</th>\n",
       "    </tr>\n",
       "  </thead>\n",
       "  <tbody>\n",
       "    <tr>\n",
       "      <th>0</th>\n",
       "      <td>1000_0</td>\n",
       "      <td>2018-06-27</td>\n",
       "      <td>1000</td>\n",
       "    </tr>\n",
       "    <tr>\n",
       "      <th>1</th>\n",
       "      <td>1000_1</td>\n",
       "      <td>2018-10-08</td>\n",
       "      <td>1000</td>\n",
       "    </tr>\n",
       "    <tr>\n",
       "      <th>2</th>\n",
       "      <td>1000_2</td>\n",
       "      <td>2018-08-04</td>\n",
       "      <td>1000</td>\n",
       "    </tr>\n",
       "    <tr>\n",
       "      <th>3</th>\n",
       "      <td>1000_3</td>\n",
       "      <td>2018-06-16</td>\n",
       "      <td>1000</td>\n",
       "    </tr>\n",
       "    <tr>\n",
       "      <th>4</th>\n",
       "      <td>1000_4</td>\n",
       "      <td>2018-12-05</td>\n",
       "      <td>1000</td>\n",
       "    </tr>\n",
       "  </tbody>\n",
       "</table>\n",
       "</div>"
      ],
      "text/plain": [
       "       id message_date  user_id\n",
       "0  1000_0   2018-06-27     1000\n",
       "1  1000_1   2018-10-08     1000\n",
       "2  1000_2   2018-08-04     1000\n",
       "3  1000_3   2018-06-16     1000\n",
       "4  1000_4   2018-12-05     1000"
      ]
     },
     "metadata": {},
     "output_type": "display_data"
    },
    {
     "data": {
      "text/html": [
       "<div>\n",
       "<style scoped>\n",
       "    .dataframe tbody tr th:only-of-type {\n",
       "        vertical-align: middle;\n",
       "    }\n",
       "\n",
       "    .dataframe tbody tr th {\n",
       "        vertical-align: top;\n",
       "    }\n",
       "\n",
       "    .dataframe thead th {\n",
       "        text-align: right;\n",
       "    }\n",
       "</style>\n",
       "<table border=\"1\" class=\"dataframe\">\n",
       "  <thead>\n",
       "    <tr style=\"text-align: right;\">\n",
       "      <th></th>\n",
       "      <th>messages_included</th>\n",
       "      <th>mb_per_month_included</th>\n",
       "      <th>minutes_included</th>\n",
       "      <th>rub_monthly_fee</th>\n",
       "      <th>rub_per_gb</th>\n",
       "      <th>rub_per_message</th>\n",
       "      <th>rub_per_minute</th>\n",
       "      <th>tariff_name</th>\n",
       "    </tr>\n",
       "  </thead>\n",
       "  <tbody>\n",
       "    <tr>\n",
       "      <th>0</th>\n",
       "      <td>50</td>\n",
       "      <td>15360</td>\n",
       "      <td>500</td>\n",
       "      <td>550</td>\n",
       "      <td>200</td>\n",
       "      <td>3</td>\n",
       "      <td>3</td>\n",
       "      <td>smart</td>\n",
       "    </tr>\n",
       "    <tr>\n",
       "      <th>1</th>\n",
       "      <td>1000</td>\n",
       "      <td>30720</td>\n",
       "      <td>3000</td>\n",
       "      <td>1950</td>\n",
       "      <td>150</td>\n",
       "      <td>1</td>\n",
       "      <td>1</td>\n",
       "      <td>ultra</td>\n",
       "    </tr>\n",
       "  </tbody>\n",
       "</table>\n",
       "</div>"
      ],
      "text/plain": [
       "   messages_included  mb_per_month_included  minutes_included  \\\n",
       "0                 50                  15360               500   \n",
       "1               1000                  30720              3000   \n",
       "\n",
       "   rub_monthly_fee  rub_per_gb  rub_per_message  rub_per_minute tariff_name  \n",
       "0              550         200                3               3       smart  \n",
       "1             1950         150                1               1       ultra  "
      ]
     },
     "metadata": {},
     "output_type": "display_data"
    },
    {
     "data": {
      "text/html": [
       "<div>\n",
       "<style scoped>\n",
       "    .dataframe tbody tr th:only-of-type {\n",
       "        vertical-align: middle;\n",
       "    }\n",
       "\n",
       "    .dataframe tbody tr th {\n",
       "        vertical-align: top;\n",
       "    }\n",
       "\n",
       "    .dataframe thead th {\n",
       "        text-align: right;\n",
       "    }\n",
       "</style>\n",
       "<table border=\"1\" class=\"dataframe\">\n",
       "  <thead>\n",
       "    <tr style=\"text-align: right;\">\n",
       "      <th></th>\n",
       "      <th>user_id</th>\n",
       "      <th>age</th>\n",
       "      <th>churn_date</th>\n",
       "      <th>city</th>\n",
       "      <th>first_name</th>\n",
       "      <th>last_name</th>\n",
       "      <th>reg_date</th>\n",
       "      <th>tariff</th>\n",
       "    </tr>\n",
       "  </thead>\n",
       "  <tbody>\n",
       "    <tr>\n",
       "      <th>0</th>\n",
       "      <td>1000</td>\n",
       "      <td>52</td>\n",
       "      <td>NaN</td>\n",
       "      <td>Краснодар</td>\n",
       "      <td>Рафаил</td>\n",
       "      <td>Верещагин</td>\n",
       "      <td>2018-05-25</td>\n",
       "      <td>ultra</td>\n",
       "    </tr>\n",
       "    <tr>\n",
       "      <th>1</th>\n",
       "      <td>1001</td>\n",
       "      <td>41</td>\n",
       "      <td>NaN</td>\n",
       "      <td>Москва</td>\n",
       "      <td>Иван</td>\n",
       "      <td>Ежов</td>\n",
       "      <td>2018-11-01</td>\n",
       "      <td>smart</td>\n",
       "    </tr>\n",
       "    <tr>\n",
       "      <th>2</th>\n",
       "      <td>1002</td>\n",
       "      <td>59</td>\n",
       "      <td>NaN</td>\n",
       "      <td>Стерлитамак</td>\n",
       "      <td>Евгений</td>\n",
       "      <td>Абрамович</td>\n",
       "      <td>2018-06-17</td>\n",
       "      <td>smart</td>\n",
       "    </tr>\n",
       "    <tr>\n",
       "      <th>3</th>\n",
       "      <td>1003</td>\n",
       "      <td>23</td>\n",
       "      <td>NaN</td>\n",
       "      <td>Москва</td>\n",
       "      <td>Белла</td>\n",
       "      <td>Белякова</td>\n",
       "      <td>2018-08-17</td>\n",
       "      <td>ultra</td>\n",
       "    </tr>\n",
       "    <tr>\n",
       "      <th>4</th>\n",
       "      <td>1004</td>\n",
       "      <td>68</td>\n",
       "      <td>NaN</td>\n",
       "      <td>Новокузнецк</td>\n",
       "      <td>Татьяна</td>\n",
       "      <td>Авдеенко</td>\n",
       "      <td>2018-05-14</td>\n",
       "      <td>ultra</td>\n",
       "    </tr>\n",
       "  </tbody>\n",
       "</table>\n",
       "</div>"
      ],
      "text/plain": [
       "   user_id  age churn_date         city first_name  last_name    reg_date  \\\n",
       "0     1000   52        NaN    Краснодар     Рафаил  Верещагин  2018-05-25   \n",
       "1     1001   41        NaN       Москва       Иван       Ежов  2018-11-01   \n",
       "2     1002   59        NaN  Стерлитамак    Евгений  Абрамович  2018-06-17   \n",
       "3     1003   23        NaN       Москва      Белла   Белякова  2018-08-17   \n",
       "4     1004   68        NaN  Новокузнецк    Татьяна   Авдеенко  2018-05-14   \n",
       "\n",
       "  tariff  \n",
       "0  ultra  \n",
       "1  smart  \n",
       "2  smart  \n",
       "3  ultra  \n",
       "4  ultra  "
      ]
     },
     "metadata": {},
     "output_type": "display_data"
    }
   ],
   "source": [
    "df_calls = pd.read_csv('/datasets/calls.csv')\n",
    "df_internet = pd.read_csv('/datasets/internet.csv')\n",
    "df_messages = pd.read_csv('/datasets/messages.csv')\n",
    "df_tariffs = pd.read_csv('/datasets/tariffs.csv')\n",
    "df_users = pd.read_csv('/datasets/users.csv')\n",
    "\n",
    "display(\n",
    "    df_calls.head(),\n",
    "    df_internet.head(),\n",
    "    df_messages.head(),\n",
    "    df_tariffs.head(),\n",
    "    df_users.head()\n",
    ")"
   ]
  },
  {
   "cell_type": "markdown",
   "metadata": {},
   "source": [
    "Данные отображаются корректно. Изучим более детально каждую таблицу. Начнем с `df_calls`."
   ]
  },
  {
   "cell_type": "code",
   "execution_count": 3,
   "metadata": {},
   "outputs": [
    {
     "name": "stdout",
     "output_type": "stream",
     "text": [
      "<class 'pandas.core.frame.DataFrame'>\n",
      "RangeIndex: 202607 entries, 0 to 202606\n",
      "Data columns (total 4 columns):\n",
      " #   Column     Non-Null Count   Dtype  \n",
      "---  ------     --------------   -----  \n",
      " 0   id         202607 non-null  object \n",
      " 1   call_date  202607 non-null  object \n",
      " 2   duration   202607 non-null  float64\n",
      " 3   user_id    202607 non-null  int64  \n",
      "dtypes: float64(1), int64(1), object(2)\n",
      "memory usage: 6.2+ MB\n"
     ]
    },
    {
     "data": {
      "text/html": [
       "<div>\n",
       "<style scoped>\n",
       "    .dataframe tbody tr th:only-of-type {\n",
       "        vertical-align: middle;\n",
       "    }\n",
       "\n",
       "    .dataframe tbody tr th {\n",
       "        vertical-align: top;\n",
       "    }\n",
       "\n",
       "    .dataframe thead th {\n",
       "        text-align: right;\n",
       "    }\n",
       "</style>\n",
       "<table border=\"1\" class=\"dataframe\">\n",
       "  <thead>\n",
       "    <tr style=\"text-align: right;\">\n",
       "      <th></th>\n",
       "      <th>duration</th>\n",
       "      <th>user_id</th>\n",
       "    </tr>\n",
       "  </thead>\n",
       "  <tbody>\n",
       "    <tr>\n",
       "      <th>count</th>\n",
       "      <td>202607.000000</td>\n",
       "      <td>202607.000000</td>\n",
       "    </tr>\n",
       "    <tr>\n",
       "      <th>mean</th>\n",
       "      <td>6.755887</td>\n",
       "      <td>1253.940619</td>\n",
       "    </tr>\n",
       "    <tr>\n",
       "      <th>std</th>\n",
       "      <td>5.843365</td>\n",
       "      <td>144.722751</td>\n",
       "    </tr>\n",
       "    <tr>\n",
       "      <th>min</th>\n",
       "      <td>0.000000</td>\n",
       "      <td>1000.000000</td>\n",
       "    </tr>\n",
       "    <tr>\n",
       "      <th>25%</th>\n",
       "      <td>1.300000</td>\n",
       "      <td>1126.000000</td>\n",
       "    </tr>\n",
       "    <tr>\n",
       "      <th>50%</th>\n",
       "      <td>6.000000</td>\n",
       "      <td>1260.000000</td>\n",
       "    </tr>\n",
       "    <tr>\n",
       "      <th>75%</th>\n",
       "      <td>10.700000</td>\n",
       "      <td>1379.000000</td>\n",
       "    </tr>\n",
       "    <tr>\n",
       "      <th>max</th>\n",
       "      <td>38.000000</td>\n",
       "      <td>1499.000000</td>\n",
       "    </tr>\n",
       "  </tbody>\n",
       "</table>\n",
       "</div>"
      ],
      "text/plain": [
       "            duration        user_id\n",
       "count  202607.000000  202607.000000\n",
       "mean        6.755887    1253.940619\n",
       "std         5.843365     144.722751\n",
       "min         0.000000    1000.000000\n",
       "25%         1.300000    1126.000000\n",
       "50%         6.000000    1260.000000\n",
       "75%        10.700000    1379.000000\n",
       "max        38.000000    1499.000000"
      ]
     },
     "execution_count": 3,
     "metadata": {},
     "output_type": "execute_result"
    }
   ],
   "source": [
    "df_calls.info() # обзор структуры данных\n",
    "df_calls.describe() # обзор значений ячеек"
   ]
  },
  {
   "cell_type": "markdown",
   "metadata": {},
   "source": [
    "Пропусков нет, разброс значений длительности выглядит правдоподобно. Из описания следует, что звонки с нулевой продолжительностью это не ошибки, так отображены пропущенные звонки, их нужно удалить, чтобы не исказились графики. Тип данных в столбце `call_date` - строковый, на этапе предобработки его нужно перевести в дату.\n",
    "\n",
    "Изучим таблицу `df_internet`. Построим также гистограмму по трафику, чтобы проверить наличие аномалий."
   ]
  },
  {
   "cell_type": "code",
   "execution_count": 4,
   "metadata": {},
   "outputs": [
    {
     "name": "stdout",
     "output_type": "stream",
     "text": [
      "<class 'pandas.core.frame.DataFrame'>\n",
      "RangeIndex: 149396 entries, 0 to 149395\n",
      "Data columns (total 5 columns):\n",
      " #   Column        Non-Null Count   Dtype  \n",
      "---  ------        --------------   -----  \n",
      " 0   Unnamed: 0    149396 non-null  int64  \n",
      " 1   id            149396 non-null  object \n",
      " 2   mb_used       149396 non-null  float64\n",
      " 3   session_date  149396 non-null  object \n",
      " 4   user_id       149396 non-null  int64  \n",
      "dtypes: float64(1), int64(2), object(2)\n",
      "memory usage: 5.7+ MB\n",
      "          Unnamed: 0        mb_used        user_id\n",
      "count  149396.000000  149396.000000  149396.000000\n",
      "mean    74697.500000     370.192426    1252.099842\n",
      "std     43127.054745     278.300951     144.050823\n",
      "min         0.000000       0.000000    1000.000000\n",
      "25%     37348.750000     138.187500    1130.000000\n",
      "50%     74697.500000     348.015000    1251.000000\n",
      "75%    112046.250000     559.552500    1380.000000\n",
      "max    149395.000000    1724.830000    1499.000000\n"
     ]
    },
    {
     "data": {
      "image/png": "[encoded data removed]",
      "text/plain": [
       "<Figure size 432x288 with 1 Axes>"
      ]
     },
     "metadata": {
      "needs_background": "light"
     },
     "output_type": "display_data"
    }
   ],
   "source": [
    "df_internet.info() # обзор структуры данных\n",
    "print(df_internet.describe()) # обзор значений ячеек\n",
    "df_internet['mb_used'].hist(bins=100)\n",
    "plt.show()"
   ]
  },
  {
   "cell_type": "markdown",
   "metadata": {},
   "source": [
    "Пропусков нет, но есть аномалия - много нулевых значений трафика. Вероятно, это неудачные сессии, которые могут исказить исследование, поэтому удалим их.  Также присутствует лишний столбец `Unnamed: 0`, в котором повторяются значения столбца `id`. Тип данных в столбце `session_date` - строковый, на этапе предобработки его нужно перевести в дату, а также удалить лишний столбец и нулевые значения трафика.\n",
    "\n",
    "Изучим таблицу `df_messages`."
   ]
  },
  {
   "cell_type": "code",
   "execution_count": 5,
   "metadata": {},
   "outputs": [
    {
     "name": "stdout",
     "output_type": "stream",
     "text": [
      "<class 'pandas.core.frame.DataFrame'>\n",
      "RangeIndex: 123036 entries, 0 to 123035\n",
      "Data columns (total 3 columns):\n",
      " #   Column        Non-Null Count   Dtype \n",
      "---  ------        --------------   ----- \n",
      " 0   id            123036 non-null  object\n",
      " 1   message_date  123036 non-null  object\n",
      " 2   user_id       123036 non-null  int64 \n",
      "dtypes: int64(1), object(2)\n",
      "memory usage: 2.8+ MB\n"
     ]
    },
    {
     "data": {
      "text/html": [
       "<div>\n",
       "<style scoped>\n",
       "    .dataframe tbody tr th:only-of-type {\n",
       "        vertical-align: middle;\n",
       "    }\n",
       "\n",
       "    .dataframe tbody tr th {\n",
       "        vertical-align: top;\n",
       "    }\n",
       "\n",
       "    .dataframe thead th {\n",
       "        text-align: right;\n",
       "    }\n",
       "</style>\n",
       "<table border=\"1\" class=\"dataframe\">\n",
       "  <thead>\n",
       "    <tr style=\"text-align: right;\">\n",
       "      <th></th>\n",
       "      <th>user_id</th>\n",
       "    </tr>\n",
       "  </thead>\n",
       "  <tbody>\n",
       "    <tr>\n",
       "      <th>count</th>\n",
       "      <td>123036.000000</td>\n",
       "    </tr>\n",
       "    <tr>\n",
       "      <th>mean</th>\n",
       "      <td>1256.989410</td>\n",
       "    </tr>\n",
       "    <tr>\n",
       "      <th>std</th>\n",
       "      <td>143.523967</td>\n",
       "    </tr>\n",
       "    <tr>\n",
       "      <th>min</th>\n",
       "      <td>1000.000000</td>\n",
       "    </tr>\n",
       "    <tr>\n",
       "      <th>25%</th>\n",
       "      <td>1134.000000</td>\n",
       "    </tr>\n",
       "    <tr>\n",
       "      <th>50%</th>\n",
       "      <td>1271.000000</td>\n",
       "    </tr>\n",
       "    <tr>\n",
       "      <th>75%</th>\n",
       "      <td>1381.000000</td>\n",
       "    </tr>\n",
       "    <tr>\n",
       "      <th>max</th>\n",
       "      <td>1499.000000</td>\n",
       "    </tr>\n",
       "  </tbody>\n",
       "</table>\n",
       "</div>"
      ],
      "text/plain": [
       "             user_id\n",
       "count  123036.000000\n",
       "mean     1256.989410\n",
       "std       143.523967\n",
       "min      1000.000000\n",
       "25%      1134.000000\n",
       "50%      1271.000000\n",
       "75%      1381.000000\n",
       "max      1499.000000"
      ]
     },
     "execution_count": 5,
     "metadata": {},
     "output_type": "execute_result"
    }
   ],
   "source": [
    "df_messages.info() # обзор структуры данных\n",
    "df_messages.describe() # обзор значений ячеек"
   ]
  },
  {
   "cell_type": "markdown",
   "metadata": {},
   "source": [
    "Пропусков нет, данные выглядят корректно. Тип данных в столбце `message_date` - строковый, на этапе предобработки его нужно перевести в дату.\n",
    "\n",
    "В столбце `tariffs` мало данных, их не нужно рассматривать отдельно, так как мы убедились, что ошибок нет. Изучим данные в таблице `Users`."
   ]
  },
  {
   "cell_type": "code",
   "execution_count": 6,
   "metadata": {},
   "outputs": [
    {
     "name": "stdout",
     "output_type": "stream",
     "text": [
      "<class 'pandas.core.frame.DataFrame'>\n",
      "RangeIndex: 500 entries, 0 to 499\n",
      "Data columns (total 8 columns):\n",
      " #   Column      Non-Null Count  Dtype \n",
      "---  ------      --------------  ----- \n",
      " 0   user_id     500 non-null    int64 \n",
      " 1   age         500 non-null    int64 \n",
      " 2   churn_date  38 non-null     object\n",
      " 3   city        500 non-null    object\n",
      " 4   first_name  500 non-null    object\n",
      " 5   last_name   500 non-null    object\n",
      " 6   reg_date    500 non-null    object\n",
      " 7   tariff      500 non-null    object\n",
      "dtypes: int64(2), object(6)\n",
      "memory usage: 31.4+ KB\n"
     ]
    },
    {
     "data": {
      "text/html": [
       "<div>\n",
       "<style scoped>\n",
       "    .dataframe tbody tr th:only-of-type {\n",
       "        vertical-align: middle;\n",
       "    }\n",
       "\n",
       "    .dataframe tbody tr th {\n",
       "        vertical-align: top;\n",
       "    }\n",
       "\n",
       "    .dataframe thead th {\n",
       "        text-align: right;\n",
       "    }\n",
       "</style>\n",
       "<table border=\"1\" class=\"dataframe\">\n",
       "  <thead>\n",
       "    <tr style=\"text-align: right;\">\n",
       "      <th></th>\n",
       "      <th>user_id</th>\n",
       "      <th>age</th>\n",
       "    </tr>\n",
       "  </thead>\n",
       "  <tbody>\n",
       "    <tr>\n",
       "      <th>count</th>\n",
       "      <td>500.000000</td>\n",
       "      <td>500.00000</td>\n",
       "    </tr>\n",
       "    <tr>\n",
       "      <th>mean</th>\n",
       "      <td>1249.500000</td>\n",
       "      <td>46.58800</td>\n",
       "    </tr>\n",
       "    <tr>\n",
       "      <th>std</th>\n",
       "      <td>144.481833</td>\n",
       "      <td>16.66763</td>\n",
       "    </tr>\n",
       "    <tr>\n",
       "      <th>min</th>\n",
       "      <td>1000.000000</td>\n",
       "      <td>18.00000</td>\n",
       "    </tr>\n",
       "    <tr>\n",
       "      <th>25%</th>\n",
       "      <td>1124.750000</td>\n",
       "      <td>32.00000</td>\n",
       "    </tr>\n",
       "    <tr>\n",
       "      <th>50%</th>\n",
       "      <td>1249.500000</td>\n",
       "      <td>46.00000</td>\n",
       "    </tr>\n",
       "    <tr>\n",
       "      <th>75%</th>\n",
       "      <td>1374.250000</td>\n",
       "      <td>62.00000</td>\n",
       "    </tr>\n",
       "    <tr>\n",
       "      <th>max</th>\n",
       "      <td>1499.000000</td>\n",
       "      <td>75.00000</td>\n",
       "    </tr>\n",
       "  </tbody>\n",
       "</table>\n",
       "</div>"
      ],
      "text/plain": [
       "           user_id        age\n",
       "count   500.000000  500.00000\n",
       "mean   1249.500000   46.58800\n",
       "std     144.481833   16.66763\n",
       "min    1000.000000   18.00000\n",
       "25%    1124.750000   32.00000\n",
       "50%    1249.500000   46.00000\n",
       "75%    1374.250000   62.00000\n",
       "max    1499.000000   75.00000"
      ]
     },
     "execution_count": 6,
     "metadata": {},
     "output_type": "execute_result"
    }
   ],
   "source": [
    "df_users.info() # обзор структуры данных\n",
    "df_users.describe() # обзор значений ячеек"
   ]
  },
  {
   "cell_type": "markdown",
   "metadata": {},
   "source": [
    "Данные выглядят корректно, аномалий нет. Из описания следует, что пропуски в столбце `churn_date` (дата прекращения пользования тарифом) это не ошибка. Если значение пропущено, то тариф ещё действовал на момент выгрузки данных. Тип данных в столбцах `churn_date` `reg_date` - строковый, на этапе предобработки его нужно поменять на дату."
   ]
  },
  {
   "cell_type": "markdown",
   "metadata": {},
   "source": [
    "### Вывод\n",
    "\n",
    "В данных нет пропусков, но найдена аномалия - множество нулевых значений трафика, которые нужно удалить в таблице `df_internet`. Поступим аналогичным способом с нулевой длительностью звонков в таблице `calls`.\n",
    "\n",
    "В следующих таблицах нужно сделать перевод из строки в дату:\n",
    "\n",
    "1. В `df_calls` столбец `call_date`.\n",
    "2. В `df_internet` столбец `session_date`.\n",
    "3. В `df_messages` столбец `message_date`.\n",
    "4. В `df_users` столбцы `churn_date` и `reg_date`.\n",
    "\n",
    "Также нужно будет удалить лишний столбец `Unnamed: 0` из таблицы `df_internet`."
   ]
  },
  {
   "cell_type": "markdown",
   "metadata": {},
   "source": [
    "## Предобработка данных"
   ]
  },
  {
   "cell_type": "markdown",
   "metadata": {},
   "source": [
    "В первую очередь избавимся от нулевых значений трафика."
   ]
  },
  {
   "cell_type": "code",
   "execution_count": 7,
   "metadata": {},
   "outputs": [],
   "source": [
    "df_internet = df_internet.query('mb_used > 0') # удаление нулевых \n",
    "df_calls = df_calls.query('duration > 0') # значений через срез"
   ]
  },
  {
   "cell_type": "markdown",
   "metadata": {},
   "source": [
    "Переведем строки в даты. И проверим результат на таблице `df_internet`."
   ]
  },
  {
   "cell_type": "code",
   "execution_count": 8,
   "metadata": {},
   "outputs": [
    {
     "name": "stdout",
     "output_type": "stream",
     "text": [
      "<class 'pandas.core.frame.DataFrame'>\n",
      "Int64Index: 129798 entries, 0 to 149395\n",
      "Data columns (total 4 columns):\n",
      " #   Column        Non-Null Count   Dtype         \n",
      "---  ------        --------------   -----         \n",
      " 0   id            129798 non-null  object        \n",
      " 1   mb_used       129798 non-null  float64       \n",
      " 2   session_date  129798 non-null  datetime64[ns]\n",
      " 3   user_id       129798 non-null  int64         \n",
      "dtypes: datetime64[ns](1), float64(1), int64(1), object(1)\n",
      "memory usage: 5.0+ MB\n"
     ]
    }
   ],
   "source": [
    "df_calls['call_date'] = pd.to_datetime(df_calls['call_date'], format='%Y.%m.%d') # перевод строк в формат даты\n",
    "df_internet['session_date'] = pd.to_datetime(df_internet['session_date'], format='%Y.%m.%d')   \n",
    "df_messages['message_date'] = pd.to_datetime(df_messages['message_date'], format='%Y.%m.%d')\n",
    "df_users['churn_date'] = pd.to_datetime(df_users['churn_date'], format='%Y.%m.%d')\n",
    "df_users['reg_date'] = pd.to_datetime(df_users['reg_date'], format='%Y.%m.%d')\n",
    "\n",
    "df_internet = df_internet.drop(columns = ['Unnamed: 0'], axis=1) # удаление столбца\n",
    "df_internet.info()"
   ]
  },
  {
   "cell_type": "markdown",
   "metadata": {},
   "source": [
    "Тип данных отображается корректно, лишний столбец удален. Проверим наличие явных дубликатов в таблицах."
   ]
  },
  {
   "cell_type": "code",
   "execution_count": 9,
   "metadata": {},
   "outputs": [
    {
     "name": "stdout",
     "output_type": "stream",
     "text": [
      "0\n",
      "0\n",
      "0\n",
      "0\n"
     ]
    }
   ],
   "source": [
    "list_df = [df_calls, df_internet, df_messages, df_users] # список столбцов\n",
    "\n",
    "for df in list_df: # цикл проверки на дубликаты\n",
    "    print(df.duplicated().sum())"
   ]
  },
  {
   "cell_type": "markdown",
   "metadata": {},
   "source": [
    "Дубликатов нет, на этом этап предобработки данных закончен."
   ]
  },
  {
   "cell_type": "markdown",
   "metadata": {},
   "source": [
    "## Подготовка данных\n",
    "\n",
    "На этом этапе необходимо посчитать для каждого пользователя:\n",
    "1. Количество сделанных звонков и израсходованных минут разговора по месяцам.\n",
    "2. Количество отправленных сообщений по месяцам.\n",
    "3. Объем израсходованного интернет-трафика по месяцам.\n",
    "4. Помесячную выручку с каждого пользователя.\n",
    "\n",
    "Добавим к таблицам столбец с месяцем."
   ]
  },
  {
   "cell_type": "code",
   "execution_count": 10,
   "metadata": {},
   "outputs": [],
   "source": [
    "df_calls['month'] = pd.DatetimeIndex(df_calls['call_date']).month # создание столбца с месяцем\n",
    "df_internet['month'] = pd.DatetimeIndex(df_internet['session_date']).month\n",
    "df_messages['month'] = pd.DatetimeIndex(df_messages['message_date']).month"
   ]
  },
  {
   "cell_type": "markdown",
   "metadata": {},
   "source": [
    "Перед тем, как группировать данные, округлим длительность до минут, согласно условиям тарифа."
   ]
  },
  {
   "cell_type": "code",
   "execution_count": 11,
   "metadata": {},
   "outputs": [],
   "source": [
    "df_calls['duration'] = np.ceil(df_calls['duration']) # округление до верхнего значения"
   ]
  },
  {
   "cell_type": "markdown",
   "metadata": {},
   "source": [
    "Сгруппируем таблицы по каждому пользователю и посчитаем по месяцам количество звонков, минут, сообщений и трафик. После этого, округлим траффик за месяц до гигабайт, согласно условиям тарифа. В таблице `df_tariffs` переведем мегабайты в гигабайты для дальнейших расчетов."
   ]
  },
  {
   "cell_type": "code",
   "execution_count": 12,
   "metadata": {},
   "outputs": [],
   "source": [
    "df_calls_count = df_calls.groupby(['user_id', 'month'])['id'].count().reset_index() # группировка столбцов\n",
    "df_calls_duration = df_calls.groupby(['user_id', 'month'])['duration'].sum().reset_index()\n",
    "df_messages_count = df_messages.groupby(['user_id', 'month'])['id'].count().reset_index()\n",
    "df_internet_count = df_internet.groupby(['user_id', 'month'])['mb_used'].sum().reset_index()\n",
    "\n",
    "df_internet_count['mb_used'] = np.ceil(df_internet_count['mb_used'] / 1024) # округление до гигабайт\n",
    "df_tariffs['mb_per_month_included'] = df_tariffs['mb_per_month_included'] / 1024"
   ]
  },
  {
   "cell_type": "markdown",
   "metadata": {},
   "source": [
    "Последовательно объединим сгруппированые таблицы в одну общую и выведем промежуточную таблицу на экран, чтобы проверить результат."
   ]
  },
  {
   "cell_type": "code",
   "execution_count": 13,
   "metadata": {
    "scrolled": true
   },
   "outputs": [
    {
     "data": {
      "text/html": [
       "<div>\n",
       "<style scoped>\n",
       "    .dataframe tbody tr th:only-of-type {\n",
       "        vertical-align: middle;\n",
       "    }\n",
       "\n",
       "    .dataframe tbody tr th {\n",
       "        vertical-align: top;\n",
       "    }\n",
       "\n",
       "    .dataframe thead th {\n",
       "        text-align: right;\n",
       "    }\n",
       "</style>\n",
       "<table border=\"1\" class=\"dataframe\">\n",
       "  <thead>\n",
       "    <tr style=\"text-align: right;\">\n",
       "      <th></th>\n",
       "      <th>user_id</th>\n",
       "      <th>month</th>\n",
       "      <th>id_x</th>\n",
       "      <th>duration</th>\n",
       "      <th>id_y</th>\n",
       "      <th>mb_used</th>\n",
       "    </tr>\n",
       "  </thead>\n",
       "  <tbody>\n",
       "    <tr>\n",
       "      <th>0</th>\n",
       "      <td>1000</td>\n",
       "      <td>5</td>\n",
       "      <td>17.0</td>\n",
       "      <td>159.0</td>\n",
       "      <td>22.0</td>\n",
       "      <td>3.0</td>\n",
       "    </tr>\n",
       "    <tr>\n",
       "      <th>1</th>\n",
       "      <td>1000</td>\n",
       "      <td>6</td>\n",
       "      <td>28.0</td>\n",
       "      <td>172.0</td>\n",
       "      <td>60.0</td>\n",
       "      <td>23.0</td>\n",
       "    </tr>\n",
       "    <tr>\n",
       "      <th>2</th>\n",
       "      <td>1000</td>\n",
       "      <td>7</td>\n",
       "      <td>41.0</td>\n",
       "      <td>340.0</td>\n",
       "      <td>75.0</td>\n",
       "      <td>14.0</td>\n",
       "    </tr>\n",
       "    <tr>\n",
       "      <th>3</th>\n",
       "      <td>1000</td>\n",
       "      <td>8</td>\n",
       "      <td>42.0</td>\n",
       "      <td>408.0</td>\n",
       "      <td>81.0</td>\n",
       "      <td>14.0</td>\n",
       "    </tr>\n",
       "    <tr>\n",
       "      <th>4</th>\n",
       "      <td>1000</td>\n",
       "      <td>9</td>\n",
       "      <td>46.0</td>\n",
       "      <td>466.0</td>\n",
       "      <td>57.0</td>\n",
       "      <td>15.0</td>\n",
       "    </tr>\n",
       "  </tbody>\n",
       "</table>\n",
       "</div>"
      ],
      "text/plain": [
       "   user_id  month  id_x  duration  id_y  mb_used\n",
       "0     1000      5  17.0     159.0  22.0      3.0\n",
       "1     1000      6  28.0     172.0  60.0     23.0\n",
       "2     1000      7  41.0     340.0  75.0     14.0\n",
       "3     1000      8  42.0     408.0  81.0     14.0\n",
       "4     1000      9  46.0     466.0  57.0     15.0"
      ]
     },
     "metadata": {},
     "output_type": "display_data"
    }
   ],
   "source": [
    "df_1 = df_calls_count.merge(df_calls_duration, on=['user_id', 'month'], how='outer') # объединение таблиц\n",
    "df_2 = df_1.merge(df_messages_count, on=['user_id', 'month'], how='outer')\n",
    "df_3 = df_2.merge(df_internet_count, on=['user_id', 'month'], how='outer')\n",
    "display(df_3.head())"
   ]
  },
  {
   "cell_type": "markdown",
   "metadata": {},
   "source": [
    "Таблицы объединены корректно, но нужно переименовать столбцы `id_x`, `id_y` и `mb_used` на звонки, сообщения и интернет-траффик для дальнейших расчетов выручки. Объединим промежуточную таблицу с таблицой `df_users`. Также переименуем столбец с названием тарифа в таблице `df_users` для того, чтобы был общий столбец с таблицей `df_tariffs`. Объединим таблицы в общую и выведем результат на экран."
   ]
  },
  {
   "cell_type": "code",
   "execution_count": 14,
   "metadata": {},
   "outputs": [
    {
     "data": {
      "text/html": [
       "<div>\n",
       "<style scoped>\n",
       "    .dataframe tbody tr th:only-of-type {\n",
       "        vertical-align: middle;\n",
       "    }\n",
       "\n",
       "    .dataframe tbody tr th {\n",
       "        vertical-align: top;\n",
       "    }\n",
       "\n",
       "    .dataframe thead th {\n",
       "        text-align: right;\n",
       "    }\n",
       "</style>\n",
       "<table border=\"1\" class=\"dataframe\">\n",
       "  <thead>\n",
       "    <tr style=\"text-align: right;\">\n",
       "      <th></th>\n",
       "      <th>user_id</th>\n",
       "      <th>month</th>\n",
       "      <th>calls</th>\n",
       "      <th>duration</th>\n",
       "      <th>messages</th>\n",
       "      <th>gb_used</th>\n",
       "      <th>age</th>\n",
       "      <th>churn_date</th>\n",
       "      <th>city</th>\n",
       "      <th>first_name</th>\n",
       "      <th>last_name</th>\n",
       "      <th>reg_date</th>\n",
       "      <th>tariff_name</th>\n",
       "      <th>messages_included</th>\n",
       "      <th>gb_per_month_included</th>\n",
       "      <th>minutes_included</th>\n",
       "      <th>rub_monthly_fee</th>\n",
       "      <th>rub_per_gb</th>\n",
       "      <th>rub_per_message</th>\n",
       "      <th>rub_per_minute</th>\n",
       "    </tr>\n",
       "  </thead>\n",
       "  <tbody>\n",
       "    <tr>\n",
       "      <th>0</th>\n",
       "      <td>1000</td>\n",
       "      <td>5.0</td>\n",
       "      <td>17.0</td>\n",
       "      <td>159.0</td>\n",
       "      <td>22.0</td>\n",
       "      <td>3.0</td>\n",
       "      <td>52</td>\n",
       "      <td>NaT</td>\n",
       "      <td>Краснодар</td>\n",
       "      <td>Рафаил</td>\n",
       "      <td>Верещагин</td>\n",
       "      <td>2018-05-25</td>\n",
       "      <td>ultra</td>\n",
       "      <td>1000</td>\n",
       "      <td>30.0</td>\n",
       "      <td>3000</td>\n",
       "      <td>1950</td>\n",
       "      <td>150</td>\n",
       "      <td>1</td>\n",
       "      <td>1</td>\n",
       "    </tr>\n",
       "    <tr>\n",
       "      <th>1</th>\n",
       "      <td>1000</td>\n",
       "      <td>6.0</td>\n",
       "      <td>28.0</td>\n",
       "      <td>172.0</td>\n",
       "      <td>60.0</td>\n",
       "      <td>23.0</td>\n",
       "      <td>52</td>\n",
       "      <td>NaT</td>\n",
       "      <td>Краснодар</td>\n",
       "      <td>Рафаил</td>\n",
       "      <td>Верещагин</td>\n",
       "      <td>2018-05-25</td>\n",
       "      <td>ultra</td>\n",
       "      <td>1000</td>\n",
       "      <td>30.0</td>\n",
       "      <td>3000</td>\n",
       "      <td>1950</td>\n",
       "      <td>150</td>\n",
       "      <td>1</td>\n",
       "      <td>1</td>\n",
       "    </tr>\n",
       "    <tr>\n",
       "      <th>2</th>\n",
       "      <td>1000</td>\n",
       "      <td>7.0</td>\n",
       "      <td>41.0</td>\n",
       "      <td>340.0</td>\n",
       "      <td>75.0</td>\n",
       "      <td>14.0</td>\n",
       "      <td>52</td>\n",
       "      <td>NaT</td>\n",
       "      <td>Краснодар</td>\n",
       "      <td>Рафаил</td>\n",
       "      <td>Верещагин</td>\n",
       "      <td>2018-05-25</td>\n",
       "      <td>ultra</td>\n",
       "      <td>1000</td>\n",
       "      <td>30.0</td>\n",
       "      <td>3000</td>\n",
       "      <td>1950</td>\n",
       "      <td>150</td>\n",
       "      <td>1</td>\n",
       "      <td>1</td>\n",
       "    </tr>\n",
       "    <tr>\n",
       "      <th>3</th>\n",
       "      <td>1000</td>\n",
       "      <td>8.0</td>\n",
       "      <td>42.0</td>\n",
       "      <td>408.0</td>\n",
       "      <td>81.0</td>\n",
       "      <td>14.0</td>\n",
       "      <td>52</td>\n",
       "      <td>NaT</td>\n",
       "      <td>Краснодар</td>\n",
       "      <td>Рафаил</td>\n",
       "      <td>Верещагин</td>\n",
       "      <td>2018-05-25</td>\n",
       "      <td>ultra</td>\n",
       "      <td>1000</td>\n",
       "      <td>30.0</td>\n",
       "      <td>3000</td>\n",
       "      <td>1950</td>\n",
       "      <td>150</td>\n",
       "      <td>1</td>\n",
       "      <td>1</td>\n",
       "    </tr>\n",
       "    <tr>\n",
       "      <th>4</th>\n",
       "      <td>1000</td>\n",
       "      <td>9.0</td>\n",
       "      <td>46.0</td>\n",
       "      <td>466.0</td>\n",
       "      <td>57.0</td>\n",
       "      <td>15.0</td>\n",
       "      <td>52</td>\n",
       "      <td>NaT</td>\n",
       "      <td>Краснодар</td>\n",
       "      <td>Рафаил</td>\n",
       "      <td>Верещагин</td>\n",
       "      <td>2018-05-25</td>\n",
       "      <td>ultra</td>\n",
       "      <td>1000</td>\n",
       "      <td>30.0</td>\n",
       "      <td>3000</td>\n",
       "      <td>1950</td>\n",
       "      <td>150</td>\n",
       "      <td>1</td>\n",
       "      <td>1</td>\n",
       "    </tr>\n",
       "  </tbody>\n",
       "</table>\n",
       "</div>"
      ],
      "text/plain": [
       "   user_id  month  calls  duration  messages  gb_used  age churn_date  \\\n",
       "0     1000    5.0   17.0     159.0      22.0      3.0   52        NaT   \n",
       "1     1000    6.0   28.0     172.0      60.0     23.0   52        NaT   \n",
       "2     1000    7.0   41.0     340.0      75.0     14.0   52        NaT   \n",
       "3     1000    8.0   42.0     408.0      81.0     14.0   52        NaT   \n",
       "4     1000    9.0   46.0     466.0      57.0     15.0   52        NaT   \n",
       "\n",
       "        city first_name  last_name   reg_date tariff_name  messages_included  \\\n",
       "0  Краснодар     Рафаил  Верещагин 2018-05-25       ultra               1000   \n",
       "1  Краснодар     Рафаил  Верещагин 2018-05-25       ultra               1000   \n",
       "2  Краснодар     Рафаил  Верещагин 2018-05-25       ultra               1000   \n",
       "3  Краснодар     Рафаил  Верещагин 2018-05-25       ultra               1000   \n",
       "4  Краснодар     Рафаил  Верещагин 2018-05-25       ultra               1000   \n",
       "\n",
       "   gb_per_month_included  minutes_included  rub_monthly_fee  rub_per_gb  \\\n",
       "0                   30.0              3000             1950         150   \n",
       "1                   30.0              3000             1950         150   \n",
       "2                   30.0              3000             1950         150   \n",
       "3                   30.0              3000             1950         150   \n",
       "4                   30.0              3000             1950         150   \n",
       "\n",
       "   rub_per_message  rub_per_minute  \n",
       "0                1               1  \n",
       "1                1               1  \n",
       "2                1               1  \n",
       "3                1               1  \n",
       "4                1               1  "
      ]
     },
     "metadata": {},
     "output_type": "display_data"
    }
   ],
   "source": [
    "df_4 = df_3.merge(df_users, on=['user_id'], how='outer') # объединение таблиц\n",
    "\n",
    "df_4 = df_4.rename(columns={ # переименование столбцов\n",
    "    'id_x': 'calls', 'id_y': 'messages',\n",
    "    'mb_used': 'gb_used', 'tariff': 'tariff_name',\n",
    "})\n",
    "\n",
    "df = df_4.merge(df_tariffs, on=['tariff_name'], how='outer').rename(columns={'mb_per_month_included': 'gb_per_month_included'})\n",
    "display(df.head())"
   ]
  },
  {
   "cell_type": "markdown",
   "metadata": {},
   "source": [
    "Посчитаем помесячную выручку для каждого клиента. Нам нужно вычесть бесплатный лимит из суммарного количества звонков, сообщений и интернет-трафика остаток умножить на значение из тарифного плана, прибавить абонентскую плату, соответствующую тарифному плану.\n",
    "\n",
    "Напишем функцию, которая посчитает, есть ли расходы сверх пакетов звонков, смс и трафика. Если есть, то умножим эти значения на стоимость по тарифу. Сложим стоимость превышенных услуг с абонентской платой по тарифу. Запишем выручку в новый столбец `profit`."
   ]
  },
  {
   "cell_type": "code",
   "execution_count": 15,
   "metadata": {
    "scrolled": true
   },
   "outputs": [
    {
     "data": {
      "text/html": [
       "<div>\n",
       "<style scoped>\n",
       "    .dataframe tbody tr th:only-of-type {\n",
       "        vertical-align: middle;\n",
       "    }\n",
       "\n",
       "    .dataframe tbody tr th {\n",
       "        vertical-align: top;\n",
       "    }\n",
       "\n",
       "    .dataframe thead th {\n",
       "        text-align: right;\n",
       "    }\n",
       "</style>\n",
       "<table border=\"1\" class=\"dataframe\">\n",
       "  <thead>\n",
       "    <tr style=\"text-align: right;\">\n",
       "      <th></th>\n",
       "      <th>user_id</th>\n",
       "      <th>month</th>\n",
       "      <th>calls</th>\n",
       "      <th>duration</th>\n",
       "      <th>messages</th>\n",
       "      <th>gb_used</th>\n",
       "      <th>age</th>\n",
       "      <th>churn_date</th>\n",
       "      <th>city</th>\n",
       "      <th>first_name</th>\n",
       "      <th>...</th>\n",
       "      <th>reg_date</th>\n",
       "      <th>tariff_name</th>\n",
       "      <th>messages_included</th>\n",
       "      <th>gb_per_month_included</th>\n",
       "      <th>minutes_included</th>\n",
       "      <th>rub_monthly_fee</th>\n",
       "      <th>rub_per_gb</th>\n",
       "      <th>rub_per_message</th>\n",
       "      <th>rub_per_minute</th>\n",
       "      <th>profit</th>\n",
       "    </tr>\n",
       "  </thead>\n",
       "  <tbody>\n",
       "    <tr>\n",
       "      <th>0</th>\n",
       "      <td>1000</td>\n",
       "      <td>5.0</td>\n",
       "      <td>17.0</td>\n",
       "      <td>159.0</td>\n",
       "      <td>22.0</td>\n",
       "      <td>3.0</td>\n",
       "      <td>52</td>\n",
       "      <td>NaT</td>\n",
       "      <td>Краснодар</td>\n",
       "      <td>Рафаил</td>\n",
       "      <td>...</td>\n",
       "      <td>2018-05-25</td>\n",
       "      <td>ultra</td>\n",
       "      <td>1000</td>\n",
       "      <td>30.0</td>\n",
       "      <td>3000</td>\n",
       "      <td>1950</td>\n",
       "      <td>150</td>\n",
       "      <td>1</td>\n",
       "      <td>1</td>\n",
       "      <td>1950.0</td>\n",
       "    </tr>\n",
       "    <tr>\n",
       "      <th>1</th>\n",
       "      <td>1000</td>\n",
       "      <td>6.0</td>\n",
       "      <td>28.0</td>\n",
       "      <td>172.0</td>\n",
       "      <td>60.0</td>\n",
       "      <td>23.0</td>\n",
       "      <td>52</td>\n",
       "      <td>NaT</td>\n",
       "      <td>Краснодар</td>\n",
       "      <td>Рафаил</td>\n",
       "      <td>...</td>\n",
       "      <td>2018-05-25</td>\n",
       "      <td>ultra</td>\n",
       "      <td>1000</td>\n",
       "      <td>30.0</td>\n",
       "      <td>3000</td>\n",
       "      <td>1950</td>\n",
       "      <td>150</td>\n",
       "      <td>1</td>\n",
       "      <td>1</td>\n",
       "      <td>1950.0</td>\n",
       "    </tr>\n",
       "    <tr>\n",
       "      <th>2</th>\n",
       "      <td>1000</td>\n",
       "      <td>7.0</td>\n",
       "      <td>41.0</td>\n",
       "      <td>340.0</td>\n",
       "      <td>75.0</td>\n",
       "      <td>14.0</td>\n",
       "      <td>52</td>\n",
       "      <td>NaT</td>\n",
       "      <td>Краснодар</td>\n",
       "      <td>Рафаил</td>\n",
       "      <td>...</td>\n",
       "      <td>2018-05-25</td>\n",
       "      <td>ultra</td>\n",
       "      <td>1000</td>\n",
       "      <td>30.0</td>\n",
       "      <td>3000</td>\n",
       "      <td>1950</td>\n",
       "      <td>150</td>\n",
       "      <td>1</td>\n",
       "      <td>1</td>\n",
       "      <td>1950.0</td>\n",
       "    </tr>\n",
       "    <tr>\n",
       "      <th>3</th>\n",
       "      <td>1000</td>\n",
       "      <td>8.0</td>\n",
       "      <td>42.0</td>\n",
       "      <td>408.0</td>\n",
       "      <td>81.0</td>\n",
       "      <td>14.0</td>\n",
       "      <td>52</td>\n",
       "      <td>NaT</td>\n",
       "      <td>Краснодар</td>\n",
       "      <td>Рафаил</td>\n",
       "      <td>...</td>\n",
       "      <td>2018-05-25</td>\n",
       "      <td>ultra</td>\n",
       "      <td>1000</td>\n",
       "      <td>30.0</td>\n",
       "      <td>3000</td>\n",
       "      <td>1950</td>\n",
       "      <td>150</td>\n",
       "      <td>1</td>\n",
       "      <td>1</td>\n",
       "      <td>1950.0</td>\n",
       "    </tr>\n",
       "    <tr>\n",
       "      <th>4</th>\n",
       "      <td>1000</td>\n",
       "      <td>9.0</td>\n",
       "      <td>46.0</td>\n",
       "      <td>466.0</td>\n",
       "      <td>57.0</td>\n",
       "      <td>15.0</td>\n",
       "      <td>52</td>\n",
       "      <td>NaT</td>\n",
       "      <td>Краснодар</td>\n",
       "      <td>Рафаил</td>\n",
       "      <td>...</td>\n",
       "      <td>2018-05-25</td>\n",
       "      <td>ultra</td>\n",
       "      <td>1000</td>\n",
       "      <td>30.0</td>\n",
       "      <td>3000</td>\n",
       "      <td>1950</td>\n",
       "      <td>150</td>\n",
       "      <td>1</td>\n",
       "      <td>1</td>\n",
       "      <td>1950.0</td>\n",
       "    </tr>\n",
       "  </tbody>\n",
       "</table>\n",
       "<p>5 rows × 21 columns</p>\n",
       "</div>"
      ],
      "text/plain": [
       "   user_id  month  calls  duration  messages  gb_used  age churn_date  \\\n",
       "0     1000    5.0   17.0     159.0      22.0      3.0   52        NaT   \n",
       "1     1000    6.0   28.0     172.0      60.0     23.0   52        NaT   \n",
       "2     1000    7.0   41.0     340.0      75.0     14.0   52        NaT   \n",
       "3     1000    8.0   42.0     408.0      81.0     14.0   52        NaT   \n",
       "4     1000    9.0   46.0     466.0      57.0     15.0   52        NaT   \n",
       "\n",
       "        city first_name  ...   reg_date tariff_name messages_included  \\\n",
       "0  Краснодар     Рафаил  ... 2018-05-25       ultra              1000   \n",
       "1  Краснодар     Рафаил  ... 2018-05-25       ultra              1000   \n",
       "2  Краснодар     Рафаил  ... 2018-05-25       ultra              1000   \n",
       "3  Краснодар     Рафаил  ... 2018-05-25       ultra              1000   \n",
       "4  Краснодар     Рафаил  ... 2018-05-25       ultra              1000   \n",
       "\n",
       "   gb_per_month_included  minutes_included  rub_monthly_fee  rub_per_gb  \\\n",
       "0                   30.0              3000             1950         150   \n",
       "1                   30.0              3000             1950         150   \n",
       "2                   30.0              3000             1950         150   \n",
       "3                   30.0              3000             1950         150   \n",
       "4                   30.0              3000             1950         150   \n",
       "\n",
       "   rub_per_message  rub_per_minute  profit  \n",
       "0                1               1  1950.0  \n",
       "1                1               1  1950.0  \n",
       "2                1               1  1950.0  \n",
       "3                1               1  1950.0  \n",
       "4                1               1  1950.0  \n",
       "\n",
       "[5 rows x 21 columns]"
      ]
     },
     "metadata": {},
     "output_type": "display_data"
    }
   ],
   "source": [
    "def profit(row): # функция расчета выручки\n",
    "    calls_cost = 0\n",
    "    sms_cost = 0\n",
    "    gb_cost = 0\n",
    "    if (row['duration'] - row['minutes_included']) > 0:\n",
    "        calls_cost = (row['duration'] - row['minutes_included']) * row['rub_per_minute']\n",
    "    if (row['messages'] - row['messages_included']) > 0:\n",
    "        sms_cost = (row['messages'] - row['messages_included']) * row['rub_per_message']\n",
    "    if (row['gb_used'] - row['gb_per_month_included']) > 0:\n",
    "        gb_cost = (row['gb_used'] - row['gb_per_month_included']) * row['rub_per_gb']\n",
    "    result = calls_cost + sms_cost + gb_cost + row['rub_monthly_fee']\n",
    "    return result\n",
    "        \n",
    "    \n",
    "df['profit'] = df.apply(profit, axis=1) # применение функции и создание столбца с выручкой\n",
    "\n",
    "display(df.head()) # вывод на экран"
   ]
  },
  {
   "cell_type": "code",
   "execution_count": 16,
   "metadata": {},
   "outputs": [
    {
     "name": "stdout",
     "output_type": "stream",
     "text": [
      "<class 'pandas.core.frame.DataFrame'>\n",
      "Int64Index: 3216 entries, 0 to 3215\n",
      "Data columns (total 21 columns):\n",
      " #   Column                 Non-Null Count  Dtype         \n",
      "---  ------                 --------------  -----         \n",
      " 0   user_id                3216 non-null   int64         \n",
      " 1   month                  3214 non-null   float64       \n",
      " 2   calls                  3168 non-null   float64       \n",
      " 3   duration               3168 non-null   float64       \n",
      " 4   messages               2717 non-null   float64       \n",
      " 5   gb_used                3201 non-null   float64       \n",
      " 6   age                    3216 non-null   int64         \n",
      " 7   churn_date             189 non-null    datetime64[ns]\n",
      " 8   city                   3216 non-null   object        \n",
      " 9   first_name             3216 non-null   object        \n",
      " 10  last_name              3216 non-null   object        \n",
      " 11  reg_date               3216 non-null   datetime64[ns]\n",
      " 12  tariff_name            3216 non-null   object        \n",
      " 13  messages_included      3216 non-null   int64         \n",
      " 14  gb_per_month_included  3216 non-null   float64       \n",
      " 15  minutes_included       3216 non-null   int64         \n",
      " 16  rub_monthly_fee        3216 non-null   int64         \n",
      " 17  rub_per_gb             3216 non-null   int64         \n",
      " 18  rub_per_message        3216 non-null   int64         \n",
      " 19  rub_per_minute         3216 non-null   int64         \n",
      " 20  profit                 3216 non-null   float64       \n",
      "dtypes: datetime64[ns](2), float64(7), int64(8), object(4)\n",
      "memory usage: 552.8+ KB\n"
     ]
    }
   ],
   "source": [
    "# Комментарий ревьюера\n",
    "df.info()"
   ]
  },
  {
   "cell_type": "markdown",
   "metadata": {},
   "source": [
    "Проверим пропущенные значения в столбцах и посчитаем процентное соотношение пропусков от всего датасета."
   ]
  },
  {
   "cell_type": "code",
   "execution_count": 17,
   "metadata": {
    "scrolled": false
   },
   "outputs": [
    {
     "data": {
      "text/plain": [
       "user_id                   0.000000\n",
       "month                     0.062189\n",
       "calls                     1.492537\n",
       "duration                  1.492537\n",
       "messages                 15.516169\n",
       "gb_used                   0.466418\n",
       "age                       0.000000\n",
       "churn_date               94.123134\n",
       "city                      0.000000\n",
       "first_name                0.000000\n",
       "last_name                 0.000000\n",
       "reg_date                  0.000000\n",
       "tariff_name               0.000000\n",
       "messages_included         0.000000\n",
       "gb_per_month_included     0.000000\n",
       "minutes_included          0.000000\n",
       "rub_monthly_fee           0.000000\n",
       "rub_per_gb                0.000000\n",
       "rub_per_message           0.000000\n",
       "rub_per_minute            0.000000\n",
       "profit                    0.000000\n",
       "dtype: float64"
      ]
     },
     "execution_count": 17,
     "metadata": {},
     "output_type": "execute_result"
    }
   ],
   "source": [
    "df.isna().sum() / len(df) * 100"
   ]
  },
  {
   "cell_type": "markdown",
   "metadata": {},
   "source": [
    "Больше всего пропупусков в столбце `churn_date`, но из описания следует, что пропуски  (дата прекращения пользования тарифом) это не ошибка. Если значение пропущено, то тариф ещё действовал на момент выгрузки данных. В столбцах `calls` и `duration` одинаковый процент пропусков, что говорит об отсутствии звоноков пользователя. Аналогичная ситуация с пропусками в столбце `messages` и `gb_used`. Заменим пропуски нулями. В столбце `month` пропущенных значений менее 1% от всего датасета, их можно удалить. Проверим результат."
   ]
  },
  {
   "cell_type": "code",
   "execution_count": 18,
   "metadata": {},
   "outputs": [
    {
     "data": {
      "text/plain": [
       "user_id                   0.000000\n",
       "month                     0.000000\n",
       "calls                     0.000000\n",
       "duration                  0.000000\n",
       "messages                  0.000000\n",
       "gb_used                   0.000000\n",
       "age                       0.000000\n",
       "churn_date               94.181705\n",
       "city                      0.000000\n",
       "first_name                0.000000\n",
       "last_name                 0.000000\n",
       "reg_date                  0.000000\n",
       "tariff_name               0.000000\n",
       "messages_included         0.000000\n",
       "gb_per_month_included     0.000000\n",
       "minutes_included          0.000000\n",
       "rub_monthly_fee           0.000000\n",
       "rub_per_gb                0.000000\n",
       "rub_per_message           0.000000\n",
       "rub_per_minute            0.000000\n",
       "profit                    0.000000\n",
       "dtype: float64"
      ]
     },
     "execution_count": 18,
     "metadata": {},
     "output_type": "execute_result"
    }
   ],
   "source": [
    "df = df.dropna(subset=['month']) # удаление пропусков\n",
    "\n",
    "list_nan = ['calls', 'duration', 'messages', 'gb_used'] # список столбцов\n",
    "for col in list_nan: # цикл для замены пропусков нулями\n",
    "    df[col] = df[col].fillna(0)\n",
    "    \n",
    "    \n",
    "df.isna().sum() / len(df) * 100"
   ]
  },
  {
   "cell_type": "markdown",
   "metadata": {},
   "source": [
    "Мы собрали все необходимые данные в одну таблицу и провели расчеты. Теперь, когда данные подготовлены, можно приступать к исследованию."
   ]
  },
  {
   "cell_type": "markdown",
   "metadata": {},
   "source": [
    "## Анализ данных\n",
    "\n",
    "На этом этапе необходимо описать поведение клиентов оператора, исходя из выборки. \n",
    "\n",
    "1. Нужно выяснить сколько требуется пользователям каждого тарифа в месяц:\n",
    "    * минут разговора\n",
    "    * сообщений\n",
    "    * объём интернет-трафика\n",
    "    \n",
    "    \n",
    "2. Посчитать:\n",
    "    * среднее\n",
    "    * стандартное отклонение\n",
    "    * дисперсию\n",
    "    \n",
    "    \n",
    "3. Построить гистограммы и описать распределения.\n",
    "\n",
    "Разделим таблицу по тарифам. Сделаем сводные таблицы, посчитаем сколько минут, сообщений и трафика требуется пользователям каждого тарифа в месяц. Также рассчитаем среднее, стандартное отклонение и дисперсию. Выведем таблицы на экран."
   ]
  },
  {
   "cell_type": "code",
   "execution_count": 19,
   "metadata": {
    "scrolled": false
   },
   "outputs": [
    {
     "name": "stdout",
     "output_type": "stream",
     "text": [
      "Сводная таблица\n"
     ]
    },
    {
     "data": {
      "text/html": [
       "<div>\n",
       "<style scoped>\n",
       "    .dataframe tbody tr th:only-of-type {\n",
       "        vertical-align: middle;\n",
       "    }\n",
       "\n",
       "    .dataframe tbody tr th {\n",
       "        vertical-align: top;\n",
       "    }\n",
       "\n",
       "    .dataframe thead tr th {\n",
       "        text-align: left;\n",
       "    }\n",
       "\n",
       "    .dataframe thead tr:last-of-type th {\n",
       "        text-align: right;\n",
       "    }\n",
       "</style>\n",
       "<table border=\"1\" class=\"dataframe\">\n",
       "  <thead>\n",
       "    <tr>\n",
       "      <th></th>\n",
       "      <th colspan=\"3\" halign=\"left\">mean</th>\n",
       "      <th colspan=\"3\" halign=\"left\">std</th>\n",
       "      <th colspan=\"3\" halign=\"left\">var</th>\n",
       "    </tr>\n",
       "    <tr>\n",
       "      <th></th>\n",
       "      <th>duration</th>\n",
       "      <th>gb_used</th>\n",
       "      <th>messages</th>\n",
       "      <th>duration</th>\n",
       "      <th>gb_used</th>\n",
       "      <th>messages</th>\n",
       "      <th>duration</th>\n",
       "      <th>gb_used</th>\n",
       "      <th>messages</th>\n",
       "    </tr>\n",
       "    <tr>\n",
       "      <th>tariff_name</th>\n",
       "      <th></th>\n",
       "      <th></th>\n",
       "      <th></th>\n",
       "      <th></th>\n",
       "      <th></th>\n",
       "      <th></th>\n",
       "      <th></th>\n",
       "      <th></th>\n",
       "      <th></th>\n",
       "    </tr>\n",
       "  </thead>\n",
       "  <tbody>\n",
       "    <tr>\n",
       "      <th>smart</th>\n",
       "      <td>417.934948</td>\n",
       "      <td>16.328847</td>\n",
       "      <td>33.384029</td>\n",
       "      <td>190.313730</td>\n",
       "      <td>5.747061</td>\n",
       "      <td>28.227876</td>\n",
       "      <td>36219.315784</td>\n",
       "      <td>33.028705</td>\n",
       "      <td>796.812958</td>\n",
       "    </tr>\n",
       "    <tr>\n",
       "      <th>ultra</th>\n",
       "      <td>526.623350</td>\n",
       "      <td>19.494416</td>\n",
       "      <td>49.363452</td>\n",
       "      <td>317.606098</td>\n",
       "      <td>9.853511</td>\n",
       "      <td>47.804457</td>\n",
       "      <td>100873.633397</td>\n",
       "      <td>97.091686</td>\n",
       "      <td>2285.266143</td>\n",
       "    </tr>\n",
       "  </tbody>\n",
       "</table>\n",
       "</div>"
      ],
      "text/plain": [
       "                   mean                               std            \\\n",
       "               duration    gb_used   messages    duration   gb_used   \n",
       "tariff_name                                                           \n",
       "smart        417.934948  16.328847  33.384029  190.313730  5.747061   \n",
       "ultra        526.623350  19.494416  49.363452  317.606098  9.853511   \n",
       "\n",
       "                                  var                          \n",
       "              messages       duration    gb_used     messages  \n",
       "tariff_name                                                    \n",
       "smart        28.227876   36219.315784  33.028705   796.812958  \n",
       "ultra        47.804457  100873.633397  97.091686  2285.266143  "
      ]
     },
     "metadata": {},
     "output_type": "display_data"
    },
    {
     "name": "stdout",
     "output_type": "stream",
     "text": [
      "\n",
      "Сводная таблица каждого месяца по услугам для тарифа Smart\n"
     ]
    },
    {
     "data": {
      "text/html": [
       "<div>\n",
       "<style scoped>\n",
       "    .dataframe tbody tr th:only-of-type {\n",
       "        vertical-align: middle;\n",
       "    }\n",
       "\n",
       "    .dataframe tbody tr th {\n",
       "        vertical-align: top;\n",
       "    }\n",
       "\n",
       "    .dataframe thead tr th {\n",
       "        text-align: left;\n",
       "    }\n",
       "\n",
       "    .dataframe thead tr:last-of-type th {\n",
       "        text-align: right;\n",
       "    }\n",
       "</style>\n",
       "<table border=\"1\" class=\"dataframe\">\n",
       "  <thead>\n",
       "    <tr>\n",
       "      <th></th>\n",
       "      <th colspan=\"3\" halign=\"left\">mean</th>\n",
       "      <th colspan=\"3\" halign=\"left\">std</th>\n",
       "      <th colspan=\"3\" halign=\"left\">var</th>\n",
       "    </tr>\n",
       "    <tr>\n",
       "      <th></th>\n",
       "      <th>duration</th>\n",
       "      <th>gb_used</th>\n",
       "      <th>messages</th>\n",
       "      <th>duration</th>\n",
       "      <th>gb_used</th>\n",
       "      <th>messages</th>\n",
       "      <th>duration</th>\n",
       "      <th>gb_used</th>\n",
       "      <th>messages</th>\n",
       "    </tr>\n",
       "    <tr>\n",
       "      <th>month</th>\n",
       "      <th></th>\n",
       "      <th></th>\n",
       "      <th></th>\n",
       "      <th></th>\n",
       "      <th></th>\n",
       "      <th></th>\n",
       "      <th></th>\n",
       "      <th></th>\n",
       "      <th></th>\n",
       "    </tr>\n",
       "  </thead>\n",
       "  <tbody>\n",
       "    <tr>\n",
       "      <th>1.0</th>\n",
       "      <td>203.852941</td>\n",
       "      <td>8.735294</td>\n",
       "      <td>18.235294</td>\n",
       "      <td>154.231454</td>\n",
       "      <td>6.277950</td>\n",
       "      <td>16.197753</td>\n",
       "      <td>23787.341355</td>\n",
       "      <td>39.412656</td>\n",
       "      <td>262.367201</td>\n",
       "    </tr>\n",
       "    <tr>\n",
       "      <th>2.0</th>\n",
       "      <td>298.689655</td>\n",
       "      <td>11.844828</td>\n",
       "      <td>24.086207</td>\n",
       "      <td>190.820041</td>\n",
       "      <td>6.095157</td>\n",
       "      <td>21.750809</td>\n",
       "      <td>36412.287961</td>\n",
       "      <td>37.150938</td>\n",
       "      <td>473.097701</td>\n",
       "    </tr>\n",
       "    <tr>\n",
       "      <th>3.0</th>\n",
       "      <td>390.051948</td>\n",
       "      <td>15.233766</td>\n",
       "      <td>31.857143</td>\n",
       "      <td>191.893604</td>\n",
       "      <td>5.705252</td>\n",
       "      <td>26.804710</td>\n",
       "      <td>36823.155161</td>\n",
       "      <td>32.549897</td>\n",
       "      <td>718.492481</td>\n",
       "    </tr>\n",
       "    <tr>\n",
       "      <th>4.0</th>\n",
       "      <td>367.133929</td>\n",
       "      <td>13.625000</td>\n",
       "      <td>30.741071</td>\n",
       "      <td>186.489161</td>\n",
       "      <td>5.594600</td>\n",
       "      <td>24.538532</td>\n",
       "      <td>34778.207127</td>\n",
       "      <td>31.299550</td>\n",
       "      <td>602.139559</td>\n",
       "    </tr>\n",
       "    <tr>\n",
       "      <th>5.0</th>\n",
       "      <td>387.361702</td>\n",
       "      <td>15.907801</td>\n",
       "      <td>33.773050</td>\n",
       "      <td>186.601343</td>\n",
       "      <td>5.862594</td>\n",
       "      <td>27.036845</td>\n",
       "      <td>34820.061094</td>\n",
       "      <td>34.370010</td>\n",
       "      <td>730.990983</td>\n",
       "    </tr>\n",
       "    <tr>\n",
       "      <th>6.0</th>\n",
       "      <td>395.640244</td>\n",
       "      <td>15.951220</td>\n",
       "      <td>33.402439</td>\n",
       "      <td>175.336587</td>\n",
       "      <td>5.649046</td>\n",
       "      <td>28.404337</td>\n",
       "      <td>30742.918861</td>\n",
       "      <td>31.911716</td>\n",
       "      <td>806.806374</td>\n",
       "    </tr>\n",
       "    <tr>\n",
       "      <th>7.0</th>\n",
       "      <td>408.353234</td>\n",
       "      <td>15.875622</td>\n",
       "      <td>33.751244</td>\n",
       "      <td>179.583601</td>\n",
       "      <td>5.780956</td>\n",
       "      <td>28.282288</td>\n",
       "      <td>32250.269602</td>\n",
       "      <td>33.419453</td>\n",
       "      <td>799.887811</td>\n",
       "    </tr>\n",
       "    <tr>\n",
       "      <th>8.0</th>\n",
       "      <td>421.468085</td>\n",
       "      <td>16.736170</td>\n",
       "      <td>33.638298</td>\n",
       "      <td>186.530382</td>\n",
       "      <td>5.480986</td>\n",
       "      <td>28.952677</td>\n",
       "      <td>34793.583379</td>\n",
       "      <td>30.041207</td>\n",
       "      <td>838.257501</td>\n",
       "    </tr>\n",
       "    <tr>\n",
       "      <th>9.0</th>\n",
       "      <td>428.611538</td>\n",
       "      <td>16.392308</td>\n",
       "      <td>33.638462</td>\n",
       "      <td>183.126576</td>\n",
       "      <td>5.087643</td>\n",
       "      <td>28.117927</td>\n",
       "      <td>33535.342723</td>\n",
       "      <td>25.884110</td>\n",
       "      <td>790.617820</td>\n",
       "    </tr>\n",
       "    <tr>\n",
       "      <th>10.0</th>\n",
       "      <td>426.136054</td>\n",
       "      <td>16.880952</td>\n",
       "      <td>33.765306</td>\n",
       "      <td>188.128510</td>\n",
       "      <td>5.735594</td>\n",
       "      <td>28.567673</td>\n",
       "      <td>35392.336375</td>\n",
       "      <td>32.897042</td>\n",
       "      <td>816.111966</td>\n",
       "    </tr>\n",
       "    <tr>\n",
       "      <th>11.0</th>\n",
       "      <td>435.265823</td>\n",
       "      <td>17.000000</td>\n",
       "      <td>34.075949</td>\n",
       "      <td>177.778618</td>\n",
       "      <td>5.213535</td>\n",
       "      <td>28.389031</td>\n",
       "      <td>31605.237050</td>\n",
       "      <td>27.180952</td>\n",
       "      <td>805.937071</td>\n",
       "    </tr>\n",
       "    <tr>\n",
       "      <th>12.0</th>\n",
       "      <td>478.560831</td>\n",
       "      <td>18.201780</td>\n",
       "      <td>35.994065</td>\n",
       "      <td>199.245131</td>\n",
       "      <td>5.457705</td>\n",
       "      <td>30.576990</td>\n",
       "      <td>39698.622033</td>\n",
       "      <td>29.786544</td>\n",
       "      <td>934.952346</td>\n",
       "    </tr>\n",
       "  </tbody>\n",
       "</table>\n",
       "</div>"
      ],
      "text/plain": [
       "             mean                               std                       \\\n",
       "         duration    gb_used   messages    duration   gb_used   messages   \n",
       "month                                                                      \n",
       "1.0    203.852941   8.735294  18.235294  154.231454  6.277950  16.197753   \n",
       "2.0    298.689655  11.844828  24.086207  190.820041  6.095157  21.750809   \n",
       "3.0    390.051948  15.233766  31.857143  191.893604  5.705252  26.804710   \n",
       "4.0    367.133929  13.625000  30.741071  186.489161  5.594600  24.538532   \n",
       "5.0    387.361702  15.907801  33.773050  186.601343  5.862594  27.036845   \n",
       "6.0    395.640244  15.951220  33.402439  175.336587  5.649046  28.404337   \n",
       "7.0    408.353234  15.875622  33.751244  179.583601  5.780956  28.282288   \n",
       "8.0    421.468085  16.736170  33.638298  186.530382  5.480986  28.952677   \n",
       "9.0    428.611538  16.392308  33.638462  183.126576  5.087643  28.117927   \n",
       "10.0   426.136054  16.880952  33.765306  188.128510  5.735594  28.567673   \n",
       "11.0   435.265823  17.000000  34.075949  177.778618  5.213535  28.389031   \n",
       "12.0   478.560831  18.201780  35.994065  199.245131  5.457705  30.576990   \n",
       "\n",
       "                var                         \n",
       "           duration    gb_used    messages  \n",
       "month                                       \n",
       "1.0    23787.341355  39.412656  262.367201  \n",
       "2.0    36412.287961  37.150938  473.097701  \n",
       "3.0    36823.155161  32.549897  718.492481  \n",
       "4.0    34778.207127  31.299550  602.139559  \n",
       "5.0    34820.061094  34.370010  730.990983  \n",
       "6.0    30742.918861  31.911716  806.806374  \n",
       "7.0    32250.269602  33.419453  799.887811  \n",
       "8.0    34793.583379  30.041207  838.257501  \n",
       "9.0    33535.342723  25.884110  790.617820  \n",
       "10.0   35392.336375  32.897042  816.111966  \n",
       "11.0   31605.237050  27.180952  805.937071  \n",
       "12.0   39698.622033  29.786544  934.952346  "
      ]
     },
     "metadata": {},
     "output_type": "display_data"
    },
    {
     "name": "stdout",
     "output_type": "stream",
     "text": [
      "\n",
      "Сводная таблица каждого месяца по услугам для тарифа Ultra\n"
     ]
    },
    {
     "data": {
      "text/html": [
       "<div>\n",
       "<style scoped>\n",
       "    .dataframe tbody tr th:only-of-type {\n",
       "        vertical-align: middle;\n",
       "    }\n",
       "\n",
       "    .dataframe tbody tr th {\n",
       "        vertical-align: top;\n",
       "    }\n",
       "\n",
       "    .dataframe thead tr th {\n",
       "        text-align: left;\n",
       "    }\n",
       "\n",
       "    .dataframe thead tr:last-of-type th {\n",
       "        text-align: right;\n",
       "    }\n",
       "</style>\n",
       "<table border=\"1\" class=\"dataframe\">\n",
       "  <thead>\n",
       "    <tr>\n",
       "      <th></th>\n",
       "      <th colspan=\"3\" halign=\"left\">mean</th>\n",
       "      <th colspan=\"3\" halign=\"left\">std</th>\n",
       "      <th colspan=\"3\" halign=\"left\">var</th>\n",
       "    </tr>\n",
       "    <tr>\n",
       "      <th></th>\n",
       "      <th>duration</th>\n",
       "      <th>gb_used</th>\n",
       "      <th>messages</th>\n",
       "      <th>duration</th>\n",
       "      <th>gb_used</th>\n",
       "      <th>messages</th>\n",
       "      <th>duration</th>\n",
       "      <th>gb_used</th>\n",
       "      <th>messages</th>\n",
       "    </tr>\n",
       "    <tr>\n",
       "      <th>month</th>\n",
       "      <th></th>\n",
       "      <th></th>\n",
       "      <th></th>\n",
       "      <th></th>\n",
       "      <th></th>\n",
       "      <th></th>\n",
       "      <th></th>\n",
       "      <th></th>\n",
       "      <th></th>\n",
       "    </tr>\n",
       "  </thead>\n",
       "  <tbody>\n",
       "    <tr>\n",
       "      <th>1.0</th>\n",
       "      <td>428.111111</td>\n",
       "      <td>13.222222</td>\n",
       "      <td>33.777778</td>\n",
       "      <td>269.757968</td>\n",
       "      <td>6.666667</td>\n",
       "      <td>30.670742</td>\n",
       "      <td>72769.361111</td>\n",
       "      <td>44.444444</td>\n",
       "      <td>940.694444</td>\n",
       "    </tr>\n",
       "    <tr>\n",
       "      <th>2.0</th>\n",
       "      <td>297.125000</td>\n",
       "      <td>12.000000</td>\n",
       "      <td>21.958333</td>\n",
       "      <td>296.512528</td>\n",
       "      <td>10.446551</td>\n",
       "      <td>26.773574</td>\n",
       "      <td>87919.679348</td>\n",
       "      <td>109.130435</td>\n",
       "      <td>716.824275</td>\n",
       "    </tr>\n",
       "    <tr>\n",
       "      <th>3.0</th>\n",
       "      <td>489.648649</td>\n",
       "      <td>17.648649</td>\n",
       "      <td>32.297297</td>\n",
       "      <td>333.743765</td>\n",
       "      <td>10.693238</td>\n",
       "      <td>41.621886</td>\n",
       "      <td>111384.900901</td>\n",
       "      <td>114.345345</td>\n",
       "      <td>1732.381381</td>\n",
       "    </tr>\n",
       "    <tr>\n",
       "      <th>4.0</th>\n",
       "      <td>458.018182</td>\n",
       "      <td>16.963636</td>\n",
       "      <td>31.563636</td>\n",
       "      <td>267.682405</td>\n",
       "      <td>9.457436</td>\n",
       "      <td>37.513831</td>\n",
       "      <td>71653.870034</td>\n",
       "      <td>89.443098</td>\n",
       "      <td>1407.287542</td>\n",
       "    </tr>\n",
       "    <tr>\n",
       "      <th>5.0</th>\n",
       "      <td>510.328358</td>\n",
       "      <td>19.373134</td>\n",
       "      <td>37.850746</td>\n",
       "      <td>289.603511</td>\n",
       "      <td>9.779130</td>\n",
       "      <td>40.306874</td>\n",
       "      <td>83870.193578</td>\n",
       "      <td>95.631389</td>\n",
       "      <td>1624.644052</td>\n",
       "    </tr>\n",
       "    <tr>\n",
       "      <th>6.0</th>\n",
       "      <td>479.702381</td>\n",
       "      <td>18.940476</td>\n",
       "      <td>41.726190</td>\n",
       "      <td>302.549081</td>\n",
       "      <td>9.077114</td>\n",
       "      <td>44.567899</td>\n",
       "      <td>91535.946500</td>\n",
       "      <td>82.394005</td>\n",
       "      <td>1986.297619</td>\n",
       "    </tr>\n",
       "    <tr>\n",
       "      <th>7.0</th>\n",
       "      <td>545.791209</td>\n",
       "      <td>20.505495</td>\n",
       "      <td>49.846154</td>\n",
       "      <td>307.119322</td>\n",
       "      <td>9.819905</td>\n",
       "      <td>48.703621</td>\n",
       "      <td>94322.278144</td>\n",
       "      <td>96.430525</td>\n",
       "      <td>2372.042735</td>\n",
       "    </tr>\n",
       "    <tr>\n",
       "      <th>8.0</th>\n",
       "      <td>510.775701</td>\n",
       "      <td>19.598131</td>\n",
       "      <td>48.439252</td>\n",
       "      <td>312.980026</td>\n",
       "      <td>10.254184</td>\n",
       "      <td>46.601923</td>\n",
       "      <td>97956.496385</td>\n",
       "      <td>105.148298</td>\n",
       "      <td>2171.739199</td>\n",
       "    </tr>\n",
       "    <tr>\n",
       "      <th>9.0</th>\n",
       "      <td>539.443478</td>\n",
       "      <td>19.243478</td>\n",
       "      <td>52.286957</td>\n",
       "      <td>325.141162</td>\n",
       "      <td>9.287410</td>\n",
       "      <td>46.398874</td>\n",
       "      <td>105716.775286</td>\n",
       "      <td>86.255988</td>\n",
       "      <td>2152.855530</td>\n",
       "    </tr>\n",
       "    <tr>\n",
       "      <th>10.0</th>\n",
       "      <td>558.081301</td>\n",
       "      <td>20.065041</td>\n",
       "      <td>58.430894</td>\n",
       "      <td>326.289110</td>\n",
       "      <td>9.552907</td>\n",
       "      <td>51.934398</td>\n",
       "      <td>106464.583500</td>\n",
       "      <td>91.258030</td>\n",
       "      <td>2697.181661</td>\n",
       "    </tr>\n",
       "    <tr>\n",
       "      <th>11.0</th>\n",
       "      <td>541.380597</td>\n",
       "      <td>19.805970</td>\n",
       "      <td>55.791045</td>\n",
       "      <td>310.757232</td>\n",
       "      <td>9.684867</td>\n",
       "      <td>49.768951</td>\n",
       "      <td>96570.057064</td>\n",
       "      <td>93.796656</td>\n",
       "      <td>2476.948491</td>\n",
       "    </tr>\n",
       "    <tr>\n",
       "      <th>12.0</th>\n",
       "      <td>592.805755</td>\n",
       "      <td>21.741007</td>\n",
       "      <td>60.611511</td>\n",
       "      <td>342.456321</td>\n",
       "      <td>10.160550</td>\n",
       "      <td>51.787821</td>\n",
       "      <td>117276.331561</td>\n",
       "      <td>103.236784</td>\n",
       "      <td>2681.978417</td>\n",
       "    </tr>\n",
       "  </tbody>\n",
       "</table>\n",
       "</div>"
      ],
      "text/plain": [
       "             mean                               std                        \\\n",
       "         duration    gb_used   messages    duration    gb_used   messages   \n",
       "month                                                                       \n",
       "1.0    428.111111  13.222222  33.777778  269.757968   6.666667  30.670742   \n",
       "2.0    297.125000  12.000000  21.958333  296.512528  10.446551  26.773574   \n",
       "3.0    489.648649  17.648649  32.297297  333.743765  10.693238  41.621886   \n",
       "4.0    458.018182  16.963636  31.563636  267.682405   9.457436  37.513831   \n",
       "5.0    510.328358  19.373134  37.850746  289.603511   9.779130  40.306874   \n",
       "6.0    479.702381  18.940476  41.726190  302.549081   9.077114  44.567899   \n",
       "7.0    545.791209  20.505495  49.846154  307.119322   9.819905  48.703621   \n",
       "8.0    510.775701  19.598131  48.439252  312.980026  10.254184  46.601923   \n",
       "9.0    539.443478  19.243478  52.286957  325.141162   9.287410  46.398874   \n",
       "10.0   558.081301  20.065041  58.430894  326.289110   9.552907  51.934398   \n",
       "11.0   541.380597  19.805970  55.791045  310.757232   9.684867  49.768951   \n",
       "12.0   592.805755  21.741007  60.611511  342.456321  10.160550  51.787821   \n",
       "\n",
       "                 var                           \n",
       "            duration     gb_used     messages  \n",
       "month                                          \n",
       "1.0     72769.361111   44.444444   940.694444  \n",
       "2.0     87919.679348  109.130435   716.824275  \n",
       "3.0    111384.900901  114.345345  1732.381381  \n",
       "4.0     71653.870034   89.443098  1407.287542  \n",
       "5.0     83870.193578   95.631389  1624.644052  \n",
       "6.0     91535.946500   82.394005  1986.297619  \n",
       "7.0     94322.278144   96.430525  2372.042735  \n",
       "8.0     97956.496385  105.148298  2171.739199  \n",
       "9.0    105716.775286   86.255988  2152.855530  \n",
       "10.0   106464.583500   91.258030  2697.181661  \n",
       "11.0    96570.057064   93.796656  2476.948491  \n",
       "12.0   117276.331561  103.236784  2681.978417  "
      ]
     },
     "metadata": {},
     "output_type": "display_data"
    }
   ],
   "source": [
    "smart = df.query('tariff_name == \"smart\"') # срез по \n",
    "ultra = df.query('tariff_name == \"ultra\"') # тарифам\n",
    "\n",
    "df_pivot = df.pivot_table( # сводная таблица\n",
    "    index='tariff_name',\n",
    "    values=['duration', 'messages', 'gb_used'],\n",
    "    aggfunc=['mean', np.std, np.var]\n",
    ")\n",
    "\n",
    "smart_pivot = smart.pivot_table( # сводная таблица с группировкой по месяцу\n",
    "    index='month',\n",
    "    values=['duration', 'messages', 'gb_used'],\n",
    "    aggfunc=['mean', np.std, np.var]\n",
    ")\n",
    "\n",
    "ultra_pivot = ultra.pivot_table( # сводная таблица с группировкой по месяцу\n",
    "    index='month',\n",
    "    values=['duration', 'messages', 'gb_used'],\n",
    "    aggfunc=['mean', np.std, np.var]\n",
    ")\n",
    "\n",
    "print('Сводная таблица')\n",
    "display(df_pivot)\n",
    "print()\n",
    "print('Сводная таблица каждого месяца по услугам для тарифа Smart')\n",
    "display(smart_pivot)\n",
    "print()\n",
    "print('Сводная таблица каждого месяца по услугам для тарифа Ultra')\n",
    "display(ultra_pivot)"
   ]
  },
  {
   "cell_type": "markdown",
   "metadata": {},
   "source": [
    "Таблица готова, можно строить гистограммы и столбчатые графикии для сравнения распределения по тарифам. Напишем функцию."
   ]
  },
  {
   "cell_type": "code",
   "execution_count": 20,
   "metadata": {},
   "outputs": [],
   "source": [
    "def hist_tariff(data_1, data_2, column, description, bins, a, b): # функция для построения графиков\n",
    "    data_1[column].hist(bins=bins, range=(a, b), alpha=0.5, label='smart', figsize=(10, 5))\n",
    "    data_2[column].hist(bins=bins, range=(a, b), alpha=0.5, label='ultra', figsize=(10, 5))\n",
    "    plt.suptitle(description)\n",
    "    plt.legend()\n",
    "    plt.show()"
   ]
  },
  {
   "cell_type": "markdown",
   "metadata": {},
   "source": [
    "Посмотрим распределение среднего количества потраченных минут по месяцам для двух тарифов."
   ]
  },
  {
   "cell_type": "code",
   "execution_count": 21,
   "metadata": {},
   "outputs": [
    {
     "data": {
      "image/png": "[encoded data removed]",
      "text/plain": [
       "<Figure size 720x360 with 1 Axes>"
      ]
     },
     "metadata": {
      "needs_background": "light"
     },
     "output_type": "display_data"
    }
   ],
   "source": [
    "hist_tariff(smart, ultra, 'duration', 'Распределение по длительности', 30, 0, 1800)"
   ]
  },
  {
   "cell_type": "markdown",
   "metadata": {},
   "source": [
    "Большинству пользователей тарифа Смарт требуется в месяц от 200 до 700 минут. Большинству пользователей тарифа Ультра требуется не более 800 минут. Можно сделать вывод, что третья часть пользователей тарифа Смарт регулярно превышает объем включенных в тариф минут.\n",
    "\n",
    "Посмотрим распределение количества потраченных гигабайт интернет-трафика для двух тарифов."
   ]
  },
  {
   "cell_type": "code",
   "execution_count": 22,
   "metadata": {},
   "outputs": [
    {
     "data": {
      "image/png": "[encoded data removed]",
      "text/plain": [
       "<Figure size 720x360 with 1 Axes>"
      ]
     },
     "metadata": {
      "needs_background": "light"
     },
     "output_type": "display_data"
    }
   ],
   "source": [
    "hist_tariff(smart, ultra, 'gb_used', 'Распределение по трафику', 30, 0, 60)"
   ]
  },
  {
   "cell_type": "markdown",
   "metadata": {},
   "source": [
    "Большинству пользователей тарифа Смарт требуется в месяц от 10 до 25 гигабайт. Большинству пользователей тарифа Ультра требуется не более 30 гигабайт. Можно сделать вывод, что примерно половина пользователей тарифа Смарт регулярно превышает лимит трафика.\n",
    "\n",
    "Посмотрим распределение количества отправленных сообщений по месяцам для двух тарифов."
   ]
  },
  {
   "cell_type": "code",
   "execution_count": 23,
   "metadata": {
    "scrolled": false
   },
   "outputs": [
    {
     "data": {
      "image/png": "[encoded data removed]",
      "text/plain": [
       "<Figure size 720x360 with 1 Axes>"
      ]
     },
     "metadata": {
      "needs_background": "light"
     },
     "output_type": "display_data"
    }
   ],
   "source": [
    "hist_tariff(smart, ultra, 'messages', 'Распределение по сообщениям', 30, 0, 150)"
   ]
  },
  {
   "cell_type": "markdown",
   "metadata": {},
   "source": [
    "Большинству пользователей тарифа Смарт требуется в месяц не более 80 сообщений. Большинству пользователей тарифа Ультра требуется не более 100 сообщений. Можно сделать вывод, что примерно третья часть пользователей тарифа Смарт регулярно превышает лимит сообщений."
   ]
  },
  {
   "cell_type": "markdown",
   "metadata": {},
   "source": [
    "Теперь посчитаем среднюю выручку с каждого пользователя в зависимости от тарифа."
   ]
  },
  {
   "cell_type": "code",
   "execution_count": 24,
   "metadata": {},
   "outputs": [
    {
     "name": "stdout",
     "output_type": "stream",
     "text": [
      "Количество пользователей тарифа Смарт: 2229\n",
      "Количество пользователей тарифа Ультра: 985\n",
      "\n",
      "Средняя выручка с пользователя тарифа Смарт: 1289.9735307312696\n",
      "Средняя выручка с пользователя тарифа Ультра: 2070.1522842639592\n",
      "\n",
      "Годовая выручка с пользователей тарифа Смарт: 2875351.0\n",
      "Годовая выручка с пользователей тарифа Ультра: 2039100.0\n"
     ]
    }
   ],
   "source": [
    "print(f'Количество пользователей тарифа Смарт: {smart[\"user_id\"].count()}')\n",
    "print(f'Количество пользователей тарифа Ультра: {ultra[\"user_id\"].count()}')\n",
    "print()\n",
    "\n",
    "print(f'Средняя выручка с пользователя тарифа Смарт: {smart[\"profit\"].mean()}')\n",
    "print(f'Средняя выручка с пользователя тарифа Ультра: {ultra[\"profit\"].mean()}')\n",
    "print()\n",
    "\n",
    "print(f'Годовая выручка с пользователей тарифа Смарт: {smart[\"profit\"].sum()}')\n",
    "print(f'Годовая выручка с пользователей тарифа Ультра: {ultra[\"profit\"].sum()}')"
   ]
  },
  {
   "cell_type": "markdown",
   "metadata": {},
   "source": [
    "### Вывод\n",
    "\n",
    "Пользователей тарифа Смарт в 2 раза больше чем пользователей тарифа Ультра. Пользователи тарифа Смарт принесли больше прибыли в год, чем тариф Ультра, но средняя выручка с каждого пользователя тарифа Ультра почти в 2 раза выше, чем с пользователя тарифа Смарт. \n",
    "\n",
    "Пользователи тарифа Смарт практически всегда полностью расходуют пакеты минут, сообщений и интернет-трафика. Есть тенденция превышения вкюченных пакетов, третья часть пользователей превышает лимит минут и сообщений, примерно половина превышает лимит трафика. \n",
    "\n",
    "Пользователи тарифа Ультра в среднем расходуют лимит минут на 20%, лимит сообщений на 5% и лимит трафика на 65%."
   ]
  },
  {
   "cell_type": "markdown",
   "metadata": {},
   "source": [
    "## Проверка гипотез\n",
    "\n",
    "Теперь проверим следующие гипотезы с помощью статистического анализа:\n",
    "\n",
    "1. Средняя выручка пользователей тарифов «Ультра» и «Смарт» различаются.\n",
    "2. Средняя выручка пользователей из Москвы отличается от выручки пользователей из других регионов.\n",
    "\n",
    "Проверим гипотезы с помощью t-test (статистический тест с использованием t-распределения Стьюдента), который позволяет сравнивать средние двух генеральных совокупностей между собой. В нулевой гипотезе мы предпологаем что средние равны. Пороговое значение alpha зададим 0.05."
   ]
  },
  {
   "cell_type": "markdown",
   "metadata": {},
   "source": [
    "### Гипотеза 1\n",
    "\n",
    "H0 - Cредняя выручка пользователей тарифов Ультра и Смарт не различаются.\n",
    "\n",
    "H1 - Средняя выручка пользователей тарифов Ультра и Смарт различаются."
   ]
  },
  {
   "cell_type": "code",
   "execution_count": 25,
   "metadata": {},
   "outputs": [
    {
     "name": "stdout",
     "output_type": "stream",
     "text": [
      "p-значение:  1.4229814360764067e-160\n",
      "Отвергаем нулевую гипотезу о равенстве средних значений выручки\n",
      "\n",
      "Средняя выручка для тарифа Смарт: 1289.9735307312696\n",
      "Средняя выручка для тарифа Ультра: 2070.1522842639592\n"
     ]
    }
   ],
   "source": [
    "alpha = 0.05 # критический уровень статистической значимости\n",
    "\n",
    "results = st.ttest_ind(smart['profit'], ultra['profit']) # t-test для двух совокупностей\n",
    "print('p-значение: ', results.pvalue)\n",
    "\n",
    "if results.pvalue < alpha: # условия для двух гипотез\n",
    "    print('Отвергаем нулевую гипотезу о равенстве средних значений выручки')\n",
    "else:\n",
    "    print('Не получилось отвергнуть нулевую гипотезу о равенстве средних значений выручки')\n",
    "    \n",
    "print()\n",
    "print('Средняя выручка для тарифа Смарт:', smart['profit'].mean())\n",
    "print('Средняя выручка для тарифа Ультра:', ultra['profit'].mean())   "
   ]
  },
  {
   "cell_type": "markdown",
   "metadata": {},
   "source": [
    "### Гипотеза 2\n",
    "\n",
    "H0 - Cредняя выручка пользователей из Москвы не отличается от выручки пользователей из других регионов.\n",
    "\n",
    "H1 - Cредняя выручка пользователей из Москвы отличается от выручки пользователей из других регионов."
   ]
  },
  {
   "cell_type": "code",
   "execution_count": 26,
   "metadata": {},
   "outputs": [
    {
     "name": "stdout",
     "output_type": "stream",
     "text": [
      "p-значение:  0.5440152911670224\n",
      "Не получилось отвергнуть нулевую гипотезу о равенстве средней выручки пользователей из Москвы и других регионов\n",
      "\n",
      "Средняя выручка для Москвы: 1546.7135842880523\n",
      "Средняя выручка для регионов: 1524.9362274298885\n"
     ]
    }
   ],
   "source": [
    "alpha = 0.05 # критический уровень статистической значимости\n",
    "\n",
    "results = st.ttest_ind(df.query('city == \"Москва\"')['profit'], df.query('city != \"Москва\"')['profit']) # t-test для двух совокупностей\n",
    "print('p-значение: ', results.pvalue)\n",
    "\n",
    "if results.pvalue < alpha: # условия для двух гипотез\n",
    "    print('Отвергаем нулевую гипотезу о равенстве средней выручки пользователей из Москвы и других регионов')\n",
    "else:\n",
    "    print('Не получилось отвергнуть нулевую гипотезу о равенстве средней выручки пользователей из Москвы и других регионов')\n",
    " \n",
    "print()\n",
    "print('Средняя выручка для Москвы:', df.query('city == \"Москва\"')['profit'].mean())\n",
    "print('Средняя выручка для регионов:', df.query('city != \"Москва\"')['profit'].mean())"
   ]
  },
  {
   "cell_type": "markdown",
   "metadata": {},
   "source": [
    "### Вывод"
   ]
  },
  {
   "cell_type": "markdown",
   "metadata": {},
   "source": [
    "Мы проверили гипотезы с помощью t-test и можем сделать выводы:\n",
    "\n",
    "1. Средняя выручка пользователей тарифов Ультра и Смарт различаются.\n",
    "2. Cредняя выручка пользователей из Москвы не отличается от выручки пользователей из других регионов."
   ]
  },
  {
   "cell_type": "markdown",
   "metadata": {},
   "source": [
    "## Общий вывод"
   ]
  },
  {
   "cell_type": "markdown",
   "metadata": {},
   "source": [
    "Задачей проекта было проанализировать поведение клиентов двух разных тарифов и и сделать вывод — какой из тарифов лучше.\n",
    "\n",
    "Из нескольких таблиц сформировали общую и посчитали месячную выручку по каждому пользователю. С помощью графиков мы проанализировали поведение пользователей двух тарифов. С помощью статистического теста мы проверили гипотезу об отличии средней выручки для двух тарифов и гипотезу об отличии выручки между пользователями из Москвы и пользователями из других регионов. \n",
    "\n",
    "**Из исследования можно сделать вывод, что тариф Смарт приносит больше прибыли и лучше оптимизирован для нужд пользователей.**\n",
    "\n",
    "\n",
    "Мы выяснили, что пользователей тарифа Смарт значительно больше, чем пользователей тарифа Ультра:\n",
    "\n",
    "* для тарифа Смарт: 2230\n",
    "* для тарифа Ультра: 986\n",
    "\n",
    "Мы посчитали годовую выручку по тарифами:\n",
    "\n",
    "* для тарифа Смарт: 2 875 901 руб.\n",
    "* для тарифа Ультра: 2 041 050 руб.\n",
    "\n",
    "Также мы посчитали среднюю выручку с каждого пользователя:\n",
    "\n",
    "* для тарифа Смарт: 1290 руб.\n",
    "* для тарифа Ультра: 2070 руб.\n",
    "\n",
    "Пользователей тарифа Смарт в 2 раза больше чем пользователей тарифа Ультра. Пользователи тарифа Смарт принесли больше прибыли в год, чем тариф Ультра, но средняя выручка с каждого пользователя тарифа Ультра почти в 2 раза выше, чем с пользователя тарифа Смарт. \n",
    "\n",
    "Пользователи тарифа Смарт практически всегда полностью расходуют пакеты минут, сообщений и интернет-трафика. Есть тенденция превышения вкюченных пакетов, третья часть пользователей превышает лимит минут и сообщений, примерно половина превышает лимит трафика. \n",
    "\n",
    "Пользователи тарифа Ультра в среднем расходуют лимит минут на 20%, лимит сообщений на 5% и лимит трафика на 65%.\n",
    "\n",
    "Мы проверили гипотезы с помощью t-test и можем сделать выводы:\n",
    "\n",
    "1. Средняя выручка пользователей тарифов Ультра и Смарт различаются.\n",
    "2. Cредняя выручка пользователей из Москвы не отличается от выручки пользователей из других регионов.\n",
    "\n",
    "На графиках ниже отображена динамика средней прибыли по месяцам. Можно заметить, что на тарифе Смарт прибыль растет практически равномерно. На тарифе Ультра прибыль тоже растет, но наблюдются скачки, особенно резко выглядит падение прибыли с 7 по 9 месяц."
   ]
  },
  {
   "cell_type": "code",
   "execution_count": 27,
   "metadata": {},
   "outputs": [
    {
     "data": {
      "image/png": "[encoded data removed]",
      "text/plain": [
       "<Figure size 1080x360 with 1 Axes>"
      ]
     },
     "metadata": {
      "needs_background": "light"
     },
     "output_type": "display_data"
    },
    {
     "data": {
      "image/png": "[encoded data removed]",
      "text/plain": [
       "<Figure size 1080x360 with 1 Axes>"
      ]
     },
     "metadata": {
      "needs_background": "light"
     },
     "output_type": "display_data"
    }
   ],
   "source": [
    "smart.pivot_table(\n",
    "    index='month', values='profit', aggfunc='mean').plot(figsize=(15, 5),\n",
    "    legend=False, title='Прибыль тарифа Смарт', xlabel='Месяцы', ylabel='Рубли')\n",
    "\n",
    "ultra.pivot_table(\n",
    "    index='month', values='profit', aggfunc='mean').plot(figsize=(15, 5),\n",
    "    legend=False, title='Прибыль тарифа Ультра', xlabel='Месяцы', ylabel='Рубли')\n",
    "plt.show()"
   ]
  }
 ],
 "metadata": {
  "ExecuteTimeLog": [
   {
    "duration": 4,
    "start_time": "2022-03-21T09:22:45.035Z"
   },
   {
    "duration": 3,
    "start_time": "2022-03-21T09:35:03.854Z"
   },
   {
    "duration": 1136,
    "start_time": "2022-03-21T18:54:31.479Z"
   },
   {
    "duration": 496,
    "start_time": "2022-03-21T18:59:07.307Z"
   },
   {
    "duration": 523,
    "start_time": "2022-03-21T18:59:16.132Z"
   },
   {
    "duration": 523,
    "start_time": "2022-03-21T18:59:46.575Z"
   },
   {
    "duration": 67,
    "start_time": "2022-03-21T19:09:47.728Z"
   },
   {
    "duration": 82,
    "start_time": "2022-03-21T19:11:48.077Z"
   },
   {
    "duration": 60,
    "start_time": "2022-03-21T19:13:11.315Z"
   },
   {
    "duration": 57,
    "start_time": "2022-03-21T19:26:03.638Z"
   },
   {
    "duration": 40,
    "start_time": "2022-03-21T19:26:23.809Z"
   },
   {
    "duration": 33,
    "start_time": "2022-03-21T19:29:23.729Z"
   },
   {
    "duration": 51,
    "start_time": "2022-03-21T19:41:46.058Z"
   },
   {
    "duration": 78,
    "start_time": "2022-03-21T19:41:58.913Z"
   },
   {
    "duration": 153,
    "start_time": "2022-03-21T19:42:19.568Z"
   },
   {
    "duration": 16,
    "start_time": "2022-03-21T19:42:32.300Z"
   },
   {
    "duration": 522,
    "start_time": "2022-03-21T19:42:40.232Z"
   },
   {
    "duration": 569,
    "start_time": "2022-03-21T19:42:40.757Z"
   },
   {
    "duration": 86,
    "start_time": "2022-03-21T19:42:41.328Z"
   },
   {
    "duration": 88,
    "start_time": "2022-03-21T19:42:41.416Z"
   },
   {
    "duration": 44,
    "start_time": "2022-03-21T19:42:41.506Z"
   },
   {
    "duration": 31,
    "start_time": "2022-03-21T19:42:41.568Z"
   },
   {
    "duration": 86,
    "start_time": "2022-03-21T19:42:43.809Z"
   },
   {
    "duration": 61,
    "start_time": "2022-03-21T19:50:50.787Z"
   },
   {
    "duration": 50,
    "start_time": "2022-03-21T19:52:35.250Z"
   },
   {
    "duration": 95,
    "start_time": "2022-03-21T20:02:05.495Z"
   },
   {
    "duration": 74,
    "start_time": "2022-03-21T20:02:14.608Z"
   },
   {
    "duration": 146,
    "start_time": "2022-03-21T20:02:51.697Z"
   },
   {
    "duration": 139,
    "start_time": "2022-03-21T20:03:54.448Z"
   },
   {
    "duration": 134,
    "start_time": "2022-03-21T20:04:42.117Z"
   },
   {
    "duration": 81,
    "start_time": "2022-03-21T20:05:05.184Z"
   },
   {
    "duration": 81,
    "start_time": "2022-03-21T20:05:17.120Z"
   },
   {
    "duration": 482,
    "start_time": "2022-03-21T20:06:16.502Z"
   },
   {
    "duration": 582,
    "start_time": "2022-03-21T20:06:16.987Z"
   },
   {
    "duration": 71,
    "start_time": "2022-03-21T20:06:17.572Z"
   },
   {
    "duration": 85,
    "start_time": "2022-03-21T20:06:17.646Z"
   },
   {
    "duration": 62,
    "start_time": "2022-03-21T20:06:17.733Z"
   },
   {
    "duration": 42,
    "start_time": "2022-03-21T20:06:17.798Z"
   },
   {
    "duration": 85,
    "start_time": "2022-03-21T20:06:20.466Z"
   },
   {
    "duration": 86,
    "start_time": "2022-03-21T20:06:22.632Z"
   },
   {
    "duration": 84,
    "start_time": "2022-03-21T20:06:25.891Z"
   },
   {
    "duration": 259,
    "start_time": "2022-03-21T20:06:41.683Z"
   },
   {
    "duration": 1733,
    "start_time": "2022-03-21T20:08:13.056Z"
   },
   {
    "duration": 126,
    "start_time": "2022-03-21T20:08:34.067Z"
   },
   {
    "duration": 12,
    "start_time": "2022-03-21T20:09:50.969Z"
   },
   {
    "duration": 1566,
    "start_time": "2022-03-21T20:09:58.708Z"
   },
   {
    "duration": 74,
    "start_time": "2022-03-21T20:11:59.958Z"
   },
   {
    "duration": 81,
    "start_time": "2022-03-21T20:12:04.338Z"
   },
   {
    "duration": 120,
    "start_time": "2022-03-21T20:12:42.482Z"
   },
   {
    "duration": 192,
    "start_time": "2022-03-21T20:13:13.777Z"
   },
   {
    "duration": 247,
    "start_time": "2022-03-21T20:14:13.159Z"
   },
   {
    "duration": 119,
    "start_time": "2022-03-21T20:17:31.479Z"
   },
   {
    "duration": 77,
    "start_time": "2022-03-21T20:17:45.856Z"
   },
   {
    "duration": 117,
    "start_time": "2022-03-21T20:18:04.815Z"
   },
   {
    "duration": 66,
    "start_time": "2022-03-21T20:18:13.774Z"
   },
   {
    "duration": 786,
    "start_time": "2022-03-21T20:18:20.647Z"
   },
   {
    "duration": 958,
    "start_time": "2022-03-21T20:18:21.437Z"
   },
   {
    "duration": 129,
    "start_time": "2022-03-21T20:18:22.399Z"
   },
   {
    "duration": 115,
    "start_time": "2022-03-21T20:18:22.531Z"
   },
   {
    "duration": 47,
    "start_time": "2022-03-21T20:18:22.650Z"
   },
   {
    "duration": 33,
    "start_time": "2022-03-21T20:18:22.700Z"
   },
   {
    "duration": 357,
    "start_time": "2022-03-21T20:18:22.768Z"
   },
   {
    "duration": 106,
    "start_time": "2022-03-21T20:21:23.674Z"
   },
   {
    "duration": 86,
    "start_time": "2022-03-21T20:21:53.425Z"
   },
   {
    "duration": 78,
    "start_time": "2022-03-21T20:22:06.976Z"
   },
   {
    "duration": 103,
    "start_time": "2022-03-21T20:23:00.530Z"
   },
   {
    "duration": 516,
    "start_time": "2022-03-21T20:23:11.629Z"
   },
   {
    "duration": 576,
    "start_time": "2022-03-21T20:23:12.147Z"
   },
   {
    "duration": 89,
    "start_time": "2022-03-21T20:23:12.725Z"
   },
   {
    "duration": 80,
    "start_time": "2022-03-21T20:23:12.817Z"
   },
   {
    "duration": 42,
    "start_time": "2022-03-21T20:23:12.899Z"
   },
   {
    "duration": 52,
    "start_time": "2022-03-21T20:23:12.944Z"
   },
   {
    "duration": 208,
    "start_time": "2022-03-21T20:23:12.998Z"
   },
   {
    "duration": 191,
    "start_time": "2022-03-21T20:23:17.617Z"
   },
   {
    "duration": 74,
    "start_time": "2022-03-21T20:23:23.253Z"
   },
   {
    "duration": 487,
    "start_time": "2022-03-21T20:23:27.465Z"
   },
   {
    "duration": 601,
    "start_time": "2022-03-21T20:23:27.954Z"
   },
   {
    "duration": 78,
    "start_time": "2022-03-21T20:23:28.557Z"
   },
   {
    "duration": 81,
    "start_time": "2022-03-21T20:23:28.639Z"
   },
   {
    "duration": 54,
    "start_time": "2022-03-21T20:23:28.723Z"
   },
   {
    "duration": 35,
    "start_time": "2022-03-21T20:23:28.780Z"
   },
   {
    "duration": 223,
    "start_time": "2022-03-21T20:23:28.817Z"
   },
   {
    "duration": 502,
    "start_time": "2022-03-21T20:23:52.668Z"
   },
   {
    "duration": 585,
    "start_time": "2022-03-21T20:23:53.173Z"
   },
   {
    "duration": 71,
    "start_time": "2022-03-21T20:23:53.761Z"
   },
   {
    "duration": 77,
    "start_time": "2022-03-21T20:23:53.835Z"
   },
   {
    "duration": 58,
    "start_time": "2022-03-21T20:23:53.915Z"
   },
   {
    "duration": 34,
    "start_time": "2022-03-21T20:23:53.976Z"
   },
   {
    "duration": 150,
    "start_time": "2022-03-21T20:23:54.013Z"
   },
   {
    "duration": 235,
    "start_time": "2022-03-21T20:24:07.061Z"
   },
   {
    "duration": 136,
    "start_time": "2022-03-21T20:24:16.341Z"
   },
   {
    "duration": 243,
    "start_time": "2022-03-21T20:24:37.903Z"
   },
   {
    "duration": 114,
    "start_time": "2022-03-21T20:24:42.552Z"
   },
   {
    "duration": 106,
    "start_time": "2022-03-21T20:24:44.576Z"
   },
   {
    "duration": 10,
    "start_time": "2022-03-21T20:24:46.955Z"
   },
   {
    "duration": 525,
    "start_time": "2022-03-23T08:59:03.443Z"
   },
   {
    "duration": 478,
    "start_time": "2022-03-23T08:59:05.863Z"
   },
   {
    "duration": 67,
    "start_time": "2022-03-23T08:59:15.947Z"
   },
   {
    "duration": 74,
    "start_time": "2022-03-23T08:59:32.047Z"
   },
   {
    "duration": 66,
    "start_time": "2022-03-23T08:59:43.870Z"
   },
   {
    "duration": 95,
    "start_time": "2022-03-23T09:00:29.065Z"
   },
   {
    "duration": 523,
    "start_time": "2022-03-23T09:00:36.304Z"
   },
   {
    "duration": 117,
    "start_time": "2022-03-23T09:04:11.012Z"
   },
   {
    "duration": 122,
    "start_time": "2022-03-23T09:04:30.404Z"
   },
   {
    "duration": 97,
    "start_time": "2022-03-23T09:05:27.792Z"
   },
   {
    "duration": 94,
    "start_time": "2022-03-23T09:06:09.391Z"
   },
   {
    "duration": 114,
    "start_time": "2022-03-23T09:06:30.896Z"
   },
   {
    "duration": 187,
    "start_time": "2022-03-23T09:07:10.282Z"
   },
   {
    "duration": 542,
    "start_time": "2022-03-23T09:07:22.436Z"
   },
   {
    "duration": 569,
    "start_time": "2022-03-23T09:07:22.981Z"
   },
   {
    "duration": 63,
    "start_time": "2022-03-23T09:07:23.553Z"
   },
   {
    "duration": 83,
    "start_time": "2022-03-23T09:07:23.619Z"
   },
   {
    "duration": 64,
    "start_time": "2022-03-23T09:07:23.704Z"
   },
   {
    "duration": 32,
    "start_time": "2022-03-23T09:07:23.771Z"
   },
   {
    "duration": 175,
    "start_time": "2022-03-23T09:07:23.806Z"
   },
   {
    "duration": 275,
    "start_time": "2022-03-23T09:07:23.983Z"
   },
   {
    "duration": 87,
    "start_time": "2022-03-23T09:09:29.077Z"
   },
   {
    "duration": 227,
    "start_time": "2022-03-23T09:09:35.356Z"
   },
   {
    "duration": 239,
    "start_time": "2022-03-23T09:09:47.028Z"
   },
   {
    "duration": 570,
    "start_time": "2022-03-23T09:18:48.456Z"
   },
   {
    "duration": 579,
    "start_time": "2022-03-23T09:18:49.029Z"
   },
   {
    "duration": 88,
    "start_time": "2022-03-23T09:18:49.610Z"
   },
   {
    "duration": 76,
    "start_time": "2022-03-23T09:18:49.701Z"
   },
   {
    "duration": 40,
    "start_time": "2022-03-23T09:18:49.779Z"
   },
   {
    "duration": 62,
    "start_time": "2022-03-23T09:18:49.821Z"
   },
   {
    "duration": 101,
    "start_time": "2022-03-23T09:18:52.245Z"
   },
   {
    "duration": 99,
    "start_time": "2022-03-23T09:20:56.505Z"
   },
   {
    "duration": 100,
    "start_time": "2022-03-23T09:21:05.794Z"
   },
   {
    "duration": 138,
    "start_time": "2022-03-23T09:21:28.024Z"
   },
   {
    "duration": 257,
    "start_time": "2022-03-23T09:21:30.235Z"
   },
   {
    "duration": 11,
    "start_time": "2022-03-23T09:31:57.250Z"
   },
   {
    "duration": 76,
    "start_time": "2022-03-23T09:32:25.887Z"
   },
   {
    "duration": 86,
    "start_time": "2022-03-23T09:32:36.880Z"
   },
   {
    "duration": 524,
    "start_time": "2022-03-23T09:33:13.316Z"
   },
   {
    "duration": 532,
    "start_time": "2022-03-23T09:33:13.843Z"
   },
   {
    "duration": 61,
    "start_time": "2022-03-23T09:33:14.377Z"
   },
   {
    "duration": 84,
    "start_time": "2022-03-23T09:33:14.441Z"
   },
   {
    "duration": 62,
    "start_time": "2022-03-23T09:33:14.527Z"
   },
   {
    "duration": 32,
    "start_time": "2022-03-23T09:33:14.592Z"
   },
   {
    "duration": 208,
    "start_time": "2022-03-23T09:33:14.626Z"
   },
   {
    "duration": 291,
    "start_time": "2022-03-23T09:33:14.837Z"
   },
   {
    "duration": 69,
    "start_time": "2022-03-23T09:34:45.171Z"
   },
   {
    "duration": 116,
    "start_time": "2022-03-23T09:45:35.685Z"
   },
   {
    "duration": 153,
    "start_time": "2022-03-23T09:45:46.348Z"
   },
   {
    "duration": 178,
    "start_time": "2022-03-23T09:45:58.337Z"
   },
   {
    "duration": 72,
    "start_time": "2022-03-23T09:46:20.698Z"
   },
   {
    "duration": 593,
    "start_time": "2022-03-23T09:46:45.611Z"
   },
   {
    "duration": 78,
    "start_time": "2022-03-23T09:49:53.677Z"
   },
   {
    "duration": 119,
    "start_time": "2022-03-23T09:55:03.560Z"
   },
   {
    "duration": 95,
    "start_time": "2022-03-23T09:57:47.619Z"
   },
   {
    "duration": 22,
    "start_time": "2022-03-23T09:58:14.696Z"
   },
   {
    "duration": 29,
    "start_time": "2022-03-23T09:59:28.980Z"
   },
   {
    "duration": 41,
    "start_time": "2022-03-23T10:00:32.725Z"
   },
   {
    "duration": 27,
    "start_time": "2022-03-23T10:00:37.218Z"
   },
   {
    "duration": 36,
    "start_time": "2022-03-23T10:00:49.849Z"
   },
   {
    "duration": 60,
    "start_time": "2022-03-23T10:01:01.283Z"
   },
   {
    "duration": 54,
    "start_time": "2022-03-23T10:02:22.698Z"
   },
   {
    "duration": 110,
    "start_time": "2022-03-23T10:03:32.427Z"
   },
   {
    "duration": 72,
    "start_time": "2022-03-23T10:06:20.064Z"
   },
   {
    "duration": 22,
    "start_time": "2022-03-23T10:07:43.167Z"
   },
   {
    "duration": 40,
    "start_time": "2022-03-23T10:10:45.709Z"
   },
   {
    "duration": 22,
    "start_time": "2022-03-23T10:13:54.416Z"
   },
   {
    "duration": 33,
    "start_time": "2022-03-23T10:19:22.499Z"
   },
   {
    "duration": 40,
    "start_time": "2022-03-23T10:19:41.043Z"
   },
   {
    "duration": 40,
    "start_time": "2022-03-23T10:21:22.489Z"
   },
   {
    "duration": 41,
    "start_time": "2022-03-23T10:22:59.755Z"
   },
   {
    "duration": 59,
    "start_time": "2022-03-23T10:26:19.471Z"
   },
   {
    "duration": 57,
    "start_time": "2022-03-23T10:27:34.564Z"
   },
   {
    "duration": 122,
    "start_time": "2022-03-23T10:30:06.991Z"
   },
   {
    "duration": 73,
    "start_time": "2022-03-23T10:31:46.870Z"
   },
   {
    "duration": 58,
    "start_time": "2022-03-23T10:37:11.896Z"
   },
   {
    "duration": 73,
    "start_time": "2022-03-23T10:38:36.266Z"
   },
   {
    "duration": 12,
    "start_time": "2022-03-23T10:53:14.732Z"
   },
   {
    "duration": 4,
    "start_time": "2022-03-23T10:54:04.308Z"
   },
   {
    "duration": 6,
    "start_time": "2022-03-23T10:54:08.513Z"
   },
   {
    "duration": 4,
    "start_time": "2022-03-23T10:54:12.663Z"
   },
   {
    "duration": 49,
    "start_time": "2022-03-23T13:29:42.563Z"
   },
   {
    "duration": 404,
    "start_time": "2022-03-23T13:29:45.821Z"
   },
   {
    "duration": 419,
    "start_time": "2022-03-23T13:29:46.226Z"
   },
   {
    "duration": 47,
    "start_time": "2022-03-23T13:29:46.647Z"
   },
   {
    "duration": 48,
    "start_time": "2022-03-23T13:29:46.709Z"
   },
   {
    "duration": 30,
    "start_time": "2022-03-23T13:29:46.758Z"
   },
   {
    "duration": 39,
    "start_time": "2022-03-23T13:29:46.790Z"
   },
   {
    "duration": 120,
    "start_time": "2022-03-23T13:29:46.831Z"
   },
   {
    "duration": 180,
    "start_time": "2022-03-23T13:29:46.952Z"
   },
   {
    "duration": 48,
    "start_time": "2022-03-23T13:29:47.134Z"
   },
   {
    "duration": 14,
    "start_time": "2022-03-23T13:29:48.247Z"
   },
   {
    "duration": 4,
    "start_time": "2022-03-23T13:31:36.864Z"
   },
   {
    "duration": 4,
    "start_time": "2022-03-23T13:31:48.966Z"
   },
   {
    "duration": 17,
    "start_time": "2022-03-23T13:34:26.574Z"
   },
   {
    "duration": 10,
    "start_time": "2022-03-23T13:34:51.216Z"
   },
   {
    "duration": 8,
    "start_time": "2022-03-23T13:34:55.387Z"
   },
   {
    "duration": 12,
    "start_time": "2022-03-23T13:35:50.688Z"
   },
   {
    "duration": 5,
    "start_time": "2022-03-23T13:35:59.495Z"
   },
   {
    "duration": 73,
    "start_time": "2022-03-23T13:36:42.338Z"
   },
   {
    "duration": 73,
    "start_time": "2022-03-23T13:41:55.285Z"
   },
   {
    "duration": 123,
    "start_time": "2022-03-23T13:43:26.403Z"
   },
   {
    "duration": 80,
    "start_time": "2022-03-23T13:44:03.320Z"
   },
   {
    "duration": 77,
    "start_time": "2022-03-23T13:44:15.054Z"
   },
   {
    "duration": 36,
    "start_time": "2022-03-23T13:45:08.177Z"
   },
   {
    "duration": 30,
    "start_time": "2022-03-23T13:45:40.875Z"
   },
   {
    "duration": 27,
    "start_time": "2022-03-23T13:45:57.229Z"
   },
   {
    "duration": 27,
    "start_time": "2022-03-23T13:46:01.798Z"
   },
   {
    "duration": 27,
    "start_time": "2022-03-23T13:46:59.213Z"
   },
   {
    "duration": 24,
    "start_time": "2022-03-23T13:51:51.110Z"
   },
   {
    "duration": 30,
    "start_time": "2022-03-23T13:56:19.991Z"
   },
   {
    "duration": 93,
    "start_time": "2022-03-23T13:57:19.304Z"
   },
   {
    "duration": 408,
    "start_time": "2022-03-23T13:57:30.628Z"
   },
   {
    "duration": 458,
    "start_time": "2022-03-23T13:57:31.039Z"
   },
   {
    "duration": 48,
    "start_time": "2022-03-23T13:57:31.499Z"
   },
   {
    "duration": 58,
    "start_time": "2022-03-23T13:57:31.551Z"
   },
   {
    "duration": 32,
    "start_time": "2022-03-23T13:57:31.611Z"
   },
   {
    "duration": 21,
    "start_time": "2022-03-23T13:57:31.644Z"
   },
   {
    "duration": 134,
    "start_time": "2022-03-23T13:57:31.667Z"
   },
   {
    "duration": 195,
    "start_time": "2022-03-23T13:57:31.803Z"
   },
   {
    "duration": 54,
    "start_time": "2022-03-23T13:57:32.000Z"
   },
   {
    "duration": 5,
    "start_time": "2022-03-23T13:57:32.056Z"
   },
   {
    "duration": 88,
    "start_time": "2022-03-23T13:57:36.221Z"
   },
   {
    "duration": 23,
    "start_time": "2022-03-23T13:57:51.340Z"
   },
   {
    "duration": 35,
    "start_time": "2022-03-23T13:57:53.659Z"
   },
   {
    "duration": 39,
    "start_time": "2022-03-23T13:58:50.227Z"
   },
   {
    "duration": 29,
    "start_time": "2022-03-23T13:59:49.475Z"
   },
   {
    "duration": 29,
    "start_time": "2022-03-23T14:00:15.952Z"
   },
   {
    "duration": 91,
    "start_time": "2022-03-23T14:27:22.549Z"
   },
   {
    "duration": 849,
    "start_time": "2022-03-23T14:27:37.740Z"
   },
   {
    "duration": 1069,
    "start_time": "2022-03-23T14:28:18.739Z"
   },
   {
    "duration": 17,
    "start_time": "2022-03-23T14:28:50.488Z"
   },
   {
    "duration": 835,
    "start_time": "2022-03-23T14:29:42.605Z"
   },
   {
    "duration": 1523,
    "start_time": "2022-03-23T14:30:01.968Z"
   },
   {
    "duration": 916,
    "start_time": "2022-03-23T14:41:43.081Z"
   },
   {
    "duration": 839,
    "start_time": "2022-03-23T14:41:58.826Z"
   },
   {
    "duration": 833,
    "start_time": "2022-03-23T14:43:26.491Z"
   },
   {
    "duration": 27,
    "start_time": "2022-03-23T14:44:06.504Z"
   },
   {
    "duration": 141,
    "start_time": "2022-03-23T14:44:24.445Z"
   },
   {
    "duration": 118,
    "start_time": "2022-03-23T14:44:27.026Z"
   },
   {
    "duration": 7,
    "start_time": "2022-03-23T16:48:04.288Z"
   },
   {
    "duration": 5,
    "start_time": "2022-03-23T16:48:12.833Z"
   },
   {
    "duration": 7,
    "start_time": "2022-03-23T16:48:20.667Z"
   },
   {
    "duration": 8,
    "start_time": "2022-03-23T16:48:45.058Z"
   },
   {
    "duration": 8,
    "start_time": "2022-03-23T16:49:07.311Z"
   },
   {
    "duration": 8,
    "start_time": "2022-03-23T16:49:27.113Z"
   },
   {
    "duration": 380,
    "start_time": "2022-03-23T16:49:34.932Z"
   },
   {
    "duration": 404,
    "start_time": "2022-03-23T16:49:35.314Z"
   },
   {
    "duration": 45,
    "start_time": "2022-03-23T16:49:35.720Z"
   },
   {
    "duration": 60,
    "start_time": "2022-03-23T16:49:35.767Z"
   },
   {
    "duration": 29,
    "start_time": "2022-03-23T16:49:35.829Z"
   },
   {
    "duration": 21,
    "start_time": "2022-03-23T16:49:35.859Z"
   },
   {
    "duration": 127,
    "start_time": "2022-03-23T16:49:35.882Z"
   },
   {
    "duration": 163,
    "start_time": "2022-03-23T16:49:36.011Z"
   },
   {
    "duration": 58,
    "start_time": "2022-03-23T16:49:36.175Z"
   },
   {
    "duration": 4,
    "start_time": "2022-03-23T16:49:36.235Z"
   },
   {
    "duration": 92,
    "start_time": "2022-03-23T16:49:36.241Z"
   },
   {
    "duration": 22,
    "start_time": "2022-03-23T16:49:36.335Z"
   },
   {
    "duration": 29,
    "start_time": "2022-03-23T16:49:36.359Z"
   },
   {
    "duration": 138,
    "start_time": "2022-03-23T16:49:36.390Z"
   },
   {
    "duration": 6,
    "start_time": "2022-03-23T16:49:39.558Z"
   },
   {
    "duration": 6,
    "start_time": "2022-03-23T16:49:52.038Z"
   },
   {
    "duration": 72,
    "start_time": "2022-03-23T16:50:04.664Z"
   },
   {
    "duration": 6,
    "start_time": "2022-03-23T16:50:11.643Z"
   },
   {
    "duration": 36,
    "start_time": "2022-03-23T16:52:23.476Z"
   },
   {
    "duration": 36,
    "start_time": "2022-03-23T16:52:51.149Z"
   },
   {
    "duration": 22,
    "start_time": "2022-03-23T16:53:05.931Z"
   },
   {
    "duration": 31,
    "start_time": "2022-03-23T16:53:13.284Z"
   },
   {
    "duration": 5,
    "start_time": "2022-03-23T16:53:40.888Z"
   },
   {
    "duration": 7,
    "start_time": "2022-03-23T16:53:48.608Z"
   },
   {
    "duration": 9,
    "start_time": "2022-03-23T16:53:56.032Z"
   },
   {
    "duration": 26,
    "start_time": "2022-03-23T16:55:20.330Z"
   },
   {
    "duration": 22,
    "start_time": "2022-03-23T16:55:36.182Z"
   },
   {
    "duration": 24,
    "start_time": "2022-03-23T16:56:10.329Z"
   },
   {
    "duration": 12,
    "start_time": "2022-03-23T17:07:06.679Z"
   },
   {
    "duration": 15,
    "start_time": "2022-03-23T17:07:54.791Z"
   },
   {
    "duration": 21,
    "start_time": "2022-03-23T17:13:06.543Z"
   },
   {
    "duration": 46,
    "start_time": "2022-03-23T17:13:51.113Z"
   },
   {
    "duration": 21,
    "start_time": "2022-03-23T17:15:29.315Z"
   },
   {
    "duration": 24,
    "start_time": "2022-03-23T17:16:35.106Z"
   },
   {
    "duration": 22,
    "start_time": "2022-03-23T17:16:44.349Z"
   },
   {
    "duration": 38,
    "start_time": "2022-03-23T17:16:54.614Z"
   },
   {
    "duration": 36,
    "start_time": "2022-03-23T17:18:59.907Z"
   },
   {
    "duration": 14,
    "start_time": "2022-03-23T17:21:27.783Z"
   },
   {
    "duration": 17,
    "start_time": "2022-03-23T17:21:41.134Z"
   },
   {
    "duration": 28,
    "start_time": "2022-03-23T17:22:05.406Z"
   },
   {
    "duration": 26,
    "start_time": "2022-03-23T17:22:45.239Z"
   },
   {
    "duration": 28,
    "start_time": "2022-03-23T17:22:56.354Z"
   },
   {
    "duration": 22,
    "start_time": "2022-03-23T17:23:53.298Z"
   },
   {
    "duration": 15,
    "start_time": "2022-03-23T17:24:21.129Z"
   },
   {
    "duration": 1267,
    "start_time": "2022-03-23T17:25:51.016Z"
   },
   {
    "duration": 25,
    "start_time": "2022-03-23T17:25:52.633Z"
   },
   {
    "duration": 390,
    "start_time": "2022-03-23T17:26:02.347Z"
   },
   {
    "duration": 410,
    "start_time": "2022-03-23T17:26:02.739Z"
   },
   {
    "duration": 47,
    "start_time": "2022-03-23T17:26:03.150Z"
   },
   {
    "duration": 54,
    "start_time": "2022-03-23T17:26:03.198Z"
   },
   {
    "duration": 29,
    "start_time": "2022-03-23T17:26:03.254Z"
   },
   {
    "duration": 41,
    "start_time": "2022-03-23T17:26:03.285Z"
   },
   {
    "duration": 108,
    "start_time": "2022-03-23T17:26:03.328Z"
   },
   {
    "duration": 162,
    "start_time": "2022-03-23T17:26:03.438Z"
   },
   {
    "duration": 54,
    "start_time": "2022-03-23T17:26:03.602Z"
   },
   {
    "duration": 4,
    "start_time": "2022-03-23T17:26:03.658Z"
   },
   {
    "duration": 72,
    "start_time": "2022-03-23T17:28:06.147Z"
   },
   {
    "duration": 24,
    "start_time": "2022-03-23T17:28:09.506Z"
   },
   {
    "duration": 31,
    "start_time": "2022-03-23T17:28:17.026Z"
   },
   {
    "duration": 1056,
    "start_time": "2022-03-23T17:28:21.903Z"
   },
   {
    "duration": 30,
    "start_time": "2022-03-23T17:29:12.654Z"
   },
   {
    "duration": 1113,
    "start_time": "2022-03-23T17:29:18.206Z"
   },
   {
    "duration": 127,
    "start_time": "2022-03-23T17:29:33.985Z"
   },
   {
    "duration": 10,
    "start_time": "2022-03-23T17:29:40.211Z"
   },
   {
    "duration": 19,
    "start_time": "2022-03-23T17:29:59.267Z"
   },
   {
    "duration": 45,
    "start_time": "2022-03-23T17:33:23.577Z"
   },
   {
    "duration": 45,
    "start_time": "2022-03-23T17:33:50.028Z"
   },
   {
    "duration": 10,
    "start_time": "2022-03-23T17:43:16.437Z"
   },
   {
    "duration": 9,
    "start_time": "2022-03-23T17:43:23.708Z"
   },
   {
    "duration": 904,
    "start_time": "2022-03-23T17:44:08.490Z"
   },
   {
    "duration": 50,
    "start_time": "2022-03-23T17:44:13.679Z"
   },
   {
    "duration": 15,
    "start_time": "2022-03-23T17:44:31.498Z"
   },
   {
    "duration": 232,
    "start_time": "2022-03-23T17:45:01.948Z"
   },
   {
    "duration": 220,
    "start_time": "2022-03-23T17:45:14.283Z"
   },
   {
    "duration": 209,
    "start_time": "2022-03-23T17:45:25.013Z"
   },
   {
    "duration": 228,
    "start_time": "2022-03-23T17:45:35.185Z"
   },
   {
    "duration": 134,
    "start_time": "2022-03-23T17:45:59.980Z"
   },
   {
    "duration": 228,
    "start_time": "2022-03-23T17:46:05.332Z"
   },
   {
    "duration": 455,
    "start_time": "2022-03-23T17:47:29.824Z"
   },
   {
    "duration": 261,
    "start_time": "2022-03-23T17:47:35.068Z"
   },
   {
    "duration": 267,
    "start_time": "2022-03-23T17:47:40.254Z"
   },
   {
    "duration": 248,
    "start_time": "2022-03-23T17:47:44.158Z"
   },
   {
    "duration": 3,
    "start_time": "2022-03-23T17:51:19.240Z"
   },
   {
    "duration": 61,
    "start_time": "2022-03-23T17:52:08.736Z"
   },
   {
    "duration": 63,
    "start_time": "2022-03-23T17:52:27.472Z"
   },
   {
    "duration": 82,
    "start_time": "2022-03-23T17:52:29.965Z"
   },
   {
    "duration": 168,
    "start_time": "2022-03-23T17:53:57.600Z"
   },
   {
    "duration": 175,
    "start_time": "2022-03-23T17:54:14.650Z"
   },
   {
    "duration": 155,
    "start_time": "2022-03-23T17:54:19.089Z"
   },
   {
    "duration": 989,
    "start_time": "2022-03-23T17:54:37.293Z"
   },
   {
    "duration": 36,
    "start_time": "2022-03-23T17:58:52.905Z"
   },
   {
    "duration": 134,
    "start_time": "2022-03-23T17:59:12.506Z"
   },
   {
    "duration": 128,
    "start_time": "2022-03-23T17:59:46.647Z"
   },
   {
    "duration": 124,
    "start_time": "2022-03-23T18:00:08.179Z"
   },
   {
    "duration": 135,
    "start_time": "2022-03-23T18:00:41.014Z"
   },
   {
    "duration": 119,
    "start_time": "2022-03-23T18:00:45.148Z"
   },
   {
    "duration": 133,
    "start_time": "2022-03-23T18:00:50.101Z"
   },
   {
    "duration": 146,
    "start_time": "2022-03-23T18:00:54.738Z"
   },
   {
    "duration": 159,
    "start_time": "2022-03-23T18:01:07.794Z"
   },
   {
    "duration": 55,
    "start_time": "2022-03-24T16:51:17.365Z"
   },
   {
    "duration": 1413,
    "start_time": "2022-03-24T16:51:21.668Z"
   },
   {
    "duration": 487,
    "start_time": "2022-03-24T16:51:23.083Z"
   },
   {
    "duration": 60,
    "start_time": "2022-03-24T16:51:23.572Z"
   },
   {
    "duration": 51,
    "start_time": "2022-03-24T16:51:23.634Z"
   },
   {
    "duration": 49,
    "start_time": "2022-03-24T16:51:23.686Z"
   },
   {
    "duration": 25,
    "start_time": "2022-03-24T16:51:23.737Z"
   },
   {
    "duration": 133,
    "start_time": "2022-03-24T16:51:23.763Z"
   },
   {
    "duration": 199,
    "start_time": "2022-03-24T16:51:23.898Z"
   },
   {
    "duration": 63,
    "start_time": "2022-03-24T16:51:24.099Z"
   },
   {
    "duration": 4,
    "start_time": "2022-03-24T16:51:24.165Z"
   },
   {
    "duration": 91,
    "start_time": "2022-03-24T16:51:24.171Z"
   },
   {
    "duration": 25,
    "start_time": "2022-03-24T16:51:24.264Z"
   },
   {
    "duration": 44,
    "start_time": "2022-03-24T16:51:24.291Z"
   },
   {
    "duration": 154,
    "start_time": "2022-03-24T16:51:24.336Z"
   },
   {
    "duration": 56,
    "start_time": "2022-03-24T16:51:24.491Z"
   },
   {
    "duration": 314,
    "start_time": "2022-03-24T16:51:26.082Z"
   },
   {
    "duration": 291,
    "start_time": "2022-03-24T16:51:33.894Z"
   },
   {
    "duration": 287,
    "start_time": "2022-03-24T16:52:09.700Z"
   },
   {
    "duration": 301,
    "start_time": "2022-03-24T16:52:14.315Z"
   },
   {
    "duration": 357,
    "start_time": "2022-03-24T16:59:59.815Z"
   },
   {
    "duration": 166,
    "start_time": "2022-03-24T17:00:07.277Z"
   },
   {
    "duration": 164,
    "start_time": "2022-03-24T17:00:12.239Z"
   },
   {
    "duration": 99,
    "start_time": "2022-03-24T17:02:12.391Z"
   },
   {
    "duration": 0,
    "start_time": "2022-03-24T17:02:23.767Z"
   },
   {
    "duration": 2716,
    "start_time": "2022-03-24T17:02:33.650Z"
   },
   {
    "duration": 44,
    "start_time": "2022-03-24T17:02:53.240Z"
   },
   {
    "duration": 54,
    "start_time": "2022-03-24T17:06:08.857Z"
   },
   {
    "duration": 44,
    "start_time": "2022-03-24T17:06:19.815Z"
   },
   {
    "duration": 64,
    "start_time": "2022-03-24T17:07:03.272Z"
   },
   {
    "duration": 181,
    "start_time": "2022-03-24T17:07:22.456Z"
   },
   {
    "duration": 294,
    "start_time": "2022-03-24T17:07:31.495Z"
   },
   {
    "duration": 233,
    "start_time": "2022-03-24T17:07:43.896Z"
   },
   {
    "duration": 180,
    "start_time": "2022-03-24T17:07:51.099Z"
   },
   {
    "duration": 181,
    "start_time": "2022-03-24T17:09:46.548Z"
   },
   {
    "duration": 309,
    "start_time": "2022-03-24T17:10:25.432Z"
   },
   {
    "duration": 197,
    "start_time": "2022-03-24T17:10:32.902Z"
   },
   {
    "duration": 236,
    "start_time": "2022-03-24T17:11:14.496Z"
   },
   {
    "duration": 217,
    "start_time": "2022-03-24T17:11:23.771Z"
   },
   {
    "duration": 231,
    "start_time": "2022-03-24T17:12:11.319Z"
   },
   {
    "duration": 219,
    "start_time": "2022-03-24T17:12:31.957Z"
   },
   {
    "duration": 2684,
    "start_time": "2022-03-24T17:13:45.941Z"
   },
   {
    "duration": 224,
    "start_time": "2022-03-24T17:13:54.290Z"
   },
   {
    "duration": 197,
    "start_time": "2022-03-24T17:17:51.240Z"
   },
   {
    "duration": 11,
    "start_time": "2022-03-24T17:19:22.838Z"
   },
   {
    "duration": 206,
    "start_time": "2022-03-24T17:19:29.480Z"
   },
   {
    "duration": 2706,
    "start_time": "2022-03-24T17:19:53.878Z"
   },
   {
    "duration": 38,
    "start_time": "2022-03-24T17:20:15.042Z"
   },
   {
    "duration": 2927,
    "start_time": "2022-03-24T17:20:28.214Z"
   },
   {
    "duration": 202,
    "start_time": "2022-03-24T17:23:18.352Z"
   },
   {
    "duration": 40,
    "start_time": "2022-03-24T17:24:00.009Z"
   },
   {
    "duration": 20,
    "start_time": "2022-03-24T17:24:13.568Z"
   },
   {
    "duration": 2770,
    "start_time": "2022-03-24T17:24:32.247Z"
   },
   {
    "duration": 221,
    "start_time": "2022-03-24T17:25:27.623Z"
   },
   {
    "duration": 168,
    "start_time": "2022-03-24T17:25:38.745Z"
   },
   {
    "duration": 26,
    "start_time": "2022-03-24T17:25:43.787Z"
   },
   {
    "duration": 21,
    "start_time": "2022-03-24T17:26:37.848Z"
   },
   {
    "duration": 26,
    "start_time": "2022-03-24T17:26:59.608Z"
   },
   {
    "duration": 56,
    "start_time": "2022-03-24T17:27:12.486Z"
   },
   {
    "duration": 2802,
    "start_time": "2022-03-24T17:27:29.213Z"
   },
   {
    "duration": 26,
    "start_time": "2022-03-24T17:28:07.882Z"
   },
   {
    "duration": 2920,
    "start_time": "2022-03-24T17:28:19.200Z"
   },
   {
    "duration": 796,
    "start_time": "2022-03-24T17:28:32.879Z"
   },
   {
    "duration": 2742,
    "start_time": "2022-03-24T17:29:00.212Z"
   },
   {
    "duration": 327,
    "start_time": "2022-03-24T17:29:06.234Z"
   },
   {
    "duration": 10,
    "start_time": "2022-03-24T17:33:13.011Z"
   },
   {
    "duration": 5,
    "start_time": "2022-03-24T17:33:19.016Z"
   },
   {
    "duration": 5,
    "start_time": "2022-03-24T17:33:21.821Z"
   },
   {
    "duration": 4,
    "start_time": "2022-03-24T17:33:28.904Z"
   },
   {
    "duration": 37,
    "start_time": "2022-03-24T17:34:11.079Z"
   },
   {
    "duration": 5,
    "start_time": "2022-03-24T17:34:18.016Z"
   },
   {
    "duration": 11,
    "start_time": "2022-03-24T17:34:59.478Z"
   },
   {
    "duration": 1309,
    "start_time": "2022-03-24T17:35:18.491Z"
   },
   {
    "duration": 516,
    "start_time": "2022-03-24T17:35:19.802Z"
   },
   {
    "duration": 54,
    "start_time": "2022-03-24T17:35:20.319Z"
   },
   {
    "duration": 57,
    "start_time": "2022-03-24T17:35:20.375Z"
   },
   {
    "duration": 35,
    "start_time": "2022-03-24T17:35:20.434Z"
   },
   {
    "duration": 26,
    "start_time": "2022-03-24T17:35:20.470Z"
   },
   {
    "duration": 140,
    "start_time": "2022-03-24T17:35:20.498Z"
   },
   {
    "duration": 197,
    "start_time": "2022-03-24T17:35:20.640Z"
   },
   {
    "duration": 53,
    "start_time": "2022-03-24T17:35:20.839Z"
   },
   {
    "duration": 5,
    "start_time": "2022-03-24T17:35:20.895Z"
   },
   {
    "duration": 95,
    "start_time": "2022-03-24T17:35:20.901Z"
   },
   {
    "duration": 35,
    "start_time": "2022-03-24T17:35:20.998Z"
   },
   {
    "duration": 33,
    "start_time": "2022-03-24T17:35:21.035Z"
   },
   {
    "duration": 164,
    "start_time": "2022-03-24T17:35:21.070Z"
   },
   {
    "duration": 26,
    "start_time": "2022-03-24T17:35:28.863Z"
   },
   {
    "duration": 19,
    "start_time": "2022-03-24T17:35:45.852Z"
   },
   {
    "duration": 6162,
    "start_time": "2022-03-24T17:36:03.251Z"
   },
   {
    "duration": 28,
    "start_time": "2022-03-24T17:39:57.325Z"
   },
   {
    "duration": 24,
    "start_time": "2022-03-24T17:40:28.736Z"
   },
   {
    "duration": 24,
    "start_time": "2022-03-24T17:40:33.719Z"
   },
   {
    "duration": 177,
    "start_time": "2022-03-24T17:44:57.410Z"
   },
   {
    "duration": 23,
    "start_time": "2022-03-24T17:45:07.565Z"
   },
   {
    "duration": 35,
    "start_time": "2022-03-24T17:45:15.457Z"
   },
   {
    "duration": 47,
    "start_time": "2022-03-24T17:45:26.456Z"
   },
   {
    "duration": 46,
    "start_time": "2022-03-24T17:45:32.652Z"
   },
   {
    "duration": 46,
    "start_time": "2022-03-24T17:45:40.911Z"
   },
   {
    "duration": 2492,
    "start_time": "2022-03-24T17:46:07.916Z"
   },
   {
    "duration": 48,
    "start_time": "2022-03-24T17:46:34.547Z"
   },
   {
    "duration": 56,
    "start_time": "2022-03-24T17:49:21.931Z"
   },
   {
    "duration": 1249,
    "start_time": "2022-03-24T17:49:40.523Z"
   },
   {
    "duration": 542,
    "start_time": "2022-03-24T17:49:41.775Z"
   },
   {
    "duration": 53,
    "start_time": "2022-03-24T17:49:42.319Z"
   },
   {
    "duration": 59,
    "start_time": "2022-03-24T17:49:42.374Z"
   },
   {
    "duration": 34,
    "start_time": "2022-03-24T17:49:42.434Z"
   },
   {
    "duration": 25,
    "start_time": "2022-03-24T17:49:42.470Z"
   },
   {
    "duration": 141,
    "start_time": "2022-03-24T17:49:42.497Z"
   },
   {
    "duration": 205,
    "start_time": "2022-03-24T17:49:42.640Z"
   },
   {
    "duration": 54,
    "start_time": "2022-03-24T17:49:42.847Z"
   },
   {
    "duration": 5,
    "start_time": "2022-03-24T17:49:42.903Z"
   },
   {
    "duration": 98,
    "start_time": "2022-03-24T17:49:42.910Z"
   },
   {
    "duration": 37,
    "start_time": "2022-03-24T17:49:43.010Z"
   },
   {
    "duration": 33,
    "start_time": "2022-03-24T17:49:43.049Z"
   },
   {
    "duration": 164,
    "start_time": "2022-03-24T17:49:43.084Z"
   },
   {
    "duration": 52,
    "start_time": "2022-03-24T17:49:46.713Z"
   },
   {
    "duration": 264,
    "start_time": "2022-03-24T17:50:03.310Z"
   },
   {
    "duration": 107,
    "start_time": "2022-03-24T17:54:06.475Z"
   },
   {
    "duration": 260,
    "start_time": "2022-03-24T17:57:41.428Z"
   },
   {
    "duration": 222,
    "start_time": "2022-03-24T17:57:59.716Z"
   },
   {
    "duration": 246,
    "start_time": "2022-03-24T18:01:55.537Z"
   },
   {
    "duration": 2711,
    "start_time": "2022-03-24T18:07:06.892Z"
   },
   {
    "duration": 2804,
    "start_time": "2022-03-24T18:07:17.976Z"
   },
   {
    "duration": 245,
    "start_time": "2022-03-24T18:07:53.245Z"
   },
   {
    "duration": 4,
    "start_time": "2022-03-24T18:11:39.591Z"
   },
   {
    "duration": 261,
    "start_time": "2022-03-24T18:13:02.508Z"
   },
   {
    "duration": 236,
    "start_time": "2022-03-24T18:13:04.353Z"
   },
   {
    "duration": 319,
    "start_time": "2022-03-24T18:13:15.888Z"
   },
   {
    "duration": 9,
    "start_time": "2022-03-24T18:14:33.968Z"
   },
   {
    "duration": 4,
    "start_time": "2022-03-24T18:14:42.955Z"
   },
   {
    "duration": 248,
    "start_time": "2022-03-24T18:14:44.234Z"
   },
   {
    "duration": 199,
    "start_time": "2022-03-24T18:14:56.962Z"
   },
   {
    "duration": 208,
    "start_time": "2022-03-24T18:15:08.698Z"
   },
   {
    "duration": 251,
    "start_time": "2022-03-24T18:15:12.969Z"
   },
   {
    "duration": 220,
    "start_time": "2022-03-24T18:15:15.463Z"
   },
   {
    "duration": 262,
    "start_time": "2022-03-24T18:16:01.141Z"
   },
   {
    "duration": 1348,
    "start_time": "2022-03-25T10:42:36.530Z"
   },
   {
    "duration": 698,
    "start_time": "2022-03-25T10:42:37.881Z"
   },
   {
    "duration": 53,
    "start_time": "2022-03-25T10:42:38.580Z"
   },
   {
    "duration": 47,
    "start_time": "2022-03-25T10:42:38.635Z"
   },
   {
    "duration": 50,
    "start_time": "2022-03-25T10:42:38.684Z"
   },
   {
    "duration": 21,
    "start_time": "2022-03-25T10:42:38.735Z"
   },
   {
    "duration": 113,
    "start_time": "2022-03-25T10:42:38.757Z"
   },
   {
    "duration": 179,
    "start_time": "2022-03-25T10:42:38.871Z"
   },
   {
    "duration": 48,
    "start_time": "2022-03-25T10:42:39.052Z"
   },
   {
    "duration": 4,
    "start_time": "2022-03-25T10:42:39.102Z"
   },
   {
    "duration": 89,
    "start_time": "2022-03-25T10:42:39.108Z"
   },
   {
    "duration": 34,
    "start_time": "2022-03-25T10:42:39.199Z"
   },
   {
    "duration": 43,
    "start_time": "2022-03-25T10:42:39.235Z"
   },
   {
    "duration": 149,
    "start_time": "2022-03-25T10:42:39.280Z"
   },
   {
    "duration": 43,
    "start_time": "2022-03-25T10:42:39.432Z"
   },
   {
    "duration": 99,
    "start_time": "2022-03-25T10:47:43.485Z"
   },
   {
    "duration": 4,
    "start_time": "2022-03-25T10:47:57.219Z"
   },
   {
    "duration": 407,
    "start_time": "2022-03-25T10:47:57.225Z"
   },
   {
    "duration": 40,
    "start_time": "2022-03-25T10:47:57.634Z"
   },
   {
    "duration": 57,
    "start_time": "2022-03-25T10:47:57.676Z"
   },
   {
    "duration": 28,
    "start_time": "2022-03-25T10:47:57.735Z"
   },
   {
    "duration": 20,
    "start_time": "2022-03-25T10:47:57.765Z"
   },
   {
    "duration": 117,
    "start_time": "2022-03-25T10:47:57.786Z"
   },
   {
    "duration": 176,
    "start_time": "2022-03-25T10:47:57.905Z"
   },
   {
    "duration": 57,
    "start_time": "2022-03-25T10:47:58.083Z"
   },
   {
    "duration": 4,
    "start_time": "2022-03-25T10:47:58.143Z"
   },
   {
    "duration": 68,
    "start_time": "2022-03-25T10:47:58.148Z"
   },
   {
    "duration": 20,
    "start_time": "2022-03-25T10:47:58.218Z"
   },
   {
    "duration": 39,
    "start_time": "2022-03-25T10:47:58.240Z"
   },
   {
    "duration": 123,
    "start_time": "2022-03-25T10:47:58.280Z"
   },
   {
    "duration": 46,
    "start_time": "2022-03-25T10:47:58.405Z"
   },
   {
    "duration": 4,
    "start_time": "2022-03-25T10:47:58.452Z"
   },
   {
    "duration": 166,
    "start_time": "2022-03-25T10:48:00.953Z"
   },
   {
    "duration": 222,
    "start_time": "2022-03-25T10:48:05.176Z"
   },
   {
    "duration": 208,
    "start_time": "2022-03-25T10:48:08.160Z"
   },
   {
    "duration": 203,
    "start_time": "2022-03-25T10:48:10.632Z"
   },
   {
    "duration": 197,
    "start_time": "2022-03-25T10:48:13.874Z"
   },
   {
    "duration": 263,
    "start_time": "2022-03-25T10:48:19.343Z"
   },
   {
    "duration": 155,
    "start_time": "2022-03-25T10:48:23.321Z"
   },
   {
    "duration": 186,
    "start_time": "2022-03-25T10:48:26.784Z"
   },
   {
    "duration": 190,
    "start_time": "2022-03-25T10:48:29.179Z"
   },
   {
    "duration": 49,
    "start_time": "2022-03-25T10:49:01.563Z"
   },
   {
    "duration": 45,
    "start_time": "2022-03-25T10:50:12.889Z"
   },
   {
    "duration": 180,
    "start_time": "2022-03-25T10:51:26.620Z"
   },
   {
    "duration": 194,
    "start_time": "2022-03-25T10:51:57.510Z"
   },
   {
    "duration": 176,
    "start_time": "2022-03-25T10:58:32.544Z"
   },
   {
    "duration": 171,
    "start_time": "2022-03-25T10:58:41.952Z"
   },
   {
    "duration": 183,
    "start_time": "2022-03-25T10:58:46.627Z"
   },
   {
    "duration": 184,
    "start_time": "2022-03-25T10:58:54.140Z"
   },
   {
    "duration": 198,
    "start_time": "2022-03-25T10:58:56.329Z"
   },
   {
    "duration": 297,
    "start_time": "2022-03-25T10:59:08.569Z"
   },
   {
    "duration": 185,
    "start_time": "2022-03-25T10:59:12.699Z"
   },
   {
    "duration": 207,
    "start_time": "2022-03-25T11:11:41.436Z"
   },
   {
    "duration": 210,
    "start_time": "2022-03-25T11:12:14.716Z"
   },
   {
    "duration": 2578,
    "start_time": "2022-03-25T11:14:08.547Z"
   },
   {
    "duration": 199,
    "start_time": "2022-03-25T11:14:12.340Z"
   },
   {
    "duration": 314,
    "start_time": "2022-03-25T11:14:36.103Z"
   },
   {
    "duration": 305,
    "start_time": "2022-03-25T11:14:53.878Z"
   },
   {
    "duration": 212,
    "start_time": "2022-03-25T11:18:24.478Z"
   },
   {
    "duration": 444,
    "start_time": "2022-03-25T11:22:12.589Z"
   },
   {
    "duration": 359,
    "start_time": "2022-03-25T11:22:41.107Z"
   },
   {
    "duration": 4,
    "start_time": "2022-03-25T11:25:38.843Z"
   },
   {
    "duration": 5,
    "start_time": "2022-03-25T11:26:38.675Z"
   },
   {
    "duration": 367,
    "start_time": "2022-03-25T11:26:39.645Z"
   },
   {
    "duration": 4,
    "start_time": "2022-03-25T11:27:27.001Z"
   },
   {
    "duration": 5,
    "start_time": "2022-03-25T11:27:28.217Z"
   },
   {
    "duration": 336,
    "start_time": "2022-03-25T11:27:29.333Z"
   },
   {
    "duration": 5,
    "start_time": "2022-03-25T11:27:57.277Z"
   },
   {
    "duration": 346,
    "start_time": "2022-03-25T11:27:59.111Z"
   },
   {
    "duration": 5,
    "start_time": "2022-03-25T11:28:05.197Z"
   },
   {
    "duration": 454,
    "start_time": "2022-03-25T11:28:06.770Z"
   },
   {
    "duration": 5,
    "start_time": "2022-03-25T11:30:09.574Z"
   },
   {
    "duration": 333,
    "start_time": "2022-03-25T11:30:12.301Z"
   },
   {
    "duration": 5,
    "start_time": "2022-03-25T11:33:47.778Z"
   },
   {
    "duration": 339,
    "start_time": "2022-03-25T11:33:49.090Z"
   },
   {
    "duration": 5,
    "start_time": "2022-03-25T11:36:55.034Z"
   },
   {
    "duration": 2045,
    "start_time": "2022-03-25T11:36:56.330Z"
   },
   {
    "duration": 4,
    "start_time": "2022-03-25T11:37:21.182Z"
   },
   {
    "duration": 2113,
    "start_time": "2022-03-25T11:37:23.675Z"
   },
   {
    "duration": 5,
    "start_time": "2022-03-25T11:38:21.720Z"
   },
   {
    "duration": 201,
    "start_time": "2022-03-25T11:38:24.056Z"
   },
   {
    "duration": 118,
    "start_time": "2022-03-25T11:38:33.831Z"
   },
   {
    "duration": 5,
    "start_time": "2022-03-25T11:38:38.323Z"
   },
   {
    "duration": 5,
    "start_time": "2022-03-25T11:38:58.171Z"
   },
   {
    "duration": 378,
    "start_time": "2022-03-25T11:39:00.237Z"
   },
   {
    "duration": 6,
    "start_time": "2022-03-25T11:39:29.850Z"
   },
   {
    "duration": 475,
    "start_time": "2022-03-25T11:39:32.259Z"
   },
   {
    "duration": 5,
    "start_time": "2022-03-25T11:39:40.756Z"
   },
   {
    "duration": 349,
    "start_time": "2022-03-25T11:39:43.139Z"
   },
   {
    "duration": 385,
    "start_time": "2022-03-25T11:39:53.603Z"
   },
   {
    "duration": 350,
    "start_time": "2022-03-25T11:39:57.171Z"
   },
   {
    "duration": 344,
    "start_time": "2022-03-25T11:41:11.467Z"
   },
   {
    "duration": 379,
    "start_time": "2022-03-25T11:44:28.311Z"
   },
   {
    "duration": 473,
    "start_time": "2022-03-25T11:44:30.895Z"
   },
   {
    "duration": 362,
    "start_time": "2022-03-25T11:44:33.447Z"
   },
   {
    "duration": 72,
    "start_time": "2022-03-25T16:33:10.731Z"
   },
   {
    "duration": 2137,
    "start_time": "2022-03-25T16:33:24.398Z"
   },
   {
    "duration": 644,
    "start_time": "2022-03-25T16:33:26.538Z"
   },
   {
    "duration": 84,
    "start_time": "2022-03-25T16:33:27.184Z"
   },
   {
    "duration": 62,
    "start_time": "2022-03-25T16:33:27.272Z"
   },
   {
    "duration": 62,
    "start_time": "2022-03-25T16:33:27.337Z"
   },
   {
    "duration": 40,
    "start_time": "2022-03-25T16:33:27.401Z"
   },
   {
    "duration": 211,
    "start_time": "2022-03-25T16:33:27.467Z"
   },
   {
    "duration": 239,
    "start_time": "2022-03-25T16:33:27.681Z"
   },
   {
    "duration": 87,
    "start_time": "2022-03-25T16:33:27.923Z"
   },
   {
    "duration": 6,
    "start_time": "2022-03-25T16:33:28.014Z"
   },
   {
    "duration": 157,
    "start_time": "2022-03-25T16:33:28.022Z"
   },
   {
    "duration": 36,
    "start_time": "2022-03-25T16:33:28.181Z"
   },
   {
    "duration": 63,
    "start_time": "2022-03-25T16:33:28.220Z"
   },
   {
    "duration": 309,
    "start_time": "2022-03-25T16:33:28.285Z"
   },
   {
    "duration": 93,
    "start_time": "2022-03-25T16:33:28.596Z"
   },
   {
    "duration": 7,
    "start_time": "2022-03-25T16:33:28.691Z"
   },
   {
    "duration": 686,
    "start_time": "2022-03-25T16:33:28.701Z"
   },
   {
    "duration": 661,
    "start_time": "2022-03-25T16:33:29.389Z"
   },
   {
    "duration": 645,
    "start_time": "2022-03-25T16:33:30.053Z"
   },
   {
    "duration": 730,
    "start_time": "2022-03-25T16:33:33.185Z"
   },
   {
    "duration": 625,
    "start_time": "2022-03-25T16:33:44.668Z"
   },
   {
    "duration": 560,
    "start_time": "2022-03-25T16:33:53.245Z"
   },
   {
    "duration": 713,
    "start_time": "2022-03-25T16:33:57.693Z"
   },
   {
    "duration": 815,
    "start_time": "2022-03-25T16:34:02.646Z"
   },
   {
    "duration": 638,
    "start_time": "2022-03-25T16:34:07.614Z"
   },
   {
    "duration": 761,
    "start_time": "2022-03-25T16:34:20.710Z"
   },
   {
    "duration": 839,
    "start_time": "2022-03-25T16:34:25.391Z"
   },
   {
    "duration": 924,
    "start_time": "2022-03-25T16:34:29.624Z"
   },
   {
    "duration": 958,
    "start_time": "2022-03-25T16:34:36.117Z"
   },
   {
    "duration": 1725,
    "start_time": "2022-03-26T04:09:37.489Z"
   },
   {
    "duration": 562,
    "start_time": "2022-03-26T04:09:39.217Z"
   },
   {
    "duration": 58,
    "start_time": "2022-03-26T04:09:39.781Z"
   },
   {
    "duration": 77,
    "start_time": "2022-03-26T04:09:39.842Z"
   },
   {
    "duration": 55,
    "start_time": "2022-03-26T04:09:39.921Z"
   },
   {
    "duration": 31,
    "start_time": "2022-03-26T04:09:39.978Z"
   },
   {
    "duration": 171,
    "start_time": "2022-03-26T04:09:40.011Z"
   },
   {
    "duration": 318,
    "start_time": "2022-03-26T04:09:40.185Z"
   },
   {
    "duration": 80,
    "start_time": "2022-03-26T04:09:40.507Z"
   },
   {
    "duration": 5,
    "start_time": "2022-03-26T04:09:40.591Z"
   },
   {
    "duration": 111,
    "start_time": "2022-03-26T04:09:40.599Z"
   },
   {
    "duration": 36,
    "start_time": "2022-03-26T04:09:40.712Z"
   },
   {
    "duration": 62,
    "start_time": "2022-03-26T04:09:40.750Z"
   },
   {
    "duration": 239,
    "start_time": "2022-03-26T04:09:40.814Z"
   },
   {
    "duration": 82,
    "start_time": "2022-03-26T04:09:41.055Z"
   },
   {
    "duration": 6,
    "start_time": "2022-03-26T04:09:41.139Z"
   },
   {
    "duration": 783,
    "start_time": "2022-03-26T04:09:41.147Z"
   },
   {
    "duration": 673,
    "start_time": "2022-03-26T04:09:41.933Z"
   },
   {
    "duration": 630,
    "start_time": "2022-03-26T04:09:42.608Z"
   },
   {
    "duration": 727,
    "start_time": "2022-03-26T04:09:43.241Z"
   },
   {
    "duration": 722,
    "start_time": "2022-03-26T04:09:43.973Z"
   },
   {
    "duration": 1206,
    "start_time": "2022-03-26T04:09:44.697Z"
   },
   {
    "duration": 69,
    "start_time": "2022-03-26T04:10:20.863Z"
   },
   {
    "duration": 4,
    "start_time": "2022-03-26T04:52:11.655Z"
   },
   {
    "duration": 536,
    "start_time": "2022-03-26T04:52:11.662Z"
   },
   {
    "duration": 84,
    "start_time": "2022-03-26T04:52:12.201Z"
   },
   {
    "duration": 85,
    "start_time": "2022-03-26T04:52:12.288Z"
   },
   {
    "duration": 39,
    "start_time": "2022-03-26T04:52:12.376Z"
   },
   {
    "duration": 29,
    "start_time": "2022-03-26T04:52:12.418Z"
   },
   {
    "duration": 147,
    "start_time": "2022-03-26T04:52:12.473Z"
   },
   {
    "duration": 258,
    "start_time": "2022-03-26T04:52:12.622Z"
   },
   {
    "duration": 70,
    "start_time": "2022-03-26T04:52:12.882Z"
   },
   {
    "duration": 19,
    "start_time": "2022-03-26T04:52:12.955Z"
   },
   {
    "duration": 80,
    "start_time": "2022-03-26T04:52:12.977Z"
   },
   {
    "duration": 48,
    "start_time": "2022-03-26T04:52:13.059Z"
   },
   {
    "duration": 65,
    "start_time": "2022-03-26T04:52:13.109Z"
   },
   {
    "duration": 369,
    "start_time": "2022-03-26T04:52:13.177Z"
   },
   {
    "duration": 88,
    "start_time": "2022-03-26T04:52:13.548Z"
   },
   {
    "duration": 7,
    "start_time": "2022-03-26T04:52:13.638Z"
   },
   {
    "duration": 675,
    "start_time": "2022-03-26T04:52:13.647Z"
   },
   {
    "duration": 668,
    "start_time": "2022-03-26T04:52:14.325Z"
   },
   {
    "duration": 743,
    "start_time": "2022-03-26T04:52:14.996Z"
   },
   {
    "duration": 1020,
    "start_time": "2022-03-26T04:52:15.742Z"
   },
   {
    "duration": 1097,
    "start_time": "2022-03-26T04:52:16.765Z"
   },
   {
    "duration": 945,
    "start_time": "2022-03-26T04:52:17.865Z"
   },
   {
    "duration": 15,
    "start_time": "2022-03-26T05:01:43.988Z"
   },
   {
    "duration": 16,
    "start_time": "2022-03-26T05:01:52.042Z"
   },
   {
    "duration": 17,
    "start_time": "2022-03-26T05:02:06.408Z"
   },
   {
    "duration": 19,
    "start_time": "2022-03-26T05:02:36.079Z"
   },
   {
    "duration": 20,
    "start_time": "2022-03-26T05:03:00.123Z"
   },
   {
    "duration": 159,
    "start_time": "2022-03-26T05:03:23.944Z"
   },
   {
    "duration": 22,
    "start_time": "2022-03-26T05:03:30.522Z"
   },
   {
    "duration": 23,
    "start_time": "2022-03-26T05:14:43.474Z"
   },
   {
    "duration": 14,
    "start_time": "2022-03-26T05:14:56.148Z"
   },
   {
    "duration": 12,
    "start_time": "2022-03-26T05:36:36.213Z"
   },
   {
    "duration": 223,
    "start_time": "2022-03-26T05:36:36.883Z"
   },
   {
    "duration": 12,
    "start_time": "2022-03-26T05:40:17.313Z"
   },
   {
    "duration": 59,
    "start_time": "2022-03-26T05:40:58.233Z"
   },
   {
    "duration": 13,
    "start_time": "2022-03-26T05:43:22.735Z"
   },
   {
    "duration": 22,
    "start_time": "2022-03-26T05:43:32.426Z"
   },
   {
    "duration": 20,
    "start_time": "2022-03-26T05:44:57.904Z"
   },
   {
    "duration": 14,
    "start_time": "2022-03-26T05:45:17.380Z"
   },
   {
    "duration": 17,
    "start_time": "2022-03-26T05:46:31.359Z"
   },
   {
    "duration": 23,
    "start_time": "2022-03-26T05:48:02.718Z"
   },
   {
    "duration": 4,
    "start_time": "2022-03-26T05:48:57.625Z"
   },
   {
    "duration": 6,
    "start_time": "2022-03-26T06:12:43.363Z"
   },
   {
    "duration": 105,
    "start_time": "2022-03-26T06:14:21.255Z"
   },
   {
    "duration": 106,
    "start_time": "2022-03-26T06:15:02.147Z"
   },
   {
    "duration": 16,
    "start_time": "2022-03-26T06:15:36.033Z"
   },
   {
    "duration": 9,
    "start_time": "2022-03-26T06:16:18.353Z"
   },
   {
    "duration": 153,
    "start_time": "2022-03-26T06:17:58.008Z"
   },
   {
    "duration": 14,
    "start_time": "2022-03-26T06:18:54.539Z"
   },
   {
    "duration": 14,
    "start_time": "2022-03-26T06:20:22.817Z"
   },
   {
    "duration": 20,
    "start_time": "2022-03-26T07:01:51.593Z"
   },
   {
    "duration": 9,
    "start_time": "2022-03-26T07:55:36.176Z"
   },
   {
    "duration": 1648,
    "start_time": "2022-03-26T08:01:11.237Z"
   },
   {
    "duration": 613,
    "start_time": "2022-03-26T08:01:12.889Z"
   },
   {
    "duration": 93,
    "start_time": "2022-03-26T08:01:13.504Z"
   },
   {
    "duration": 84,
    "start_time": "2022-03-26T08:01:13.601Z"
   },
   {
    "duration": 47,
    "start_time": "2022-03-26T08:01:13.690Z"
   },
   {
    "duration": 72,
    "start_time": "2022-03-26T08:01:13.740Z"
   },
   {
    "duration": 200,
    "start_time": "2022-03-26T08:01:13.815Z"
   },
   {
    "duration": 318,
    "start_time": "2022-03-26T08:01:14.018Z"
   },
   {
    "duration": 86,
    "start_time": "2022-03-26T08:01:14.338Z"
   },
   {
    "duration": 6,
    "start_time": "2022-03-26T08:01:14.428Z"
   },
   {
    "duration": 135,
    "start_time": "2022-03-26T08:01:14.436Z"
   },
   {
    "duration": 52,
    "start_time": "2022-03-26T08:01:14.573Z"
   },
   {
    "duration": 70,
    "start_time": "2022-03-26T08:01:14.628Z"
   },
   {
    "duration": 269,
    "start_time": "2022-03-26T08:01:14.701Z"
   },
   {
    "duration": 110,
    "start_time": "2022-03-26T08:01:14.973Z"
   },
   {
    "duration": 11,
    "start_time": "2022-03-26T08:01:15.088Z"
   },
   {
    "duration": 880,
    "start_time": "2022-03-26T08:01:15.101Z"
   },
   {
    "duration": 736,
    "start_time": "2022-03-26T08:01:15.984Z"
   },
   {
    "duration": 747,
    "start_time": "2022-03-26T08:01:16.723Z"
   },
   {
    "duration": 808,
    "start_time": "2022-03-26T08:01:17.477Z"
   },
   {
    "duration": 867,
    "start_time": "2022-03-26T08:01:18.288Z"
   },
   {
    "duration": 712,
    "start_time": "2022-03-26T08:01:19.158Z"
   },
   {
    "duration": 25,
    "start_time": "2022-03-26T08:01:19.874Z"
   },
   {
    "duration": 35,
    "start_time": "2022-03-26T08:01:19.901Z"
   },
   {
    "duration": 23,
    "start_time": "2022-03-26T08:01:19.939Z"
   },
   {
    "duration": 1119,
    "start_time": "2022-04-05T18:19:55.906Z"
   },
   {
    "duration": 420,
    "start_time": "2022-04-05T18:19:57.030Z"
   },
   {
    "duration": 58,
    "start_time": "2022-04-05T18:19:57.455Z"
   },
   {
    "duration": 76,
    "start_time": "2022-04-05T18:19:57.515Z"
   },
   {
    "duration": 33,
    "start_time": "2022-04-05T18:19:57.593Z"
   },
   {
    "duration": 35,
    "start_time": "2022-04-05T18:19:57.628Z"
   },
   {
    "duration": 113,
    "start_time": "2022-04-05T18:19:57.666Z"
   },
   {
    "duration": 172,
    "start_time": "2022-04-05T18:19:57.782Z"
   },
   {
    "duration": 55,
    "start_time": "2022-04-05T18:19:57.956Z"
   },
   {
    "duration": 5,
    "start_time": "2022-04-05T18:19:58.014Z"
   },
   {
    "duration": 108,
    "start_time": "2022-04-05T18:19:58.021Z"
   },
   {
    "duration": 24,
    "start_time": "2022-04-05T18:19:58.131Z"
   },
   {
    "duration": 42,
    "start_time": "2022-04-05T18:19:58.157Z"
   },
   {
    "duration": 244,
    "start_time": "2022-04-05T18:19:58.201Z"
   },
   {
    "duration": 89,
    "start_time": "2022-04-05T18:19:58.447Z"
   },
   {
    "duration": 5,
    "start_time": "2022-04-05T18:19:58.537Z"
   },
   {
    "duration": 403,
    "start_time": "2022-04-05T18:19:58.544Z"
   },
   {
    "duration": 400,
    "start_time": "2022-04-05T18:19:58.950Z"
   },
   {
    "duration": 376,
    "start_time": "2022-04-05T18:19:59.352Z"
   },
   {
    "duration": 420,
    "start_time": "2022-04-05T18:19:59.730Z"
   },
   {
    "duration": 711,
    "start_time": "2022-04-05T18:20:00.152Z"
   },
   {
    "duration": 390,
    "start_time": "2022-04-05T18:20:00.864Z"
   },
   {
    "duration": 21,
    "start_time": "2022-04-05T18:20:01.255Z"
   },
   {
    "duration": 41,
    "start_time": "2022-04-05T18:20:01.279Z"
   },
   {
    "duration": 30,
    "start_time": "2022-04-05T18:20:01.322Z"
   },
   {
    "duration": 5,
    "start_time": "2022-04-05T18:26:59.306Z"
   },
   {
    "duration": 19,
    "start_time": "2022-04-05T18:39:51.053Z"
   },
   {
    "duration": 12,
    "start_time": "2022-04-05T18:42:53.641Z"
   },
   {
    "duration": 1326,
    "start_time": "2022-04-05T19:18:31.051Z"
   },
   {
    "duration": 438,
    "start_time": "2022-04-05T19:18:32.380Z"
   },
   {
    "duration": 54,
    "start_time": "2022-04-05T19:18:32.820Z"
   },
   {
    "duration": 196,
    "start_time": "2022-04-05T19:19:12.097Z"
   },
   {
    "duration": 212,
    "start_time": "2022-04-05T19:19:27.450Z"
   },
   {
    "duration": 284,
    "start_time": "2022-04-05T19:19:42.450Z"
   },
   {
    "duration": 276,
    "start_time": "2022-04-05T19:19:57.687Z"
   },
   {
    "duration": 109,
    "start_time": "2022-04-05T19:24:22.202Z"
   },
   {
    "duration": 94,
    "start_time": "2022-04-05T19:26:49.467Z"
   },
   {
    "duration": 15,
    "start_time": "2022-04-05T19:27:03.256Z"
   },
   {
    "duration": 17,
    "start_time": "2022-04-05T19:27:09.725Z"
   },
   {
    "duration": 3,
    "start_time": "2022-04-05T19:42:30.382Z"
   },
   {
    "duration": 477,
    "start_time": "2022-04-05T19:42:30.389Z"
   },
   {
    "duration": 46,
    "start_time": "2022-04-05T19:42:30.868Z"
   },
   {
    "duration": 302,
    "start_time": "2022-04-05T19:42:30.916Z"
   },
   {
    "duration": 35,
    "start_time": "2022-04-05T19:42:31.220Z"
   },
   {
    "duration": 22,
    "start_time": "2022-04-05T19:42:31.257Z"
   },
   {
    "duration": 16,
    "start_time": "2022-04-05T19:42:33.697Z"
   },
   {
    "duration": 379,
    "start_time": "2022-04-05T19:42:44.595Z"
   },
   {
    "duration": 13,
    "start_time": "2022-04-05T19:42:51.623Z"
   },
   {
    "duration": 3,
    "start_time": "2022-04-05T19:44:28.447Z"
   },
   {
    "duration": 428,
    "start_time": "2022-04-05T19:44:28.458Z"
   },
   {
    "duration": 50,
    "start_time": "2022-04-05T19:44:28.888Z"
   },
   {
    "duration": 297,
    "start_time": "2022-04-05T19:44:28.940Z"
   },
   {
    "duration": 29,
    "start_time": "2022-04-05T19:44:29.240Z"
   },
   {
    "duration": 21,
    "start_time": "2022-04-05T19:44:29.271Z"
   },
   {
    "duration": 17,
    "start_time": "2022-04-05T19:44:29.293Z"
   },
   {
    "duration": 113,
    "start_time": "2022-04-05T19:44:29.312Z"
   },
   {
    "duration": 201,
    "start_time": "2022-04-05T19:44:29.426Z"
   },
   {
    "duration": 49,
    "start_time": "2022-04-05T19:44:29.629Z"
   },
   {
    "duration": 4,
    "start_time": "2022-04-05T19:44:29.680Z"
   },
   {
    "duration": 70,
    "start_time": "2022-04-05T19:44:29.686Z"
   },
   {
    "duration": 22,
    "start_time": "2022-04-05T19:44:29.758Z"
   },
   {
    "duration": 29,
    "start_time": "2022-04-05T19:44:29.781Z"
   },
   {
    "duration": 146,
    "start_time": "2022-04-05T19:44:29.811Z"
   },
   {
    "duration": 17,
    "start_time": "2022-04-05T19:44:49.704Z"
   },
   {
    "duration": 13,
    "start_time": "2022-04-05T19:46:30.936Z"
   },
   {
    "duration": 8,
    "start_time": "2022-04-05T19:46:36.375Z"
   },
   {
    "duration": 9,
    "start_time": "2022-04-05T19:48:55.237Z"
   },
   {
    "duration": 113,
    "start_time": "2022-04-05T19:50:03.285Z"
   },
   {
    "duration": 7,
    "start_time": "2022-04-05T19:58:35.983Z"
   },
   {
    "duration": 13,
    "start_time": "2022-04-05T19:58:40.929Z"
   },
   {
    "duration": 18,
    "start_time": "2022-04-05T19:59:33.728Z"
   },
   {
    "duration": 16,
    "start_time": "2022-04-05T20:00:15.930Z"
   },
   {
    "duration": 16,
    "start_time": "2022-04-05T20:00:33.310Z"
   },
   {
    "duration": 11,
    "start_time": "2022-04-05T20:00:39.775Z"
   },
   {
    "duration": 15,
    "start_time": "2022-04-05T20:00:43.822Z"
   },
   {
    "duration": 1120,
    "start_time": "2022-04-05T20:03:17.466Z"
   },
   {
    "duration": 401,
    "start_time": "2022-04-05T20:03:18.589Z"
   },
   {
    "duration": 54,
    "start_time": "2022-04-05T20:03:18.991Z"
   },
   {
    "duration": 311,
    "start_time": "2022-04-05T20:03:19.047Z"
   },
   {
    "duration": 32,
    "start_time": "2022-04-05T20:03:19.360Z"
   },
   {
    "duration": 44,
    "start_time": "2022-04-05T20:03:19.395Z"
   },
   {
    "duration": 17,
    "start_time": "2022-04-05T20:03:19.441Z"
   },
   {
    "duration": 105,
    "start_time": "2022-04-05T20:03:19.460Z"
   },
   {
    "duration": 192,
    "start_time": "2022-04-05T20:03:19.567Z"
   },
   {
    "duration": 44,
    "start_time": "2022-04-05T20:03:19.761Z"
   },
   {
    "duration": 4,
    "start_time": "2022-04-05T20:03:19.806Z"
   },
   {
    "duration": 77,
    "start_time": "2022-04-05T20:03:19.812Z"
   },
   {
    "duration": 22,
    "start_time": "2022-04-05T20:03:19.891Z"
   },
   {
    "duration": 44,
    "start_time": "2022-04-05T20:03:19.915Z"
   },
   {
    "duration": 126,
    "start_time": "2022-04-05T20:03:19.961Z"
   },
   {
    "duration": 12,
    "start_time": "2022-04-05T20:03:20.088Z"
   },
   {
    "duration": 14,
    "start_time": "2022-04-05T20:03:20.102Z"
   },
   {
    "duration": 10,
    "start_time": "2022-04-05T20:03:24.532Z"
   },
   {
    "duration": 2090,
    "start_time": "2022-04-05T20:08:51.608Z"
   },
   {
    "duration": 4,
    "start_time": "2022-04-05T20:09:01.177Z"
   },
   {
    "duration": 458,
    "start_time": "2022-04-05T20:09:01.183Z"
   },
   {
    "duration": 55,
    "start_time": "2022-04-05T20:09:01.643Z"
   },
   {
    "duration": 309,
    "start_time": "2022-04-05T20:09:01.700Z"
   },
   {
    "duration": 41,
    "start_time": "2022-04-05T20:09:02.011Z"
   },
   {
    "duration": 22,
    "start_time": "2022-04-05T20:09:02.054Z"
   },
   {
    "duration": 24,
    "start_time": "2022-04-05T20:09:02.078Z"
   },
   {
    "duration": 111,
    "start_time": "2022-04-05T20:09:02.104Z"
   },
   {
    "duration": 233,
    "start_time": "2022-04-05T20:09:02.217Z"
   },
   {
    "duration": 46,
    "start_time": "2022-04-05T20:09:02.453Z"
   },
   {
    "duration": 5,
    "start_time": "2022-04-05T20:09:02.500Z"
   },
   {
    "duration": 77,
    "start_time": "2022-04-05T20:09:02.507Z"
   },
   {
    "duration": 24,
    "start_time": "2022-04-05T20:09:02.586Z"
   },
   {
    "duration": 50,
    "start_time": "2022-04-05T20:09:02.612Z"
   },
   {
    "duration": 158,
    "start_time": "2022-04-05T20:09:02.664Z"
   },
   {
    "duration": 20,
    "start_time": "2022-04-05T20:09:02.824Z"
   },
   {
    "duration": 25,
    "start_time": "2022-04-05T20:09:02.846Z"
   },
   {
    "duration": 1761,
    "start_time": "2022-04-05T20:09:08.023Z"
   },
   {
    "duration": 8,
    "start_time": "2022-04-05T20:09:24.826Z"
   },
   {
    "duration": 1199,
    "start_time": "2022-04-05T20:09:38.686Z"
   },
   {
    "duration": 454,
    "start_time": "2022-04-05T20:09:39.887Z"
   },
   {
    "duration": 65,
    "start_time": "2022-04-05T20:09:40.343Z"
   },
   {
    "duration": 347,
    "start_time": "2022-04-05T20:09:40.410Z"
   },
   {
    "duration": 29,
    "start_time": "2022-04-05T20:09:40.759Z"
   },
   {
    "duration": 20,
    "start_time": "2022-04-05T20:09:40.790Z"
   },
   {
    "duration": 39,
    "start_time": "2022-04-05T20:09:40.812Z"
   },
   {
    "duration": 103,
    "start_time": "2022-04-05T20:09:40.853Z"
   },
   {
    "duration": 215,
    "start_time": "2022-04-05T20:09:40.958Z"
   },
   {
    "duration": 48,
    "start_time": "2022-04-05T20:09:41.176Z"
   },
   {
    "duration": 5,
    "start_time": "2022-04-05T20:09:41.239Z"
   },
   {
    "duration": 94,
    "start_time": "2022-04-05T20:09:41.246Z"
   },
   {
    "duration": 22,
    "start_time": "2022-04-05T20:09:41.342Z"
   },
   {
    "duration": 29,
    "start_time": "2022-04-05T20:09:41.366Z"
   },
   {
    "duration": 145,
    "start_time": "2022-04-05T20:09:41.397Z"
   },
   {
    "duration": 13,
    "start_time": "2022-04-05T20:09:41.544Z"
   },
   {
    "duration": 14,
    "start_time": "2022-04-05T20:09:41.559Z"
   },
   {
    "duration": 3595,
    "start_time": "2022-04-05T20:09:50.015Z"
   },
   {
    "duration": 11,
    "start_time": "2022-04-05T20:09:58.160Z"
   },
   {
    "duration": 11,
    "start_time": "2022-04-05T20:10:11.663Z"
   },
   {
    "duration": 15,
    "start_time": "2022-04-05T20:11:14.482Z"
   },
   {
    "duration": 39,
    "start_time": "2022-04-05T20:11:24.931Z"
   },
   {
    "duration": 20,
    "start_time": "2022-04-05T20:11:35.651Z"
   },
   {
    "duration": 39,
    "start_time": "2022-04-05T20:11:43.703Z"
   },
   {
    "duration": 4,
    "start_time": "2022-04-05T20:29:16.391Z"
   },
   {
    "duration": 409,
    "start_time": "2022-04-05T20:29:16.399Z"
   },
   {
    "duration": 48,
    "start_time": "2022-04-05T20:29:16.810Z"
   },
   {
    "duration": 296,
    "start_time": "2022-04-05T20:29:16.860Z"
   },
   {
    "duration": 28,
    "start_time": "2022-04-05T20:29:17.159Z"
   },
   {
    "duration": 20,
    "start_time": "2022-04-05T20:29:17.189Z"
   },
   {
    "duration": 35,
    "start_time": "2022-04-05T20:29:17.210Z"
   },
   {
    "duration": 96,
    "start_time": "2022-04-05T20:29:17.247Z"
   },
   {
    "duration": 185,
    "start_time": "2022-04-05T20:29:17.344Z"
   },
   {
    "duration": 49,
    "start_time": "2022-04-05T20:29:17.531Z"
   },
   {
    "duration": 5,
    "start_time": "2022-04-05T20:29:17.582Z"
   },
   {
    "duration": 70,
    "start_time": "2022-04-05T20:29:17.588Z"
   },
   {
    "duration": 22,
    "start_time": "2022-04-05T20:29:17.659Z"
   },
   {
    "duration": 28,
    "start_time": "2022-04-05T20:29:17.682Z"
   },
   {
    "duration": 130,
    "start_time": "2022-04-05T20:29:17.712Z"
   },
   {
    "duration": 11,
    "start_time": "2022-04-05T20:29:17.843Z"
   },
   {
    "duration": 9,
    "start_time": "2022-04-05T20:29:17.856Z"
   },
   {
    "duration": 12,
    "start_time": "2022-04-05T20:29:17.866Z"
   },
   {
    "duration": 44,
    "start_time": "2022-04-05T20:29:20.380Z"
   },
   {
    "duration": 37,
    "start_time": "2022-04-05T20:34:43.374Z"
   },
   {
    "duration": 49,
    "start_time": "2022-04-05T20:35:18.803Z"
   },
   {
    "duration": 37,
    "start_time": "2022-04-05T20:38:38.310Z"
   },
   {
    "duration": 36,
    "start_time": "2022-04-05T20:38:59.407Z"
   },
   {
    "duration": 50,
    "start_time": "2022-04-05T20:39:33.742Z"
   },
   {
    "duration": 52,
    "start_time": "2022-04-05T20:41:20.255Z"
   },
   {
    "duration": 64,
    "start_time": "2022-04-05T20:41:41.846Z"
   },
   {
    "duration": 63,
    "start_time": "2022-04-05T20:41:48.879Z"
   },
   {
    "duration": 71,
    "start_time": "2022-04-05T20:43:10.917Z"
   },
   {
    "duration": 80,
    "start_time": "2022-04-05T20:43:52.017Z"
   },
   {
    "duration": 92,
    "start_time": "2022-04-05T20:45:42.745Z"
   },
   {
    "duration": 83,
    "start_time": "2022-04-05T20:46:02.348Z"
   },
   {
    "duration": 37,
    "start_time": "2022-04-05T21:01:19.155Z"
   },
   {
    "duration": 5,
    "start_time": "2022-04-05T21:03:18.307Z"
   },
   {
    "duration": 255,
    "start_time": "2022-04-05T21:03:20.312Z"
   },
   {
    "duration": 4,
    "start_time": "2022-04-05T21:03:48.543Z"
   },
   {
    "duration": 348,
    "start_time": "2022-04-05T21:03:50.893Z"
   },
   {
    "duration": 235,
    "start_time": "2022-04-05T21:03:55.840Z"
   },
   {
    "duration": 485,
    "start_time": "2022-04-05T21:04:08.416Z"
   },
   {
    "duration": 579,
    "start_time": "2022-04-05T21:04:15.643Z"
   },
   {
    "duration": 343,
    "start_time": "2022-04-05T21:04:47.090Z"
   },
   {
    "duration": 382,
    "start_time": "2022-04-05T21:05:10.907Z"
   },
   {
    "duration": 5,
    "start_time": "2022-04-05T21:05:51.540Z"
   },
   {
    "duration": 5,
    "start_time": "2022-04-05T21:06:01.187Z"
   },
   {
    "duration": 449,
    "start_time": "2022-04-05T21:06:02.425Z"
   },
   {
    "duration": 187,
    "start_time": "2022-04-05T21:07:40.092Z"
   },
   {
    "duration": 4,
    "start_time": "2022-04-05T21:08:34.141Z"
   },
   {
    "duration": 4,
    "start_time": "2022-04-05T21:08:36.107Z"
   },
   {
    "duration": 286,
    "start_time": "2022-04-05T21:08:37.380Z"
   },
   {
    "duration": 110,
    "start_time": "2022-04-05T21:08:55.751Z"
   },
   {
    "duration": 3,
    "start_time": "2022-04-05T21:08:59.513Z"
   },
   {
    "duration": 5,
    "start_time": "2022-04-05T21:09:01.864Z"
   },
   {
    "duration": 307,
    "start_time": "2022-04-05T21:09:02.839Z"
   },
   {
    "duration": 5,
    "start_time": "2022-04-05T21:09:24.763Z"
   },
   {
    "duration": 4,
    "start_time": "2022-04-05T21:09:28.315Z"
   },
   {
    "duration": 288,
    "start_time": "2022-04-05T21:09:29.462Z"
   },
   {
    "duration": 1784,
    "start_time": "2022-04-05T21:11:28.616Z"
   },
   {
    "duration": 285,
    "start_time": "2022-04-05T21:11:34.826Z"
   },
   {
    "duration": 1510,
    "start_time": "2022-04-05T21:11:39.679Z"
   },
   {
    "duration": 178,
    "start_time": "2022-04-05T21:11:43.251Z"
   },
   {
    "duration": 53,
    "start_time": "2022-04-05T21:11:47.492Z"
   },
   {
    "duration": 1180,
    "start_time": "2022-04-05T21:13:49.506Z"
   },
   {
    "duration": 424,
    "start_time": "2022-04-05T21:13:50.688Z"
   },
   {
    "duration": 52,
    "start_time": "2022-04-05T21:13:51.113Z"
   },
   {
    "duration": 306,
    "start_time": "2022-04-05T21:13:51.167Z"
   },
   {
    "duration": 42,
    "start_time": "2022-04-05T21:13:51.475Z"
   },
   {
    "duration": 36,
    "start_time": "2022-04-05T21:13:51.519Z"
   },
   {
    "duration": 31,
    "start_time": "2022-04-05T21:13:51.557Z"
   },
   {
    "duration": 107,
    "start_time": "2022-04-05T21:13:51.590Z"
   },
   {
    "duration": 161,
    "start_time": "2022-04-05T21:13:51.699Z"
   },
   {
    "duration": 41,
    "start_time": "2022-04-05T21:13:51.862Z"
   },
   {
    "duration": 4,
    "start_time": "2022-04-05T21:13:51.905Z"
   },
   {
    "duration": 80,
    "start_time": "2022-04-05T21:13:51.911Z"
   },
   {
    "duration": 24,
    "start_time": "2022-04-05T21:13:51.993Z"
   },
   {
    "duration": 44,
    "start_time": "2022-04-05T21:13:52.019Z"
   },
   {
    "duration": 135,
    "start_time": "2022-04-05T21:13:52.064Z"
   },
   {
    "duration": 13,
    "start_time": "2022-04-05T21:13:52.201Z"
   },
   {
    "duration": 25,
    "start_time": "2022-04-05T21:13:52.215Z"
   },
   {
    "duration": 13,
    "start_time": "2022-04-05T21:13:52.242Z"
   },
   {
    "duration": 101,
    "start_time": "2022-04-05T21:13:52.258Z"
   },
   {
    "duration": 33,
    "start_time": "2022-04-05T21:13:52.361Z"
   },
   {
    "duration": 4,
    "start_time": "2022-04-05T21:13:55.498Z"
   },
   {
    "duration": 304,
    "start_time": "2022-04-05T21:13:57.257Z"
   },
   {
    "duration": 277,
    "start_time": "2022-04-05T21:14:19.004Z"
   },
   {
    "duration": 261,
    "start_time": "2022-04-05T21:14:35.529Z"
   },
   {
    "duration": 388,
    "start_time": "2022-04-05T21:14:53.312Z"
   },
   {
    "duration": 1161,
    "start_time": "2022-04-05T21:15:04.329Z"
   },
   {
    "duration": 419,
    "start_time": "2022-04-05T21:15:05.492Z"
   },
   {
    "duration": 50,
    "start_time": "2022-04-05T21:15:05.912Z"
   },
   {
    "duration": 294,
    "start_time": "2022-04-05T21:15:05.964Z"
   },
   {
    "duration": 28,
    "start_time": "2022-04-05T21:15:06.260Z"
   },
   {
    "duration": 20,
    "start_time": "2022-04-05T21:15:06.290Z"
   },
   {
    "duration": 57,
    "start_time": "2022-04-05T21:15:06.312Z"
   },
   {
    "duration": 93,
    "start_time": "2022-04-05T21:15:06.371Z"
   },
   {
    "duration": 163,
    "start_time": "2022-04-05T21:15:06.465Z"
   },
   {
    "duration": 47,
    "start_time": "2022-04-05T21:15:06.631Z"
   },
   {
    "duration": 5,
    "start_time": "2022-04-05T21:15:06.679Z"
   },
   {
    "duration": 74,
    "start_time": "2022-04-05T21:15:06.686Z"
   },
   {
    "duration": 23,
    "start_time": "2022-04-05T21:15:06.761Z"
   },
   {
    "duration": 28,
    "start_time": "2022-04-05T21:15:06.786Z"
   },
   {
    "duration": 141,
    "start_time": "2022-04-05T21:15:06.816Z"
   },
   {
    "duration": 12,
    "start_time": "2022-04-05T21:15:06.959Z"
   },
   {
    "duration": 8,
    "start_time": "2022-04-05T21:15:06.973Z"
   },
   {
    "duration": 13,
    "start_time": "2022-04-05T21:15:06.982Z"
   },
   {
    "duration": 110,
    "start_time": "2022-04-05T21:15:06.997Z"
   },
   {
    "duration": 46,
    "start_time": "2022-04-05T21:15:07.109Z"
   },
   {
    "duration": 3,
    "start_time": "2022-04-05T21:15:07.157Z"
   },
   {
    "duration": 321,
    "start_time": "2022-04-05T21:15:07.162Z"
   },
   {
    "duration": 101,
    "start_time": "2022-04-05T21:15:07.485Z"
   },
   {
    "duration": 0,
    "start_time": "2022-04-05T21:15:07.588Z"
   },
   {
    "duration": 0,
    "start_time": "2022-04-05T21:15:07.589Z"
   },
   {
    "duration": 0,
    "start_time": "2022-04-05T21:15:07.590Z"
   },
   {
    "duration": 0,
    "start_time": "2022-04-05T21:15:07.591Z"
   },
   {
    "duration": 0,
    "start_time": "2022-04-05T21:15:07.592Z"
   },
   {
    "duration": 0,
    "start_time": "2022-04-05T21:15:07.593Z"
   },
   {
    "duration": 0,
    "start_time": "2022-04-05T21:15:07.594Z"
   },
   {
    "duration": 449,
    "start_time": "2022-04-05T21:15:21.793Z"
   },
   {
    "duration": 415,
    "start_time": "2022-04-05T21:15:24.866Z"
   },
   {
    "duration": 279,
    "start_time": "2022-04-05T21:15:29.542Z"
   },
   {
    "duration": 236,
    "start_time": "2022-04-05T21:15:44.974Z"
   },
   {
    "duration": 24,
    "start_time": "2022-04-05T21:21:59.597Z"
   },
   {
    "duration": 82,
    "start_time": "2022-04-05T21:22:14.918Z"
   },
   {
    "duration": 80,
    "start_time": "2022-04-05T21:23:46.041Z"
   },
   {
    "duration": 84,
    "start_time": "2022-04-05T21:24:58.316Z"
   },
   {
    "duration": 5,
    "start_time": "2022-04-05T21:25:07.114Z"
   },
   {
    "duration": 626,
    "start_time": "2022-04-05T21:25:12.438Z"
   },
   {
    "duration": 241,
    "start_time": "2022-04-05T21:29:16.919Z"
   },
   {
    "duration": 217,
    "start_time": "2022-04-05T21:29:29.249Z"
   },
   {
    "duration": 226,
    "start_time": "2022-04-05T21:29:40.710Z"
   },
   {
    "duration": 222,
    "start_time": "2022-04-05T21:29:44.743Z"
   },
   {
    "duration": 230,
    "start_time": "2022-04-05T21:29:47.553Z"
   },
   {
    "duration": 282,
    "start_time": "2022-04-05T21:29:50.095Z"
   },
   {
    "duration": 176,
    "start_time": "2022-04-05T21:29:57.995Z"
   },
   {
    "duration": 160,
    "start_time": "2022-04-05T21:30:01.772Z"
   },
   {
    "duration": 178,
    "start_time": "2022-04-05T21:30:05.929Z"
   },
   {
    "duration": 196,
    "start_time": "2022-04-05T21:30:39.631Z"
   },
   {
    "duration": 221,
    "start_time": "2022-04-05T21:30:44.296Z"
   },
   {
    "duration": 226,
    "start_time": "2022-04-05T21:30:49.845Z"
   },
   {
    "duration": 188,
    "start_time": "2022-04-05T21:30:53.506Z"
   },
   {
    "duration": 165,
    "start_time": "2022-04-05T21:31:03.313Z"
   },
   {
    "duration": 306,
    "start_time": "2022-04-05T21:31:07.705Z"
   },
   {
    "duration": 202,
    "start_time": "2022-04-05T21:31:40.993Z"
   },
   {
    "duration": 216,
    "start_time": "2022-04-05T21:31:48.276Z"
   },
   {
    "duration": 234,
    "start_time": "2022-04-05T21:36:02.257Z"
   },
   {
    "duration": 227,
    "start_time": "2022-04-05T21:36:07.499Z"
   },
   {
    "duration": 225,
    "start_time": "2022-04-05T21:36:10.819Z"
   },
   {
    "duration": 342,
    "start_time": "2022-04-05T21:36:32.231Z"
   },
   {
    "duration": 243,
    "start_time": "2022-04-05T21:36:48.087Z"
   },
   {
    "duration": 173,
    "start_time": "2022-04-05T21:37:23.057Z"
   },
   {
    "duration": 212,
    "start_time": "2022-04-05T21:37:25.770Z"
   },
   {
    "duration": 202,
    "start_time": "2022-04-05T21:37:30.709Z"
   },
   {
    "duration": 224,
    "start_time": "2022-04-05T21:37:35.633Z"
   },
   {
    "duration": 25,
    "start_time": "2022-04-05T21:38:29.544Z"
   },
   {
    "duration": 115,
    "start_time": "2022-04-05T21:38:35.944Z"
   },
   {
    "duration": 125,
    "start_time": "2022-04-05T21:39:07.922Z"
   },
   {
    "duration": 113,
    "start_time": "2022-04-05T21:39:13.013Z"
   },
   {
    "duration": 109,
    "start_time": "2022-04-05T21:41:07.817Z"
   },
   {
    "duration": 89,
    "start_time": "2022-04-05T21:41:58.969Z"
   },
   {
    "duration": 90,
    "start_time": "2022-04-05T21:42:40.428Z"
   },
   {
    "duration": 221,
    "start_time": "2022-04-05T21:43:18.047Z"
   },
   {
    "duration": 215,
    "start_time": "2022-04-05T21:43:21.024Z"
   },
   {
    "duration": 344,
    "start_time": "2022-04-05T21:43:28.750Z"
   },
   {
    "duration": 126,
    "start_time": "2022-04-05T21:44:29.791Z"
   },
   {
    "duration": 96,
    "start_time": "2022-04-05T21:44:54.275Z"
   },
   {
    "duration": 4,
    "start_time": "2022-04-05T21:45:39.848Z"
   },
   {
    "duration": 234,
    "start_time": "2022-04-05T21:45:43.598Z"
   },
   {
    "duration": 5,
    "start_time": "2022-04-05T21:45:48.407Z"
   },
   {
    "duration": 234,
    "start_time": "2022-04-05T21:45:51.926Z"
   },
   {
    "duration": 11,
    "start_time": "2022-04-05T21:46:00.256Z"
   },
   {
    "duration": 4,
    "start_time": "2022-04-05T21:46:13.097Z"
   },
   {
    "duration": 220,
    "start_time": "2022-04-05T21:46:15.769Z"
   },
   {
    "duration": 5,
    "start_time": "2022-04-05T21:46:39.856Z"
   },
   {
    "duration": 244,
    "start_time": "2022-04-05T21:46:41.574Z"
   },
   {
    "duration": 131,
    "start_time": "2022-04-05T21:47:16.084Z"
   },
   {
    "duration": 5,
    "start_time": "2022-04-05T21:47:34.390Z"
   },
   {
    "duration": 236,
    "start_time": "2022-04-05T21:47:37.549Z"
   },
   {
    "duration": 4,
    "start_time": "2022-04-05T21:48:07.363Z"
   },
   {
    "duration": 350,
    "start_time": "2022-04-05T21:48:12.195Z"
   },
   {
    "duration": 4,
    "start_time": "2022-04-05T21:48:37.545Z"
   },
   {
    "duration": 227,
    "start_time": "2022-04-05T21:48:39.069Z"
   },
   {
    "duration": 260,
    "start_time": "2022-04-05T21:48:52.743Z"
   },
   {
    "duration": 235,
    "start_time": "2022-04-05T21:48:55.495Z"
   },
   {
    "duration": 91,
    "start_time": "2022-04-05T21:49:24.017Z"
   },
   {
    "duration": 4,
    "start_time": "2022-04-05T21:49:26.667Z"
   },
   {
    "duration": 227,
    "start_time": "2022-04-05T21:49:28.517Z"
   },
   {
    "duration": 353,
    "start_time": "2022-04-05T21:49:31.531Z"
   },
   {
    "duration": 243,
    "start_time": "2022-04-05T21:49:42.652Z"
   },
   {
    "duration": 245,
    "start_time": "2022-04-05T21:50:35.042Z"
   },
   {
    "duration": 246,
    "start_time": "2022-04-05T21:52:29.868Z"
   },
   {
    "duration": 6,
    "start_time": "2022-04-05T21:52:33.891Z"
   },
   {
    "duration": 4,
    "start_time": "2022-04-05T21:55:41.085Z"
   },
   {
    "duration": 228,
    "start_time": "2022-04-05T21:55:43.292Z"
   },
   {
    "duration": 15,
    "start_time": "2022-04-05T22:02:42.281Z"
   },
   {
    "duration": 17,
    "start_time": "2022-04-05T22:03:05.412Z"
   },
   {
    "duration": 7,
    "start_time": "2022-04-05T22:04:24.264Z"
   },
   {
    "duration": 124,
    "start_time": "2022-04-05T22:05:07.213Z"
   },
   {
    "duration": 10,
    "start_time": "2022-04-05T22:06:48.963Z"
   },
   {
    "duration": 13,
    "start_time": "2022-04-05T22:06:55.811Z"
   },
   {
    "duration": 38,
    "start_time": "2022-04-05T22:07:09.454Z"
   },
   {
    "duration": 15,
    "start_time": "2022-04-05T22:07:36.589Z"
   },
   {
    "duration": 145,
    "start_time": "2022-04-05T22:08:20.139Z"
   },
   {
    "duration": 251,
    "start_time": "2022-04-05T22:08:34.900Z"
   },
   {
    "duration": 362,
    "start_time": "2022-04-05T22:09:11.027Z"
   },
   {
    "duration": 125,
    "start_time": "2022-04-05T22:09:56.949Z"
   },
   {
    "duration": 133,
    "start_time": "2022-04-05T22:10:01.965Z"
   },
   {
    "duration": 133,
    "start_time": "2022-04-05T22:10:07.517Z"
   },
   {
    "duration": 131,
    "start_time": "2022-04-05T22:10:15.858Z"
   },
   {
    "duration": 132,
    "start_time": "2022-04-05T22:10:24.108Z"
   },
   {
    "duration": 135,
    "start_time": "2022-04-05T22:10:43.216Z"
   },
   {
    "duration": 134,
    "start_time": "2022-04-05T22:11:03.148Z"
   },
   {
    "duration": 246,
    "start_time": "2022-04-05T22:11:22.265Z"
   },
   {
    "duration": 259,
    "start_time": "2022-04-05T22:12:05.812Z"
   },
   {
    "duration": 269,
    "start_time": "2022-04-05T22:12:11.688Z"
   },
   {
    "duration": 354,
    "start_time": "2022-04-05T22:12:20.531Z"
   },
   {
    "duration": 257,
    "start_time": "2022-04-05T22:12:25.010Z"
   },
   {
    "duration": 245,
    "start_time": "2022-04-05T22:12:31.280Z"
   },
   {
    "duration": 131,
    "start_time": "2022-04-05T22:13:23.352Z"
   },
   {
    "duration": 151,
    "start_time": "2022-04-05T22:13:33.824Z"
   },
   {
    "duration": 165,
    "start_time": "2022-04-05T22:14:24.531Z"
   },
   {
    "duration": 144,
    "start_time": "2022-04-05T22:14:27.847Z"
   },
   {
    "duration": 114,
    "start_time": "2022-04-05T22:14:36.129Z"
   },
   {
    "duration": 170,
    "start_time": "2022-04-05T22:14:38.600Z"
   },
   {
    "duration": 167,
    "start_time": "2022-04-05T22:15:14.529Z"
   },
   {
    "duration": 262,
    "start_time": "2022-04-05T22:15:25.725Z"
   },
   {
    "duration": 326,
    "start_time": "2022-04-05T22:15:56.266Z"
   },
   {
    "duration": 230,
    "start_time": "2022-04-05T22:16:13.970Z"
   },
   {
    "duration": 249,
    "start_time": "2022-04-05T22:16:46.681Z"
   },
   {
    "duration": 230,
    "start_time": "2022-04-05T22:17:00.258Z"
   },
   {
    "duration": 126,
    "start_time": "2022-04-05T22:17:53.688Z"
   },
   {
    "duration": 22,
    "start_time": "2022-04-05T22:18:40.339Z"
   },
   {
    "duration": 230,
    "start_time": "2022-04-05T22:18:45.888Z"
   },
   {
    "duration": 235,
    "start_time": "2022-04-05T22:19:02.135Z"
   },
   {
    "duration": 233,
    "start_time": "2022-04-05T22:19:19.459Z"
   },
   {
    "duration": 231,
    "start_time": "2022-04-05T22:20:09.701Z"
   },
   {
    "duration": 330,
    "start_time": "2022-04-05T22:22:00.671Z"
   },
   {
    "duration": 1209,
    "start_time": "2022-04-05T22:22:22.452Z"
   },
   {
    "duration": 472,
    "start_time": "2022-04-05T22:22:23.663Z"
   },
   {
    "duration": 56,
    "start_time": "2022-04-05T22:22:24.137Z"
   },
   {
    "duration": 321,
    "start_time": "2022-04-05T22:22:24.196Z"
   },
   {
    "duration": 36,
    "start_time": "2022-04-05T22:22:24.519Z"
   },
   {
    "duration": 20,
    "start_time": "2022-04-05T22:22:24.557Z"
   },
   {
    "duration": 34,
    "start_time": "2022-04-05T22:22:24.578Z"
   },
   {
    "duration": 106,
    "start_time": "2022-04-05T22:22:24.613Z"
   },
   {
    "duration": 165,
    "start_time": "2022-04-05T22:22:24.720Z"
   },
   {
    "duration": 50,
    "start_time": "2022-04-05T22:22:24.888Z"
   },
   {
    "duration": 5,
    "start_time": "2022-04-05T22:22:24.939Z"
   },
   {
    "duration": 70,
    "start_time": "2022-04-05T22:22:24.945Z"
   },
   {
    "duration": 38,
    "start_time": "2022-04-05T22:22:25.016Z"
   },
   {
    "duration": 30,
    "start_time": "2022-04-05T22:22:25.056Z"
   },
   {
    "duration": 140,
    "start_time": "2022-04-05T22:22:25.088Z"
   },
   {
    "duration": 18,
    "start_time": "2022-04-05T22:22:25.230Z"
   },
   {
    "duration": 19,
    "start_time": "2022-04-05T22:22:25.250Z"
   },
   {
    "duration": 15,
    "start_time": "2022-04-05T22:22:25.270Z"
   },
   {
    "duration": 109,
    "start_time": "2022-04-05T22:22:25.286Z"
   },
   {
    "duration": 4,
    "start_time": "2022-04-05T22:22:25.397Z"
   },
   {
    "duration": 263,
    "start_time": "2022-04-05T22:22:25.403Z"
   },
   {
    "duration": 246,
    "start_time": "2022-04-05T22:22:25.667Z"
   },
   {
    "duration": 265,
    "start_time": "2022-04-05T22:22:25.915Z"
   },
   {
    "duration": 7,
    "start_time": "2022-04-05T22:22:26.182Z"
   },
   {
    "duration": 11,
    "start_time": "2022-04-05T22:22:26.191Z"
   },
   {
    "duration": 39,
    "start_time": "2022-04-05T22:22:26.204Z"
   },
   {
    "duration": 440,
    "start_time": "2022-04-05T22:22:26.245Z"
   },
   {
    "duration": 330,
    "start_time": "2022-04-05T22:22:38.083Z"
   },
   {
    "duration": 332,
    "start_time": "2022-04-05T22:23:00.245Z"
   },
   {
    "duration": 243,
    "start_time": "2022-04-05T22:23:40.043Z"
   },
   {
    "duration": 239,
    "start_time": "2022-04-05T22:24:18.334Z"
   },
   {
    "duration": 245,
    "start_time": "2022-04-05T22:24:38.537Z"
   },
   {
    "duration": 350,
    "start_time": "2022-04-05T22:25:28.474Z"
   },
   {
    "duration": 451,
    "start_time": "2022-04-05T22:25:33.241Z"
   },
   {
    "duration": 414,
    "start_time": "2022-04-05T22:25:48.841Z"
   },
   {
    "duration": 331,
    "start_time": "2022-04-05T22:25:56.740Z"
   },
   {
    "duration": 349,
    "start_time": "2022-04-05T22:26:30.001Z"
   },
   {
    "duration": 254,
    "start_time": "2022-04-05T22:27:12.640Z"
   },
   {
    "duration": 266,
    "start_time": "2022-04-05T22:27:21.416Z"
   },
   {
    "duration": 273,
    "start_time": "2022-04-05T22:27:47.524Z"
   },
   {
    "duration": 274,
    "start_time": "2022-04-05T22:27:55.680Z"
   },
   {
    "duration": 370,
    "start_time": "2022-04-05T22:28:55.563Z"
   },
   {
    "duration": 278,
    "start_time": "2022-04-05T22:29:03.364Z"
   },
   {
    "duration": 273,
    "start_time": "2022-04-05T22:29:11.150Z"
   },
   {
    "duration": 130,
    "start_time": "2022-04-05T22:36:04.556Z"
   },
   {
    "duration": 1178,
    "start_time": "2022-04-05T22:39:38.934Z"
   },
   {
    "duration": 433,
    "start_time": "2022-04-05T22:39:40.114Z"
   },
   {
    "duration": 52,
    "start_time": "2022-04-05T22:39:40.549Z"
   },
   {
    "duration": 307,
    "start_time": "2022-04-05T22:39:40.604Z"
   },
   {
    "duration": 35,
    "start_time": "2022-04-05T22:39:40.913Z"
   },
   {
    "duration": 21,
    "start_time": "2022-04-05T22:39:40.950Z"
   },
   {
    "duration": 32,
    "start_time": "2022-04-05T22:39:40.973Z"
   },
   {
    "duration": 107,
    "start_time": "2022-04-05T22:39:41.006Z"
   },
   {
    "duration": 168,
    "start_time": "2022-04-05T22:39:41.115Z"
   },
   {
    "duration": 51,
    "start_time": "2022-04-05T22:39:41.286Z"
   },
   {
    "duration": 5,
    "start_time": "2022-04-05T22:39:41.339Z"
   },
   {
    "duration": 64,
    "start_time": "2022-04-05T22:39:41.345Z"
   },
   {
    "duration": 36,
    "start_time": "2022-04-05T22:39:41.411Z"
   },
   {
    "duration": 27,
    "start_time": "2022-04-05T22:39:41.449Z"
   },
   {
    "duration": 137,
    "start_time": "2022-04-05T22:39:41.477Z"
   },
   {
    "duration": 12,
    "start_time": "2022-04-05T22:39:41.616Z"
   },
   {
    "duration": 8,
    "start_time": "2022-04-05T22:39:41.638Z"
   },
   {
    "duration": 13,
    "start_time": "2022-04-05T22:39:41.647Z"
   },
   {
    "duration": 106,
    "start_time": "2022-04-05T22:39:41.662Z"
   },
   {
    "duration": 4,
    "start_time": "2022-04-05T22:39:41.769Z"
   },
   {
    "duration": 247,
    "start_time": "2022-04-05T22:39:41.775Z"
   },
   {
    "duration": 236,
    "start_time": "2022-04-05T22:39:42.024Z"
   },
   {
    "duration": 246,
    "start_time": "2022-04-05T22:39:42.262Z"
   },
   {
    "duration": 6,
    "start_time": "2022-04-05T22:39:42.510Z"
   },
   {
    "duration": 10,
    "start_time": "2022-04-05T22:39:42.518Z"
   },
   {
    "duration": 16,
    "start_time": "2022-04-05T22:39:42.538Z"
   },
   {
    "duration": 295,
    "start_time": "2022-04-05T22:39:42.556Z"
   }
  ],
  "kernelspec": {
   "display_name": "Python 3 (ipykernel)",
   "language": "python",
   "name": "python3"
  },
  "language_info": {
   "codemirror_mode": {
    "name": "ipython",
    "version": 3
   },
   "file_extension": ".py",
   "mimetype": "text/x-python",
   "name": "python",
   "nbconvert_exporter": "python",
   "pygments_lexer": "ipython3",
   "version": "3.9.7"
  },
  "toc": {
   "base_numbering": 1,
   "nav_menu": {},
   "number_sections": true,
   "sideBar": true,
   "skip_h1_title": true,
   "title_cell": "Table of Contents",
   "title_sidebar": "Contents",
   "toc_cell": false,
   "toc_position": {
    "height": "calc(100% - 180px)",
    "left": "10px",
    "top": "150px",
    "width": "177.375px"
   },
   "toc_section_display": true,
   "toc_window_display": true
  }
 },
 "nbformat": 4,
 "nbformat_minor": 2
}
