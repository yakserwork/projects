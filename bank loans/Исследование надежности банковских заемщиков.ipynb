{
 "cells": [
  {
   "cell_type": "markdown",
   "id": "e07cab2f",
   "metadata": {},
   "source": [
    "# Исследование надежности заемщиков."
   ]
  },
  {
   "cell_type": "markdown",
   "id": "2417de5d",
   "metadata": {},
   "source": [
    "Заказчик — кредитный отдел банка. Входные данные от банка — статистика о платёжеспособности клиентов."
   ]
  },
  {
   "cell_type": "markdown",
   "id": "3d4231ac",
   "metadata": {},
   "source": [
    "**Цель исследования**\n",
    "\n",
    "Нужно ответить на вопросы, как влияет на факт погашения кредита в срок следующие факторы:\n",
    "* колиечество детей\n",
    "* семейное положение\n",
    "* уровень дохода\n",
    "* цели кредита\n",
    "\n",
    "Результаты исследования будут учтены при построении модели кредитного скоринга — специальной системы, которая оценивает способность потенциального заёмщика вернуть кредит банку."
   ]
  },
  {
   "cell_type": "markdown",
   "id": "78e71025",
   "metadata": {},
   "source": [
    "**Ход исследования**\n",
    "\n",
    " 1. Обзор данных.\n",
    " 2. Предобработка данных.\n",
    " 3. Ответы на вопросы.\n"
   ]
  },
  {
   "cell_type": "markdown",
   "id": "5fc140d1",
   "metadata": {},
   "source": [
    "### Шаг 1. Обзор данных"
   ]
  },
  {
   "cell_type": "markdown",
   "id": "688bc419",
   "metadata": {},
   "source": [
    "Импортируем библиотеку Pandas."
   ]
  },
  {
   "cell_type": "code",
   "execution_count": 1,
   "id": "2c2c4c98",
   "metadata": {},
   "outputs": [],
   "source": [
    "import pandas as pd # импорт библиотеки Pandas"
   ]
  },
  {
   "cell_type": "markdown",
   "id": "a0ad5c0f",
   "metadata": {},
   "source": [
    "Сохраним датасет в переменную df. Чтобы ознакомиться с таблицей, выведем на экран первые 10 строк."
   ]
  },
  {
   "cell_type": "code",
   "execution_count": 2,
   "id": "a546eccd",
   "metadata": {},
   "outputs": [
    {
     "data": {
      "text/html": [
       "<div>\n",
       "<style scoped>\n",
       "    .dataframe tbody tr th:only-of-type {\n",
       "        vertical-align: middle;\n",
       "    }\n",
       "\n",
       "    .dataframe tbody tr th {\n",
       "        vertical-align: top;\n",
       "    }\n",
       "\n",
       "    .dataframe thead th {\n",
       "        text-align: right;\n",
       "    }\n",
       "</style>\n",
       "<table border=\"1\" class=\"dataframe\">\n",
       "  <thead>\n",
       "    <tr style=\"text-align: right;\">\n",
       "      <th></th>\n",
       "      <th>children</th>\n",
       "      <th>days_employed</th>\n",
       "      <th>dob_years</th>\n",
       "      <th>education</th>\n",
       "      <th>education_id</th>\n",
       "      <th>family_status</th>\n",
       "      <th>family_status_id</th>\n",
       "      <th>gender</th>\n",
       "      <th>income_type</th>\n",
       "      <th>debt</th>\n",
       "      <th>total_income</th>\n",
       "      <th>purpose</th>\n",
       "    </tr>\n",
       "  </thead>\n",
       "  <tbody>\n",
       "    <tr>\n",
       "      <td>0</td>\n",
       "      <td>1</td>\n",
       "      <td>-8437.673028</td>\n",
       "      <td>42</td>\n",
       "      <td>высшее</td>\n",
       "      <td>0</td>\n",
       "      <td>женат / замужем</td>\n",
       "      <td>0</td>\n",
       "      <td>F</td>\n",
       "      <td>сотрудник</td>\n",
       "      <td>0</td>\n",
       "      <td>253875.639453</td>\n",
       "      <td>покупка жилья</td>\n",
       "    </tr>\n",
       "    <tr>\n",
       "      <td>1</td>\n",
       "      <td>1</td>\n",
       "      <td>-4024.803754</td>\n",
       "      <td>36</td>\n",
       "      <td>среднее</td>\n",
       "      <td>1</td>\n",
       "      <td>женат / замужем</td>\n",
       "      <td>0</td>\n",
       "      <td>F</td>\n",
       "      <td>сотрудник</td>\n",
       "      <td>0</td>\n",
       "      <td>112080.014102</td>\n",
       "      <td>приобретение автомобиля</td>\n",
       "    </tr>\n",
       "    <tr>\n",
       "      <td>2</td>\n",
       "      <td>0</td>\n",
       "      <td>-5623.422610</td>\n",
       "      <td>33</td>\n",
       "      <td>Среднее</td>\n",
       "      <td>1</td>\n",
       "      <td>женат / замужем</td>\n",
       "      <td>0</td>\n",
       "      <td>M</td>\n",
       "      <td>сотрудник</td>\n",
       "      <td>0</td>\n",
       "      <td>145885.952297</td>\n",
       "      <td>покупка жилья</td>\n",
       "    </tr>\n",
       "    <tr>\n",
       "      <td>3</td>\n",
       "      <td>3</td>\n",
       "      <td>-4124.747207</td>\n",
       "      <td>32</td>\n",
       "      <td>среднее</td>\n",
       "      <td>1</td>\n",
       "      <td>женат / замужем</td>\n",
       "      <td>0</td>\n",
       "      <td>M</td>\n",
       "      <td>сотрудник</td>\n",
       "      <td>0</td>\n",
       "      <td>267628.550329</td>\n",
       "      <td>дополнительное образование</td>\n",
       "    </tr>\n",
       "    <tr>\n",
       "      <td>4</td>\n",
       "      <td>0</td>\n",
       "      <td>340266.072047</td>\n",
       "      <td>53</td>\n",
       "      <td>среднее</td>\n",
       "      <td>1</td>\n",
       "      <td>гражданский брак</td>\n",
       "      <td>1</td>\n",
       "      <td>F</td>\n",
       "      <td>пенсионер</td>\n",
       "      <td>0</td>\n",
       "      <td>158616.077870</td>\n",
       "      <td>сыграть свадьбу</td>\n",
       "    </tr>\n",
       "    <tr>\n",
       "      <td>5</td>\n",
       "      <td>0</td>\n",
       "      <td>-926.185831</td>\n",
       "      <td>27</td>\n",
       "      <td>высшее</td>\n",
       "      <td>0</td>\n",
       "      <td>гражданский брак</td>\n",
       "      <td>1</td>\n",
       "      <td>M</td>\n",
       "      <td>компаньон</td>\n",
       "      <td>0</td>\n",
       "      <td>255763.565419</td>\n",
       "      <td>покупка жилья</td>\n",
       "    </tr>\n",
       "    <tr>\n",
       "      <td>6</td>\n",
       "      <td>0</td>\n",
       "      <td>-2879.202052</td>\n",
       "      <td>43</td>\n",
       "      <td>высшее</td>\n",
       "      <td>0</td>\n",
       "      <td>женат / замужем</td>\n",
       "      <td>0</td>\n",
       "      <td>F</td>\n",
       "      <td>компаньон</td>\n",
       "      <td>0</td>\n",
       "      <td>240525.971920</td>\n",
       "      <td>операции с жильем</td>\n",
       "    </tr>\n",
       "    <tr>\n",
       "      <td>7</td>\n",
       "      <td>0</td>\n",
       "      <td>-152.779569</td>\n",
       "      <td>50</td>\n",
       "      <td>СРЕДНЕЕ</td>\n",
       "      <td>1</td>\n",
       "      <td>женат / замужем</td>\n",
       "      <td>0</td>\n",
       "      <td>M</td>\n",
       "      <td>сотрудник</td>\n",
       "      <td>0</td>\n",
       "      <td>135823.934197</td>\n",
       "      <td>образование</td>\n",
       "    </tr>\n",
       "    <tr>\n",
       "      <td>8</td>\n",
       "      <td>2</td>\n",
       "      <td>-6929.865299</td>\n",
       "      <td>35</td>\n",
       "      <td>ВЫСШЕЕ</td>\n",
       "      <td>0</td>\n",
       "      <td>гражданский брак</td>\n",
       "      <td>1</td>\n",
       "      <td>F</td>\n",
       "      <td>сотрудник</td>\n",
       "      <td>0</td>\n",
       "      <td>95856.832424</td>\n",
       "      <td>на проведение свадьбы</td>\n",
       "    </tr>\n",
       "    <tr>\n",
       "      <td>9</td>\n",
       "      <td>0</td>\n",
       "      <td>-2188.756445</td>\n",
       "      <td>41</td>\n",
       "      <td>среднее</td>\n",
       "      <td>1</td>\n",
       "      <td>женат / замужем</td>\n",
       "      <td>0</td>\n",
       "      <td>M</td>\n",
       "      <td>сотрудник</td>\n",
       "      <td>0</td>\n",
       "      <td>144425.938277</td>\n",
       "      <td>покупка жилья для семьи</td>\n",
       "    </tr>\n",
       "  </tbody>\n",
       "</table>\n",
       "</div>"
      ],
      "text/plain": [
       "   children  days_employed  dob_years education  education_id  \\\n",
       "0         1   -8437.673028         42    высшее             0   \n",
       "1         1   -4024.803754         36   среднее             1   \n",
       "2         0   -5623.422610         33   Среднее             1   \n",
       "3         3   -4124.747207         32   среднее             1   \n",
       "4         0  340266.072047         53   среднее             1   \n",
       "5         0    -926.185831         27    высшее             0   \n",
       "6         0   -2879.202052         43    высшее             0   \n",
       "7         0    -152.779569         50   СРЕДНЕЕ             1   \n",
       "8         2   -6929.865299         35    ВЫСШЕЕ             0   \n",
       "9         0   -2188.756445         41   среднее             1   \n",
       "\n",
       "      family_status  family_status_id gender income_type  debt   total_income  \\\n",
       "0   женат / замужем                 0      F   сотрудник     0  253875.639453   \n",
       "1   женат / замужем                 0      F   сотрудник     0  112080.014102   \n",
       "2   женат / замужем                 0      M   сотрудник     0  145885.952297   \n",
       "3   женат / замужем                 0      M   сотрудник     0  267628.550329   \n",
       "4  гражданский брак                 1      F   пенсионер     0  158616.077870   \n",
       "5  гражданский брак                 1      M   компаньон     0  255763.565419   \n",
       "6   женат / замужем                 0      F   компаньон     0  240525.971920   \n",
       "7   женат / замужем                 0      M   сотрудник     0  135823.934197   \n",
       "8  гражданский брак                 1      F   сотрудник     0   95856.832424   \n",
       "9   женат / замужем                 0      M   сотрудник     0  144425.938277   \n",
       "\n",
       "                      purpose  \n",
       "0               покупка жилья  \n",
       "1     приобретение автомобиля  \n",
       "2               покупка жилья  \n",
       "3  дополнительное образование  \n",
       "4             сыграть свадьбу  \n",
       "5               покупка жилья  \n",
       "6           операции с жильем  \n",
       "7                 образование  \n",
       "8       на проведение свадьбы  \n",
       "9     покупка жилья для семьи  "
      ]
     },
     "metadata": {},
     "output_type": "display_data"
    }
   ],
   "source": [
    "df = pd.read_csv('/datasets/data.csv') # сохранение датасета в переменную\n",
    "display(df.head(10))"
   ]
  },
  {
   "cell_type": "markdown",
   "id": "479e9410",
   "metadata": {},
   "source": [
    "Изучим общую информацию о данных с помощью методов info и describe."
   ]
  },
  {
   "cell_type": "code",
   "execution_count": 3,
   "id": "dcfb8af1",
   "metadata": {},
   "outputs": [
    {
     "name": "stdout",
     "output_type": "stream",
     "text": [
      "<class 'pandas.core.frame.DataFrame'>\n",
      "RangeIndex: 21525 entries, 0 to 21524\n",
      "Data columns (total 12 columns):\n",
      "children            21525 non-null int64\n",
      "days_employed       19351 non-null float64\n",
      "dob_years           21525 non-null int64\n",
      "education           21525 non-null object\n",
      "education_id        21525 non-null int64\n",
      "family_status       21525 non-null object\n",
      "family_status_id    21525 non-null int64\n",
      "gender              21525 non-null object\n",
      "income_type         21525 non-null object\n",
      "debt                21525 non-null int64\n",
      "total_income        19351 non-null float64\n",
      "purpose             21525 non-null object\n",
      "dtypes: float64(2), int64(5), object(5)\n",
      "memory usage: 2.0+ MB\n"
     ]
    },
    {
     "data": {
      "text/html": [
       "<div>\n",
       "<style scoped>\n",
       "    .dataframe tbody tr th:only-of-type {\n",
       "        vertical-align: middle;\n",
       "    }\n",
       "\n",
       "    .dataframe tbody tr th {\n",
       "        vertical-align: top;\n",
       "    }\n",
       "\n",
       "    .dataframe thead th {\n",
       "        text-align: right;\n",
       "    }\n",
       "</style>\n",
       "<table border=\"1\" class=\"dataframe\">\n",
       "  <thead>\n",
       "    <tr style=\"text-align: right;\">\n",
       "      <th></th>\n",
       "      <th>children</th>\n",
       "      <th>days_employed</th>\n",
       "      <th>dob_years</th>\n",
       "      <th>education_id</th>\n",
       "      <th>family_status_id</th>\n",
       "      <th>debt</th>\n",
       "      <th>total_income</th>\n",
       "    </tr>\n",
       "  </thead>\n",
       "  <tbody>\n",
       "    <tr>\n",
       "      <td>count</td>\n",
       "      <td>21525.000000</td>\n",
       "      <td>19351.000000</td>\n",
       "      <td>21525.000000</td>\n",
       "      <td>21525.000000</td>\n",
       "      <td>21525.000000</td>\n",
       "      <td>21525.000000</td>\n",
       "      <td>1.935100e+04</td>\n",
       "    </tr>\n",
       "    <tr>\n",
       "      <td>mean</td>\n",
       "      <td>0.538908</td>\n",
       "      <td>63046.497661</td>\n",
       "      <td>43.293380</td>\n",
       "      <td>0.817236</td>\n",
       "      <td>0.972544</td>\n",
       "      <td>0.080883</td>\n",
       "      <td>1.674223e+05</td>\n",
       "    </tr>\n",
       "    <tr>\n",
       "      <td>std</td>\n",
       "      <td>1.381587</td>\n",
       "      <td>140827.311974</td>\n",
       "      <td>12.574584</td>\n",
       "      <td>0.548138</td>\n",
       "      <td>1.420324</td>\n",
       "      <td>0.272661</td>\n",
       "      <td>1.029716e+05</td>\n",
       "    </tr>\n",
       "    <tr>\n",
       "      <td>min</td>\n",
       "      <td>-1.000000</td>\n",
       "      <td>-18388.949901</td>\n",
       "      <td>0.000000</td>\n",
       "      <td>0.000000</td>\n",
       "      <td>0.000000</td>\n",
       "      <td>0.000000</td>\n",
       "      <td>2.066726e+04</td>\n",
       "    </tr>\n",
       "    <tr>\n",
       "      <td>25%</td>\n",
       "      <td>0.000000</td>\n",
       "      <td>-2747.423625</td>\n",
       "      <td>33.000000</td>\n",
       "      <td>1.000000</td>\n",
       "      <td>0.000000</td>\n",
       "      <td>0.000000</td>\n",
       "      <td>1.030532e+05</td>\n",
       "    </tr>\n",
       "    <tr>\n",
       "      <td>50%</td>\n",
       "      <td>0.000000</td>\n",
       "      <td>-1203.369529</td>\n",
       "      <td>42.000000</td>\n",
       "      <td>1.000000</td>\n",
       "      <td>0.000000</td>\n",
       "      <td>0.000000</td>\n",
       "      <td>1.450179e+05</td>\n",
       "    </tr>\n",
       "    <tr>\n",
       "      <td>75%</td>\n",
       "      <td>1.000000</td>\n",
       "      <td>-291.095954</td>\n",
       "      <td>53.000000</td>\n",
       "      <td>1.000000</td>\n",
       "      <td>1.000000</td>\n",
       "      <td>0.000000</td>\n",
       "      <td>2.034351e+05</td>\n",
       "    </tr>\n",
       "    <tr>\n",
       "      <td>max</td>\n",
       "      <td>20.000000</td>\n",
       "      <td>401755.400475</td>\n",
       "      <td>75.000000</td>\n",
       "      <td>4.000000</td>\n",
       "      <td>4.000000</td>\n",
       "      <td>1.000000</td>\n",
       "      <td>2.265604e+06</td>\n",
       "    </tr>\n",
       "  </tbody>\n",
       "</table>\n",
       "</div>"
      ],
      "text/plain": [
       "           children  days_employed     dob_years  education_id  \\\n",
       "count  21525.000000   19351.000000  21525.000000  21525.000000   \n",
       "mean       0.538908   63046.497661     43.293380      0.817236   \n",
       "std        1.381587  140827.311974     12.574584      0.548138   \n",
       "min       -1.000000  -18388.949901      0.000000      0.000000   \n",
       "25%        0.000000   -2747.423625     33.000000      1.000000   \n",
       "50%        0.000000   -1203.369529     42.000000      1.000000   \n",
       "75%        1.000000    -291.095954     53.000000      1.000000   \n",
       "max       20.000000  401755.400475     75.000000      4.000000   \n",
       "\n",
       "       family_status_id          debt  total_income  \n",
       "count      21525.000000  21525.000000  1.935100e+04  \n",
       "mean           0.972544      0.080883  1.674223e+05  \n",
       "std            1.420324      0.272661  1.029716e+05  \n",
       "min            0.000000      0.000000  2.066726e+04  \n",
       "25%            0.000000      0.000000  1.030532e+05  \n",
       "50%            0.000000      0.000000  1.450179e+05  \n",
       "75%            1.000000      0.000000  2.034351e+05  \n",
       "max            4.000000      1.000000  2.265604e+06  "
      ]
     },
     "execution_count": 3,
     "metadata": {},
     "output_type": "execute_result"
    }
   ],
   "source": [
    "df.info() # обзор данных\n",
    "df.describe()"
   ]
  },
  {
   "cell_type": "markdown",
   "id": "225d8506",
   "metadata": {},
   "source": [
    "В таблице 12 столбцов.\n",
    "\n",
    "Согласно документации к данным:\n",
    "* `children` — количество детей в семье\n",
    "* `days_employed` — общий трудовой стаж в днях\n",
    "* `dob_years` — возраст клиента в годах\n",
    "* `education` — уровень образования клиента\n",
    "* `education_id` — идентификатор уровня образования\n",
    "* `family_status` — семейное положение\n",
    "* `family_status_id` — идентификатор семейного положения\n",
    "* `gender` — пол клиента\n",
    "* `income_type` — тип занятости\n",
    "* `debt` — имел ли задолженность по возврату кредитов\n",
    "* `total_income` — ежемесячный доход\n",
    "* `purpose` — цель получения кредита\n",
    "\n",
    "В столбцах `days_employ` и `total_income` есть пропущенные значения. Тип обоих столбцов - float64."
   ]
  },
  {
   "cell_type": "markdown",
   "id": "1be08268",
   "metadata": {},
   "source": [
    "### Шаг 2.1 Проверка данных на аномалии и исправления."
   ]
  },
  {
   "cell_type": "markdown",
   "id": "52237aef",
   "metadata": {},
   "source": [
    "В первую очередь избавимся от аномалий в данных, а после этого заполним пропуски. При поверхностном изучении датасета были обнаружены следующие аномалии:\n",
    "* Отрицательное количество дней трудового стажа в столбце `days_employed`\n",
    "* Огромные значения трудового стажа (например значение 340266 соответствует 932 годам, что явялется невозможным)"
   ]
  },
  {
   "cell_type": "markdown",
   "id": "426002fc",
   "metadata": {},
   "source": [
    "Изучим датасет более детально, возможно в других числовых ячейках с количественными переменными тоже содержатся отрицательные значения. Проверим каждый столбец по отдельности."
   ]
  },
  {
   "cell_type": "code",
   "execution_count": 4,
   "id": "4f5a859a",
   "metadata": {},
   "outputs": [
    {
     "name": "stdout",
     "output_type": "stream",
     "text": [
      "Отрицательных значения в столбце children: 47\n",
      "Отрицательных значения в столбце days_employed: 15906\n",
      "Отрицательных значения в столбце dob_years: 0\n",
      "Отрицательных значения в столбце total_income: 0\n"
     ]
    }
   ],
   "source": [
    "print('Отрицательных значения в столбце children:', df[df['children'] < 0]['children'].count()) # счетчик отрицательных значений столбцов\n",
    "print('Отрицательных значения в столбце days_employed:', df[df['days_employed'] < 0]['days_employed'].count())\n",
    "print('Отрицательных значения в столбце dob_years:', df[df['dob_years'] < 0]['dob_years'].count())\n",
    "print('Отрицательных значения в столбце total_income:', df[df['total_income'] < 0]['total_income'].count())"
   ]
  },
  {
   "cell_type": "markdown",
   "id": "f043c03a",
   "metadata": {},
   "source": [
    "В столбце `children` так же есть отрицательные значения. Переведем их в положительные. Для этого перезапишем все ячейки столбцов `days_employed` и `children` с применением функции abs(), которая вычисляет модуль числа."
   ]
  },
  {
   "cell_type": "code",
   "execution_count": 5,
   "id": "16171226",
   "metadata": {
    "scrolled": true
   },
   "outputs": [
    {
     "data": {
      "text/html": [
       "<div>\n",
       "<style scoped>\n",
       "    .dataframe tbody tr th:only-of-type {\n",
       "        vertical-align: middle;\n",
       "    }\n",
       "\n",
       "    .dataframe tbody tr th {\n",
       "        vertical-align: top;\n",
       "    }\n",
       "\n",
       "    .dataframe thead th {\n",
       "        text-align: right;\n",
       "    }\n",
       "</style>\n",
       "<table border=\"1\" class=\"dataframe\">\n",
       "  <thead>\n",
       "    <tr style=\"text-align: right;\">\n",
       "      <th></th>\n",
       "      <th>children</th>\n",
       "      <th>days_employed</th>\n",
       "      <th>dob_years</th>\n",
       "      <th>education</th>\n",
       "      <th>education_id</th>\n",
       "      <th>family_status</th>\n",
       "      <th>family_status_id</th>\n",
       "      <th>gender</th>\n",
       "      <th>income_type</th>\n",
       "      <th>debt</th>\n",
       "      <th>total_income</th>\n",
       "      <th>purpose</th>\n",
       "    </tr>\n",
       "  </thead>\n",
       "  <tbody>\n",
       "    <tr>\n",
       "      <td>0</td>\n",
       "      <td>1</td>\n",
       "      <td>8437.673028</td>\n",
       "      <td>42</td>\n",
       "      <td>высшее</td>\n",
       "      <td>0</td>\n",
       "      <td>женат / замужем</td>\n",
       "      <td>0</td>\n",
       "      <td>F</td>\n",
       "      <td>сотрудник</td>\n",
       "      <td>0</td>\n",
       "      <td>253875.639453</td>\n",
       "      <td>покупка жилья</td>\n",
       "    </tr>\n",
       "    <tr>\n",
       "      <td>1</td>\n",
       "      <td>1</td>\n",
       "      <td>4024.803754</td>\n",
       "      <td>36</td>\n",
       "      <td>среднее</td>\n",
       "      <td>1</td>\n",
       "      <td>женат / замужем</td>\n",
       "      <td>0</td>\n",
       "      <td>F</td>\n",
       "      <td>сотрудник</td>\n",
       "      <td>0</td>\n",
       "      <td>112080.014102</td>\n",
       "      <td>приобретение автомобиля</td>\n",
       "    </tr>\n",
       "    <tr>\n",
       "      <td>2</td>\n",
       "      <td>0</td>\n",
       "      <td>5623.422610</td>\n",
       "      <td>33</td>\n",
       "      <td>Среднее</td>\n",
       "      <td>1</td>\n",
       "      <td>женат / замужем</td>\n",
       "      <td>0</td>\n",
       "      <td>M</td>\n",
       "      <td>сотрудник</td>\n",
       "      <td>0</td>\n",
       "      <td>145885.952297</td>\n",
       "      <td>покупка жилья</td>\n",
       "    </tr>\n",
       "    <tr>\n",
       "      <td>3</td>\n",
       "      <td>3</td>\n",
       "      <td>4124.747207</td>\n",
       "      <td>32</td>\n",
       "      <td>среднее</td>\n",
       "      <td>1</td>\n",
       "      <td>женат / замужем</td>\n",
       "      <td>0</td>\n",
       "      <td>M</td>\n",
       "      <td>сотрудник</td>\n",
       "      <td>0</td>\n",
       "      <td>267628.550329</td>\n",
       "      <td>дополнительное образование</td>\n",
       "    </tr>\n",
       "    <tr>\n",
       "      <td>4</td>\n",
       "      <td>0</td>\n",
       "      <td>340266.072047</td>\n",
       "      <td>53</td>\n",
       "      <td>среднее</td>\n",
       "      <td>1</td>\n",
       "      <td>гражданский брак</td>\n",
       "      <td>1</td>\n",
       "      <td>F</td>\n",
       "      <td>пенсионер</td>\n",
       "      <td>0</td>\n",
       "      <td>158616.077870</td>\n",
       "      <td>сыграть свадьбу</td>\n",
       "    </tr>\n",
       "  </tbody>\n",
       "</table>\n",
       "</div>"
      ],
      "text/plain": [
       "   children  days_employed  dob_years education  education_id  \\\n",
       "0         1    8437.673028         42    высшее             0   \n",
       "1         1    4024.803754         36   среднее             1   \n",
       "2         0    5623.422610         33   Среднее             1   \n",
       "3         3    4124.747207         32   среднее             1   \n",
       "4         0  340266.072047         53   среднее             1   \n",
       "\n",
       "      family_status  family_status_id gender income_type  debt   total_income  \\\n",
       "0   женат / замужем                 0      F   сотрудник     0  253875.639453   \n",
       "1   женат / замужем                 0      F   сотрудник     0  112080.014102   \n",
       "2   женат / замужем                 0      M   сотрудник     0  145885.952297   \n",
       "3   женат / замужем                 0      M   сотрудник     0  267628.550329   \n",
       "4  гражданский брак                 1      F   пенсионер     0  158616.077870   \n",
       "\n",
       "                      purpose  \n",
       "0               покупка жилья  \n",
       "1     приобретение автомобиля  \n",
       "2               покупка жилья  \n",
       "3  дополнительное образование  \n",
       "4             сыграть свадьбу  "
      ]
     },
     "metadata": {},
     "output_type": "display_data"
    }
   ],
   "source": [
    "df['days_employed'] = abs(df['days_employed']) # вычисляем модуль всех значений столбца 'days_employed' и перезаписываем их\n",
    "df['children'] = abs(df['children']) # вычисляем модуль всех значений столбца 'children' и перезаписываем их\n",
    "display(df.head()) # проверяем отсутствие отрицательных значений"
   ]
  },
  {
   "cell_type": "markdown",
   "id": "b4047fd7",
   "metadata": {},
   "source": [
    "В столбце `children` проверим были ли отрицательные значения. Не исключено, что в нем также еще содержатся аномалии. Проверим уникальные значения столбца `children`."
   ]
  },
  {
   "cell_type": "code",
   "execution_count": 6,
   "id": "e154bf10",
   "metadata": {},
   "outputs": [
    {
     "data": {
      "text/plain": [
       "0     14149\n",
       "1      4865\n",
       "2      2055\n",
       "3       330\n",
       "20       76\n",
       "4        41\n",
       "5         9\n",
       "Name: children, dtype: int64"
      ]
     },
     "execution_count": 6,
     "metadata": {},
     "output_type": "execute_result"
    }
   ],
   "source": [
    "df['children'].value_counts() # проверяем все уникальные значения"
   ]
  },
  {
   "cell_type": "markdown",
   "id": "ccf27e1a",
   "metadata": {},
   "source": [
    "В 76 ячейках столбца указано количество детей - 20. Выведем эти строки на экран, чтобы изучить подробнее."
   ]
  },
  {
   "cell_type": "code",
   "execution_count": 7,
   "id": "a163c245",
   "metadata": {
    "scrolled": true
   },
   "outputs": [
    {
     "data": {
      "text/html": [
       "<div>\n",
       "<style scoped>\n",
       "    .dataframe tbody tr th:only-of-type {\n",
       "        vertical-align: middle;\n",
       "    }\n",
       "\n",
       "    .dataframe tbody tr th {\n",
       "        vertical-align: top;\n",
       "    }\n",
       "\n",
       "    .dataframe thead th {\n",
       "        text-align: right;\n",
       "    }\n",
       "</style>\n",
       "<table border=\"1\" class=\"dataframe\">\n",
       "  <thead>\n",
       "    <tr style=\"text-align: right;\">\n",
       "      <th></th>\n",
       "      <th>children</th>\n",
       "      <th>days_employed</th>\n",
       "      <th>dob_years</th>\n",
       "      <th>education</th>\n",
       "      <th>education_id</th>\n",
       "      <th>family_status</th>\n",
       "      <th>family_status_id</th>\n",
       "      <th>gender</th>\n",
       "      <th>income_type</th>\n",
       "      <th>debt</th>\n",
       "      <th>total_income</th>\n",
       "      <th>purpose</th>\n",
       "    </tr>\n",
       "  </thead>\n",
       "  <tbody>\n",
       "    <tr>\n",
       "      <td>606</td>\n",
       "      <td>20</td>\n",
       "      <td>880.221113</td>\n",
       "      <td>21</td>\n",
       "      <td>среднее</td>\n",
       "      <td>1</td>\n",
       "      <td>женат / замужем</td>\n",
       "      <td>0</td>\n",
       "      <td>M</td>\n",
       "      <td>компаньон</td>\n",
       "      <td>0</td>\n",
       "      <td>145334.865002</td>\n",
       "      <td>покупка жилья</td>\n",
       "    </tr>\n",
       "    <tr>\n",
       "      <td>720</td>\n",
       "      <td>20</td>\n",
       "      <td>855.595512</td>\n",
       "      <td>44</td>\n",
       "      <td>среднее</td>\n",
       "      <td>1</td>\n",
       "      <td>женат / замужем</td>\n",
       "      <td>0</td>\n",
       "      <td>F</td>\n",
       "      <td>компаньон</td>\n",
       "      <td>0</td>\n",
       "      <td>112998.738649</td>\n",
       "      <td>покупка недвижимости</td>\n",
       "    </tr>\n",
       "    <tr>\n",
       "      <td>1074</td>\n",
       "      <td>20</td>\n",
       "      <td>3310.411598</td>\n",
       "      <td>56</td>\n",
       "      <td>среднее</td>\n",
       "      <td>1</td>\n",
       "      <td>женат / замужем</td>\n",
       "      <td>0</td>\n",
       "      <td>F</td>\n",
       "      <td>сотрудник</td>\n",
       "      <td>1</td>\n",
       "      <td>229518.537004</td>\n",
       "      <td>получение образования</td>\n",
       "    </tr>\n",
       "    <tr>\n",
       "      <td>2510</td>\n",
       "      <td>20</td>\n",
       "      <td>2714.161249</td>\n",
       "      <td>59</td>\n",
       "      <td>высшее</td>\n",
       "      <td>0</td>\n",
       "      <td>вдовец / вдова</td>\n",
       "      <td>2</td>\n",
       "      <td>F</td>\n",
       "      <td>сотрудник</td>\n",
       "      <td>0</td>\n",
       "      <td>264474.835577</td>\n",
       "      <td>операции с коммерческой недвижимостью</td>\n",
       "    </tr>\n",
       "    <tr>\n",
       "      <td>2941</td>\n",
       "      <td>20</td>\n",
       "      <td>2161.591519</td>\n",
       "      <td>0</td>\n",
       "      <td>среднее</td>\n",
       "      <td>1</td>\n",
       "      <td>женат / замужем</td>\n",
       "      <td>0</td>\n",
       "      <td>F</td>\n",
       "      <td>сотрудник</td>\n",
       "      <td>0</td>\n",
       "      <td>199739.941398</td>\n",
       "      <td>на покупку автомобиля</td>\n",
       "    </tr>\n",
       "    <tr>\n",
       "      <td>...</td>\n",
       "      <td>...</td>\n",
       "      <td>...</td>\n",
       "      <td>...</td>\n",
       "      <td>...</td>\n",
       "      <td>...</td>\n",
       "      <td>...</td>\n",
       "      <td>...</td>\n",
       "      <td>...</td>\n",
       "      <td>...</td>\n",
       "      <td>...</td>\n",
       "      <td>...</td>\n",
       "      <td>...</td>\n",
       "    </tr>\n",
       "    <tr>\n",
       "      <td>21008</td>\n",
       "      <td>20</td>\n",
       "      <td>1240.257910</td>\n",
       "      <td>40</td>\n",
       "      <td>среднее</td>\n",
       "      <td>1</td>\n",
       "      <td>женат / замужем</td>\n",
       "      <td>0</td>\n",
       "      <td>F</td>\n",
       "      <td>сотрудник</td>\n",
       "      <td>1</td>\n",
       "      <td>133524.010303</td>\n",
       "      <td>свой автомобиль</td>\n",
       "    </tr>\n",
       "    <tr>\n",
       "      <td>21325</td>\n",
       "      <td>20</td>\n",
       "      <td>601.174883</td>\n",
       "      <td>37</td>\n",
       "      <td>среднее</td>\n",
       "      <td>1</td>\n",
       "      <td>женат / замужем</td>\n",
       "      <td>0</td>\n",
       "      <td>F</td>\n",
       "      <td>компаньон</td>\n",
       "      <td>0</td>\n",
       "      <td>102986.065978</td>\n",
       "      <td>профильное образование</td>\n",
       "    </tr>\n",
       "    <tr>\n",
       "      <td>21390</td>\n",
       "      <td>20</td>\n",
       "      <td>NaN</td>\n",
       "      <td>53</td>\n",
       "      <td>среднее</td>\n",
       "      <td>1</td>\n",
       "      <td>женат / замужем</td>\n",
       "      <td>0</td>\n",
       "      <td>M</td>\n",
       "      <td>компаньон</td>\n",
       "      <td>0</td>\n",
       "      <td>NaN</td>\n",
       "      <td>покупка жилой недвижимости</td>\n",
       "    </tr>\n",
       "    <tr>\n",
       "      <td>21404</td>\n",
       "      <td>20</td>\n",
       "      <td>494.788448</td>\n",
       "      <td>52</td>\n",
       "      <td>среднее</td>\n",
       "      <td>1</td>\n",
       "      <td>женат / замужем</td>\n",
       "      <td>0</td>\n",
       "      <td>M</td>\n",
       "      <td>компаньон</td>\n",
       "      <td>0</td>\n",
       "      <td>156629.683642</td>\n",
       "      <td>операции со своей недвижимостью</td>\n",
       "    </tr>\n",
       "    <tr>\n",
       "      <td>21491</td>\n",
       "      <td>20</td>\n",
       "      <td>173.954460</td>\n",
       "      <td>27</td>\n",
       "      <td>среднее</td>\n",
       "      <td>1</td>\n",
       "      <td>женат / замужем</td>\n",
       "      <td>0</td>\n",
       "      <td>F</td>\n",
       "      <td>сотрудник</td>\n",
       "      <td>0</td>\n",
       "      <td>155520.899688</td>\n",
       "      <td>на покупку подержанного автомобиля</td>\n",
       "    </tr>\n",
       "  </tbody>\n",
       "</table>\n",
       "<p>76 rows × 12 columns</p>\n",
       "</div>"
      ],
      "text/plain": [
       "       children  days_employed  dob_years education  education_id  \\\n",
       "606          20     880.221113         21   среднее             1   \n",
       "720          20     855.595512         44   среднее             1   \n",
       "1074         20    3310.411598         56   среднее             1   \n",
       "2510         20    2714.161249         59    высшее             0   \n",
       "2941         20    2161.591519          0   среднее             1   \n",
       "...         ...            ...        ...       ...           ...   \n",
       "21008        20    1240.257910         40   среднее             1   \n",
       "21325        20     601.174883         37   среднее             1   \n",
       "21390        20            NaN         53   среднее             1   \n",
       "21404        20     494.788448         52   среднее             1   \n",
       "21491        20     173.954460         27   среднее             1   \n",
       "\n",
       "         family_status  family_status_id gender income_type  debt  \\\n",
       "606    женат / замужем                 0      M   компаньон     0   \n",
       "720    женат / замужем                 0      F   компаньон     0   \n",
       "1074   женат / замужем                 0      F   сотрудник     1   \n",
       "2510    вдовец / вдова                 2      F   сотрудник     0   \n",
       "2941   женат / замужем                 0      F   сотрудник     0   \n",
       "...                ...               ...    ...         ...   ...   \n",
       "21008  женат / замужем                 0      F   сотрудник     1   \n",
       "21325  женат / замужем                 0      F   компаньон     0   \n",
       "21390  женат / замужем                 0      M   компаньон     0   \n",
       "21404  женат / замужем                 0      M   компаньон     0   \n",
       "21491  женат / замужем                 0      F   сотрудник     0   \n",
       "\n",
       "        total_income                                purpose  \n",
       "606    145334.865002                          покупка жилья  \n",
       "720    112998.738649                   покупка недвижимости  \n",
       "1074   229518.537004                  получение образования  \n",
       "2510   264474.835577  операции с коммерческой недвижимостью  \n",
       "2941   199739.941398                  на покупку автомобиля  \n",
       "...              ...                                    ...  \n",
       "21008  133524.010303                        свой автомобиль  \n",
       "21325  102986.065978                 профильное образование  \n",
       "21390            NaN             покупка жилой недвижимости  \n",
       "21404  156629.683642        операции со своей недвижимостью  \n",
       "21491  155520.899688     на покупку подержанного автомобиля  \n",
       "\n",
       "[76 rows x 12 columns]"
      ]
     },
     "metadata": {},
     "output_type": "display_data"
    }
   ],
   "source": [
    "display(df[df['children'] == 20])"
   ]
  },
  {
   "cell_type": "markdown",
   "id": "8eb233d9",
   "metadata": {},
   "source": [
    "Это аномалия, так как клиент с индексом 606 в возрасте 21 год не может иметь 20 детей. При изучении данных была найдена еще одна аномалия: в ячейке с возрастом указано нулевое значение. Эту аномалию изучем дальше, а пока решим, что делать с аномалией столбца `children`.\n",
    "\n",
    "Вероятно, это человеская ошибка при вводе данных, 2 и 0 находятся рядом на числовом блоке клавиатуры. Так как одно из заданий заключается в изучении зависимости между количеством детей и возвратом кредита в срок, то заменим число детей на 2. Таких строк - 76, что составляет менее 1% от всех данных. Замена значений существенно не повлияет на результаты исследования. "
   ]
  },
  {
   "cell_type": "code",
   "execution_count": 8,
   "id": "fda21c16",
   "metadata": {},
   "outputs": [
    {
     "data": {
      "text/plain": [
       "0    14149\n",
       "1     4865\n",
       "2     2131\n",
       "3      330\n",
       "4       41\n",
       "5        9\n",
       "Name: children, dtype: int64"
      ]
     },
     "execution_count": 8,
     "metadata": {},
     "output_type": "execute_result"
    }
   ],
   "source": [
    "df.loc[df['children'] == 20, 'children'] = 2 # с помощью логической индексации меняем количество детей с 20 на 2\n",
    "df['children'].value_counts()"
   ]
  },
  {
   "cell_type": "markdown",
   "id": "8c6bd147",
   "metadata": {},
   "source": [
    "Сейчас данные отображаются корректно. Теперь вернемся к аномалии с нулевым значениям возраста. Посчитаем количество таких строк."
   ]
  },
  {
   "cell_type": "code",
   "execution_count": 9,
   "id": "020eca3a",
   "metadata": {
    "scrolled": true
   },
   "outputs": [
    {
     "data": {
      "text/plain": [
       "101"
      ]
     },
     "execution_count": 9,
     "metadata": {},
     "output_type": "execute_result"
    }
   ],
   "source": [
    "df[df['dob_years'] == 0]['dob_years'].count() # счетчик ячеек с нулевым значением"
   ]
  },
  {
   "cell_type": "markdown",
   "id": "6f1f363e",
   "metadata": {},
   "source": [
    "Найдена 101 ячейка с нулевым значением. Это менее 1% от всех данных и,\n",
    "так как в задании нет исследования зависимости возврата кредита от возраста, то оставим нулевые ячейки без изменений."
   ]
  },
  {
   "cell_type": "markdown",
   "id": "e8e779ae",
   "metadata": {},
   "source": [
    "Вернемся к аномалии в столце `days_employed`. В столбце есть огромные значения трудового стажа, посчитаем количство этих строк. Возьмем за критерий расчета максимально возможный стаж. Для мужчин и женщин средний срок выхода на пенсию составляет 62,5 года. Так как по ТК РФ работать можно с 16 лет, то примем за максимально возможное значение стажа - 46,5 лет, то есть 16973 дней. "
   ]
  },
  {
   "cell_type": "code",
   "execution_count": 10,
   "id": "32832994",
   "metadata": {},
   "outputs": [
    {
     "data": {
      "text/plain": [
       "3447"
      ]
     },
     "execution_count": 10,
     "metadata": {},
     "output_type": "execute_result"
    }
   ],
   "source": [
    "df[df['days_employed'] > 16973]['days_employed'].count() # счетчик ячеек с огромным стажем"
   ]
  },
  {
   "cell_type": "markdown",
   "id": "f054af73",
   "metadata": {},
   "source": [
    "Количество строк 3447, что составляет 16% датасета. Это существенный объем данных и удаление целых строк может повлиять на результаты исследования. Возможно, в ячейках указано количество часов стажа, а не дней. Проверим эту гипотезу. Для начала изучим эти строки."
   ]
  },
  {
   "cell_type": "code",
   "execution_count": 11,
   "id": "6d75370c",
   "metadata": {},
   "outputs": [
    {
     "data": {
      "text/html": [
       "<div>\n",
       "<style scoped>\n",
       "    .dataframe tbody tr th:only-of-type {\n",
       "        vertical-align: middle;\n",
       "    }\n",
       "\n",
       "    .dataframe tbody tr th {\n",
       "        vertical-align: top;\n",
       "    }\n",
       "\n",
       "    .dataframe thead th {\n",
       "        text-align: right;\n",
       "    }\n",
       "</style>\n",
       "<table border=\"1\" class=\"dataframe\">\n",
       "  <thead>\n",
       "    <tr style=\"text-align: right;\">\n",
       "      <th></th>\n",
       "      <th>children</th>\n",
       "      <th>days_employed</th>\n",
       "      <th>dob_years</th>\n",
       "      <th>education</th>\n",
       "      <th>education_id</th>\n",
       "      <th>family_status</th>\n",
       "      <th>family_status_id</th>\n",
       "      <th>gender</th>\n",
       "      <th>income_type</th>\n",
       "      <th>debt</th>\n",
       "      <th>total_income</th>\n",
       "      <th>purpose</th>\n",
       "    </tr>\n",
       "  </thead>\n",
       "  <tbody>\n",
       "    <tr>\n",
       "      <td>4</td>\n",
       "      <td>0</td>\n",
       "      <td>340266.072047</td>\n",
       "      <td>53</td>\n",
       "      <td>среднее</td>\n",
       "      <td>1</td>\n",
       "      <td>гражданский брак</td>\n",
       "      <td>1</td>\n",
       "      <td>F</td>\n",
       "      <td>пенсионер</td>\n",
       "      <td>0</td>\n",
       "      <td>158616.077870</td>\n",
       "      <td>сыграть свадьбу</td>\n",
       "    </tr>\n",
       "    <tr>\n",
       "      <td>18</td>\n",
       "      <td>0</td>\n",
       "      <td>400281.136913</td>\n",
       "      <td>53</td>\n",
       "      <td>среднее</td>\n",
       "      <td>1</td>\n",
       "      <td>вдовец / вдова</td>\n",
       "      <td>2</td>\n",
       "      <td>F</td>\n",
       "      <td>пенсионер</td>\n",
       "      <td>0</td>\n",
       "      <td>56823.777243</td>\n",
       "      <td>на покупку подержанного автомобиля</td>\n",
       "    </tr>\n",
       "    <tr>\n",
       "      <td>24</td>\n",
       "      <td>1</td>\n",
       "      <td>338551.952911</td>\n",
       "      <td>57</td>\n",
       "      <td>среднее</td>\n",
       "      <td>1</td>\n",
       "      <td>Не женат / не замужем</td>\n",
       "      <td>4</td>\n",
       "      <td>F</td>\n",
       "      <td>пенсионер</td>\n",
       "      <td>0</td>\n",
       "      <td>290547.235997</td>\n",
       "      <td>операции с коммерческой недвижимостью</td>\n",
       "    </tr>\n",
       "    <tr>\n",
       "      <td>25</td>\n",
       "      <td>0</td>\n",
       "      <td>363548.489348</td>\n",
       "      <td>67</td>\n",
       "      <td>среднее</td>\n",
       "      <td>1</td>\n",
       "      <td>женат / замужем</td>\n",
       "      <td>0</td>\n",
       "      <td>M</td>\n",
       "      <td>пенсионер</td>\n",
       "      <td>0</td>\n",
       "      <td>55112.757732</td>\n",
       "      <td>покупка недвижимости</td>\n",
       "    </tr>\n",
       "    <tr>\n",
       "      <td>30</td>\n",
       "      <td>1</td>\n",
       "      <td>335581.668515</td>\n",
       "      <td>62</td>\n",
       "      <td>среднее</td>\n",
       "      <td>1</td>\n",
       "      <td>женат / замужем</td>\n",
       "      <td>0</td>\n",
       "      <td>F</td>\n",
       "      <td>пенсионер</td>\n",
       "      <td>0</td>\n",
       "      <td>171456.067993</td>\n",
       "      <td>операции с коммерческой недвижимостью</td>\n",
       "    </tr>\n",
       "    <tr>\n",
       "      <td>35</td>\n",
       "      <td>0</td>\n",
       "      <td>394021.072184</td>\n",
       "      <td>68</td>\n",
       "      <td>среднее</td>\n",
       "      <td>1</td>\n",
       "      <td>гражданский брак</td>\n",
       "      <td>1</td>\n",
       "      <td>M</td>\n",
       "      <td>пенсионер</td>\n",
       "      <td>0</td>\n",
       "      <td>77805.677436</td>\n",
       "      <td>на проведение свадьбы</td>\n",
       "    </tr>\n",
       "    <tr>\n",
       "      <td>50</td>\n",
       "      <td>0</td>\n",
       "      <td>353731.432338</td>\n",
       "      <td>63</td>\n",
       "      <td>среднее</td>\n",
       "      <td>1</td>\n",
       "      <td>женат / замужем</td>\n",
       "      <td>0</td>\n",
       "      <td>F</td>\n",
       "      <td>пенсионер</td>\n",
       "      <td>0</td>\n",
       "      <td>92342.730612</td>\n",
       "      <td>автомобили</td>\n",
       "    </tr>\n",
       "    <tr>\n",
       "      <td>56</td>\n",
       "      <td>0</td>\n",
       "      <td>370145.087237</td>\n",
       "      <td>64</td>\n",
       "      <td>среднее</td>\n",
       "      <td>1</td>\n",
       "      <td>вдовец / вдова</td>\n",
       "      <td>2</td>\n",
       "      <td>F</td>\n",
       "      <td>пенсионер</td>\n",
       "      <td>0</td>\n",
       "      <td>149141.043533</td>\n",
       "      <td>образование</td>\n",
       "    </tr>\n",
       "    <tr>\n",
       "      <td>71</td>\n",
       "      <td>0</td>\n",
       "      <td>338113.529892</td>\n",
       "      <td>62</td>\n",
       "      <td>среднее</td>\n",
       "      <td>1</td>\n",
       "      <td>женат / замужем</td>\n",
       "      <td>0</td>\n",
       "      <td>F</td>\n",
       "      <td>пенсионер</td>\n",
       "      <td>0</td>\n",
       "      <td>43929.696397</td>\n",
       "      <td>автомобили</td>\n",
       "    </tr>\n",
       "    <tr>\n",
       "      <td>78</td>\n",
       "      <td>0</td>\n",
       "      <td>359722.945074</td>\n",
       "      <td>61</td>\n",
       "      <td>высшее</td>\n",
       "      <td>0</td>\n",
       "      <td>женат / замужем</td>\n",
       "      <td>0</td>\n",
       "      <td>M</td>\n",
       "      <td>пенсионер</td>\n",
       "      <td>0</td>\n",
       "      <td>175127.646000</td>\n",
       "      <td>сделка с автомобилем</td>\n",
       "    </tr>\n",
       "  </tbody>\n",
       "</table>\n",
       "</div>"
      ],
      "text/plain": [
       "    children  days_employed  dob_years education  education_id  \\\n",
       "4          0  340266.072047         53   среднее             1   \n",
       "18         0  400281.136913         53   среднее             1   \n",
       "24         1  338551.952911         57   среднее             1   \n",
       "25         0  363548.489348         67   среднее             1   \n",
       "30         1  335581.668515         62   среднее             1   \n",
       "35         0  394021.072184         68   среднее             1   \n",
       "50         0  353731.432338         63   среднее             1   \n",
       "56         0  370145.087237         64   среднее             1   \n",
       "71         0  338113.529892         62   среднее             1   \n",
       "78         0  359722.945074         61    высшее             0   \n",
       "\n",
       "            family_status  family_status_id gender income_type  debt  \\\n",
       "4        гражданский брак                 1      F   пенсионер     0   \n",
       "18         вдовец / вдова                 2      F   пенсионер     0   \n",
       "24  Не женат / не замужем                 4      F   пенсионер     0   \n",
       "25        женат / замужем                 0      M   пенсионер     0   \n",
       "30        женат / замужем                 0      F   пенсионер     0   \n",
       "35       гражданский брак                 1      M   пенсионер     0   \n",
       "50        женат / замужем                 0      F   пенсионер     0   \n",
       "56         вдовец / вдова                 2      F   пенсионер     0   \n",
       "71        женат / замужем                 0      F   пенсионер     0   \n",
       "78        женат / замужем                 0      M   пенсионер     0   \n",
       "\n",
       "     total_income                                purpose  \n",
       "4   158616.077870                        сыграть свадьбу  \n",
       "18   56823.777243     на покупку подержанного автомобиля  \n",
       "24  290547.235997  операции с коммерческой недвижимостью  \n",
       "25   55112.757732                   покупка недвижимости  \n",
       "30  171456.067993  операции с коммерческой недвижимостью  \n",
       "35   77805.677436                  на проведение свадьбы  \n",
       "50   92342.730612                             автомобили  \n",
       "56  149141.043533                            образование  \n",
       "71   43929.696397                             автомобили  \n",
       "78  175127.646000                   сделка с автомобилем  "
      ]
     },
     "metadata": {},
     "output_type": "display_data"
    }
   ],
   "source": [
    "display(df[df['days_employed'] > 16973].head(10))"
   ]
  },
  {
   "cell_type": "markdown",
   "id": "0042bf35",
   "metadata": {},
   "source": [
    "Можно заметить, что возраст клиентов - 50 лет и больше. Найдем средний возраст клиентов и среднее значение трудового стажа этих клиентов."
   ]
  },
  {
   "cell_type": "code",
   "execution_count": 12,
   "id": "8a5369a3",
   "metadata": {},
   "outputs": [
    {
     "name": "stdout",
     "output_type": "stream",
     "text": [
      "59.12590658543661\n",
      "364802.9742311319\n"
     ]
    }
   ],
   "source": [
    "print(df[df['days_employed'] > 16973]['dob_years'].mean()) # вычисление среднего возраста\n",
    "print(df[df['days_employed'] > 16973]['days_employed'].mean()) # вычисление среднего стажа, предположительно в часах"
   ]
  },
  {
   "cell_type": "markdown",
   "id": "28b322fc",
   "metadata": {},
   "source": [
    "Средний возраст составляет 59 лет, по ТК РФ работать можно с 16 лет, значит у этих клиентов в среднем 43 года трудого стажа, или 15695 дней. \n",
    "\n",
    "Среднее значение трудового стажа составляет 364802. Если значения были указаны в часах, то 364802 / 24 получится 15200 дней.\n",
    "\n",
    "Значения 15695 и 15200 достаточно близки, поэтому гипотеза подтвердилась. Переведем данные в ячейках из часов в дни.\n"
   ]
  },
  {
   "cell_type": "code",
   "execution_count": 13,
   "id": "de709fbf",
   "metadata": {},
   "outputs": [],
   "source": [
    "df.loc[df['days_employed'] > 16973, 'days_employed'] = df.loc[df['days_employed'] > 16973, 'days_employed'] / 24 # перевод стажа из часов в дни"
   ]
  },
  {
   "cell_type": "markdown",
   "id": "1bd11af8",
   "metadata": {},
   "source": [
    "Для проверки результата работы функции, найдем максимальное значения стажа в днях."
   ]
  },
  {
   "cell_type": "code",
   "execution_count": 14,
   "id": "a2da269f",
   "metadata": {},
   "outputs": [
    {
     "data": {
      "text/plain": [
       "16739.80835313875"
      ]
     },
     "execution_count": 14,
     "metadata": {},
     "output_type": "execute_result"
    }
   ],
   "source": [
    "df['days_employed'].max() # поиск максимального значения"
   ]
  },
  {
   "cell_type": "markdown",
   "id": "7a859ce2",
   "metadata": {},
   "source": [
    "Теперь максимальные значения не превышают 16739 дней, что соответствует стажу 45 лет. На этом закончим проверку данных на аномалии."
   ]
  },
  {
   "cell_type": "markdown",
   "id": "a9afcdfd",
   "metadata": {},
   "source": [
    "### Шаг 2.1 Заполнение пропусков"
   ]
  },
  {
   "cell_type": "markdown",
   "id": "91950457",
   "metadata": {},
   "source": [
    "Найдем пропущенные значения в столбцах и посчитаем их количество."
   ]
  },
  {
   "cell_type": "code",
   "execution_count": 15,
   "id": "badc6a4b",
   "metadata": {},
   "outputs": [
    {
     "data": {
      "text/plain": [
       "children               0\n",
       "days_employed       2174\n",
       "dob_years              0\n",
       "education              0\n",
       "education_id           0\n",
       "family_status          0\n",
       "family_status_id       0\n",
       "gender                 0\n",
       "income_type            0\n",
       "debt                   0\n",
       "total_income        2174\n",
       "purpose                0\n",
       "dtype: int64"
      ]
     },
     "execution_count": 15,
     "metadata": {},
     "output_type": "execute_result"
    }
   ],
   "source": [
    "df.isna().sum() # поиск пропущенных значений пропусков в ячейках"
   ]
  },
  {
   "cell_type": "markdown",
   "id": "e37c199e",
   "metadata": {},
   "source": [
    "В обоих столбцах по 2174 пропущенному значению с типом NaN, так как отсутствующие значения принадлежат к типу float.\n",
    "\n",
    "Возможные причины пропусков в данных для столбцов `days_employed`(общий трудовой стаж в днях) и `total_income`(ежемесячный доход):\n",
    "* У клиентов отсутствует трудовой стаж\n",
    "* У клиентов отсутствует ежемесячный доход\n",
    "\n",
    "Доля пропущенных значений для каждого столбца с пропусками составялет 10%. Это существенный объем данных и удаление целых строк с пустыми ячейками может повлиять на результаты исследования.\n",
    "\n",
    "Заменим пустые ячейки медианными значениями в зависимости от группы при помощи метода transform(). Для количественных переменных это более объективно, чем использование среднего значения. Среднее значение некорректно характеризует данные, когда некоторые значения сильно выделяются среди большинства.\n"
   ]
  },
  {
   "cell_type": "code",
   "execution_count": 16,
   "id": "7f618de0",
   "metadata": {
    "scrolled": true
   },
   "outputs": [
    {
     "data": {
      "text/plain": [
       "children            0\n",
       "days_employed       0\n",
       "dob_years           0\n",
       "education           0\n",
       "education_id        0\n",
       "family_status       0\n",
       "family_status_id    0\n",
       "gender              0\n",
       "income_type         0\n",
       "debt                0\n",
       "total_income        0\n",
       "purpose             0\n",
       "dtype: int64"
      ]
     },
     "execution_count": 16,
     "metadata": {},
     "output_type": "execute_result"
    }
   ],
   "source": [
    "df['days_employed'] = df['days_employed'].fillna(df.groupby('income_type')['days_employed'].transform('median')) # замена пропусков медианным значением\n",
    "df['total_income'] = df['total_income'].fillna(df.groupby('income_type')['total_income'].transform('median')) \n",
    "df.isna().sum() # проверка отсутствия пропусков"
   ]
  },
  {
   "cell_type": "markdown",
   "id": "cf9d55be",
   "metadata": {},
   "source": [
    "### Шаг 2.3. Изменение типов данных."
   ]
  },
  {
   "cell_type": "markdown",
   "id": "46b128fe",
   "metadata": {},
   "source": [
    "Заменим вещественный тип данных в столбце `total_income` на целочисленный для удобства восприяти данных."
   ]
  },
  {
   "cell_type": "code",
   "execution_count": 17,
   "id": "84c93a4d",
   "metadata": {},
   "outputs": [],
   "source": [
    "df['total_income'] = df['total_income'].astype('int') # изменение типа ячеек на целочисленный"
   ]
  },
  {
   "cell_type": "markdown",
   "id": "e0cc6137",
   "metadata": {},
   "source": [
    "### Шаг 2.4. Удаление дубликатов."
   ]
  },
  {
   "cell_type": "markdown",
   "id": "494361dc",
   "metadata": {},
   "source": [
    "Проверим датасет на наличие явных дубликатов."
   ]
  },
  {
   "cell_type": "code",
   "execution_count": 18,
   "id": "2fda5cec",
   "metadata": {},
   "outputs": [
    {
     "data": {
      "text/plain": [
       "54"
      ]
     },
     "execution_count": 18,
     "metadata": {},
     "output_type": "execute_result"
    }
   ],
   "source": [
    "df.duplicated().sum() # подсчет явных дубликатов"
   ]
  },
  {
   "cell_type": "markdown",
   "id": "d7656536",
   "metadata": {},
   "source": [
    "Найдено 54 явных дубликата. Удалим их методом drop_duplicates() со сбросом индекса."
   ]
  },
  {
   "cell_type": "code",
   "execution_count": 19,
   "id": "aae4a32d",
   "metadata": {},
   "outputs": [],
   "source": [
    "df = df.drop_duplicates().reset_index(drop=True)  # удаление явных дубликатов"
   ]
  },
  {
   "cell_type": "markdown",
   "id": "b1650f84",
   "metadata": {},
   "source": [
    "Проверим наличие неявных дубликатов в столбце `education`."
   ]
  },
  {
   "cell_type": "code",
   "execution_count": 20,
   "id": "80fc3c93",
   "metadata": {},
   "outputs": [
    {
     "data": {
      "text/plain": [
       "среднее                13705\n",
       "высшее                  4710\n",
       "СРЕДНЕЕ                  772\n",
       "Среднее                  711\n",
       "неоконченное высшее      668\n",
       "ВЫСШЕЕ                   273\n",
       "Высшее                   268\n",
       "начальное                250\n",
       "Неоконченное высшее       47\n",
       "НЕОКОНЧЕННОЕ ВЫСШЕЕ       29\n",
       "НАЧАЛЬНОЕ                 17\n",
       "Начальное                 15\n",
       "ученая степень             4\n",
       "Ученая степень             1\n",
       "УЧЕНАЯ СТЕПЕНЬ             1\n",
       "Name: education, dtype: int64"
      ]
     },
     "execution_count": 20,
     "metadata": {},
     "output_type": "execute_result"
    }
   ],
   "source": [
    "df['education'].value_counts() # поиск уникальных значений"
   ]
  },
  {
   "cell_type": "markdown",
   "id": "e08401ae",
   "metadata": {},
   "source": [
    "В столбце присутствует множество неявных дубликатов, с отличающимся регистром. Приведем все ячейки к нижнему регистру методом str.lower() и снова проверим датасет на наличие явных дубликатов."
   ]
  },
  {
   "cell_type": "code",
   "execution_count": 21,
   "id": "b2766252",
   "metadata": {},
   "outputs": [
    {
     "data": {
      "text/plain": [
       "17"
      ]
     },
     "execution_count": 21,
     "metadata": {},
     "output_type": "execute_result"
    }
   ],
   "source": [
    "df['education'] = df['education'].str.lower() # изменения регистра на строчный\n",
    "df.duplicated().sum()"
   ]
  },
  {
   "cell_type": "markdown",
   "id": "b34a6362",
   "metadata": {},
   "source": [
    "Найдено еще 17 явных дубликатов, так же избавимся от них методом drop_duplicates()."
   ]
  },
  {
   "cell_type": "code",
   "execution_count": 22,
   "id": "4c5070ea",
   "metadata": {},
   "outputs": [],
   "source": [
    "df = df.drop_duplicates().reset_index(drop=True) # удаление явных дубликатов"
   ]
  },
  {
   "cell_type": "markdown",
   "id": "dddbae90",
   "metadata": {},
   "source": [
    "Проверим наличие неявных дубликатов в столбце `family_status`."
   ]
  },
  {
   "cell_type": "code",
   "execution_count": 23,
   "id": "f205c95b",
   "metadata": {
    "scrolled": false
   },
   "outputs": [
    {
     "data": {
      "text/plain": [
       "женат / замужем          12339\n",
       "гражданский брак          4151\n",
       "Не женат / не замужем     2810\n",
       "в разводе                 1195\n",
       "вдовец / вдова             959\n",
       "Name: family_status, dtype: int64"
      ]
     },
     "execution_count": 23,
     "metadata": {},
     "output_type": "execute_result"
    }
   ],
   "source": [
    "df['family_status'].value_counts() # поиск уникальных значений"
   ]
  },
  {
   "cell_type": "markdown",
   "id": "d85458c2",
   "metadata": {},
   "source": [
    "В стоблце `family_status` нет неявных дубликатов, но все равно приведем все ячейки к нижнему регистру для удобства чтения данных."
   ]
  },
  {
   "cell_type": "code",
   "execution_count": 24,
   "id": "2cf4ac00",
   "metadata": {},
   "outputs": [],
   "source": [
    "df['family_status'] = df['family_status'].str.lower()  # изменения регистра на строчный"
   ]
  },
  {
   "cell_type": "markdown",
   "id": "01ae8035",
   "metadata": {},
   "source": [
    "Проверим наличие неявных дубликатов в столбце `income_type`."
   ]
  },
  {
   "cell_type": "code",
   "execution_count": 25,
   "id": "1e0f0889",
   "metadata": {},
   "outputs": [
    {
     "data": {
      "text/plain": [
       "сотрудник          11084\n",
       "компаньон           5078\n",
       "пенсионер           3829\n",
       "госслужащий         1457\n",
       "предприниматель        2\n",
       "безработный            2\n",
       "в декрете              1\n",
       "студент                1\n",
       "Name: income_type, dtype: int64"
      ]
     },
     "execution_count": 25,
     "metadata": {},
     "output_type": "execute_result"
    }
   ],
   "source": [
    "df['income_type'].value_counts() # поиск уникальных значений"
   ]
  },
  {
   "cell_type": "markdown",
   "id": "ff51ba0c",
   "metadata": {},
   "source": [
    "В стоблце `income_type` нет неявных дубликатов, оставим его без изменений."
   ]
  },
  {
   "cell_type": "markdown",
   "id": "06c78452",
   "metadata": {},
   "source": [
    "Проверим наличие неявных дубликатов в столбце `purpose`."
   ]
  },
  {
   "cell_type": "code",
   "execution_count": 26,
   "id": "b20b63b8",
   "metadata": {
    "scrolled": false
   },
   "outputs": [
    {
     "data": {
      "text/plain": [
       "свадьба                                   791\n",
       "на проведение свадьбы                     768\n",
       "сыграть свадьбу                           765\n",
       "операции с недвижимостью                  675\n",
       "покупка коммерческой недвижимости         661\n",
       "операции с жильем                         652\n",
       "покупка жилья для сдачи                   651\n",
       "операции с коммерческой недвижимостью     650\n",
       "покупка жилья                             646\n",
       "жилье                                     646\n",
       "покупка жилья для семьи                   638\n",
       "строительство собственной недвижимости    635\n",
       "недвижимость                              633\n",
       "операции со своей недвижимостью           627\n",
       "строительство жилой недвижимости          624\n",
       "покупка недвижимости                      621\n",
       "покупка своего жилья                      620\n",
       "строительство недвижимости                619\n",
       "ремонт жилью                              607\n",
       "покупка жилой недвижимости                606\n",
       "на покупку своего автомобиля              505\n",
       "заняться высшим образованием              496\n",
       "автомобиль                                494\n",
       "сделка с подержанным автомобилем          486\n",
       "на покупку подержанного автомобиля        478\n",
       "свой автомобиль                           478\n",
       "автомобили                                478\n",
       "на покупку автомобиля                     471\n",
       "приобретение автомобиля                   461\n",
       "дополнительное образование                460\n",
       "сделка с автомобилем                      455\n",
       "высшее образование                        452\n",
       "образование                               447\n",
       "получение дополнительного образования     446\n",
       "получение образования                     442\n",
       "профильное образование                    436\n",
       "получение высшего образования             426\n",
       "заняться образованием                     408\n",
       "Name: purpose, dtype: int64"
      ]
     },
     "execution_count": 26,
     "metadata": {},
     "output_type": "execute_result"
    }
   ],
   "source": [
    "df['purpose'].value_counts() # поиск уникальных значений"
   ]
  },
  {
   "cell_type": "markdown",
   "id": "280d954d",
   "metadata": {},
   "source": [
    "Здесь достаточно много неявных дубликатов. Цели сформулированы по разному, но если их изучить, то можно выделить всего 4 категории целей:\n",
    "* операции с автомобилем\n",
    "* операции с недвижимостью\n",
    "* проведение свадьбы\n",
    "* получение образования\n",
    "\n",
    "Позже напишем функцию, которая проверит все ячейки столбца `purpose` и сформирует новый столбец с соответствующими категориями."
   ]
  },
  {
   "cell_type": "markdown",
   "id": "b0d62991",
   "metadata": {},
   "source": [
    "На этом закончим этап поиска и удаления дубликатов. Для поиска дубликатов был использован метод value_counts(), который анализирует столбец, выбирает каждое уникальное значение и подсчитывает частоту его встречаемости в списке. Этот способ более эффективный чем duplicated().sum(), так как применяется только один метод, а не цепочка методов, что экономит ресурсы памяти компьютера.\n",
    "\n",
    "Были найдены неявные дубликаты в столбцах с категориальными переменными. Возможно это произошло из-за того, что данные заполнялись разными сотрудниками банка,то есть имеет место человеческий фактор."
   ]
  },
  {
   "cell_type": "markdown",
   "id": "7ea13feb",
   "metadata": {},
   "source": [
    "### Шаг 2.5. Формирование дополнительных датафреймов словарей, декомпозиция исходного датафрейма."
   ]
  },
  {
   "cell_type": "markdown",
   "id": "a5e39160",
   "metadata": {},
   "source": [
    "Создадим два новых датафрейма со столбцами:\n",
    "1. `education_id` и `education`\n",
    "2. `family_status_id` и `family_status`\n",
    "\n",
    "Получится два словаря с большим количеством дубликатов. Их нужно удалить с помощью цепочки методов: drop_duplicates() и reset_index()."
   ]
  },
  {
   "cell_type": "code",
   "execution_count": 27,
   "id": "e8ec0e9b",
   "metadata": {},
   "outputs": [],
   "source": [
    "edu_dict = df[['education_id', 'education']] # создания новых датафреймов\n",
    "fam_dict = df[['family_status_id', 'family_status']]\n",
    "\n",
    "fam_dict = fam_dict.drop_duplicates().reset_index(drop=True) # удаление дубликатов из датафреймов\n",
    "edu_dict = edu_dict.drop_duplicates().reset_index(drop=True)"
   ]
  },
  {
   "cell_type": "markdown",
   "id": "80aaa544",
   "metadata": {},
   "source": [
    "Удалим из исходного датафрейма столбцы `education` и `family_status`, оставив только их идентификаторы: `education_id` и `family_status_id`."
   ]
  },
  {
   "cell_type": "code",
   "execution_count": 28,
   "id": "71f733a7",
   "metadata": {},
   "outputs": [],
   "source": [
    "df = df.drop(columns = ['education', 'family_status'], axis = 1) # удаление столбцов датасета после создания двух новых"
   ]
  },
  {
   "cell_type": "markdown",
   "id": "b3b00217",
   "metadata": {},
   "source": [
    "### Шаг 2.6. Категоризация дохода."
   ]
  },
  {
   "cell_type": "markdown",
   "id": "b73fb81e",
   "metadata": {},
   "source": [
    "На основании диапазонов, указанных ниже, создадим столбец `total_income_category` с категориями:\n",
    "* 0–30000 — `E`\n",
    "* 30001–50000 — `D`\n",
    "* 50001–200000 — `C`\n",
    "* 200001–1000000 — `B`\n",
    "* 1000001 и выше — `A`\n",
    "\n",
    "Например, кредитополучателю с доходом 25000 нужно назначить категорию `E`, а клиенту, получающему 235000, — `B`.\n",
    "\n",
    "Для этого напишем функцию с условными конструкциями. Создадим новый столбец с применением метода apply() к столбцу `total_income`."
   ]
  },
  {
   "cell_type": "code",
   "execution_count": 29,
   "id": "d81fbf43",
   "metadata": {},
   "outputs": [],
   "source": [
    "def income_category(income): # функция для присвоения категории в зависимости от уровня дохода\n",
    "    if income <= 30000:\n",
    "        return 'E'\n",
    "    if 30001 <= income <= 50000:\n",
    "        return 'D'\n",
    "    if 50001 <= income <= 200000:\n",
    "        return 'C'\n",
    "    if 200001 <= income <= 1000000:\n",
    "        return 'B'\n",
    "    return 'A'\n",
    "\n",
    "df['total_income_category'] = df['total_income'].apply(income_category) # создание нового столбца с категорими и применения метода apply с функцией"
   ]
  },
  {
   "cell_type": "markdown",
   "id": "cb158493",
   "metadata": {},
   "source": [
    "Проверим новый столбец и корректность применения функции. Выведем первые 5 строк датасета."
   ]
  },
  {
   "cell_type": "code",
   "execution_count": 30,
   "id": "7a72032a",
   "metadata": {
    "scrolled": true
   },
   "outputs": [
    {
     "data": {
      "text/html": [
       "<div>\n",
       "<style scoped>\n",
       "    .dataframe tbody tr th:only-of-type {\n",
       "        vertical-align: middle;\n",
       "    }\n",
       "\n",
       "    .dataframe tbody tr th {\n",
       "        vertical-align: top;\n",
       "    }\n",
       "\n",
       "    .dataframe thead th {\n",
       "        text-align: right;\n",
       "    }\n",
       "</style>\n",
       "<table border=\"1\" class=\"dataframe\">\n",
       "  <thead>\n",
       "    <tr style=\"text-align: right;\">\n",
       "      <th></th>\n",
       "      <th>children</th>\n",
       "      <th>days_employed</th>\n",
       "      <th>dob_years</th>\n",
       "      <th>education_id</th>\n",
       "      <th>family_status_id</th>\n",
       "      <th>gender</th>\n",
       "      <th>income_type</th>\n",
       "      <th>debt</th>\n",
       "      <th>total_income</th>\n",
       "      <th>purpose</th>\n",
       "      <th>total_income_category</th>\n",
       "    </tr>\n",
       "  </thead>\n",
       "  <tbody>\n",
       "    <tr>\n",
       "      <td>0</td>\n",
       "      <td>1</td>\n",
       "      <td>8437.673028</td>\n",
       "      <td>42</td>\n",
       "      <td>0</td>\n",
       "      <td>0</td>\n",
       "      <td>F</td>\n",
       "      <td>сотрудник</td>\n",
       "      <td>0</td>\n",
       "      <td>253875</td>\n",
       "      <td>покупка жилья</td>\n",
       "      <td>B</td>\n",
       "    </tr>\n",
       "    <tr>\n",
       "      <td>1</td>\n",
       "      <td>1</td>\n",
       "      <td>4024.803754</td>\n",
       "      <td>36</td>\n",
       "      <td>1</td>\n",
       "      <td>0</td>\n",
       "      <td>F</td>\n",
       "      <td>сотрудник</td>\n",
       "      <td>0</td>\n",
       "      <td>112080</td>\n",
       "      <td>приобретение автомобиля</td>\n",
       "      <td>C</td>\n",
       "    </tr>\n",
       "    <tr>\n",
       "      <td>2</td>\n",
       "      <td>0</td>\n",
       "      <td>5623.422610</td>\n",
       "      <td>33</td>\n",
       "      <td>1</td>\n",
       "      <td>0</td>\n",
       "      <td>M</td>\n",
       "      <td>сотрудник</td>\n",
       "      <td>0</td>\n",
       "      <td>145885</td>\n",
       "      <td>покупка жилья</td>\n",
       "      <td>C</td>\n",
       "    </tr>\n",
       "    <tr>\n",
       "      <td>3</td>\n",
       "      <td>3</td>\n",
       "      <td>4124.747207</td>\n",
       "      <td>32</td>\n",
       "      <td>1</td>\n",
       "      <td>0</td>\n",
       "      <td>M</td>\n",
       "      <td>сотрудник</td>\n",
       "      <td>0</td>\n",
       "      <td>267628</td>\n",
       "      <td>дополнительное образование</td>\n",
       "      <td>B</td>\n",
       "    </tr>\n",
       "    <tr>\n",
       "      <td>4</td>\n",
       "      <td>0</td>\n",
       "      <td>14177.753002</td>\n",
       "      <td>53</td>\n",
       "      <td>1</td>\n",
       "      <td>1</td>\n",
       "      <td>F</td>\n",
       "      <td>пенсионер</td>\n",
       "      <td>0</td>\n",
       "      <td>158616</td>\n",
       "      <td>сыграть свадьбу</td>\n",
       "      <td>C</td>\n",
       "    </tr>\n",
       "  </tbody>\n",
       "</table>\n",
       "</div>"
      ],
      "text/plain": [
       "   children  days_employed  dob_years  education_id  family_status_id gender  \\\n",
       "0         1    8437.673028         42             0                 0      F   \n",
       "1         1    4024.803754         36             1                 0      F   \n",
       "2         0    5623.422610         33             1                 0      M   \n",
       "3         3    4124.747207         32             1                 0      M   \n",
       "4         0   14177.753002         53             1                 1      F   \n",
       "\n",
       "  income_type  debt  total_income                     purpose  \\\n",
       "0   сотрудник     0        253875               покупка жилья   \n",
       "1   сотрудник     0        112080     приобретение автомобиля   \n",
       "2   сотрудник     0        145885               покупка жилья   \n",
       "3   сотрудник     0        267628  дополнительное образование   \n",
       "4   пенсионер     0        158616             сыграть свадьбу   \n",
       "\n",
       "  total_income_category  \n",
       "0                     B  \n",
       "1                     C  \n",
       "2                     C  \n",
       "3                     B  \n",
       "4                     C  "
      ]
     },
     "metadata": {},
     "output_type": "display_data"
    }
   ],
   "source": [
    "display(df.head())"
   ]
  },
  {
   "cell_type": "markdown",
   "id": "0d5820ba",
   "metadata": {},
   "source": [
    "Также создадим словарь, который будет использоваться в проверке гипотез для удобства восприятия информации."
   ]
  },
  {
   "cell_type": "code",
   "execution_count": 31,
   "id": "1b553605",
   "metadata": {},
   "outputs": [],
   "source": [
    "income_dict = [                   \n",
    "    ['A', 'более 1 000 000 руб.'], \n",
    "    ['B', '200 000 - 1 000 000 руб.'],\n",
    "    ['C', '50 000 - 200 000 руб.'],\n",
    "    ['D', '30 000 - 50 000 руб.'],\n",
    "    ['E', 'менее 30 000 руб.']\n",
    "]\n",
    "\n",
    "columns=['total_income_category', 'income']\n",
    "inc_dict = pd.DataFrame(data=income_dict, columns=columns) # созадние датафрейма для категорий уровня дохода"
   ]
  },
  {
   "cell_type": "markdown",
   "id": "c703423b",
   "metadata": {},
   "source": [
    "### Шаг 2.7. Категоризация целей кредита."
   ]
  },
  {
   "cell_type": "markdown",
   "id": "121d2e12",
   "metadata": {},
   "source": [
    "Напишем функцию, которая на основании данных из столбца `purpose` сформирует новый столбец `purpose_category`, в который войдут следующие категории:\n",
    "* операции с автомобилем\n",
    "* операции с недвижимостью\n",
    "* проведение свадьбы\n",
    "* получение образования"
   ]
  },
  {
   "cell_type": "code",
   "execution_count": 32,
   "id": "0a50d3eb",
   "metadata": {
    "scrolled": false
   },
   "outputs": [],
   "source": [
    "def purpose_cat(purp): # функция для категоризации целей кредита\n",
    "    try:\n",
    "        if 'автомобил' in purp:\n",
    "            return 'операции с автомобилем'\n",
    "        if 'недвижимост' in purp:\n",
    "            return 'операции с недвижимостью'\n",
    "        if 'свадьб' in purp:\n",
    "            return 'проведение свадьбы'\n",
    "        if 'образовани' in purp:\n",
    "            return 'получение образования'\n",
    "    except:\n",
    "        return 'цель не определена'\n",
    "\n",
    "df['purpose_category'] = df['purpose'].apply(purpose_cat) # создание нового столбца с категорией в зависимости от цели кредита"
   ]
  },
  {
   "cell_type": "markdown",
   "id": "c1a2ceb1",
   "metadata": {},
   "source": [
    "Проверим результат работы функции и выведем на экран первые 5 строк датасета."
   ]
  },
  {
   "cell_type": "code",
   "execution_count": 33,
   "id": "a3ededdf",
   "metadata": {},
   "outputs": [
    {
     "data": {
      "text/html": [
       "<div>\n",
       "<style scoped>\n",
       "    .dataframe tbody tr th:only-of-type {\n",
       "        vertical-align: middle;\n",
       "    }\n",
       "\n",
       "    .dataframe tbody tr th {\n",
       "        vertical-align: top;\n",
       "    }\n",
       "\n",
       "    .dataframe thead th {\n",
       "        text-align: right;\n",
       "    }\n",
       "</style>\n",
       "<table border=\"1\" class=\"dataframe\">\n",
       "  <thead>\n",
       "    <tr style=\"text-align: right;\">\n",
       "      <th></th>\n",
       "      <th>children</th>\n",
       "      <th>days_employed</th>\n",
       "      <th>dob_years</th>\n",
       "      <th>education_id</th>\n",
       "      <th>family_status_id</th>\n",
       "      <th>gender</th>\n",
       "      <th>income_type</th>\n",
       "      <th>debt</th>\n",
       "      <th>total_income</th>\n",
       "      <th>purpose</th>\n",
       "      <th>total_income_category</th>\n",
       "      <th>purpose_category</th>\n",
       "    </tr>\n",
       "  </thead>\n",
       "  <tbody>\n",
       "    <tr>\n",
       "      <td>0</td>\n",
       "      <td>1</td>\n",
       "      <td>8437.673028</td>\n",
       "      <td>42</td>\n",
       "      <td>0</td>\n",
       "      <td>0</td>\n",
       "      <td>F</td>\n",
       "      <td>сотрудник</td>\n",
       "      <td>0</td>\n",
       "      <td>253875</td>\n",
       "      <td>покупка жилья</td>\n",
       "      <td>B</td>\n",
       "      <td>None</td>\n",
       "    </tr>\n",
       "    <tr>\n",
       "      <td>1</td>\n",
       "      <td>1</td>\n",
       "      <td>4024.803754</td>\n",
       "      <td>36</td>\n",
       "      <td>1</td>\n",
       "      <td>0</td>\n",
       "      <td>F</td>\n",
       "      <td>сотрудник</td>\n",
       "      <td>0</td>\n",
       "      <td>112080</td>\n",
       "      <td>приобретение автомобиля</td>\n",
       "      <td>C</td>\n",
       "      <td>операции с автомобилем</td>\n",
       "    </tr>\n",
       "    <tr>\n",
       "      <td>2</td>\n",
       "      <td>0</td>\n",
       "      <td>5623.422610</td>\n",
       "      <td>33</td>\n",
       "      <td>1</td>\n",
       "      <td>0</td>\n",
       "      <td>M</td>\n",
       "      <td>сотрудник</td>\n",
       "      <td>0</td>\n",
       "      <td>145885</td>\n",
       "      <td>покупка жилья</td>\n",
       "      <td>C</td>\n",
       "      <td>None</td>\n",
       "    </tr>\n",
       "    <tr>\n",
       "      <td>3</td>\n",
       "      <td>3</td>\n",
       "      <td>4124.747207</td>\n",
       "      <td>32</td>\n",
       "      <td>1</td>\n",
       "      <td>0</td>\n",
       "      <td>M</td>\n",
       "      <td>сотрудник</td>\n",
       "      <td>0</td>\n",
       "      <td>267628</td>\n",
       "      <td>дополнительное образование</td>\n",
       "      <td>B</td>\n",
       "      <td>получение образования</td>\n",
       "    </tr>\n",
       "    <tr>\n",
       "      <td>4</td>\n",
       "      <td>0</td>\n",
       "      <td>14177.753002</td>\n",
       "      <td>53</td>\n",
       "      <td>1</td>\n",
       "      <td>1</td>\n",
       "      <td>F</td>\n",
       "      <td>пенсионер</td>\n",
       "      <td>0</td>\n",
       "      <td>158616</td>\n",
       "      <td>сыграть свадьбу</td>\n",
       "      <td>C</td>\n",
       "      <td>проведение свадьбы</td>\n",
       "    </tr>\n",
       "  </tbody>\n",
       "</table>\n",
       "</div>"
      ],
      "text/plain": [
       "   children  days_employed  dob_years  education_id  family_status_id gender  \\\n",
       "0         1    8437.673028         42             0                 0      F   \n",
       "1         1    4024.803754         36             1                 0      F   \n",
       "2         0    5623.422610         33             1                 0      M   \n",
       "3         3    4124.747207         32             1                 0      M   \n",
       "4         0   14177.753002         53             1                 1      F   \n",
       "\n",
       "  income_type  debt  total_income                     purpose  \\\n",
       "0   сотрудник     0        253875               покупка жилья   \n",
       "1   сотрудник     0        112080     приобретение автомобиля   \n",
       "2   сотрудник     0        145885               покупка жилья   \n",
       "3   сотрудник     0        267628  дополнительное образование   \n",
       "4   пенсионер     0        158616             сыграть свадьбу   \n",
       "\n",
       "  total_income_category        purpose_category  \n",
       "0                     B                    None  \n",
       "1                     C  операции с автомобилем  \n",
       "2                     C                    None  \n",
       "3                     B   получение образования  \n",
       "4                     C      проведение свадьбы  "
      ]
     },
     "metadata": {},
     "output_type": "display_data"
    }
   ],
   "source": [
    "display(df.head())"
   ]
  },
  {
   "cell_type": "markdown",
   "id": "61ac1d2e",
   "metadata": {},
   "source": [
    "### Ответы на вопросы."
   ]
  },
  {
   "cell_type": "markdown",
   "id": "bdc02035",
   "metadata": {},
   "source": [
    "##### Вопрос 1:"
   ]
  },
  {
   "cell_type": "markdown",
   "id": "5f4202e4",
   "metadata": {},
   "source": [
    "Есть ли зависимость между количеством детей и возвратом кредита в срок?"
   ]
  },
  {
   "cell_type": "markdown",
   "id": "eb70d330",
   "metadata": {},
   "source": [
    "Для ответа на этот вопрос, построим сводную таблицу и проверим как количество детей в семье повлияло на наличие задолженности по возврату кредитов. Добавим столбец `ratio`, в котором будет расчитываться отношение должников ко всем клиентам по каждой группе клиентов. Выведем таблицу на экран."
   ]
  },
  {
   "cell_type": "code",
   "execution_count": 34,
   "id": "6fa1661a",
   "metadata": {
    "scrolled": false
   },
   "outputs": [
    {
     "data": {
      "text/html": [
       "<div>\n",
       "<style scoped>\n",
       "    .dataframe tbody tr th:only-of-type {\n",
       "        vertical-align: middle;\n",
       "    }\n",
       "\n",
       "    .dataframe tbody tr th {\n",
       "        vertical-align: top;\n",
       "    }\n",
       "\n",
       "    .dataframe thead th {\n",
       "        text-align: right;\n",
       "    }\n",
       "</style>\n",
       "<table border=\"1\" class=\"dataframe\">\n",
       "  <thead>\n",
       "    <tr style=\"text-align: right;\">\n",
       "      <th>debt</th>\n",
       "      <th>0</th>\n",
       "      <th>1</th>\n",
       "      <th>ratio</th>\n",
       "    </tr>\n",
       "    <tr>\n",
       "      <th>children</th>\n",
       "      <th></th>\n",
       "      <th></th>\n",
       "      <th></th>\n",
       "    </tr>\n",
       "  </thead>\n",
       "  <tbody>\n",
       "    <tr>\n",
       "      <td>0</td>\n",
       "      <td>13028.0</td>\n",
       "      <td>1063.0</td>\n",
       "      <td>7.5</td>\n",
       "    </tr>\n",
       "    <tr>\n",
       "      <td>1</td>\n",
       "      <td>4410.0</td>\n",
       "      <td>445.0</td>\n",
       "      <td>9.2</td>\n",
       "    </tr>\n",
       "    <tr>\n",
       "      <td>2</td>\n",
       "      <td>1926.0</td>\n",
       "      <td>202.0</td>\n",
       "      <td>9.5</td>\n",
       "    </tr>\n",
       "    <tr>\n",
       "      <td>3</td>\n",
       "      <td>303.0</td>\n",
       "      <td>27.0</td>\n",
       "      <td>8.2</td>\n",
       "    </tr>\n",
       "    <tr>\n",
       "      <td>4</td>\n",
       "      <td>37.0</td>\n",
       "      <td>4.0</td>\n",
       "      <td>9.8</td>\n",
       "    </tr>\n",
       "    <tr>\n",
       "      <td>5</td>\n",
       "      <td>9.0</td>\n",
       "      <td>NaN</td>\n",
       "      <td>NaN</td>\n",
       "    </tr>\n",
       "  </tbody>\n",
       "</table>\n",
       "</div>"
      ],
      "text/plain": [
       "debt            0       1  ratio\n",
       "children                        \n",
       "0         13028.0  1063.0    7.5\n",
       "1          4410.0   445.0    9.2\n",
       "2          1926.0   202.0    9.5\n",
       "3           303.0    27.0    8.2\n",
       "4            37.0     4.0    9.8\n",
       "5             9.0     NaN    NaN"
      ]
     },
     "metadata": {},
     "output_type": "display_data"
    }
   ],
   "source": [
    "df_pivot_children = df.pivot_table(index=['children'], columns='debt', values='dob_years', aggfunc='count') # сводная таблица зависимости наличия\n",
    "df_pivot_children['ratio'] = round(df_pivot_children[1] / (df_pivot_children[0] + df_pivot_children[1]) * 100, 1)\n",
    "display(df_pivot_children)"
   ]
  },
  {
   "cell_type": "markdown",
   "id": "d006bbb4",
   "metadata": {},
   "source": [
    "Распечатаем данные столбца `ratio` для дальнейшего вывода"
   ]
  },
  {
   "cell_type": "code",
   "execution_count": 35,
   "id": "4f9e75df",
   "metadata": {},
   "outputs": [
    {
     "name": "stdout",
     "output_type": "stream",
     "text": [
      "Процент клиентов с задолженностью:\n",
      "\n",
      "Семьи без детей: 7.5 %\n",
      "Семьи с 1 ребенком: 9.2 %\n",
      "Семьи с 2 детьми: 9.5 %\n",
      "Семьи с 3 детьми: 8.2 %\n",
      "Семьи с 4 детьми: 9.8 %\n"
     ]
    }
   ],
   "source": [
    "print('Процент клиентов с задолженностью:\\n') \n",
    "print('Семьи без детей:', df_pivot_children.loc[0, 'ratio'], '%')\n",
    "print('Семьи с 1 ребенком:', df_pivot_children.loc[1,'ratio'], '%')\n",
    "print('Семьи с 2 детьми:', df_pivot_children.loc[2,'ratio'], '%')\n",
    "print('Семьи с 3 детьми:', df_pivot_children.loc[3,'ratio'], '%')\n",
    "print('Семьи с 4 детьми:', df_pivot_children.loc[4,'ratio'], '%')"
   ]
  },
  {
   "cell_type": "markdown",
   "id": "6b68f071",
   "metadata": {},
   "source": [
    "##### Вывод 1:"
   ]
  },
  {
   "cell_type": "markdown",
   "id": "0dda0c07",
   "metadata": {},
   "source": [
    "Количество детей влияет на возврат кредита в срок. У клиентов без детей меньше всего задолженностей по кредиту - 7.5%. Доля задолженностей увеличивается почти на 2% у клиентов с одним ребенком. С увеличением количества детей - растет процент задолженностей, но незначительно в пределах одного процента. Исключение составляют клиенты с 3 детьми, процент задолженностей снижается до 8.2%. Максимум составляет 9.8% у клиентов с 4 детьми. У клиентов с 5 детьми нет задолженностей.\n",
    "\n",
    "Клиенты без детей берут примерно в 2 раза больше кредитов, чем клиенты с детьми и имеют меньше всего задолженностей.\n",
    "\n",
    "Наибольшее количество задолженностей у клиентов с 4 детьми."
   ]
  },
  {
   "cell_type": "markdown",
   "id": "f84af4cd",
   "metadata": {},
   "source": [
    "##### Вопрос 2:"
   ]
  },
  {
   "cell_type": "markdown",
   "id": "27905c03",
   "metadata": {},
   "source": [
    "Есть ли зависимость между семейным положением и возвратом кредита в срок?"
   ]
  },
  {
   "cell_type": "markdown",
   "id": "2b8969a8",
   "metadata": {},
   "source": [
    "Для ответа на этот вопрос, построим сводную таблицу и проверим как семейное положение повлияло на наличие задолженности по возврату кредитов. Для наглядности объединим таблицу со словарем `fam_dict`. Добавим столбец `ratio`, в котором будет расчитываться отношение должников ко всем клиентам по каждой группе клиентов. Выведем таблицу на экран."
   ]
  },
  {
   "cell_type": "code",
   "execution_count": 36,
   "id": "6cf6f179",
   "metadata": {
    "scrolled": false
   },
   "outputs": [
    {
     "data": {
      "text/html": [
       "<div>\n",
       "<style scoped>\n",
       "    .dataframe tbody tr th:only-of-type {\n",
       "        vertical-align: middle;\n",
       "    }\n",
       "\n",
       "    .dataframe tbody tr th {\n",
       "        vertical-align: top;\n",
       "    }\n",
       "\n",
       "    .dataframe thead th {\n",
       "        text-align: right;\n",
       "    }\n",
       "</style>\n",
       "<table border=\"1\" class=\"dataframe\">\n",
       "  <thead>\n",
       "    <tr style=\"text-align: right;\">\n",
       "      <th></th>\n",
       "      <th>family_status_id</th>\n",
       "      <th>0</th>\n",
       "      <th>1</th>\n",
       "      <th>family_status</th>\n",
       "      <th>ratio</th>\n",
       "    </tr>\n",
       "  </thead>\n",
       "  <tbody>\n",
       "    <tr>\n",
       "      <td>0</td>\n",
       "      <td>0</td>\n",
       "      <td>11408</td>\n",
       "      <td>931</td>\n",
       "      <td>женат / замужем</td>\n",
       "      <td>7.5</td>\n",
       "    </tr>\n",
       "    <tr>\n",
       "      <td>1</td>\n",
       "      <td>1</td>\n",
       "      <td>3763</td>\n",
       "      <td>388</td>\n",
       "      <td>гражданский брак</td>\n",
       "      <td>9.3</td>\n",
       "    </tr>\n",
       "    <tr>\n",
       "      <td>2</td>\n",
       "      <td>2</td>\n",
       "      <td>896</td>\n",
       "      <td>63</td>\n",
       "      <td>вдовец / вдова</td>\n",
       "      <td>6.6</td>\n",
       "    </tr>\n",
       "    <tr>\n",
       "      <td>3</td>\n",
       "      <td>3</td>\n",
       "      <td>1110</td>\n",
       "      <td>85</td>\n",
       "      <td>в разводе</td>\n",
       "      <td>7.1</td>\n",
       "    </tr>\n",
       "    <tr>\n",
       "      <td>4</td>\n",
       "      <td>4</td>\n",
       "      <td>2536</td>\n",
       "      <td>274</td>\n",
       "      <td>не женат / не замужем</td>\n",
       "      <td>9.8</td>\n",
       "    </tr>\n",
       "  </tbody>\n",
       "</table>\n",
       "</div>"
      ],
      "text/plain": [
       "   family_status_id      0    1          family_status  ratio\n",
       "0                 0  11408  931        женат / замужем    7.5\n",
       "1                 1   3763  388       гражданский брак    9.3\n",
       "2                 2    896   63         вдовец / вдова    6.6\n",
       "3                 3   1110   85              в разводе    7.1\n",
       "4                 4   2536  274  не женат / не замужем    9.8"
      ]
     },
     "metadata": {},
     "output_type": "display_data"
    }
   ],
   "source": [
    "df_pivot_family = df.pivot_table(index=['family_status_id'], columns='debt', values='dob_years', aggfunc='count') # сводная таблица зависимости наличия задолженности от семейного положения \n",
    "df_pivot_family = df_pivot_family.merge(fam_dict, on='family_status_id', how='left') # объединение сводной таблицы и \"словаря\"\n",
    "df_pivot_family['ratio'] = round(df_pivot_family[1] / (df_pivot_family[0] + df_pivot_family[1]) * 100, 1)\n",
    "display(df_pivot_family)"
   ]
  },
  {
   "cell_type": "markdown",
   "id": "121c6353",
   "metadata": {},
   "source": [
    "Распечатаем данные столбца `ratio` для дальнейшего вывода"
   ]
  },
  {
   "cell_type": "code",
   "execution_count": 37,
   "id": "24bcc4c4",
   "metadata": {},
   "outputs": [
    {
     "name": "stdout",
     "output_type": "stream",
     "text": [
      "Процент клиентов с задолженностью:\n",
      "\n",
      "женат / замужем: 7.5 %\n",
      "гражданский брак: 9.3 %\n",
      "не женат / не замужем: 9.8 %\n",
      "в разводе: 7.1 %\n",
      "вдовец / вдова: 6.6 %\n"
     ]
    }
   ],
   "source": [
    "print('Процент клиентов с задолженностью:\\n') # вычисления отношения клиентов с задолженностью к клиентам без задолженности\n",
    "print('женат / замужем:', df_pivot_family.loc[0, 'ratio'], '%')\n",
    "print('гражданский брак:', df_pivot_family.loc[1, 'ratio'], '%')\n",
    "print('не женат / не замужем:', df_pivot_family.loc[4, 'ratio'], '%')\n",
    "print('в разводе:', df_pivot_family.loc[3, 'ratio'], '%')\n",
    "print('вдовец / вдова:', df_pivot_family.loc[2, 'ratio'], '%')"
   ]
  },
  {
   "cell_type": "markdown",
   "id": "e5213d8c",
   "metadata": {},
   "source": [
    "##### Вывод 2:"
   ]
  },
  {
   "cell_type": "markdown",
   "id": "ac33439f",
   "metadata": {},
   "source": [
    "Семейное положение влияет на возврат кредита в срок. Самый низкий процент задолженностей у вдовцов и 6.6%, у клиентов в разводе 7.1%. У клиентов, состоящих в неофициальных отношениях процент задолженностей выше.  У клиентов в гражданском браке - 9.3%, максимальный процент тех, то не женат и не замужем - 9.8%. При вступленнии в официальный брак, процент задолженностей снижается до 7.5%.\n",
    "\n",
    "Клиенты, состоящие в официальном браке больше других клиентов берут кредиты и имеют меньше задолженностей.\n",
    "\n",
    "Максимальное количество задолженностей у клиентов, которые не женаты и не замужем.\n"
   ]
  },
  {
   "cell_type": "markdown",
   "id": "124c8ebb",
   "metadata": {},
   "source": [
    "##### Вопрос 3:"
   ]
  },
  {
   "cell_type": "markdown",
   "id": "29d5e9fb",
   "metadata": {},
   "source": [
    "Есть ли зависимость между уровнем дохода и возвратом кредита в срок?"
   ]
  },
  {
   "cell_type": "markdown",
   "id": "00ccfbda",
   "metadata": {},
   "source": [
    "Для ответа на этот вопрос, построим сводную таблицу и проверим как уровень дохода повлиял на наличие задолженности по возврату кредитов. Для наглядности объединим таблицу со словарем `fam_inc`. Добавим столбец `ratio`, в котором будет расчитываться отношение должников ко всем клиентам по каждой группе клиентов. Выведем таблицу на экран. "
   ]
  },
  {
   "cell_type": "code",
   "execution_count": 38,
   "id": "c265f5d8",
   "metadata": {
    "scrolled": true
   },
   "outputs": [
    {
     "data": {
      "text/html": [
       "<div>\n",
       "<style scoped>\n",
       "    .dataframe tbody tr th:only-of-type {\n",
       "        vertical-align: middle;\n",
       "    }\n",
       "\n",
       "    .dataframe tbody tr th {\n",
       "        vertical-align: top;\n",
       "    }\n",
       "\n",
       "    .dataframe thead th {\n",
       "        text-align: right;\n",
       "    }\n",
       "</style>\n",
       "<table border=\"1\" class=\"dataframe\">\n",
       "  <thead>\n",
       "    <tr style=\"text-align: right;\">\n",
       "      <th></th>\n",
       "      <th>total_income_category</th>\n",
       "      <th>0</th>\n",
       "      <th>1</th>\n",
       "      <th>income</th>\n",
       "      <th>ratio</th>\n",
       "    </tr>\n",
       "  </thead>\n",
       "  <tbody>\n",
       "    <tr>\n",
       "      <td>0</td>\n",
       "      <td>A</td>\n",
       "      <td>23</td>\n",
       "      <td>2</td>\n",
       "      <td>более 1 000 000 руб.</td>\n",
       "      <td>8.0</td>\n",
       "    </tr>\n",
       "    <tr>\n",
       "      <td>1</td>\n",
       "      <td>B</td>\n",
       "      <td>4686</td>\n",
       "      <td>356</td>\n",
       "      <td>200 000 - 1 000 000 руб.</td>\n",
       "      <td>7.1</td>\n",
       "    </tr>\n",
       "    <tr>\n",
       "      <td>2</td>\n",
       "      <td>C</td>\n",
       "      <td>14655</td>\n",
       "      <td>1360</td>\n",
       "      <td>50 000 - 200 000 руб.</td>\n",
       "      <td>8.5</td>\n",
       "    </tr>\n",
       "    <tr>\n",
       "      <td>3</td>\n",
       "      <td>D</td>\n",
       "      <td>329</td>\n",
       "      <td>21</td>\n",
       "      <td>30 000 - 50 000 руб.</td>\n",
       "      <td>6.0</td>\n",
       "    </tr>\n",
       "    <tr>\n",
       "      <td>4</td>\n",
       "      <td>E</td>\n",
       "      <td>20</td>\n",
       "      <td>2</td>\n",
       "      <td>менее 30 000 руб.</td>\n",
       "      <td>9.1</td>\n",
       "    </tr>\n",
       "  </tbody>\n",
       "</table>\n",
       "</div>"
      ],
      "text/plain": [
       "  total_income_category      0     1                    income  ratio\n",
       "0                     A     23     2      более 1 000 000 руб.    8.0\n",
       "1                     B   4686   356  200 000 - 1 000 000 руб.    7.1\n",
       "2                     C  14655  1360     50 000 - 200 000 руб.    8.5\n",
       "3                     D    329    21      30 000 - 50 000 руб.    6.0\n",
       "4                     E     20     2         менее 30 000 руб.    9.1"
      ]
     },
     "metadata": {},
     "output_type": "display_data"
    }
   ],
   "source": [
    "df_pivot_income = df.pivot_table(index=['total_income_category'], columns='debt', values='dob_years', aggfunc='count') # сводная таблица зависимости наличия задолженности от уровня дохода\n",
    "df_pivot_income = df_pivot_income.merge(inc_dict, on='total_income_category', how='left') # объединение сводной таблицы и \"словаря\"\n",
    "df_pivot_income['ratio'] = round(df_pivot_income[1] / (df_pivot_income[0] + df_pivot_income[1])  * 100, 1)\n",
    "display(df_pivot_income)"
   ]
  },
  {
   "cell_type": "markdown",
   "id": "de94e91c",
   "metadata": {},
   "source": [
    "Распечатаем данные столбца `ratio` для дальнейшего вывода"
   ]
  },
  {
   "cell_type": "code",
   "execution_count": 39,
   "id": "e88a0382",
   "metadata": {},
   "outputs": [
    {
     "name": "stdout",
     "output_type": "stream",
     "text": [
      "Процент клиентов с задолженностью:\n",
      "\n",
      "A: 8.0 %\n",
      "B: 7.1 %\n",
      "C: 8.5 %\n",
      "D: 6.0 %\n",
      "E: 9.1 %\n"
     ]
    }
   ],
   "source": [
    "print('Процент клиентов с задолженностью:\\n') # вычисления отношения клиентов с задолженностью к клиентам без задолженности\n",
    "print('A:', df_pivot_income.loc[0, 'ratio'], '%')\n",
    "print('B:', df_pivot_income.loc[1, 'ratio'], '%')\n",
    "print('C:', df_pivot_income.loc[2, 'ratio'], '%')\n",
    "print('D:', df_pivot_income.loc[3, 'ratio'], '%')\n",
    "print('E:', df_pivot_income.loc[4, 'ratio'], '%')"
   ]
  },
  {
   "cell_type": "markdown",
   "id": "564de9fa",
   "metadata": {},
   "source": [
    "##### Вывод 3:"
   ]
  },
  {
   "cell_type": "markdown",
   "id": "78a87dea",
   "metadata": {},
   "source": [
    "Уровень дохода влияет на возврат кредита в срок. Максимальная доля задолженностей - 9.1%, у клиентов с низким доходом (до 30 000 руб.) Минимум задолженностей - 6.0%, у клиентов с доходом от 30 000 руб. до 50 000 руб. Далее доля увеличивается до 8.5% с увеличением дохода до 200 000 руб. Доля снова падает до 7.1% при увеличении дохода до 1 000 000 руб. При доходе клиента более 1 000 000 руб. - доля задолженностей снова растет до 8.0%.\n",
    "\n",
    "Максимальная вероятность к просрочке у группы с доходом до 30 000 руб.\n",
    "\n",
    "Минимальная вероятность к просрочке у группы с доходом 30 000 до 50 000 руб."
   ]
  },
  {
   "cell_type": "markdown",
   "id": "5615b72f",
   "metadata": {},
   "source": [
    "##### Вопрос 4:"
   ]
  },
  {
   "cell_type": "markdown",
   "id": "0a1d4309",
   "metadata": {},
   "source": [
    "Как разные цели кредита влияют на его возврат в срок?"
   ]
  },
  {
   "cell_type": "markdown",
   "id": "61b49404",
   "metadata": {},
   "source": [
    "Для ответа на этот вопрос, построим сводную таблицу и проверим как цели кредита повлияли на наличие задолженности по возврату кредитов. Добавим столбец `ratio`, в котором будет расчитываться отношение должников ко всем клиентам по каждой группе клиентов. Выведем таблицу на экран. "
   ]
  },
  {
   "cell_type": "code",
   "execution_count": 40,
   "id": "189e7c20",
   "metadata": {
    "scrolled": true
   },
   "outputs": [
    {
     "data": {
      "text/html": [
       "<div>\n",
       "<style scoped>\n",
       "    .dataframe tbody tr th:only-of-type {\n",
       "        vertical-align: middle;\n",
       "    }\n",
       "\n",
       "    .dataframe tbody tr th {\n",
       "        vertical-align: top;\n",
       "    }\n",
       "\n",
       "    .dataframe thead th {\n",
       "        text-align: right;\n",
       "    }\n",
       "</style>\n",
       "<table border=\"1\" class=\"dataframe\">\n",
       "  <thead>\n",
       "    <tr style=\"text-align: right;\">\n",
       "      <th>debt</th>\n",
       "      <th>0</th>\n",
       "      <th>1</th>\n",
       "      <th>ratio</th>\n",
       "    </tr>\n",
       "    <tr>\n",
       "      <th>purpose_category</th>\n",
       "      <th></th>\n",
       "      <th></th>\n",
       "      <th></th>\n",
       "    </tr>\n",
       "  </thead>\n",
       "  <tbody>\n",
       "    <tr>\n",
       "      <td>операции с автомобилем</td>\n",
       "      <td>3903</td>\n",
       "      <td>403</td>\n",
       "      <td>9.4</td>\n",
       "    </tr>\n",
       "    <tr>\n",
       "      <td>операции с недвижимостью</td>\n",
       "      <td>5877</td>\n",
       "      <td>474</td>\n",
       "      <td>7.5</td>\n",
       "    </tr>\n",
       "    <tr>\n",
       "      <td>получение образования</td>\n",
       "      <td>3643</td>\n",
       "      <td>370</td>\n",
       "      <td>9.2</td>\n",
       "    </tr>\n",
       "    <tr>\n",
       "      <td>проведение свадьбы</td>\n",
       "      <td>2138</td>\n",
       "      <td>186</td>\n",
       "      <td>8.0</td>\n",
       "    </tr>\n",
       "  </tbody>\n",
       "</table>\n",
       "</div>"
      ],
      "text/plain": [
       "debt                         0    1  ratio\n",
       "purpose_category                          \n",
       "операции с автомобилем    3903  403    9.4\n",
       "операции с недвижимостью  5877  474    7.5\n",
       "получение образования     3643  370    9.2\n",
       "проведение свадьбы        2138  186    8.0"
      ]
     },
     "metadata": {},
     "output_type": "display_data"
    }
   ],
   "source": [
    "df_pivot_purpose = df.pivot_table(index=['purpose_category'], columns='debt', values='dob_years', aggfunc='count') # сводная таблица зависимости наличия задолженности от цели кредита\n",
    "df_pivot_purpose['ratio'] = round(df_pivot_purpose[1] / (df_pivot_purpose[0] + df_pivot_purpose[1]) * 100, 1)\n",
    "display(df_pivot_purpose)"
   ]
  },
  {
   "cell_type": "markdown",
   "id": "4e63e963",
   "metadata": {},
   "source": [
    "Распечатаем данные столбца `ratio` для дальнейшего вывода"
   ]
  },
  {
   "cell_type": "code",
   "execution_count": 41,
   "id": "15ad574e",
   "metadata": {},
   "outputs": [
    {
     "name": "stdout",
     "output_type": "stream",
     "text": [
      "Процент клиентов с задолженностью:\n",
      "\n",
      "операции с автомобилем: 9.4 %\n",
      "операции с недвижимостью: 7.5 %\n",
      "получение образования: 9.2 %\n",
      "проведение свадьбы: 8.0 %\n"
     ]
    }
   ],
   "source": [
    "print('Процент клиентов с задолженностью:\\n') # вычисления отношения клиентов с задолженностью к клиентам без задолженности\n",
    "print('операции с автомобилем:', df_pivot_purpose['ratio'][0], '%')\n",
    "print('операции с недвижимостью:', df_pivot_purpose['ratio'][1], '%')\n",
    "print('получение образования:', df_pivot_purpose['ratio'][2], '%')\n",
    "print('проведение свадьбы:', df_pivot_purpose['ratio'][3], '%')"
   ]
  },
  {
   "cell_type": "markdown",
   "id": "19a2db66",
   "metadata": {},
   "source": [
    "##### Вывод 4:"
   ]
  },
  {
   "cell_type": "markdown",
   "id": "ae6a6dd2",
   "metadata": {},
   "source": [
    "Цель кредита влияет на возврат кредита в срок. Самый низкий процент задолженностей у клиентов с кредитами на операции с недвижимостью - 7.5%. Самые высокие проценты задолженностей у клиентов с кредитами на получение образования - 9.2% и кредитами на операции с автомобилем - 9.4%. На проведение свадеб приходится - 8% клиентов с задолженностями.\n",
    "\n",
    "Больше кредитов приходится на операции с недвижимостью и клиенты этой категории имеют меньше всего задолженностей.\n",
    "\n",
    "Максимальное количество задолженностей у клиентов с кредитами на операции с автомобилем."
   ]
  },
  {
   "cell_type": "markdown",
   "id": "94b90502",
   "metadata": {},
   "source": [
    "## Общий вывод:"
   ]
  },
  {
   "cell_type": "markdown",
   "id": "6f175537",
   "metadata": {},
   "source": [
    "Было проверено влияют ли на срок возврата кредита следующие факторы:\n",
    "* количество детей\n",
    "* семейное положение\n",
    "* уровень дохода\n",
    "* цель кредита\n",
    "\n",
    "Во всех случаях доля клиентов с задолженностями не превышает 10% от числа клиентов в конкретной категории, а изменения между категориями в каждой исселедуемой категории не превышают 4%.\n",
    "\n",
    "Так как количество детей и уровень дохода являются количественными переменными, то здесь можно оценить динамику изменений. С увеличением количества детей растет процент задолженностей, но незначительно. Более высокий рост задолженностей наблюдается при появлении первого ребенка. При увеличении уровня дохода можно заметить сначала уменьшение количества задолженностей, затем увеличение, но общая динамика показывает снижение.\n",
    "\n",
    "Семейное положение и цель кредита являются категориальными переменными, поэтому здесь можно выделить только некоторые особенности. Клиенты, состоящие в официальном браке больше других клиентов берут кредиты и имеют меньше задолженностей. Больше всего кредитов приходится на операции с недвижимостью и клиенты этой категории имеют меньше всего задолженностей."
   ]
  }
 ],
 "metadata": {
  "ExecuteTimeLog": [
   {
    "duration": 575,
    "start_time": "2022-02-10T11:39:57.176Z"
   },
   {
    "duration": 13,
    "start_time": "2022-02-10T11:45:54.913Z"
   },
   {
    "duration": 6,
    "start_time": "2022-02-10T11:47:13.552Z"
   },
   {
    "duration": 20,
    "start_time": "2022-02-10T11:47:36.120Z"
   },
   {
    "duration": -16133,
    "start_time": "2022-02-10T11:48:16.991Z"
   },
   {
    "duration": 313,
    "start_time": "2022-02-10T11:49:21.827Z"
   },
   {
    "duration": 21,
    "start_time": "2022-02-10T11:49:29.187Z"
   },
   {
    "duration": 322,
    "start_time": "2022-02-10T11:49:55.107Z"
   },
   {
    "duration": 7,
    "start_time": "2022-02-10T11:50:14.100Z"
   },
   {
    "duration": 5,
    "start_time": "2022-02-10T11:50:52.547Z"
   },
   {
    "duration": 384,
    "start_time": "2022-02-10T12:09:16.511Z"
   },
   {
    "duration": 325,
    "start_time": "2022-02-10T12:09:22.981Z"
   },
   {
    "duration": 51,
    "start_time": "2022-02-10T12:09:28.720Z"
   },
   {
    "duration": 8,
    "start_time": "2022-02-10T12:09:31.073Z"
   },
   {
    "duration": 51,
    "start_time": "2022-02-10T12:14:30.800Z"
   },
   {
    "duration": 9,
    "start_time": "2022-02-10T12:16:14.661Z"
   },
   {
    "duration": 8,
    "start_time": "2022-02-10T12:23:45.896Z"
   },
   {
    "duration": 328,
    "start_time": "2022-02-10T12:24:10.021Z"
   },
   {
    "duration": 8,
    "start_time": "2022-02-10T12:24:17.316Z"
   },
   {
    "duration": 10,
    "start_time": "2022-02-10T12:24:25.153Z"
   },
   {
    "duration": 4,
    "start_time": "2022-02-10T12:35:53.089Z"
   },
   {
    "duration": 5,
    "start_time": "2022-02-10T12:35:58.237Z"
   },
   {
    "duration": 5,
    "start_time": "2022-02-10T12:36:14.088Z"
   },
   {
    "duration": 5,
    "start_time": "2022-02-10T12:36:18.480Z"
   },
   {
    "duration": 5,
    "start_time": "2022-02-10T12:36:19.230Z"
   },
   {
    "duration": 9,
    "start_time": "2022-02-10T12:36:26.052Z"
   },
   {
    "duration": 9,
    "start_time": "2022-02-10T12:36:28.354Z"
   },
   {
    "duration": 634,
    "start_time": "2022-02-10T18:39:59.560Z"
   },
   {
    "duration": 11,
    "start_time": "2022-02-10T18:40:00.197Z"
   },
   {
    "duration": 37,
    "start_time": "2022-02-10T18:40:00.211Z"
   },
   {
    "duration": 5,
    "start_time": "2022-02-10T18:40:03.586Z"
   },
   {
    "duration": 3428,
    "start_time": "2022-02-10T18:40:17.380Z"
   },
   {
    "duration": 5,
    "start_time": "2022-02-10T18:40:21.854Z"
   },
   {
    "duration": 55,
    "start_time": "2022-02-10T18:40:28.613Z"
   },
   {
    "duration": 12,
    "start_time": "2022-02-10T18:40:30.414Z"
   },
   {
    "duration": 10,
    "start_time": "2022-02-10T18:40:32.902Z"
   },
   {
    "duration": 7,
    "start_time": "2022-02-10T18:40:35.854Z"
   },
   {
    "duration": 3426,
    "start_time": "2022-02-10T18:40:37.007Z"
   },
   {
    "duration": 3529,
    "start_time": "2022-02-10T18:41:12.234Z"
   },
   {
    "duration": 3586,
    "start_time": "2022-02-10T18:41:16.652Z"
   },
   {
    "duration": 3414,
    "start_time": "2022-02-10T18:42:08.497Z"
   },
   {
    "duration": 3315,
    "start_time": "2022-02-10T18:43:11.606Z"
   },
   {
    "duration": 4046,
    "start_time": "2022-02-10T18:46:16.098Z"
   },
   {
    "duration": 3797,
    "start_time": "2022-02-10T18:47:06.643Z"
   },
   {
    "duration": 4477,
    "start_time": "2022-02-10T18:47:42.869Z"
   },
   {
    "duration": 3750,
    "start_time": "2022-02-10T18:49:28.972Z"
   },
   {
    "duration": 3494,
    "start_time": "2022-02-10T18:50:46.841Z"
   },
   {
    "duration": 287,
    "start_time": "2022-02-10T18:51:23.197Z"
   },
   {
    "duration": 675,
    "start_time": "2022-02-10T18:51:39.955Z"
   },
   {
    "duration": 12,
    "start_time": "2022-02-10T18:51:42.413Z"
   },
   {
    "duration": 10,
    "start_time": "2022-02-10T18:51:44.967Z"
   },
   {
    "duration": 3,
    "start_time": "2022-02-10T18:51:47.221Z"
   },
   {
    "duration": 4,
    "start_time": "2022-02-10T18:52:05.639Z"
   },
   {
    "duration": 276,
    "start_time": "2022-02-10T18:52:47.451Z"
   },
   {
    "duration": 6,
    "start_time": "2022-02-10T18:53:08.808Z"
   },
   {
    "duration": 7,
    "start_time": "2022-02-10T18:53:23.849Z"
   },
   {
    "duration": 7,
    "start_time": "2022-02-10T18:53:43.165Z"
   },
   {
    "duration": 11,
    "start_time": "2022-02-10T18:53:48.903Z"
   },
   {
    "duration": 9,
    "start_time": "2022-02-10T18:53:55.555Z"
   },
   {
    "duration": 3769,
    "start_time": "2022-02-10T18:54:03.702Z"
   },
   {
    "duration": 296,
    "start_time": "2022-02-10T18:54:15.242Z"
   },
   {
    "duration": 667,
    "start_time": "2022-02-10T18:54:22.237Z"
   },
   {
    "duration": 11,
    "start_time": "2022-02-10T18:54:22.907Z"
   },
   {
    "duration": 16,
    "start_time": "2022-02-10T18:54:22.920Z"
   },
   {
    "duration": 12,
    "start_time": "2022-02-10T18:54:24.292Z"
   },
   {
    "duration": 14,
    "start_time": "2022-02-10T18:54:43.648Z"
   },
   {
    "duration": 574,
    "start_time": "2022-02-11T09:00:54.159Z"
   },
   {
    "duration": 16,
    "start_time": "2022-02-11T09:00:54.735Z"
   },
   {
    "duration": 12,
    "start_time": "2022-02-11T09:00:54.754Z"
   },
   {
    "duration": 12,
    "start_time": "2022-02-11T09:00:57.598Z"
   },
   {
    "duration": 22,
    "start_time": "2022-02-11T09:15:04.473Z"
   },
   {
    "duration": 21,
    "start_time": "2022-02-11T09:15:37.669Z"
   },
   {
    "duration": 20,
    "start_time": "2022-02-11T09:15:53.483Z"
   },
   {
    "duration": 21,
    "start_time": "2022-02-11T09:15:59.968Z"
   },
   {
    "duration": 21,
    "start_time": "2022-02-11T09:16:04.109Z"
   },
   {
    "duration": 20,
    "start_time": "2022-02-11T09:16:07.872Z"
   },
   {
    "duration": 22,
    "start_time": "2022-02-11T09:16:29.658Z"
   },
   {
    "duration": 21,
    "start_time": "2022-02-11T09:16:38.521Z"
   },
   {
    "duration": 15,
    "start_time": "2022-02-11T09:16:42.633Z"
   },
   {
    "duration": 3,
    "start_time": "2022-02-11T09:22:38.677Z"
   },
   {
    "duration": 4,
    "start_time": "2022-02-11T09:22:46.832Z"
   },
   {
    "duration": 12,
    "start_time": "2022-02-11T09:22:56.448Z"
   },
   {
    "duration": 19,
    "start_time": "2022-02-11T09:23:06.198Z"
   },
   {
    "duration": 12,
    "start_time": "2022-02-11T09:39:43.525Z"
   },
   {
    "duration": 53,
    "start_time": "2022-02-11T09:39:46.520Z"
   },
   {
    "duration": 609,
    "start_time": "2022-02-11T09:39:58.783Z"
   },
   {
    "duration": 20,
    "start_time": "2022-02-11T09:40:08.480Z"
   },
   {
    "duration": 10,
    "start_time": "2022-02-11T09:40:18.529Z"
   },
   {
    "duration": 13,
    "start_time": "2022-02-11T09:40:21.225Z"
   },
   {
    "duration": 21,
    "start_time": "2022-02-11T09:47:05.529Z"
   },
   {
    "duration": 22,
    "start_time": "2022-02-11T09:47:11.659Z"
   },
   {
    "duration": 23,
    "start_time": "2022-02-11T09:47:16.761Z"
   },
   {
    "duration": 10,
    "start_time": "2022-02-11T09:47:24.930Z"
   },
   {
    "duration": 7,
    "start_time": "2022-02-11T09:48:01.390Z"
   },
   {
    "duration": 9,
    "start_time": "2022-02-11T09:48:05.508Z"
   },
   {
    "duration": 11,
    "start_time": "2022-02-11T09:48:08.053Z"
   },
   {
    "duration": 8,
    "start_time": "2022-02-11T09:48:17.205Z"
   },
   {
    "duration": 7,
    "start_time": "2022-02-11T09:48:20.413Z"
   },
   {
    "duration": 7,
    "start_time": "2022-02-11T09:48:23.697Z"
   },
   {
    "duration": 8,
    "start_time": "2022-02-11T09:48:25.717Z"
   },
   {
    "duration": 8,
    "start_time": "2022-02-11T09:48:32.513Z"
   },
   {
    "duration": 7,
    "start_time": "2022-02-11T09:48:38.688Z"
   },
   {
    "duration": 8,
    "start_time": "2022-02-11T09:48:43.832Z"
   },
   {
    "duration": 7,
    "start_time": "2022-02-11T09:48:49.408Z"
   },
   {
    "duration": 23,
    "start_time": "2022-02-11T09:51:11.307Z"
   },
   {
    "duration": 291,
    "start_time": "2022-02-11T09:52:14.207Z"
   },
   {
    "duration": 23,
    "start_time": "2022-02-11T09:52:41.294Z"
   },
   {
    "duration": 7,
    "start_time": "2022-02-11T09:52:43.711Z"
   },
   {
    "duration": 7,
    "start_time": "2022-02-11T09:52:53.011Z"
   },
   {
    "duration": 21,
    "start_time": "2022-02-11T09:54:18.166Z"
   },
   {
    "duration": 7,
    "start_time": "2022-02-11T09:57:09.070Z"
   },
   {
    "duration": 9,
    "start_time": "2022-02-11T09:59:44.612Z"
   },
   {
    "duration": 7,
    "start_time": "2022-02-11T10:00:01.679Z"
   },
   {
    "duration": 20,
    "start_time": "2022-02-11T10:10:24.046Z"
   },
   {
    "duration": 21,
    "start_time": "2022-02-11T10:10:32.366Z"
   },
   {
    "duration": 23,
    "start_time": "2022-02-11T10:14:18.736Z"
   },
   {
    "duration": 7,
    "start_time": "2022-02-11T10:15:40.524Z"
   },
   {
    "duration": 31,
    "start_time": "2022-02-11T10:15:55.500Z"
   },
   {
    "duration": 24,
    "start_time": "2022-02-11T10:16:58.187Z"
   },
   {
    "duration": 24,
    "start_time": "2022-02-11T10:18:13.145Z"
   },
   {
    "duration": 26,
    "start_time": "2022-02-11T10:18:14.508Z"
   },
   {
    "duration": 23,
    "start_time": "2022-02-11T10:18:19.230Z"
   },
   {
    "duration": 24,
    "start_time": "2022-02-11T10:18:20.380Z"
   },
   {
    "duration": 20,
    "start_time": "2022-02-11T10:19:33.703Z"
   },
   {
    "duration": 21,
    "start_time": "2022-02-11T10:19:47.915Z"
   },
   {
    "duration": 19,
    "start_time": "2022-02-11T10:19:57.321Z"
   },
   {
    "duration": 623,
    "start_time": "2022-02-11T10:20:14.783Z"
   },
   {
    "duration": 11,
    "start_time": "2022-02-11T10:20:15.408Z"
   },
   {
    "duration": 12,
    "start_time": "2022-02-11T10:20:15.421Z"
   },
   {
    "duration": 22,
    "start_time": "2022-02-11T10:20:15.435Z"
   },
   {
    "duration": 7,
    "start_time": "2022-02-11T10:20:21.074Z"
   },
   {
    "duration": 20,
    "start_time": "2022-02-11T10:20:22.622Z"
   },
   {
    "duration": 2511,
    "start_time": "2022-02-11T10:20:32.500Z"
   },
   {
    "duration": 25,
    "start_time": "2022-02-11T10:21:20.178Z"
   },
   {
    "duration": 26,
    "start_time": "2022-02-11T10:21:26.000Z"
   },
   {
    "duration": 204,
    "start_time": "2022-02-11T10:22:36.478Z"
   },
   {
    "duration": 199,
    "start_time": "2022-02-11T10:22:51.878Z"
   },
   {
    "duration": 2411,
    "start_time": "2022-02-11T10:23:01.358Z"
   },
   {
    "duration": 24,
    "start_time": "2022-02-11T10:23:28.809Z"
   },
   {
    "duration": 66,
    "start_time": "2022-02-11T10:24:36.266Z"
   },
   {
    "duration": 25,
    "start_time": "2022-02-11T10:25:12.133Z"
   },
   {
    "duration": 25,
    "start_time": "2022-02-11T10:25:37.530Z"
   },
   {
    "duration": 7,
    "start_time": "2022-02-11T10:29:32.493Z"
   },
   {
    "duration": 15,
    "start_time": "2022-02-11T10:29:45.382Z"
   },
   {
    "duration": 24,
    "start_time": "2022-02-11T10:30:07.091Z"
   },
   {
    "duration": 23,
    "start_time": "2022-02-11T10:40:19.374Z"
   },
   {
    "duration": 101,
    "start_time": "2022-02-11T10:41:26.232Z"
   },
   {
    "duration": 77,
    "start_time": "2022-02-11T10:41:48.833Z"
   },
   {
    "duration": 18,
    "start_time": "2022-02-11T10:41:57.874Z"
   },
   {
    "duration": 26,
    "start_time": "2022-02-11T10:42:06.867Z"
   },
   {
    "duration": 24,
    "start_time": "2022-02-11T10:42:28.225Z"
   },
   {
    "duration": 512,
    "start_time": "2022-02-11T10:43:23.369Z"
   },
   {
    "duration": 488,
    "start_time": "2022-02-11T10:43:33.991Z"
   },
   {
    "duration": 24,
    "start_time": "2022-02-11T10:43:50.859Z"
   },
   {
    "duration": 22,
    "start_time": "2022-02-11T10:44:00.783Z"
   },
   {
    "duration": 21,
    "start_time": "2022-02-11T10:44:55.800Z"
   },
   {
    "duration": 36,
    "start_time": "2022-02-11T10:45:04.823Z"
   },
   {
    "duration": 16,
    "start_time": "2022-02-11T10:48:33.923Z"
   },
   {
    "duration": 15,
    "start_time": "2022-02-11T10:48:37.777Z"
   },
   {
    "duration": 9,
    "start_time": "2022-02-11T10:48:40.678Z"
   },
   {
    "duration": 657,
    "start_time": "2022-02-11T10:48:49.106Z"
   },
   {
    "duration": 11,
    "start_time": "2022-02-11T10:48:49.765Z"
   },
   {
    "duration": 11,
    "start_time": "2022-02-11T10:48:49.778Z"
   },
   {
    "duration": 25,
    "start_time": "2022-02-11T10:48:53.807Z"
   },
   {
    "duration": 8,
    "start_time": "2022-02-11T10:49:37.156Z"
   },
   {
    "duration": 269,
    "start_time": "2022-02-11T10:50:25.669Z"
   },
   {
    "duration": 183,
    "start_time": "2022-02-11T10:52:18.886Z"
   },
   {
    "duration": 203,
    "start_time": "2022-02-11T10:53:28.324Z"
   },
   {
    "duration": 2732,
    "start_time": "2022-02-11T10:53:49.846Z"
   },
   {
    "duration": 2981,
    "start_time": "2022-02-11T10:53:54.852Z"
   },
   {
    "duration": 2798,
    "start_time": "2022-02-11T10:55:24.446Z"
   },
   {
    "duration": 8,
    "start_time": "2022-02-11T10:55:50.898Z"
   },
   {
    "duration": 5,
    "start_time": "2022-02-11T11:03:40.371Z"
   },
   {
    "duration": 9,
    "start_time": "2022-02-11T11:08:08.893Z"
   },
   {
    "duration": 8,
    "start_time": "2022-02-11T11:08:26.841Z"
   },
   {
    "duration": 9,
    "start_time": "2022-02-11T11:09:40.272Z"
   },
   {
    "duration": 175,
    "start_time": "2022-02-11T11:11:34.188Z"
   },
   {
    "duration": 302,
    "start_time": "2022-02-11T11:11:41.243Z"
   },
   {
    "duration": 8,
    "start_time": "2022-02-11T11:14:05.543Z"
   },
   {
    "duration": 195,
    "start_time": "2022-02-11T11:14:26.193Z"
   },
   {
    "duration": 9,
    "start_time": "2022-02-11T11:14:37.609Z"
   },
   {
    "duration": 8,
    "start_time": "2022-02-11T11:15:25.761Z"
   },
   {
    "duration": 8,
    "start_time": "2022-02-11T11:16:36.157Z"
   },
   {
    "duration": 9,
    "start_time": "2022-02-11T11:17:22.853Z"
   },
   {
    "duration": 8,
    "start_time": "2022-02-11T11:17:25.066Z"
   },
   {
    "duration": 7,
    "start_time": "2022-02-11T11:24:31.972Z"
   },
   {
    "duration": 657,
    "start_time": "2022-02-11T11:24:45.285Z"
   },
   {
    "duration": 15,
    "start_time": "2022-02-11T11:24:45.944Z"
   },
   {
    "duration": 18,
    "start_time": "2022-02-11T11:24:45.961Z"
   },
   {
    "duration": 46,
    "start_time": "2022-02-11T11:24:45.981Z"
   },
   {
    "duration": 9,
    "start_time": "2022-02-11T11:24:46.029Z"
   },
   {
    "duration": 10,
    "start_time": "2022-02-11T11:24:48.098Z"
   },
   {
    "duration": 58,
    "start_time": "2022-02-11T11:26:00.100Z"
   },
   {
    "duration": 67,
    "start_time": "2022-02-11T11:26:11.123Z"
   },
   {
    "duration": 64,
    "start_time": "2022-02-11T11:26:23.021Z"
   },
   {
    "duration": 54,
    "start_time": "2022-02-11T11:26:38.468Z"
   },
   {
    "duration": 13,
    "start_time": "2022-02-11T11:26:44.998Z"
   },
   {
    "duration": 22,
    "start_time": "2022-02-11T11:27:01.689Z"
   },
   {
    "duration": 7,
    "start_time": "2022-02-11T11:27:12.507Z"
   },
   {
    "duration": 494,
    "start_time": "2022-02-11T11:27:30.845Z"
   },
   {
    "duration": 7,
    "start_time": "2022-02-11T11:27:38.349Z"
   },
   {
    "duration": 7,
    "start_time": "2022-02-11T11:28:10.608Z"
   },
   {
    "duration": 9,
    "start_time": "2022-02-11T11:31:15.252Z"
   },
   {
    "duration": 6,
    "start_time": "2022-02-11T11:33:33.197Z"
   },
   {
    "duration": 5,
    "start_time": "2022-02-11T11:33:42.630Z"
   },
   {
    "duration": 6,
    "start_time": "2022-02-11T11:33:49.941Z"
   },
   {
    "duration": 7,
    "start_time": "2022-02-11T11:36:40.559Z"
   },
   {
    "duration": 8,
    "start_time": "2022-02-11T11:36:51.614Z"
   },
   {
    "duration": 7,
    "start_time": "2022-02-11T11:42:03.765Z"
   },
   {
    "duration": 7,
    "start_time": "2022-02-11T11:42:16.871Z"
   },
   {
    "duration": 6,
    "start_time": "2022-02-11T11:42:20.492Z"
   },
   {
    "duration": 4,
    "start_time": "2022-02-11T11:42:46.487Z"
   },
   {
    "duration": 609,
    "start_time": "2022-02-11T11:42:54.625Z"
   },
   {
    "duration": 10,
    "start_time": "2022-02-11T11:42:55.236Z"
   },
   {
    "duration": 11,
    "start_time": "2022-02-11T11:42:55.249Z"
   },
   {
    "duration": 21,
    "start_time": "2022-02-11T11:42:55.262Z"
   },
   {
    "duration": 32,
    "start_time": "2022-02-11T11:42:55.285Z"
   },
   {
    "duration": 384,
    "start_time": "2022-02-11T11:43:08.065Z"
   },
   {
    "duration": 7,
    "start_time": "2022-02-11T11:43:15.753Z"
   },
   {
    "duration": 12,
    "start_time": "2022-02-11T11:45:57.375Z"
   },
   {
    "duration": 24,
    "start_time": "2022-02-11T11:46:18.122Z"
   },
   {
    "duration": 28,
    "start_time": "2022-02-11T12:00:22.261Z"
   },
   {
    "duration": 6,
    "start_time": "2022-02-11T12:01:09.262Z"
   },
   {
    "duration": 7,
    "start_time": "2022-02-11T12:01:11.296Z"
   },
   {
    "duration": 25,
    "start_time": "2022-02-11T12:01:43.438Z"
   },
   {
    "duration": 7,
    "start_time": "2022-02-11T12:02:33.341Z"
   },
   {
    "duration": 26,
    "start_time": "2022-02-11T12:04:07.493Z"
   },
   {
    "duration": 11,
    "start_time": "2022-02-11T12:14:27.630Z"
   },
   {
    "duration": 14,
    "start_time": "2022-02-11T12:14:31.846Z"
   },
   {
    "duration": 30,
    "start_time": "2022-02-11T12:14:53.898Z"
   },
   {
    "duration": 14,
    "start_time": "2022-02-11T12:15:19.715Z"
   },
   {
    "duration": 24,
    "start_time": "2022-02-11T12:15:24.570Z"
   },
   {
    "duration": 515,
    "start_time": "2022-02-11T12:15:52.228Z"
   },
   {
    "duration": 13,
    "start_time": "2022-02-11T12:17:43.836Z"
   },
   {
    "duration": 12,
    "start_time": "2022-02-11T12:17:50.362Z"
   },
   {
    "duration": 25,
    "start_time": "2022-02-11T12:18:10.796Z"
   },
   {
    "duration": 11,
    "start_time": "2022-02-11T12:18:46.958Z"
   },
   {
    "duration": 22,
    "start_time": "2022-02-11T12:19:10.407Z"
   },
   {
    "duration": 12,
    "start_time": "2022-02-11T12:19:34.434Z"
   },
   {
    "duration": 14,
    "start_time": "2022-02-11T12:20:41.784Z"
   },
   {
    "duration": 14,
    "start_time": "2022-02-11T12:20:46.569Z"
   },
   {
    "duration": 13,
    "start_time": "2022-02-11T12:21:32.165Z"
   },
   {
    "duration": 4,
    "start_time": "2022-02-11T12:27:56.693Z"
   },
   {
    "duration": 13,
    "start_time": "2022-02-11T12:28:03.935Z"
   },
   {
    "duration": 21,
    "start_time": "2022-02-11T12:28:11.440Z"
   },
   {
    "duration": 27,
    "start_time": "2022-02-11T12:28:30.822Z"
   },
   {
    "duration": 51,
    "start_time": "2022-02-11T12:28:38.312Z"
   },
   {
    "duration": 10,
    "start_time": "2022-02-11T12:28:38.365Z"
   },
   {
    "duration": 11,
    "start_time": "2022-02-11T12:28:38.377Z"
   },
   {
    "duration": 41,
    "start_time": "2022-02-11T12:28:38.390Z"
   },
   {
    "duration": 7,
    "start_time": "2022-02-11T12:28:38.432Z"
   },
   {
    "duration": 6,
    "start_time": "2022-02-11T12:28:38.440Z"
   },
   {
    "duration": 22,
    "start_time": "2022-02-11T12:28:38.447Z"
   },
   {
    "duration": 8,
    "start_time": "2022-02-11T12:28:38.471Z"
   },
   {
    "duration": 604,
    "start_time": "2022-02-11T12:29:12.845Z"
   },
   {
    "duration": 10,
    "start_time": "2022-02-11T12:29:13.451Z"
   },
   {
    "duration": 12,
    "start_time": "2022-02-11T12:29:13.463Z"
   },
   {
    "duration": 37,
    "start_time": "2022-02-11T12:29:13.477Z"
   },
   {
    "duration": 8,
    "start_time": "2022-02-11T12:29:13.515Z"
   },
   {
    "duration": 7,
    "start_time": "2022-02-11T12:29:13.524Z"
   },
   {
    "duration": 29,
    "start_time": "2022-02-11T12:29:13.533Z"
   },
   {
    "duration": 10,
    "start_time": "2022-02-11T12:29:13.564Z"
   },
   {
    "duration": 27,
    "start_time": "2022-02-11T12:29:21.041Z"
   },
   {
    "duration": 13,
    "start_time": "2022-02-11T12:29:32.542Z"
   },
   {
    "duration": 21,
    "start_time": "2022-02-11T12:29:36.941Z"
   },
   {
    "duration": 35,
    "start_time": "2022-02-11T12:31:37.746Z"
   },
   {
    "duration": 35,
    "start_time": "2022-02-11T12:31:46.355Z"
   },
   {
    "duration": 15,
    "start_time": "2022-02-11T12:32:37.221Z"
   },
   {
    "duration": 18,
    "start_time": "2022-02-11T12:35:49.768Z"
   },
   {
    "duration": 18,
    "start_time": "2022-02-11T12:36:16.672Z"
   },
   {
    "duration": 8,
    "start_time": "2022-02-11T12:36:47.949Z"
   },
   {
    "duration": 7,
    "start_time": "2022-02-11T12:37:16.912Z"
   },
   {
    "duration": 617,
    "start_time": "2022-02-11T12:37:35.421Z"
   },
   {
    "duration": 11,
    "start_time": "2022-02-11T12:37:36.040Z"
   },
   {
    "duration": 12,
    "start_time": "2022-02-11T12:37:36.053Z"
   },
   {
    "duration": 34,
    "start_time": "2022-02-11T12:37:37.975Z"
   },
   {
    "duration": 8,
    "start_time": "2022-02-11T12:37:44.250Z"
   },
   {
    "duration": 8,
    "start_time": "2022-02-11T12:39:58.994Z"
   },
   {
    "duration": 8,
    "start_time": "2022-02-11T12:40:20.029Z"
   },
   {
    "duration": 7,
    "start_time": "2022-02-11T12:40:22.684Z"
   },
   {
    "duration": 27,
    "start_time": "2022-02-11T12:40:26.886Z"
   },
   {
    "duration": 5,
    "start_time": "2022-02-11T12:41:17.966Z"
   },
   {
    "duration": 5,
    "start_time": "2022-02-11T12:41:22.121Z"
   },
   {
    "duration": 399,
    "start_time": "2022-02-12T07:32:18.830Z"
   },
   {
    "duration": 760,
    "start_time": "2022-02-12T07:32:59.399Z"
   },
   {
    "duration": 14,
    "start_time": "2022-02-12T07:33:00.162Z"
   },
   {
    "duration": 23,
    "start_time": "2022-02-12T07:33:00.179Z"
   },
   {
    "duration": 11,
    "start_time": "2022-02-12T07:33:00.205Z"
   },
   {
    "duration": 34,
    "start_time": "2022-02-12T07:33:00.218Z"
   },
   {
    "duration": 9,
    "start_time": "2022-02-12T07:33:00.254Z"
   },
   {
    "duration": 18,
    "start_time": "2022-02-12T07:33:00.265Z"
   },
   {
    "duration": 19,
    "start_time": "2022-02-12T07:33:00.287Z"
   },
   {
    "duration": 41,
    "start_time": "2022-02-12T07:33:00.309Z"
   },
   {
    "duration": 33,
    "start_time": "2022-02-12T07:33:00.353Z"
   },
   {
    "duration": 27,
    "start_time": "2022-02-12T07:33:02.975Z"
   },
   {
    "duration": 21,
    "start_time": "2022-02-12T07:33:03.935Z"
   },
   {
    "duration": 22,
    "start_time": "2022-02-12T07:33:12.783Z"
   },
   {
    "duration": 65,
    "start_time": "2022-02-12T07:33:36.579Z"
   },
   {
    "duration": 24,
    "start_time": "2022-02-12T07:33:42.820Z"
   },
   {
    "duration": 50,
    "start_time": "2022-02-12T07:34:13.810Z"
   },
   {
    "duration": 11,
    "start_time": "2022-02-12T07:35:04.352Z"
   },
   {
    "duration": 10,
    "start_time": "2022-02-12T07:35:22.970Z"
   },
   {
    "duration": 11,
    "start_time": "2022-02-12T07:35:35.171Z"
   },
   {
    "duration": 358,
    "start_time": "2022-02-12T07:36:02.729Z"
   },
   {
    "duration": 10,
    "start_time": "2022-02-12T07:36:56.616Z"
   },
   {
    "duration": 10,
    "start_time": "2022-02-12T07:39:53.829Z"
   },
   {
    "duration": 15,
    "start_time": "2022-02-12T07:44:16.235Z"
   },
   {
    "duration": 31,
    "start_time": "2022-02-12T07:44:20.654Z"
   },
   {
    "duration": 14,
    "start_time": "2022-02-12T07:44:21.751Z"
   },
   {
    "duration": 21,
    "start_time": "2022-02-12T07:44:39.833Z"
   },
   {
    "duration": 21,
    "start_time": "2022-02-12T07:49:34.365Z"
   },
   {
    "duration": 24,
    "start_time": "2022-02-12T07:49:46.257Z"
   },
   {
    "duration": 39,
    "start_time": "2022-02-12T07:50:51.138Z"
   },
   {
    "duration": 38,
    "start_time": "2022-02-12T07:53:38.749Z"
   },
   {
    "duration": 37,
    "start_time": "2022-02-12T07:54:55.204Z"
   },
   {
    "duration": 54,
    "start_time": "2022-02-12T07:54:57.120Z"
   },
   {
    "duration": 54,
    "start_time": "2022-02-12T07:55:07.177Z"
   },
   {
    "duration": 11,
    "start_time": "2022-02-12T07:55:10.616Z"
   },
   {
    "duration": 778,
    "start_time": "2022-02-12T07:55:23.456Z"
   },
   {
    "duration": 14,
    "start_time": "2022-02-12T07:55:24.237Z"
   },
   {
    "duration": 17,
    "start_time": "2022-02-12T07:55:24.254Z"
   },
   {
    "duration": 10,
    "start_time": "2022-02-12T07:55:24.274Z"
   },
   {
    "duration": 10,
    "start_time": "2022-02-12T07:55:24.287Z"
   },
   {
    "duration": 51,
    "start_time": "2022-02-12T07:55:24.299Z"
   },
   {
    "duration": 6,
    "start_time": "2022-02-12T07:55:24.352Z"
   },
   {
    "duration": 18,
    "start_time": "2022-02-12T07:55:24.361Z"
   },
   {
    "duration": 16,
    "start_time": "2022-02-12T07:55:24.382Z"
   },
   {
    "duration": 64,
    "start_time": "2022-02-12T07:55:24.400Z"
   },
   {
    "duration": 22,
    "start_time": "2022-02-12T07:55:24.466Z"
   },
   {
    "duration": 71,
    "start_time": "2022-02-12T07:55:24.490Z"
   },
   {
    "duration": 10,
    "start_time": "2022-02-12T07:55:24.563Z"
   },
   {
    "duration": 10,
    "start_time": "2022-02-12T07:55:28.061Z"
   },
   {
    "duration": 39,
    "start_time": "2022-02-12T07:55:31.443Z"
   },
   {
    "duration": 54,
    "start_time": "2022-02-12T07:55:36.366Z"
   },
   {
    "duration": 39,
    "start_time": "2022-02-12T07:57:01.398Z"
   },
   {
    "duration": 38,
    "start_time": "2022-02-12T07:57:03.733Z"
   },
   {
    "duration": 53,
    "start_time": "2022-02-12T07:57:07.143Z"
   },
   {
    "duration": 36,
    "start_time": "2022-02-12T07:57:24.875Z"
   },
   {
    "duration": 38,
    "start_time": "2022-02-12T07:57:28.258Z"
   },
   {
    "duration": 25,
    "start_time": "2022-02-12T07:58:33.342Z"
   },
   {
    "duration": 786,
    "start_time": "2022-02-12T07:59:53.646Z"
   },
   {
    "duration": 22,
    "start_time": "2022-02-12T07:59:54.435Z"
   },
   {
    "duration": 18,
    "start_time": "2022-02-12T07:59:54.460Z"
   },
   {
    "duration": 13,
    "start_time": "2022-02-12T07:59:54.482Z"
   },
   {
    "duration": 50,
    "start_time": "2022-02-12T07:59:54.498Z"
   },
   {
    "duration": 12,
    "start_time": "2022-02-12T07:59:54.552Z"
   },
   {
    "duration": 7,
    "start_time": "2022-02-12T07:59:54.566Z"
   },
   {
    "duration": 15,
    "start_time": "2022-02-12T07:59:54.577Z"
   },
   {
    "duration": 62,
    "start_time": "2022-02-12T07:59:54.595Z"
   },
   {
    "duration": 37,
    "start_time": "2022-02-12T07:59:54.660Z"
   },
   {
    "duration": 56,
    "start_time": "2022-02-12T07:59:54.700Z"
   },
   {
    "duration": 25,
    "start_time": "2022-02-12T07:59:54.758Z"
   },
   {
    "duration": 26,
    "start_time": "2022-02-12T07:59:59.511Z"
   },
   {
    "duration": 47,
    "start_time": "2022-02-12T08:00:12.410Z"
   },
   {
    "duration": 10,
    "start_time": "2022-02-12T08:00:18.122Z"
   },
   {
    "duration": 38,
    "start_time": "2022-02-12T08:00:26.633Z"
   },
   {
    "duration": 39,
    "start_time": "2022-02-12T08:00:35.678Z"
   },
   {
    "duration": 771,
    "start_time": "2022-02-12T08:00:52.995Z"
   },
   {
    "duration": 18,
    "start_time": "2022-02-12T08:00:53.770Z"
   },
   {
    "duration": 19,
    "start_time": "2022-02-12T08:00:53.792Z"
   },
   {
    "duration": 36,
    "start_time": "2022-02-12T08:00:53.814Z"
   },
   {
    "duration": 9,
    "start_time": "2022-02-12T08:00:53.853Z"
   },
   {
    "duration": 14,
    "start_time": "2022-02-12T08:00:53.864Z"
   },
   {
    "duration": 8,
    "start_time": "2022-02-12T08:00:53.880Z"
   },
   {
    "duration": 58,
    "start_time": "2022-02-12T08:00:53.892Z"
   },
   {
    "duration": 17,
    "start_time": "2022-02-12T08:00:53.953Z"
   },
   {
    "duration": 33,
    "start_time": "2022-02-12T08:00:53.973Z"
   },
   {
    "duration": 24,
    "start_time": "2022-02-12T08:00:56.637Z"
   },
   {
    "duration": 52,
    "start_time": "2022-02-12T08:01:00.485Z"
   },
   {
    "duration": 50,
    "start_time": "2022-02-12T08:01:01.759Z"
   },
   {
    "duration": 11,
    "start_time": "2022-02-12T08:01:07.200Z"
   },
   {
    "duration": 37,
    "start_time": "2022-02-12T08:01:10.867Z"
   },
   {
    "duration": 25,
    "start_time": "2022-02-12T08:01:20.891Z"
   },
   {
    "duration": 51,
    "start_time": "2022-02-12T08:01:26.783Z"
   },
   {
    "duration": 26,
    "start_time": "2022-02-12T08:02:04.336Z"
   },
   {
    "duration": 38,
    "start_time": "2022-02-12T08:02:11.887Z"
   },
   {
    "duration": 808,
    "start_time": "2022-02-12T08:02:19.165Z"
   },
   {
    "duration": 15,
    "start_time": "2022-02-12T08:02:19.976Z"
   },
   {
    "duration": 18,
    "start_time": "2022-02-12T08:02:19.995Z"
   },
   {
    "duration": 38,
    "start_time": "2022-02-12T08:02:20.015Z"
   },
   {
    "duration": 10,
    "start_time": "2022-02-12T08:02:20.056Z"
   },
   {
    "duration": 15,
    "start_time": "2022-02-12T08:02:20.068Z"
   },
   {
    "duration": 5,
    "start_time": "2022-02-12T08:02:20.086Z"
   },
   {
    "duration": 12,
    "start_time": "2022-02-12T08:02:20.095Z"
   },
   {
    "duration": 50,
    "start_time": "2022-02-12T08:02:20.110Z"
   },
   {
    "duration": 32,
    "start_time": "2022-02-12T08:02:20.162Z"
   },
   {
    "duration": 54,
    "start_time": "2022-02-12T08:02:20.196Z"
   },
   {
    "duration": 26,
    "start_time": "2022-02-12T08:02:20.253Z"
   },
   {
    "duration": 10,
    "start_time": "2022-02-12T08:02:20.281Z"
   },
   {
    "duration": 36,
    "start_time": "2022-02-12T08:02:22.776Z"
   },
   {
    "duration": 23,
    "start_time": "2022-02-12T08:02:25.959Z"
   },
   {
    "duration": 9,
    "start_time": "2022-02-12T08:03:35.423Z"
   },
   {
    "duration": 37,
    "start_time": "2022-02-12T08:07:36.620Z"
   },
   {
    "duration": 18,
    "start_time": "2022-02-12T08:07:40.199Z"
   },
   {
    "duration": 17,
    "start_time": "2022-02-12T08:10:10.876Z"
   },
   {
    "duration": 94,
    "start_time": "2022-02-12T08:19:00.158Z"
   },
   {
    "duration": 10,
    "start_time": "2022-02-12T08:19:18.152Z"
   },
   {
    "duration": 10,
    "start_time": "2022-02-12T08:25:17.239Z"
   },
   {
    "duration": 89,
    "start_time": "2022-02-12T08:37:10.174Z"
   },
   {
    "duration": 104,
    "start_time": "2022-02-12T08:37:27.204Z"
   },
   {
    "duration": 103,
    "start_time": "2022-02-12T08:37:37.791Z"
   },
   {
    "duration": 98,
    "start_time": "2022-02-12T08:38:06.445Z"
   },
   {
    "duration": 12,
    "start_time": "2022-02-12T08:38:20.779Z"
   },
   {
    "duration": 13,
    "start_time": "2022-02-12T08:38:31.204Z"
   },
   {
    "duration": 540,
    "start_time": "2022-02-12T08:39:33.130Z"
   },
   {
    "duration": 726,
    "start_time": "2022-02-12T08:40:05.330Z"
   },
   {
    "duration": 3200,
    "start_time": "2022-02-12T08:40:52.115Z"
   },
   {
    "duration": 324,
    "start_time": "2022-02-12T08:45:37.470Z"
   },
   {
    "duration": 855,
    "start_time": "2022-02-12T08:45:42.532Z"
   },
   {
    "duration": 17,
    "start_time": "2022-02-12T08:45:43.391Z"
   },
   {
    "duration": 42,
    "start_time": "2022-02-12T08:45:43.412Z"
   },
   {
    "duration": 13,
    "start_time": "2022-02-12T08:45:43.458Z"
   },
   {
    "duration": 10,
    "start_time": "2022-02-12T08:45:43.474Z"
   },
   {
    "duration": 9,
    "start_time": "2022-02-12T08:45:43.486Z"
   },
   {
    "duration": 5,
    "start_time": "2022-02-12T08:45:43.498Z"
   },
   {
    "duration": 50,
    "start_time": "2022-02-12T08:45:43.507Z"
   },
   {
    "duration": 16,
    "start_time": "2022-02-12T08:45:43.560Z"
   },
   {
    "duration": 32,
    "start_time": "2022-02-12T08:45:43.579Z"
   },
   {
    "duration": 55,
    "start_time": "2022-02-12T08:45:43.613Z"
   },
   {
    "duration": 26,
    "start_time": "2022-02-12T08:45:43.670Z"
   },
   {
    "duration": 10,
    "start_time": "2022-02-12T08:45:43.698Z"
   },
   {
    "duration": 65,
    "start_time": "2022-02-12T08:45:43.710Z"
   },
   {
    "duration": 23,
    "start_time": "2022-02-12T08:45:43.778Z"
   },
   {
    "duration": 9,
    "start_time": "2022-02-12T08:45:43.803Z"
   },
   {
    "duration": 46,
    "start_time": "2022-02-12T08:45:43.815Z"
   },
   {
    "duration": 12,
    "start_time": "2022-02-12T08:45:43.863Z"
   },
   {
    "duration": 11,
    "start_time": "2022-02-12T08:45:43.878Z"
   },
   {
    "duration": 11563,
    "start_time": "2022-02-12T08:45:45.504Z"
   },
   {
    "duration": 16122,
    "start_time": "2022-02-12T08:46:47.317Z"
   },
   {
    "duration": 13488,
    "start_time": "2022-02-12T08:47:09.739Z"
   },
   {
    "duration": 786,
    "start_time": "2022-02-12T08:47:28.871Z"
   },
   {
    "duration": 16,
    "start_time": "2022-02-12T08:47:29.660Z"
   },
   {
    "duration": 18,
    "start_time": "2022-02-12T08:47:29.680Z"
   },
   {
    "duration": 11,
    "start_time": "2022-02-12T08:47:29.701Z"
   },
   {
    "duration": 43,
    "start_time": "2022-02-12T08:47:29.714Z"
   },
   {
    "duration": 10,
    "start_time": "2022-02-12T08:47:29.759Z"
   },
   {
    "duration": 5,
    "start_time": "2022-02-12T08:47:29.772Z"
   },
   {
    "duration": 13,
    "start_time": "2022-02-12T08:47:29.781Z"
   },
   {
    "duration": 58,
    "start_time": "2022-02-12T08:47:29.797Z"
   },
   {
    "duration": 34,
    "start_time": "2022-02-12T08:47:29.857Z"
   },
   {
    "duration": 54,
    "start_time": "2022-02-12T08:47:29.894Z"
   },
   {
    "duration": 28,
    "start_time": "2022-02-12T08:47:29.951Z"
   },
   {
    "duration": 10,
    "start_time": "2022-02-12T08:47:29.982Z"
   },
   {
    "duration": 72,
    "start_time": "2022-02-12T08:47:29.995Z"
   },
   {
    "duration": 27,
    "start_time": "2022-02-12T08:47:30.070Z"
   },
   {
    "duration": 12,
    "start_time": "2022-02-12T08:47:30.099Z"
   },
   {
    "duration": 49,
    "start_time": "2022-02-12T08:47:30.114Z"
   },
   {
    "duration": 22,
    "start_time": "2022-02-12T08:47:30.166Z"
   },
   {
    "duration": 16,
    "start_time": "2022-02-12T08:47:30.191Z"
   },
   {
    "duration": 11815,
    "start_time": "2022-02-12T08:47:44.640Z"
   },
   {
    "duration": 14525,
    "start_time": "2022-02-12T08:48:07.843Z"
   },
   {
    "duration": 35332,
    "start_time": "2022-02-12T08:48:55.130Z"
   },
   {
    "duration": 366,
    "start_time": "2022-02-12T08:56:16.836Z"
   },
   {
    "duration": 37630,
    "start_time": "2022-02-12T08:56:50.642Z"
   },
   {
    "duration": 17,
    "start_time": "2022-02-12T08:58:43.879Z"
   },
   {
    "duration": 772,
    "start_time": "2022-02-12T08:59:01.083Z"
   },
   {
    "duration": 15,
    "start_time": "2022-02-12T08:59:01.858Z"
   },
   {
    "duration": 18,
    "start_time": "2022-02-12T08:59:01.876Z"
   },
   {
    "duration": 11,
    "start_time": "2022-02-12T08:59:01.897Z"
   },
   {
    "duration": 44,
    "start_time": "2022-02-12T08:59:01.910Z"
   },
   {
    "duration": 15,
    "start_time": "2022-02-12T08:59:01.957Z"
   },
   {
    "duration": 10,
    "start_time": "2022-02-12T08:59:01.975Z"
   },
   {
    "duration": 14,
    "start_time": "2022-02-12T08:59:01.989Z"
   },
   {
    "duration": 47,
    "start_time": "2022-02-12T08:59:02.005Z"
   },
   {
    "duration": 30,
    "start_time": "2022-02-12T08:59:02.054Z"
   },
   {
    "duration": 24,
    "start_time": "2022-02-12T08:59:02.087Z"
   },
   {
    "duration": 57,
    "start_time": "2022-02-12T08:59:02.114Z"
   },
   {
    "duration": 11,
    "start_time": "2022-02-12T08:59:02.173Z"
   },
   {
    "duration": 64,
    "start_time": "2022-02-12T08:59:02.187Z"
   },
   {
    "duration": 29,
    "start_time": "2022-02-12T08:59:02.254Z"
   },
   {
    "duration": 11,
    "start_time": "2022-02-12T08:59:02.286Z"
   },
   {
    "duration": 54,
    "start_time": "2022-02-12T08:59:02.300Z"
   },
   {
    "duration": 16,
    "start_time": "2022-02-12T08:59:02.357Z"
   },
   {
    "duration": 18,
    "start_time": "2022-02-12T08:59:02.376Z"
   },
   {
    "duration": 22,
    "start_time": "2022-02-12T08:59:04.404Z"
   },
   {
    "duration": 22,
    "start_time": "2022-02-12T08:59:14.861Z"
   },
   {
    "duration": 24273,
    "start_time": "2022-02-12T08:59:52.845Z"
   },
   {
    "duration": 11,
    "start_time": "2022-02-12T09:00:23.664Z"
   },
   {
    "duration": 787,
    "start_time": "2022-02-12T09:01:32.761Z"
   },
   {
    "duration": 16,
    "start_time": "2022-02-12T09:01:33.551Z"
   },
   {
    "duration": 20,
    "start_time": "2022-02-12T09:01:33.570Z"
   },
   {
    "duration": 12,
    "start_time": "2022-02-12T09:01:33.594Z"
   },
   {
    "duration": 46,
    "start_time": "2022-02-12T09:01:33.609Z"
   },
   {
    "duration": 10,
    "start_time": "2022-02-12T09:01:33.657Z"
   },
   {
    "duration": 5,
    "start_time": "2022-02-12T09:01:33.669Z"
   },
   {
    "duration": 12,
    "start_time": "2022-02-12T09:01:33.678Z"
   },
   {
    "duration": 58,
    "start_time": "2022-02-12T09:01:33.692Z"
   },
   {
    "duration": 31,
    "start_time": "2022-02-12T09:01:33.752Z"
   },
   {
    "duration": 27,
    "start_time": "2022-02-12T09:01:33.785Z"
   },
   {
    "duration": 56,
    "start_time": "2022-02-12T09:01:33.814Z"
   },
   {
    "duration": 10,
    "start_time": "2022-02-12T09:01:33.873Z"
   },
   {
    "duration": 65,
    "start_time": "2022-02-12T09:01:33.886Z"
   },
   {
    "duration": 27,
    "start_time": "2022-02-12T09:01:33.954Z"
   },
   {
    "duration": 11,
    "start_time": "2022-02-12T09:01:33.984Z"
   },
   {
    "duration": 50,
    "start_time": "2022-02-12T09:01:33.998Z"
   },
   {
    "duration": 12,
    "start_time": "2022-02-12T09:01:34.051Z"
   },
   {
    "duration": 13,
    "start_time": "2022-02-12T09:01:34.066Z"
   },
   {
    "duration": 29,
    "start_time": "2022-02-12T09:01:36.823Z"
   },
   {
    "duration": 106,
    "start_time": "2022-02-12T09:05:14.636Z"
   },
   {
    "duration": 97,
    "start_time": "2022-02-12T09:05:29.015Z"
   },
   {
    "duration": 37,
    "start_time": "2022-02-12T09:05:32.519Z"
   },
   {
    "duration": 26,
    "start_time": "2022-02-12T09:08:10.324Z"
   },
   {
    "duration": 30454,
    "start_time": "2022-02-12T09:08:23.498Z"
   },
   {
    "duration": 10,
    "start_time": "2022-02-12T09:08:58.160Z"
   },
   {
    "duration": 29,
    "start_time": "2022-02-12T09:09:03.223Z"
   },
   {
    "duration": 27,
    "start_time": "2022-02-12T09:12:53.940Z"
   },
   {
    "duration": 11,
    "start_time": "2022-02-12T09:14:42.940Z"
   },
   {
    "duration": 23,
    "start_time": "2022-02-12T09:15:10.976Z"
   },
   {
    "duration": 22,
    "start_time": "2022-02-12T09:16:34.722Z"
   },
   {
    "duration": 30,
    "start_time": "2022-02-12T09:17:44.594Z"
   },
   {
    "duration": 52,
    "start_time": "2022-02-12T09:17:51.778Z"
   },
   {
    "duration": 29,
    "start_time": "2022-02-12T09:18:02.455Z"
   },
   {
    "duration": 32,
    "start_time": "2022-02-12T09:31:59.784Z"
   },
   {
    "duration": 115,
    "start_time": "2022-02-12T09:32:27.628Z"
   },
   {
    "duration": 39,
    "start_time": "2022-02-12T09:32:37.805Z"
   },
   {
    "duration": 37,
    "start_time": "2022-02-12T09:34:45.239Z"
   },
   {
    "duration": 910,
    "start_time": "2022-02-12T09:35:08.378Z"
   },
   {
    "duration": 16,
    "start_time": "2022-02-12T09:35:11.752Z"
   },
   {
    "duration": 24,
    "start_time": "2022-02-12T09:35:18.680Z"
   },
   {
    "duration": 23,
    "start_time": "2022-02-12T09:35:24.456Z"
   },
   {
    "duration": 23,
    "start_time": "2022-02-12T09:35:41.621Z"
   },
   {
    "duration": 22,
    "start_time": "2022-02-12T09:35:53.604Z"
   },
   {
    "duration": 23,
    "start_time": "2022-02-12T09:36:01.782Z"
   },
   {
    "duration": 24,
    "start_time": "2022-02-12T09:36:08.673Z"
   },
   {
    "duration": 29,
    "start_time": "2022-02-12T09:36:14.842Z"
   },
   {
    "duration": 25,
    "start_time": "2022-02-12T09:36:20.577Z"
   },
   {
    "duration": 22,
    "start_time": "2022-02-12T09:36:48.630Z"
   },
   {
    "duration": 24,
    "start_time": "2022-02-12T09:36:54.804Z"
   },
   {
    "duration": 23,
    "start_time": "2022-02-12T09:37:00.052Z"
   },
   {
    "duration": 22,
    "start_time": "2022-02-12T09:37:04.435Z"
   },
   {
    "duration": 22,
    "start_time": "2022-02-12T09:37:11.335Z"
   },
   {
    "duration": 23,
    "start_time": "2022-02-12T09:37:17.529Z"
   },
   {
    "duration": 19,
    "start_time": "2022-02-12T09:37:19.226Z"
   },
   {
    "duration": 7,
    "start_time": "2022-02-12T09:46:59.044Z"
   },
   {
    "duration": 31,
    "start_time": "2022-02-12T09:47:00.595Z"
   },
   {
    "duration": 778,
    "start_time": "2022-02-12T09:50:06.084Z"
   },
   {
    "duration": 15,
    "start_time": "2022-02-12T09:50:06.865Z"
   },
   {
    "duration": 18,
    "start_time": "2022-02-12T09:50:06.883Z"
   },
   {
    "duration": 14,
    "start_time": "2022-02-12T09:50:06.903Z"
   },
   {
    "duration": 37,
    "start_time": "2022-02-12T09:50:06.920Z"
   },
   {
    "duration": 11,
    "start_time": "2022-02-12T09:50:06.959Z"
   },
   {
    "duration": 6,
    "start_time": "2022-02-12T09:50:06.973Z"
   },
   {
    "duration": 12,
    "start_time": "2022-02-12T09:50:06.984Z"
   },
   {
    "duration": 64,
    "start_time": "2022-02-12T09:50:06.999Z"
   },
   {
    "duration": 33,
    "start_time": "2022-02-12T09:50:07.066Z"
   },
   {
    "duration": 54,
    "start_time": "2022-02-12T09:50:07.101Z"
   },
   {
    "duration": 26,
    "start_time": "2022-02-12T09:50:07.158Z"
   },
   {
    "duration": 11,
    "start_time": "2022-02-12T09:50:07.186Z"
   },
   {
    "duration": 72,
    "start_time": "2022-02-12T09:50:07.199Z"
   },
   {
    "duration": 25,
    "start_time": "2022-02-12T09:50:07.274Z"
   },
   {
    "duration": 13,
    "start_time": "2022-02-12T09:50:07.301Z"
   },
   {
    "duration": 43,
    "start_time": "2022-02-12T09:50:07.317Z"
   },
   {
    "duration": 11,
    "start_time": "2022-02-12T09:50:07.363Z"
   },
   {
    "duration": 15,
    "start_time": "2022-02-12T09:50:07.376Z"
   },
   {
    "duration": 29176,
    "start_time": "2022-02-12T09:50:07.394Z"
   },
   {
    "duration": 25,
    "start_time": "2022-02-12T09:50:36.572Z"
   },
   {
    "duration": 22,
    "start_time": "2022-02-12T09:50:36.599Z"
   },
   {
    "duration": 8,
    "start_time": "2022-02-12T09:50:59.140Z"
   },
   {
    "duration": 26,
    "start_time": "2022-02-12T09:51:00.878Z"
   },
   {
    "duration": 5,
    "start_time": "2022-02-12T10:18:16.463Z"
   },
   {
    "duration": 6,
    "start_time": "2022-02-12T10:18:22.830Z"
   },
   {
    "duration": 6,
    "start_time": "2022-02-12T10:18:41.614Z"
   },
   {
    "duration": 6,
    "start_time": "2022-02-12T10:18:51.660Z"
   },
   {
    "duration": 6,
    "start_time": "2022-02-12T10:18:57.006Z"
   },
   {
    "duration": 362,
    "start_time": "2022-02-12T10:19:59.151Z"
   },
   {
    "duration": 17,
    "start_time": "2022-02-12T10:20:10.681Z"
   },
   {
    "duration": 32,
    "start_time": "2022-02-12T10:20:32.049Z"
   },
   {
    "duration": 15,
    "start_time": "2022-02-12T10:23:30.491Z"
   },
   {
    "duration": 20,
    "start_time": "2022-02-12T10:24:21.096Z"
   },
   {
    "duration": 19,
    "start_time": "2022-02-12T10:24:29.680Z"
   },
   {
    "duration": 847,
    "start_time": "2022-02-12T10:38:28.967Z"
   },
   {
    "duration": 20,
    "start_time": "2022-02-12T10:38:29.817Z"
   },
   {
    "duration": 19,
    "start_time": "2022-02-12T10:38:29.849Z"
   },
   {
    "duration": 18,
    "start_time": "2022-02-12T10:38:29.870Z"
   },
   {
    "duration": 11,
    "start_time": "2022-02-12T10:38:29.892Z"
   },
   {
    "duration": 14,
    "start_time": "2022-02-12T10:38:29.905Z"
   },
   {
    "duration": 7,
    "start_time": "2022-02-12T10:38:29.949Z"
   },
   {
    "duration": 21,
    "start_time": "2022-02-12T10:38:29.960Z"
   },
   {
    "duration": 21,
    "start_time": "2022-02-12T10:38:29.986Z"
   },
   {
    "duration": 70,
    "start_time": "2022-02-12T10:38:30.010Z"
   },
   {
    "duration": 33,
    "start_time": "2022-02-12T10:38:30.083Z"
   },
   {
    "duration": 54,
    "start_time": "2022-02-12T10:38:30.118Z"
   },
   {
    "duration": 14,
    "start_time": "2022-02-12T10:38:30.176Z"
   },
   {
    "duration": 59,
    "start_time": "2022-02-12T10:38:30.193Z"
   },
   {
    "duration": 25,
    "start_time": "2022-02-12T10:38:30.254Z"
   },
   {
    "duration": 23,
    "start_time": "2022-02-12T10:38:30.282Z"
   },
   {
    "duration": 46,
    "start_time": "2022-02-12T10:38:30.308Z"
   },
   {
    "duration": 37,
    "start_time": "2022-02-12T10:38:30.358Z"
   },
   {
    "duration": 29,
    "start_time": "2022-02-12T10:38:30.398Z"
   },
   {
    "duration": 22,
    "start_time": "2022-02-12T10:38:30.430Z"
   },
   {
    "duration": 40,
    "start_time": "2022-02-12T10:38:30.455Z"
   },
   {
    "duration": 31,
    "start_time": "2022-02-12T10:38:30.498Z"
   },
   {
    "duration": 38,
    "start_time": "2022-02-12T10:38:30.534Z"
   },
   {
    "duration": 40,
    "start_time": "2022-02-12T10:38:30.574Z"
   },
   {
    "duration": 45,
    "start_time": "2022-02-12T10:38:30.617Z"
   },
   {
    "duration": 83,
    "start_time": "2022-02-12T10:38:30.664Z"
   },
   {
    "duration": 119,
    "start_time": "2022-02-12T10:38:34.611Z"
   },
   {
    "duration": 363,
    "start_time": "2022-02-12T10:38:54.122Z"
   },
   {
    "duration": 117,
    "start_time": "2022-02-12T10:39:32.387Z"
   },
   {
    "duration": 1612,
    "start_time": "2022-02-12T10:40:24.094Z"
   },
   {
    "duration": 30,
    "start_time": "2022-02-12T10:41:01.382Z"
   },
   {
    "duration": 29,
    "start_time": "2022-02-12T10:41:24.360Z"
   },
   {
    "duration": 32,
    "start_time": "2022-02-12T10:41:33.201Z"
   },
   {
    "duration": 11,
    "start_time": "2022-02-12T10:53:14.755Z"
   },
   {
    "duration": 6,
    "start_time": "2022-02-12T10:53:51.710Z"
   },
   {
    "duration": 31,
    "start_time": "2022-02-12T10:54:01.880Z"
   },
   {
    "duration": 32,
    "start_time": "2022-02-12T10:54:19.561Z"
   },
   {
    "duration": 7,
    "start_time": "2022-02-12T10:54:54.676Z"
   },
   {
    "duration": 7,
    "start_time": "2022-02-12T10:55:31.060Z"
   },
   {
    "duration": 7,
    "start_time": "2022-02-12T10:55:36.171Z"
   },
   {
    "duration": 8,
    "start_time": "2022-02-12T10:55:48.571Z"
   },
   {
    "duration": 23,
    "start_time": "2022-02-12T10:55:57.080Z"
   },
   {
    "duration": 18,
    "start_time": "2022-02-12T10:56:02.336Z"
   },
   {
    "duration": 9,
    "start_time": "2022-02-12T10:56:19.158Z"
   },
   {
    "duration": 19,
    "start_time": "2022-02-12T10:56:30.413Z"
   },
   {
    "duration": 23,
    "start_time": "2022-02-12T10:58:10.616Z"
   },
   {
    "duration": 8,
    "start_time": "2022-02-12T11:00:38.195Z"
   },
   {
    "duration": 628,
    "start_time": "2022-02-13T10:48:21.690Z"
   },
   {
    "duration": 9,
    "start_time": "2022-02-13T10:48:22.319Z"
   },
   {
    "duration": 11,
    "start_time": "2022-02-13T10:48:22.330Z"
   },
   {
    "duration": 6,
    "start_time": "2022-02-13T10:48:22.343Z"
   },
   {
    "duration": 5,
    "start_time": "2022-02-13T10:48:22.351Z"
   },
   {
    "duration": 6,
    "start_time": "2022-02-13T10:48:22.357Z"
   },
   {
    "duration": 3,
    "start_time": "2022-02-13T10:48:22.365Z"
   },
   {
    "duration": 7,
    "start_time": "2022-02-13T10:48:22.370Z"
   },
   {
    "duration": 10,
    "start_time": "2022-02-13T10:48:22.379Z"
   },
   {
    "duration": 51,
    "start_time": "2022-02-13T10:48:22.391Z"
   },
   {
    "duration": 14,
    "start_time": "2022-02-13T10:48:22.443Z"
   },
   {
    "duration": 16,
    "start_time": "2022-02-13T10:48:22.459Z"
   },
   {
    "duration": 6,
    "start_time": "2022-02-13T10:48:22.477Z"
   },
   {
    "duration": 52,
    "start_time": "2022-02-13T10:48:22.485Z"
   },
   {
    "duration": 15,
    "start_time": "2022-02-13T10:48:22.538Z"
   },
   {
    "duration": 7,
    "start_time": "2022-02-13T10:48:22.554Z"
   },
   {
    "duration": 12,
    "start_time": "2022-02-13T10:48:22.562Z"
   },
   {
    "duration": 6,
    "start_time": "2022-02-13T10:48:22.575Z"
   },
   {
    "duration": 8,
    "start_time": "2022-02-13T10:48:22.583Z"
   },
   {
    "duration": 3,
    "start_time": "2022-02-13T10:48:22.592Z"
   },
   {
    "duration": 5,
    "start_time": "2022-02-13T10:48:22.627Z"
   },
   {
    "duration": 6,
    "start_time": "2022-02-13T10:48:22.633Z"
   },
   {
    "duration": 14,
    "start_time": "2022-02-13T10:48:22.641Z"
   },
   {
    "duration": 18,
    "start_time": "2022-02-13T10:48:22.657Z"
   },
   {
    "duration": 8,
    "start_time": "2022-02-13T10:48:22.677Z"
   },
   {
    "duration": 12,
    "start_time": "2022-02-13T10:48:22.686Z"
   },
   {
    "duration": 30,
    "start_time": "2022-02-13T10:48:22.699Z"
   },
   {
    "duration": 380,
    "start_time": "2022-02-13T10:48:24.022Z"
   },
   {
    "duration": 25,
    "start_time": "2022-02-13T10:48:36.764Z"
   },
   {
    "duration": 10,
    "start_time": "2022-02-13T10:49:03.032Z"
   },
   {
    "duration": 10,
    "start_time": "2022-02-13T10:55:49.382Z"
   },
   {
    "duration": 11,
    "start_time": "2022-02-13T10:56:00.786Z"
   },
   {
    "duration": 16,
    "start_time": "2022-02-13T10:57:58.799Z"
   },
   {
    "duration": 33,
    "start_time": "2022-02-13T10:58:25.585Z"
   },
   {
    "duration": 13,
    "start_time": "2022-02-13T10:58:57.055Z"
   },
   {
    "duration": 669,
    "start_time": "2022-02-13T11:00:25.432Z"
   },
   {
    "duration": 10,
    "start_time": "2022-02-13T11:00:26.103Z"
   },
   {
    "duration": 24,
    "start_time": "2022-02-13T11:00:26.114Z"
   },
   {
    "duration": 17,
    "start_time": "2022-02-13T11:00:26.140Z"
   },
   {
    "duration": 20,
    "start_time": "2022-02-13T11:00:26.158Z"
   },
   {
    "duration": 29,
    "start_time": "2022-02-13T11:00:26.179Z"
   },
   {
    "duration": 9,
    "start_time": "2022-02-13T11:00:26.209Z"
   },
   {
    "duration": 18,
    "start_time": "2022-02-13T11:00:26.220Z"
   },
   {
    "duration": 24,
    "start_time": "2022-02-13T11:00:26.239Z"
   },
   {
    "duration": 21,
    "start_time": "2022-02-13T11:00:26.264Z"
   },
   {
    "duration": 13,
    "start_time": "2022-02-13T11:00:26.287Z"
   },
   {
    "duration": 16,
    "start_time": "2022-02-13T11:00:26.302Z"
   },
   {
    "duration": 10,
    "start_time": "2022-02-13T11:00:26.319Z"
   },
   {
    "duration": 31,
    "start_time": "2022-02-13T11:00:26.330Z"
   },
   {
    "duration": 16,
    "start_time": "2022-02-13T11:00:26.362Z"
   },
   {
    "duration": 7,
    "start_time": "2022-02-13T11:00:26.380Z"
   },
   {
    "duration": 27,
    "start_time": "2022-02-13T11:00:26.389Z"
   },
   {
    "duration": 19,
    "start_time": "2022-02-13T11:00:26.417Z"
   },
   {
    "duration": 13,
    "start_time": "2022-02-13T11:00:26.437Z"
   },
   {
    "duration": 5,
    "start_time": "2022-02-13T11:00:26.452Z"
   },
   {
    "duration": 28,
    "start_time": "2022-02-13T11:00:26.459Z"
   },
   {
    "duration": 17,
    "start_time": "2022-02-13T11:00:26.489Z"
   },
   {
    "duration": 17,
    "start_time": "2022-02-13T11:00:26.510Z"
   },
   {
    "duration": 39,
    "start_time": "2022-02-13T11:00:26.528Z"
   },
   {
    "duration": 8,
    "start_time": "2022-02-13T11:00:26.569Z"
   },
   {
    "duration": 17,
    "start_time": "2022-02-13T11:00:26.579Z"
   },
   {
    "duration": 28,
    "start_time": "2022-02-13T11:00:26.598Z"
   },
   {
    "duration": 17,
    "start_time": "2022-02-13T11:00:29.372Z"
   },
   {
    "duration": 8,
    "start_time": "2022-02-13T11:04:25.044Z"
   },
   {
    "duration": 110,
    "start_time": "2022-02-13T11:04:35.099Z"
   },
   {
    "duration": 6,
    "start_time": "2022-02-13T11:04:51.080Z"
   },
   {
    "duration": 4,
    "start_time": "2022-02-13T11:05:07.739Z"
   },
   {
    "duration": 109,
    "start_time": "2022-02-13T11:05:18.215Z"
   },
   {
    "duration": 5,
    "start_time": "2022-02-13T11:05:29.418Z"
   },
   {
    "duration": 632,
    "start_time": "2022-02-13T11:05:44.332Z"
   },
   {
    "duration": 11,
    "start_time": "2022-02-13T11:05:44.965Z"
   },
   {
    "duration": 7,
    "start_time": "2022-02-13T11:05:46.378Z"
   },
   {
    "duration": 5,
    "start_time": "2022-02-13T11:06:01.495Z"
   },
   {
    "duration": 4,
    "start_time": "2022-02-13T11:06:17.404Z"
   },
   {
    "duration": 4,
    "start_time": "2022-02-13T11:06:38.496Z"
   },
   {
    "duration": 5,
    "start_time": "2022-02-13T11:06:45.062Z"
   },
   {
    "duration": 5,
    "start_time": "2022-02-13T11:06:53.305Z"
   },
   {
    "duration": 5,
    "start_time": "2022-02-13T11:06:58.785Z"
   },
   {
    "duration": 7,
    "start_time": "2022-02-13T11:07:18.178Z"
   },
   {
    "duration": 6,
    "start_time": "2022-02-13T11:07:36.012Z"
   },
   {
    "duration": 5,
    "start_time": "2022-02-13T11:07:50.599Z"
   },
   {
    "duration": 6,
    "start_time": "2022-02-13T11:08:24.901Z"
   },
   {
    "duration": 5,
    "start_time": "2022-02-13T11:08:44.141Z"
   },
   {
    "duration": 11,
    "start_time": "2022-02-13T11:08:49.200Z"
   },
   {
    "duration": 19,
    "start_time": "2022-02-13T11:08:58.101Z"
   },
   {
    "duration": 1552,
    "start_time": "2022-02-13T11:11:34.185Z"
   },
   {
    "duration": 382,
    "start_time": "2022-02-13T11:13:27.747Z"
   },
   {
    "duration": 16,
    "start_time": "2022-02-13T11:13:58.935Z"
   },
   {
    "duration": 113,
    "start_time": "2022-02-13T11:14:21.066Z"
   },
   {
    "duration": 389,
    "start_time": "2022-02-13T11:15:08.078Z"
   },
   {
    "duration": 17,
    "start_time": "2022-02-13T11:15:20.375Z"
   },
   {
    "duration": 333,
    "start_time": "2022-02-13T11:15:36.264Z"
   },
   {
    "duration": 439,
    "start_time": "2022-02-13T11:16:02.252Z"
   },
   {
    "duration": 10,
    "start_time": "2022-02-13T11:16:25.802Z"
   },
   {
    "duration": 14,
    "start_time": "2022-02-13T11:16:43.166Z"
   },
   {
    "duration": 391,
    "start_time": "2022-02-13T11:17:08.452Z"
   },
   {
    "duration": 361,
    "start_time": "2022-02-13T11:17:20.715Z"
   },
   {
    "duration": 16,
    "start_time": "2022-02-13T11:18:09.386Z"
   },
   {
    "duration": 8472,
    "start_time": "2022-02-13T11:18:40.355Z"
   },
   {
    "duration": 13,
    "start_time": "2022-02-13T11:19:26.727Z"
   },
   {
    "duration": 54,
    "start_time": "2022-02-13T11:19:31.130Z"
   },
   {
    "duration": 9,
    "start_time": "2022-02-13T11:19:31.186Z"
   },
   {
    "duration": 32,
    "start_time": "2022-02-13T11:19:31.197Z"
   },
   {
    "duration": 11,
    "start_time": "2022-02-13T11:19:31.231Z"
   },
   {
    "duration": 6,
    "start_time": "2022-02-13T11:19:31.244Z"
   },
   {
    "duration": 5,
    "start_time": "2022-02-13T11:19:31.252Z"
   },
   {
    "duration": 4,
    "start_time": "2022-02-13T11:19:31.259Z"
   },
   {
    "duration": 15,
    "start_time": "2022-02-13T11:19:31.265Z"
   },
   {
    "duration": 11,
    "start_time": "2022-02-13T11:19:31.282Z"
   },
   {
    "duration": 38,
    "start_time": "2022-02-13T11:19:31.294Z"
   },
   {
    "duration": 15,
    "start_time": "2022-02-13T11:19:31.334Z"
   },
   {
    "duration": 15,
    "start_time": "2022-02-13T11:19:31.350Z"
   },
   {
    "duration": 6,
    "start_time": "2022-02-13T11:19:31.366Z"
   },
   {
    "duration": 25,
    "start_time": "2022-02-13T11:19:31.373Z"
   },
   {
    "duration": 39,
    "start_time": "2022-02-13T11:19:31.399Z"
   },
   {
    "duration": 6,
    "start_time": "2022-02-13T11:19:31.439Z"
   },
   {
    "duration": 11,
    "start_time": "2022-02-13T11:19:31.447Z"
   },
   {
    "duration": 5,
    "start_time": "2022-02-13T11:19:31.460Z"
   },
   {
    "duration": 9,
    "start_time": "2022-02-13T11:19:31.466Z"
   },
   {
    "duration": 6,
    "start_time": "2022-02-13T11:19:31.476Z"
   },
   {
    "duration": 7,
    "start_time": "2022-02-13T11:19:31.483Z"
   },
   {
    "duration": 4,
    "start_time": "2022-02-13T11:19:31.491Z"
   },
   {
    "duration": 7,
    "start_time": "2022-02-13T11:19:31.497Z"
   },
   {
    "duration": 31,
    "start_time": "2022-02-13T11:19:31.505Z"
   },
   {
    "duration": 8,
    "start_time": "2022-02-13T11:19:31.538Z"
   },
   {
    "duration": 12,
    "start_time": "2022-02-13T11:19:31.547Z"
   },
   {
    "duration": 18,
    "start_time": "2022-02-13T11:19:31.561Z"
   },
   {
    "duration": 16,
    "start_time": "2022-02-13T11:19:43.575Z"
   },
   {
    "duration": 6,
    "start_time": "2022-02-13T11:20:16.474Z"
   },
   {
    "duration": 15,
    "start_time": "2022-02-13T11:20:29.475Z"
   },
   {
    "duration": 21,
    "start_time": "2022-02-13T11:20:56.074Z"
   },
   {
    "duration": 20,
    "start_time": "2022-02-13T11:21:16.565Z"
   },
   {
    "duration": 19,
    "start_time": "2022-02-13T11:21:22.750Z"
   },
   {
    "duration": 18,
    "start_time": "2022-02-13T11:21:27.227Z"
   },
   {
    "duration": 3,
    "start_time": "2022-02-13T11:22:18.358Z"
   },
   {
    "duration": 20,
    "start_time": "2022-02-13T11:22:21.246Z"
   },
   {
    "duration": 363,
    "start_time": "2022-02-13T11:26:20.433Z"
   },
   {
    "duration": 609,
    "start_time": "2022-02-13T11:26:28.348Z"
   },
   {
    "duration": 10,
    "start_time": "2022-02-13T11:26:28.958Z"
   },
   {
    "duration": 31,
    "start_time": "2022-02-13T11:26:29.951Z"
   },
   {
    "duration": 8,
    "start_time": "2022-02-13T11:26:33.999Z"
   },
   {
    "duration": 13,
    "start_time": "2022-02-13T11:26:42.504Z"
   },
   {
    "duration": 6,
    "start_time": "2022-02-13T11:26:53.757Z"
   },
   {
    "duration": 6,
    "start_time": "2022-02-13T11:27:02.005Z"
   },
   {
    "duration": 6,
    "start_time": "2022-02-13T11:27:07.742Z"
   },
   {
    "duration": 6,
    "start_time": "2022-02-13T11:27:18.356Z"
   },
   {
    "duration": 109,
    "start_time": "2022-02-13T11:28:02.611Z"
   },
   {
    "duration": 98,
    "start_time": "2022-02-13T11:28:26.743Z"
   },
   {
    "duration": 4,
    "start_time": "2022-02-13T11:28:47.347Z"
   },
   {
    "duration": 8,
    "start_time": "2022-02-13T11:29:36.346Z"
   },
   {
    "duration": 10,
    "start_time": "2022-02-13T11:31:08.173Z"
   },
   {
    "duration": 12,
    "start_time": "2022-02-13T11:34:48.948Z"
   },
   {
    "duration": 6,
    "start_time": "2022-02-13T11:39:08.920Z"
   },
   {
    "duration": 19,
    "start_time": "2022-02-13T11:42:46.190Z"
   },
   {
    "duration": 4,
    "start_time": "2022-02-13T11:43:34.430Z"
   },
   {
    "duration": 5,
    "start_time": "2022-02-13T11:51:41.459Z"
   },
   {
    "duration": 53,
    "start_time": "2022-02-13T11:52:19.954Z"
   },
   {
    "duration": 9,
    "start_time": "2022-02-13T11:52:20.009Z"
   },
   {
    "duration": 10,
    "start_time": "2022-02-13T11:52:20.020Z"
   },
   {
    "duration": 12,
    "start_time": "2022-02-13T11:52:20.031Z"
   },
   {
    "duration": 6,
    "start_time": "2022-02-13T11:52:20.044Z"
   },
   {
    "duration": 23,
    "start_time": "2022-02-13T11:52:20.052Z"
   },
   {
    "duration": 7,
    "start_time": "2022-02-13T11:52:20.077Z"
   },
   {
    "duration": 6,
    "start_time": "2022-02-13T11:52:20.085Z"
   },
   {
    "duration": 42,
    "start_time": "2022-02-13T11:52:20.092Z"
   },
   {
    "duration": 5,
    "start_time": "2022-02-13T11:52:20.135Z"
   },
   {
    "duration": 14,
    "start_time": "2022-02-13T11:52:20.141Z"
   },
   {
    "duration": 15,
    "start_time": "2022-02-13T11:52:20.156Z"
   },
   {
    "duration": 27,
    "start_time": "2022-02-13T11:52:20.173Z"
   },
   {
    "duration": 26,
    "start_time": "2022-02-13T11:52:20.201Z"
   },
   {
    "duration": 17,
    "start_time": "2022-02-13T11:52:20.229Z"
   },
   {
    "duration": 6,
    "start_time": "2022-02-13T11:52:20.247Z"
   },
   {
    "duration": 33,
    "start_time": "2022-02-13T11:52:20.255Z"
   },
   {
    "duration": 18,
    "start_time": "2022-02-13T11:52:20.289Z"
   },
   {
    "duration": 22,
    "start_time": "2022-02-13T11:52:20.308Z"
   },
   {
    "duration": 11,
    "start_time": "2022-02-13T11:52:20.332Z"
   },
   {
    "duration": 8,
    "start_time": "2022-02-13T11:52:20.345Z"
   },
   {
    "duration": 10,
    "start_time": "2022-02-13T11:52:20.355Z"
   },
   {
    "duration": 7,
    "start_time": "2022-02-13T11:52:20.366Z"
   },
   {
    "duration": 18,
    "start_time": "2022-02-13T11:52:20.374Z"
   },
   {
    "duration": 5,
    "start_time": "2022-02-13T11:52:20.393Z"
   },
   {
    "duration": 25,
    "start_time": "2022-02-13T11:52:20.401Z"
   },
   {
    "duration": 15,
    "start_time": "2022-02-13T11:52:25.531Z"
   },
   {
    "duration": 5,
    "start_time": "2022-02-13T11:54:32.495Z"
   },
   {
    "duration": 9,
    "start_time": "2022-02-13T11:54:44.070Z"
   },
   {
    "duration": 12,
    "start_time": "2022-02-13T11:56:44.333Z"
   },
   {
    "duration": 6,
    "start_time": "2022-02-13T11:58:25.012Z"
   },
   {
    "duration": 6,
    "start_time": "2022-02-13T11:59:43.927Z"
   },
   {
    "duration": 5,
    "start_time": "2022-02-13T11:59:55.400Z"
   },
   {
    "duration": 6,
    "start_time": "2022-02-13T12:00:12.914Z"
   },
   {
    "duration": 7,
    "start_time": "2022-02-13T12:00:22.595Z"
   },
   {
    "duration": 7,
    "start_time": "2022-02-13T12:00:29.181Z"
   },
   {
    "duration": 353,
    "start_time": "2022-02-13T12:00:43.750Z"
   },
   {
    "duration": 6,
    "start_time": "2022-02-13T12:00:47.345Z"
   },
   {
    "duration": 5,
    "start_time": "2022-02-13T12:01:18.506Z"
   },
   {
    "duration": 343,
    "start_time": "2022-02-13T12:02:04.039Z"
   },
   {
    "duration": 8,
    "start_time": "2022-02-13T12:02:09.002Z"
   },
   {
    "duration": 5,
    "start_time": "2022-02-13T12:02:14.357Z"
   },
   {
    "duration": 6,
    "start_time": "2022-02-13T12:09:30.724Z"
   },
   {
    "duration": 11,
    "start_time": "2022-02-13T12:09:45.571Z"
   },
   {
    "duration": 13,
    "start_time": "2022-02-13T12:10:02.022Z"
   },
   {
    "duration": 9,
    "start_time": "2022-02-13T12:10:24.745Z"
   },
   {
    "duration": 19,
    "start_time": "2022-02-13T12:10:30.730Z"
   },
   {
    "duration": 11,
    "start_time": "2022-02-13T12:10:39.224Z"
   },
   {
    "duration": 23,
    "start_time": "2022-02-13T12:10:50.376Z"
   },
   {
    "duration": 8,
    "start_time": "2022-02-13T12:11:37.038Z"
   },
   {
    "duration": 7,
    "start_time": "2022-02-13T12:17:48.083Z"
   },
   {
    "duration": 6,
    "start_time": "2022-02-13T12:23:06.303Z"
   },
   {
    "duration": 9,
    "start_time": "2022-02-13T12:23:09.682Z"
   },
   {
    "duration": 613,
    "start_time": "2022-02-13T12:23:33.256Z"
   },
   {
    "duration": 10,
    "start_time": "2022-02-13T12:23:33.870Z"
   },
   {
    "duration": 10,
    "start_time": "2022-02-13T12:23:33.882Z"
   },
   {
    "duration": 11,
    "start_time": "2022-02-13T12:23:33.894Z"
   },
   {
    "duration": 23,
    "start_time": "2022-02-13T12:23:33.906Z"
   },
   {
    "duration": 19,
    "start_time": "2022-02-13T12:23:33.931Z"
   },
   {
    "duration": 8,
    "start_time": "2022-02-13T12:23:33.951Z"
   },
   {
    "duration": 5,
    "start_time": "2022-02-13T12:23:33.961Z"
   },
   {
    "duration": 7,
    "start_time": "2022-02-13T12:23:45.314Z"
   },
   {
    "duration": 6,
    "start_time": "2022-02-13T12:23:50.781Z"
   },
   {
    "duration": 21,
    "start_time": "2022-02-13T12:30:41.396Z"
   },
   {
    "duration": 10,
    "start_time": "2022-02-13T12:31:40.072Z"
   },
   {
    "duration": 4,
    "start_time": "2022-02-13T12:31:43.582Z"
   },
   {
    "duration": 6,
    "start_time": "2022-02-13T12:37:39.997Z"
   },
   {
    "duration": 4,
    "start_time": "2022-02-13T12:37:41.910Z"
   },
   {
    "duration": 6,
    "start_time": "2022-02-13T12:38:22.296Z"
   },
   {
    "duration": 4,
    "start_time": "2022-02-13T12:38:40.414Z"
   },
   {
    "duration": 54,
    "start_time": "2022-02-13T12:42:22.438Z"
   },
   {
    "duration": 9,
    "start_time": "2022-02-13T12:42:22.493Z"
   },
   {
    "duration": 9,
    "start_time": "2022-02-13T12:42:22.504Z"
   },
   {
    "duration": 18,
    "start_time": "2022-02-13T12:42:22.515Z"
   },
   {
    "duration": 4,
    "start_time": "2022-02-13T12:42:22.535Z"
   },
   {
    "duration": 21,
    "start_time": "2022-02-13T12:42:22.541Z"
   },
   {
    "duration": 8,
    "start_time": "2022-02-13T12:42:22.563Z"
   },
   {
    "duration": 5,
    "start_time": "2022-02-13T12:42:22.573Z"
   },
   {
    "duration": 14,
    "start_time": "2022-02-13T12:42:22.579Z"
   },
   {
    "duration": 35,
    "start_time": "2022-02-13T12:42:22.595Z"
   },
   {
    "duration": 20,
    "start_time": "2022-02-13T12:42:22.632Z"
   },
   {
    "duration": 375,
    "start_time": "2022-02-13T12:42:22.653Z"
   },
   {
    "duration": -20687,
    "start_time": "2022-02-13T12:42:43.717Z"
   },
   {
    "duration": -20695,
    "start_time": "2022-02-13T12:42:43.725Z"
   },
   {
    "duration": -20702,
    "start_time": "2022-02-13T12:42:43.733Z"
   },
   {
    "duration": -20708,
    "start_time": "2022-02-13T12:42:43.740Z"
   },
   {
    "duration": -20725,
    "start_time": "2022-02-13T12:42:43.758Z"
   },
   {
    "duration": -20732,
    "start_time": "2022-02-13T12:42:43.766Z"
   },
   {
    "duration": -20739,
    "start_time": "2022-02-13T12:42:43.774Z"
   },
   {
    "duration": -20746,
    "start_time": "2022-02-13T12:42:43.782Z"
   },
   {
    "duration": -20752,
    "start_time": "2022-02-13T12:42:43.789Z"
   },
   {
    "duration": -20759,
    "start_time": "2022-02-13T12:42:43.797Z"
   },
   {
    "duration": -20765,
    "start_time": "2022-02-13T12:42:43.804Z"
   },
   {
    "duration": -20773,
    "start_time": "2022-02-13T12:42:43.812Z"
   },
   {
    "duration": -20780,
    "start_time": "2022-02-13T12:42:43.820Z"
   },
   {
    "duration": -20786,
    "start_time": "2022-02-13T12:42:43.827Z"
   },
   {
    "duration": 16,
    "start_time": "2022-02-13T12:42:26.503Z"
   },
   {
    "duration": 16862,
    "start_time": "2022-02-13T12:42:29.705Z"
   },
   {
    "duration": 14,
    "start_time": "2022-02-13T12:42:52.454Z"
   },
   {
    "duration": 320,
    "start_time": "2022-02-13T12:43:02.002Z"
   },
   {
    "duration": 676,
    "start_time": "2022-02-13T12:43:28.022Z"
   },
   {
    "duration": 9,
    "start_time": "2022-02-13T12:43:28.700Z"
   },
   {
    "duration": 11,
    "start_time": "2022-02-13T12:43:28.711Z"
   },
   {
    "duration": 13,
    "start_time": "2022-02-13T12:43:28.723Z"
   },
   {
    "duration": 5,
    "start_time": "2022-02-13T12:43:28.738Z"
   },
   {
    "duration": 19,
    "start_time": "2022-02-13T12:43:28.744Z"
   },
   {
    "duration": 6,
    "start_time": "2022-02-13T12:43:28.765Z"
   },
   {
    "duration": 4,
    "start_time": "2022-02-13T12:43:28.773Z"
   },
   {
    "duration": 10,
    "start_time": "2022-02-13T12:43:28.779Z"
   },
   {
    "duration": 37,
    "start_time": "2022-02-13T12:43:28.790Z"
   },
   {
    "duration": 19,
    "start_time": "2022-02-13T12:43:28.829Z"
   },
   {
    "duration": 517,
    "start_time": "2022-02-13T12:43:31.438Z"
   },
   {
    "duration": 1242,
    "start_time": "2022-02-13T12:44:08.209Z"
   },
   {
    "duration": 13,
    "start_time": "2022-02-13T12:45:05.435Z"
   },
   {
    "duration": 6,
    "start_time": "2022-02-13T12:45:10.431Z"
   },
   {
    "duration": 20,
    "start_time": "2022-02-13T12:45:12.385Z"
   },
   {
    "duration": 1324,
    "start_time": "2022-02-13T12:45:15.431Z"
   },
   {
    "duration": 344,
    "start_time": "2022-02-13T12:45:34.374Z"
   },
   {
    "duration": 615,
    "start_time": "2022-02-13T12:45:37.644Z"
   },
   {
    "duration": 9,
    "start_time": "2022-02-13T12:45:38.261Z"
   },
   {
    "duration": 9,
    "start_time": "2022-02-13T12:45:38.272Z"
   },
   {
    "duration": 10,
    "start_time": "2022-02-13T12:45:38.283Z"
   },
   {
    "duration": 4,
    "start_time": "2022-02-13T12:45:38.294Z"
   },
   {
    "duration": 44,
    "start_time": "2022-02-13T12:45:38.300Z"
   },
   {
    "duration": 7,
    "start_time": "2022-02-13T12:45:38.345Z"
   },
   {
    "duration": 4,
    "start_time": "2022-02-13T12:45:38.354Z"
   },
   {
    "duration": 11,
    "start_time": "2022-02-13T12:45:38.359Z"
   },
   {
    "duration": 5,
    "start_time": "2022-02-13T12:45:38.371Z"
   },
   {
    "duration": 19,
    "start_time": "2022-02-13T12:45:38.377Z"
   },
   {
    "duration": 1508,
    "start_time": "2022-02-13T12:45:40.110Z"
   },
   {
    "duration": 365,
    "start_time": "2022-02-13T12:46:14.233Z"
   },
   {
    "duration": 356,
    "start_time": "2022-02-13T12:49:44.041Z"
   },
   {
    "duration": 649,
    "start_time": "2022-02-13T12:49:56.116Z"
   },
   {
    "duration": 9,
    "start_time": "2022-02-13T12:49:56.767Z"
   },
   {
    "duration": 10,
    "start_time": "2022-02-13T12:49:56.778Z"
   },
   {
    "duration": 10,
    "start_time": "2022-02-13T12:49:56.790Z"
   },
   {
    "duration": 5,
    "start_time": "2022-02-13T12:49:56.802Z"
   },
   {
    "duration": 35,
    "start_time": "2022-02-13T12:49:56.808Z"
   },
   {
    "duration": 6,
    "start_time": "2022-02-13T12:49:56.844Z"
   },
   {
    "duration": 5,
    "start_time": "2022-02-13T12:49:56.852Z"
   },
   {
    "duration": 9,
    "start_time": "2022-02-13T12:49:59.134Z"
   },
   {
    "duration": 6,
    "start_time": "2022-02-13T12:50:02.052Z"
   },
   {
    "duration": 20,
    "start_time": "2022-02-13T12:50:03.991Z"
   },
   {
    "duration": 12,
    "start_time": "2022-02-13T12:50:26.849Z"
   },
   {
    "duration": 13,
    "start_time": "2022-02-13T12:50:30.151Z"
   },
   {
    "duration": 6,
    "start_time": "2022-02-13T12:50:47.052Z"
   },
   {
    "duration": 6,
    "start_time": "2022-02-13T12:50:49.668Z"
   },
   {
    "duration": 7,
    "start_time": "2022-02-13T12:51:05.281Z"
   },
   {
    "duration": 54,
    "start_time": "2022-02-13T12:51:09.936Z"
   },
   {
    "duration": 4,
    "start_time": "2022-02-13T12:51:11.624Z"
   },
   {
    "duration": 9,
    "start_time": "2022-02-13T12:51:15.801Z"
   },
   {
    "duration": 12,
    "start_time": "2022-02-13T12:51:26.926Z"
   },
   {
    "duration": 17,
    "start_time": "2022-02-13T12:51:34.466Z"
   },
   {
    "duration": 14,
    "start_time": "2022-02-13T12:51:59.402Z"
   },
   {
    "duration": 23,
    "start_time": "2022-02-13T12:52:02.786Z"
   },
   {
    "duration": 9,
    "start_time": "2022-02-13T12:52:05.756Z"
   },
   {
    "duration": 23,
    "start_time": "2022-02-13T12:52:25.626Z"
   },
   {
    "duration": 17,
    "start_time": "2022-02-13T12:52:29.023Z"
   },
   {
    "duration": 6,
    "start_time": "2022-02-13T12:52:32.158Z"
   },
   {
    "duration": 11,
    "start_time": "2022-02-13T12:52:38.297Z"
   },
   {
    "duration": 7,
    "start_time": "2022-02-13T12:53:07.905Z"
   },
   {
    "duration": 7,
    "start_time": "2022-02-13T12:53:21.516Z"
   },
   {
    "duration": 9,
    "start_time": "2022-02-13T13:03:11.067Z"
   },
   {
    "duration": 18,
    "start_time": "2022-02-13T13:03:14.764Z"
   },
   {
    "duration": 629,
    "start_time": "2022-02-13T13:03:31.792Z"
   },
   {
    "duration": 9,
    "start_time": "2022-02-13T13:03:32.423Z"
   },
   {
    "duration": 10,
    "start_time": "2022-02-13T13:03:32.434Z"
   },
   {
    "duration": 11,
    "start_time": "2022-02-13T13:03:32.446Z"
   },
   {
    "duration": 5,
    "start_time": "2022-02-13T13:03:32.458Z"
   },
   {
    "duration": 18,
    "start_time": "2022-02-13T13:03:32.464Z"
   },
   {
    "duration": 8,
    "start_time": "2022-02-13T13:03:32.483Z"
   },
   {
    "duration": 5,
    "start_time": "2022-02-13T13:03:32.526Z"
   },
   {
    "duration": 8,
    "start_time": "2022-02-13T13:03:32.533Z"
   },
   {
    "duration": 5,
    "start_time": "2022-02-13T13:03:32.542Z"
   },
   {
    "duration": 12,
    "start_time": "2022-02-13T13:03:32.549Z"
   },
   {
    "duration": 7,
    "start_time": "2022-02-13T13:03:32.562Z"
   },
   {
    "duration": 5,
    "start_time": "2022-02-13T13:03:32.571Z"
   },
   {
    "duration": 4,
    "start_time": "2022-02-13T13:03:32.578Z"
   },
   {
    "duration": 48,
    "start_time": "2022-02-13T13:03:32.583Z"
   },
   {
    "duration": 11,
    "start_time": "2022-02-13T13:03:32.633Z"
   },
   {
    "duration": 18,
    "start_time": "2022-02-13T13:03:32.645Z"
   },
   {
    "duration": 13,
    "start_time": "2022-02-13T13:03:32.664Z"
   },
   {
    "duration": 15,
    "start_time": "2022-02-13T13:03:32.679Z"
   },
   {
    "duration": 32,
    "start_time": "2022-02-13T13:03:32.695Z"
   },
   {
    "duration": 22,
    "start_time": "2022-02-13T13:03:32.728Z"
   },
   {
    "duration": 14,
    "start_time": "2022-02-13T13:03:32.751Z"
   },
   {
    "duration": 6,
    "start_time": "2022-02-13T13:03:32.767Z"
   },
   {
    "duration": 11,
    "start_time": "2022-02-13T13:03:32.775Z"
   },
   {
    "duration": 8,
    "start_time": "2022-02-13T13:03:32.787Z"
   },
   {
    "duration": 32,
    "start_time": "2022-02-13T13:03:32.796Z"
   },
   {
    "duration": 7,
    "start_time": "2022-02-13T13:03:32.830Z"
   },
   {
    "duration": 19,
    "start_time": "2022-02-13T13:03:32.838Z"
   },
   {
    "duration": 10,
    "start_time": "2022-02-13T13:03:32.859Z"
   },
   {
    "duration": 12,
    "start_time": "2022-02-13T13:03:32.871Z"
   },
   {
    "duration": 23,
    "start_time": "2022-02-13T13:03:32.885Z"
   },
   {
    "duration": 19,
    "start_time": "2022-02-13T13:03:55.337Z"
   },
   {
    "duration": 40,
    "start_time": "2022-02-13T13:04:07.623Z"
   },
   {
    "duration": 37,
    "start_time": "2022-02-13T13:04:46.559Z"
   },
   {
    "duration": 56,
    "start_time": "2022-02-13T13:05:57.200Z"
   },
   {
    "duration": 897,
    "start_time": "2022-02-13T13:06:38.277Z"
   },
   {
    "duration": 38,
    "start_time": "2022-02-13T13:06:47.997Z"
   },
   {
    "duration": 417,
    "start_time": "2022-02-13T13:07:04.298Z"
   },
   {
    "duration": 39,
    "start_time": "2022-02-13T13:07:11.347Z"
   },
   {
    "duration": 11,
    "start_time": "2022-02-13T13:08:15.413Z"
   },
   {
    "duration": 4,
    "start_time": "2022-02-13T13:08:34.308Z"
   },
   {
    "duration": 311,
    "start_time": "2022-02-13T13:08:53.648Z"
   },
   {
    "duration": 329,
    "start_time": "2022-02-13T13:09:04.433Z"
   },
   {
    "duration": 586,
    "start_time": "2022-02-13T13:09:12.176Z"
   },
   {
    "duration": 10,
    "start_time": "2022-02-13T13:09:12.764Z"
   },
   {
    "duration": 10,
    "start_time": "2022-02-13T13:09:12.776Z"
   },
   {
    "duration": 11,
    "start_time": "2022-02-13T13:09:12.788Z"
   },
   {
    "duration": 30,
    "start_time": "2022-02-13T13:09:12.800Z"
   },
   {
    "duration": 20,
    "start_time": "2022-02-13T13:09:12.831Z"
   },
   {
    "duration": 7,
    "start_time": "2022-02-13T13:09:12.853Z"
   },
   {
    "duration": 4,
    "start_time": "2022-02-13T13:09:12.862Z"
   },
   {
    "duration": 9,
    "start_time": "2022-02-13T13:09:12.868Z"
   },
   {
    "duration": 4,
    "start_time": "2022-02-13T13:09:12.878Z"
   },
   {
    "duration": 12,
    "start_time": "2022-02-13T13:09:12.884Z"
   },
   {
    "duration": 35,
    "start_time": "2022-02-13T13:09:12.897Z"
   },
   {
    "duration": 6,
    "start_time": "2022-02-13T13:09:12.934Z"
   },
   {
    "duration": 11,
    "start_time": "2022-02-13T13:09:12.941Z"
   },
   {
    "duration": 9,
    "start_time": "2022-02-13T13:09:12.954Z"
   },
   {
    "duration": 11,
    "start_time": "2022-02-13T13:09:12.964Z"
   },
   {
    "duration": 19,
    "start_time": "2022-02-13T13:09:12.976Z"
   },
   {
    "duration": 39,
    "start_time": "2022-02-13T13:09:12.996Z"
   },
   {
    "duration": 16,
    "start_time": "2022-02-13T13:09:13.036Z"
   },
   {
    "duration": 6,
    "start_time": "2022-02-13T13:09:13.054Z"
   },
   {
    "duration": 26,
    "start_time": "2022-02-13T13:09:13.061Z"
   },
   {
    "duration": 14,
    "start_time": "2022-02-13T13:09:13.088Z"
   },
   {
    "duration": 26,
    "start_time": "2022-02-13T13:09:13.105Z"
   },
   {
    "duration": 11,
    "start_time": "2022-02-13T13:09:13.133Z"
   },
   {
    "duration": 12,
    "start_time": "2022-02-13T13:09:13.146Z"
   },
   {
    "duration": 17,
    "start_time": "2022-02-13T13:09:13.159Z"
   },
   {
    "duration": 10,
    "start_time": "2022-02-13T13:09:13.178Z"
   },
   {
    "duration": 15,
    "start_time": "2022-02-13T13:09:14.587Z"
   },
   {
    "duration": 9,
    "start_time": "2022-02-13T13:09:20.611Z"
   },
   {
    "duration": 10,
    "start_time": "2022-02-13T13:09:22.117Z"
   },
   {
    "duration": 666,
    "start_time": "2022-02-13T13:09:51.296Z"
   },
   {
    "duration": 11,
    "start_time": "2022-02-13T13:09:51.964Z"
   },
   {
    "duration": 8,
    "start_time": "2022-02-13T13:09:51.977Z"
   },
   {
    "duration": 11,
    "start_time": "2022-02-13T13:09:51.987Z"
   },
   {
    "duration": 28,
    "start_time": "2022-02-13T13:09:51.999Z"
   },
   {
    "duration": 18,
    "start_time": "2022-02-13T13:09:52.029Z"
   },
   {
    "duration": 8,
    "start_time": "2022-02-13T13:09:52.049Z"
   },
   {
    "duration": 5,
    "start_time": "2022-02-13T13:09:52.060Z"
   },
   {
    "duration": 12,
    "start_time": "2022-02-13T13:09:52.066Z"
   },
   {
    "duration": 5,
    "start_time": "2022-02-13T13:09:52.079Z"
   },
   {
    "duration": 45,
    "start_time": "2022-02-13T13:09:52.085Z"
   },
   {
    "duration": 7,
    "start_time": "2022-02-13T13:09:52.131Z"
   },
   {
    "duration": 6,
    "start_time": "2022-02-13T13:09:52.140Z"
   },
   {
    "duration": 4,
    "start_time": "2022-02-13T13:09:52.147Z"
   },
   {
    "duration": 14,
    "start_time": "2022-02-13T13:09:52.152Z"
   },
   {
    "duration": 11,
    "start_time": "2022-02-13T13:09:52.167Z"
   },
   {
    "duration": 18,
    "start_time": "2022-02-13T13:09:52.179Z"
   },
   {
    "duration": 40,
    "start_time": "2022-02-13T13:09:52.198Z"
   },
   {
    "duration": 15,
    "start_time": "2022-02-13T13:09:52.240Z"
   },
   {
    "duration": 6,
    "start_time": "2022-02-13T13:09:52.257Z"
   },
   {
    "duration": 23,
    "start_time": "2022-02-13T13:09:52.264Z"
   },
   {
    "duration": 45,
    "start_time": "2022-02-13T13:09:52.288Z"
   },
   {
    "duration": 6,
    "start_time": "2022-02-13T13:09:52.336Z"
   },
   {
    "duration": 17,
    "start_time": "2022-02-13T13:09:52.343Z"
   },
   {
    "duration": 9,
    "start_time": "2022-02-13T13:09:52.362Z"
   },
   {
    "duration": 8,
    "start_time": "2022-02-13T13:09:52.373Z"
   },
   {
    "duration": 9,
    "start_time": "2022-02-13T13:09:52.383Z"
   },
   {
    "duration": 16,
    "start_time": "2022-02-13T13:09:54.011Z"
   },
   {
    "duration": 10,
    "start_time": "2022-02-13T13:09:59.141Z"
   },
   {
    "duration": 11,
    "start_time": "2022-02-13T13:10:01.476Z"
   },
   {
    "duration": 18,
    "start_time": "2022-02-13T13:10:09.352Z"
   },
   {
    "duration": 35,
    "start_time": "2022-02-13T13:10:13.760Z"
   },
   {
    "duration": 22,
    "start_time": "2022-02-13T13:18:10.178Z"
   },
   {
    "duration": 633,
    "start_time": "2022-02-13T13:18:24.417Z"
   },
   {
    "duration": 9,
    "start_time": "2022-02-13T13:18:25.051Z"
   },
   {
    "duration": 9,
    "start_time": "2022-02-13T13:18:25.062Z"
   },
   {
    "duration": 11,
    "start_time": "2022-02-13T13:18:25.073Z"
   },
   {
    "duration": 5,
    "start_time": "2022-02-13T13:18:25.086Z"
   },
   {
    "duration": 47,
    "start_time": "2022-02-13T13:18:25.093Z"
   },
   {
    "duration": 13,
    "start_time": "2022-02-13T13:18:26.465Z"
   },
   {
    "duration": 23,
    "start_time": "2022-02-13T13:18:33.115Z"
   },
   {
    "duration": 54,
    "start_time": "2022-02-13T13:18:43.169Z"
   },
   {
    "duration": 10,
    "start_time": "2022-02-13T13:18:43.225Z"
   },
   {
    "duration": 9,
    "start_time": "2022-02-13T13:18:43.237Z"
   },
   {
    "duration": 11,
    "start_time": "2022-02-13T13:18:43.247Z"
   },
   {
    "duration": 6,
    "start_time": "2022-02-13T13:18:43.259Z"
   },
   {
    "duration": 17,
    "start_time": "2022-02-13T13:18:43.266Z"
   },
   {
    "duration": 689,
    "start_time": "2022-02-13T13:18:48.706Z"
   },
   {
    "duration": 9,
    "start_time": "2022-02-13T13:18:49.397Z"
   },
   {
    "duration": 10,
    "start_time": "2022-02-13T13:18:49.407Z"
   },
   {
    "duration": 12,
    "start_time": "2022-02-13T13:18:49.418Z"
   },
   {
    "duration": 5,
    "start_time": "2022-02-13T13:18:49.432Z"
   },
   {
    "duration": 21,
    "start_time": "2022-02-13T13:18:49.438Z"
   },
   {
    "duration": 12,
    "start_time": "2022-02-13T13:18:51.017Z"
   },
   {
    "duration": 5,
    "start_time": "2022-02-13T13:19:27.942Z"
   },
   {
    "duration": 9,
    "start_time": "2022-02-13T13:19:30.413Z"
   },
   {
    "duration": 5,
    "start_time": "2022-02-13T13:19:33.143Z"
   },
   {
    "duration": 14,
    "start_time": "2022-02-13T13:19:35.494Z"
   },
   {
    "duration": 8,
    "start_time": "2022-02-13T13:19:39.834Z"
   },
   {
    "duration": 989,
    "start_time": "2022-02-13T13:20:14.402Z"
   },
   {
    "duration": 11,
    "start_time": "2022-02-13T13:20:15.393Z"
   },
   {
    "duration": 9,
    "start_time": "2022-02-13T13:20:15.406Z"
   },
   {
    "duration": 18,
    "start_time": "2022-02-13T13:20:15.417Z"
   },
   {
    "duration": 4,
    "start_time": "2022-02-13T13:20:15.437Z"
   },
   {
    "duration": 28,
    "start_time": "2022-02-13T13:20:15.443Z"
   },
   {
    "duration": 12,
    "start_time": "2022-02-13T13:20:15.473Z"
   },
   {
    "duration": 5,
    "start_time": "2022-02-13T13:20:15.487Z"
   },
   {
    "duration": 7,
    "start_time": "2022-02-13T13:20:15.494Z"
   },
   {
    "duration": 27,
    "start_time": "2022-02-13T13:20:15.503Z"
   },
   {
    "duration": 12,
    "start_time": "2022-02-13T13:20:15.532Z"
   },
   {
    "duration": 6,
    "start_time": "2022-02-13T13:20:15.546Z"
   },
   {
    "duration": 9,
    "start_time": "2022-02-13T13:20:15.554Z"
   },
   {
    "duration": 4,
    "start_time": "2022-02-13T13:20:15.564Z"
   },
   {
    "duration": 8,
    "start_time": "2022-02-13T13:20:15.569Z"
   },
   {
    "duration": 11,
    "start_time": "2022-02-13T13:20:15.579Z"
   },
   {
    "duration": 51,
    "start_time": "2022-02-13T13:20:15.591Z"
   },
   {
    "duration": 16,
    "start_time": "2022-02-13T13:20:15.643Z"
   },
   {
    "duration": 13,
    "start_time": "2022-02-13T13:20:15.660Z"
   },
   {
    "duration": 6,
    "start_time": "2022-02-13T13:20:15.674Z"
   },
   {
    "duration": 49,
    "start_time": "2022-02-13T13:20:15.682Z"
   },
   {
    "duration": 13,
    "start_time": "2022-02-13T13:20:15.732Z"
   },
   {
    "duration": 5,
    "start_time": "2022-02-13T13:20:15.748Z"
   },
   {
    "duration": 11,
    "start_time": "2022-02-13T13:20:15.755Z"
   },
   {
    "duration": 9,
    "start_time": "2022-02-13T13:20:15.767Z"
   },
   {
    "duration": 7,
    "start_time": "2022-02-13T13:20:15.778Z"
   },
   {
    "duration": 5,
    "start_time": "2022-02-13T13:20:15.787Z"
   },
   {
    "duration": 44,
    "start_time": "2022-02-13T13:20:15.794Z"
   },
   {
    "duration": 9,
    "start_time": "2022-02-13T13:20:15.840Z"
   },
   {
    "duration": 12,
    "start_time": "2022-02-13T13:20:15.850Z"
   },
   {
    "duration": 4168,
    "start_time": "2022-02-13T13:20:15.863Z"
   },
   {
    "duration": 1459,
    "start_time": "2022-02-13T13:20:42.527Z"
   },
   {
    "duration": 607,
    "start_time": "2022-02-13T13:21:43.159Z"
   },
   {
    "duration": 9,
    "start_time": "2022-02-13T13:21:43.768Z"
   },
   {
    "duration": 10,
    "start_time": "2022-02-13T13:21:43.779Z"
   },
   {
    "duration": 11,
    "start_time": "2022-02-13T13:21:43.791Z"
   },
   {
    "duration": 26,
    "start_time": "2022-02-13T13:21:43.803Z"
   },
   {
    "duration": 19,
    "start_time": "2022-02-13T13:21:43.831Z"
   },
   {
    "duration": 13,
    "start_time": "2022-02-13T13:21:43.851Z"
   },
   {
    "duration": 5,
    "start_time": "2022-02-13T13:21:43.866Z"
   },
   {
    "duration": 7,
    "start_time": "2022-02-13T13:21:43.873Z"
   },
   {
    "duration": 5,
    "start_time": "2022-02-13T13:21:43.882Z"
   },
   {
    "duration": 51,
    "start_time": "2022-02-13T13:21:43.888Z"
   },
   {
    "duration": 6,
    "start_time": "2022-02-13T13:21:43.941Z"
   },
   {
    "duration": 7,
    "start_time": "2022-02-13T13:21:43.948Z"
   },
   {
    "duration": 3,
    "start_time": "2022-02-13T13:21:43.957Z"
   },
   {
    "duration": 8,
    "start_time": "2022-02-13T13:21:43.962Z"
   },
   {
    "duration": 11,
    "start_time": "2022-02-13T13:21:43.971Z"
   },
   {
    "duration": 51,
    "start_time": "2022-02-13T13:21:43.983Z"
   },
   {
    "duration": 12,
    "start_time": "2022-02-13T13:21:44.036Z"
   },
   {
    "duration": 14,
    "start_time": "2022-02-13T13:21:44.049Z"
   },
   {
    "duration": 7,
    "start_time": "2022-02-13T13:21:44.064Z"
   },
   {
    "duration": 27,
    "start_time": "2022-02-13T13:21:44.072Z"
   },
   {
    "duration": 34,
    "start_time": "2022-02-13T13:21:44.101Z"
   },
   {
    "duration": 6,
    "start_time": "2022-02-13T13:21:44.138Z"
   },
   {
    "duration": 14,
    "start_time": "2022-02-13T13:21:44.145Z"
   },
   {
    "duration": 10,
    "start_time": "2022-02-13T13:21:44.160Z"
   },
   {
    "duration": 5,
    "start_time": "2022-02-13T13:21:48.680Z"
   },
   {
    "duration": 17,
    "start_time": "2022-02-13T13:21:55.039Z"
   },
   {
    "duration": 10,
    "start_time": "2022-02-13T13:21:58.874Z"
   },
   {
    "duration": 9,
    "start_time": "2022-02-13T13:22:04.252Z"
   },
   {
    "duration": 1675,
    "start_time": "2022-02-13T13:22:09.724Z"
   },
   {
    "duration": 384,
    "start_time": "2022-02-13T13:24:47.457Z"
   },
   {
    "duration": 686,
    "start_time": "2022-02-13T13:24:56.321Z"
   },
   {
    "duration": 9,
    "start_time": "2022-02-13T13:24:57.009Z"
   },
   {
    "duration": 15,
    "start_time": "2022-02-13T13:24:57.020Z"
   },
   {
    "duration": 22,
    "start_time": "2022-02-13T13:24:57.037Z"
   },
   {
    "duration": 8,
    "start_time": "2022-02-13T13:24:57.061Z"
   },
   {
    "duration": 18,
    "start_time": "2022-02-13T13:24:57.070Z"
   },
   {
    "duration": 12,
    "start_time": "2022-02-13T13:24:57.090Z"
   },
   {
    "duration": 22,
    "start_time": "2022-02-13T13:24:57.105Z"
   },
   {
    "duration": 8,
    "start_time": "2022-02-13T13:24:57.129Z"
   },
   {
    "duration": 7,
    "start_time": "2022-02-13T13:24:57.138Z"
   },
   {
    "duration": 13,
    "start_time": "2022-02-13T13:24:57.147Z"
   },
   {
    "duration": 6,
    "start_time": "2022-02-13T13:24:57.161Z"
   },
   {
    "duration": 6,
    "start_time": "2022-02-13T13:24:57.168Z"
   },
   {
    "duration": 5,
    "start_time": "2022-02-13T13:24:57.176Z"
   },
   {
    "duration": 9,
    "start_time": "2022-02-13T13:24:57.183Z"
   },
   {
    "duration": 43,
    "start_time": "2022-02-13T13:24:57.193Z"
   },
   {
    "duration": 17,
    "start_time": "2022-02-13T13:24:57.237Z"
   },
   {
    "duration": 12,
    "start_time": "2022-02-13T13:24:57.255Z"
   },
   {
    "duration": 13,
    "start_time": "2022-02-13T13:24:57.268Z"
   },
   {
    "duration": 6,
    "start_time": "2022-02-13T13:24:57.283Z"
   },
   {
    "duration": 49,
    "start_time": "2022-02-13T13:24:57.290Z"
   },
   {
    "duration": 14,
    "start_time": "2022-02-13T13:24:57.340Z"
   },
   {
    "duration": 6,
    "start_time": "2022-02-13T13:24:57.356Z"
   },
   {
    "duration": 10,
    "start_time": "2022-02-13T13:24:57.364Z"
   },
   {
    "duration": 6,
    "start_time": "2022-02-13T13:24:57.376Z"
   },
   {
    "duration": 10,
    "start_time": "2022-02-13T13:24:57.383Z"
   },
   {
    "duration": 4,
    "start_time": "2022-02-13T13:24:57.395Z"
   },
   {
    "duration": 39,
    "start_time": "2022-02-13T13:24:57.401Z"
   },
   {
    "duration": 9,
    "start_time": "2022-02-13T13:24:57.442Z"
   },
   {
    "duration": 10,
    "start_time": "2022-02-13T13:24:57.453Z"
   },
   {
    "duration": 1660,
    "start_time": "2022-02-13T13:25:02.548Z"
   },
   {
    "duration": 10,
    "start_time": "2022-02-13T13:28:42.222Z"
   },
   {
    "duration": 1491,
    "start_time": "2022-02-13T13:28:58.258Z"
   },
   {
    "duration": 57,
    "start_time": "2022-02-13T13:29:56.427Z"
   },
   {
    "duration": 9,
    "start_time": "2022-02-13T13:29:56.486Z"
   },
   {
    "duration": 9,
    "start_time": "2022-02-13T13:29:56.496Z"
   },
   {
    "duration": 23,
    "start_time": "2022-02-13T13:29:56.507Z"
   },
   {
    "duration": 5,
    "start_time": "2022-02-13T13:29:56.531Z"
   },
   {
    "duration": 20,
    "start_time": "2022-02-13T13:29:56.537Z"
   },
   {
    "duration": 16,
    "start_time": "2022-02-13T13:29:56.559Z"
   },
   {
    "duration": 6,
    "start_time": "2022-02-13T13:29:56.578Z"
   },
   {
    "duration": 46,
    "start_time": "2022-02-13T13:29:56.586Z"
   },
   {
    "duration": 6,
    "start_time": "2022-02-13T13:29:56.633Z"
   },
   {
    "duration": 15,
    "start_time": "2022-02-13T13:29:56.640Z"
   },
   {
    "duration": 7,
    "start_time": "2022-02-13T13:29:56.656Z"
   },
   {
    "duration": 7,
    "start_time": "2022-02-13T13:29:56.664Z"
   },
   {
    "duration": 4,
    "start_time": "2022-02-13T13:29:56.672Z"
   },
   {
    "duration": 8,
    "start_time": "2022-02-13T13:29:56.678Z"
   },
   {
    "duration": 49,
    "start_time": "2022-02-13T13:29:56.688Z"
   },
   {
    "duration": 26,
    "start_time": "2022-02-13T13:29:56.739Z"
   },
   {
    "duration": 17,
    "start_time": "2022-02-13T13:29:56.767Z"
   },
   {
    "duration": 43,
    "start_time": "2022-02-13T13:29:56.786Z"
   },
   {
    "duration": 9,
    "start_time": "2022-02-13T13:29:56.831Z"
   },
   {
    "duration": 36,
    "start_time": "2022-02-13T13:29:56.842Z"
   },
   {
    "duration": 18,
    "start_time": "2022-02-13T13:29:56.879Z"
   },
   {
    "duration": 6,
    "start_time": "2022-02-13T13:29:56.899Z"
   },
   {
    "duration": 29,
    "start_time": "2022-02-13T13:29:56.906Z"
   },
   {
    "duration": 8,
    "start_time": "2022-02-13T13:29:56.937Z"
   },
   {
    "duration": 8,
    "start_time": "2022-02-13T13:29:56.947Z"
   },
   {
    "duration": 6,
    "start_time": "2022-02-13T13:29:56.956Z"
   },
   {
    "duration": 18,
    "start_time": "2022-02-13T13:29:56.963Z"
   },
   {
    "duration": 10,
    "start_time": "2022-02-13T13:30:02.771Z"
   },
   {
    "duration": 1504,
    "start_time": "2022-02-13T13:30:05.610Z"
   },
   {
    "duration": 328,
    "start_time": "2022-02-13T13:30:33.250Z"
   },
   {
    "duration": 753,
    "start_time": "2022-02-13T13:30:44.202Z"
   },
   {
    "duration": 11,
    "start_time": "2022-02-13T13:30:44.957Z"
   },
   {
    "duration": 10,
    "start_time": "2022-02-13T13:30:44.969Z"
   },
   {
    "duration": 11,
    "start_time": "2022-02-13T13:30:44.981Z"
   },
   {
    "duration": 9,
    "start_time": "2022-02-13T13:30:44.993Z"
   },
   {
    "duration": 39,
    "start_time": "2022-02-13T13:30:45.004Z"
   },
   {
    "duration": 13,
    "start_time": "2022-02-13T13:30:45.045Z"
   },
   {
    "duration": 5,
    "start_time": "2022-02-13T13:30:45.061Z"
   },
   {
    "duration": 11,
    "start_time": "2022-02-13T13:30:45.068Z"
   },
   {
    "duration": 6,
    "start_time": "2022-02-13T13:30:45.081Z"
   },
   {
    "duration": 46,
    "start_time": "2022-02-13T13:30:45.088Z"
   },
   {
    "duration": 7,
    "start_time": "2022-02-13T13:30:45.136Z"
   },
   {
    "duration": 7,
    "start_time": "2022-02-13T13:30:45.144Z"
   },
   {
    "duration": 4,
    "start_time": "2022-02-13T13:30:45.152Z"
   },
   {
    "duration": 9,
    "start_time": "2022-02-13T13:30:45.158Z"
   },
   {
    "duration": 11,
    "start_time": "2022-02-13T13:30:45.169Z"
   },
   {
    "duration": 56,
    "start_time": "2022-02-13T13:30:45.181Z"
   },
   {
    "duration": 15,
    "start_time": "2022-02-13T13:30:45.238Z"
   },
   {
    "duration": 15,
    "start_time": "2022-02-13T13:30:45.254Z"
   },
   {
    "duration": 6,
    "start_time": "2022-02-13T13:30:45.270Z"
   },
   {
    "duration": 29,
    "start_time": "2022-02-13T13:30:45.277Z"
   },
   {
    "duration": 30,
    "start_time": "2022-02-13T13:30:45.307Z"
   },
   {
    "duration": 6,
    "start_time": "2022-02-13T13:30:45.339Z"
   },
   {
    "duration": 15,
    "start_time": "2022-02-13T13:30:45.347Z"
   },
   {
    "duration": 9,
    "start_time": "2022-02-13T13:30:45.364Z"
   },
   {
    "duration": 7,
    "start_time": "2022-02-13T13:30:45.374Z"
   },
   {
    "duration": 5,
    "start_time": "2022-02-13T13:30:45.382Z"
   },
   {
    "duration": 19,
    "start_time": "2022-02-13T13:30:47.526Z"
   },
   {
    "duration": 9,
    "start_time": "2022-02-13T13:30:54.702Z"
   },
   {
    "duration": 11,
    "start_time": "2022-02-13T13:30:56.861Z"
   },
   {
    "duration": 1586,
    "start_time": "2022-02-13T13:30:58.951Z"
   },
   {
    "duration": 693,
    "start_time": "2022-02-13T13:32:20.647Z"
   },
   {
    "duration": 10,
    "start_time": "2022-02-13T13:32:21.342Z"
   },
   {
    "duration": 10,
    "start_time": "2022-02-13T13:32:21.353Z"
   },
   {
    "duration": 13,
    "start_time": "2022-02-13T13:32:21.364Z"
   },
   {
    "duration": 8,
    "start_time": "2022-02-13T13:32:21.378Z"
   },
   {
    "duration": 43,
    "start_time": "2022-02-13T13:32:21.388Z"
   },
   {
    "duration": 13,
    "start_time": "2022-02-13T13:32:21.433Z"
   },
   {
    "duration": 5,
    "start_time": "2022-02-13T13:32:21.449Z"
   },
   {
    "duration": 8,
    "start_time": "2022-02-13T13:32:21.455Z"
   },
   {
    "duration": 5,
    "start_time": "2022-02-13T13:32:21.464Z"
   },
   {
    "duration": 16,
    "start_time": "2022-02-13T13:32:21.470Z"
   },
   {
    "duration": 7,
    "start_time": "2022-02-13T13:32:21.488Z"
   },
   {
    "duration": 6,
    "start_time": "2022-02-13T13:32:21.527Z"
   },
   {
    "duration": 3,
    "start_time": "2022-02-13T13:32:21.535Z"
   },
   {
    "duration": 9,
    "start_time": "2022-02-13T13:32:21.540Z"
   },
   {
    "duration": 11,
    "start_time": "2022-02-13T13:32:21.550Z"
   },
   {
    "duration": 16,
    "start_time": "2022-02-13T13:32:21.563Z"
   },
   {
    "duration": 11,
    "start_time": "2022-02-13T13:32:21.581Z"
   },
   {
    "duration": 45,
    "start_time": "2022-02-13T13:32:21.594Z"
   },
   {
    "duration": 7,
    "start_time": "2022-02-13T13:32:21.640Z"
   },
   {
    "duration": 23,
    "start_time": "2022-02-13T13:32:21.648Z"
   },
   {
    "duration": 12,
    "start_time": "2022-02-13T13:32:21.673Z"
   },
   {
    "duration": 6,
    "start_time": "2022-02-13T13:32:21.688Z"
   },
   {
    "duration": 37,
    "start_time": "2022-02-13T13:32:21.695Z"
   },
   {
    "duration": 9,
    "start_time": "2022-02-13T13:32:21.733Z"
   },
   {
    "duration": 8,
    "start_time": "2022-02-13T13:32:21.743Z"
   },
   {
    "duration": 5,
    "start_time": "2022-02-13T13:32:21.753Z"
   },
   {
    "duration": 17,
    "start_time": "2022-02-13T13:32:23.326Z"
   },
   {
    "duration": 10,
    "start_time": "2022-02-13T13:32:28.047Z"
   },
   {
    "duration": 10,
    "start_time": "2022-02-13T13:32:32.771Z"
   },
   {
    "duration": 3,
    "start_time": "2022-02-13T13:33:27.574Z"
   },
   {
    "duration": 3,
    "start_time": "2022-02-13T13:33:38.273Z"
   },
   {
    "duration": 3,
    "start_time": "2022-02-13T13:33:51.846Z"
   },
   {
    "duration": 4,
    "start_time": "2022-02-13T13:34:06.797Z"
   },
   {
    "duration": 4,
    "start_time": "2022-02-13T13:34:14.477Z"
   },
   {
    "duration": 7,
    "start_time": "2022-02-13T13:35:22.794Z"
   },
   {
    "duration": 872,
    "start_time": "2022-02-13T13:36:02.433Z"
   },
   {
    "duration": 9,
    "start_time": "2022-02-13T13:36:03.307Z"
   },
   {
    "duration": 29,
    "start_time": "2022-02-13T13:36:03.317Z"
   },
   {
    "duration": 14,
    "start_time": "2022-02-13T13:36:03.348Z"
   },
   {
    "duration": 4,
    "start_time": "2022-02-13T13:36:03.363Z"
   },
   {
    "duration": 27,
    "start_time": "2022-02-13T13:36:03.369Z"
   },
   {
    "duration": 13,
    "start_time": "2022-02-13T13:36:03.398Z"
   },
   {
    "duration": 5,
    "start_time": "2022-02-13T13:36:03.413Z"
   },
   {
    "duration": 27,
    "start_time": "2022-02-13T13:36:03.420Z"
   },
   {
    "duration": 10,
    "start_time": "2022-02-13T13:36:03.449Z"
   },
   {
    "duration": 22,
    "start_time": "2022-02-13T13:36:03.461Z"
   },
   {
    "duration": 10,
    "start_time": "2022-02-13T13:36:03.484Z"
   },
   {
    "duration": 15,
    "start_time": "2022-02-13T13:36:03.496Z"
   },
   {
    "duration": 8,
    "start_time": "2022-02-13T13:36:03.513Z"
   },
   {
    "duration": 18,
    "start_time": "2022-02-13T13:36:03.522Z"
   },
   {
    "duration": 14,
    "start_time": "2022-02-13T13:36:03.541Z"
   },
   {
    "duration": 22,
    "start_time": "2022-02-13T13:36:03.557Z"
   },
   {
    "duration": 15,
    "start_time": "2022-02-13T13:36:03.581Z"
   },
   {
    "duration": 21,
    "start_time": "2022-02-13T13:36:03.597Z"
   },
   {
    "duration": 8,
    "start_time": "2022-02-13T13:36:03.619Z"
   },
   {
    "duration": 28,
    "start_time": "2022-02-13T13:36:03.629Z"
   },
   {
    "duration": 14,
    "start_time": "2022-02-13T13:36:03.659Z"
   },
   {
    "duration": 10,
    "start_time": "2022-02-13T13:36:03.675Z"
   },
   {
    "duration": 12,
    "start_time": "2022-02-13T13:36:03.687Z"
   },
   {
    "duration": 29,
    "start_time": "2022-02-13T13:36:03.700Z"
   },
   {
    "duration": 9,
    "start_time": "2022-02-13T13:36:03.731Z"
   },
   {
    "duration": 7,
    "start_time": "2022-02-13T13:36:03.741Z"
   },
   {
    "duration": 16,
    "start_time": "2022-02-13T13:36:03.750Z"
   },
   {
    "duration": 12,
    "start_time": "2022-02-13T13:36:03.768Z"
   },
   {
    "duration": 16,
    "start_time": "2022-02-13T13:36:03.781Z"
   },
   {
    "duration": 19,
    "start_time": "2022-02-13T13:36:06.522Z"
   },
   {
    "duration": 18,
    "start_time": "2022-02-13T13:41:26.202Z"
   },
   {
    "duration": 15,
    "start_time": "2022-02-13T13:44:02.626Z"
   },
   {
    "duration": 18,
    "start_time": "2022-02-13T13:46:59.041Z"
   },
   {
    "duration": 15,
    "start_time": "2022-02-13T13:47:05.554Z"
   },
   {
    "duration": 14,
    "start_time": "2022-02-13T13:47:42.996Z"
   },
   {
    "duration": 20,
    "start_time": "2022-02-13T13:48:11.753Z"
   },
   {
    "duration": 19,
    "start_time": "2022-02-13T13:48:23.902Z"
   },
   {
    "duration": 405,
    "start_time": "2022-02-13T13:48:47.685Z"
   },
   {
    "duration": 333,
    "start_time": "2022-02-13T13:48:50.444Z"
   },
   {
    "duration": 358,
    "start_time": "2022-02-13T13:48:52.767Z"
   },
   {
    "duration": 16,
    "start_time": "2022-02-13T13:51:46.498Z"
   },
   {
    "duration": 380,
    "start_time": "2022-02-13T13:55:52.040Z"
   },
   {
    "duration": 361,
    "start_time": "2022-02-13T13:57:00.969Z"
   },
   {
    "duration": 368,
    "start_time": "2022-02-13T13:57:15.789Z"
   },
   {
    "duration": 688,
    "start_time": "2022-02-13T13:57:21.141Z"
   },
   {
    "duration": 16,
    "start_time": "2022-02-13T13:57:21.831Z"
   },
   {
    "duration": 10,
    "start_time": "2022-02-13T13:57:21.849Z"
   },
   {
    "duration": 14,
    "start_time": "2022-02-13T13:57:21.861Z"
   },
   {
    "duration": 5,
    "start_time": "2022-02-13T13:57:21.876Z"
   },
   {
    "duration": 21,
    "start_time": "2022-02-13T13:57:21.882Z"
   },
   {
    "duration": 28,
    "start_time": "2022-02-13T13:57:21.904Z"
   },
   {
    "duration": 16,
    "start_time": "2022-02-13T13:57:21.934Z"
   },
   {
    "duration": 37,
    "start_time": "2022-02-13T13:57:21.953Z"
   },
   {
    "duration": 4,
    "start_time": "2022-02-13T13:57:21.992Z"
   },
   {
    "duration": 14,
    "start_time": "2022-02-13T13:57:21.998Z"
   },
   {
    "duration": 6,
    "start_time": "2022-02-13T13:57:22.013Z"
   },
   {
    "duration": 13,
    "start_time": "2022-02-13T13:57:22.020Z"
   },
   {
    "duration": 6,
    "start_time": "2022-02-13T13:57:22.035Z"
   },
   {
    "duration": 10,
    "start_time": "2022-02-13T13:57:22.043Z"
   },
   {
    "duration": 13,
    "start_time": "2022-02-13T13:57:22.055Z"
   },
   {
    "duration": 17,
    "start_time": "2022-02-13T13:57:22.069Z"
   },
   {
    "duration": 13,
    "start_time": "2022-02-13T13:57:22.087Z"
   },
   {
    "duration": 23,
    "start_time": "2022-02-13T13:57:22.129Z"
   },
   {
    "duration": 7,
    "start_time": "2022-02-13T13:57:22.154Z"
   },
   {
    "duration": 27,
    "start_time": "2022-02-13T13:57:22.163Z"
   },
   {
    "duration": 15,
    "start_time": "2022-02-13T13:57:22.192Z"
   },
   {
    "duration": 7,
    "start_time": "2022-02-13T13:57:22.228Z"
   },
   {
    "duration": 14,
    "start_time": "2022-02-13T13:57:22.237Z"
   },
   {
    "duration": 13,
    "start_time": "2022-02-13T13:57:22.256Z"
   },
   {
    "duration": 7,
    "start_time": "2022-02-13T13:57:22.271Z"
   },
   {
    "duration": 4,
    "start_time": "2022-02-13T13:57:22.281Z"
   },
   {
    "duration": 16,
    "start_time": "2022-02-13T13:57:22.287Z"
   },
   {
    "duration": 35,
    "start_time": "2022-02-13T13:57:22.304Z"
   },
   {
    "duration": 10,
    "start_time": "2022-02-13T13:57:22.341Z"
   },
   {
    "duration": 18,
    "start_time": "2022-02-13T13:57:22.352Z"
   },
   {
    "duration": 20,
    "start_time": "2022-02-13T13:57:22.371Z"
   },
   {
    "duration": 13,
    "start_time": "2022-02-13T13:57:22.392Z"
   },
   {
    "duration": 14,
    "start_time": "2022-02-13T13:57:24.606Z"
   },
   {
    "duration": 707,
    "start_time": "2022-02-13T13:57:46.586Z"
   },
   {
    "duration": 10,
    "start_time": "2022-02-13T13:57:47.295Z"
   },
   {
    "duration": 10,
    "start_time": "2022-02-13T13:57:47.307Z"
   },
   {
    "duration": 16,
    "start_time": "2022-02-13T13:57:47.319Z"
   },
   {
    "duration": 5,
    "start_time": "2022-02-13T13:57:47.337Z"
   },
   {
    "duration": 32,
    "start_time": "2022-02-13T13:57:47.344Z"
   },
   {
    "duration": 6,
    "start_time": "2022-02-13T13:57:47.378Z"
   },
   {
    "duration": 5,
    "start_time": "2022-02-13T13:57:47.386Z"
   },
   {
    "duration": 44,
    "start_time": "2022-02-13T13:57:47.392Z"
   },
   {
    "duration": 9,
    "start_time": "2022-02-13T13:57:47.439Z"
   },
   {
    "duration": 17,
    "start_time": "2022-02-13T13:57:47.450Z"
   },
   {
    "duration": 7,
    "start_time": "2022-02-13T13:57:47.468Z"
   },
   {
    "duration": 8,
    "start_time": "2022-02-13T13:57:47.477Z"
   },
   {
    "duration": 4,
    "start_time": "2022-02-13T13:57:47.487Z"
   },
   {
    "duration": 39,
    "start_time": "2022-02-13T13:57:47.493Z"
   },
   {
    "duration": 14,
    "start_time": "2022-02-13T13:57:47.535Z"
   },
   {
    "duration": 17,
    "start_time": "2022-02-13T13:57:47.551Z"
   },
   {
    "duration": 15,
    "start_time": "2022-02-13T13:57:47.570Z"
   },
   {
    "duration": 48,
    "start_time": "2022-02-13T13:57:47.586Z"
   },
   {
    "duration": 10,
    "start_time": "2022-02-13T13:57:47.637Z"
   },
   {
    "duration": 26,
    "start_time": "2022-02-13T13:57:47.648Z"
   },
   {
    "duration": 15,
    "start_time": "2022-02-13T13:57:47.675Z"
   },
   {
    "duration": 6,
    "start_time": "2022-02-13T13:57:47.692Z"
   },
   {
    "duration": 32,
    "start_time": "2022-02-13T13:57:47.700Z"
   },
   {
    "duration": 22,
    "start_time": "2022-02-13T13:57:47.734Z"
   },
   {
    "duration": 8,
    "start_time": "2022-02-13T13:57:47.758Z"
   },
   {
    "duration": 7,
    "start_time": "2022-02-13T13:57:47.767Z"
   },
   {
    "duration": 19,
    "start_time": "2022-02-13T13:57:47.776Z"
   },
   {
    "duration": 9,
    "start_time": "2022-02-13T13:57:47.797Z"
   },
   {
    "duration": 9,
    "start_time": "2022-02-13T13:57:47.808Z"
   },
   {
    "duration": 36,
    "start_time": "2022-02-13T13:57:47.818Z"
   },
   {
    "duration": 16,
    "start_time": "2022-02-13T13:57:47.855Z"
   },
   {
    "duration": 14,
    "start_time": "2022-02-13T13:57:47.872Z"
   },
   {
    "duration": 702,
    "start_time": "2022-02-13T13:59:47.597Z"
   },
   {
    "duration": 10,
    "start_time": "2022-02-13T13:59:48.300Z"
   },
   {
    "duration": 13,
    "start_time": "2022-02-13T13:59:48.312Z"
   },
   {
    "duration": 23,
    "start_time": "2022-02-13T13:59:48.327Z"
   },
   {
    "duration": 13,
    "start_time": "2022-02-13T13:59:48.352Z"
   },
   {
    "duration": 18,
    "start_time": "2022-02-13T13:59:48.366Z"
   },
   {
    "duration": 7,
    "start_time": "2022-02-13T13:59:48.386Z"
   },
   {
    "duration": 6,
    "start_time": "2022-02-13T13:59:48.394Z"
   },
   {
    "duration": 28,
    "start_time": "2022-02-13T13:59:48.403Z"
   },
   {
    "duration": 7,
    "start_time": "2022-02-13T13:59:48.434Z"
   },
   {
    "duration": 14,
    "start_time": "2022-02-13T13:59:48.442Z"
   },
   {
    "duration": 8,
    "start_time": "2022-02-13T13:59:48.457Z"
   },
   {
    "duration": 7,
    "start_time": "2022-02-13T13:59:48.466Z"
   },
   {
    "duration": 4,
    "start_time": "2022-02-13T13:59:48.474Z"
   },
   {
    "duration": 13,
    "start_time": "2022-02-13T13:59:48.480Z"
   },
   {
    "duration": 50,
    "start_time": "2022-02-13T13:59:48.494Z"
   },
   {
    "duration": 17,
    "start_time": "2022-02-13T13:59:48.546Z"
   },
   {
    "duration": 14,
    "start_time": "2022-02-13T13:59:48.565Z"
   },
   {
    "duration": 18,
    "start_time": "2022-02-13T13:59:48.580Z"
   },
   {
    "duration": 9,
    "start_time": "2022-02-13T13:59:48.600Z"
   },
   {
    "duration": 38,
    "start_time": "2022-02-13T13:59:48.610Z"
   },
   {
    "duration": 19,
    "start_time": "2022-02-13T13:59:48.650Z"
   },
   {
    "duration": 6,
    "start_time": "2022-02-13T13:59:48.671Z"
   },
   {
    "duration": 12,
    "start_time": "2022-02-13T13:59:48.678Z"
   },
   {
    "duration": 7,
    "start_time": "2022-02-13T13:59:48.691Z"
   },
   {
    "duration": 8,
    "start_time": "2022-02-13T13:59:48.699Z"
   },
   {
    "duration": 12,
    "start_time": "2022-02-13T13:59:48.710Z"
   },
   {
    "duration": 33,
    "start_time": "2022-02-13T13:59:48.723Z"
   },
   {
    "duration": 10,
    "start_time": "2022-02-13T13:59:48.758Z"
   },
   {
    "duration": 11,
    "start_time": "2022-02-13T13:59:48.769Z"
   },
   {
    "duration": 22,
    "start_time": "2022-02-13T13:59:48.781Z"
   },
   {
    "duration": 15,
    "start_time": "2022-02-13T13:59:48.804Z"
   },
   {
    "duration": 17,
    "start_time": "2022-02-13T13:59:52.118Z"
   },
   {
    "duration": 736,
    "start_time": "2022-02-13T14:01:41.714Z"
   },
   {
    "duration": 9,
    "start_time": "2022-02-13T14:01:42.451Z"
   },
   {
    "duration": 13,
    "start_time": "2022-02-13T14:01:42.463Z"
   },
   {
    "duration": 10,
    "start_time": "2022-02-13T14:01:42.478Z"
   },
   {
    "duration": 6,
    "start_time": "2022-02-13T14:01:42.490Z"
   },
   {
    "duration": 41,
    "start_time": "2022-02-13T14:01:42.498Z"
   },
   {
    "duration": 7,
    "start_time": "2022-02-13T14:01:42.541Z"
   },
   {
    "duration": 7,
    "start_time": "2022-02-13T14:01:42.550Z"
   },
   {
    "duration": 14,
    "start_time": "2022-02-13T14:01:42.558Z"
   },
   {
    "duration": 6,
    "start_time": "2022-02-13T14:01:42.573Z"
   },
   {
    "duration": 13,
    "start_time": "2022-02-13T14:01:42.580Z"
   },
   {
    "duration": 44,
    "start_time": "2022-02-13T14:01:42.595Z"
   },
   {
    "duration": 7,
    "start_time": "2022-02-13T14:01:42.641Z"
   },
   {
    "duration": 4,
    "start_time": "2022-02-13T14:01:42.649Z"
   },
   {
    "duration": 10,
    "start_time": "2022-02-13T14:01:42.654Z"
   },
   {
    "duration": 10,
    "start_time": "2022-02-13T14:01:42.665Z"
   },
   {
    "duration": 17,
    "start_time": "2022-02-13T14:01:42.677Z"
   },
   {
    "duration": 45,
    "start_time": "2022-02-13T14:01:42.695Z"
   },
   {
    "duration": 16,
    "start_time": "2022-02-13T14:01:42.741Z"
   },
   {
    "duration": 6,
    "start_time": "2022-02-13T14:01:42.758Z"
   },
   {
    "duration": 23,
    "start_time": "2022-02-13T14:01:42.766Z"
   },
   {
    "duration": 39,
    "start_time": "2022-02-13T14:01:42.791Z"
   },
   {
    "duration": 6,
    "start_time": "2022-02-13T14:01:42.832Z"
   },
   {
    "duration": 13,
    "start_time": "2022-02-13T14:01:42.840Z"
   },
   {
    "duration": 9,
    "start_time": "2022-02-13T14:01:42.855Z"
   },
   {
    "duration": 8,
    "start_time": "2022-02-13T14:01:42.865Z"
   },
   {
    "duration": 6,
    "start_time": "2022-02-13T14:01:42.875Z"
   },
   {
    "duration": 46,
    "start_time": "2022-02-13T14:01:42.883Z"
   },
   {
    "duration": 9,
    "start_time": "2022-02-13T14:01:42.930Z"
   },
   {
    "duration": 15,
    "start_time": "2022-02-13T14:01:42.941Z"
   },
   {
    "duration": 19,
    "start_time": "2022-02-13T14:01:42.957Z"
   },
   {
    "duration": 17,
    "start_time": "2022-02-13T14:01:42.978Z"
   },
   {
    "duration": 678,
    "start_time": "2022-02-13T14:02:36.152Z"
   },
   {
    "duration": 9,
    "start_time": "2022-02-13T14:02:36.832Z"
   },
   {
    "duration": 10,
    "start_time": "2022-02-13T14:02:36.843Z"
   },
   {
    "duration": 11,
    "start_time": "2022-02-13T14:02:36.855Z"
   },
   {
    "duration": 6,
    "start_time": "2022-02-13T14:02:36.867Z"
   },
   {
    "duration": 54,
    "start_time": "2022-02-13T14:02:36.874Z"
   },
   {
    "duration": 8,
    "start_time": "2022-02-13T14:02:36.929Z"
   },
   {
    "duration": 8,
    "start_time": "2022-02-13T14:02:36.939Z"
   },
   {
    "duration": 13,
    "start_time": "2022-02-13T14:02:36.949Z"
   },
   {
    "duration": 9,
    "start_time": "2022-02-13T14:02:36.964Z"
   },
   {
    "duration": 13,
    "start_time": "2022-02-13T14:02:36.975Z"
   },
   {
    "duration": 7,
    "start_time": "2022-02-13T14:02:36.989Z"
   },
   {
    "duration": 33,
    "start_time": "2022-02-13T14:02:36.997Z"
   },
   {
    "duration": 7,
    "start_time": "2022-02-13T14:02:37.031Z"
   },
   {
    "duration": 12,
    "start_time": "2022-02-13T14:02:37.039Z"
   },
   {
    "duration": 12,
    "start_time": "2022-02-13T14:02:37.053Z"
   },
   {
    "duration": 18,
    "start_time": "2022-02-13T14:02:37.067Z"
   },
   {
    "duration": 41,
    "start_time": "2022-02-13T14:02:37.086Z"
   },
   {
    "duration": 16,
    "start_time": "2022-02-13T14:02:37.129Z"
   },
   {
    "duration": 6,
    "start_time": "2022-02-13T14:02:37.147Z"
   },
   {
    "duration": 26,
    "start_time": "2022-02-13T14:02:37.154Z"
   },
   {
    "duration": 15,
    "start_time": "2022-02-13T14:02:37.182Z"
   },
   {
    "duration": 28,
    "start_time": "2022-02-13T14:02:37.199Z"
   },
   {
    "duration": 10,
    "start_time": "2022-02-13T14:02:37.229Z"
   },
   {
    "duration": 8,
    "start_time": "2022-02-13T14:02:37.241Z"
   },
   {
    "duration": 7,
    "start_time": "2022-02-13T14:02:37.250Z"
   },
   {
    "duration": 4,
    "start_time": "2022-02-13T14:02:37.260Z"
   },
   {
    "duration": 18,
    "start_time": "2022-02-13T14:02:37.266Z"
   },
   {
    "duration": 8,
    "start_time": "2022-02-13T14:02:37.286Z"
   },
   {
    "duration": 38,
    "start_time": "2022-02-13T14:02:37.295Z"
   },
   {
    "duration": 22,
    "start_time": "2022-02-13T14:02:37.334Z"
   },
   {
    "duration": 17,
    "start_time": "2022-02-13T14:02:37.358Z"
   },
   {
    "duration": 360,
    "start_time": "2022-02-13T14:03:33.390Z"
   },
   {
    "duration": 660,
    "start_time": "2022-02-13T14:03:52.800Z"
   },
   {
    "duration": 17,
    "start_time": "2022-02-13T14:03:53.463Z"
   },
   {
    "duration": 13,
    "start_time": "2022-02-13T14:03:53.482Z"
   },
   {
    "duration": 10,
    "start_time": "2022-02-13T14:03:53.497Z"
   },
   {
    "duration": 19,
    "start_time": "2022-02-13T14:03:53.509Z"
   },
   {
    "duration": 29,
    "start_time": "2022-02-13T14:03:53.530Z"
   },
   {
    "duration": 17,
    "start_time": "2022-02-13T14:03:53.561Z"
   },
   {
    "duration": 19,
    "start_time": "2022-02-13T14:03:53.580Z"
   },
   {
    "duration": 18,
    "start_time": "2022-02-13T14:03:53.601Z"
   },
   {
    "duration": 6,
    "start_time": "2022-02-13T14:03:53.621Z"
   },
   {
    "duration": 19,
    "start_time": "2022-02-13T14:03:53.629Z"
   },
   {
    "duration": 6,
    "start_time": "2022-02-13T14:03:53.650Z"
   },
   {
    "duration": 13,
    "start_time": "2022-02-13T14:03:53.657Z"
   },
   {
    "duration": 20,
    "start_time": "2022-02-13T14:03:53.671Z"
   },
   {
    "duration": 16,
    "start_time": "2022-02-13T14:03:53.692Z"
   },
   {
    "duration": 10,
    "start_time": "2022-02-13T14:03:53.710Z"
   },
   {
    "duration": 17,
    "start_time": "2022-02-13T14:03:53.721Z"
   },
   {
    "duration": 17,
    "start_time": "2022-02-13T14:03:53.740Z"
   },
   {
    "duration": 16,
    "start_time": "2022-02-13T14:03:53.758Z"
   },
   {
    "duration": 10,
    "start_time": "2022-02-13T14:03:53.776Z"
   },
   {
    "duration": 50,
    "start_time": "2022-02-13T14:03:53.788Z"
   },
   {
    "duration": 21,
    "start_time": "2022-02-13T14:03:53.840Z"
   },
   {
    "duration": 7,
    "start_time": "2022-02-13T14:03:53.862Z"
   },
   {
    "duration": 13,
    "start_time": "2022-02-13T14:03:53.870Z"
   },
   {
    "duration": 9,
    "start_time": "2022-02-13T14:03:53.884Z"
   },
   {
    "duration": 9,
    "start_time": "2022-02-13T14:03:53.894Z"
   },
   {
    "duration": 25,
    "start_time": "2022-02-13T14:03:53.905Z"
   },
   {
    "duration": 17,
    "start_time": "2022-02-13T14:03:53.932Z"
   },
   {
    "duration": 9,
    "start_time": "2022-02-13T14:03:53.950Z"
   },
   {
    "duration": 13,
    "start_time": "2022-02-13T14:03:53.960Z"
   },
   {
    "duration": 18,
    "start_time": "2022-02-13T14:03:53.975Z"
   },
   {
    "duration": 42,
    "start_time": "2022-02-13T14:03:53.994Z"
   },
   {
    "duration": 15,
    "start_time": "2022-02-13T14:03:55.402Z"
   },
   {
    "duration": 8,
    "start_time": "2022-02-13T14:11:40.611Z"
   },
   {
    "duration": 10,
    "start_time": "2022-02-13T14:12:20.140Z"
   },
   {
    "duration": 14,
    "start_time": "2022-02-13T14:15:14.251Z"
   },
   {
    "duration": 15,
    "start_time": "2022-02-13T14:15:40.822Z"
   },
   {
    "duration": 619,
    "start_time": "2022-02-13T14:19:31.069Z"
   },
   {
    "duration": 10,
    "start_time": "2022-02-13T14:19:31.689Z"
   },
   {
    "duration": 12,
    "start_time": "2022-02-13T14:19:31.701Z"
   },
   {
    "duration": 13,
    "start_time": "2022-02-13T14:19:31.715Z"
   },
   {
    "duration": 5,
    "start_time": "2022-02-13T14:19:31.729Z"
   },
   {
    "duration": 21,
    "start_time": "2022-02-13T14:19:31.735Z"
   },
   {
    "duration": 7,
    "start_time": "2022-02-13T14:19:40.691Z"
   },
   {
    "duration": 12,
    "start_time": "2022-02-13T14:20:21.913Z"
   },
   {
    "duration": 6,
    "start_time": "2022-02-13T14:22:33.704Z"
   },
   {
    "duration": 8,
    "start_time": "2022-02-13T14:22:36.336Z"
   },
   {
    "duration": 6,
    "start_time": "2022-02-13T14:22:39.895Z"
   },
   {
    "duration": 12,
    "start_time": "2022-02-13T14:22:42.178Z"
   },
   {
    "duration": 8,
    "start_time": "2022-02-13T14:22:58.885Z"
   },
   {
    "duration": 9,
    "start_time": "2022-02-13T14:23:58.281Z"
   },
   {
    "duration": 788,
    "start_time": "2022-02-13T14:24:11.654Z"
   },
   {
    "duration": 9,
    "start_time": "2022-02-13T14:24:12.444Z"
   },
   {
    "duration": 12,
    "start_time": "2022-02-13T14:24:12.455Z"
   },
   {
    "duration": 16,
    "start_time": "2022-02-13T14:24:12.469Z"
   },
   {
    "duration": 6,
    "start_time": "2022-02-13T14:24:12.487Z"
   },
   {
    "duration": 55,
    "start_time": "2022-02-13T14:24:12.495Z"
   },
   {
    "duration": 10,
    "start_time": "2022-02-13T14:24:13.744Z"
   },
   {
    "duration": 10,
    "start_time": "2022-02-13T14:24:19.253Z"
   },
   {
    "duration": 60,
    "start_time": "2022-02-13T14:24:25.894Z"
   },
   {
    "duration": 9,
    "start_time": "2022-02-13T14:24:25.955Z"
   },
   {
    "duration": 10,
    "start_time": "2022-02-13T14:24:25.966Z"
   },
   {
    "duration": 11,
    "start_time": "2022-02-13T14:24:25.978Z"
   },
   {
    "duration": 4,
    "start_time": "2022-02-13T14:24:25.991Z"
   },
   {
    "duration": 48,
    "start_time": "2022-02-13T14:24:25.997Z"
   },
   {
    "duration": 7,
    "start_time": "2022-02-13T14:24:26.046Z"
   },
   {
    "duration": 6,
    "start_time": "2022-02-13T14:24:26.056Z"
   },
   {
    "duration": 10,
    "start_time": "2022-02-13T14:24:26.064Z"
   },
   {
    "duration": 6,
    "start_time": "2022-02-13T14:24:26.076Z"
   },
   {
    "duration": 54,
    "start_time": "2022-02-13T14:24:26.084Z"
   },
   {
    "duration": 8,
    "start_time": "2022-02-13T14:24:26.140Z"
   },
   {
    "duration": 11,
    "start_time": "2022-02-13T14:24:26.150Z"
   },
   {
    "duration": 4,
    "start_time": "2022-02-13T14:24:26.163Z"
   },
   {
    "duration": 11,
    "start_time": "2022-02-13T14:24:26.168Z"
   },
   {
    "duration": 11,
    "start_time": "2022-02-13T14:24:26.180Z"
   },
   {
    "duration": 46,
    "start_time": "2022-02-13T14:24:26.192Z"
   },
   {
    "duration": 15,
    "start_time": "2022-02-13T14:24:26.240Z"
   },
   {
    "duration": 14,
    "start_time": "2022-02-13T14:24:26.257Z"
   },
   {
    "duration": 6,
    "start_time": "2022-02-13T14:24:26.272Z"
   },
   {
    "duration": 48,
    "start_time": "2022-02-13T14:24:26.280Z"
   },
   {
    "duration": 15,
    "start_time": "2022-02-13T14:24:26.330Z"
   },
   {
    "duration": 6,
    "start_time": "2022-02-13T14:24:26.348Z"
   },
   {
    "duration": 13,
    "start_time": "2022-02-13T14:24:26.355Z"
   },
   {
    "duration": 9,
    "start_time": "2022-02-13T14:24:26.369Z"
   },
   {
    "duration": 8,
    "start_time": "2022-02-13T14:24:26.379Z"
   },
   {
    "duration": 7,
    "start_time": "2022-02-13T14:24:26.388Z"
   },
   {
    "duration": 43,
    "start_time": "2022-02-13T14:24:26.396Z"
   },
   {
    "duration": 21,
    "start_time": "2022-02-13T14:24:26.440Z"
   },
   {
    "duration": 15,
    "start_time": "2022-02-13T14:24:26.462Z"
   },
   {
    "duration": 18,
    "start_time": "2022-02-13T14:24:26.478Z"
   },
   {
    "duration": 16,
    "start_time": "2022-02-13T14:24:26.497Z"
   },
   {
    "duration": 18,
    "start_time": "2022-02-13T14:24:28.212Z"
   },
   {
    "duration": 109,
    "start_time": "2022-02-13T14:41:30.380Z"
   },
   {
    "duration": 8671,
    "start_time": "2022-02-13T14:41:36.358Z"
   },
   {
    "duration": 8509,
    "start_time": "2022-02-13T14:41:55.782Z"
   },
   {
    "duration": 11,
    "start_time": "2022-02-13T14:42:48.057Z"
   },
   {
    "duration": 4,
    "start_time": "2022-02-13T14:43:10.429Z"
   },
   {
    "duration": 4,
    "start_time": "2022-02-13T14:43:15.884Z"
   },
   {
    "duration": 8,
    "start_time": "2022-02-13T14:43:23.748Z"
   },
   {
    "duration": 6,
    "start_time": "2022-02-13T14:43:45.128Z"
   },
   {
    "duration": 21,
    "start_time": "2022-02-13T14:43:59.545Z"
   },
   {
    "duration": 327,
    "start_time": "2022-02-13T14:52:41.069Z"
   },
   {
    "duration": 18,
    "start_time": "2022-02-13T14:53:00.675Z"
   },
   {
    "duration": 21,
    "start_time": "2022-02-13T14:53:16.442Z"
   },
   {
    "duration": 21,
    "start_time": "2022-02-13T14:54:37.436Z"
   },
   {
    "duration": 15,
    "start_time": "2022-02-13T14:55:20.484Z"
   },
   {
    "duration": 17,
    "start_time": "2022-02-13T15:04:26.779Z"
   },
   {
    "duration": 349,
    "start_time": "2022-02-13T15:04:41.026Z"
   },
   {
    "duration": 19,
    "start_time": "2022-02-13T15:04:52.046Z"
   },
   {
    "duration": 19,
    "start_time": "2022-02-13T15:05:13.868Z"
   },
   {
    "duration": 21,
    "start_time": "2022-02-13T15:05:23.029Z"
   },
   {
    "duration": 20,
    "start_time": "2022-02-13T15:08:05.112Z"
   },
   {
    "duration": 21,
    "start_time": "2022-02-13T15:09:24.756Z"
   },
   {
    "duration": 25,
    "start_time": "2022-02-13T15:12:51.477Z"
   },
   {
    "duration": 18,
    "start_time": "2022-02-13T15:15:59.344Z"
   },
   {
    "duration": 16,
    "start_time": "2022-02-13T15:16:07.059Z"
   },
   {
    "duration": 6786,
    "start_time": "2022-02-13T15:17:43.709Z"
   },
   {
    "duration": -20734,
    "start_time": "2022-02-13T15:18:37.799Z"
   },
   {
    "duration": 6345,
    "start_time": "2022-02-13T15:18:28.354Z"
   },
   {
    "duration": 4,
    "start_time": "2022-02-13T15:19:05.658Z"
   },
   {
    "duration": 12617,
    "start_time": "2022-02-13T15:19:19.440Z"
   },
   {
    "duration": 7,
    "start_time": "2022-02-13T15:19:49.986Z"
   },
   {
    "duration": 5,
    "start_time": "2022-02-13T15:19:52.008Z"
   },
   {
    "duration": 7070,
    "start_time": "2022-02-13T15:20:43.945Z"
   },
   {
    "duration": 8,
    "start_time": "2022-02-13T15:21:04.637Z"
   },
   {
    "duration": 8712,
    "start_time": "2022-02-13T15:21:47.136Z"
   },
   {
    "duration": 4,
    "start_time": "2022-02-13T15:22:52.501Z"
   },
   {
    "duration": 4,
    "start_time": "2022-02-13T15:23:01.612Z"
   },
   {
    "duration": 4,
    "start_time": "2022-02-13T15:24:13.405Z"
   },
   {
    "duration": 5,
    "start_time": "2022-02-13T15:25:07.929Z"
   },
   {
    "duration": 4,
    "start_time": "2022-02-13T15:25:14.605Z"
   },
   {
    "duration": 7,
    "start_time": "2022-02-13T15:27:28.773Z"
   },
   {
    "duration": 7,
    "start_time": "2022-02-13T15:28:07.949Z"
   },
   {
    "duration": 5,
    "start_time": "2022-02-13T15:31:28.148Z"
   },
   {
    "duration": 77,
    "start_time": "2022-02-13T15:44:24.725Z"
   },
   {
    "duration": 28,
    "start_time": "2022-02-13T15:44:24.805Z"
   },
   {
    "duration": 16,
    "start_time": "2022-02-13T15:44:24.836Z"
   },
   {
    "duration": 16,
    "start_time": "2022-02-13T15:44:24.854Z"
   },
   {
    "duration": 4,
    "start_time": "2022-02-13T15:44:24.872Z"
   },
   {
    "duration": 50,
    "start_time": "2022-02-13T15:44:24.878Z"
   },
   {
    "duration": 7,
    "start_time": "2022-02-13T15:44:24.930Z"
   },
   {
    "duration": 7,
    "start_time": "2022-02-13T15:44:24.941Z"
   },
   {
    "duration": 18,
    "start_time": "2022-02-13T15:44:24.951Z"
   },
   {
    "duration": 4,
    "start_time": "2022-02-13T15:44:24.971Z"
   },
   {
    "duration": 13,
    "start_time": "2022-02-13T15:44:24.977Z"
   },
   {
    "duration": 6,
    "start_time": "2022-02-13T15:44:24.991Z"
   },
   {
    "duration": 34,
    "start_time": "2022-02-13T15:44:24.998Z"
   },
   {
    "duration": 6,
    "start_time": "2022-02-13T15:44:25.034Z"
   },
   {
    "duration": 16,
    "start_time": "2022-02-13T15:44:25.041Z"
   },
   {
    "duration": 13,
    "start_time": "2022-02-13T15:44:25.058Z"
   },
   {
    "duration": 20,
    "start_time": "2022-02-13T15:44:25.073Z"
   },
   {
    "duration": 51,
    "start_time": "2022-02-13T15:44:25.094Z"
   },
   {
    "duration": 22,
    "start_time": "2022-02-13T15:44:25.148Z"
   },
   {
    "duration": 9,
    "start_time": "2022-02-13T15:44:25.172Z"
   },
   {
    "duration": 61,
    "start_time": "2022-02-13T15:44:25.183Z"
   },
   {
    "duration": 21,
    "start_time": "2022-02-13T15:44:25.246Z"
   },
   {
    "duration": 6,
    "start_time": "2022-02-13T15:44:25.269Z"
   },
   {
    "duration": 12,
    "start_time": "2022-02-13T15:44:25.277Z"
   },
   {
    "duration": 5,
    "start_time": "2022-02-13T15:44:25.291Z"
   },
   {
    "duration": 9,
    "start_time": "2022-02-13T15:44:25.298Z"
   },
   {
    "duration": 13,
    "start_time": "2022-02-13T15:44:25.327Z"
   },
   {
    "duration": 20,
    "start_time": "2022-02-13T15:44:25.342Z"
   },
   {
    "duration": 10,
    "start_time": "2022-02-13T15:44:25.364Z"
   },
   {
    "duration": 10,
    "start_time": "2022-02-13T15:44:25.375Z"
   },
   {
    "duration": 12,
    "start_time": "2022-02-13T15:44:25.387Z"
   },
   {
    "duration": 37,
    "start_time": "2022-02-13T15:44:25.401Z"
   },
   {
    "duration": 23,
    "start_time": "2022-02-13T15:44:25.440Z"
   },
   {
    "duration": 5,
    "start_time": "2022-02-13T15:44:25.464Z"
   },
   {
    "duration": 23,
    "start_time": "2022-02-13T15:44:29.252Z"
   },
   {
    "duration": 677,
    "start_time": "2022-02-13T15:45:17.545Z"
   },
   {
    "duration": 12,
    "start_time": "2022-02-13T15:45:18.224Z"
   },
   {
    "duration": 34,
    "start_time": "2022-02-13T15:45:18.238Z"
   },
   {
    "duration": 29,
    "start_time": "2022-02-13T15:45:18.274Z"
   },
   {
    "duration": 13,
    "start_time": "2022-02-13T15:45:18.306Z"
   },
   {
    "duration": 43,
    "start_time": "2022-02-13T15:45:18.321Z"
   },
   {
    "duration": 10,
    "start_time": "2022-02-13T15:45:18.367Z"
   },
   {
    "duration": 9,
    "start_time": "2022-02-13T15:45:18.380Z"
   },
   {
    "duration": 25,
    "start_time": "2022-02-13T15:45:18.391Z"
   },
   {
    "duration": 10,
    "start_time": "2022-02-13T15:45:18.418Z"
   },
   {
    "duration": 44,
    "start_time": "2022-02-13T15:45:18.431Z"
   },
   {
    "duration": 19,
    "start_time": "2022-02-13T15:45:18.477Z"
   },
   {
    "duration": 14,
    "start_time": "2022-02-13T15:45:18.498Z"
   },
   {
    "duration": 14,
    "start_time": "2022-02-13T15:45:18.514Z"
   },
   {
    "duration": 26,
    "start_time": "2022-02-13T15:45:18.530Z"
   },
   {
    "duration": 25,
    "start_time": "2022-02-13T15:45:18.559Z"
   },
   {
    "duration": 24,
    "start_time": "2022-02-13T15:45:18.586Z"
   },
   {
    "duration": 19,
    "start_time": "2022-02-13T15:45:18.612Z"
   },
   {
    "duration": 19,
    "start_time": "2022-02-13T15:45:18.633Z"
   },
   {
    "duration": 17,
    "start_time": "2022-02-13T15:45:18.655Z"
   },
   {
    "duration": 39,
    "start_time": "2022-02-13T15:45:18.674Z"
   },
   {
    "duration": 16,
    "start_time": "2022-02-13T15:45:18.715Z"
   },
   {
    "duration": 7,
    "start_time": "2022-02-13T15:45:18.736Z"
   },
   {
    "duration": 26,
    "start_time": "2022-02-13T15:45:18.746Z"
   },
   {
    "duration": 16,
    "start_time": "2022-02-13T15:45:18.774Z"
   },
   {
    "duration": 27,
    "start_time": "2022-02-13T15:45:18.791Z"
   },
   {
    "duration": 36,
    "start_time": "2022-02-13T15:45:18.820Z"
   },
   {
    "duration": 26,
    "start_time": "2022-02-13T15:45:18.860Z"
   },
   {
    "duration": 25,
    "start_time": "2022-02-13T15:45:18.889Z"
   },
   {
    "duration": 17,
    "start_time": "2022-02-13T15:45:18.915Z"
   },
   {
    "duration": 20,
    "start_time": "2022-02-13T15:45:18.934Z"
   },
   {
    "duration": 31,
    "start_time": "2022-02-13T15:45:18.957Z"
   },
   {
    "duration": 33,
    "start_time": "2022-02-13T15:45:18.990Z"
   },
   {
    "duration": 11,
    "start_time": "2022-02-13T15:45:19.025Z"
   },
   {
    "duration": 56,
    "start_time": "2022-02-13T15:45:19.038Z"
   },
   {
    "duration": 8,
    "start_time": "2022-02-13T15:45:19.096Z"
   },
   {
    "duration": 33,
    "start_time": "2022-02-13T15:45:19.105Z"
   },
   {
    "duration": 19,
    "start_time": "2022-02-13T15:45:30.175Z"
   },
   {
    "duration": 6,
    "start_time": "2022-02-13T15:47:33.430Z"
   },
   {
    "duration": 29,
    "start_time": "2022-02-13T15:48:39.618Z"
   },
   {
    "duration": 21,
    "start_time": "2022-02-13T15:48:49.777Z"
   },
   {
    "duration": 5,
    "start_time": "2022-02-13T15:58:19.107Z"
   },
   {
    "duration": 104,
    "start_time": "2022-02-13T16:19:05.582Z"
   },
   {
    "duration": 119,
    "start_time": "2022-02-13T16:19:13.973Z"
   },
   {
    "duration": 2,
    "start_time": "2022-02-13T16:19:18.510Z"
   },
   {
    "duration": 4,
    "start_time": "2022-02-13T16:19:29.285Z"
   },
   {
    "duration": 15,
    "start_time": "2022-02-13T16:20:48.089Z"
   },
   {
    "duration": 390,
    "start_time": "2022-02-13T16:21:51.748Z"
   },
   {
    "duration": 15,
    "start_time": "2022-02-13T16:22:45.859Z"
   },
   {
    "duration": 16,
    "start_time": "2022-02-13T16:22:51.464Z"
   },
   {
    "duration": 5,
    "start_time": "2022-02-13T16:36:03.485Z"
   },
   {
    "duration": 791,
    "start_time": "2022-02-13T16:36:14.797Z"
   },
   {
    "duration": 9,
    "start_time": "2022-02-13T16:36:15.590Z"
   },
   {
    "duration": 10,
    "start_time": "2022-02-13T16:36:15.601Z"
   },
   {
    "duration": 33,
    "start_time": "2022-02-13T16:36:15.613Z"
   },
   {
    "duration": 13,
    "start_time": "2022-02-13T16:36:15.648Z"
   },
   {
    "duration": 22,
    "start_time": "2022-02-13T16:36:15.663Z"
   },
   {
    "duration": 11,
    "start_time": "2022-02-13T16:36:15.687Z"
   },
   {
    "duration": 12,
    "start_time": "2022-02-13T16:36:15.701Z"
   },
   {
    "duration": 23,
    "start_time": "2022-02-13T16:36:15.715Z"
   },
   {
    "duration": 6,
    "start_time": "2022-02-13T16:36:20.295Z"
   },
   {
    "duration": 82,
    "start_time": "2022-02-13T16:42:35.606Z"
   },
   {
    "duration": 11,
    "start_time": "2022-02-13T16:42:35.690Z"
   },
   {
    "duration": 29,
    "start_time": "2022-02-13T16:42:35.703Z"
   },
   {
    "duration": 18,
    "start_time": "2022-02-13T16:42:35.734Z"
   },
   {
    "duration": 7,
    "start_time": "2022-02-13T16:42:35.753Z"
   },
   {
    "duration": 30,
    "start_time": "2022-02-13T16:42:35.762Z"
   },
   {
    "duration": 7,
    "start_time": "2022-02-13T16:42:35.794Z"
   },
   {
    "duration": 6,
    "start_time": "2022-02-13T16:42:35.829Z"
   },
   {
    "duration": 30,
    "start_time": "2022-02-13T16:42:35.837Z"
   },
   {
    "duration": 5,
    "start_time": "2022-02-13T16:42:35.869Z"
   },
   {
    "duration": 12,
    "start_time": "2022-02-13T16:42:35.875Z"
   },
   {
    "duration": 6,
    "start_time": "2022-02-13T16:42:35.889Z"
   },
   {
    "duration": 9,
    "start_time": "2022-02-13T16:42:35.896Z"
   },
   {
    "duration": 21,
    "start_time": "2022-02-13T16:42:35.906Z"
   },
   {
    "duration": 13,
    "start_time": "2022-02-13T16:42:35.929Z"
   },
   {
    "duration": 26,
    "start_time": "2022-02-13T16:42:35.944Z"
   },
   {
    "duration": 19,
    "start_time": "2022-02-13T16:42:35.972Z"
   },
   {
    "duration": 15,
    "start_time": "2022-02-13T16:42:41.780Z"
   },
   {
    "duration": 4,
    "start_time": "2022-02-13T16:56:33.944Z"
   },
   {
    "duration": 4,
    "start_time": "2022-02-13T16:56:42.914Z"
   },
   {
    "duration": 466,
    "start_time": "2022-02-13T16:57:00.406Z"
   },
   {
    "duration": 73,
    "start_time": "2022-02-13T16:57:14.308Z"
   },
   {
    "duration": 9,
    "start_time": "2022-02-13T16:57:14.382Z"
   },
   {
    "duration": 37,
    "start_time": "2022-02-13T16:57:14.393Z"
   },
   {
    "duration": 17,
    "start_time": "2022-02-13T16:57:14.432Z"
   },
   {
    "duration": 8,
    "start_time": "2022-02-13T16:57:14.452Z"
   },
   {
    "duration": 21,
    "start_time": "2022-02-13T16:57:14.461Z"
   },
   {
    "duration": 8,
    "start_time": "2022-02-13T16:57:14.484Z"
   },
   {
    "duration": 6,
    "start_time": "2022-02-13T16:57:14.528Z"
   },
   {
    "duration": 18,
    "start_time": "2022-02-13T16:57:14.537Z"
   },
   {
    "duration": 7,
    "start_time": "2022-02-13T16:57:14.556Z"
   },
   {
    "duration": 15,
    "start_time": "2022-02-13T16:57:14.564Z"
   },
   {
    "duration": 7,
    "start_time": "2022-02-13T16:57:14.580Z"
   },
   {
    "duration": 7,
    "start_time": "2022-02-13T16:57:14.589Z"
   },
   {
    "duration": 33,
    "start_time": "2022-02-13T16:57:14.597Z"
   },
   {
    "duration": 13,
    "start_time": "2022-02-13T16:57:14.633Z"
   },
   {
    "duration": 13,
    "start_time": "2022-02-13T16:57:14.648Z"
   },
   {
    "duration": 20,
    "start_time": "2022-02-13T16:57:14.662Z"
   },
   {
    "duration": 45,
    "start_time": "2022-02-13T16:57:14.684Z"
   },
   {
    "duration": 23,
    "start_time": "2022-02-13T16:57:14.730Z"
   },
   {
    "duration": 8,
    "start_time": "2022-02-13T16:57:14.756Z"
   },
   {
    "duration": 24,
    "start_time": "2022-02-13T16:57:14.766Z"
   },
   {
    "duration": 38,
    "start_time": "2022-02-13T16:57:14.792Z"
   },
   {
    "duration": 15,
    "start_time": "2022-02-13T16:57:14.834Z"
   },
   {
    "duration": 16,
    "start_time": "2022-02-13T16:57:14.851Z"
   },
   {
    "duration": 7,
    "start_time": "2022-02-13T16:57:14.868Z"
   },
   {
    "duration": 8,
    "start_time": "2022-02-13T16:57:14.876Z"
   },
   {
    "duration": 14,
    "start_time": "2022-02-13T16:57:14.885Z"
   },
   {
    "duration": 41,
    "start_time": "2022-02-13T16:57:14.900Z"
   },
   {
    "duration": 15,
    "start_time": "2022-02-13T16:57:14.943Z"
   },
   {
    "duration": 11,
    "start_time": "2022-02-13T16:57:15.956Z"
   },
   {
    "duration": 4498,
    "start_time": "2022-02-13T16:58:38.577Z"
   },
   {
    "duration": 121,
    "start_time": "2022-02-13T17:00:09.206Z"
   },
   {
    "duration": 6,
    "start_time": "2022-02-13T17:00:16.864Z"
   },
   {
    "duration": 10,
    "start_time": "2022-02-13T17:00:29.150Z"
   },
   {
    "duration": 7,
    "start_time": "2022-02-13T17:00:33.158Z"
   },
   {
    "duration": 10,
    "start_time": "2022-02-13T17:02:13.983Z"
   },
   {
    "duration": 518,
    "start_time": "2022-02-13T17:02:28.161Z"
   },
   {
    "duration": 686,
    "start_time": "2022-02-13T17:02:49.288Z"
   },
   {
    "duration": 9,
    "start_time": "2022-02-13T17:02:49.976Z"
   },
   {
    "duration": 10,
    "start_time": "2022-02-13T17:02:49.987Z"
   },
   {
    "duration": 10,
    "start_time": "2022-02-13T17:02:49.999Z"
   },
   {
    "duration": 25,
    "start_time": "2022-02-13T17:02:50.011Z"
   },
   {
    "duration": 37,
    "start_time": "2022-02-13T17:02:50.039Z"
   },
   {
    "duration": 10,
    "start_time": "2022-02-13T17:02:50.078Z"
   },
   {
    "duration": 5,
    "start_time": "2022-02-13T17:02:50.090Z"
   },
   {
    "duration": 11,
    "start_time": "2022-02-13T17:02:50.097Z"
   },
   {
    "duration": 5,
    "start_time": "2022-02-13T17:02:50.109Z"
   },
   {
    "duration": 19,
    "start_time": "2022-02-13T17:02:50.133Z"
   },
   {
    "duration": 7,
    "start_time": "2022-02-13T17:02:50.155Z"
   },
   {
    "duration": 6,
    "start_time": "2022-02-13T17:02:50.163Z"
   },
   {
    "duration": 4,
    "start_time": "2022-02-13T17:02:50.170Z"
   },
   {
    "duration": 9,
    "start_time": "2022-02-13T17:02:50.175Z"
   },
   {
    "duration": 11,
    "start_time": "2022-02-13T17:02:50.185Z"
   },
   {
    "duration": 65,
    "start_time": "2022-02-13T17:02:50.197Z"
   },
   {
    "duration": 16,
    "start_time": "2022-02-13T17:02:50.264Z"
   },
   {
    "duration": 18,
    "start_time": "2022-02-13T17:02:50.281Z"
   },
   {
    "duration": 33,
    "start_time": "2022-02-13T17:02:50.300Z"
   },
   {
    "duration": 36,
    "start_time": "2022-02-13T17:02:50.337Z"
   },
   {
    "duration": 16,
    "start_time": "2022-02-13T17:02:50.375Z"
   },
   {
    "duration": 6,
    "start_time": "2022-02-13T17:02:50.394Z"
   },
   {
    "duration": 12,
    "start_time": "2022-02-13T17:02:50.402Z"
   },
   {
    "duration": 11,
    "start_time": "2022-02-13T17:02:50.428Z"
   },
   {
    "duration": 15,
    "start_time": "2022-02-13T17:02:50.441Z"
   },
   {
    "duration": 18,
    "start_time": "2022-02-13T17:02:50.457Z"
   },
   {
    "duration": 15,
    "start_time": "2022-02-13T17:02:50.477Z"
   },
   {
    "duration": 10,
    "start_time": "2022-02-13T17:02:50.494Z"
   },
   {
    "duration": 31,
    "start_time": "2022-02-13T17:02:50.506Z"
   },
   {
    "duration": 27,
    "start_time": "2022-02-13T17:02:50.539Z"
   },
   {
    "duration": 10,
    "start_time": "2022-02-13T17:02:50.568Z"
   },
   {
    "duration": 13,
    "start_time": "2022-02-13T17:02:50.580Z"
   },
   {
    "duration": 21,
    "start_time": "2022-02-13T17:02:50.594Z"
   },
   {
    "duration": 14,
    "start_time": "2022-02-13T17:02:50.616Z"
   },
   {
    "duration": 38,
    "start_time": "2022-02-13T17:02:50.631Z"
   },
   {
    "duration": 4,
    "start_time": "2022-02-13T17:02:50.671Z"
   },
   {
    "duration": 505,
    "start_time": "2022-02-13T17:02:53.308Z"
   },
   {
    "duration": 6,
    "start_time": "2022-02-13T17:03:39.448Z"
   },
   {
    "duration": 9,
    "start_time": "2022-02-13T17:03:43.638Z"
   },
   {
    "duration": 22,
    "start_time": "2022-02-13T17:03:54.975Z"
   },
   {
    "duration": 23,
    "start_time": "2022-02-13T17:05:23.940Z"
   },
   {
    "duration": 5,
    "start_time": "2022-02-13T17:10:36.243Z"
   },
   {
    "duration": 5,
    "start_time": "2022-02-13T17:11:15.591Z"
   },
   {
    "duration": 5,
    "start_time": "2022-02-13T17:11:45.652Z"
   },
   {
    "duration": 5,
    "start_time": "2022-02-13T17:38:31.582Z"
   },
   {
    "duration": 5,
    "start_time": "2022-02-13T17:39:00.186Z"
   },
   {
    "duration": 4,
    "start_time": "2022-02-13T17:40:11.894Z"
   },
   {
    "duration": 4,
    "start_time": "2022-02-13T17:40:35.491Z"
   },
   {
    "duration": 4,
    "start_time": "2022-02-13T17:41:21.270Z"
   },
   {
    "duration": 4,
    "start_time": "2022-02-13T17:41:32.793Z"
   },
   {
    "duration": 4,
    "start_time": "2022-02-13T17:42:55.526Z"
   },
   {
    "duration": 4,
    "start_time": "2022-02-13T17:44:31.337Z"
   },
   {
    "duration": 19,
    "start_time": "2022-02-13T17:44:34.464Z"
   },
   {
    "duration": 4,
    "start_time": "2022-02-13T17:44:36.248Z"
   },
   {
    "duration": 10,
    "start_time": "2022-02-13T17:45:29.779Z"
   },
   {
    "duration": 4,
    "start_time": "2022-02-13T17:46:13.168Z"
   },
   {
    "duration": 4,
    "start_time": "2022-02-13T17:47:46.371Z"
   },
   {
    "duration": 5,
    "start_time": "2022-02-13T17:57:10.631Z"
   },
   {
    "duration": 122,
    "start_time": "2022-02-13T17:57:21.101Z"
   },
   {
    "duration": 107,
    "start_time": "2022-02-13T17:57:26.780Z"
   },
   {
    "duration": 120,
    "start_time": "2022-02-13T17:57:31.426Z"
   },
   {
    "duration": 4,
    "start_time": "2022-02-13T17:58:04.476Z"
   },
   {
    "duration": 4,
    "start_time": "2022-02-13T17:58:20.970Z"
   },
   {
    "duration": 4,
    "start_time": "2022-02-13T17:59:11.365Z"
   },
   {
    "duration": 5,
    "start_time": "2022-02-13T17:59:16.934Z"
   },
   {
    "duration": 4,
    "start_time": "2022-02-13T17:59:19.010Z"
   },
   {
    "duration": 4,
    "start_time": "2022-02-13T17:59:22.199Z"
   },
   {
    "duration": 5,
    "start_time": "2022-02-13T18:04:42.008Z"
   },
   {
    "duration": 4,
    "start_time": "2022-02-13T18:05:17.024Z"
   },
   {
    "duration": 316,
    "start_time": "2022-02-13T18:44:06.141Z"
   },
   {
    "duration": 54,
    "start_time": "2022-02-13T18:44:22.734Z"
   },
   {
    "duration": 9,
    "start_time": "2022-02-13T18:44:22.789Z"
   },
   {
    "duration": 10,
    "start_time": "2022-02-13T18:44:22.800Z"
   },
   {
    "duration": 19,
    "start_time": "2022-02-13T18:44:22.811Z"
   },
   {
    "duration": 5,
    "start_time": "2022-02-13T18:44:22.832Z"
   },
   {
    "duration": 18,
    "start_time": "2022-02-13T18:44:22.838Z"
   },
   {
    "duration": 6,
    "start_time": "2022-02-13T18:44:22.857Z"
   },
   {
    "duration": 5,
    "start_time": "2022-02-13T18:44:22.865Z"
   },
   {
    "duration": 15,
    "start_time": "2022-02-13T18:44:22.872Z"
   },
   {
    "duration": 5,
    "start_time": "2022-02-13T18:44:22.927Z"
   },
   {
    "duration": 13,
    "start_time": "2022-02-13T18:44:22.933Z"
   },
   {
    "duration": 6,
    "start_time": "2022-02-13T18:44:22.947Z"
   },
   {
    "duration": 5,
    "start_time": "2022-02-13T18:44:22.954Z"
   },
   {
    "duration": 3,
    "start_time": "2022-02-13T18:44:22.960Z"
   },
   {
    "duration": 8,
    "start_time": "2022-02-13T18:44:22.965Z"
   },
   {
    "duration": 13,
    "start_time": "2022-02-13T18:44:22.974Z"
   },
   {
    "duration": 50,
    "start_time": "2022-02-13T18:44:22.988Z"
   },
   {
    "duration": 15,
    "start_time": "2022-02-13T18:44:23.039Z"
   },
   {
    "duration": 17,
    "start_time": "2022-02-13T18:44:23.055Z"
   },
   {
    "duration": 7,
    "start_time": "2022-02-13T18:44:23.073Z"
   },
   {
    "duration": 47,
    "start_time": "2022-02-13T18:44:23.081Z"
   },
   {
    "duration": 13,
    "start_time": "2022-02-13T18:44:23.129Z"
   },
   {
    "duration": 6,
    "start_time": "2022-02-13T18:44:23.145Z"
   },
   {
    "duration": 13,
    "start_time": "2022-02-13T18:44:23.152Z"
   },
   {
    "duration": 6,
    "start_time": "2022-02-13T18:44:23.167Z"
   },
   {
    "duration": 8,
    "start_time": "2022-02-13T18:44:23.174Z"
   },
   {
    "duration": 13,
    "start_time": "2022-02-13T18:44:23.184Z"
   },
   {
    "duration": 38,
    "start_time": "2022-02-13T18:44:23.199Z"
   },
   {
    "duration": 9,
    "start_time": "2022-02-13T18:44:23.239Z"
   },
   {
    "duration": 11,
    "start_time": "2022-02-13T18:44:23.249Z"
   },
   {
    "duration": 4,
    "start_time": "2022-02-13T18:44:23.261Z"
   },
   {
    "duration": 10,
    "start_time": "2022-02-13T18:44:23.266Z"
   },
   {
    "duration": 13,
    "start_time": "2022-02-13T18:44:23.277Z"
   },
   {
    "duration": 40,
    "start_time": "2022-02-13T18:44:23.291Z"
   },
   {
    "duration": 4,
    "start_time": "2022-02-13T18:44:23.332Z"
   },
   {
    "duration": 18,
    "start_time": "2022-02-13T18:44:23.338Z"
   },
   {
    "duration": 4,
    "start_time": "2022-02-13T18:44:23.357Z"
   },
   {
    "duration": 20,
    "start_time": "2022-02-13T18:44:23.363Z"
   },
   {
    "duration": 4,
    "start_time": "2022-02-13T18:44:23.385Z"
   },
   {
    "duration": 44,
    "start_time": "2022-02-13T18:44:23.390Z"
   },
   {
    "duration": 307,
    "start_time": "2022-02-13T18:44:26.302Z"
   },
   {
    "duration": 16,
    "start_time": "2022-02-13T18:44:46.929Z"
   },
   {
    "duration": 373,
    "start_time": "2022-02-13T18:45:46.785Z"
   },
   {
    "duration": 796,
    "start_time": "2022-02-13T18:45:54.937Z"
   },
   {
    "duration": 15,
    "start_time": "2022-02-13T18:45:55.735Z"
   },
   {
    "duration": 14,
    "start_time": "2022-02-13T18:45:55.752Z"
   },
   {
    "duration": 17,
    "start_time": "2022-02-13T18:45:55.768Z"
   },
   {
    "duration": 12,
    "start_time": "2022-02-13T18:45:55.787Z"
   },
   {
    "duration": 50,
    "start_time": "2022-02-13T18:45:55.801Z"
   },
   {
    "duration": 10,
    "start_time": "2022-02-13T18:45:55.853Z"
   },
   {
    "duration": 6,
    "start_time": "2022-02-13T18:45:55.866Z"
   },
   {
    "duration": 10,
    "start_time": "2022-02-13T18:45:55.874Z"
   },
   {
    "duration": 6,
    "start_time": "2022-02-13T18:45:55.886Z"
   },
   {
    "duration": 51,
    "start_time": "2022-02-13T18:45:55.894Z"
   },
   {
    "duration": 8,
    "start_time": "2022-02-13T18:45:55.947Z"
   },
   {
    "duration": 11,
    "start_time": "2022-02-13T18:45:55.957Z"
   },
   {
    "duration": 5,
    "start_time": "2022-02-13T18:45:55.970Z"
   },
   {
    "duration": 13,
    "start_time": "2022-02-13T18:45:55.977Z"
   },
   {
    "duration": 44,
    "start_time": "2022-02-13T18:45:55.992Z"
   },
   {
    "duration": 25,
    "start_time": "2022-02-13T18:45:56.038Z"
   },
   {
    "duration": 20,
    "start_time": "2022-02-13T18:45:56.065Z"
   },
   {
    "duration": 47,
    "start_time": "2022-02-13T18:45:56.087Z"
   },
   {
    "duration": 9,
    "start_time": "2022-02-13T18:45:56.136Z"
   },
   {
    "duration": 24,
    "start_time": "2022-02-13T18:45:56.147Z"
   },
   {
    "duration": 16,
    "start_time": "2022-02-13T18:45:56.173Z"
   },
   {
    "duration": 7,
    "start_time": "2022-02-13T18:45:56.192Z"
   },
   {
    "duration": 12,
    "start_time": "2022-02-13T18:45:56.228Z"
   },
   {
    "duration": 8,
    "start_time": "2022-02-13T18:45:56.242Z"
   },
   {
    "duration": 10,
    "start_time": "2022-02-13T18:45:56.252Z"
   },
   {
    "duration": 18,
    "start_time": "2022-02-13T18:45:56.264Z"
   },
   {
    "duration": 44,
    "start_time": "2022-02-13T18:45:56.284Z"
   },
   {
    "duration": 14,
    "start_time": "2022-02-13T18:45:56.330Z"
   },
   {
    "duration": 12,
    "start_time": "2022-02-13T18:45:56.346Z"
   },
   {
    "duration": 7,
    "start_time": "2022-02-13T18:45:56.360Z"
   },
   {
    "duration": 12,
    "start_time": "2022-02-13T18:45:56.368Z"
   },
   {
    "duration": 16,
    "start_time": "2022-02-13T18:45:56.382Z"
   },
   {
    "duration": 47,
    "start_time": "2022-02-13T18:45:56.400Z"
   },
   {
    "duration": 6,
    "start_time": "2022-02-13T18:45:56.449Z"
   },
   {
    "duration": 30,
    "start_time": "2022-02-13T18:45:56.457Z"
   },
   {
    "duration": 4,
    "start_time": "2022-02-13T18:45:56.489Z"
   },
   {
    "duration": 47,
    "start_time": "2022-02-13T18:45:56.495Z"
   },
   {
    "duration": 5,
    "start_time": "2022-02-13T18:45:56.544Z"
   },
   {
    "duration": 17,
    "start_time": "2022-02-13T18:45:56.551Z"
   },
   {
    "duration": 391,
    "start_time": "2022-02-13T18:45:58.409Z"
   },
   {
    "duration": 4,
    "start_time": "2022-02-13T18:46:51.610Z"
   },
   {
    "duration": 7,
    "start_time": "2022-02-13T18:47:06.036Z"
   },
   {
    "duration": 464,
    "start_time": "2022-02-13T18:48:03.212Z"
   },
   {
    "duration": 105,
    "start_time": "2022-02-13T18:49:19.109Z"
   },
   {
    "duration": 9,
    "start_time": "2022-02-13T18:49:46.840Z"
   },
   {
    "duration": -20890,
    "start_time": "2022-02-13T18:51:24.320Z"
   },
   {
    "duration": 4,
    "start_time": "2022-02-13T18:51:09.361Z"
   },
   {
    "duration": 23,
    "start_time": "2022-02-13T18:51:59.186Z"
   },
   {
    "duration": 15,
    "start_time": "2022-02-13T18:52:43.154Z"
   },
   {
    "duration": 322,
    "start_time": "2022-02-13T18:52:45.503Z"
   },
   {
    "duration": 26,
    "start_time": "2022-02-13T18:52:49.072Z"
   },
   {
    "duration": 324,
    "start_time": "2022-02-13T18:53:09.597Z"
   },
   {
    "duration": 313,
    "start_time": "2022-02-13T18:53:40.802Z"
   },
   {
    "duration": 5,
    "start_time": "2022-02-13T18:54:37.080Z"
   },
   {
    "duration": 18,
    "start_time": "2022-02-13T18:55:56.577Z"
   },
   {
    "duration": 15,
    "start_time": "2022-02-13T18:56:18.082Z"
   },
   {
    "duration": 24,
    "start_time": "2022-02-13T18:56:38.895Z"
   },
   {
    "duration": 16,
    "start_time": "2022-02-13T18:57:04.972Z"
   },
   {
    "duration": 16,
    "start_time": "2022-02-13T18:57:17.762Z"
   },
   {
    "duration": 113,
    "start_time": "2022-02-13T18:57:39.984Z"
   },
   {
    "duration": 17,
    "start_time": "2022-02-13T19:00:56.952Z"
   },
   {
    "duration": 798,
    "start_time": "2022-02-13T19:01:34.424Z"
   },
   {
    "duration": 9,
    "start_time": "2022-02-13T19:01:35.224Z"
   },
   {
    "duration": 9,
    "start_time": "2022-02-13T19:01:35.235Z"
   },
   {
    "duration": 19,
    "start_time": "2022-02-13T19:01:35.246Z"
   },
   {
    "duration": 5,
    "start_time": "2022-02-13T19:01:35.266Z"
   },
   {
    "duration": 24,
    "start_time": "2022-02-13T19:01:35.273Z"
   },
   {
    "duration": 8,
    "start_time": "2022-02-13T19:01:35.298Z"
   },
   {
    "duration": 23,
    "start_time": "2022-02-13T19:01:35.308Z"
   },
   {
    "duration": 9,
    "start_time": "2022-02-13T19:01:35.333Z"
   },
   {
    "duration": 6,
    "start_time": "2022-02-13T19:01:35.344Z"
   },
   {
    "duration": 17,
    "start_time": "2022-02-13T19:01:35.351Z"
   },
   {
    "duration": 7,
    "start_time": "2022-02-13T19:01:35.369Z"
   },
   {
    "duration": 6,
    "start_time": "2022-02-13T19:01:35.378Z"
   },
   {
    "duration": 42,
    "start_time": "2022-02-13T19:01:35.385Z"
   },
   {
    "duration": 8,
    "start_time": "2022-02-13T19:01:35.428Z"
   },
   {
    "duration": 10,
    "start_time": "2022-02-13T19:01:35.437Z"
   },
   {
    "duration": 16,
    "start_time": "2022-02-13T19:01:35.449Z"
   },
   {
    "duration": 15,
    "start_time": "2022-02-13T19:01:35.467Z"
   },
   {
    "duration": 48,
    "start_time": "2022-02-13T19:01:35.483Z"
   },
   {
    "duration": 6,
    "start_time": "2022-02-13T19:01:35.533Z"
   },
   {
    "duration": 26,
    "start_time": "2022-02-13T19:01:35.540Z"
   },
   {
    "duration": 14,
    "start_time": "2022-02-13T19:01:35.568Z"
   },
   {
    "duration": 5,
    "start_time": "2022-02-13T19:01:35.585Z"
   },
   {
    "duration": 11,
    "start_time": "2022-02-13T19:01:35.592Z"
   },
   {
    "duration": 24,
    "start_time": "2022-02-13T19:01:35.605Z"
   },
   {
    "duration": 6,
    "start_time": "2022-02-13T19:01:35.630Z"
   },
   {
    "duration": 13,
    "start_time": "2022-02-13T19:01:35.638Z"
   },
   {
    "duration": 14,
    "start_time": "2022-02-13T19:01:35.652Z"
   },
   {
    "duration": 10,
    "start_time": "2022-02-13T19:01:35.668Z"
   },
   {
    "duration": 10,
    "start_time": "2022-02-13T19:01:35.679Z"
   },
   {
    "duration": 38,
    "start_time": "2022-02-13T19:01:35.691Z"
   },
   {
    "duration": 11,
    "start_time": "2022-02-13T19:01:35.731Z"
   },
   {
    "duration": 14,
    "start_time": "2022-02-13T19:01:35.743Z"
   },
   {
    "duration": 18,
    "start_time": "2022-02-13T19:01:35.759Z"
   },
   {
    "duration": 4,
    "start_time": "2022-02-13T19:01:35.778Z"
   },
   {
    "duration": 43,
    "start_time": "2022-02-13T19:01:35.784Z"
   },
   {
    "duration": 4,
    "start_time": "2022-02-13T19:01:35.829Z"
   },
   {
    "duration": 20,
    "start_time": "2022-02-13T19:01:35.835Z"
   },
   {
    "duration": 4,
    "start_time": "2022-02-13T19:01:35.857Z"
   },
   {
    "duration": 16,
    "start_time": "2022-02-13T19:01:35.862Z"
   },
   {
    "duration": 4,
    "start_time": "2022-02-13T19:01:38.070Z"
   },
   {
    "duration": 390,
    "start_time": "2022-02-13T19:01:54.092Z"
   },
   {
    "duration": 332,
    "start_time": "2022-02-13T19:02:03.355Z"
   },
   {
    "duration": 328,
    "start_time": "2022-02-13T19:04:41.807Z"
   },
   {
    "duration": 331,
    "start_time": "2022-02-13T19:05:09.111Z"
   },
   {
    "duration": 313,
    "start_time": "2022-02-13T19:31:23.092Z"
   },
   {
    "duration": 302,
    "start_time": "2022-02-13T19:31:28.143Z"
   },
   {
    "duration": 312,
    "start_time": "2022-02-13T19:31:38.481Z"
   },
   {
    "duration": 4,
    "start_time": "2022-02-13T19:31:45.840Z"
   },
   {
    "duration": 4,
    "start_time": "2022-02-13T19:32:09.719Z"
   },
   {
    "duration": 17,
    "start_time": "2022-02-13T19:32:35.579Z"
   },
   {
    "duration": 323,
    "start_time": "2022-02-13T19:32:40.267Z"
   },
   {
    "duration": 5,
    "start_time": "2022-02-13T19:33:38.284Z"
   },
   {
    "duration": 18,
    "start_time": "2022-02-13T19:34:03.951Z"
   },
   {
    "duration": 22,
    "start_time": "2022-02-13T19:35:32.745Z"
   },
   {
    "duration": 6,
    "start_time": "2022-02-13T19:35:37.427Z"
   },
   {
    "duration": 967,
    "start_time": "2022-02-13T19:35:53.944Z"
   },
   {
    "duration": 105,
    "start_time": "2022-02-13T19:37:16.652Z"
   },
   {
    "duration": 112,
    "start_time": "2022-02-13T19:37:31.539Z"
   },
   {
    "duration": 4,
    "start_time": "2022-02-13T19:38:49.955Z"
   },
   {
    "duration": 3,
    "start_time": "2022-02-13T19:39:24.566Z"
   },
   {
    "duration": 325,
    "start_time": "2022-02-13T19:39:33.657Z"
   },
   {
    "duration": 320,
    "start_time": "2022-02-13T19:39:39.288Z"
   },
   {
    "duration": 2283,
    "start_time": "2022-02-13T19:40:06.304Z"
   },
   {
    "duration": 2296,
    "start_time": "2022-02-13T19:40:30.700Z"
   },
   {
    "duration": 394,
    "start_time": "2022-02-13T19:41:12.645Z"
   },
   {
    "duration": 320,
    "start_time": "2022-02-13T19:41:26.161Z"
   },
   {
    "duration": 346,
    "start_time": "2022-02-13T19:41:31.288Z"
   },
   {
    "duration": 338,
    "start_time": "2022-02-13T19:41:36.470Z"
   },
   {
    "duration": 360,
    "start_time": "2022-02-13T19:41:39.995Z"
   },
   {
    "duration": 27,
    "start_time": "2022-02-13T19:43:27.412Z"
   },
   {
    "duration": 18,
    "start_time": "2022-02-13T19:43:33.179Z"
   },
   {
    "duration": 347,
    "start_time": "2022-02-13T19:44:06.527Z"
   },
   {
    "duration": 8345,
    "start_time": "2022-02-13T19:45:40.804Z"
   },
   {
    "duration": 8002,
    "start_time": "2022-02-13T19:45:55.863Z"
   },
   {
    "duration": 7700,
    "start_time": "2022-02-13T19:46:18.083Z"
   },
   {
    "duration": 322,
    "start_time": "2022-02-13T19:46:36.108Z"
   },
   {
    "duration": 108,
    "start_time": "2022-02-13T19:49:29.091Z"
   },
   {
    "duration": 317,
    "start_time": "2022-02-13T19:49:35.668Z"
   },
   {
    "duration": 341,
    "start_time": "2022-02-13T19:49:42.447Z"
   },
   {
    "duration": 319,
    "start_time": "2022-02-13T19:51:17.672Z"
   },
   {
    "duration": 19,
    "start_time": "2022-02-13T19:55:21.160Z"
   },
   {
    "duration": 16,
    "start_time": "2022-02-13T19:55:35.408Z"
   },
   {
    "duration": 17,
    "start_time": "2022-02-13T19:55:59.197Z"
   },
   {
    "duration": 17,
    "start_time": "2022-02-13T19:58:07.348Z"
   },
   {
    "duration": 20,
    "start_time": "2022-02-13T19:58:15.494Z"
   },
   {
    "duration": 638,
    "start_time": "2022-02-13T19:59:15.433Z"
   },
   {
    "duration": 16,
    "start_time": "2022-02-13T19:59:16.072Z"
   },
   {
    "duration": 9,
    "start_time": "2022-02-13T19:59:16.090Z"
   },
   {
    "duration": 11,
    "start_time": "2022-02-13T19:59:16.101Z"
   },
   {
    "duration": 17,
    "start_time": "2022-02-13T19:59:16.113Z"
   },
   {
    "duration": 19,
    "start_time": "2022-02-13T19:59:16.132Z"
   },
   {
    "duration": 7,
    "start_time": "2022-02-13T19:59:16.152Z"
   },
   {
    "duration": 5,
    "start_time": "2022-02-13T19:59:16.161Z"
   },
   {
    "duration": 7,
    "start_time": "2022-02-13T19:59:16.168Z"
   },
   {
    "duration": 5,
    "start_time": "2022-02-13T19:59:16.177Z"
   },
   {
    "duration": 53,
    "start_time": "2022-02-13T19:59:16.184Z"
   },
   {
    "duration": 7,
    "start_time": "2022-02-13T19:59:16.238Z"
   },
   {
    "duration": 6,
    "start_time": "2022-02-13T19:59:16.246Z"
   },
   {
    "duration": 4,
    "start_time": "2022-02-13T19:59:16.253Z"
   },
   {
    "duration": 8,
    "start_time": "2022-02-13T19:59:16.258Z"
   },
   {
    "duration": 10,
    "start_time": "2022-02-13T19:59:16.268Z"
   },
   {
    "duration": 48,
    "start_time": "2022-02-13T19:59:16.280Z"
   },
   {
    "duration": 14,
    "start_time": "2022-02-13T19:59:16.329Z"
   },
   {
    "duration": 17,
    "start_time": "2022-02-13T19:59:16.344Z"
   },
   {
    "duration": 6,
    "start_time": "2022-02-13T19:59:16.362Z"
   },
   {
    "duration": 23,
    "start_time": "2022-02-13T19:59:16.370Z"
   },
   {
    "duration": 43,
    "start_time": "2022-02-13T19:59:16.394Z"
   },
   {
    "duration": 5,
    "start_time": "2022-02-13T19:59:16.440Z"
   },
   {
    "duration": 12,
    "start_time": "2022-02-13T19:59:16.447Z"
   },
   {
    "duration": 7,
    "start_time": "2022-02-13T19:59:16.460Z"
   },
   {
    "duration": 9,
    "start_time": "2022-02-13T19:59:16.468Z"
   },
   {
    "duration": 13,
    "start_time": "2022-02-13T19:59:16.478Z"
   },
   {
    "duration": 37,
    "start_time": "2022-02-13T19:59:16.492Z"
   },
   {
    "duration": 9,
    "start_time": "2022-02-13T19:59:16.531Z"
   },
   {
    "duration": 13,
    "start_time": "2022-02-13T19:59:16.541Z"
   },
   {
    "duration": 5,
    "start_time": "2022-02-13T19:59:16.556Z"
   },
   {
    "duration": 10,
    "start_time": "2022-02-13T19:59:16.562Z"
   },
   {
    "duration": 13,
    "start_time": "2022-02-13T19:59:16.574Z"
   },
   {
    "duration": 15,
    "start_time": "2022-02-13T19:59:16.589Z"
   },
   {
    "duration": 23,
    "start_time": "2022-02-13T19:59:16.606Z"
   },
   {
    "duration": 18,
    "start_time": "2022-02-13T19:59:16.631Z"
   },
   {
    "duration": 5,
    "start_time": "2022-02-13T19:59:16.650Z"
   },
   {
    "duration": 20,
    "start_time": "2022-02-13T19:59:16.656Z"
   },
   {
    "duration": 5,
    "start_time": "2022-02-13T19:59:16.678Z"
   },
   {
    "duration": 18,
    "start_time": "2022-02-13T19:59:18.244Z"
   },
   {
    "duration": 18,
    "start_time": "2022-02-13T19:59:20.051Z"
   },
   {
    "duration": 18,
    "start_time": "2022-02-13T19:59:48.944Z"
   },
   {
    "duration": 19,
    "start_time": "2022-02-13T20:00:26.781Z"
   },
   {
    "duration": 18,
    "start_time": "2022-02-13T20:00:30.952Z"
   },
   {
    "duration": 390,
    "start_time": "2022-02-13T20:00:39.944Z"
   },
   {
    "duration": 20,
    "start_time": "2022-02-13T20:00:44.198Z"
   },
   {
    "duration": 327,
    "start_time": "2022-02-13T20:00:51.992Z"
   },
   {
    "duration": 303,
    "start_time": "2022-02-13T20:01:07.846Z"
   },
   {
    "duration": 303,
    "start_time": "2022-02-13T20:01:52.589Z"
   },
   {
    "duration": 320,
    "start_time": "2022-02-13T20:02:24.183Z"
   },
   {
    "duration": 5,
    "start_time": "2022-02-13T20:02:31.070Z"
   },
   {
    "duration": 325,
    "start_time": "2022-02-13T20:03:09.118Z"
   },
   {
    "duration": 305,
    "start_time": "2022-02-13T20:03:25.671Z"
   },
   {
    "duration": 598,
    "start_time": "2022-02-13T20:03:33.976Z"
   },
   {
    "duration": 8,
    "start_time": "2022-02-13T20:03:34.576Z"
   },
   {
    "duration": 9,
    "start_time": "2022-02-13T20:03:34.586Z"
   },
   {
    "duration": 10,
    "start_time": "2022-02-13T20:03:34.597Z"
   },
   {
    "duration": 5,
    "start_time": "2022-02-13T20:03:34.627Z"
   },
   {
    "duration": 19,
    "start_time": "2022-02-13T20:03:34.633Z"
   },
   {
    "duration": 7,
    "start_time": "2022-02-13T20:03:34.653Z"
   },
   {
    "duration": 5,
    "start_time": "2022-02-13T20:03:34.662Z"
   },
   {
    "duration": 7,
    "start_time": "2022-02-13T20:03:34.668Z"
   },
   {
    "duration": 4,
    "start_time": "2022-02-13T20:03:34.677Z"
   },
   {
    "duration": 50,
    "start_time": "2022-02-13T20:03:34.683Z"
   },
   {
    "duration": 7,
    "start_time": "2022-02-13T20:03:34.735Z"
   },
   {
    "duration": 10,
    "start_time": "2022-02-13T20:03:34.744Z"
   },
   {
    "duration": 5,
    "start_time": "2022-02-13T20:03:34.755Z"
   },
   {
    "duration": 8,
    "start_time": "2022-02-13T20:03:34.761Z"
   },
   {
    "duration": 15,
    "start_time": "2022-02-13T20:03:34.771Z"
   },
   {
    "duration": 48,
    "start_time": "2022-02-13T20:03:34.787Z"
   },
   {
    "duration": 15,
    "start_time": "2022-02-13T20:03:34.836Z"
   },
   {
    "duration": 16,
    "start_time": "2022-02-13T20:03:34.853Z"
   },
   {
    "duration": 6,
    "start_time": "2022-02-13T20:03:34.871Z"
   },
   {
    "duration": 52,
    "start_time": "2022-02-13T20:03:34.879Z"
   },
   {
    "duration": 16,
    "start_time": "2022-02-13T20:03:34.933Z"
   },
   {
    "duration": 6,
    "start_time": "2022-02-13T20:03:34.953Z"
   },
   {
    "duration": 11,
    "start_time": "2022-02-13T20:03:34.961Z"
   },
   {
    "duration": 8,
    "start_time": "2022-02-13T20:03:34.974Z"
   },
   {
    "duration": 8,
    "start_time": "2022-02-13T20:03:34.983Z"
   },
   {
    "duration": 40,
    "start_time": "2022-02-13T20:03:34.992Z"
   },
   {
    "duration": 15,
    "start_time": "2022-02-13T20:03:35.034Z"
   },
   {
    "duration": 11,
    "start_time": "2022-02-13T20:03:35.050Z"
   },
   {
    "duration": 11,
    "start_time": "2022-02-13T20:03:35.062Z"
   },
   {
    "duration": 7,
    "start_time": "2022-02-13T20:03:35.074Z"
   },
   {
    "duration": 10,
    "start_time": "2022-02-13T20:03:35.082Z"
   },
   {
    "duration": 9,
    "start_time": "2022-02-13T20:03:35.094Z"
   },
   {
    "duration": 36,
    "start_time": "2022-02-13T20:03:35.104Z"
   },
   {
    "duration": 4,
    "start_time": "2022-02-13T20:03:35.141Z"
   },
   {
    "duration": 19,
    "start_time": "2022-02-13T20:03:35.146Z"
   },
   {
    "duration": 4,
    "start_time": "2022-02-13T20:03:35.166Z"
   },
   {
    "duration": 24,
    "start_time": "2022-02-13T20:03:35.171Z"
   },
   {
    "duration": 4,
    "start_time": "2022-02-13T20:03:35.196Z"
   },
   {
    "duration": 43,
    "start_time": "2022-02-13T20:03:35.201Z"
   },
   {
    "duration": 360,
    "start_time": "2022-02-13T20:03:36.782Z"
   },
   {
    "duration": 19,
    "start_time": "2022-02-13T20:03:41.052Z"
   },
   {
    "duration": 25,
    "start_time": "2022-02-13T20:04:32.725Z"
   },
   {
    "duration": 313,
    "start_time": "2022-02-13T20:04:38.229Z"
   },
   {
    "duration": 8,
    "start_time": "2022-02-13T20:05:51.591Z"
   },
   {
    "duration": 650,
    "start_time": "2022-02-13T20:06:02.066Z"
   },
   {
    "duration": 13,
    "start_time": "2022-02-13T20:06:02.718Z"
   },
   {
    "duration": 13,
    "start_time": "2022-02-13T20:06:02.734Z"
   },
   {
    "duration": 16,
    "start_time": "2022-02-13T20:06:02.749Z"
   },
   {
    "duration": 6,
    "start_time": "2022-02-13T20:06:02.767Z"
   },
   {
    "duration": 25,
    "start_time": "2022-02-13T20:06:02.775Z"
   },
   {
    "duration": 10,
    "start_time": "2022-02-13T20:06:02.827Z"
   },
   {
    "duration": 5,
    "start_time": "2022-02-13T20:06:02.840Z"
   },
   {
    "duration": 14,
    "start_time": "2022-02-13T20:06:02.847Z"
   },
   {
    "duration": 4,
    "start_time": "2022-02-13T20:06:02.863Z"
   },
   {
    "duration": 13,
    "start_time": "2022-02-13T20:06:02.869Z"
   },
   {
    "duration": 5,
    "start_time": "2022-02-13T20:06:02.884Z"
   },
   {
    "duration": 36,
    "start_time": "2022-02-13T20:06:02.891Z"
   },
   {
    "duration": 4,
    "start_time": "2022-02-13T20:06:02.928Z"
   },
   {
    "duration": 10,
    "start_time": "2022-02-13T20:06:02.934Z"
   },
   {
    "duration": 15,
    "start_time": "2022-02-13T20:06:02.946Z"
   },
   {
    "duration": 18,
    "start_time": "2022-02-13T20:06:02.963Z"
   },
   {
    "duration": 14,
    "start_time": "2022-02-13T20:06:02.982Z"
   },
   {
    "duration": 44,
    "start_time": "2022-02-13T20:06:02.997Z"
   },
   {
    "duration": 6,
    "start_time": "2022-02-13T20:06:03.043Z"
   },
   {
    "duration": 23,
    "start_time": "2022-02-13T20:06:03.050Z"
   },
   {
    "duration": 15,
    "start_time": "2022-02-13T20:06:03.074Z"
   },
   {
    "duration": 6,
    "start_time": "2022-02-13T20:06:03.092Z"
   },
   {
    "duration": 32,
    "start_time": "2022-02-13T20:06:03.099Z"
   },
   {
    "duration": 10,
    "start_time": "2022-02-13T20:06:03.133Z"
   },
   {
    "duration": 8,
    "start_time": "2022-02-13T20:06:03.145Z"
   },
   {
    "duration": 16,
    "start_time": "2022-02-13T20:06:03.155Z"
   },
   {
    "duration": 15,
    "start_time": "2022-02-13T20:06:03.172Z"
   },
   {
    "duration": 9,
    "start_time": "2022-02-13T20:06:03.189Z"
   },
   {
    "duration": 32,
    "start_time": "2022-02-13T20:06:03.199Z"
   },
   {
    "duration": 4,
    "start_time": "2022-02-13T20:06:03.232Z"
   },
   {
    "duration": 11,
    "start_time": "2022-02-13T20:06:03.238Z"
   },
   {
    "duration": 13,
    "start_time": "2022-02-13T20:06:03.250Z"
   },
   {
    "duration": 16,
    "start_time": "2022-02-13T20:06:03.265Z"
   },
   {
    "duration": 4,
    "start_time": "2022-02-13T20:06:03.283Z"
   },
   {
    "duration": 42,
    "start_time": "2022-02-13T20:06:03.288Z"
   },
   {
    "duration": 5,
    "start_time": "2022-02-13T20:06:03.331Z"
   },
   {
    "duration": 25,
    "start_time": "2022-02-13T20:06:03.338Z"
   },
   {
    "duration": 4,
    "start_time": "2022-02-13T20:06:03.365Z"
   },
   {
    "duration": 19,
    "start_time": "2022-02-13T20:06:03.370Z"
   },
   {
    "duration": 8,
    "start_time": "2022-02-13T20:06:05.250Z"
   },
   {
    "duration": 7,
    "start_time": "2022-02-13T20:06:20.488Z"
   },
   {
    "duration": 363,
    "start_time": "2022-02-13T20:06:41.058Z"
   },
   {
    "duration": 108,
    "start_time": "2022-02-13T20:06:52.418Z"
   },
   {
    "duration": 53,
    "start_time": "2022-02-13T20:06:58.111Z"
   },
   {
    "duration": 9,
    "start_time": "2022-02-13T20:06:58.166Z"
   },
   {
    "duration": 9,
    "start_time": "2022-02-13T20:06:58.177Z"
   },
   {
    "duration": 16,
    "start_time": "2022-02-13T20:06:58.188Z"
   },
   {
    "duration": 25,
    "start_time": "2022-02-13T20:06:58.205Z"
   },
   {
    "duration": 20,
    "start_time": "2022-02-13T20:06:58.232Z"
   },
   {
    "duration": 7,
    "start_time": "2022-02-13T20:06:58.253Z"
   },
   {
    "duration": 5,
    "start_time": "2022-02-13T20:06:58.262Z"
   },
   {
    "duration": 8,
    "start_time": "2022-02-13T20:06:58.268Z"
   },
   {
    "duration": 4,
    "start_time": "2022-02-13T20:06:58.278Z"
   },
   {
    "duration": 53,
    "start_time": "2022-02-13T20:06:58.283Z"
   },
   {
    "duration": 7,
    "start_time": "2022-02-13T20:06:58.337Z"
   },
   {
    "duration": 12,
    "start_time": "2022-02-13T20:06:58.346Z"
   },
   {
    "duration": 5,
    "start_time": "2022-02-13T20:06:58.359Z"
   },
   {
    "duration": 8,
    "start_time": "2022-02-13T20:06:58.366Z"
   },
   {
    "duration": 11,
    "start_time": "2022-02-13T20:06:58.375Z"
   },
   {
    "duration": 41,
    "start_time": "2022-02-13T20:06:58.387Z"
   },
   {
    "duration": 14,
    "start_time": "2022-02-13T20:06:58.429Z"
   },
   {
    "duration": 16,
    "start_time": "2022-02-13T20:06:58.444Z"
   },
   {
    "duration": 7,
    "start_time": "2022-02-13T20:06:58.461Z"
   },
   {
    "duration": 31,
    "start_time": "2022-02-13T20:06:58.470Z"
   },
   {
    "duration": 41,
    "start_time": "2022-02-13T20:06:58.503Z"
   },
   {
    "duration": 7,
    "start_time": "2022-02-13T20:06:58.548Z"
   },
   {
    "duration": 13,
    "start_time": "2022-02-13T20:06:58.557Z"
   },
   {
    "duration": 18,
    "start_time": "2022-02-13T20:06:58.572Z"
   },
   {
    "duration": 8,
    "start_time": "2022-02-13T20:06:58.592Z"
   },
   {
    "duration": 35,
    "start_time": "2022-02-13T20:06:58.602Z"
   },
   {
    "duration": 17,
    "start_time": "2022-02-13T20:06:58.638Z"
   },
   {
    "duration": 11,
    "start_time": "2022-02-13T20:06:58.656Z"
   },
   {
    "duration": 12,
    "start_time": "2022-02-13T20:06:58.668Z"
   },
   {
    "duration": 7,
    "start_time": "2022-02-13T20:06:58.681Z"
   },
   {
    "duration": 10,
    "start_time": "2022-02-13T20:06:58.690Z"
   },
   {
    "duration": 35,
    "start_time": "2022-02-13T20:06:58.702Z"
   },
   {
    "duration": 21,
    "start_time": "2022-02-13T20:06:58.738Z"
   },
   {
    "duration": 4,
    "start_time": "2022-02-13T20:06:58.761Z"
   },
   {
    "duration": 19,
    "start_time": "2022-02-13T20:06:58.766Z"
   },
   {
    "duration": 4,
    "start_time": "2022-02-13T20:06:58.786Z"
   },
   {
    "duration": 50,
    "start_time": "2022-02-13T20:06:58.792Z"
   },
   {
    "duration": 5,
    "start_time": "2022-02-13T20:06:58.844Z"
   },
   {
    "duration": 18,
    "start_time": "2022-02-13T20:06:58.850Z"
   },
   {
    "duration": 114,
    "start_time": "2022-02-13T20:07:00.401Z"
   },
   {
    "duration": 585,
    "start_time": "2022-02-13T20:07:08.080Z"
   },
   {
    "duration": 9,
    "start_time": "2022-02-13T20:07:08.667Z"
   },
   {
    "duration": 9,
    "start_time": "2022-02-13T20:07:08.678Z"
   },
   {
    "duration": 11,
    "start_time": "2022-02-13T20:07:08.688Z"
   },
   {
    "duration": 7,
    "start_time": "2022-02-13T20:07:08.700Z"
   },
   {
    "duration": 32,
    "start_time": "2022-02-13T20:07:08.709Z"
   },
   {
    "duration": 7,
    "start_time": "2022-02-13T20:07:08.743Z"
   },
   {
    "duration": 5,
    "start_time": "2022-02-13T20:07:08.753Z"
   },
   {
    "duration": 7,
    "start_time": "2022-02-13T20:07:08.760Z"
   },
   {
    "duration": 5,
    "start_time": "2022-02-13T20:07:08.769Z"
   },
   {
    "duration": 12,
    "start_time": "2022-02-13T20:07:08.775Z"
   },
   {
    "duration": 39,
    "start_time": "2022-02-13T20:07:08.788Z"
   },
   {
    "duration": 6,
    "start_time": "2022-02-13T20:07:08.828Z"
   },
   {
    "duration": 3,
    "start_time": "2022-02-13T20:07:08.836Z"
   },
   {
    "duration": 12,
    "start_time": "2022-02-13T20:07:08.841Z"
   },
   {
    "duration": 13,
    "start_time": "2022-02-13T20:07:08.854Z"
   },
   {
    "duration": 18,
    "start_time": "2022-02-13T20:07:08.869Z"
   },
   {
    "duration": 39,
    "start_time": "2022-02-13T20:07:08.889Z"
   },
   {
    "duration": 18,
    "start_time": "2022-02-13T20:07:08.930Z"
   },
   {
    "duration": 7,
    "start_time": "2022-02-13T20:07:08.949Z"
   },
   {
    "duration": 23,
    "start_time": "2022-02-13T20:07:08.958Z"
   },
   {
    "duration": 15,
    "start_time": "2022-02-13T20:07:08.983Z"
   },
   {
    "duration": 31,
    "start_time": "2022-02-13T20:07:09.001Z"
   },
   {
    "duration": 12,
    "start_time": "2022-02-13T20:07:09.033Z"
   },
   {
    "duration": 7,
    "start_time": "2022-02-13T20:07:09.047Z"
   },
   {
    "duration": 8,
    "start_time": "2022-02-13T20:07:09.056Z"
   },
   {
    "duration": 14,
    "start_time": "2022-02-13T20:07:09.065Z"
   },
   {
    "duration": 15,
    "start_time": "2022-02-13T20:07:09.080Z"
   },
   {
    "duration": 38,
    "start_time": "2022-02-13T20:07:09.096Z"
   },
   {
    "duration": 13,
    "start_time": "2022-02-13T20:07:09.136Z"
   },
   {
    "duration": 9,
    "start_time": "2022-02-13T20:07:09.150Z"
   },
   {
    "duration": 12,
    "start_time": "2022-02-13T20:07:09.161Z"
   },
   {
    "duration": 14,
    "start_time": "2022-02-13T20:07:09.174Z"
   },
   {
    "duration": 45,
    "start_time": "2022-02-13T20:07:09.189Z"
   },
   {
    "duration": 5,
    "start_time": "2022-02-13T20:07:09.236Z"
   },
   {
    "duration": 21,
    "start_time": "2022-02-13T20:07:09.242Z"
   },
   {
    "duration": 5,
    "start_time": "2022-02-13T20:07:09.264Z"
   },
   {
    "duration": 22,
    "start_time": "2022-02-13T20:07:09.270Z"
   },
   {
    "duration": 5,
    "start_time": "2022-02-13T20:07:09.293Z"
   },
   {
    "duration": 17,
    "start_time": "2022-02-13T20:07:09.327Z"
   },
   {
    "duration": 26,
    "start_time": "2022-02-13T20:08:10.340Z"
   },
   {
    "duration": 365,
    "start_time": "2022-02-13T20:08:27.941Z"
   },
   {
    "duration": 360,
    "start_time": "2022-02-13T20:08:36.870Z"
   },
   {
    "duration": 7799,
    "start_time": "2022-02-13T20:08:43.089Z"
   },
   {
    "duration": 31,
    "start_time": "2022-02-13T20:09:47.227Z"
   },
   {
    "duration": 5,
    "start_time": "2022-02-13T20:10:31.673Z"
   },
   {
    "duration": 315,
    "start_time": "2022-02-13T20:10:50.745Z"
   },
   {
    "duration": 7689,
    "start_time": "2022-02-13T20:11:26.950Z"
   },
   {
    "duration": 8551,
    "start_time": "2022-02-13T20:11:36.374Z"
   },
   {
    "duration": 4,
    "start_time": "2022-02-13T20:11:55.257Z"
   },
   {
    "duration": 8751,
    "start_time": "2022-02-13T20:12:11.283Z"
   },
   {
    "duration": 3,
    "start_time": "2022-02-13T20:12:23.581Z"
   },
   {
    "duration": -20942,
    "start_time": "2022-02-13T20:13:10.574Z"
   },
   {
    "duration": 8167,
    "start_time": "2022-02-13T20:12:51.199Z"
   },
   {
    "duration": -20960,
    "start_time": "2022-02-13T20:13:20.329Z"
   },
   {
    "duration": 646,
    "start_time": "2022-02-13T20:13:07.939Z"
   },
   {
    "duration": 10,
    "start_time": "2022-02-13T20:13:08.587Z"
   },
   {
    "duration": 10,
    "start_time": "2022-02-13T20:13:08.599Z"
   },
   {
    "duration": 23,
    "start_time": "2022-02-13T20:13:08.611Z"
   },
   {
    "duration": 4,
    "start_time": "2022-02-13T20:13:08.636Z"
   },
   {
    "duration": 20,
    "start_time": "2022-02-13T20:13:08.641Z"
   },
   {
    "duration": 7,
    "start_time": "2022-02-13T20:13:08.662Z"
   },
   {
    "duration": 5,
    "start_time": "2022-02-13T20:13:08.672Z"
   },
   {
    "duration": 8,
    "start_time": "2022-02-13T20:13:08.679Z"
   },
   {
    "duration": 40,
    "start_time": "2022-02-13T20:13:08.688Z"
   },
   {
    "duration": 13,
    "start_time": "2022-02-13T20:13:08.729Z"
   },
   {
    "duration": 7,
    "start_time": "2022-02-13T20:13:08.743Z"
   },
   {
    "duration": 7,
    "start_time": "2022-02-13T20:13:08.752Z"
   },
   {
    "duration": 4,
    "start_time": "2022-02-13T20:13:08.760Z"
   },
   {
    "duration": 10,
    "start_time": "2022-02-13T20:13:08.765Z"
   },
   {
    "duration": 11,
    "start_time": "2022-02-13T20:13:08.776Z"
   },
   {
    "duration": 53,
    "start_time": "2022-02-13T20:13:08.788Z"
   },
   {
    "duration": 15,
    "start_time": "2022-02-13T20:13:08.843Z"
   },
   {
    "duration": 17,
    "start_time": "2022-02-13T20:13:08.860Z"
   },
   {
    "duration": 7,
    "start_time": "2022-02-13T20:13:08.878Z"
   },
   {
    "duration": 46,
    "start_time": "2022-02-13T20:13:08.887Z"
   },
   {
    "duration": 16,
    "start_time": "2022-02-13T20:13:08.935Z"
   },
   {
    "duration": 6,
    "start_time": "2022-02-13T20:13:08.955Z"
   },
   {
    "duration": 14,
    "start_time": "2022-02-13T20:13:08.962Z"
   },
   {
    "duration": 8,
    "start_time": "2022-02-13T20:13:08.977Z"
   },
   {
    "duration": 8,
    "start_time": "2022-02-13T20:13:08.987Z"
   },
   {
    "duration": 41,
    "start_time": "2022-02-13T20:13:08.996Z"
   },
   {
    "duration": 15,
    "start_time": "2022-02-13T20:13:09.039Z"
   },
   {
    "duration": 11,
    "start_time": "2022-02-13T20:13:09.056Z"
   },
   {
    "duration": 10,
    "start_time": "2022-02-13T20:13:09.068Z"
   },
   {
    "duration": 4,
    "start_time": "2022-02-13T20:13:09.079Z"
   },
   {
    "duration": 11,
    "start_time": "2022-02-13T20:13:09.084Z"
   },
   {
    "duration": 10,
    "start_time": "2022-02-13T20:13:09.127Z"
   },
   {
    "duration": 18,
    "start_time": "2022-02-13T20:13:09.139Z"
   },
   {
    "duration": 4,
    "start_time": "2022-02-13T20:13:09.158Z"
   },
   {
    "duration": 26,
    "start_time": "2022-02-13T20:13:09.164Z"
   },
   {
    "duration": 5,
    "start_time": "2022-02-13T20:13:09.192Z"
   },
   {
    "duration": 41,
    "start_time": "2022-02-13T20:13:09.198Z"
   },
   {
    "duration": 4,
    "start_time": "2022-02-13T20:13:09.241Z"
   },
   {
    "duration": 18,
    "start_time": "2022-02-13T20:13:10.515Z"
   },
   {
    "duration": 4,
    "start_time": "2022-02-13T20:13:12.171Z"
   },
   {
    "duration": 4,
    "start_time": "2022-02-13T20:13:25.450Z"
   },
   {
    "duration": 5,
    "start_time": "2022-02-13T20:14:07.596Z"
   },
   {
    "duration": 5,
    "start_time": "2022-02-13T20:14:22.547Z"
   },
   {
    "duration": 4,
    "start_time": "2022-02-13T20:14:50.726Z"
   },
   {
    "duration": 611,
    "start_time": "2022-02-13T20:15:13.856Z"
   },
   {
    "duration": 10,
    "start_time": "2022-02-13T20:15:14.469Z"
   },
   {
    "duration": 10,
    "start_time": "2022-02-13T20:15:14.481Z"
   },
   {
    "duration": 10,
    "start_time": "2022-02-13T20:15:14.493Z"
   },
   {
    "duration": 23,
    "start_time": "2022-02-13T20:15:14.504Z"
   },
   {
    "duration": 17,
    "start_time": "2022-02-13T20:15:14.529Z"
   },
   {
    "duration": 7,
    "start_time": "2022-02-13T20:15:14.548Z"
   },
   {
    "duration": 4,
    "start_time": "2022-02-13T20:15:14.557Z"
   },
   {
    "duration": 10,
    "start_time": "2022-02-13T20:15:14.562Z"
   },
   {
    "duration": 4,
    "start_time": "2022-02-13T20:15:14.574Z"
   },
   {
    "duration": 15,
    "start_time": "2022-02-13T20:15:14.579Z"
   },
   {
    "duration": 36,
    "start_time": "2022-02-13T20:15:14.595Z"
   },
   {
    "duration": 5,
    "start_time": "2022-02-13T20:15:14.633Z"
   },
   {
    "duration": 6,
    "start_time": "2022-02-13T20:15:14.639Z"
   },
   {
    "duration": 9,
    "start_time": "2022-02-13T20:15:14.646Z"
   },
   {
    "duration": 10,
    "start_time": "2022-02-13T20:15:14.656Z"
   },
   {
    "duration": 16,
    "start_time": "2022-02-13T20:15:14.667Z"
   },
   {
    "duration": 44,
    "start_time": "2022-02-13T20:15:14.684Z"
   },
   {
    "duration": 15,
    "start_time": "2022-02-13T20:15:14.729Z"
   },
   {
    "duration": 7,
    "start_time": "2022-02-13T20:15:14.745Z"
   },
   {
    "duration": 23,
    "start_time": "2022-02-13T20:15:14.753Z"
   },
   {
    "duration": 15,
    "start_time": "2022-02-13T20:15:14.778Z"
   },
   {
    "duration": 33,
    "start_time": "2022-02-13T20:15:14.796Z"
   },
   {
    "duration": 12,
    "start_time": "2022-02-13T20:15:14.832Z"
   },
   {
    "duration": 8,
    "start_time": "2022-02-13T20:15:14.845Z"
   },
   {
    "duration": 9,
    "start_time": "2022-02-13T20:15:14.855Z"
   },
   {
    "duration": 13,
    "start_time": "2022-02-13T20:15:14.866Z"
   },
   {
    "duration": 15,
    "start_time": "2022-02-13T20:15:14.881Z"
   },
   {
    "duration": 38,
    "start_time": "2022-02-13T20:15:14.897Z"
   },
   {
    "duration": 11,
    "start_time": "2022-02-13T20:15:14.936Z"
   },
   {
    "duration": 5,
    "start_time": "2022-02-13T20:15:14.948Z"
   },
   {
    "duration": 10,
    "start_time": "2022-02-13T20:15:14.955Z"
   },
   {
    "duration": 15,
    "start_time": "2022-02-13T20:15:14.966Z"
   },
   {
    "duration": 17,
    "start_time": "2022-02-13T20:15:14.983Z"
   },
   {
    "duration": 27,
    "start_time": "2022-02-13T20:15:15.001Z"
   },
   {
    "duration": 21,
    "start_time": "2022-02-13T20:15:15.029Z"
   },
   {
    "duration": 4,
    "start_time": "2022-02-13T20:15:15.051Z"
   },
   {
    "duration": 22,
    "start_time": "2022-02-13T20:15:15.057Z"
   },
   {
    "duration": 4,
    "start_time": "2022-02-13T20:15:15.081Z"
   },
   {
    "duration": 355,
    "start_time": "2022-02-13T20:15:16.421Z"
   },
   {
    "duration": 58,
    "start_time": "2022-02-13T20:15:23.783Z"
   },
   {
    "duration": 11,
    "start_time": "2022-02-13T20:15:23.843Z"
   },
   {
    "duration": 12,
    "start_time": "2022-02-13T20:15:23.856Z"
   },
   {
    "duration": 11,
    "start_time": "2022-02-13T20:15:23.870Z"
   },
   {
    "duration": 46,
    "start_time": "2022-02-13T20:15:23.882Z"
   },
   {
    "duration": 18,
    "start_time": "2022-02-13T20:15:23.929Z"
   },
   {
    "duration": 7,
    "start_time": "2022-02-13T20:15:23.948Z"
   },
   {
    "duration": 5,
    "start_time": "2022-02-13T20:15:23.957Z"
   },
   {
    "duration": 7,
    "start_time": "2022-02-13T20:15:23.964Z"
   },
   {
    "duration": 5,
    "start_time": "2022-02-13T20:15:23.972Z"
   },
   {
    "duration": 12,
    "start_time": "2022-02-13T20:15:23.978Z"
   },
   {
    "duration": 41,
    "start_time": "2022-02-13T20:15:23.991Z"
   },
   {
    "duration": 5,
    "start_time": "2022-02-13T20:15:24.033Z"
   },
   {
    "duration": 5,
    "start_time": "2022-02-13T20:15:24.039Z"
   },
   {
    "duration": 9,
    "start_time": "2022-02-13T20:15:24.046Z"
   },
   {
    "duration": 12,
    "start_time": "2022-02-13T20:15:24.056Z"
   },
   {
    "duration": 17,
    "start_time": "2022-02-13T20:15:24.069Z"
   },
   {
    "duration": 42,
    "start_time": "2022-02-13T20:15:24.088Z"
   },
   {
    "duration": 16,
    "start_time": "2022-02-13T20:15:24.132Z"
   },
   {
    "duration": 6,
    "start_time": "2022-02-13T20:15:24.150Z"
   },
   {
    "duration": 30,
    "start_time": "2022-02-13T20:15:24.158Z"
   },
   {
    "duration": 15,
    "start_time": "2022-02-13T20:15:24.190Z"
   },
   {
    "duration": 23,
    "start_time": "2022-02-13T20:15:24.208Z"
   },
   {
    "duration": 12,
    "start_time": "2022-02-13T20:15:24.233Z"
   },
   {
    "duration": 8,
    "start_time": "2022-02-13T20:15:24.247Z"
   },
   {
    "duration": 8,
    "start_time": "2022-02-13T20:15:24.257Z"
   },
   {
    "duration": 16,
    "start_time": "2022-02-13T20:15:24.266Z"
   },
   {
    "duration": 16,
    "start_time": "2022-02-13T20:15:24.284Z"
   },
   {
    "duration": 8,
    "start_time": "2022-02-13T20:15:24.332Z"
   },
   {
    "duration": 23,
    "start_time": "2022-02-13T20:15:24.342Z"
   },
   {
    "duration": 8,
    "start_time": "2022-02-13T20:15:24.366Z"
   },
   {
    "duration": 10,
    "start_time": "2022-02-13T20:15:24.375Z"
   },
   {
    "duration": 9,
    "start_time": "2022-02-13T20:15:24.387Z"
   },
   {
    "duration": 24,
    "start_time": "2022-02-13T20:15:24.398Z"
   },
   {
    "duration": 5,
    "start_time": "2022-02-13T20:15:24.424Z"
   },
   {
    "duration": 18,
    "start_time": "2022-02-13T20:15:24.430Z"
   },
   {
    "duration": 5,
    "start_time": "2022-02-13T20:15:24.449Z"
   },
   {
    "duration": 59,
    "start_time": "2022-02-13T20:15:24.455Z"
   },
   {
    "duration": 6,
    "start_time": "2022-02-13T20:15:24.516Z"
   },
   {
    "duration": 17,
    "start_time": "2022-02-13T20:15:24.524Z"
   },
   {
    "duration": 5,
    "start_time": "2022-02-13T20:15:27.236Z"
   },
   {
    "duration": 5,
    "start_time": "2022-02-13T20:15:41.879Z"
   },
   {
    "duration": 5,
    "start_time": "2022-02-13T20:16:37.574Z"
   },
   {
    "duration": 4,
    "start_time": "2022-02-13T20:16:44.001Z"
   },
   {
    "duration": 4,
    "start_time": "2022-02-13T20:17:08.254Z"
   },
   {
    "duration": 4,
    "start_time": "2022-02-13T20:18:30.998Z"
   },
   {
    "duration": 9,
    "start_time": "2022-02-13T21:15:35.922Z"
   },
   {
    "duration": 5,
    "start_time": "2022-02-13T21:19:32.814Z"
   },
   {
    "duration": 5,
    "start_time": "2022-02-13T21:21:21.405Z"
   },
   {
    "duration": 3,
    "start_time": "2022-02-13T21:25:47.565Z"
   },
   {
    "duration": 3,
    "start_time": "2022-02-13T21:26:11.211Z"
   },
   {
    "duration": 330,
    "start_time": "2022-02-13T21:30:07.036Z"
   },
   {
    "duration": 641,
    "start_time": "2022-02-13T21:30:15.421Z"
   },
   {
    "duration": 11,
    "start_time": "2022-02-13T21:30:16.064Z"
   },
   {
    "duration": 14,
    "start_time": "2022-02-13T21:30:16.078Z"
   },
   {
    "duration": 12,
    "start_time": "2022-02-13T21:30:16.093Z"
   },
   {
    "duration": 23,
    "start_time": "2022-02-13T21:30:16.106Z"
   },
   {
    "duration": 19,
    "start_time": "2022-02-13T21:30:16.131Z"
   },
   {
    "duration": 7,
    "start_time": "2022-02-13T21:30:16.151Z"
   },
   {
    "duration": 5,
    "start_time": "2022-02-13T21:30:16.161Z"
   },
   {
    "duration": 11,
    "start_time": "2022-02-13T21:30:16.167Z"
   },
   {
    "duration": 7,
    "start_time": "2022-02-13T21:30:16.179Z"
   },
   {
    "duration": 47,
    "start_time": "2022-02-13T21:30:16.187Z"
   },
   {
    "duration": 7,
    "start_time": "2022-02-13T21:30:16.236Z"
   },
   {
    "duration": 6,
    "start_time": "2022-02-13T21:30:16.244Z"
   },
   {
    "duration": 3,
    "start_time": "2022-02-13T21:30:16.252Z"
   },
   {
    "duration": 13,
    "start_time": "2022-02-13T21:30:16.257Z"
   },
   {
    "duration": 12,
    "start_time": "2022-02-13T21:30:16.272Z"
   },
   {
    "duration": 4,
    "start_time": "2022-02-13T21:30:16.286Z"
   },
   {
    "duration": 16,
    "start_time": "2022-02-13T21:30:16.328Z"
   },
   {
    "duration": 18,
    "start_time": "2022-02-13T21:30:16.345Z"
   },
   {
    "duration": 7,
    "start_time": "2022-02-13T21:30:16.365Z"
   },
   {
    "duration": 25,
    "start_time": "2022-02-13T21:30:16.373Z"
   },
   {
    "duration": 41,
    "start_time": "2022-02-13T21:30:16.399Z"
   },
   {
    "duration": 6,
    "start_time": "2022-02-13T21:30:16.442Z"
   },
   {
    "duration": 12,
    "start_time": "2022-02-13T21:30:16.450Z"
   },
   {
    "duration": 6,
    "start_time": "2022-02-13T21:30:16.463Z"
   },
   {
    "duration": 7,
    "start_time": "2022-02-13T21:30:16.471Z"
   },
   {
    "duration": 14,
    "start_time": "2022-02-13T21:30:16.480Z"
   },
   {
    "duration": 4,
    "start_time": "2022-02-13T21:30:17.663Z"
   },
   {
    "duration": 54,
    "start_time": "2022-02-13T21:38:07.853Z"
   },
   {
    "duration": 9,
    "start_time": "2022-02-13T21:38:07.909Z"
   },
   {
    "duration": 9,
    "start_time": "2022-02-13T21:38:07.920Z"
   },
   {
    "duration": 11,
    "start_time": "2022-02-13T21:38:07.931Z"
   },
   {
    "duration": 5,
    "start_time": "2022-02-13T21:38:07.943Z"
   },
   {
    "duration": 43,
    "start_time": "2022-02-13T21:38:07.949Z"
   },
   {
    "duration": 109,
    "start_time": "2022-02-13T21:38:07.994Z"
   },
   {
    "duration": 107,
    "start_time": "2022-02-13T21:38:08.106Z"
   },
   {
    "duration": 100,
    "start_time": "2022-02-13T21:38:08.215Z"
   },
   {
    "duration": 88,
    "start_time": "2022-02-13T21:38:08.317Z"
   },
   {
    "duration": 12,
    "start_time": "2022-02-13T21:38:08.406Z"
   },
   {
    "duration": 6,
    "start_time": "2022-02-13T21:38:08.420Z"
   },
   {
    "duration": 5,
    "start_time": "2022-02-13T21:38:08.428Z"
   },
   {
    "duration": 4,
    "start_time": "2022-02-13T21:38:08.435Z"
   },
   {
    "duration": 8,
    "start_time": "2022-02-13T21:38:08.440Z"
   },
   {
    "duration": 12,
    "start_time": "2022-02-13T21:38:08.450Z"
   },
   {
    "duration": 3,
    "start_time": "2022-02-13T21:38:08.463Z"
   },
   {
    "duration": 15,
    "start_time": "2022-02-13T21:38:08.467Z"
   },
   {
    "duration": 47,
    "start_time": "2022-02-13T21:38:08.484Z"
   },
   {
    "duration": 6,
    "start_time": "2022-02-13T21:38:08.533Z"
   },
   {
    "duration": 22,
    "start_time": "2022-02-13T21:38:08.541Z"
   },
   {
    "duration": 14,
    "start_time": "2022-02-13T21:38:08.564Z"
   },
   {
    "duration": 6,
    "start_time": "2022-02-13T21:38:08.581Z"
   },
   {
    "duration": 11,
    "start_time": "2022-02-13T21:38:08.589Z"
   },
   {
    "duration": 28,
    "start_time": "2022-02-13T21:38:08.601Z"
   },
   {
    "duration": 6,
    "start_time": "2022-02-13T21:38:08.631Z"
   },
   {
    "duration": 16,
    "start_time": "2022-02-13T21:38:08.638Z"
   },
   {
    "duration": 4,
    "start_time": "2022-02-13T21:38:08.656Z"
   },
   {
    "duration": 12,
    "start_time": "2022-02-13T21:38:08.661Z"
   },
   {
    "duration": 14,
    "start_time": "2022-02-13T21:38:08.674Z"
   },
   {
    "duration": 3,
    "start_time": "2022-02-13T21:38:08.689Z"
   },
   {
    "duration": 9,
    "start_time": "2022-02-13T21:38:08.693Z"
   },
   {
    "duration": 33,
    "start_time": "2022-02-13T21:38:08.703Z"
   },
   {
    "duration": 18,
    "start_time": "2022-02-13T21:38:08.737Z"
   },
   {
    "duration": 4,
    "start_time": "2022-02-13T21:38:08.757Z"
   },
   {
    "duration": 17,
    "start_time": "2022-02-13T21:38:08.762Z"
   },
   {
    "duration": 4,
    "start_time": "2022-02-13T21:38:08.780Z"
   },
   {
    "duration": 46,
    "start_time": "2022-02-13T21:38:08.785Z"
   },
   {
    "duration": 3,
    "start_time": "2022-02-13T21:38:08.833Z"
   },
   {
    "duration": 15,
    "start_time": "2022-02-13T21:38:08.838Z"
   },
   {
    "duration": 706,
    "start_time": "2022-02-20T16:11:44.017Z"
   },
   {
    "duration": 14,
    "start_time": "2022-02-20T16:11:44.725Z"
   },
   {
    "duration": 17,
    "start_time": "2022-02-20T16:11:44.741Z"
   },
   {
    "duration": 13,
    "start_time": "2022-02-20T16:11:44.761Z"
   },
   {
    "duration": 6,
    "start_time": "2022-02-20T16:11:44.776Z"
   },
   {
    "duration": 46,
    "start_time": "2022-02-20T16:11:44.784Z"
   },
   {
    "duration": 10,
    "start_time": "2022-02-20T16:11:44.832Z"
   },
   {
    "duration": 6,
    "start_time": "2022-02-20T16:11:44.844Z"
   },
   {
    "duration": 11,
    "start_time": "2022-02-20T16:11:44.853Z"
   },
   {
    "duration": 43,
    "start_time": "2022-02-20T16:11:44.867Z"
   },
   {
    "duration": 17,
    "start_time": "2022-02-20T16:11:44.912Z"
   },
   {
    "duration": 12,
    "start_time": "2022-02-20T16:11:44.931Z"
   },
   {
    "duration": 14,
    "start_time": "2022-02-20T16:11:44.945Z"
   },
   {
    "duration": 5,
    "start_time": "2022-02-20T16:11:44.961Z"
   },
   {
    "duration": 43,
    "start_time": "2022-02-20T16:11:44.968Z"
   },
   {
    "duration": 15,
    "start_time": "2022-02-20T16:11:45.014Z"
   },
   {
    "duration": 9,
    "start_time": "2022-02-20T16:11:45.031Z"
   },
   {
    "duration": 27,
    "start_time": "2022-02-20T16:11:45.042Z"
   },
   {
    "duration": 36,
    "start_time": "2022-02-20T16:11:45.072Z"
   },
   {
    "duration": 8,
    "start_time": "2022-02-20T16:11:45.110Z"
   },
   {
    "duration": 39,
    "start_time": "2022-02-20T16:11:45.119Z"
   },
   {
    "duration": 20,
    "start_time": "2022-02-20T16:11:45.160Z"
   },
   {
    "duration": 27,
    "start_time": "2022-02-20T16:11:45.182Z"
   },
   {
    "duration": 17,
    "start_time": "2022-02-20T16:11:45.211Z"
   },
   {
    "duration": 12,
    "start_time": "2022-02-20T16:11:45.230Z"
   },
   {
    "duration": 15,
    "start_time": "2022-02-20T16:11:45.244Z"
   },
   {
    "duration": 18,
    "start_time": "2022-02-20T16:11:45.264Z"
   },
   {
    "duration": 22,
    "start_time": "2022-02-20T16:11:45.285Z"
   },
   {
    "duration": 14,
    "start_time": "2022-02-20T16:11:45.309Z"
   },
   {
    "duration": 23,
    "start_time": "2022-02-20T16:11:45.325Z"
   },
   {
    "duration": 8,
    "start_time": "2022-02-20T16:11:45.350Z"
   },
   {
    "duration": 18,
    "start_time": "2022-02-20T16:11:45.359Z"
   },
   {
    "duration": 27,
    "start_time": "2022-02-20T16:11:45.380Z"
   },
   {
    "duration": 23,
    "start_time": "2022-02-20T16:11:45.409Z"
   },
   {
    "duration": 5,
    "start_time": "2022-02-20T16:11:45.433Z"
   },
   {
    "duration": 28,
    "start_time": "2022-02-20T16:11:45.440Z"
   },
   {
    "duration": 6,
    "start_time": "2022-02-20T16:11:45.470Z"
   },
   {
    "duration": 24,
    "start_time": "2022-02-20T16:11:45.507Z"
   },
   {
    "duration": 6,
    "start_time": "2022-02-20T16:11:45.533Z"
   },
   {
    "duration": 29,
    "start_time": "2022-02-20T16:11:45.541Z"
   },
   {
    "duration": 5,
    "start_time": "2022-02-20T16:11:45.572Z"
   },
   {
    "duration": 9,
    "start_time": "2022-02-20T16:21:28.525Z"
   },
   {
    "duration": 20,
    "start_time": "2022-02-20T16:23:00.076Z"
   },
   {
    "duration": 31,
    "start_time": "2022-02-20T16:23:15.525Z"
   },
   {
    "duration": 711,
    "start_time": "2022-02-20T17:32:52.992Z"
   },
   {
    "duration": 85,
    "start_time": "2022-02-20T17:32:55.534Z"
   },
   {
    "duration": 46,
    "start_time": "2022-02-20T17:33:15.874Z"
   },
   {
    "duration": 62,
    "start_time": "2022-02-20T17:51:52.382Z"
   },
   {
    "duration": 5,
    "start_time": "2022-02-20T18:17:39.188Z"
   },
   {
    "duration": 108,
    "start_time": "2022-02-20T18:17:39.196Z"
   },
   {
    "duration": 113,
    "start_time": "2022-02-20T18:17:39.307Z"
   },
   {
    "duration": 36,
    "start_time": "2022-02-20T18:17:39.423Z"
   },
   {
    "duration": 19,
    "start_time": "2022-02-20T18:17:39.461Z"
   },
   {
    "duration": 9,
    "start_time": "2022-02-20T18:17:39.482Z"
   },
   {
    "duration": 72,
    "start_time": "2022-02-20T18:17:39.494Z"
   },
   {
    "duration": 14,
    "start_time": "2022-02-20T18:17:39.570Z"
   },
   {
    "duration": 15,
    "start_time": "2022-02-20T18:17:39.586Z"
   },
   {
    "duration": 15,
    "start_time": "2022-02-20T18:17:39.603Z"
   },
   {
    "duration": 46,
    "start_time": "2022-02-20T18:17:39.621Z"
   },
   {
    "duration": 13,
    "start_time": "2022-02-20T18:17:39.669Z"
   },
   {
    "duration": 15,
    "start_time": "2022-02-20T18:17:39.685Z"
   },
   {
    "duration": 45,
    "start_time": "2022-02-20T18:17:39.703Z"
   },
   {
    "duration": 15,
    "start_time": "2022-02-20T18:17:39.751Z"
   },
   {
    "duration": 17,
    "start_time": "2022-02-20T18:17:39.769Z"
   },
   {
    "duration": 5,
    "start_time": "2022-02-20T18:17:39.789Z"
   },
   {
    "duration": 63,
    "start_time": "2022-02-20T18:17:39.796Z"
   },
   {
    "duration": 29,
    "start_time": "2022-02-20T18:17:39.863Z"
   },
   {
    "duration": 10,
    "start_time": "2022-02-20T18:17:39.895Z"
   },
   {
    "duration": 72,
    "start_time": "2022-02-20T18:17:39.908Z"
   },
   {
    "duration": 25,
    "start_time": "2022-02-20T18:17:39.982Z"
   },
   {
    "duration": 11,
    "start_time": "2022-02-20T18:17:40.010Z"
   },
   {
    "duration": 42,
    "start_time": "2022-02-20T18:17:40.023Z"
   },
   {
    "duration": 16,
    "start_time": "2022-02-20T18:17:40.067Z"
   },
   {
    "duration": 14,
    "start_time": "2022-02-20T18:17:40.085Z"
   },
   {
    "duration": 50,
    "start_time": "2022-02-20T18:17:40.101Z"
   },
   {
    "duration": 6,
    "start_time": "2022-02-20T18:17:40.154Z"
   },
   {
    "duration": 20,
    "start_time": "2022-02-20T18:17:40.163Z"
   },
   {
    "duration": 16,
    "start_time": "2022-02-20T18:17:40.185Z"
   },
   {
    "duration": 44,
    "start_time": "2022-02-20T18:17:40.204Z"
   },
   {
    "duration": 14,
    "start_time": "2022-02-20T18:17:40.251Z"
   },
   {
    "duration": 23,
    "start_time": "2022-02-20T18:17:40.268Z"
   },
   {
    "duration": 32,
    "start_time": "2022-02-20T18:17:40.294Z"
   },
   {
    "duration": 8,
    "start_time": "2022-02-20T18:17:40.349Z"
   },
   {
    "duration": 44,
    "start_time": "2022-02-20T18:17:40.360Z"
   },
   {
    "duration": 8,
    "start_time": "2022-02-20T18:17:40.407Z"
   },
   {
    "duration": 47,
    "start_time": "2022-02-20T18:17:40.450Z"
   },
   {
    "duration": 9,
    "start_time": "2022-02-20T18:17:40.500Z"
   },
   {
    "duration": 61,
    "start_time": "2022-02-20T18:17:40.513Z"
   },
   {
    "duration": 8,
    "start_time": "2022-02-20T18:17:43.264Z"
   },
   {
    "duration": 105,
    "start_time": "2022-02-20T18:24:43.570Z"
   },
   {
    "duration": 41,
    "start_time": "2022-02-20T18:24:54.252Z"
   },
   {
    "duration": 32,
    "start_time": "2022-02-20T18:25:27.123Z"
   },
   {
    "duration": 28,
    "start_time": "2022-02-20T18:25:39.871Z"
   },
   {
    "duration": 29,
    "start_time": "2022-02-20T18:25:45.651Z"
   },
   {
    "duration": 34,
    "start_time": "2022-02-20T18:26:01.147Z"
   },
   {
    "duration": 3,
    "start_time": "2022-02-20T18:26:39.252Z"
   },
   {
    "duration": 113,
    "start_time": "2022-02-20T18:26:39.258Z"
   },
   {
    "duration": 78,
    "start_time": "2022-02-20T18:26:39.375Z"
   },
   {
    "duration": 16,
    "start_time": "2022-02-20T18:26:39.456Z"
   },
   {
    "duration": 20,
    "start_time": "2022-02-20T18:26:39.475Z"
   },
   {
    "duration": 21,
    "start_time": "2022-02-20T18:26:39.497Z"
   },
   {
    "duration": 59,
    "start_time": "2022-02-20T18:26:39.523Z"
   },
   {
    "duration": 12,
    "start_time": "2022-02-20T18:26:39.586Z"
   },
   {
    "duration": 9,
    "start_time": "2022-02-20T18:26:39.600Z"
   },
   {
    "duration": 9,
    "start_time": "2022-02-20T18:26:39.648Z"
   },
   {
    "duration": 30,
    "start_time": "2022-02-20T18:26:39.660Z"
   },
   {
    "duration": 10,
    "start_time": "2022-02-20T18:26:39.693Z"
   },
   {
    "duration": 43,
    "start_time": "2022-02-20T18:26:39.705Z"
   },
   {
    "duration": 6,
    "start_time": "2022-02-20T18:26:39.751Z"
   },
   {
    "duration": 15,
    "start_time": "2022-02-20T18:26:39.760Z"
   },
   {
    "duration": 21,
    "start_time": "2022-02-20T18:26:39.778Z"
   },
   {
    "duration": 5,
    "start_time": "2022-02-20T18:26:39.802Z"
   },
   {
    "duration": 34,
    "start_time": "2022-02-20T18:26:39.849Z"
   },
   {
    "duration": 25,
    "start_time": "2022-02-20T18:26:39.890Z"
   },
   {
    "duration": 35,
    "start_time": "2022-02-20T18:26:39.918Z"
   },
   {
    "duration": 43,
    "start_time": "2022-02-20T18:26:39.957Z"
   },
   {
    "duration": 53,
    "start_time": "2022-02-20T18:26:40.003Z"
   },
   {
    "duration": 11,
    "start_time": "2022-02-20T18:26:40.060Z"
   },
   {
    "duration": 26,
    "start_time": "2022-02-20T18:26:40.073Z"
   },
   {
    "duration": 13,
    "start_time": "2022-02-20T18:26:40.101Z"
   },
   {
    "duration": 34,
    "start_time": "2022-02-20T18:26:40.116Z"
   },
   {
    "duration": 26,
    "start_time": "2022-02-20T18:26:40.153Z"
   },
   {
    "duration": 8,
    "start_time": "2022-02-20T18:26:40.182Z"
   },
   {
    "duration": 16,
    "start_time": "2022-02-20T18:26:40.193Z"
   },
   {
    "duration": 53,
    "start_time": "2022-02-20T18:26:40.211Z"
   },
   {
    "duration": 12,
    "start_time": "2022-02-20T18:26:40.267Z"
   },
   {
    "duration": 17,
    "start_time": "2022-02-20T18:26:40.282Z"
   },
   {
    "duration": 20,
    "start_time": "2022-02-20T18:26:40.301Z"
   },
   {
    "duration": 1047,
    "start_time": "2022-02-20T18:26:49.257Z"
   },
   {
    "duration": 112,
    "start_time": "2022-02-20T18:26:50.307Z"
   },
   {
    "duration": 96,
    "start_time": "2022-02-20T18:26:50.424Z"
   },
   {
    "duration": 35,
    "start_time": "2022-02-20T18:26:50.526Z"
   },
   {
    "duration": 30,
    "start_time": "2022-02-20T18:26:50.564Z"
   },
   {
    "duration": 13,
    "start_time": "2022-02-20T18:26:50.597Z"
   },
   {
    "duration": 77,
    "start_time": "2022-02-20T18:26:50.617Z"
   },
   {
    "duration": 16,
    "start_time": "2022-02-20T18:26:50.699Z"
   },
   {
    "duration": 34,
    "start_time": "2022-02-20T18:26:50.721Z"
   },
   {
    "duration": 19,
    "start_time": "2022-02-20T18:26:50.759Z"
   },
   {
    "duration": 58,
    "start_time": "2022-02-20T18:26:50.782Z"
   },
   {
    "duration": 16,
    "start_time": "2022-02-20T18:26:50.843Z"
   },
   {
    "duration": 88,
    "start_time": "2022-02-20T18:26:50.862Z"
   },
   {
    "duration": 8,
    "start_time": "2022-02-20T18:26:50.954Z"
   },
   {
    "duration": 48,
    "start_time": "2022-02-20T18:26:50.965Z"
   },
   {
    "duration": 37,
    "start_time": "2022-02-20T18:26:51.016Z"
   },
   {
    "duration": 9,
    "start_time": "2022-02-20T18:26:51.057Z"
   },
   {
    "duration": 47,
    "start_time": "2022-02-20T18:26:51.070Z"
   },
   {
    "duration": 49,
    "start_time": "2022-02-20T18:26:51.120Z"
   },
   {
    "duration": 14,
    "start_time": "2022-02-20T18:26:51.172Z"
   },
   {
    "duration": 69,
    "start_time": "2022-02-20T18:26:51.189Z"
   },
   {
    "duration": 38,
    "start_time": "2022-02-20T18:26:51.261Z"
   },
   {
    "duration": 22,
    "start_time": "2022-02-20T18:26:51.305Z"
   },
   {
    "duration": 33,
    "start_time": "2022-02-20T18:26:51.330Z"
   },
   {
    "duration": 15,
    "start_time": "2022-02-20T18:26:51.367Z"
   },
   {
    "duration": 39,
    "start_time": "2022-02-20T18:26:51.386Z"
   },
   {
    "duration": 42,
    "start_time": "2022-02-20T18:26:51.428Z"
   },
   {
    "duration": 29,
    "start_time": "2022-02-20T18:26:51.473Z"
   },
   {
    "duration": 39,
    "start_time": "2022-02-20T18:26:51.505Z"
   },
   {
    "duration": 38,
    "start_time": "2022-02-20T18:26:51.547Z"
   },
   {
    "duration": 10,
    "start_time": "2022-02-20T18:26:51.587Z"
   },
   {
    "duration": 35,
    "start_time": "2022-02-20T18:26:51.601Z"
   },
   {
    "duration": 33,
    "start_time": "2022-02-20T18:26:51.639Z"
   },
   {
    "duration": 45,
    "start_time": "2022-02-20T18:32:46.400Z"
   },
   {
    "duration": 126,
    "start_time": "2022-02-20T18:33:24.562Z"
   },
   {
    "duration": 97,
    "start_time": "2022-02-20T18:33:42.850Z"
   },
   {
    "duration": 31,
    "start_time": "2022-02-20T18:33:49.269Z"
   },
   {
    "duration": 45,
    "start_time": "2022-02-20T18:33:59.462Z"
   },
   {
    "duration": 377,
    "start_time": "2022-02-20T18:35:31.277Z"
   },
   {
    "duration": 110,
    "start_time": "2022-02-20T18:35:42.624Z"
   },
   {
    "duration": 29,
    "start_time": "2022-02-20T18:35:50.437Z"
   },
   {
    "duration": 100,
    "start_time": "2022-02-20T18:35:53.005Z"
   },
   {
    "duration": 97,
    "start_time": "2022-02-20T18:36:06.339Z"
   },
   {
    "duration": 774,
    "start_time": "2022-02-20T18:36:26.940Z"
   },
   {
    "duration": 102,
    "start_time": "2022-02-20T18:36:27.717Z"
   },
   {
    "duration": 72,
    "start_time": "2022-02-20T18:36:27.823Z"
   },
   {
    "duration": 18,
    "start_time": "2022-02-20T18:36:27.898Z"
   },
   {
    "duration": 45,
    "start_time": "2022-02-20T18:36:27.919Z"
   },
   {
    "duration": 8,
    "start_time": "2022-02-20T18:36:27.967Z"
   },
   {
    "duration": 37,
    "start_time": "2022-02-20T18:36:27.977Z"
   },
   {
    "duration": 42,
    "start_time": "2022-02-20T18:36:28.018Z"
   },
   {
    "duration": 9,
    "start_time": "2022-02-20T18:36:28.064Z"
   },
   {
    "duration": 11,
    "start_time": "2022-02-20T18:36:28.076Z"
   },
   {
    "duration": 65,
    "start_time": "2022-02-20T18:36:28.089Z"
   },
   {
    "duration": 12,
    "start_time": "2022-02-20T18:36:28.157Z"
   },
   {
    "duration": 27,
    "start_time": "2022-02-20T18:36:28.172Z"
   },
   {
    "duration": 12,
    "start_time": "2022-02-20T18:36:28.202Z"
   },
   {
    "duration": 38,
    "start_time": "2022-02-20T18:36:28.217Z"
   },
   {
    "duration": 18,
    "start_time": "2022-02-20T18:36:28.258Z"
   },
   {
    "duration": 5,
    "start_time": "2022-02-20T18:36:28.279Z"
   },
   {
    "duration": 31,
    "start_time": "2022-02-20T18:36:28.286Z"
   },
   {
    "duration": 29,
    "start_time": "2022-02-20T18:36:28.348Z"
   },
   {
    "duration": 11,
    "start_time": "2022-02-20T18:36:28.379Z"
   },
   {
    "duration": 77,
    "start_time": "2022-02-20T18:36:28.392Z"
   },
   {
    "duration": 24,
    "start_time": "2022-02-20T18:36:28.471Z"
   },
   {
    "duration": 10,
    "start_time": "2022-02-20T18:36:28.500Z"
   },
   {
    "duration": 49,
    "start_time": "2022-02-20T18:36:28.512Z"
   },
   {
    "duration": 10,
    "start_time": "2022-02-20T18:36:28.564Z"
   },
   {
    "duration": 15,
    "start_time": "2022-02-20T18:36:28.578Z"
   },
   {
    "duration": 57,
    "start_time": "2022-02-20T18:36:28.596Z"
   },
   {
    "duration": 23,
    "start_time": "2022-02-20T18:36:28.655Z"
   },
   {
    "duration": 23,
    "start_time": "2022-02-20T18:36:28.681Z"
   },
   {
    "duration": 16,
    "start_time": "2022-02-20T18:36:28.706Z"
   },
   {
    "duration": 24,
    "start_time": "2022-02-20T18:36:28.725Z"
   },
   {
    "duration": 22,
    "start_time": "2022-02-20T18:36:28.752Z"
   },
   {
    "duration": 22,
    "start_time": "2022-02-20T18:36:28.777Z"
   },
   {
    "duration": 56,
    "start_time": "2022-02-20T18:36:28.802Z"
   },
   {
    "duration": 33,
    "start_time": "2022-02-20T18:36:33.485Z"
   },
   {
    "duration": 90,
    "start_time": "2022-02-20T18:36:34.921Z"
   },
   {
    "duration": 38,
    "start_time": "2022-02-20T18:37:33.955Z"
   },
   {
    "duration": 29,
    "start_time": "2022-02-20T18:37:34.813Z"
   },
   {
    "duration": 96,
    "start_time": "2022-02-20T18:37:50.561Z"
   },
   {
    "duration": 6,
    "start_time": "2022-02-20T18:38:03.832Z"
   },
   {
    "duration": 123,
    "start_time": "2022-02-20T18:38:35.164Z"
   },
   {
    "duration": 103,
    "start_time": "2022-02-20T18:38:39.980Z"
   },
   {
    "duration": 5,
    "start_time": "2022-02-20T18:39:07.740Z"
   },
   {
    "duration": 95,
    "start_time": "2022-02-20T18:39:15.956Z"
   },
   {
    "duration": 107,
    "start_time": "2022-02-20T18:39:23.820Z"
   },
   {
    "duration": 103,
    "start_time": "2022-02-20T18:40:12.964Z"
   },
   {
    "duration": 90,
    "start_time": "2022-02-20T18:40:37.395Z"
   },
   {
    "duration": 150,
    "start_time": "2022-02-20T18:41:14.864Z"
   },
   {
    "duration": 99,
    "start_time": "2022-02-20T18:41:17.454Z"
   },
   {
    "duration": 131,
    "start_time": "2022-02-20T18:41:21.447Z"
   },
   {
    "duration": 31,
    "start_time": "2022-02-20T18:41:58.367Z"
   },
   {
    "duration": 102,
    "start_time": "2022-02-20T18:42:08.973Z"
   },
   {
    "duration": 124,
    "start_time": "2022-02-20T18:42:12.874Z"
   },
   {
    "duration": 7,
    "start_time": "2022-02-20T18:43:36.349Z"
   },
   {
    "duration": 6,
    "start_time": "2022-02-20T18:43:48.765Z"
   },
   {
    "duration": 29,
    "start_time": "2022-02-20T18:43:51.829Z"
   },
   {
    "duration": 6,
    "start_time": "2022-02-20T18:43:53.445Z"
   },
   {
    "duration": 7,
    "start_time": "2022-02-20T18:45:21.864Z"
   },
   {
    "duration": 387,
    "start_time": "2022-02-20T18:45:30.132Z"
   },
   {
    "duration": 105,
    "start_time": "2022-02-20T18:45:42.826Z"
   },
   {
    "duration": 6,
    "start_time": "2022-02-20T18:45:53.260Z"
   },
   {
    "duration": 31,
    "start_time": "2022-02-20T18:46:28.060Z"
   },
   {
    "duration": 6,
    "start_time": "2022-02-20T18:46:40.083Z"
   },
   {
    "duration": 9,
    "start_time": "2022-02-20T18:47:02.448Z"
   },
   {
    "duration": 9,
    "start_time": "2022-02-20T18:47:08.731Z"
   },
   {
    "duration": 29,
    "start_time": "2022-02-20T18:48:26.651Z"
   },
   {
    "duration": 10,
    "start_time": "2022-02-20T18:48:32.606Z"
   },
   {
    "duration": 109,
    "start_time": "2022-02-20T18:49:58.997Z"
   },
   {
    "duration": 106,
    "start_time": "2022-02-20T18:50:18.613Z"
   },
   {
    "duration": 105,
    "start_time": "2022-02-20T18:50:41.274Z"
   },
   {
    "duration": 9,
    "start_time": "2022-02-20T18:51:43.876Z"
   },
   {
    "duration": 10,
    "start_time": "2022-02-20T18:53:06.672Z"
   },
   {
    "duration": 10,
    "start_time": "2022-02-20T18:53:30.519Z"
   },
   {
    "duration": 37,
    "start_time": "2022-02-20T18:56:44.665Z"
   },
   {
    "duration": 38,
    "start_time": "2022-02-20T18:57:14.757Z"
   },
   {
    "duration": 38,
    "start_time": "2022-02-20T18:57:47.811Z"
   },
   {
    "duration": 516,
    "start_time": "2022-02-20T18:59:45.332Z"
   },
   {
    "duration": 37,
    "start_time": "2022-02-20T18:59:53.267Z"
   },
   {
    "duration": 10,
    "start_time": "2022-02-20T19:00:15.976Z"
   },
   {
    "duration": 38,
    "start_time": "2022-02-20T19:04:21.293Z"
   },
   {
    "duration": 37,
    "start_time": "2022-02-20T19:04:30.921Z"
   },
   {
    "duration": 38,
    "start_time": "2022-02-20T19:04:58.812Z"
   },
   {
    "duration": 39,
    "start_time": "2022-02-20T19:05:14.436Z"
   },
   {
    "duration": 30,
    "start_time": "2022-02-20T19:07:47.844Z"
   },
   {
    "duration": 713,
    "start_time": "2022-02-20T19:16:47.768Z"
   },
   {
    "duration": 93,
    "start_time": "2022-02-20T19:16:48.484Z"
   },
   {
    "duration": 84,
    "start_time": "2022-02-20T19:16:48.581Z"
   },
   {
    "duration": 18,
    "start_time": "2022-02-20T19:16:48.669Z"
   },
   {
    "duration": 25,
    "start_time": "2022-02-20T19:16:48.690Z"
   },
   {
    "duration": 10,
    "start_time": "2022-02-20T19:16:48.750Z"
   },
   {
    "duration": 38,
    "start_time": "2022-02-20T19:16:48.762Z"
   },
   {
    "duration": 12,
    "start_time": "2022-02-20T19:16:48.804Z"
   },
   {
    "duration": 8,
    "start_time": "2022-02-20T19:16:48.850Z"
   },
   {
    "duration": 10,
    "start_time": "2022-02-20T19:16:48.862Z"
   },
   {
    "duration": 30,
    "start_time": "2022-02-20T19:16:48.876Z"
   },
   {
    "duration": 47,
    "start_time": "2022-02-20T19:16:48.909Z"
   },
   {
    "duration": 16,
    "start_time": "2022-02-20T19:16:48.959Z"
   },
   {
    "duration": 7,
    "start_time": "2022-02-20T19:16:48.977Z"
   },
   {
    "duration": 21,
    "start_time": "2022-02-20T19:16:48.987Z"
   },
   {
    "duration": 22,
    "start_time": "2022-02-20T19:16:50.959Z"
   },
   {
    "duration": 29,
    "start_time": "2022-02-20T19:17:15.584Z"
   },
   {
    "duration": 21,
    "start_time": "2022-02-20T19:17:22.538Z"
   },
   {
    "duration": 778,
    "start_time": "2022-02-20T19:19:05.034Z"
   },
   {
    "duration": 89,
    "start_time": "2022-02-20T19:19:05.815Z"
   },
   {
    "duration": 75,
    "start_time": "2022-02-20T19:19:05.907Z"
   },
   {
    "duration": 18,
    "start_time": "2022-02-20T19:19:05.985Z"
   },
   {
    "duration": 43,
    "start_time": "2022-02-20T19:19:06.006Z"
   },
   {
    "duration": 9,
    "start_time": "2022-02-20T19:19:06.052Z"
   },
   {
    "duration": 55,
    "start_time": "2022-02-20T19:19:06.064Z"
   },
   {
    "duration": 31,
    "start_time": "2022-02-20T19:19:06.123Z"
   },
   {
    "duration": 8,
    "start_time": "2022-02-20T19:19:06.157Z"
   },
   {
    "duration": 17,
    "start_time": "2022-02-20T19:19:06.168Z"
   },
   {
    "duration": 21,
    "start_time": "2022-02-20T19:19:06.188Z"
   },
   {
    "duration": 42,
    "start_time": "2022-02-20T19:19:06.212Z"
   },
   {
    "duration": 14,
    "start_time": "2022-02-20T19:19:06.257Z"
   },
   {
    "duration": 6,
    "start_time": "2022-02-20T19:19:06.274Z"
   },
   {
    "duration": 14,
    "start_time": "2022-02-20T19:19:06.283Z"
   },
   {
    "duration": 24,
    "start_time": "2022-02-20T19:19:09.148Z"
   },
   {
    "duration": 25,
    "start_time": "2022-02-20T19:19:15.419Z"
   },
   {
    "duration": 767,
    "start_time": "2022-02-20T19:22:46.746Z"
   },
   {
    "duration": 91,
    "start_time": "2022-02-20T19:22:47.516Z"
   },
   {
    "duration": 70,
    "start_time": "2022-02-20T19:22:47.610Z"
   },
   {
    "duration": 16,
    "start_time": "2022-02-20T19:22:47.683Z"
   },
   {
    "duration": 19,
    "start_time": "2022-02-20T19:22:47.702Z"
   },
   {
    "duration": 36,
    "start_time": "2022-02-20T19:22:47.724Z"
   },
   {
    "duration": 35,
    "start_time": "2022-02-20T19:22:47.763Z"
   },
   {
    "duration": 48,
    "start_time": "2022-02-20T19:22:47.802Z"
   },
   {
    "duration": 9,
    "start_time": "2022-02-20T19:22:47.854Z"
   },
   {
    "duration": 10,
    "start_time": "2022-02-20T19:22:47.866Z"
   },
   {
    "duration": 21,
    "start_time": "2022-02-20T19:22:47.879Z"
   },
   {
    "duration": 50,
    "start_time": "2022-02-20T19:22:47.903Z"
   },
   {
    "duration": 15,
    "start_time": "2022-02-20T19:22:47.955Z"
   },
   {
    "duration": 6,
    "start_time": "2022-02-20T19:22:47.972Z"
   },
   {
    "duration": 13,
    "start_time": "2022-02-20T19:22:47.981Z"
   },
   {
    "duration": 61,
    "start_time": "2022-02-20T19:22:47.996Z"
   },
   {
    "duration": 6,
    "start_time": "2022-02-20T19:22:48.060Z"
   },
   {
    "duration": 24,
    "start_time": "2022-02-20T19:22:48.069Z"
   },
   {
    "duration": 59,
    "start_time": "2022-02-20T19:22:48.096Z"
   },
   {
    "duration": 9,
    "start_time": "2022-02-20T19:22:48.158Z"
   },
   {
    "duration": 39,
    "start_time": "2022-02-20T19:22:48.169Z"
   },
   {
    "duration": 49,
    "start_time": "2022-02-20T19:22:48.210Z"
   },
   {
    "duration": 10,
    "start_time": "2022-02-20T19:22:48.264Z"
   },
   {
    "duration": 17,
    "start_time": "2022-02-20T19:22:48.277Z"
   },
   {
    "duration": 11,
    "start_time": "2022-02-20T19:22:48.296Z"
   },
   {
    "duration": 45,
    "start_time": "2022-02-20T19:22:48.309Z"
   },
   {
    "duration": 21,
    "start_time": "2022-02-20T19:22:48.356Z"
   },
   {
    "duration": 6,
    "start_time": "2022-02-20T19:22:48.379Z"
   },
   {
    "duration": 21,
    "start_time": "2022-02-20T19:22:48.388Z"
   },
   {
    "duration": 44,
    "start_time": "2022-02-20T19:22:48.411Z"
   },
   {
    "duration": 10,
    "start_time": "2022-02-20T19:22:48.457Z"
   },
   {
    "duration": 18,
    "start_time": "2022-02-20T19:22:48.469Z"
   },
   {
    "duration": 21,
    "start_time": "2022-02-20T19:22:48.489Z"
   },
   {
    "duration": 32,
    "start_time": "2022-02-20T19:22:50.084Z"
   },
   {
    "duration": 8,
    "start_time": "2022-02-20T19:23:03.473Z"
   },
   {
    "duration": 37,
    "start_time": "2022-02-20T19:23:05.576Z"
   },
   {
    "duration": 10,
    "start_time": "2022-02-20T19:23:07.117Z"
   },
   {
    "duration": 37,
    "start_time": "2022-02-20T19:23:11.093Z"
   },
   {
    "duration": 99,
    "start_time": "2022-02-20T19:24:27.668Z"
   },
   {
    "duration": 156,
    "start_time": "2022-02-20T19:24:41.320Z"
   },
   {
    "duration": 40,
    "start_time": "2022-02-20T19:25:11.499Z"
   },
   {
    "duration": 116,
    "start_time": "2022-02-20T19:25:14.715Z"
   },
   {
    "duration": 10,
    "start_time": "2022-02-20T19:25:31.176Z"
   },
   {
    "duration": 31,
    "start_time": "2022-02-20T19:37:45.324Z"
   },
   {
    "duration": 97,
    "start_time": "2022-02-20T19:37:50.176Z"
   },
   {
    "duration": 10,
    "start_time": "2022-02-20T19:37:57.207Z"
   },
   {
    "duration": 30,
    "start_time": "2022-02-20T19:38:05.455Z"
   },
   {
    "duration": 10,
    "start_time": "2022-02-20T19:38:07.232Z"
   },
   {
    "duration": 790,
    "start_time": "2022-02-20T19:45:59.313Z"
   },
   {
    "duration": 92,
    "start_time": "2022-02-20T19:46:00.105Z"
   },
   {
    "duration": 78,
    "start_time": "2022-02-20T19:46:00.200Z"
   },
   {
    "duration": 18,
    "start_time": "2022-02-20T19:46:00.282Z"
   },
   {
    "duration": 50,
    "start_time": "2022-02-20T19:46:00.303Z"
   },
   {
    "duration": 10,
    "start_time": "2022-02-20T19:46:00.357Z"
   },
   {
    "duration": 59,
    "start_time": "2022-02-20T19:46:00.369Z"
   },
   {
    "duration": 23,
    "start_time": "2022-02-20T19:46:00.431Z"
   },
   {
    "duration": 9,
    "start_time": "2022-02-20T19:46:00.457Z"
   },
   {
    "duration": 15,
    "start_time": "2022-02-20T19:46:00.469Z"
   },
   {
    "duration": 31,
    "start_time": "2022-02-20T19:46:00.486Z"
   },
   {
    "duration": 36,
    "start_time": "2022-02-20T19:46:00.520Z"
   },
   {
    "duration": 30,
    "start_time": "2022-02-20T19:46:00.559Z"
   },
   {
    "duration": 48,
    "start_time": "2022-02-20T19:46:00.591Z"
   },
   {
    "duration": 28,
    "start_time": "2022-02-20T19:46:00.642Z"
   },
   {
    "duration": 40,
    "start_time": "2022-02-20T19:46:00.673Z"
   },
   {
    "duration": 6,
    "start_time": "2022-02-20T19:46:00.716Z"
   },
   {
    "duration": 40,
    "start_time": "2022-02-20T19:46:00.725Z"
   },
   {
    "duration": 28,
    "start_time": "2022-02-20T19:46:00.768Z"
   },
   {
    "duration": 11,
    "start_time": "2022-02-20T19:46:00.799Z"
   },
   {
    "duration": 65,
    "start_time": "2022-02-20T19:46:00.813Z"
   },
   {
    "duration": 23,
    "start_time": "2022-02-20T19:46:00.880Z"
   },
   {
    "duration": 10,
    "start_time": "2022-02-20T19:46:00.909Z"
   },
   {
    "duration": 43,
    "start_time": "2022-02-20T19:46:00.922Z"
   },
   {
    "duration": 17,
    "start_time": "2022-02-20T19:46:00.967Z"
   },
   {
    "duration": 24,
    "start_time": "2022-02-20T19:46:00.987Z"
   },
   {
    "duration": 34,
    "start_time": "2022-02-20T19:46:01.014Z"
   },
   {
    "duration": 7,
    "start_time": "2022-02-20T19:46:01.051Z"
   },
   {
    "duration": 18,
    "start_time": "2022-02-20T19:46:01.060Z"
   },
   {
    "duration": 16,
    "start_time": "2022-02-20T19:46:01.081Z"
   },
   {
    "duration": 7,
    "start_time": "2022-02-20T19:46:01.100Z"
   },
   {
    "duration": 44,
    "start_time": "2022-02-20T19:46:01.110Z"
   },
   {
    "duration": 45,
    "start_time": "2022-02-20T19:46:01.157Z"
   },
   {
    "duration": 56,
    "start_time": "2022-02-20T19:46:01.205Z"
   },
   {
    "duration": 10,
    "start_time": "2022-02-20T19:46:01.264Z"
   },
   {
    "duration": 48,
    "start_time": "2022-02-20T19:46:01.277Z"
   },
   {
    "duration": 28,
    "start_time": "2022-02-20T19:46:01.327Z"
   },
   {
    "duration": 39,
    "start_time": "2022-02-20T19:46:01.357Z"
   },
   {
    "duration": 9,
    "start_time": "2022-02-20T19:46:01.398Z"
   },
   {
    "duration": 64,
    "start_time": "2022-02-20T19:46:01.410Z"
   },
   {
    "duration": 8,
    "start_time": "2022-02-20T19:46:01.477Z"
   }
  ],
  "kernelspec": {
   "display_name": "Python 3 (ipykernel)",
   "language": "python",
   "name": "python3"
  },
  "language_info": {
   "codemirror_mode": {
    "name": "ipython",
    "version": 3
   },
   "file_extension": ".py",
   "mimetype": "text/x-python",
   "name": "python",
   "nbconvert_exporter": "python",
   "pygments_lexer": "ipython3",
   "version": "3.9.7"
  },
  "toc": {
   "base_numbering": 1,
   "nav_menu": {},
   "number_sections": true,
   "sideBar": true,
   "skip_h1_title": true,
   "title_cell": "Table of Contents",
   "title_sidebar": "Contents",
   "toc_cell": false,
   "toc_position": {
    "height": "calc(100% - 180px)",
    "left": "10px",
    "top": "150px",
    "width": "366.391px"
   },
   "toc_section_display": true,
   "toc_window_display": true
  },
  "vscode": {
   "interpreter": {
    "hash": "9084149305211658ab4052027a8d1e1c51461838f039a26d6e4ff2eab2677170"
   }
  }
 },
 "nbformat": 4,
 "nbformat_minor": 5
}
