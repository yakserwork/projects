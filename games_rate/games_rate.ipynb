{
 "cells": [
  {
   "cell_type": "markdown",
   "id": "d3ea1dc4",
   "metadata": {},
   "source": [
    "# Исследование для интернет-магазина игр\n",
    "\n",
    "Заказчик - Интернет-магазин игр. Доступны исторические данные о продажах игр, оценки пользователей и экспертов, жанры и платформы.\n",
    "\n",
    "**Цель исследования**\n",
    "\n",
    "Выявить закономерности, определяющие успешность игры. Это позволит сделать ставку на потенциально популярный продукт и спланировать рекламные кампании. Перед нами данные до 2016 года.\n",
    "\n",
    "**Описание данных** \n",
    "\n",
    "Данные о продажах содержатся в файле `/datasets/games.csv`\n",
    "\n",
    "Данные за 2016 год могут быть неполными. Столбцы в таблице:\n",
    "* `Name` — название игры\n",
    "* `Platform` — платформа\n",
    "* `Year_of_Release` — год выпуска\n",
    "* `Genre` — жанр игры\n",
    "* `NA_sales` — продажи в Северной Америке (миллионы проданных копий)\n",
    "* `EU_sales` — продажи в Европе (миллионы проданных копий)\n",
    "* `JP_sales` — продажи в Японии (миллионы проданных копий)\n",
    "* `Other_sales` — продажи в других странах (миллионы проданных копий)\n",
    "* `Critic_Score` — оценка критиков (максимум 100)\n",
    "* `User_Score` — оценка пользователей (максимум 10)\n",
    "* `Rating` — рейтинг от организации ESRB (англ. Entertainment Software Rating\n",
    "Board)\n",
    "\n",
    "Аббревиатура ESRB (Entertainment Software Rating Board) — это ассоциация, определяющая возрастной рейтинг компьютерных игр. ESRB оценивает игровой контент и присваивает ему подходящую возрастную категорию, например, «Для взрослых», или «Для подростков» и т.д.\n",
    "\n",
    "**Ход исследования:**\n",
    "\n",
    "О качестве данных ничего не известно, поэтому перед исследованием понадобится обзор данных. На этапе подготовки нужно будет проверить данные на наличие пропусков, проверить типы данных в столбцах, исправить нарушения стиля, а также произвести необходимые расчеты и добавить их в таблицу. Затем провести исследовательский анализ данных и выявить закономерности, определяющие успешность игры. Далее мы проверим гипотезы и сформулируем общий вывод.\n",
    "\n",
    "Таким образом, исследование пройдёт в 5 этапов:\n",
    "\n",
    "1. Обзор данных.\n",
    "2. Подготовка данных.\n",
    "3. Исследовательский анализ данных.\n",
    "4. Выявление закономерностей успешности игры.\n",
    "5. Проверка гипотез.\n",
    "6. Общий вывод.\n",
    "\n",
    "## 1. Обзор данных\n",
    "### 1.1 Импорт библиотек\n",
    "\n",
    "В первую очередь импортируем необходимые для исследования библиотеки."
   ]
  },
  {
   "cell_type": "code",
   "execution_count": 1,
   "id": "ee557b08",
   "metadata": {},
   "outputs": [],
   "source": [
    "import numpy as np # импорт библиотеки numpy\n",
    "import pandas as pd # импорт библиотеки pandas\n",
    "from scipy import stats as st # импорт библиотеки stats\n",
    "import matplotlib.pyplot as plt # импорт библиотеки matplotlib"
   ]
  },
  {
   "cell_type": "markdown",
   "id": "4a59d0e3",
   "metadata": {},
   "source": [
    "### 1.2 Изучение данных из файла\n",
    "\n",
    "Сохраним полученные данные из файла `games.csv` в переменную `df` и выведем таблицу на экран первые 5 строк для ознакомления с данными."
   ]
  },
  {
   "cell_type": "code",
   "execution_count": 2,
   "id": "032a0e21",
   "metadata": {},
   "outputs": [
    {
     "data": {
      "text/html": [
       "<div>\n",
       "<style scoped>\n",
       "    .dataframe tbody tr th:only-of-type {\n",
       "        vertical-align: middle;\n",
       "    }\n",
       "\n",
       "    .dataframe tbody tr th {\n",
       "        vertical-align: top;\n",
       "    }\n",
       "\n",
       "    .dataframe thead th {\n",
       "        text-align: right;\n",
       "    }\n",
       "</style>\n",
       "<table border=\"1\" class=\"dataframe\">\n",
       "  <thead>\n",
       "    <tr style=\"text-align: right;\">\n",
       "      <th></th>\n",
       "      <th>Name</th>\n",
       "      <th>Platform</th>\n",
       "      <th>Year_of_Release</th>\n",
       "      <th>Genre</th>\n",
       "      <th>NA_sales</th>\n",
       "      <th>EU_sales</th>\n",
       "      <th>JP_sales</th>\n",
       "      <th>Other_sales</th>\n",
       "      <th>Critic_Score</th>\n",
       "      <th>User_Score</th>\n",
       "      <th>Rating</th>\n",
       "    </tr>\n",
       "  </thead>\n",
       "  <tbody>\n",
       "    <tr>\n",
       "      <th>0</th>\n",
       "      <td>Wii Sports</td>\n",
       "      <td>Wii</td>\n",
       "      <td>2006.0</td>\n",
       "      <td>Sports</td>\n",
       "      <td>41.36</td>\n",
       "      <td>28.96</td>\n",
       "      <td>3.77</td>\n",
       "      <td>8.45</td>\n",
       "      <td>76.0</td>\n",
       "      <td>8</td>\n",
       "      <td>E</td>\n",
       "    </tr>\n",
       "    <tr>\n",
       "      <th>1</th>\n",
       "      <td>Super Mario Bros.</td>\n",
       "      <td>NES</td>\n",
       "      <td>1985.0</td>\n",
       "      <td>Platform</td>\n",
       "      <td>29.08</td>\n",
       "      <td>3.58</td>\n",
       "      <td>6.81</td>\n",
       "      <td>0.77</td>\n",
       "      <td>NaN</td>\n",
       "      <td>NaN</td>\n",
       "      <td>NaN</td>\n",
       "    </tr>\n",
       "    <tr>\n",
       "      <th>2</th>\n",
       "      <td>Mario Kart Wii</td>\n",
       "      <td>Wii</td>\n",
       "      <td>2008.0</td>\n",
       "      <td>Racing</td>\n",
       "      <td>15.68</td>\n",
       "      <td>12.76</td>\n",
       "      <td>3.79</td>\n",
       "      <td>3.29</td>\n",
       "      <td>82.0</td>\n",
       "      <td>8.3</td>\n",
       "      <td>E</td>\n",
       "    </tr>\n",
       "    <tr>\n",
       "      <th>3</th>\n",
       "      <td>Wii Sports Resort</td>\n",
       "      <td>Wii</td>\n",
       "      <td>2009.0</td>\n",
       "      <td>Sports</td>\n",
       "      <td>15.61</td>\n",
       "      <td>10.93</td>\n",
       "      <td>3.28</td>\n",
       "      <td>2.95</td>\n",
       "      <td>80.0</td>\n",
       "      <td>8</td>\n",
       "      <td>E</td>\n",
       "    </tr>\n",
       "    <tr>\n",
       "      <th>4</th>\n",
       "      <td>Pokemon Red/Pokemon Blue</td>\n",
       "      <td>GB</td>\n",
       "      <td>1996.0</td>\n",
       "      <td>Role-Playing</td>\n",
       "      <td>11.27</td>\n",
       "      <td>8.89</td>\n",
       "      <td>10.22</td>\n",
       "      <td>1.00</td>\n",
       "      <td>NaN</td>\n",
       "      <td>NaN</td>\n",
       "      <td>NaN</td>\n",
       "    </tr>\n",
       "  </tbody>\n",
       "</table>\n",
       "</div>"
      ],
      "text/plain": [
       "                       Name Platform  Year_of_Release         Genre  NA_sales  \\\n",
       "0                Wii Sports      Wii           2006.0        Sports     41.36   \n",
       "1         Super Mario Bros.      NES           1985.0      Platform     29.08   \n",
       "2            Mario Kart Wii      Wii           2008.0        Racing     15.68   \n",
       "3         Wii Sports Resort      Wii           2009.0        Sports     15.61   \n",
       "4  Pokemon Red/Pokemon Blue       GB           1996.0  Role-Playing     11.27   \n",
       "\n",
       "   EU_sales  JP_sales  Other_sales  Critic_Score User_Score Rating  \n",
       "0     28.96      3.77         8.45          76.0          8      E  \n",
       "1      3.58      6.81         0.77           NaN        NaN    NaN  \n",
       "2     12.76      3.79         3.29          82.0        8.3      E  \n",
       "3     10.93      3.28         2.95          80.0          8      E  \n",
       "4      8.89     10.22         1.00           NaN        NaN    NaN  "
      ]
     },
     "metadata": {},
     "output_type": "display_data"
    }
   ],
   "source": [
    "df = pd.read_csv('/datasets/games.csv') # сохранение таблицы в переменную   \n",
    "display(df.head()) # вывод первых 5 строк таблицы"
   ]
  },
  {
   "cell_type": "markdown",
   "id": "53b158da",
   "metadata": {},
   "source": [
    "Данные отображаются корректно, посмотрим на структуру данных более детально с помощью метода `info()`."
   ]
  },
  {
   "cell_type": "code",
   "execution_count": 3,
   "id": "098fe2a9",
   "metadata": {},
   "outputs": [
    {
     "name": "stdout",
     "output_type": "stream",
     "text": [
      "<class 'pandas.core.frame.DataFrame'>\n",
      "RangeIndex: 16715 entries, 0 to 16714\n",
      "Data columns (total 11 columns):\n",
      " #   Column           Non-Null Count  Dtype  \n",
      "---  ------           --------------  -----  \n",
      " 0   Name             16713 non-null  object \n",
      " 1   Platform         16715 non-null  object \n",
      " 2   Year_of_Release  16446 non-null  float64\n",
      " 3   Genre            16713 non-null  object \n",
      " 4   NA_sales         16715 non-null  float64\n",
      " 5   EU_sales         16715 non-null  float64\n",
      " 6   JP_sales         16715 non-null  float64\n",
      " 7   Other_sales      16715 non-null  float64\n",
      " 8   Critic_Score     8137 non-null   float64\n",
      " 9   User_Score       10014 non-null  object \n",
      " 10  Rating           9949 non-null   object \n",
      "dtypes: float64(6), object(5)\n",
      "memory usage: 1.4+ MB\n"
     ]
    }
   ],
   "source": [
    "df.info() # информация о структуре таблицы"
   ]
  },
  {
   "cell_type": "markdown",
   "id": "c4dd4dd7",
   "metadata": {},
   "source": [
    " ### 1.3 Вывод\n",
    " \n",
    " После обзора данных были обнаружены проблемы, которые нужно решить на этапе предобработки:\n",
    " 1. Исправить названия столбцов, так как нарушен стиль.\n",
    " 2. Преобразовать данные в стоблцах в нужные типы.\n",
    " 3. По возможности избавиться от пропущенных значений.\n",
    "\n",
    "## 2. Подготовка данных\n",
    "### 2.1 Предобработка\n",
    "\n",
    "Начнем с изменения названия столбцов. Названия уже записаны в змеином регистре, нужно только привести их к нижнему регистру."
   ]
  },
  {
   "cell_type": "code",
   "execution_count": 4,
   "id": "3f2e3475",
   "metadata": {
    "scrolled": true
   },
   "outputs": [
    {
     "data": {
      "text/plain": [
       "Index(['name', 'platform', 'year_of_release', 'genre', 'na_sales', 'eu_sales',\n",
       "       'jp_sales', 'other_sales', 'critic_score', 'user_score', 'rating'],\n",
       "      dtype='object')"
      ]
     },
     "execution_count": 4,
     "metadata": {},
     "output_type": "execute_result"
    }
   ],
   "source": [
    "df.columns = df.columns.str.lower() # приведение названия столбцов к нижнему регистру\n",
    "df.columns # вывод на экран названия столбцов"
   ]
  },
  {
   "cell_type": "markdown",
   "id": "65be761d",
   "metadata": {},
   "source": [
    "Посчитаем процент пропусков в каждом столбце от всего датасета."
   ]
  },
  {
   "cell_type": "code",
   "execution_count": 5,
   "id": "8c6ebf4c",
   "metadata": {
    "scrolled": true
   },
   "outputs": [
    {
     "data": {
      "text/plain": [
       "name                0.011965\n",
       "platform            0.000000\n",
       "year_of_release     1.609333\n",
       "genre               0.011965\n",
       "na_sales            0.000000\n",
       "eu_sales            0.000000\n",
       "jp_sales            0.000000\n",
       "other_sales         0.000000\n",
       "critic_score       51.319174\n",
       "user_score         40.089740\n",
       "rating             40.478612\n",
       "dtype: float64"
      ]
     },
     "execution_count": 5,
     "metadata": {},
     "output_type": "execute_result"
    }
   ],
   "source": [
    "df.isna().mean() * 100 # подсчет процента значения пропусков в столбцах"
   ]
  },
  {
   "cell_type": "markdown",
   "id": "59fafcf4",
   "metadata": {},
   "source": [
    "В столбцах `name` и `year_of_release` пропущенных значений в сумме менее 2% от всего датасета, поэтому можно удалить строки полностью."
   ]
  },
  {
   "cell_type": "code",
   "execution_count": 6,
   "id": "60ce525e",
   "metadata": {
    "scrolled": true
   },
   "outputs": [],
   "source": [
    "df = df.dropna(subset=['name', 'year_of_release']) # удаление строк с пропусками"
   ]
  },
  {
   "cell_type": "markdown",
   "id": "0c14ecf3",
   "metadata": {},
   "source": [
    "В `year_of_release` поменяем тип данных с `float` на `int`, так как годы - это целочисленные значения. Сделаем преобразование в `user_score`, который содержит вещественные значения, поменяем тип данных с `object` на `float`. Повторно проверим процент пропусков в столбцах."
   ]
  },
  {
   "cell_type": "code",
   "execution_count": 7,
   "id": "fbc23880",
   "metadata": {
    "scrolled": false
   },
   "outputs": [
    {
     "data": {
      "text/plain": [
       "name                0.000000\n",
       "platform            0.000000\n",
       "year_of_release     0.000000\n",
       "genre               0.000000\n",
       "na_sales            0.000000\n",
       "eu_sales            0.000000\n",
       "jp_sales            0.000000\n",
       "other_sales         0.000000\n",
       "critic_score       51.453418\n",
       "user_score         54.615665\n",
       "rating             40.598395\n",
       "dtype: float64"
      ]
     },
     "execution_count": 7,
     "metadata": {},
     "output_type": "execute_result"
    }
   ],
   "source": [
    "df['year_of_release'] = df['year_of_release'].astype('int') # замена типа данных\n",
    "df['user_score'] = df['user_score'].replace('tbd', np.nan) # замена значения на NaN\n",
    "df['user_score'] = df['user_score'].astype('float') # замена типа данных\n",
    "df.isna().mean() * 100 # подсчет процента пропусков"
   ]
  },
  {
   "cell_type": "markdown",
   "id": "19fb1d76",
   "metadata": {},
   "source": [
    "При попытке поменять тип данных в `user_score`, возникала ошибка ***ValueError: could not convert string to float: 'tbd'***\n",
    "\n",
    "Аббревиатура **tbd** расшифровывается как \"to be determined\", что переводится как \"будет опредлен позже\", то есть рейтинг еще не определен. Мы заменили эти ячейки пропусками, чтобы в дальнейшем решить вопрос уже со всеми пропусками. При повторном запуске функции `replace`, ошибки не возникло.Сейчас типы данных соответствуют данным в ячейках. \n",
    "\n",
    "Осталось большое количество пропусков в столбцах `critic_score` и `user_score `. Заполним пропуски оценок, взяв значения таких же игр, но на других платформах, у которых оценки не пропущены."
   ]
  },
  {
   "cell_type": "code",
   "execution_count": 8,
   "id": "6fd3b1f4",
   "metadata": {
    "code_folding": [],
    "scrolled": true
   },
   "outputs": [
    {
     "data": {
      "text/plain": [
       "name                0.000000\n",
       "platform            0.000000\n",
       "year_of_release     0.000000\n",
       "genre               0.000000\n",
       "na_sales            0.000000\n",
       "eu_sales            0.000000\n",
       "jp_sales            0.000000\n",
       "other_sales         0.000000\n",
       "critic_score       45.743128\n",
       "user_score         48.163464\n",
       "rating             40.598395\n",
       "dtype: float64"
      ]
     },
     "execution_count": 8,
     "metadata": {},
     "output_type": "execute_result"
    }
   ],
   "source": [
    "df['critic_score'] = df['critic_score'].fillna(df.groupby('name')['critic_score'].transform('median')) # замены пропусков\n",
    "df['user_score'] = df['user_score'].fillna(df.groupby('name')['user_score'].transform('median'))  # по медиане\n",
    "\n",
    "df.isna().mean() * 100"
   ]
  },
  {
   "cell_type": "markdown",
   "id": "d15a2d65",
   "metadata": {},
   "source": [
    "Удалось заполнить 6% пропусков в столбцах. Для исследования потребуются точные данные этих столбцов. Так как нет способа, который корректно заменил бы пропущенные значения, то оставим их без изменений.\n",
    "\n",
    "Рассмотрим пропуски в столбце `rating`. Организация ESRB определяет рейтинг для компьютерных видеоигр и другого развлекательного программного обеспечения в США и Канаде. Посмотрим для каких платформ больше всего пропусков, выведем первые 10 строк таблицы."
   ]
  },
  {
   "cell_type": "code",
   "execution_count": 9,
   "id": "3d42b923",
   "metadata": {},
   "outputs": [
    {
     "data": {
      "text/html": [
       "<div>\n",
       "<style scoped>\n",
       "    .dataframe tbody tr th:only-of-type {\n",
       "        vertical-align: middle;\n",
       "    }\n",
       "\n",
       "    .dataframe tbody tr th {\n",
       "        vertical-align: top;\n",
       "    }\n",
       "\n",
       "    .dataframe thead th {\n",
       "        text-align: right;\n",
       "    }\n",
       "</style>\n",
       "<table border=\"1\" class=\"dataframe\">\n",
       "  <thead>\n",
       "    <tr style=\"text-align: right;\">\n",
       "      <th></th>\n",
       "      <th>name</th>\n",
       "    </tr>\n",
       "    <tr>\n",
       "      <th>platform</th>\n",
       "      <th></th>\n",
       "    </tr>\n",
       "  </thead>\n",
       "  <tbody>\n",
       "    <tr>\n",
       "      <th>PS</th>\n",
       "      <td>986</td>\n",
       "    </tr>\n",
       "    <tr>\n",
       "      <th>DS</th>\n",
       "      <td>866</td>\n",
       "    </tr>\n",
       "    <tr>\n",
       "      <th>PS2</th>\n",
       "      <td>671</td>\n",
       "    </tr>\n",
       "    <tr>\n",
       "      <th>PSP</th>\n",
       "      <td>657</td>\n",
       "    </tr>\n",
       "    <tr>\n",
       "      <th>PS3</th>\n",
       "      <td>371</td>\n",
       "    </tr>\n",
       "    <tr>\n",
       "      <th>N64</th>\n",
       "      <td>316</td>\n",
       "    </tr>\n",
       "    <tr>\n",
       "      <th>Wii</th>\n",
       "      <td>309</td>\n",
       "    </tr>\n",
       "    <tr>\n",
       "      <th>GBA</th>\n",
       "      <td>297</td>\n",
       "    </tr>\n",
       "    <tr>\n",
       "      <th>3DS</th>\n",
       "      <td>289</td>\n",
       "    </tr>\n",
       "    <tr>\n",
       "      <th>PSV</th>\n",
       "      <td>279</td>\n",
       "    </tr>\n",
       "  </tbody>\n",
       "</table>\n",
       "</div>"
      ],
      "text/plain": [
       "          name\n",
       "platform      \n",
       "PS         986\n",
       "DS         866\n",
       "PS2        671\n",
       "PSP        657\n",
       "PS3        371\n",
       "N64        316\n",
       "Wii        309\n",
       "GBA        297\n",
       "3DS        289\n",
       "PSV        279"
      ]
     },
     "execution_count": 9,
     "metadata": {},
     "output_type": "execute_result"
    }
   ],
   "source": [
    "df[df['rating'].isna()].pivot_table(\n",
    "    index='platform', values='name', aggfunc='count').sort_values(\n",
    "    by='name', ascending=False).head(10)"
   ]
  },
  {
   "cell_type": "markdown",
   "id": "00272c5c",
   "metadata": {},
   "source": [
    "Все платформы разработаны в Японии. Вероятно это означает, что пропуски обусловлены локальным рынком. Укажем, что рейтинг не определен."
   ]
  },
  {
   "cell_type": "code",
   "execution_count": 10,
   "id": "f8a64a60",
   "metadata": {},
   "outputs": [],
   "source": [
    "df['rating'] = df['rating'].fillna('unknown')"
   ]
  },
  {
   "cell_type": "markdown",
   "id": "ce9927ac",
   "metadata": {},
   "source": [
    "Проерим датасет на наличие явных дубликатов."
   ]
  },
  {
   "cell_type": "code",
   "execution_count": 11,
   "id": "45bf82d7",
   "metadata": {},
   "outputs": [
    {
     "data": {
      "text/plain": [
       "0"
      ]
     },
     "execution_count": 11,
     "metadata": {},
     "output_type": "execute_result"
    }
   ],
   "source": [
    "df.duplicated().sum()"
   ]
  },
  {
   "cell_type": "markdown",
   "id": "62ef42fd",
   "metadata": {},
   "source": [
    "### 2.2 Расчеты\n",
    "\n",
    "На этом этапе нужно посчитать суммарные продажи во всех регионах и записать их в отдельный столбец. Проверим результат."
   ]
  },
  {
   "cell_type": "code",
   "execution_count": 12,
   "id": "5a3d8a4d",
   "metadata": {
    "scrolled": false
   },
   "outputs": [
    {
     "data": {
      "text/html": [
       "<div>\n",
       "<style scoped>\n",
       "    .dataframe tbody tr th:only-of-type {\n",
       "        vertical-align: middle;\n",
       "    }\n",
       "\n",
       "    .dataframe tbody tr th {\n",
       "        vertical-align: top;\n",
       "    }\n",
       "\n",
       "    .dataframe thead th {\n",
       "        text-align: right;\n",
       "    }\n",
       "</style>\n",
       "<table border=\"1\" class=\"dataframe\">\n",
       "  <thead>\n",
       "    <tr style=\"text-align: right;\">\n",
       "      <th></th>\n",
       "      <th>name</th>\n",
       "      <th>platform</th>\n",
       "      <th>year_of_release</th>\n",
       "      <th>genre</th>\n",
       "      <th>na_sales</th>\n",
       "      <th>eu_sales</th>\n",
       "      <th>jp_sales</th>\n",
       "      <th>other_sales</th>\n",
       "      <th>critic_score</th>\n",
       "      <th>user_score</th>\n",
       "      <th>rating</th>\n",
       "      <th>all_sales</th>\n",
       "    </tr>\n",
       "  </thead>\n",
       "  <tbody>\n",
       "    <tr>\n",
       "      <th>0</th>\n",
       "      <td>Wii Sports</td>\n",
       "      <td>Wii</td>\n",
       "      <td>2006</td>\n",
       "      <td>Sports</td>\n",
       "      <td>41.36</td>\n",
       "      <td>28.96</td>\n",
       "      <td>3.77</td>\n",
       "      <td>8.45</td>\n",
       "      <td>76.0</td>\n",
       "      <td>8.0</td>\n",
       "      <td>E</td>\n",
       "      <td>82.54</td>\n",
       "    </tr>\n",
       "    <tr>\n",
       "      <th>1</th>\n",
       "      <td>Super Mario Bros.</td>\n",
       "      <td>NES</td>\n",
       "      <td>1985</td>\n",
       "      <td>Platform</td>\n",
       "      <td>29.08</td>\n",
       "      <td>3.58</td>\n",
       "      <td>6.81</td>\n",
       "      <td>0.77</td>\n",
       "      <td>NaN</td>\n",
       "      <td>NaN</td>\n",
       "      <td>unknown</td>\n",
       "      <td>40.24</td>\n",
       "    </tr>\n",
       "    <tr>\n",
       "      <th>2</th>\n",
       "      <td>Mario Kart Wii</td>\n",
       "      <td>Wii</td>\n",
       "      <td>2008</td>\n",
       "      <td>Racing</td>\n",
       "      <td>15.68</td>\n",
       "      <td>12.76</td>\n",
       "      <td>3.79</td>\n",
       "      <td>3.29</td>\n",
       "      <td>82.0</td>\n",
       "      <td>8.3</td>\n",
       "      <td>E</td>\n",
       "      <td>35.52</td>\n",
       "    </tr>\n",
       "    <tr>\n",
       "      <th>3</th>\n",
       "      <td>Wii Sports Resort</td>\n",
       "      <td>Wii</td>\n",
       "      <td>2009</td>\n",
       "      <td>Sports</td>\n",
       "      <td>15.61</td>\n",
       "      <td>10.93</td>\n",
       "      <td>3.28</td>\n",
       "      <td>2.95</td>\n",
       "      <td>80.0</td>\n",
       "      <td>8.0</td>\n",
       "      <td>E</td>\n",
       "      <td>32.77</td>\n",
       "    </tr>\n",
       "    <tr>\n",
       "      <th>4</th>\n",
       "      <td>Pokemon Red/Pokemon Blue</td>\n",
       "      <td>GB</td>\n",
       "      <td>1996</td>\n",
       "      <td>Role-Playing</td>\n",
       "      <td>11.27</td>\n",
       "      <td>8.89</td>\n",
       "      <td>10.22</td>\n",
       "      <td>1.00</td>\n",
       "      <td>NaN</td>\n",
       "      <td>NaN</td>\n",
       "      <td>unknown</td>\n",
       "      <td>31.38</td>\n",
       "    </tr>\n",
       "  </tbody>\n",
       "</table>\n",
       "</div>"
      ],
      "text/plain": [
       "                       name platform  year_of_release         genre  na_sales  \\\n",
       "0                Wii Sports      Wii             2006        Sports     41.36   \n",
       "1         Super Mario Bros.      NES             1985      Platform     29.08   \n",
       "2            Mario Kart Wii      Wii             2008        Racing     15.68   \n",
       "3         Wii Sports Resort      Wii             2009        Sports     15.61   \n",
       "4  Pokemon Red/Pokemon Blue       GB             1996  Role-Playing     11.27   \n",
       "\n",
       "   eu_sales  jp_sales  other_sales  critic_score  user_score   rating  \\\n",
       "0     28.96      3.77         8.45          76.0         8.0        E   \n",
       "1      3.58      6.81         0.77           NaN         NaN  unknown   \n",
       "2     12.76      3.79         3.29          82.0         8.3        E   \n",
       "3     10.93      3.28         2.95          80.0         8.0        E   \n",
       "4      8.89     10.22         1.00           NaN         NaN  unknown   \n",
       "\n",
       "   all_sales  \n",
       "0      82.54  \n",
       "1      40.24  \n",
       "2      35.52  \n",
       "3      32.77  \n",
       "4      31.38  "
      ]
     },
     "metadata": {},
     "output_type": "display_data"
    }
   ],
   "source": [
    "df['all_sales'] = df['na_sales'] + df['eu_sales'] + df['jp_sales'] + df['other_sales'] # добавление нового столбца\n",
    "display(df.head()) # вывод таблицы на экран"
   ]
  },
  {
   "cell_type": "markdown",
   "id": "caaa39d4",
   "metadata": {},
   "source": [
    "### 2.3 Вывод\n",
    "\n",
    "На этом этап подготовки данных заканчивается. Мы исправили нарушения стиля, преобразовали типы данных и избавились от пропусков там, где это было возможно. Было удалено не более 2% данных датасета, что не окажет влияния на результаты. Также мы провели необходимые расчеты и добавили данные в таблицу.\n",
    "\n",
    "## 3. Исследовательский анализ данных\n",
    "\n",
    "На данном этапе нужно провести исследование и ответить на вопросы:\n",
    "\n",
    "1. Посмотреть, сколько игр выпускалось в разные годы и выяснить важны ли данные за все периоды.\n",
    "\n",
    "\n",
    "2. Посмотреть, как менялись продажи по платформам. Выбрать платформы с наибольшими суммарными продажами и построить распределение по годам. Выяснить за какой характерный срок появляются новые и исчезают старые платформы.\n",
    "\n",
    "\n",
    "3. Взять данные за соответствующий актуальный период, который был определен в первых двух пунктах. Основной фактор - эти данные помогут построить прогноз на 2017 год. Не учитывать в работе данные за предыдущие годы. \n",
    "\n",
    "\n",
    "4. Выяснить какие платформы лидируют по продажам, растут или падают. Выбрать несколько потенциально прибыльных платформ.\n",
    "\n",
    "\n",
    "5. Построить график «ящик с усами» по глобальным продажам игр в разбивке по платформам. Описать результат.\n",
    "\n",
    "\n",
    "6. Посмотреть, как влияют на продажи внутри одной популярной платформы отзывы пользователей и критиков. Построить диаграмму рассеяния и посчитать корреляцию между отзывами и продажами. Сформулировать выводы. Соотнести выводы с продажами игр на других платформах.\n",
    "\n",
    "\n",
    "7. Посмотреть на общее распределение игр по жанрам. Выяснить, что можно сказать о самых прибыльных жанрах и выделяются ли жанры с высокими и низкими продажами.\n",
    "\n",
    "### 3.1 Cколько игр выпускалось в разные годы\n",
    "\n",
    "Построим столбчатую диграмму и посмотрим сколько игр выпускалось в разные годы."
   ]
  },
  {
   "cell_type": "code",
   "execution_count": 13,
   "id": "4de74fc6",
   "metadata": {},
   "outputs": [
    {
     "data": {
      "image/png": "[encoded data removed]",
      "text/plain": [
       "<Figure size 1080x432 with 1 Axes>"
      ]
     },
     "metadata": {
      "needs_background": "light"
     },
     "output_type": "display_data"
    }
   ],
   "source": [
    "df.pivot_table(\n",
    "    index=['year_of_release'],\n",
    "    values=['name'], aggfunc='count'\n",
    ").plot.bar(\n",
    "    figsize=(15, 6), legend=False,\n",
    "    xlabel='Годы выпуска', ylabel='Количество игр', \n",
    "    title='Выпущенные игры по годам', alpha=0.7)\n",
    "plt.show(block=False)"
   ]
  },
  {
   "cell_type": "markdown",
   "id": "d874d5fb",
   "metadata": {},
   "source": [
    "Большинство игр выпускалось с 1995 г. по 2016 г. Определим этот период как актуальный.\n",
    "\n",
    "### 3.2 Как менялись продажи по платформам\n",
    "\n",
    "Сделаем сводную таблицу и построим столбчатую диаграмму, чтобы выбрать платформы с наибольшими суммарными продажами."
   ]
  },
  {
   "cell_type": "code",
   "execution_count": 14,
   "id": "e2a27d9c",
   "metadata": {
    "scrolled": false
   },
   "outputs": [
    {
     "data": {
      "image/png": "[encoded data removed]",
      "text/plain": [
       "<Figure size 1080x360 with 1 Axes>"
      ]
     },
     "metadata": {
      "needs_background": "light"
     },
     "output_type": "display_data"
    }
   ],
   "source": [
    "pl_sales = df.pivot_table( # сводная таблица\n",
    "    index=['platform'],    # с группировкой \n",
    "    values=['all_sales'],  # по платформе\n",
    "    aggfunc='sum'\n",
    "    )\n",
    "\n",
    "pl_sales.plot.bar(figsize=(15,5), xlabel='Платформы', ylabel='Продажи', legend=False,        # столбчатая\n",
    "                  title='Суммарные продажи игр для разных платформ за все время', alpha=0.7) # диаграмма\n",
    "plt.show()"
   ]
  },
  {
   "cell_type": "markdown",
   "id": "41107631",
   "metadata": {},
   "source": [
    "Из распределения можно выделить платформы  с наибольшими суммарными продажами:\n",
    "1. PS2\n",
    "2. X360\n",
    "3. Wii\n",
    "4. PS3\n",
    "5. PS\n",
    "6. 3DS\n",
    "\n",
    "Сделаем срез датасета по этим 6-ти платформам и сформируем сводную таблицу с продажами по годам для каждой из этих платформы."
   ]
  },
  {
   "cell_type": "code",
   "execution_count": 15,
   "id": "6da3c645",
   "metadata": {
    "scrolled": false
   },
   "outputs": [
    {
     "data": {
      "text/html": [
       "<div>\n",
       "<style scoped>\n",
       "    .dataframe tbody tr th:only-of-type {\n",
       "        vertical-align: middle;\n",
       "    }\n",
       "\n",
       "    .dataframe tbody tr th {\n",
       "        vertical-align: top;\n",
       "    }\n",
       "\n",
       "    .dataframe thead th {\n",
       "        text-align: right;\n",
       "    }\n",
       "</style>\n",
       "<table border=\"1\" class=\"dataframe\">\n",
       "  <thead>\n",
       "    <tr style=\"text-align: right;\">\n",
       "      <th></th>\n",
       "      <th>all_sales_3DS</th>\n",
       "      <th>all_sales_PS</th>\n",
       "      <th>all_sales_PS2</th>\n",
       "      <th>all_sales_PS3</th>\n",
       "      <th>all_sales_Wii</th>\n",
       "      <th>all_sales_X360</th>\n",
       "    </tr>\n",
       "    <tr>\n",
       "      <th>year_of_release</th>\n",
       "      <th></th>\n",
       "      <th></th>\n",
       "      <th></th>\n",
       "      <th></th>\n",
       "      <th></th>\n",
       "      <th></th>\n",
       "    </tr>\n",
       "  </thead>\n",
       "  <tbody>\n",
       "    <tr>\n",
       "      <th>1994</th>\n",
       "      <td>NaN</td>\n",
       "      <td>6.03</td>\n",
       "      <td>NaN</td>\n",
       "      <td>NaN</td>\n",
       "      <td>NaN</td>\n",
       "      <td>NaN</td>\n",
       "    </tr>\n",
       "    <tr>\n",
       "      <th>1995</th>\n",
       "      <td>NaN</td>\n",
       "      <td>35.96</td>\n",
       "      <td>NaN</td>\n",
       "      <td>NaN</td>\n",
       "      <td>NaN</td>\n",
       "      <td>NaN</td>\n",
       "    </tr>\n",
       "    <tr>\n",
       "      <th>1996</th>\n",
       "      <td>NaN</td>\n",
       "      <td>94.70</td>\n",
       "      <td>NaN</td>\n",
       "      <td>NaN</td>\n",
       "      <td>NaN</td>\n",
       "      <td>NaN</td>\n",
       "    </tr>\n",
       "    <tr>\n",
       "      <th>1997</th>\n",
       "      <td>NaN</td>\n",
       "      <td>136.17</td>\n",
       "      <td>NaN</td>\n",
       "      <td>NaN</td>\n",
       "      <td>NaN</td>\n",
       "      <td>NaN</td>\n",
       "    </tr>\n",
       "    <tr>\n",
       "      <th>1998</th>\n",
       "      <td>NaN</td>\n",
       "      <td>169.49</td>\n",
       "      <td>NaN</td>\n",
       "      <td>NaN</td>\n",
       "      <td>NaN</td>\n",
       "      <td>NaN</td>\n",
       "    </tr>\n",
       "    <tr>\n",
       "      <th>1999</th>\n",
       "      <td>NaN</td>\n",
       "      <td>144.53</td>\n",
       "      <td>NaN</td>\n",
       "      <td>NaN</td>\n",
       "      <td>NaN</td>\n",
       "      <td>NaN</td>\n",
       "    </tr>\n",
       "    <tr>\n",
       "      <th>2000</th>\n",
       "      <td>NaN</td>\n",
       "      <td>96.37</td>\n",
       "      <td>39.17</td>\n",
       "      <td>NaN</td>\n",
       "      <td>NaN</td>\n",
       "      <td>NaN</td>\n",
       "    </tr>\n",
       "    <tr>\n",
       "      <th>2001</th>\n",
       "      <td>NaN</td>\n",
       "      <td>35.59</td>\n",
       "      <td>166.43</td>\n",
       "      <td>NaN</td>\n",
       "      <td>NaN</td>\n",
       "      <td>NaN</td>\n",
       "    </tr>\n",
       "    <tr>\n",
       "      <th>2002</th>\n",
       "      <td>NaN</td>\n",
       "      <td>6.67</td>\n",
       "      <td>205.38</td>\n",
       "      <td>NaN</td>\n",
       "      <td>NaN</td>\n",
       "      <td>NaN</td>\n",
       "    </tr>\n",
       "    <tr>\n",
       "      <th>2003</th>\n",
       "      <td>NaN</td>\n",
       "      <td>2.07</td>\n",
       "      <td>184.31</td>\n",
       "      <td>NaN</td>\n",
       "      <td>NaN</td>\n",
       "      <td>NaN</td>\n",
       "    </tr>\n",
       "    <tr>\n",
       "      <th>2004</th>\n",
       "      <td>NaN</td>\n",
       "      <td>NaN</td>\n",
       "      <td>211.81</td>\n",
       "      <td>NaN</td>\n",
       "      <td>NaN</td>\n",
       "      <td>NaN</td>\n",
       "    </tr>\n",
       "    <tr>\n",
       "      <th>2005</th>\n",
       "      <td>NaN</td>\n",
       "      <td>NaN</td>\n",
       "      <td>160.66</td>\n",
       "      <td>NaN</td>\n",
       "      <td>NaN</td>\n",
       "      <td>8.25</td>\n",
       "    </tr>\n",
       "    <tr>\n",
       "      <th>2006</th>\n",
       "      <td>NaN</td>\n",
       "      <td>NaN</td>\n",
       "      <td>103.42</td>\n",
       "      <td>20.96</td>\n",
       "      <td>137.15</td>\n",
       "      <td>51.62</td>\n",
       "    </tr>\n",
       "    <tr>\n",
       "      <th>2007</th>\n",
       "      <td>NaN</td>\n",
       "      <td>NaN</td>\n",
       "      <td>75.99</td>\n",
       "      <td>73.19</td>\n",
       "      <td>152.77</td>\n",
       "      <td>95.41</td>\n",
       "    </tr>\n",
       "    <tr>\n",
       "      <th>2008</th>\n",
       "      <td>NaN</td>\n",
       "      <td>NaN</td>\n",
       "      <td>53.90</td>\n",
       "      <td>118.52</td>\n",
       "      <td>171.32</td>\n",
       "      <td>135.26</td>\n",
       "    </tr>\n",
       "    <tr>\n",
       "      <th>2009</th>\n",
       "      <td>NaN</td>\n",
       "      <td>NaN</td>\n",
       "      <td>26.40</td>\n",
       "      <td>130.93</td>\n",
       "      <td>206.97</td>\n",
       "      <td>120.29</td>\n",
       "    </tr>\n",
       "    <tr>\n",
       "      <th>2010</th>\n",
       "      <td>NaN</td>\n",
       "      <td>NaN</td>\n",
       "      <td>5.64</td>\n",
       "      <td>142.17</td>\n",
       "      <td>127.95</td>\n",
       "      <td>170.03</td>\n",
       "    </tr>\n",
       "    <tr>\n",
       "      <th>2011</th>\n",
       "      <td>63.20</td>\n",
       "      <td>NaN</td>\n",
       "      <td>0.45</td>\n",
       "      <td>156.78</td>\n",
       "      <td>59.65</td>\n",
       "      <td>143.84</td>\n",
       "    </tr>\n",
       "    <tr>\n",
       "      <th>2012</th>\n",
       "      <td>51.36</td>\n",
       "      <td>NaN</td>\n",
       "      <td>NaN</td>\n",
       "      <td>107.36</td>\n",
       "      <td>21.71</td>\n",
       "      <td>99.74</td>\n",
       "    </tr>\n",
       "    <tr>\n",
       "      <th>2013</th>\n",
       "      <td>56.57</td>\n",
       "      <td>NaN</td>\n",
       "      <td>NaN</td>\n",
       "      <td>113.25</td>\n",
       "      <td>8.59</td>\n",
       "      <td>88.58</td>\n",
       "    </tr>\n",
       "    <tr>\n",
       "      <th>2014</th>\n",
       "      <td>43.76</td>\n",
       "      <td>NaN</td>\n",
       "      <td>NaN</td>\n",
       "      <td>47.76</td>\n",
       "      <td>3.75</td>\n",
       "      <td>34.74</td>\n",
       "    </tr>\n",
       "    <tr>\n",
       "      <th>2015</th>\n",
       "      <td>27.78</td>\n",
       "      <td>NaN</td>\n",
       "      <td>NaN</td>\n",
       "      <td>16.82</td>\n",
       "      <td>1.14</td>\n",
       "      <td>11.96</td>\n",
       "    </tr>\n",
       "    <tr>\n",
       "      <th>2016</th>\n",
       "      <td>15.14</td>\n",
       "      <td>NaN</td>\n",
       "      <td>NaN</td>\n",
       "      <td>3.60</td>\n",
       "      <td>0.18</td>\n",
       "      <td>1.52</td>\n",
       "    </tr>\n",
       "  </tbody>\n",
       "</table>\n",
       "</div>"
      ],
      "text/plain": [
       "                 all_sales_3DS  all_sales_PS  all_sales_PS2  all_sales_PS3  \\\n",
       "year_of_release                                                              \n",
       "1994                       NaN          6.03            NaN            NaN   \n",
       "1995                       NaN         35.96            NaN            NaN   \n",
       "1996                       NaN         94.70            NaN            NaN   \n",
       "1997                       NaN        136.17            NaN            NaN   \n",
       "1998                       NaN        169.49            NaN            NaN   \n",
       "1999                       NaN        144.53            NaN            NaN   \n",
       "2000                       NaN         96.37          39.17            NaN   \n",
       "2001                       NaN         35.59         166.43            NaN   \n",
       "2002                       NaN          6.67         205.38            NaN   \n",
       "2003                       NaN          2.07         184.31            NaN   \n",
       "2004                       NaN           NaN         211.81            NaN   \n",
       "2005                       NaN           NaN         160.66            NaN   \n",
       "2006                       NaN           NaN         103.42          20.96   \n",
       "2007                       NaN           NaN          75.99          73.19   \n",
       "2008                       NaN           NaN          53.90         118.52   \n",
       "2009                       NaN           NaN          26.40         130.93   \n",
       "2010                       NaN           NaN           5.64         142.17   \n",
       "2011                     63.20           NaN           0.45         156.78   \n",
       "2012                     51.36           NaN            NaN         107.36   \n",
       "2013                     56.57           NaN            NaN         113.25   \n",
       "2014                     43.76           NaN            NaN          47.76   \n",
       "2015                     27.78           NaN            NaN          16.82   \n",
       "2016                     15.14           NaN            NaN           3.60   \n",
       "\n",
       "                 all_sales_Wii  all_sales_X360  \n",
       "year_of_release                                 \n",
       "1994                       NaN             NaN  \n",
       "1995                       NaN             NaN  \n",
       "1996                       NaN             NaN  \n",
       "1997                       NaN             NaN  \n",
       "1998                       NaN             NaN  \n",
       "1999                       NaN             NaN  \n",
       "2000                       NaN             NaN  \n",
       "2001                       NaN             NaN  \n",
       "2002                       NaN             NaN  \n",
       "2003                       NaN             NaN  \n",
       "2004                       NaN             NaN  \n",
       "2005                       NaN            8.25  \n",
       "2006                    137.15           51.62  \n",
       "2007                    152.77           95.41  \n",
       "2008                    171.32          135.26  \n",
       "2009                    206.97          120.29  \n",
       "2010                    127.95          170.03  \n",
       "2011                     59.65          143.84  \n",
       "2012                     21.71           99.74  \n",
       "2013                      8.59           88.58  \n",
       "2014                      3.75           34.74  \n",
       "2015                      1.14           11.96  \n",
       "2016                      0.18            1.52  "
      ]
     },
     "metadata": {},
     "output_type": "display_data"
    }
   ],
   "source": [
    "top_pl_sales = df.query(\n",
    "    'platform == [\"PS2\", \"X360\", \"Wii\", \"PS3\", \"PS\", \"3DS\"]').pivot_table( # срез по платформам\n",
    "    index=['year_of_release'], columns=['platform'], values=['all_sales'], aggfunc='sum') # сводная таблица\n",
    "\n",
    "top_pl_sales.columns = ['_'.join(col) for col in top_pl_sales.columns] # переименование столбцов и удаление мультииндекса\n",
    "display(top_pl_sales)"
   ]
  },
  {
   "cell_type": "markdown",
   "id": "8adf5b51",
   "metadata": {},
   "source": [
    "Построим столбчатые диаграммы, чтобы посмотреть распределение продаж игр по годам для каждой из 6-ти платформ. Так мы сможем сделать вывод о том, за какой характерный срок появляются новые и исчезают старые платформы."
   ]
  },
  {
   "cell_type": "code",
   "execution_count": 16,
   "id": "4cc32f5f",
   "metadata": {},
   "outputs": [
    {
     "data": {
      "image/png": "[encoded data removed]",
      "text/plain": [
       "<Figure size 1152x1296 with 6 Axes>"
      ]
     },
     "metadata": {
      "needs_background": "light"
     },
     "output_type": "display_data"
    }
   ],
   "source": [
    "top_pl_sales.plot.bar(subplots=True, figsize=(16, 18), legend=False, # построение графиков\n",
    "    sharex=False, xlabel='', ylabel='Продажи', alpha=0.7, layout=(3, 2),\n",
    "    title=[\"Продажи игр для 3DS\", \"Продажи игр для PS\", \"Продажи игр для PS2\",\n",
    "           \"Продажи игр для PS3\", \"Продажи игр для Wii\", \"Продажи игр для X360\"])\n",
    "plt.show()"
   ]
  },
  {
   "cell_type": "markdown",
   "id": "5ecfd0d1",
   "metadata": {},
   "source": [
    "Рассмотрим жизненный цикл платформ на примере трех поколений консолей PlayStation. Каждое новое поколение появлется через 6 лет.\n",
    "\n",
    "* PS1 в 1994 г.\n",
    "* PS2 в 2000 г.\n",
    "* PS3 в 2006 г.\n",
    "\n",
    "Пик продаж игр приходится на 4-6 год после выхода консолей на рынок. Далее продажи начинают снижаться, так как выходит новое поколение. В среднем продажи прекращаются через 10 лет после выхода консоли на рынок. Аналогичная ситуация наблюдается и с другими платформами.\n",
    "### 3.3 Данные для прогноза продаж на 2017 год\n",
    "\n",
    "На этом этапе нужно определить актуальный период. Основной фактор - эти данные помогут построить прогноз на 2017 год.\n",
    "\n",
    "В пункте 3.2 мы выяснили, что рост продаж наблюдается в течение первых 6-ти лет после выхода платформы, далее в течение 4-5 лет наблюдается снижение продаж. Следовательно жизненный цикл составлят платформы примерно 10 лет. Актуальным периодом будем считать последние 3 года, то есть с 2014 года, предыдущие годы не будем учитывать. Посмотрим на графики количества продаж и если за последние 3 года и не было сильной тенденции к снижению, то и в 2017 продажи будут ненулевые. Сделаем срез по годам."
   ]
  },
  {
   "cell_type": "code",
   "execution_count": 17,
   "id": "57a369b1",
   "metadata": {},
   "outputs": [],
   "source": [
    "df_res = df.query('year_of_release > 2013') # срез по годам"
   ]
  },
  {
   "cell_type": "markdown",
   "id": "b2841159",
   "metadata": {},
   "source": [
    "### 3.4 Выбор прибыльных платформ\n",
    "На этом этапе нужно выяснить какие платформы лидируют по продажам, растут или падают, а также выбрать потенциально прибыльные платформы. Для этого сделаем сводную таблицу с продажами за последние 3 года для каждой платформы и построим столбчатые диаграммы."
   ]
  },
  {
   "cell_type": "code",
   "execution_count": 18,
   "id": "c54b2ff1",
   "metadata": {
    "code_folding": [],
    "scrolled": false
   },
   "outputs": [
    {
     "data": {
      "image/png": "[encoded data removed]",
      "text/plain": [
       "<Figure size 1152x576 with 10 Axes>"
      ]
     },
     "metadata": {
      "needs_background": "light"
     },
     "output_type": "display_data"
    }
   ],
   "source": [
    "pl_sales = df_res.pivot_table(index=['year_of_release'], # сводная таблица\n",
    "                              columns=['platform'],\n",
    "                              values=['all_sales'],\n",
    "                              aggfunc='sum') \n",
    "\n",
    "pl_sales.columns = ['_'.join(col) for col in pl_sales.columns] # переименование столбцов \n",
    "                                                               # и удаление мультииндекса\n",
    "\n",
    "pl_list = [\"3DS\", \"PC\", \"PS3\", \"PS4\", \"PSP\", \"PSV\", \"Wii\", \"WiiU\", \"X360\", \"XOne\"] # пустой список для удаления заголовков графиков\n",
    "\n",
    "pl_sales.plot.bar(subplots=True, rot=0, figsize=(16, 8), # построение столбчатых графиков\n",
    "                  legend=False, xlabel=' ', ylabel='Продажи (млн)',\n",
    "                  sharex=False, sharey=True, layout=(2, 5), alpha=0.7, title=pl_list)\n",
    "plt.suptitle('Продажи игр для разных платформ за 2014 - 2016 г', fontsize=16)\n",
    "plt.show()"
   ]
  },
  {
   "cell_type": "markdown",
   "id": "52c31bd7",
   "metadata": {},
   "source": [
    "Можно заметить, что за последние 3 года наблюдается резкое снижение продаж игр для платформ **PS3** и **X360**, а продажи игр для платформ **Wii** и **PSP** практически нулевые. Лидерами продаж являются **PS4** и **XOne**, они потенциально прибыльные. Некоторые платформы еще будут актуальны в 2017 году, продажи игр будут снижаться, но они не будут нулевыми. Эти платформы **WiiU**, **PC**,  **PSV**,  **3DS**. Все 6 платформ будут актуальными в 2017.\n",
    "\n",
    "\n",
    "### 3.5 Глобальные продажи игр\n",
    "\n",
    "Сделаем срез по потенциально прибыльным платформам и построим график «ящик с усами» по глобальным продажам игр для этих платформ."
   ]
  },
  {
   "cell_type": "code",
   "execution_count": 19,
   "id": "42cd3a1b",
   "metadata": {},
   "outputs": [
    {
     "data": {
      "image/png": "[encoded data removed]",
      "text/plain": [
       "<Figure size 864x432 with 1 Axes>"
      ]
     },
     "metadata": {
      "needs_background": "light"
     },
     "output_type": "display_data"
    }
   ],
   "source": [
    "pl_persp = pl_sales[[\"all_sales_PS4\", \"all_sales_XOne\", \"all_sales_WiiU\", # выбор платформ\n",
    "                     \"all_sales_PC\", \"all_sales_PSV\", \"all_sales_3DS\"]]   # из таблицы\n",
    "pl_persp.plot(kind='box', rot=0, figsize=(12, 6), grid=True, vert=False, \n",
    "              title='Количество проданных игр (млн)', ylabel='Платформы', xlabel='Игры') # ящик с усами\n",
    "plt.show()"
   ]
  },
  {
   "cell_type": "markdown",
   "id": "7cbf7c83",
   "metadata": {},
   "source": [
    "На диаграмме размаха можно увидеть существенную разницу в количестве продаж игр двух потенциально прибыльных платформ. Обе платформы **PS4** и **XOne** вышли в 2013 году, но в среднем за 4 года продажи игр для **PS4** в 2 раза превышают продажи игр для **XOne**. Третьей потенциально прибыльной платформой можно выделить **3DS**, продажи игр для остальных платформ существенно ниже.\n",
    "\n",
    "### 3.6 Влияние отзывов на продажи игр\n",
    "\n",
    "Посмотрим, как влияют на продажи внутри одной популярной платформы оценки пользователей и критиков. Построиим диаграмму рассеяния и посчитаем корреляцию между оценками и продажами. Рассмотрим в качестве наиболее популярной платформы **PS4**."
   ]
  },
  {
   "cell_type": "code",
   "execution_count": 20,
   "id": "ddbe289e",
   "metadata": {
    "scrolled": true
   },
   "outputs": [
    {
     "data": {
      "image/png": "[encoded data removed]",
      "text/plain": [
       "<Figure size 1152x288 with 2 Axes>"
      ]
     },
     "metadata": {
      "needs_background": "light"
     },
     "output_type": "display_data"
    },
    {
     "name": "stdout",
     "output_type": "stream",
     "text": [
      "Коэффициент корреляции продаж игр для PS4 от отзывов критиков 0.39, от отзывов пользователей -0.03.\n"
     ]
    }
   ],
   "source": [
    "df_res = df_res.query('platform == [\"PS4\", \"XOne\", \"WiiU\", \"PC\", \"PSV\", \"3DS\"]') # срез по платформам\n",
    "\n",
    "df_res_ps4 = df_res.query('platform == \"PS4\"') # срез по одной платформе\n",
    "    \n",
    "plt.figure(figsize=(16, 4)) # размер фигуры\n",
    "plt.suptitle(f'Графики зависимости продаж игр для PS4', fontsize=16)\n",
    "\n",
    "plt.subplot(1, 2, 1) # позиция первого графика\n",
    "plt.scatter(x=df_res_ps4['all_sales'], y=df_res_ps4['critic_score'], alpha=0.3) # первый график\n",
    "plt.xlabel('Количество проданных игр (млн)')\n",
    "plt.ylabel('Оценка критиков')\n",
    "plt.title('От оценок критиков')\n",
    "\n",
    "plt.subplot(1, 2, 2) # позиция второго графика\n",
    "plt.scatter(x=df_res_ps4['all_sales'], y=df_res_ps4['user_score'], alpha=0.3) # второй график\n",
    "plt.xlabel('Количество проданных игр (млн)')\n",
    "plt.ylabel('Оценка пользователей')\n",
    "plt.title('От оценок пользователей')\n",
    "plt.show()\n",
    "\n",
    "print(f'Коэффициент корреляции продаж игр для PS4', # расчет коэффициентов корреляции\n",
    "          f'от отзывов критиков {round(df_res_ps4[\"all_sales\"].corr(df_res_ps4[\"critic_score\"]), 2)},',\n",
    "          f'от отзывов пользователей {round(df_res_ps4[\"all_sales\"].corr(df_res_ps4[\"user_score\"]), 2)}.')"
   ]
  },
  {
   "cell_type": "markdown",
   "id": "6fa6040c",
   "metadata": {},
   "source": [
    "Из диагармм можно сделать вывод, что отзывы пользователей не влияют на продажи игр, коэффициент корреляции практически равен нулю. Слабое влияние на продажи игр оказывают отзывы критиков, коэффициент корреляции 0.32. Проверим влияние отзывов для других платформ."
   ]
  },
  {
   "cell_type": "code",
   "execution_count": 21,
   "id": "57668640",
   "metadata": {},
   "outputs": [],
   "source": [
    "platforms = [\"XOne\", \"WiiU\", \"PC\", \"PSV\", \"3DS\"] # список платформ\n",
    "df_res_pl = df_res.query('platform == @platforms') # срез по списку"
   ]
  },
  {
   "cell_type": "code",
   "execution_count": 22,
   "id": "8dd5b5f8",
   "metadata": {
    "scrolled": false
   },
   "outputs": [
    {
     "data": {
      "image/png": "[encoded data removed]",
      "text/plain": [
       "<Figure size 1152x360 with 2 Axes>"
      ]
     },
     "metadata": {
      "needs_background": "light"
     },
     "output_type": "display_data"
    },
    {
     "data": {
      "image/png": "[encoded data removed]",
      "text/plain": [
       "<Figure size 1152x360 with 2 Axes>"
      ]
     },
     "metadata": {
      "needs_background": "light"
     },
     "output_type": "display_data"
    },
    {
     "data": {
      "image/png": "[encoded data removed]",
      "text/plain": [
       "<Figure size 1152x360 with 2 Axes>"
      ]
     },
     "metadata": {
      "needs_background": "light"
     },
     "output_type": "display_data"
    },
    {
     "data": {
      "image/png": "[encoded data removed]",
      "text/plain": [
       "<Figure size 1152x360 with 2 Axes>"
      ]
     },
     "metadata": {
      "needs_background": "light"
     },
     "output_type": "display_data"
    },
    {
     "data": {
      "image/png": "[encoded data removed]",
      "text/plain": [
       "<Figure size 1152x360 with 2 Axes>"
      ]
     },
     "metadata": {
      "needs_background": "light"
     },
     "output_type": "display_data"
    },
    {
     "name": "stdout",
     "output_type": "stream",
     "text": [
      "\n",
      "Таблица коэффициентов корреляции продаж от оценок\n"
     ]
    },
    {
     "data": {
      "text/html": [
       "<div>\n",
       "<style scoped>\n",
       "    .dataframe tbody tr th:only-of-type {\n",
       "        vertical-align: middle;\n",
       "    }\n",
       "\n",
       "    .dataframe tbody tr th {\n",
       "        vertical-align: top;\n",
       "    }\n",
       "\n",
       "    .dataframe thead th {\n",
       "        text-align: right;\n",
       "    }\n",
       "</style>\n",
       "<table border=\"1\" class=\"dataframe\">\n",
       "  <thead>\n",
       "    <tr style=\"text-align: right;\">\n",
       "      <th></th>\n",
       "      <th>PS4</th>\n",
       "      <th>XOne</th>\n",
       "      <th>WiiU</th>\n",
       "      <th>PC</th>\n",
       "      <th>PSV</th>\n",
       "      <th>3DS</th>\n",
       "    </tr>\n",
       "  </thead>\n",
       "  <tbody>\n",
       "    <tr>\n",
       "      <th>Оценки критиков</th>\n",
       "      <td>0.39</td>\n",
       "      <td>0.38</td>\n",
       "      <td>0.37</td>\n",
       "      <td>0.18</td>\n",
       "      <td>0.15</td>\n",
       "      <td>0.28</td>\n",
       "    </tr>\n",
       "    <tr>\n",
       "      <th>Оценки пользователей</th>\n",
       "      <td>-0.03</td>\n",
       "      <td>-0.09</td>\n",
       "      <td>0.38</td>\n",
       "      <td>-0.07</td>\n",
       "      <td>-0.05</td>\n",
       "      <td>0.24</td>\n",
       "    </tr>\n",
       "  </tbody>\n",
       "</table>\n",
       "</div>"
      ],
      "text/plain": [
       "                       PS4  XOne  WiiU    PC   PSV   3DS\n",
       "Оценки критиков       0.39  0.38  0.37  0.18  0.15  0.28\n",
       "Оценки пользователей -0.03 -0.09  0.38 -0.07 -0.05  0.24"
      ]
     },
     "metadata": {},
     "output_type": "display_data"
    }
   ],
   "source": [
    "cs_dict = {'PS4': round(df_res_ps4[\"all_sales\"].corr(df_res_ps4[\"critic_score\"]), 2)} # словари\n",
    "us_dict = {'PS4': round(df_res_ps4[\"all_sales\"].corr(df_res_ps4[\"user_score\"]), 2)} # для таблицы\n",
    "\n",
    "for i in platforms: # цикл для построения графиков\n",
    "    df_res_i = df_res_pl.query('platform == @i') # срез по платформе\n",
    "        \n",
    "    cs = round(df_res_i[\"all_sales\"].corr(df_res_i[\"critic_score\"]), 2) # коэффициент\n",
    "    us = round(df_res_i[\"all_sales\"].corr(df_res_i[\"user_score\"]), 2) # корреляции\n",
    "    cs_dict.update({i: cs}) # добавление\n",
    "    us_dict.update({i: us}) # в словарь\n",
    "    \n",
    "\n",
    "\n",
    "    plt.figure(figsize=(16, 5)) # размер фигуры\n",
    "    plt.suptitle(f'Графики зависимости продаж игр для {i}', fontsize=16)\n",
    "    plt.subplot(1, 2, 1) # позиция первого графика\n",
    "    plt.scatter(x=df_res_i['all_sales'], y=df_res_i['critic_score'], alpha=0.3) # первый график\n",
    "    plt.xlabel('Количество проданных игр (млн)')\n",
    "    plt.ylabel('Оценка критиков')\n",
    "    plt.title('От оценок критиков')\n",
    "    \n",
    "    plt.subplot(1, 2, 2) # позиция второго графика\n",
    "    plt.scatter(x=df_res_i['all_sales'], y=df_res_i['user_score'], alpha=0.3) # второй график\n",
    "    plt.xlabel('Количество проданных игр (млн)')\n",
    "    plt.ylabel('Оценка пользователей')\n",
    "    plt.title('От оценок пользователей')\n",
    "    plt.show()\n",
    "    \n",
    "print()\n",
    "print('Таблица коэффициентов корреляции продаж от оценок')\n",
    "\n",
    "data = [cs_dict, us_dict] # данные для таблицы\n",
    "score = pd.DataFrame( # создание таблицы\n",
    "    data, index=['Оценки критиков', 'Оценки пользователей'])\n",
    "display(score) # вывод таблицы на экран"
   ]
  },
  {
   "cell_type": "markdown",
   "id": "714ac1e4",
   "metadata": {},
   "source": [
    "Отзывы критиков имеют слабое влияние на продажи игр. Для платформ **PS4**, **XOne** и **WiiU** коэффициент корреляции в среднем 0.38, для 3DS - 0.27, для других платформ - не более 0.2. Отзывы пользователей не влияют на продажи игр, коэффициент корреляции близок к нулю, за исключением одной платформы - **WiiU**, где коэффициент корреляции достигает 0.38.\n",
    "\n",
    "\n",
    "### 3.7 Распределение игр по жанрам\n",
    "\n",
    "На этом этапе выясним, что можно сказать о самых прибыльных жанрах и выделяются ли жанры с высокими и низкими продажами.\n",
    "\n",
    "Для начала посмотрим на общее распределение игр по жанрам. "
   ]
  },
  {
   "cell_type": "code",
   "execution_count": 23,
   "id": "8893120c",
   "metadata": {
    "scrolled": false
   },
   "outputs": [
    {
     "data": {
      "image/png": "[encoded data removed]",
      "text/plain": [
       "<Figure size 864x360 with 1 Axes>"
      ]
     },
     "metadata": {
      "needs_background": "light"
     },
     "output_type": "display_data"
    }
   ],
   "source": [
    "df_gen = df_res.groupby(['genre'])['name'].count().reset_index() # группировка по жанру\n",
    "\n",
    "df_gen.plot.bar(                  # столбчатая\n",
    "    rot=0, x='genre', y='name',   # диаграмма\n",
    "    figsize=(12, 5), xlabel='Жанры',\n",
    "    ylabel='Количество игр', grid=True) \n",
    "plt.show()                                                         "
   ]
  },
  {
   "cell_type": "markdown",
   "id": "5924aa5e",
   "metadata": {},
   "source": [
    "Несомненным лидером является жанр `Action`, на втором месте `Role-Playing`. Самыми непопулярным жанрами является `Puzzle`. Теперь посмотрим как отличаются продажи игр в зависимости от жанра. Построим столбчатую диаграмму по медианным продажам для каждого жанра."
   ]
  },
  {
   "cell_type": "code",
   "execution_count": 24,
   "id": "541b79a2",
   "metadata": {
    "scrolled": false
   },
   "outputs": [
    {
     "data": {
      "image/png": "[encoded data removed]",
      "text/plain": [
       "<Figure size 864x360 with 1 Axes>"
      ]
     },
     "metadata": {
      "needs_background": "light"
     },
     "output_type": "display_data"
    }
   ],
   "source": [
    "gen_sales = df_res.groupby(['genre'])['all_sales'].median().reset_index() # группировка по жанру\n",
    "\n",
    "gen_sales.plot.bar(rot=0, x='genre', y='all_sales', # столбчатая\n",
    "                   figsize=(12, 5), xlabel='Жанры', # диаграмма\n",
    "                   ylabel='Продажи игр', grid=True) \n",
    "plt.show()"
   ]
  },
  {
   "cell_type": "markdown",
   "id": "85b6aa29",
   "metadata": {},
   "source": [
    "По медианным продажам лидирует жанр `Shooter`, на втором месте `Sports`. Самые низкие продажи у жанра `Adventure`. Продажи остальных жанров не сильно отличаются между собой. \n",
    "\n",
    "### 3.8 Вывод\n",
    "\n",
    "Мы провели исследование и можем сделать следующие выводы:\n",
    "\n",
    "* Большинство игр было выпущено с 1995 г. по 2016 г. \n",
    "\n",
    "* Жизненный цикл платформы - 10 лет, пик продаж игр на 4-6 год, далее снижение.\n",
    "\n",
    "* Актуальным периодом было определено 3 года.\n",
    "\n",
    "* Потенциально прибыльные платформы на 2017: PS4, XOne, WiiU, PC, PSV, 3DS.\n",
    "\n",
    "* Отзывы критиков слабо влияют на продажи игр, отзывы пользователей не влияют совсем.\n",
    "\n",
    "* Самый популярный жанр - `Action`, больше всего выпущенных игр. Самый непопулярный - `Puzzle`.\n",
    "\n",
    "* Самые высокие продажи у жанра `Shooter`, самые низкие - у `Adventure`.\n",
    "\n",
    "## 4. Портрет пользователей регионов\n",
    "\n",
    "На данном этапе определим для пользователя каждого региона (NA, EU, JP):\n",
    "* Самые популярные платформы.\n",
    "* Самые популярные жанры.\n",
    "* Влияние рейтинга ESRB на продажи в регионах.\n",
    "\n",
    "### 4.1 Самые популярные платформы\n",
    "\n",
    "Выявим топ-5 популярных платформы для пользователя каждого региона (NA, EU, JP). Посмотрим на различия в долях продаж по каждому региону."
   ]
  },
  {
   "cell_type": "code",
   "execution_count": 25,
   "id": "4773c885",
   "metadata": {
    "scrolled": false
   },
   "outputs": [
    {
     "data": {
      "text/html": [
       "<div>\n",
       "<style scoped>\n",
       "    .dataframe tbody tr th:only-of-type {\n",
       "        vertical-align: middle;\n",
       "    }\n",
       "\n",
       "    .dataframe tbody tr th {\n",
       "        vertical-align: top;\n",
       "    }\n",
       "\n",
       "    .dataframe thead th {\n",
       "        text-align: right;\n",
       "    }\n",
       "</style>\n",
       "<table border=\"1\" class=\"dataframe\">\n",
       "  <thead>\n",
       "    <tr style=\"text-align: right;\">\n",
       "      <th></th>\n",
       "      <th>platform</th>\n",
       "      <th>na_sales</th>\n",
       "    </tr>\n",
       "  </thead>\n",
       "  <tbody>\n",
       "    <tr>\n",
       "      <th>2</th>\n",
       "      <td>PS4</td>\n",
       "      <td>42.57</td>\n",
       "    </tr>\n",
       "    <tr>\n",
       "      <th>5</th>\n",
       "      <td>XOne</td>\n",
       "      <td>35.09</td>\n",
       "    </tr>\n",
       "    <tr>\n",
       "      <th>0</th>\n",
       "      <td>3DS</td>\n",
       "      <td>9.77</td>\n",
       "    </tr>\n",
       "    <tr>\n",
       "      <th>4</th>\n",
       "      <td>WiiU</td>\n",
       "      <td>8.36</td>\n",
       "    </tr>\n",
       "    <tr>\n",
       "      <th>1</th>\n",
       "      <td>PC</td>\n",
       "      <td>3.12</td>\n",
       "    </tr>\n",
       "  </tbody>\n",
       "</table>\n",
       "</div>"
      ],
      "text/plain": [
       "  platform  na_sales\n",
       "2      PS4     42.57\n",
       "5     XOne     35.09\n",
       "0      3DS      9.77\n",
       "4     WiiU      8.36\n",
       "1       PC      3.12"
      ]
     },
     "metadata": {},
     "output_type": "display_data"
    },
    {
     "data": {
      "text/html": [
       "<div>\n",
       "<style scoped>\n",
       "    .dataframe tbody tr th:only-of-type {\n",
       "        vertical-align: middle;\n",
       "    }\n",
       "\n",
       "    .dataframe tbody tr th {\n",
       "        vertical-align: top;\n",
       "    }\n",
       "\n",
       "    .dataframe thead th {\n",
       "        text-align: right;\n",
       "    }\n",
       "</style>\n",
       "<table border=\"1\" class=\"dataframe\">\n",
       "  <thead>\n",
       "    <tr style=\"text-align: right;\">\n",
       "      <th></th>\n",
       "      <th>platform</th>\n",
       "      <th>eu_sales</th>\n",
       "    </tr>\n",
       "  </thead>\n",
       "  <tbody>\n",
       "    <tr>\n",
       "      <th>2</th>\n",
       "      <td>PS4</td>\n",
       "      <td>57.27</td>\n",
       "    </tr>\n",
       "    <tr>\n",
       "      <th>5</th>\n",
       "      <td>XOne</td>\n",
       "      <td>20.37</td>\n",
       "    </tr>\n",
       "    <tr>\n",
       "      <th>1</th>\n",
       "      <td>PC</td>\n",
       "      <td>7.91</td>\n",
       "    </tr>\n",
       "    <tr>\n",
       "      <th>0</th>\n",
       "      <td>3DS</td>\n",
       "      <td>7.10</td>\n",
       "    </tr>\n",
       "    <tr>\n",
       "      <th>4</th>\n",
       "      <td>WiiU</td>\n",
       "      <td>5.79</td>\n",
       "    </tr>\n",
       "  </tbody>\n",
       "</table>\n",
       "</div>"
      ],
      "text/plain": [
       "  platform  eu_sales\n",
       "2      PS4     57.27\n",
       "5     XOne     20.37\n",
       "1       PC      7.91\n",
       "0      3DS      7.10\n",
       "4     WiiU      5.79"
      ]
     },
     "metadata": {},
     "output_type": "display_data"
    },
    {
     "data": {
      "text/html": [
       "<div>\n",
       "<style scoped>\n",
       "    .dataframe tbody tr th:only-of-type {\n",
       "        vertical-align: middle;\n",
       "    }\n",
       "\n",
       "    .dataframe tbody tr th {\n",
       "        vertical-align: top;\n",
       "    }\n",
       "\n",
       "    .dataframe thead th {\n",
       "        text-align: right;\n",
       "    }\n",
       "</style>\n",
       "<table border=\"1\" class=\"dataframe\">\n",
       "  <thead>\n",
       "    <tr style=\"text-align: right;\">\n",
       "      <th></th>\n",
       "      <th>platform</th>\n",
       "      <th>jp_sales</th>\n",
       "    </tr>\n",
       "  </thead>\n",
       "  <tbody>\n",
       "    <tr>\n",
       "      <th>0</th>\n",
       "      <td>3DS</td>\n",
       "      <td>54.33</td>\n",
       "    </tr>\n",
       "    <tr>\n",
       "      <th>2</th>\n",
       "      <td>PS4</td>\n",
       "      <td>18.45</td>\n",
       "    </tr>\n",
       "    <tr>\n",
       "      <th>3</th>\n",
       "      <td>PSV</td>\n",
       "      <td>17.86</td>\n",
       "    </tr>\n",
       "    <tr>\n",
       "      <th>4</th>\n",
       "      <td>WiiU</td>\n",
       "      <td>8.98</td>\n",
       "    </tr>\n",
       "    <tr>\n",
       "      <th>5</th>\n",
       "      <td>XOne</td>\n",
       "      <td>0.39</td>\n",
       "    </tr>\n",
       "  </tbody>\n",
       "</table>\n",
       "</div>"
      ],
      "text/plain": [
       "  platform  jp_sales\n",
       "0      3DS     54.33\n",
       "2      PS4     18.45\n",
       "3      PSV     17.86\n",
       "4     WiiU      8.98\n",
       "5     XOne      0.39"
      ]
     },
     "metadata": {},
     "output_type": "display_data"
    }
   ],
   "source": [
    "reg_list = ['na_sales', 'eu_sales', 'jp_sales'] # список регионов\n",
    "\n",
    "for reg in reg_list: # цикл для построения таблиц\n",
    "    top = df_res.groupby(['platform'])[reg] \\\n",
    "    .sum().reset_index() \\\n",
    "    .sort_values(by=reg, ascending=False) # группировка по платформе\n",
    "    top[reg] = round(top[reg] / top[reg].sum() * 100, 2)\n",
    "    display(top.head())"
   ]
  },
  {
   "cell_type": "markdown",
   "id": "d369295b",
   "metadata": {},
   "source": [
    "Можно сделать вывод, что популярность платформ сильно отличается от региона. В Северной Америке(NA) лидеры **PS4** и **XOne**, в Европе(EU) на первом месте тоже **PS4**, но на втором - **PC**. В Японии(JP) самая популярная платформа - **3DS**, а **XOne** вообще не пользуется популярностью.\n",
    "\n",
    "### 4.2 Самые популярные жанры\n",
    "\n",
    "Посмотрим на топ-5 популярных жанров для каждого региона."
   ]
  },
  {
   "cell_type": "code",
   "execution_count": 26,
   "id": "05fb1abc",
   "metadata": {
    "scrolled": false
   },
   "outputs": [
    {
     "data": {
      "text/html": [
       "<div>\n",
       "<style scoped>\n",
       "    .dataframe tbody tr th:only-of-type {\n",
       "        vertical-align: middle;\n",
       "    }\n",
       "\n",
       "    .dataframe tbody tr th {\n",
       "        vertical-align: top;\n",
       "    }\n",
       "\n",
       "    .dataframe thead th {\n",
       "        text-align: right;\n",
       "    }\n",
       "</style>\n",
       "<table border=\"1\" class=\"dataframe\">\n",
       "  <thead>\n",
       "    <tr style=\"text-align: right;\">\n",
       "      <th></th>\n",
       "      <th>genre</th>\n",
       "      <th>na_sales</th>\n",
       "    </tr>\n",
       "  </thead>\n",
       "  <tbody>\n",
       "    <tr>\n",
       "      <th>8</th>\n",
       "      <td>Shooter</td>\n",
       "      <td>28.62</td>\n",
       "    </tr>\n",
       "    <tr>\n",
       "      <th>0</th>\n",
       "      <td>Action</td>\n",
       "      <td>25.97</td>\n",
       "    </tr>\n",
       "    <tr>\n",
       "      <th>10</th>\n",
       "      <td>Sports</td>\n",
       "      <td>13.80</td>\n",
       "    </tr>\n",
       "    <tr>\n",
       "      <th>7</th>\n",
       "      <td>Role-Playing</td>\n",
       "      <td>12.84</td>\n",
       "    </tr>\n",
       "    <tr>\n",
       "      <th>2</th>\n",
       "      <td>Fighting</td>\n",
       "      <td>4.85</td>\n",
       "    </tr>\n",
       "  </tbody>\n",
       "</table>\n",
       "</div>"
      ],
      "text/plain": [
       "           genre  na_sales\n",
       "8        Shooter     28.62\n",
       "0         Action     25.97\n",
       "10        Sports     13.80\n",
       "7   Role-Playing     12.84\n",
       "2       Fighting      4.85"
      ]
     },
     "metadata": {},
     "output_type": "display_data"
    },
    {
     "data": {
      "text/html": [
       "<div>\n",
       "<style scoped>\n",
       "    .dataframe tbody tr th:only-of-type {\n",
       "        vertical-align: middle;\n",
       "    }\n",
       "\n",
       "    .dataframe tbody tr th {\n",
       "        vertical-align: top;\n",
       "    }\n",
       "\n",
       "    .dataframe thead th {\n",
       "        text-align: right;\n",
       "    }\n",
       "</style>\n",
       "<table border=\"1\" class=\"dataframe\">\n",
       "  <thead>\n",
       "    <tr style=\"text-align: right;\">\n",
       "      <th></th>\n",
       "      <th>genre</th>\n",
       "      <th>eu_sales</th>\n",
       "    </tr>\n",
       "  </thead>\n",
       "  <tbody>\n",
       "    <tr>\n",
       "      <th>0</th>\n",
       "      <td>Action</td>\n",
       "      <td>27.96</td>\n",
       "    </tr>\n",
       "    <tr>\n",
       "      <th>8</th>\n",
       "      <td>Shooter</td>\n",
       "      <td>24.76</td>\n",
       "    </tr>\n",
       "    <tr>\n",
       "      <th>10</th>\n",
       "      <td>Sports</td>\n",
       "      <td>14.75</td>\n",
       "    </tr>\n",
       "    <tr>\n",
       "      <th>7</th>\n",
       "      <td>Role-Playing</td>\n",
       "      <td>11.42</td>\n",
       "    </tr>\n",
       "    <tr>\n",
       "      <th>6</th>\n",
       "      <td>Racing</td>\n",
       "      <td>5.69</td>\n",
       "    </tr>\n",
       "  </tbody>\n",
       "</table>\n",
       "</div>"
      ],
      "text/plain": [
       "           genre  eu_sales\n",
       "0         Action     27.96\n",
       "8        Shooter     24.76\n",
       "10        Sports     14.75\n",
       "7   Role-Playing     11.42\n",
       "6         Racing      5.69"
      ]
     },
     "metadata": {},
     "output_type": "display_data"
    },
    {
     "data": {
      "text/html": [
       "<div>\n",
       "<style scoped>\n",
       "    .dataframe tbody tr th:only-of-type {\n",
       "        vertical-align: middle;\n",
       "    }\n",
       "\n",
       "    .dataframe tbody tr th {\n",
       "        vertical-align: top;\n",
       "    }\n",
       "\n",
       "    .dataframe thead th {\n",
       "        text-align: right;\n",
       "    }\n",
       "</style>\n",
       "<table border=\"1\" class=\"dataframe\">\n",
       "  <thead>\n",
       "    <tr style=\"text-align: right;\">\n",
       "      <th></th>\n",
       "      <th>genre</th>\n",
       "      <th>jp_sales</th>\n",
       "    </tr>\n",
       "  </thead>\n",
       "  <tbody>\n",
       "    <tr>\n",
       "      <th>7</th>\n",
       "      <td>Role-Playing</td>\n",
       "      <td>35.24</td>\n",
       "    </tr>\n",
       "    <tr>\n",
       "      <th>0</th>\n",
       "      <td>Action</td>\n",
       "      <td>30.35</td>\n",
       "    </tr>\n",
       "    <tr>\n",
       "      <th>3</th>\n",
       "      <td>Misc</td>\n",
       "      <td>6.35</td>\n",
       "    </tr>\n",
       "    <tr>\n",
       "      <th>2</th>\n",
       "      <td>Fighting</td>\n",
       "      <td>6.15</td>\n",
       "    </tr>\n",
       "    <tr>\n",
       "      <th>8</th>\n",
       "      <td>Shooter</td>\n",
       "      <td>5.17</td>\n",
       "    </tr>\n",
       "  </tbody>\n",
       "</table>\n",
       "</div>"
      ],
      "text/plain": [
       "          genre  jp_sales\n",
       "7  Role-Playing     35.24\n",
       "0        Action     30.35\n",
       "3          Misc      6.35\n",
       "2      Fighting      6.15\n",
       "8       Shooter      5.17"
      ]
     },
     "metadata": {},
     "output_type": "display_data"
    }
   ],
   "source": [
    "for reg in reg_list: # цикл для построения таблиц\n",
    "    top = df_res.groupby(['genre'])[reg] \\\n",
    "    .sum().reset_index() \\\n",
    "    .sort_values(by=reg, ascending=False) # группировка по жанру\n",
    "    top[reg] = round(top[reg] / top[reg].sum() * 100, 2)\n",
    "    display(top.head())"
   ]
  },
  {
   "cell_type": "markdown",
   "id": "664bc3d8",
   "metadata": {},
   "source": [
    "В Северной Америке(NA) и Европе(EU) очень похожая ситуация: лидируют `Action` и `Shooter`. В Японии(JP) главный жанр `Role-Playing`, `Action` на втором месте, а `Shooter` даже не попал в топ-5.\n",
    "\n",
    "### 4.3 Влияние рейтинга ESRB\n",
    "\n",
    "Посмотрим влияет ли рейтинг ESRB на продажи в отдельном регионе. Для удобства анализа, сначала составим таблицу с расшифровкой рейтинга."
   ]
  },
  {
   "cell_type": "code",
   "execution_count": 27,
   "id": "480720b0",
   "metadata": {
    "scrolled": false
   },
   "outputs": [
    {
     "data": {
      "text/html": [
       "<div>\n",
       "<style scoped>\n",
       "    .dataframe tbody tr th:only-of-type {\n",
       "        vertical-align: middle;\n",
       "    }\n",
       "\n",
       "    .dataframe tbody tr th {\n",
       "        vertical-align: top;\n",
       "    }\n",
       "\n",
       "    .dataframe thead th {\n",
       "        text-align: right;\n",
       "    }\n",
       "</style>\n",
       "<table border=\"1\" class=\"dataframe\">\n",
       "  <thead>\n",
       "    <tr style=\"text-align: right;\">\n",
       "      <th></th>\n",
       "      <th>rating</th>\n",
       "      <th>na_sales</th>\n",
       "      <th>definition</th>\n",
       "    </tr>\n",
       "  </thead>\n",
       "  <tbody>\n",
       "    <tr>\n",
       "      <th>0</th>\n",
       "      <td>M</td>\n",
       "      <td>35.50</td>\n",
       "      <td>Для взрослых</td>\n",
       "    </tr>\n",
       "    <tr>\n",
       "      <th>1</th>\n",
       "      <td>unknown</td>\n",
       "      <td>24.07</td>\n",
       "      <td>Не определен</td>\n",
       "    </tr>\n",
       "    <tr>\n",
       "      <th>2</th>\n",
       "      <td>E</td>\n",
       "      <td>16.25</td>\n",
       "      <td>Для всех</td>\n",
       "    </tr>\n",
       "    <tr>\n",
       "      <th>3</th>\n",
       "      <td>T</td>\n",
       "      <td>14.01</td>\n",
       "      <td>Подросткам</td>\n",
       "    </tr>\n",
       "    <tr>\n",
       "      <th>4</th>\n",
       "      <td>E10+</td>\n",
       "      <td>10.16</td>\n",
       "      <td>Для всех от 10 лет и старше</td>\n",
       "    </tr>\n",
       "  </tbody>\n",
       "</table>\n",
       "</div>"
      ],
      "text/plain": [
       "    rating  na_sales                   definition\n",
       "0        M     35.50                 Для взрослых\n",
       "1  unknown     24.07                 Не определен\n",
       "2        E     16.25                     Для всех\n",
       "3        T     14.01                   Подросткам\n",
       "4     E10+     10.16  Для всех от 10 лет и старше"
      ]
     },
     "metadata": {},
     "output_type": "display_data"
    },
    {
     "data": {
      "text/html": [
       "<div>\n",
       "<style scoped>\n",
       "    .dataframe tbody tr th:only-of-type {\n",
       "        vertical-align: middle;\n",
       "    }\n",
       "\n",
       "    .dataframe tbody tr th {\n",
       "        vertical-align: top;\n",
       "    }\n",
       "\n",
       "    .dataframe thead th {\n",
       "        text-align: right;\n",
       "    }\n",
       "</style>\n",
       "<table border=\"1\" class=\"dataframe\">\n",
       "  <thead>\n",
       "    <tr style=\"text-align: right;\">\n",
       "      <th></th>\n",
       "      <th>rating</th>\n",
       "      <th>eu_sales</th>\n",
       "      <th>definition</th>\n",
       "    </tr>\n",
       "  </thead>\n",
       "  <tbody>\n",
       "    <tr>\n",
       "      <th>0</th>\n",
       "      <td>M</td>\n",
       "      <td>36.28</td>\n",
       "      <td>Для взрослых</td>\n",
       "    </tr>\n",
       "    <tr>\n",
       "      <th>1</th>\n",
       "      <td>unknown</td>\n",
       "      <td>22.37</td>\n",
       "      <td>Не определен</td>\n",
       "    </tr>\n",
       "    <tr>\n",
       "      <th>2</th>\n",
       "      <td>E</td>\n",
       "      <td>20.21</td>\n",
       "      <td>Для всех</td>\n",
       "    </tr>\n",
       "    <tr>\n",
       "      <th>3</th>\n",
       "      <td>T</td>\n",
       "      <td>13.25</td>\n",
       "      <td>Подросткам</td>\n",
       "    </tr>\n",
       "    <tr>\n",
       "      <th>4</th>\n",
       "      <td>E10+</td>\n",
       "      <td>7.88</td>\n",
       "      <td>Для всех от 10 лет и старше</td>\n",
       "    </tr>\n",
       "  </tbody>\n",
       "</table>\n",
       "</div>"
      ],
      "text/plain": [
       "    rating  eu_sales                   definition\n",
       "0        M     36.28                 Для взрослых\n",
       "1  unknown     22.37                 Не определен\n",
       "2        E     20.21                     Для всех\n",
       "3        T     13.25                   Подросткам\n",
       "4     E10+      7.88  Для всех от 10 лет и старше"
      ]
     },
     "metadata": {},
     "output_type": "display_data"
    },
    {
     "data": {
      "text/html": [
       "<div>\n",
       "<style scoped>\n",
       "    .dataframe tbody tr th:only-of-type {\n",
       "        vertical-align: middle;\n",
       "    }\n",
       "\n",
       "    .dataframe tbody tr th {\n",
       "        vertical-align: top;\n",
       "    }\n",
       "\n",
       "    .dataframe thead th {\n",
       "        text-align: right;\n",
       "    }\n",
       "</style>\n",
       "<table border=\"1\" class=\"dataframe\">\n",
       "  <thead>\n",
       "    <tr style=\"text-align: right;\">\n",
       "      <th></th>\n",
       "      <th>rating</th>\n",
       "      <th>jp_sales</th>\n",
       "      <th>definition</th>\n",
       "    </tr>\n",
       "  </thead>\n",
       "  <tbody>\n",
       "    <tr>\n",
       "      <th>0</th>\n",
       "      <td>unknown</td>\n",
       "      <td>61.93</td>\n",
       "      <td>Не определен</td>\n",
       "    </tr>\n",
       "    <tr>\n",
       "      <th>1</th>\n",
       "      <td>T</td>\n",
       "      <td>14.72</td>\n",
       "      <td>Подросткам</td>\n",
       "    </tr>\n",
       "    <tr>\n",
       "      <th>2</th>\n",
       "      <td>E</td>\n",
       "      <td>10.18</td>\n",
       "      <td>Для всех</td>\n",
       "    </tr>\n",
       "    <tr>\n",
       "      <th>3</th>\n",
       "      <td>M</td>\n",
       "      <td>7.86</td>\n",
       "      <td>Для взрослых</td>\n",
       "    </tr>\n",
       "    <tr>\n",
       "      <th>4</th>\n",
       "      <td>E10+</td>\n",
       "      <td>5.31</td>\n",
       "      <td>Для всех от 10 лет и старше</td>\n",
       "    </tr>\n",
       "  </tbody>\n",
       "</table>\n",
       "</div>"
      ],
      "text/plain": [
       "    rating  jp_sales                   definition\n",
       "0  unknown     61.93                 Не определен\n",
       "1        T     14.72                   Подросткам\n",
       "2        E     10.18                     Для всех\n",
       "3        M      7.86                 Для взрослых\n",
       "4     E10+      5.31  Для всех от 10 лет и старше"
      ]
     },
     "metadata": {},
     "output_type": "display_data"
    }
   ],
   "source": [
    "rating_dict = [ # список рейтингов\n",
    "    ['E', 'Для всех'],\n",
    "    ['E10+', 'Для всех от 10 лет и старше'],\n",
    "    ['EC', 'Для детей младшего возраста'],\n",
    "    ['M', 'Для взрослых'],\n",
    "    ['RP', 'Рейтинг ожидается'],\n",
    "    ['T', 'Подросткам'],\n",
    "    ['unknown', 'Не определен']]\n",
    "\n",
    "columns=['rating', 'definition'] \n",
    "rat_dict = pd.DataFrame(rating_dict, columns=columns) # создание таблицы\n",
    "\n",
    "for reg in reg_list: # цикл для построения таблиц\n",
    "    top = df_res.groupby(['rating'])[reg] \\\n",
    "    .sum().reset_index() \\\n",
    "    .sort_values(by=reg, ascending=False) # группировка по рейтингу\n",
    "    top = top.merge(rat_dict, on='rating', how='left')\n",
    "    top[reg] = round(top[reg] / top[reg].sum() * 100, 2)\n",
    "    display(top)"
   ]
  },
  {
   "cell_type": "markdown",
   "id": "e0a27d71",
   "metadata": {},
   "source": [
    "Рейтинг влияет на продажи в Северной Америке(NA) и Европе(EU), большинство продаж приходится на игры для взрослых(М), в Японии(JP) больше половины игр с неопределнным рейтингом, так как система ESRB определяет рейтинг для игр в США и Канаде. Для остальных игр продажи в зависимости от рейтинга не сильно отличаются. Можно сделать вывод, что рейтинг ESRB не влияет на продажи игр в Японии(JP).\n",
    "\n",
    "### 4.4 Вывод\n",
    "\n",
    "Пользователи Европы(EU) и Северной Америки(NA) похожи. Их самая популярная платформа - **PS4**, они предпочитают  жанры `Action` и `Shooter` и чаще выбирают игры с ретингом **М** (Для взрослых). Пользователи Японии(JP) сильно отличются, их самая популярная платформа - **3DS**, жанр `Role-Playing` и рейтинг ESRB не влияет на продажи.\n",
    "\n",
    "## 5. Проверка гипотез\n",
    "\n",
    "На этом этапе проверим следующие гипотезы с помощью статистического анализа:\n",
    "\n",
    "1. Средние пользовательские рейтинги платформ Xbox One и PC одинаковые.\n",
    "\n",
    "2. Средние пользовательские рейтинги жанров Action и Sports разные.\n",
    "\n",
    "Проверим гипотезы с помощью t-test (статистический тест с использованием t-распределения Стьюдента), который позволяет сравнивать средние двух генеральных совокупностей между собой. В нулевой гипотезе мы предпологаем что средние равны. Пороговое значение alpha зададим 0.05.\n",
    "\n",
    "### 5.1 Гипотеза 1\n",
    "\n",
    "H0 - Cредние пользовательские рейтинги платформ Xbox One и PC не различаются.\n",
    "\n",
    "H1 - Cредние пользовательские рейтинги платформ Xbox One и PC различаются."
   ]
  },
  {
   "cell_type": "code",
   "execution_count": 28,
   "id": "abc56bc7",
   "metadata": {},
   "outputs": [
    {
     "name": "stdout",
     "output_type": "stream",
     "text": [
      "p-значение:  0.03148460939794486\n",
      "Отвергаем нулевую гипотезу\n"
     ]
    }
   ],
   "source": [
    "alpha = 0.05 # критический уровень статистической значимости\n",
    "\n",
    "results = st.ttest_ind(df_res.dropna(subset=['user_score']).query('platform == \"XOne\"')['user_score'], \n",
    "                       df_res.dropna(subset=['user_score']).query('platform == \"PC\"')['user_score']) # t-test для двух совокупностей\n",
    "\n",
    "print('p-значение: ', results.pvalue)\n",
    "\n",
    "if results.pvalue < alpha: # условия для двух гипотез\n",
    "    print('Отвергаем нулевую гипотезу')\n",
    "else:\n",
    "    print('Не получилось отвергнуть нулевую гипотезу')"
   ]
  },
  {
   "cell_type": "markdown",
   "id": "bcd6edfe",
   "metadata": {},
   "source": [
    "### 5.2 Гипотеза 2\n",
    "\n",
    "H0 - Cредние пользовательские рейтинги жанров Action и Sports не различаются.\n",
    "\n",
    "H1 - Cредние пользовательские рейтинги жанров Action и Sports различаются."
   ]
  },
  {
   "cell_type": "code",
   "execution_count": 29,
   "id": "1e009e4c",
   "metadata": {},
   "outputs": [
    {
     "name": "stdout",
     "output_type": "stream",
     "text": [
      "p-значение:  4.1287310259769883e-13\n",
      "Отвергаем нулевую гипотезу\n"
     ]
    }
   ],
   "source": [
    "alpha = 0.05 # критический уровень статистической значимости\n",
    "\n",
    "results = st.ttest_ind(df_res.dropna(subset=['user_score']).query('genre == \"Action\"')['user_score'],\n",
    "                       df_res.dropna(subset=['user_score']).query('genre == \"Sports\"')['user_score']) # t-test для двух совокупностей\n",
    "\n",
    "print('p-значение: ', results.pvalue)\n",
    "\n",
    "if results.pvalue < alpha: # условия для двух гипотез\n",
    "    print('Отвергаем нулевую гипотезу')\n",
    "else:\n",
    "    print('Не получилось отвергнуть нулевую гипотезу')"
   ]
  },
  {
   "cell_type": "markdown",
   "id": "3fd4914f",
   "metadata": {},
   "source": [
    "### 5.3 Вывод\n",
    "\n",
    "Мы проверили гипотезы с помощью t-test и можем сделать выводы:\n",
    "\n",
    "1. Разница между средним выборки рейтинга игр для Xbox One и средним выборки рейтинга игр для PC статистически значима.\n",
    "2. Разница между средним выборки рейтинга игр для жанра `Action` и средним выборки рейтинга игр для жанра `Sports` статистически значима.\n",
    "\n",
    "## 6. Общий вывод\n",
    "\n",
    "Задачей проекта было выявить закономерности, определяющие успешность игры. В распоряжении были данные о продажах игр до 2016 года.\n",
    "\n",
    "После обзора данных, мы обнаружили проблемы, которые были решены на этапе подготовки данных. Было удалено не более 2% данных датасета. \n",
    "\n",
    "В процессе исследования были сделаны следующие выводы:\n",
    " \n",
    "* Жизненный цикл платформы составляет 10 лет, пик продаж игр на 4-6 год, далее снижение.\n",
    "* Актуальным для исследования периодом было определено 3 года.\n",
    "* Потенциально прибыльные платформы на 2017 год: PS4, XOne, WiiU, PC, PSV, 3DS.\n",
    "* Отзывы критиков слабо влияют на продажи игр, отзывы пользователей не влияют.\n",
    "* Самый популярный жанр игр `Action`. Лучшие продажи у `Shooter`.\n",
    "\n",
    "Пользователи Европы(EU) и Северной Америки(NA) похожи. Их самая популярная платформа - **PS4**, они предпочитают  жанры `Action` и `Shooter` и чаще выбирают игры с ретингом **М** (Для взрослых). Пользователи Японии(JP) сильно отличются, их самая популярная платформа - **3DS**, жанр `Role-Playing`. В Японии рейтинг не влияет на продажи.\n",
    "\n",
    "Мы проверили гипотезы с помощью t-test и можем сделать выводы:\n",
    "\n",
    "1. Разница между средними двух выборок (рейтинг игр для платформ Xbox One и PC) статистически значима.\n",
    "1. Разница между средними двух выборок (рейтинг игр для жанров Action и Sports) статистически значима.\n",
    "\n",
    "Исходя из проведенного исследования, магазину в своей маркетинговой политике на 2017 год рекомендуется делать основной упор на продажи игр в первую очередь для платформы **PS4**, а также для **XOne** в Европе и Северной Америке, а в Японии - для платформы **3DS**. Потенциально прибыльными платформами остаются WiiU, PC, PSV. Рекомендуется отдать приоритет жанрам `Action` и `Shooter` с ретингом **М** для в Европе и Северной Америке, а в Японии жанру `Role-Playing`. Не рекомендуется привлекать к рекламной кампании критиков, так как их оценки слабо влияют на продажи."
   ]
  }
 ],
 "metadata": {
  "ExecuteTimeLog": [
   {
    "duration": 73,
    "start_time": "2022-04-17T09:41:01.269Z"
   },
   {
    "duration": 1715,
    "start_time": "2022-04-17T09:41:03.798Z"
   },
   {
    "duration": 183,
    "start_time": "2022-04-17T09:41:06.544Z"
   },
   {
    "duration": 6,
    "start_time": "2022-04-17T09:42:35.826Z"
   },
   {
    "duration": 12,
    "start_time": "2022-04-17T09:42:37.165Z"
   },
   {
    "duration": 15,
    "start_time": "2022-04-17T09:42:44.986Z"
   },
   {
    "duration": 10,
    "start_time": "2022-04-17T09:43:06.929Z"
   },
   {
    "duration": 65,
    "start_time": "2022-04-17T09:45:00.362Z"
   },
   {
    "duration": 8,
    "start_time": "2022-04-17T09:45:02.745Z"
   },
   {
    "duration": 15,
    "start_time": "2022-04-17T09:45:04.141Z"
   },
   {
    "duration": 6,
    "start_time": "2022-04-17T09:51:39.911Z"
   },
   {
    "duration": 1276,
    "start_time": "2022-04-17T09:51:47.843Z"
   },
   {
    "duration": 185,
    "start_time": "2022-04-17T09:51:49.121Z"
   },
   {
    "duration": 17,
    "start_time": "2022-04-17T09:51:49.308Z"
   },
   {
    "duration": 22,
    "start_time": "2022-04-17T09:51:49.327Z"
   },
   {
    "duration": 13,
    "start_time": "2022-04-17T09:51:49.350Z"
   },
   {
    "duration": 9,
    "start_time": "2022-04-17T09:51:49.365Z"
   },
   {
    "duration": 17,
    "start_time": "2022-04-17T09:51:49.376Z"
   },
   {
    "duration": 2814,
    "start_time": "2022-04-17T09:51:49.395Z"
   },
   {
    "duration": 12,
    "start_time": "2022-04-17T09:51:52.211Z"
   },
   {
    "duration": 55,
    "start_time": "2022-04-17T09:51:52.226Z"
   },
   {
    "duration": 8,
    "start_time": "2022-04-17T09:51:52.283Z"
   },
   {
    "duration": 14,
    "start_time": "2022-04-17T09:51:52.293Z"
   },
   {
    "duration": 49,
    "start_time": "2022-04-17T09:51:52.309Z"
   },
   {
    "duration": 5,
    "start_time": "2022-04-17T09:52:00.316Z"
   },
   {
    "duration": 184,
    "start_time": "2022-04-17T09:52:02.589Z"
   },
   {
    "duration": 243,
    "start_time": "2022-04-17T09:54:11.694Z"
   },
   {
    "duration": 29,
    "start_time": "2022-04-17T09:54:19.076Z"
   },
   {
    "duration": 897,
    "start_time": "2022-04-17T09:54:26.519Z"
   },
   {
    "duration": 88,
    "start_time": "2022-04-17T09:55:51.382Z"
   },
   {
    "duration": 6,
    "start_time": "2022-04-17T09:55:55.744Z"
   },
   {
    "duration": 1906,
    "start_time": "2022-04-17T09:55:57.257Z"
   },
   {
    "duration": 157,
    "start_time": "2022-04-17T09:57:28.164Z"
   },
   {
    "duration": 227,
    "start_time": "2022-04-17T09:58:15.742Z"
   },
   {
    "duration": 6,
    "start_time": "2022-04-17T10:00:52.285Z"
   },
   {
    "duration": 1167,
    "start_time": "2022-04-17T10:00:55.189Z"
   },
   {
    "duration": 174,
    "start_time": "2022-04-17T10:01:58.715Z"
   },
   {
    "duration": 161,
    "start_time": "2022-04-17T10:02:01.697Z"
   },
   {
    "duration": 26,
    "start_time": "2022-04-17T10:03:19.787Z"
   },
   {
    "duration": 25,
    "start_time": "2022-04-17T10:04:05.746Z"
   },
   {
    "duration": 25,
    "start_time": "2022-04-17T10:04:20.357Z"
   },
   {
    "duration": 1067,
    "start_time": "2022-04-17T10:04:27.015Z"
   },
   {
    "duration": 117,
    "start_time": "2022-04-17T10:04:28.084Z"
   },
   {
    "duration": 21,
    "start_time": "2022-04-17T10:04:28.203Z"
   },
   {
    "duration": 6,
    "start_time": "2022-04-17T10:04:28.226Z"
   },
   {
    "duration": 18,
    "start_time": "2022-04-17T10:04:28.248Z"
   },
   {
    "duration": 11,
    "start_time": "2022-04-17T10:04:28.268Z"
   },
   {
    "duration": 20,
    "start_time": "2022-04-17T10:04:28.281Z"
   },
   {
    "duration": 5691,
    "start_time": "2022-04-17T10:04:28.303Z"
   },
   {
    "duration": 14,
    "start_time": "2022-04-17T10:04:33.996Z"
   },
   {
    "duration": 78,
    "start_time": "2022-04-17T10:04:34.013Z"
   },
   {
    "duration": 9,
    "start_time": "2022-04-17T10:04:34.094Z"
   },
   {
    "duration": 15,
    "start_time": "2022-04-17T10:04:34.104Z"
   },
   {
    "duration": 38,
    "start_time": "2022-04-17T10:04:34.121Z"
   },
   {
    "duration": 4,
    "start_time": "2022-04-17T10:04:34.161Z"
   },
   {
    "duration": 198,
    "start_time": "2022-04-17T10:04:34.167Z"
   },
   {
    "duration": 224,
    "start_time": "2022-04-17T10:04:34.367Z"
   },
   {
    "duration": 28,
    "start_time": "2022-04-17T10:04:34.594Z"
   },
   {
    "duration": 914,
    "start_time": "2022-04-17T10:04:34.624Z"
   },
   {
    "duration": 10,
    "start_time": "2022-04-17T10:04:35.540Z"
   },
   {
    "duration": 1928,
    "start_time": "2022-04-17T10:04:35.552Z"
   },
   {
    "duration": 153,
    "start_time": "2022-04-17T10:04:37.483Z"
   },
   {
    "duration": 317,
    "start_time": "2022-04-17T10:04:37.638Z"
   },
   {
    "duration": 7,
    "start_time": "2022-04-17T10:04:37.957Z"
   },
   {
    "duration": 1596,
    "start_time": "2022-04-17T10:04:37.966Z"
   },
   {
    "duration": 215,
    "start_time": "2022-04-17T10:04:39.564Z"
   },
   {
    "duration": 243,
    "start_time": "2022-04-17T10:04:39.780Z"
   },
   {
    "duration": 43,
    "start_time": "2022-04-17T10:04:40.025Z"
   },
   {
    "duration": 30,
    "start_time": "2022-04-17T10:05:24.909Z"
   },
   {
    "duration": 42,
    "start_time": "2022-04-17T10:05:43.682Z"
   },
   {
    "duration": 11,
    "start_time": "2022-04-17T10:08:13.604Z"
   },
   {
    "duration": 12,
    "start_time": "2022-04-17T10:08:16.064Z"
   },
   {
    "duration": 1033,
    "start_time": "2022-04-17T10:14:28.784Z"
   },
   {
    "duration": 116,
    "start_time": "2022-04-17T10:14:29.819Z"
   },
   {
    "duration": 14,
    "start_time": "2022-04-17T10:14:29.937Z"
   },
   {
    "duration": 5,
    "start_time": "2022-04-17T10:14:29.953Z"
   },
   {
    "duration": 11,
    "start_time": "2022-04-17T10:14:29.959Z"
   },
   {
    "duration": 8,
    "start_time": "2022-04-17T10:14:29.971Z"
   },
   {
    "duration": 16,
    "start_time": "2022-04-17T10:14:29.980Z"
   },
   {
    "duration": 2874,
    "start_time": "2022-04-17T10:14:29.998Z"
   },
   {
    "duration": 10,
    "start_time": "2022-04-17T10:14:32.873Z"
   },
   {
    "duration": 39,
    "start_time": "2022-04-17T10:14:32.886Z"
   },
   {
    "duration": 29,
    "start_time": "2022-04-17T10:14:32.926Z"
   },
   {
    "duration": 12,
    "start_time": "2022-04-17T10:14:32.957Z"
   },
   {
    "duration": 14,
    "start_time": "2022-04-17T10:14:32.971Z"
   },
   {
    "duration": 4,
    "start_time": "2022-04-17T10:14:32.987Z"
   },
   {
    "duration": 221,
    "start_time": "2022-04-17T10:14:32.992Z"
   },
   {
    "duration": 234,
    "start_time": "2022-04-17T10:14:33.215Z"
   },
   {
    "duration": 27,
    "start_time": "2022-04-17T10:14:33.451Z"
   },
   {
    "duration": 905,
    "start_time": "2022-04-17T10:14:33.480Z"
   },
   {
    "duration": 7,
    "start_time": "2022-04-17T10:14:34.386Z"
   },
   {
    "duration": 1913,
    "start_time": "2022-04-17T10:14:34.394Z"
   },
   {
    "duration": 163,
    "start_time": "2022-04-17T10:14:36.309Z"
   },
   {
    "duration": 224,
    "start_time": "2022-04-17T10:14:36.474Z"
   },
   {
    "duration": 5,
    "start_time": "2022-04-17T10:14:36.700Z"
   },
   {
    "duration": 1176,
    "start_time": "2022-04-17T10:14:36.706Z"
   },
   {
    "duration": 189,
    "start_time": "2022-04-17T10:14:37.883Z"
   },
   {
    "duration": 175,
    "start_time": "2022-04-17T10:14:38.074Z"
   },
   {
    "duration": 24,
    "start_time": "2022-04-17T10:14:38.251Z"
   },
   {
    "duration": 22,
    "start_time": "2022-04-17T10:14:38.278Z"
   },
   {
    "duration": 74,
    "start_time": "2022-04-17T10:14:38.301Z"
   },
   {
    "duration": 9,
    "start_time": "2022-04-17T10:14:38.376Z"
   },
   {
    "duration": 9,
    "start_time": "2022-04-17T10:14:38.387Z"
   },
   {
    "duration": 1645,
    "start_time": "2022-04-17T10:23:43.628Z"
   },
   {
    "duration": 186,
    "start_time": "2022-04-17T10:23:45.276Z"
   },
   {
    "duration": 21,
    "start_time": "2022-04-17T10:23:45.464Z"
   },
   {
    "duration": 9,
    "start_time": "2022-04-17T10:23:45.488Z"
   },
   {
    "duration": 21,
    "start_time": "2022-04-17T10:23:45.500Z"
   },
   {
    "duration": 13,
    "start_time": "2022-04-17T10:23:45.523Z"
   },
   {
    "duration": 22,
    "start_time": "2022-04-17T10:23:45.539Z"
   },
   {
    "duration": 5530,
    "start_time": "2022-04-17T10:23:45.593Z"
   },
   {
    "duration": 16,
    "start_time": "2022-04-17T10:23:51.125Z"
   },
   {
    "duration": 88,
    "start_time": "2022-04-17T10:23:51.144Z"
   },
   {
    "duration": 10,
    "start_time": "2022-04-17T10:23:51.234Z"
   },
   {
    "duration": 20,
    "start_time": "2022-04-17T10:23:51.247Z"
   },
   {
    "duration": 24,
    "start_time": "2022-04-17T10:23:51.293Z"
   },
   {
    "duration": 6,
    "start_time": "2022-04-17T10:23:58.843Z"
   },
   {
    "duration": 6,
    "start_time": "2022-04-17T10:24:03.082Z"
   },
   {
    "duration": 6,
    "start_time": "2022-04-17T10:25:15.790Z"
   },
   {
    "duration": 245,
    "start_time": "2022-04-17T10:25:17.653Z"
   },
   {
    "duration": 579,
    "start_time": "2022-04-17T10:26:19.039Z"
   },
   {
    "duration": 22,
    "start_time": "2022-04-17T10:26:34.570Z"
   },
   {
    "duration": 56126,
    "start_time": "2022-04-17T10:26:52.121Z"
   },
   {
    "duration": 26,
    "start_time": "2022-04-17T10:28:27.030Z"
   },
   {
    "duration": 7,
    "start_time": "2022-04-17T10:28:39.511Z"
   },
   {
    "duration": 19,
    "start_time": "2022-04-17T10:28:41.126Z"
   },
   {
    "duration": 11474,
    "start_time": "2022-04-17T10:29:18.522Z"
   },
   {
    "duration": 260,
    "start_time": "2022-04-17T10:32:45.522Z"
   },
   {
    "duration": 21,
    "start_time": "2022-04-17T10:34:31.114Z"
   },
   {
    "duration": 22,
    "start_time": "2022-04-17T10:34:40.923Z"
   },
   {
    "duration": 19,
    "start_time": "2022-04-17T10:34:59.987Z"
   },
   {
    "duration": 20,
    "start_time": "2022-04-17T10:35:15.558Z"
   },
   {
    "duration": 243,
    "start_time": "2022-04-17T10:35:33.688Z"
   },
   {
    "duration": 241,
    "start_time": "2022-04-17T10:35:43.891Z"
   },
   {
    "duration": 221,
    "start_time": "2022-04-17T10:36:02.377Z"
   },
   {
    "duration": 248,
    "start_time": "2022-04-17T10:36:12.113Z"
   },
   {
    "duration": 274,
    "start_time": "2022-04-17T10:36:16.735Z"
   },
   {
    "duration": 285,
    "start_time": "2022-04-17T10:36:21.759Z"
   },
   {
    "duration": 313,
    "start_time": "2022-04-17T10:36:24.893Z"
   },
   {
    "duration": 551,
    "start_time": "2022-04-17T10:37:21.792Z"
   },
   {
    "duration": 514,
    "start_time": "2022-04-17T10:39:40.905Z"
   },
   {
    "duration": 515,
    "start_time": "2022-04-17T10:39:48.793Z"
   },
   {
    "duration": 529,
    "start_time": "2022-04-17T10:41:05.460Z"
   },
   {
    "duration": 522,
    "start_time": "2022-04-17T10:42:05.065Z"
   },
   {
    "duration": 1518,
    "start_time": "2022-04-17T10:43:38.256Z"
   },
   {
    "duration": 235,
    "start_time": "2022-04-17T10:43:39.777Z"
   },
   {
    "duration": 21,
    "start_time": "2022-04-17T10:43:40.014Z"
   },
   {
    "duration": 18,
    "start_time": "2022-04-17T10:43:40.038Z"
   },
   {
    "duration": 29,
    "start_time": "2022-04-17T10:43:40.059Z"
   },
   {
    "duration": 11,
    "start_time": "2022-04-17T10:43:40.093Z"
   },
   {
    "duration": 36,
    "start_time": "2022-04-17T10:43:40.106Z"
   },
   {
    "duration": 5616,
    "start_time": "2022-04-17T10:43:40.144Z"
   },
   {
    "duration": 15,
    "start_time": "2022-04-17T10:43:45.762Z"
   },
   {
    "duration": 63,
    "start_time": "2022-04-17T10:43:45.793Z"
   },
   {
    "duration": 12,
    "start_time": "2022-04-17T10:43:45.858Z"
   },
   {
    "duration": 23,
    "start_time": "2022-04-17T10:43:45.894Z"
   },
   {
    "duration": 24,
    "start_time": "2022-04-17T10:43:45.920Z"
   },
   {
    "duration": 576,
    "start_time": "2022-04-17T10:43:45.947Z"
   },
   {
    "duration": 208,
    "start_time": "2022-04-17T10:43:46.525Z"
   },
   {
    "duration": 0,
    "start_time": "2022-04-17T10:43:46.735Z"
   },
   {
    "duration": 0,
    "start_time": "2022-04-17T10:43:46.737Z"
   },
   {
    "duration": 0,
    "start_time": "2022-04-17T10:43:46.739Z"
   },
   {
    "duration": 0,
    "start_time": "2022-04-17T10:43:46.742Z"
   },
   {
    "duration": 0,
    "start_time": "2022-04-17T10:43:46.743Z"
   },
   {
    "duration": 0,
    "start_time": "2022-04-17T10:43:46.745Z"
   },
   {
    "duration": 0,
    "start_time": "2022-04-17T10:43:46.747Z"
   },
   {
    "duration": 0,
    "start_time": "2022-04-17T10:43:46.748Z"
   },
   {
    "duration": 0,
    "start_time": "2022-04-17T10:43:46.750Z"
   },
   {
    "duration": 0,
    "start_time": "2022-04-17T10:43:46.752Z"
   },
   {
    "duration": 0,
    "start_time": "2022-04-17T10:43:46.754Z"
   },
   {
    "duration": 0,
    "start_time": "2022-04-17T10:43:46.756Z"
   },
   {
    "duration": 0,
    "start_time": "2022-04-17T10:43:46.757Z"
   },
   {
    "duration": 0,
    "start_time": "2022-04-17T10:43:46.759Z"
   },
   {
    "duration": 0,
    "start_time": "2022-04-17T10:43:46.761Z"
   },
   {
    "duration": 0,
    "start_time": "2022-04-17T10:43:46.762Z"
   },
   {
    "duration": 506,
    "start_time": "2022-04-17T10:44:22.100Z"
   },
   {
    "duration": 598,
    "start_time": "2022-04-17T10:44:42.464Z"
   },
   {
    "duration": 505,
    "start_time": "2022-04-17T10:46:36.840Z"
   },
   {
    "duration": 263,
    "start_time": "2022-04-17T10:47:40.190Z"
   },
   {
    "duration": 383,
    "start_time": "2022-04-17T10:48:06.676Z"
   },
   {
    "duration": 44,
    "start_time": "2022-04-17T10:48:10.062Z"
   },
   {
    "duration": 1892,
    "start_time": "2022-04-17T10:48:13.266Z"
   },
   {
    "duration": 9,
    "start_time": "2022-04-17T10:48:20.824Z"
   },
   {
    "duration": 394,
    "start_time": "2022-04-17T10:49:41.089Z"
   },
   {
    "duration": 1576,
    "start_time": "2022-04-17T11:02:26.325Z"
   },
   {
    "duration": 10,
    "start_time": "2022-04-17T11:02:32.275Z"
   },
   {
    "duration": 2260,
    "start_time": "2022-04-17T11:02:37.735Z"
   },
   {
    "duration": 9,
    "start_time": "2022-04-17T11:09:54.131Z"
   },
   {
    "duration": 7,
    "start_time": "2022-04-17T11:10:35.041Z"
   },
   {
    "duration": 2082,
    "start_time": "2022-04-17T11:10:42.088Z"
   },
   {
    "duration": 2186,
    "start_time": "2022-04-17T11:12:09.788Z"
   },
   {
    "duration": 1791,
    "start_time": "2022-04-17T11:13:13.348Z"
   },
   {
    "duration": 1679,
    "start_time": "2022-04-17T11:15:14.450Z"
   },
   {
    "duration": 1624,
    "start_time": "2022-04-17T11:15:26.116Z"
   },
   {
    "duration": 1457,
    "start_time": "2022-04-17T11:15:36.622Z"
   },
   {
    "duration": 1594,
    "start_time": "2022-04-17T11:15:47.907Z"
   },
   {
    "duration": 2050,
    "start_time": "2022-04-17T11:16:25.471Z"
   },
   {
    "duration": 1562,
    "start_time": "2022-04-17T11:16:45.978Z"
   },
   {
    "duration": 1227,
    "start_time": "2022-04-17T11:16:52.519Z"
   },
   {
    "duration": 1141,
    "start_time": "2022-04-17T11:18:27.342Z"
   },
   {
    "duration": 1268,
    "start_time": "2022-04-17T11:18:51.594Z"
   },
   {
    "duration": 1257,
    "start_time": "2022-04-17T11:19:01.259Z"
   },
   {
    "duration": 1581,
    "start_time": "2022-04-17T11:19:42.800Z"
   },
   {
    "duration": 1686,
    "start_time": "2022-04-17T11:19:53.963Z"
   },
   {
    "duration": 1592,
    "start_time": "2022-04-17T11:19:59.126Z"
   },
   {
    "duration": 1785,
    "start_time": "2022-04-17T11:20:15.365Z"
   },
   {
    "duration": 1282,
    "start_time": "2022-04-17T11:20:22.360Z"
   },
   {
    "duration": 295,
    "start_time": "2022-04-17T11:28:51.104Z"
   },
   {
    "duration": 1323,
    "start_time": "2022-04-17T12:28:54.912Z"
   },
   {
    "duration": 173,
    "start_time": "2022-04-17T12:28:56.238Z"
   },
   {
    "duration": 20,
    "start_time": "2022-04-17T12:28:56.413Z"
   },
   {
    "duration": 7,
    "start_time": "2022-04-17T12:28:56.436Z"
   },
   {
    "duration": 17,
    "start_time": "2022-04-17T12:28:56.445Z"
   },
   {
    "duration": 12,
    "start_time": "2022-04-17T12:28:56.494Z"
   },
   {
    "duration": 19,
    "start_time": "2022-04-17T12:28:56.508Z"
   },
   {
    "duration": 5465,
    "start_time": "2022-04-17T12:28:56.529Z"
   },
   {
    "duration": 15,
    "start_time": "2022-04-17T12:29:01.996Z"
   },
   {
    "duration": 85,
    "start_time": "2022-04-17T12:29:02.015Z"
   },
   {
    "duration": 10,
    "start_time": "2022-04-17T12:29:02.102Z"
   },
   {
    "duration": 19,
    "start_time": "2022-04-17T12:29:02.114Z"
   },
   {
    "duration": 25,
    "start_time": "2022-04-17T12:29:02.136Z"
   },
   {
    "duration": 522,
    "start_time": "2022-04-17T12:29:02.194Z"
   },
   {
    "duration": 388,
    "start_time": "2022-04-17T12:29:02.720Z"
   },
   {
    "duration": 46,
    "start_time": "2022-04-17T12:29:03.111Z"
   },
   {
    "duration": 1671,
    "start_time": "2022-04-17T12:29:03.160Z"
   },
   {
    "duration": 9,
    "start_time": "2022-04-17T12:29:04.834Z"
   },
   {
    "duration": 1342,
    "start_time": "2022-04-17T12:29:04.846Z"
   },
   {
    "duration": 349,
    "start_time": "2022-04-17T12:29:06.194Z"
   },
   {
    "duration": 397,
    "start_time": "2022-04-17T12:29:06.545Z"
   },
   {
    "duration": 7,
    "start_time": "2022-04-17T12:29:06.945Z"
   },
   {
    "duration": 1849,
    "start_time": "2022-04-17T12:29:06.954Z"
   },
   {
    "duration": 307,
    "start_time": "2022-04-17T12:29:08.805Z"
   },
   {
    "duration": 323,
    "start_time": "2022-04-17T12:29:09.114Z"
   },
   {
    "duration": 53,
    "start_time": "2022-04-17T12:29:09.439Z"
   },
   {
    "duration": 37,
    "start_time": "2022-04-17T12:29:09.495Z"
   },
   {
    "duration": 75,
    "start_time": "2022-04-17T12:29:09.537Z"
   },
   {
    "duration": 12,
    "start_time": "2022-04-17T12:29:09.614Z"
   },
   {
    "duration": 14,
    "start_time": "2022-04-17T12:29:09.628Z"
   },
   {
    "duration": 414,
    "start_time": "2022-04-17T12:30:24.649Z"
   },
   {
    "duration": 290,
    "start_time": "2022-04-17T12:30:46.926Z"
   },
   {
    "duration": 295,
    "start_time": "2022-04-17T12:31:05.512Z"
   },
   {
    "duration": 309,
    "start_time": "2022-04-17T12:31:23.278Z"
   },
   {
    "duration": 301,
    "start_time": "2022-04-17T12:31:38.264Z"
   },
   {
    "duration": 384,
    "start_time": "2022-04-17T12:32:17.437Z"
   },
   {
    "duration": 314,
    "start_time": "2022-04-17T12:35:45.591Z"
   },
   {
    "duration": 422,
    "start_time": "2022-04-17T12:36:02.265Z"
   },
   {
    "duration": 393,
    "start_time": "2022-04-17T12:37:46.687Z"
   },
   {
    "duration": 405,
    "start_time": "2022-04-17T12:37:54.356Z"
   },
   {
    "duration": 396,
    "start_time": "2022-04-17T12:37:57.886Z"
   },
   {
    "duration": 534,
    "start_time": "2022-04-17T12:41:44.818Z"
   },
   {
    "duration": 202,
    "start_time": "2022-04-17T12:42:35.809Z"
   },
   {
    "duration": 432,
    "start_time": "2022-04-17T12:42:42.242Z"
   },
   {
    "duration": 2054,
    "start_time": "2022-04-17T12:43:23.480Z"
   },
   {
    "duration": 2174,
    "start_time": "2022-04-17T12:43:55.026Z"
   },
   {
    "duration": 338,
    "start_time": "2022-04-17T12:48:47.385Z"
   },
   {
    "duration": 483,
    "start_time": "2022-04-17T12:51:14.132Z"
   },
   {
    "duration": 307,
    "start_time": "2022-04-17T12:51:24.212Z"
   },
   {
    "duration": 1012,
    "start_time": "2022-04-17T13:13:50.622Z"
   },
   {
    "duration": 1317,
    "start_time": "2022-04-17T13:14:02.600Z"
   },
   {
    "duration": 435,
    "start_time": "2022-04-17T13:14:25.769Z"
   },
   {
    "duration": 468,
    "start_time": "2022-04-17T13:15:08.539Z"
   },
   {
    "duration": 425,
    "start_time": "2022-04-17T13:15:49.845Z"
   },
   {
    "duration": 2095,
    "start_time": "2022-04-17T13:16:22.155Z"
   },
   {
    "duration": 458,
    "start_time": "2022-04-17T13:16:38.777Z"
   },
   {
    "duration": 2228,
    "start_time": "2022-04-17T13:16:50.746Z"
   },
   {
    "duration": 2242,
    "start_time": "2022-04-17T13:16:57.378Z"
   },
   {
    "duration": 2342,
    "start_time": "2022-04-17T13:17:34.090Z"
   },
   {
    "duration": 31,
    "start_time": "2022-04-17T13:18:52.845Z"
   },
   {
    "duration": 2240,
    "start_time": "2022-04-17T13:19:23.855Z"
   },
   {
    "duration": 455,
    "start_time": "2022-04-17T13:20:34.074Z"
   },
   {
    "duration": 2270,
    "start_time": "2022-04-17T13:23:46.052Z"
   },
   {
    "duration": 2206,
    "start_time": "2022-04-17T13:24:05.017Z"
   },
   {
    "duration": 2225,
    "start_time": "2022-04-17T13:24:16.792Z"
   },
   {
    "duration": 2141,
    "start_time": "2022-04-17T13:24:41.604Z"
   },
   {
    "duration": 2572,
    "start_time": "2022-04-17T13:25:16.671Z"
   },
   {
    "duration": 311,
    "start_time": "2022-04-17T13:27:00.182Z"
   },
   {
    "duration": 2364,
    "start_time": "2022-04-17T13:37:04.545Z"
   },
   {
    "duration": 301,
    "start_time": "2022-04-17T13:37:06.913Z"
   },
   {
    "duration": 39,
    "start_time": "2022-04-17T13:37:07.217Z"
   },
   {
    "duration": 32,
    "start_time": "2022-04-17T13:37:07.261Z"
   },
   {
    "duration": 31,
    "start_time": "2022-04-17T13:37:07.298Z"
   },
   {
    "duration": 18,
    "start_time": "2022-04-17T13:37:07.332Z"
   },
   {
    "duration": 70,
    "start_time": "2022-04-17T13:37:07.353Z"
   },
   {
    "duration": 6593,
    "start_time": "2022-04-17T13:37:07.427Z"
   },
   {
    "duration": 14,
    "start_time": "2022-04-17T13:37:14.022Z"
   },
   {
    "duration": 82,
    "start_time": "2022-04-17T13:37:14.040Z"
   },
   {
    "duration": 11,
    "start_time": "2022-04-17T13:37:14.124Z"
   },
   {
    "duration": 21,
    "start_time": "2022-04-17T13:37:14.137Z"
   },
   {
    "duration": 53,
    "start_time": "2022-04-17T13:37:14.160Z"
   },
   {
    "duration": 525,
    "start_time": "2022-04-17T13:37:14.216Z"
   },
   {
    "duration": 390,
    "start_time": "2022-04-17T13:37:14.743Z"
   },
   {
    "duration": 58,
    "start_time": "2022-04-17T13:37:15.135Z"
   },
   {
    "duration": 1686,
    "start_time": "2022-04-17T13:37:15.196Z"
   },
   {
    "duration": 13,
    "start_time": "2022-04-17T13:37:16.885Z"
   },
   {
    "duration": 1412,
    "start_time": "2022-04-17T13:37:16.900Z"
   },
   {
    "duration": 321,
    "start_time": "2022-04-17T13:37:18.314Z"
   },
   {
    "duration": 497,
    "start_time": "2022-04-17T13:37:18.637Z"
   },
   {
    "duration": 9,
    "start_time": "2022-04-17T13:37:19.136Z"
   },
   {
    "duration": 2298,
    "start_time": "2022-04-17T13:37:19.147Z"
   },
   {
    "duration": 326,
    "start_time": "2022-04-17T13:37:21.448Z"
   },
   {
    "duration": 445,
    "start_time": "2022-04-17T13:37:21.776Z"
   },
   {
    "duration": 82,
    "start_time": "2022-04-17T13:37:22.224Z"
   },
   {
    "duration": 89,
    "start_time": "2022-04-17T13:37:22.310Z"
   },
   {
    "duration": 57,
    "start_time": "2022-04-17T13:37:22.403Z"
   },
   {
    "duration": 36,
    "start_time": "2022-04-17T13:37:22.462Z"
   },
   {
    "duration": 20,
    "start_time": "2022-04-17T13:37:22.500Z"
   },
   {
    "duration": 71,
    "start_time": "2022-04-17T13:43:05.086Z"
   },
   {
    "duration": 1823,
    "start_time": "2022-04-17T13:43:15.213Z"
   },
   {
    "duration": 241,
    "start_time": "2022-04-17T13:43:17.039Z"
   },
   {
    "duration": 43,
    "start_time": "2022-04-17T13:43:17.284Z"
   },
   {
    "duration": 11,
    "start_time": "2022-04-17T13:43:17.333Z"
   },
   {
    "duration": 57,
    "start_time": "2022-04-17T13:43:17.348Z"
   },
   {
    "duration": 14,
    "start_time": "2022-04-17T13:43:17.408Z"
   },
   {
    "duration": 22,
    "start_time": "2022-04-17T13:43:17.424Z"
   },
   {
    "duration": 101,
    "start_time": "2022-04-17T13:43:17.448Z"
   },
   {
    "duration": 44,
    "start_time": "2022-04-17T13:43:17.553Z"
   },
   {
    "duration": 332,
    "start_time": "2022-04-17T13:43:17.605Z"
   },
   {
    "duration": 0,
    "start_time": "2022-04-17T13:43:17.943Z"
   },
   {
    "duration": 0,
    "start_time": "2022-04-17T13:43:17.945Z"
   },
   {
    "duration": 0,
    "start_time": "2022-04-17T13:43:17.949Z"
   },
   {
    "duration": 0,
    "start_time": "2022-04-17T13:43:17.952Z"
   },
   {
    "duration": 0,
    "start_time": "2022-04-17T13:43:17.956Z"
   },
   {
    "duration": 0,
    "start_time": "2022-04-17T13:43:17.960Z"
   },
   {
    "duration": 0,
    "start_time": "2022-04-17T13:43:17.993Z"
   },
   {
    "duration": 0,
    "start_time": "2022-04-17T13:43:17.997Z"
   },
   {
    "duration": 0,
    "start_time": "2022-04-17T13:43:18.009Z"
   },
   {
    "duration": 0,
    "start_time": "2022-04-17T13:43:18.011Z"
   },
   {
    "duration": 0,
    "start_time": "2022-04-17T13:43:18.013Z"
   },
   {
    "duration": 0,
    "start_time": "2022-04-17T13:43:18.015Z"
   },
   {
    "duration": 0,
    "start_time": "2022-04-17T13:43:18.017Z"
   },
   {
    "duration": 0,
    "start_time": "2022-04-17T13:43:18.019Z"
   },
   {
    "duration": 0,
    "start_time": "2022-04-17T13:43:18.020Z"
   },
   {
    "duration": 0,
    "start_time": "2022-04-17T13:43:18.022Z"
   },
   {
    "duration": 0,
    "start_time": "2022-04-17T13:43:18.023Z"
   },
   {
    "duration": 0,
    "start_time": "2022-04-17T13:43:18.025Z"
   },
   {
    "duration": 0,
    "start_time": "2022-04-17T13:43:18.027Z"
   },
   {
    "duration": 0,
    "start_time": "2022-04-17T13:43:18.028Z"
   },
   {
    "duration": 57,
    "start_time": "2022-04-17T13:45:10.497Z"
   },
   {
    "duration": 58,
    "start_time": "2022-04-17T13:45:47.220Z"
   },
   {
    "duration": 61,
    "start_time": "2022-04-17T13:45:56.117Z"
   },
   {
    "duration": 58,
    "start_time": "2022-04-17T13:46:12.684Z"
   },
   {
    "duration": 41,
    "start_time": "2022-04-17T13:47:27.464Z"
   },
   {
    "duration": 22,
    "start_time": "2022-04-17T13:47:49.858Z"
   },
   {
    "duration": 23,
    "start_time": "2022-04-17T13:56:36.885Z"
   },
   {
    "duration": 15,
    "start_time": "2022-04-17T13:58:22.021Z"
   },
   {
    "duration": 55,
    "start_time": "2022-04-17T13:59:04.204Z"
   },
   {
    "duration": 3370,
    "start_time": "2022-04-17T13:59:49.918Z"
   },
   {
    "duration": 45,
    "start_time": "2022-04-17T14:00:17.277Z"
   },
   {
    "duration": 69,
    "start_time": "2022-04-17T14:00:33.059Z"
   },
   {
    "duration": 80,
    "start_time": "2022-04-17T14:02:15.079Z"
   },
   {
    "duration": 26,
    "start_time": "2022-04-17T14:02:55.257Z"
   },
   {
    "duration": 3397,
    "start_time": "2022-04-17T14:03:03.311Z"
   },
   {
    "duration": 29,
    "start_time": "2022-04-17T14:03:13.502Z"
   },
   {
    "duration": 48,
    "start_time": "2022-04-17T14:03:22.561Z"
   },
   {
    "duration": 44,
    "start_time": "2022-04-17T14:03:40.170Z"
   },
   {
    "duration": 43,
    "start_time": "2022-04-17T14:03:52.117Z"
   },
   {
    "duration": 69,
    "start_time": "2022-04-17T14:05:28.765Z"
   },
   {
    "duration": 51,
    "start_time": "2022-04-17T14:05:36.384Z"
   },
   {
    "duration": 34,
    "start_time": "2022-04-17T14:05:54.557Z"
   },
   {
    "duration": 25,
    "start_time": "2022-04-17T14:06:10.279Z"
   },
   {
    "duration": 24,
    "start_time": "2022-04-17T14:06:19.416Z"
   },
   {
    "duration": 15,
    "start_time": "2022-04-17T14:06:58.934Z"
   },
   {
    "duration": 1409,
    "start_time": "2022-04-17T14:07:07.940Z"
   },
   {
    "duration": 172,
    "start_time": "2022-04-17T14:07:09.352Z"
   },
   {
    "duration": 20,
    "start_time": "2022-04-17T14:07:09.526Z"
   },
   {
    "duration": 7,
    "start_time": "2022-04-17T14:07:09.549Z"
   },
   {
    "duration": 40,
    "start_time": "2022-04-17T14:07:09.558Z"
   },
   {
    "duration": 11,
    "start_time": "2022-04-17T14:07:09.600Z"
   },
   {
    "duration": 19,
    "start_time": "2022-04-17T14:07:09.614Z"
   },
   {
    "duration": 88,
    "start_time": "2022-04-17T14:07:09.635Z"
   },
   {
    "duration": 22,
    "start_time": "2022-04-17T14:07:09.725Z"
   },
   {
    "duration": 60,
    "start_time": "2022-04-17T14:07:09.751Z"
   },
   {
    "duration": 12,
    "start_time": "2022-04-17T14:07:09.814Z"
   },
   {
    "duration": 17,
    "start_time": "2022-04-17T14:07:09.829Z"
   },
   {
    "duration": 56,
    "start_time": "2022-04-17T14:07:09.848Z"
   },
   {
    "duration": 509,
    "start_time": "2022-04-17T14:07:09.907Z"
   },
   {
    "duration": 406,
    "start_time": "2022-04-17T14:07:10.418Z"
   },
   {
    "duration": 44,
    "start_time": "2022-04-17T14:07:10.827Z"
   },
   {
    "duration": 1887,
    "start_time": "2022-04-17T14:07:10.892Z"
   },
   {
    "duration": 8,
    "start_time": "2022-04-17T14:07:12.793Z"
   },
   {
    "duration": 1593,
    "start_time": "2022-04-17T14:07:12.804Z"
   },
   {
    "duration": 315,
    "start_time": "2022-04-17T14:07:14.399Z"
   },
   {
    "duration": 489,
    "start_time": "2022-04-17T14:07:14.717Z"
   },
   {
    "duration": 9,
    "start_time": "2022-04-17T14:07:15.208Z"
   },
   {
    "duration": 3433,
    "start_time": "2022-04-17T14:07:15.219Z"
   },
   {
    "duration": 360,
    "start_time": "2022-04-17T14:07:18.655Z"
   },
   {
    "duration": 904,
    "start_time": "2022-04-17T14:07:19.019Z"
   },
   {
    "duration": 166,
    "start_time": "2022-04-17T14:07:19.927Z"
   },
   {
    "duration": 110,
    "start_time": "2022-04-17T14:07:20.096Z"
   },
   {
    "duration": 183,
    "start_time": "2022-04-17T14:07:20.212Z"
   },
   {
    "duration": 19,
    "start_time": "2022-04-17T14:07:20.398Z"
   },
   {
    "duration": 23,
    "start_time": "2022-04-17T14:07:20.422Z"
   },
   {
    "duration": 3367,
    "start_time": "2022-04-17T14:07:59.576Z"
   },
   {
    "duration": 2290,
    "start_time": "2022-04-17T14:08:35.082Z"
   },
   {
    "duration": 6,
    "start_time": "2022-04-17T15:50:45.029Z"
   },
   {
    "duration": 5,
    "start_time": "2022-04-17T15:50:53.781Z"
   },
   {
    "duration": 1461,
    "start_time": "2022-04-17T15:51:06.144Z"
   },
   {
    "duration": 226,
    "start_time": "2022-04-17T15:51:07.608Z"
   },
   {
    "duration": 20,
    "start_time": "2022-04-17T15:51:07.836Z"
   },
   {
    "duration": 11,
    "start_time": "2022-04-17T15:51:07.858Z"
   },
   {
    "duration": 35,
    "start_time": "2022-04-17T15:51:07.872Z"
   },
   {
    "duration": 15,
    "start_time": "2022-04-17T15:51:07.909Z"
   },
   {
    "duration": 19,
    "start_time": "2022-04-17T15:51:07.926Z"
   },
   {
    "duration": 79,
    "start_time": "2022-04-17T15:51:07.947Z"
   },
   {
    "duration": 21,
    "start_time": "2022-04-17T15:51:08.028Z"
   },
   {
    "duration": 5,
    "start_time": "2022-04-17T15:51:08.051Z"
   },
   {
    "duration": 56,
    "start_time": "2022-04-17T15:51:08.059Z"
   },
   {
    "duration": 22,
    "start_time": "2022-04-17T15:51:08.117Z"
   },
   {
    "duration": 553,
    "start_time": "2022-04-17T15:51:08.142Z"
   },
   {
    "duration": 448,
    "start_time": "2022-04-17T15:51:08.700Z"
   },
   {
    "duration": 57,
    "start_time": "2022-04-17T15:51:09.150Z"
   },
   {
    "duration": 1894,
    "start_time": "2022-04-17T15:51:09.209Z"
   },
   {
    "duration": 8,
    "start_time": "2022-04-17T15:51:11.106Z"
   },
   {
    "duration": 1650,
    "start_time": "2022-04-17T15:51:11.116Z"
   },
   {
    "duration": 337,
    "start_time": "2022-04-17T15:51:12.768Z"
   },
   {
    "duration": 451,
    "start_time": "2022-04-17T15:51:13.107Z"
   },
   {
    "duration": 7,
    "start_time": "2022-04-17T15:51:13.560Z"
   },
   {
    "duration": 2256,
    "start_time": "2022-04-17T15:51:13.570Z"
   },
   {
    "duration": 425,
    "start_time": "2022-04-17T15:51:15.828Z"
   },
   {
    "duration": 306,
    "start_time": "2022-04-17T15:51:16.255Z"
   },
   {
    "duration": 55,
    "start_time": "2022-04-17T15:51:16.563Z"
   },
   {
    "duration": 39,
    "start_time": "2022-04-17T15:51:16.621Z"
   },
   {
    "duration": 84,
    "start_time": "2022-04-17T15:51:16.663Z"
   },
   {
    "duration": 12,
    "start_time": "2022-04-17T15:51:16.749Z"
   },
   {
    "duration": 41,
    "start_time": "2022-04-17T15:51:16.764Z"
   },
   {
    "duration": 6,
    "start_time": "2022-04-17T15:52:10.288Z"
   },
   {
    "duration": 6,
    "start_time": "2022-04-17T15:52:17.856Z"
   },
   {
    "duration": 1416,
    "start_time": "2022-04-17T15:52:29.461Z"
   },
   {
    "duration": 131,
    "start_time": "2022-04-17T15:52:30.880Z"
   },
   {
    "duration": 21,
    "start_time": "2022-04-17T15:52:31.013Z"
   },
   {
    "duration": 12,
    "start_time": "2022-04-17T15:52:31.038Z"
   },
   {
    "duration": 44,
    "start_time": "2022-04-17T15:52:31.053Z"
   },
   {
    "duration": 12,
    "start_time": "2022-04-17T15:52:31.099Z"
   },
   {
    "duration": 24,
    "start_time": "2022-04-17T15:52:31.114Z"
   },
   {
    "duration": 75,
    "start_time": "2022-04-17T15:52:31.140Z"
   },
   {
    "duration": 22,
    "start_time": "2022-04-17T15:52:31.217Z"
   },
   {
    "duration": 6,
    "start_time": "2022-04-17T15:52:36.136Z"
   },
   {
    "duration": 6,
    "start_time": "2022-04-17T15:52:39.124Z"
   },
   {
    "duration": 6,
    "start_time": "2022-04-17T15:52:43.995Z"
   },
   {
    "duration": 5,
    "start_time": "2022-04-17T15:52:49.119Z"
   },
   {
    "duration": 19,
    "start_time": "2022-04-17T15:53:20.937Z"
   },
   {
    "duration": 1426,
    "start_time": "2022-04-17T15:54:23.183Z"
   },
   {
    "duration": 128,
    "start_time": "2022-04-17T15:54:24.612Z"
   },
   {
    "duration": 22,
    "start_time": "2022-04-17T15:54:24.742Z"
   },
   {
    "duration": 28,
    "start_time": "2022-04-17T15:54:24.767Z"
   },
   {
    "duration": 14,
    "start_time": "2022-04-17T15:54:24.797Z"
   },
   {
    "duration": 11,
    "start_time": "2022-04-17T15:54:24.814Z"
   },
   {
    "duration": 20,
    "start_time": "2022-04-17T15:54:24.827Z"
   },
   {
    "duration": 84,
    "start_time": "2022-04-17T15:54:24.849Z"
   },
   {
    "duration": 22,
    "start_time": "2022-04-17T15:54:24.935Z"
   },
   {
    "duration": 45,
    "start_time": "2022-04-17T15:54:24.961Z"
   },
   {
    "duration": 23,
    "start_time": "2022-04-17T15:54:25.008Z"
   },
   {
    "duration": 520,
    "start_time": "2022-04-17T15:54:25.034Z"
   },
   {
    "duration": 426,
    "start_time": "2022-04-17T15:54:25.556Z"
   },
   {
    "duration": 47,
    "start_time": "2022-04-17T15:54:25.984Z"
   },
   {
    "duration": 1628,
    "start_time": "2022-04-17T15:54:26.033Z"
   },
   {
    "duration": 8,
    "start_time": "2022-04-17T15:54:27.664Z"
   },
   {
    "duration": 1340,
    "start_time": "2022-04-17T15:54:27.674Z"
   },
   {
    "duration": 315,
    "start_time": "2022-04-17T15:54:29.016Z"
   },
   {
    "duration": 440,
    "start_time": "2022-04-17T15:54:29.334Z"
   },
   {
    "duration": 20,
    "start_time": "2022-04-17T15:54:29.776Z"
   },
   {
    "duration": 2142,
    "start_time": "2022-04-17T15:54:29.799Z"
   },
   {
    "duration": 402,
    "start_time": "2022-04-17T15:54:31.943Z"
   },
   {
    "duration": 293,
    "start_time": "2022-04-17T15:54:32.348Z"
   },
   {
    "duration": 53,
    "start_time": "2022-04-17T15:54:32.643Z"
   },
   {
    "duration": 41,
    "start_time": "2022-04-17T15:54:32.698Z"
   },
   {
    "duration": 95,
    "start_time": "2022-04-17T15:54:32.741Z"
   },
   {
    "duration": 13,
    "start_time": "2022-04-17T15:54:32.838Z"
   },
   {
    "duration": 41,
    "start_time": "2022-04-17T15:54:32.858Z"
   },
   {
    "duration": 7,
    "start_time": "2022-04-17T15:57:00.830Z"
   },
   {
    "duration": 51,
    "start_time": "2022-04-17T15:57:06.791Z"
   },
   {
    "duration": 1451,
    "start_time": "2022-04-17T15:57:27.052Z"
   },
   {
    "duration": 121,
    "start_time": "2022-04-17T15:57:28.506Z"
   },
   {
    "duration": 19,
    "start_time": "2022-04-17T15:57:28.629Z"
   },
   {
    "duration": 6,
    "start_time": "2022-04-17T15:57:28.651Z"
   },
   {
    "duration": 43,
    "start_time": "2022-04-17T15:57:28.659Z"
   },
   {
    "duration": 12,
    "start_time": "2022-04-17T15:57:28.704Z"
   },
   {
    "duration": 18,
    "start_time": "2022-04-17T15:57:28.718Z"
   },
   {
    "duration": 74,
    "start_time": "2022-04-17T15:57:28.738Z"
   },
   {
    "duration": 21,
    "start_time": "2022-04-17T15:57:28.814Z"
   },
   {
    "duration": 6,
    "start_time": "2022-04-17T15:57:28.839Z"
   },
   {
    "duration": 49,
    "start_time": "2022-04-17T15:57:28.847Z"
   },
   {
    "duration": 23,
    "start_time": "2022-04-17T15:57:28.898Z"
   },
   {
    "duration": 520,
    "start_time": "2022-04-17T15:57:28.923Z"
   },
   {
    "duration": 443,
    "start_time": "2022-04-17T15:57:29.446Z"
   },
   {
    "duration": 43,
    "start_time": "2022-04-17T15:57:29.893Z"
   },
   {
    "duration": 1686,
    "start_time": "2022-04-17T15:57:29.938Z"
   },
   {
    "duration": 8,
    "start_time": "2022-04-17T15:57:31.626Z"
   },
   {
    "duration": 1305,
    "start_time": "2022-04-17T15:57:31.636Z"
   },
   {
    "duration": 309,
    "start_time": "2022-04-17T15:57:32.943Z"
   },
   {
    "duration": 443,
    "start_time": "2022-04-17T15:57:33.254Z"
   },
   {
    "duration": 7,
    "start_time": "2022-04-17T15:57:33.700Z"
   },
   {
    "duration": 2094,
    "start_time": "2022-04-17T15:57:33.709Z"
   },
   {
    "duration": 400,
    "start_time": "2022-04-17T15:57:35.806Z"
   },
   {
    "duration": 296,
    "start_time": "2022-04-17T15:57:36.208Z"
   },
   {
    "duration": 37,
    "start_time": "2022-04-17T15:57:36.506Z"
   },
   {
    "duration": 66,
    "start_time": "2022-04-17T15:57:36.545Z"
   },
   {
    "duration": 52,
    "start_time": "2022-04-17T15:57:36.614Z"
   },
   {
    "duration": 15,
    "start_time": "2022-04-17T15:57:36.695Z"
   },
   {
    "duration": 15,
    "start_time": "2022-04-17T15:57:36.713Z"
   },
   {
    "duration": 156,
    "start_time": "2022-04-17T15:58:57.939Z"
   },
   {
    "duration": 53,
    "start_time": "2022-04-17T15:59:24.022Z"
   },
   {
    "duration": 37,
    "start_time": "2022-04-17T16:00:57.476Z"
   },
   {
    "duration": 39,
    "start_time": "2022-04-17T16:01:13.309Z"
   },
   {
    "duration": 41,
    "start_time": "2022-04-17T16:01:57.896Z"
   },
   {
    "duration": 36,
    "start_time": "2022-04-17T16:02:21.905Z"
   },
   {
    "duration": 37,
    "start_time": "2022-04-17T16:02:26.777Z"
   },
   {
    "duration": 38,
    "start_time": "2022-04-17T16:02:43.043Z"
   },
   {
    "duration": 37,
    "start_time": "2022-04-17T16:03:02.551Z"
   },
   {
    "duration": 37,
    "start_time": "2022-04-17T16:03:22.217Z"
   },
   {
    "duration": 12,
    "start_time": "2022-04-17T16:11:01.337Z"
   },
   {
    "duration": 12,
    "start_time": "2022-04-17T16:12:16.053Z"
   },
   {
    "duration": 18,
    "start_time": "2022-04-17T16:13:21.229Z"
   },
   {
    "duration": 13,
    "start_time": "2022-04-17T16:13:36.321Z"
   },
   {
    "duration": 13,
    "start_time": "2022-04-17T16:13:52.386Z"
   },
   {
    "duration": 1318,
    "start_time": "2022-04-17T16:14:27.536Z"
   },
   {
    "duration": 110,
    "start_time": "2022-04-17T16:14:28.857Z"
   },
   {
    "duration": 36,
    "start_time": "2022-04-17T16:14:28.969Z"
   },
   {
    "duration": 8,
    "start_time": "2022-04-17T16:14:29.008Z"
   },
   {
    "duration": 17,
    "start_time": "2022-04-17T16:14:29.019Z"
   },
   {
    "duration": 12,
    "start_time": "2022-04-17T16:14:29.038Z"
   },
   {
    "duration": 51,
    "start_time": "2022-04-17T16:14:29.052Z"
   },
   {
    "duration": 47,
    "start_time": "2022-04-17T16:14:29.106Z"
   },
   {
    "duration": 50,
    "start_time": "2022-04-17T16:14:29.155Z"
   },
   {
    "duration": 6,
    "start_time": "2022-04-17T16:14:29.209Z"
   },
   {
    "duration": 25,
    "start_time": "2022-04-17T16:14:29.217Z"
   },
   {
    "duration": 22,
    "start_time": "2022-04-17T16:14:29.244Z"
   },
   {
    "duration": 509,
    "start_time": "2022-04-17T16:14:29.293Z"
   },
   {
    "duration": 449,
    "start_time": "2022-04-17T16:14:29.804Z"
   },
   {
    "duration": 52,
    "start_time": "2022-04-17T16:14:30.255Z"
   },
   {
    "duration": 1661,
    "start_time": "2022-04-17T16:14:30.309Z"
   },
   {
    "duration": 8,
    "start_time": "2022-04-17T16:14:31.972Z"
   },
   {
    "duration": 1304,
    "start_time": "2022-04-17T16:14:31.992Z"
   },
   {
    "duration": 308,
    "start_time": "2022-04-17T16:14:33.298Z"
   },
   {
    "duration": 441,
    "start_time": "2022-04-17T16:14:33.608Z"
   },
   {
    "duration": 8,
    "start_time": "2022-04-17T16:14:34.051Z"
   },
   {
    "duration": 2208,
    "start_time": "2022-04-17T16:14:34.061Z"
   },
   {
    "duration": 417,
    "start_time": "2022-04-17T16:14:36.271Z"
   },
   {
    "duration": 317,
    "start_time": "2022-04-17T16:14:36.693Z"
   },
   {
    "duration": 36,
    "start_time": "2022-04-17T16:14:37.012Z"
   },
   {
    "duration": 65,
    "start_time": "2022-04-17T16:14:37.050Z"
   },
   {
    "duration": 77,
    "start_time": "2022-04-17T16:14:37.117Z"
   },
   {
    "duration": 13,
    "start_time": "2022-04-17T16:14:37.198Z"
   },
   {
    "duration": 18,
    "start_time": "2022-04-17T16:14:37.213Z"
   },
   {
    "duration": 27,
    "start_time": "2022-04-17T16:15:32.760Z"
   },
   {
    "duration": 23,
    "start_time": "2022-04-17T16:15:46.511Z"
   },
   {
    "duration": 13,
    "start_time": "2022-04-17T16:16:01.629Z"
   },
   {
    "duration": 22,
    "start_time": "2022-04-17T16:20:15.930Z"
   },
   {
    "duration": 7,
    "start_time": "2022-04-17T16:21:30.096Z"
   },
   {
    "duration": 30,
    "start_time": "2022-04-17T16:21:33.352Z"
   },
   {
    "duration": 29,
    "start_time": "2022-04-17T16:21:39.882Z"
   },
   {
    "duration": 24,
    "start_time": "2022-04-17T16:22:33.975Z"
   },
   {
    "duration": 13,
    "start_time": "2022-04-17T16:25:35.361Z"
   },
   {
    "duration": 13,
    "start_time": "2022-04-17T16:25:38.772Z"
   },
   {
    "duration": 22,
    "start_time": "2022-04-17T16:26:28.963Z"
   },
   {
    "duration": 224,
    "start_time": "2022-04-17T18:00:12.487Z"
   },
   {
    "duration": 945,
    "start_time": "2022-04-17T18:01:18.915Z"
   },
   {
    "duration": 1489,
    "start_time": "2022-04-17T18:01:29.879Z"
   },
   {
    "duration": 175,
    "start_time": "2022-04-17T18:01:31.371Z"
   },
   {
    "duration": 32,
    "start_time": "2022-04-17T18:01:31.548Z"
   },
   {
    "duration": 9,
    "start_time": "2022-04-17T18:01:31.592Z"
   },
   {
    "duration": 29,
    "start_time": "2022-04-17T18:01:31.604Z"
   },
   {
    "duration": 12,
    "start_time": "2022-04-17T18:01:31.635Z"
   },
   {
    "duration": 57,
    "start_time": "2022-04-17T18:01:31.650Z"
   },
   {
    "duration": 48,
    "start_time": "2022-04-17T18:01:31.710Z"
   },
   {
    "duration": 6,
    "start_time": "2022-04-17T18:01:31.760Z"
   },
   {
    "duration": 162,
    "start_time": "2022-04-17T18:01:31.792Z"
   },
   {
    "duration": 0,
    "start_time": "2022-04-17T18:01:31.957Z"
   },
   {
    "duration": 0,
    "start_time": "2022-04-17T18:01:31.959Z"
   },
   {
    "duration": 0,
    "start_time": "2022-04-17T18:01:31.960Z"
   },
   {
    "duration": 0,
    "start_time": "2022-04-17T18:01:31.962Z"
   },
   {
    "duration": 0,
    "start_time": "2022-04-17T18:01:31.963Z"
   },
   {
    "duration": 0,
    "start_time": "2022-04-17T18:01:31.965Z"
   },
   {
    "duration": 0,
    "start_time": "2022-04-17T18:01:31.967Z"
   },
   {
    "duration": 0,
    "start_time": "2022-04-17T18:01:31.968Z"
   },
   {
    "duration": 0,
    "start_time": "2022-04-17T18:01:31.993Z"
   },
   {
    "duration": 0,
    "start_time": "2022-04-17T18:01:31.995Z"
   },
   {
    "duration": 0,
    "start_time": "2022-04-17T18:01:31.997Z"
   },
   {
    "duration": 0,
    "start_time": "2022-04-17T18:01:31.999Z"
   },
   {
    "duration": 0,
    "start_time": "2022-04-17T18:01:32.001Z"
   },
   {
    "duration": 0,
    "start_time": "2022-04-17T18:01:32.003Z"
   },
   {
    "duration": 0,
    "start_time": "2022-04-17T18:01:32.004Z"
   },
   {
    "duration": 0,
    "start_time": "2022-04-17T18:01:32.006Z"
   },
   {
    "duration": 0,
    "start_time": "2022-04-17T18:01:32.007Z"
   },
   {
    "duration": 0,
    "start_time": "2022-04-17T18:01:32.009Z"
   },
   {
    "duration": 0,
    "start_time": "2022-04-17T18:01:32.010Z"
   },
   {
    "duration": 18,
    "start_time": "2022-04-17T18:02:00.054Z"
   },
   {
    "duration": 4,
    "start_time": "2022-04-17T18:02:10.820Z"
   },
   {
    "duration": 68,
    "start_time": "2022-04-17T18:02:10.826Z"
   },
   {
    "duration": 18,
    "start_time": "2022-04-17T18:02:10.897Z"
   },
   {
    "duration": 6,
    "start_time": "2022-04-17T18:02:10.918Z"
   },
   {
    "duration": 16,
    "start_time": "2022-04-17T18:02:10.926Z"
   },
   {
    "duration": 11,
    "start_time": "2022-04-17T18:02:10.944Z"
   },
   {
    "duration": 52,
    "start_time": "2022-04-17T18:02:10.957Z"
   },
   {
    "duration": 45,
    "start_time": "2022-04-17T18:02:11.011Z"
   },
   {
    "duration": 6,
    "start_time": "2022-04-17T18:02:11.059Z"
   },
   {
    "duration": 21,
    "start_time": "2022-04-17T18:02:11.093Z"
   },
   {
    "duration": 0,
    "start_time": "2022-04-17T18:02:11.116Z"
   },
   {
    "duration": 0,
    "start_time": "2022-04-17T18:02:11.118Z"
   },
   {
    "duration": 0,
    "start_time": "2022-04-17T18:02:11.120Z"
   },
   {
    "duration": 0,
    "start_time": "2022-04-17T18:02:11.122Z"
   },
   {
    "duration": 0,
    "start_time": "2022-04-17T18:02:11.124Z"
   },
   {
    "duration": 0,
    "start_time": "2022-04-17T18:02:11.125Z"
   },
   {
    "duration": 0,
    "start_time": "2022-04-17T18:02:11.127Z"
   },
   {
    "duration": 0,
    "start_time": "2022-04-17T18:02:11.128Z"
   },
   {
    "duration": 0,
    "start_time": "2022-04-17T18:02:11.130Z"
   },
   {
    "duration": 0,
    "start_time": "2022-04-17T18:02:11.131Z"
   },
   {
    "duration": 0,
    "start_time": "2022-04-17T18:02:11.133Z"
   },
   {
    "duration": 0,
    "start_time": "2022-04-17T18:02:11.134Z"
   },
   {
    "duration": 0,
    "start_time": "2022-04-17T18:02:11.135Z"
   },
   {
    "duration": 0,
    "start_time": "2022-04-17T18:02:11.136Z"
   },
   {
    "duration": 0,
    "start_time": "2022-04-17T18:02:11.137Z"
   },
   {
    "duration": 0,
    "start_time": "2022-04-17T18:02:11.139Z"
   },
   {
    "duration": 0,
    "start_time": "2022-04-17T18:02:11.140Z"
   },
   {
    "duration": 0,
    "start_time": "2022-04-17T18:02:11.141Z"
   },
   {
    "duration": 0,
    "start_time": "2022-04-17T18:02:11.193Z"
   },
   {
    "duration": 13,
    "start_time": "2022-04-17T18:03:04.841Z"
   },
   {
    "duration": 22,
    "start_time": "2022-04-17T18:03:13.747Z"
   },
   {
    "duration": 32,
    "start_time": "2022-04-17T18:03:39.103Z"
   },
   {
    "duration": 22,
    "start_time": "2022-04-17T18:04:08.303Z"
   },
   {
    "duration": 6,
    "start_time": "2022-04-17T18:04:17.241Z"
   },
   {
    "duration": 16,
    "start_time": "2022-04-17T18:04:24.064Z"
   },
   {
    "duration": 16,
    "start_time": "2022-04-17T18:04:32.542Z"
   },
   {
    "duration": 23,
    "start_time": "2022-04-17T18:05:23.751Z"
   },
   {
    "duration": 1415,
    "start_time": "2022-04-17T18:07:00.855Z"
   },
   {
    "duration": 134,
    "start_time": "2022-04-17T18:07:02.273Z"
   },
   {
    "duration": 21,
    "start_time": "2022-04-17T18:07:02.409Z"
   },
   {
    "duration": 7,
    "start_time": "2022-04-17T18:07:02.433Z"
   },
   {
    "duration": 17,
    "start_time": "2022-04-17T18:07:02.442Z"
   },
   {
    "duration": 38,
    "start_time": "2022-04-17T18:07:02.462Z"
   },
   {
    "duration": 20,
    "start_time": "2022-04-17T18:07:02.503Z"
   },
   {
    "duration": 70,
    "start_time": "2022-04-17T18:07:02.526Z"
   },
   {
    "duration": 23,
    "start_time": "2022-04-17T18:07:02.599Z"
   },
   {
    "duration": 6,
    "start_time": "2022-04-17T18:07:02.626Z"
   },
   {
    "duration": 24,
    "start_time": "2022-04-17T18:07:02.635Z"
   },
   {
    "duration": 54,
    "start_time": "2022-04-17T18:07:02.662Z"
   },
   {
    "duration": 536,
    "start_time": "2022-04-17T18:07:02.719Z"
   },
   {
    "duration": 461,
    "start_time": "2022-04-17T18:07:03.259Z"
   },
   {
    "duration": 44,
    "start_time": "2022-04-17T18:07:03.723Z"
   },
   {
    "duration": 1736,
    "start_time": "2022-04-17T18:07:03.793Z"
   },
   {
    "duration": 10,
    "start_time": "2022-04-17T18:07:05.532Z"
   },
   {
    "duration": 1370,
    "start_time": "2022-04-17T18:07:05.544Z"
   },
   {
    "duration": 310,
    "start_time": "2022-04-17T18:07:06.917Z"
   },
   {
    "duration": 449,
    "start_time": "2022-04-17T18:07:07.230Z"
   },
   {
    "duration": 16,
    "start_time": "2022-04-17T18:07:07.681Z"
   },
   {
    "duration": 3101,
    "start_time": "2022-04-17T18:07:07.699Z"
   },
   {
    "duration": 733,
    "start_time": "2022-04-17T18:07:10.802Z"
   },
   {
    "duration": 404,
    "start_time": "2022-04-17T18:07:11.537Z"
   },
   {
    "duration": 57,
    "start_time": "2022-04-17T18:07:11.943Z"
   },
   {
    "duration": 37,
    "start_time": "2022-04-17T18:07:12.002Z"
   },
   {
    "duration": 81,
    "start_time": "2022-04-17T18:07:12.042Z"
   },
   {
    "duration": 22,
    "start_time": "2022-04-17T18:07:12.127Z"
   },
   {
    "duration": 53,
    "start_time": "2022-04-17T18:07:12.152Z"
   },
   {
    "duration": 406,
    "start_time": "2022-04-17T18:08:36.562Z"
   },
   {
    "duration": 1201,
    "start_time": "2022-04-17T18:09:20.745Z"
   },
   {
    "duration": 1024,
    "start_time": "2022-04-17T18:09:24.571Z"
   },
   {
    "duration": 1148,
    "start_time": "2022-04-17T18:10:21.063Z"
   },
   {
    "duration": 1753,
    "start_time": "2022-04-17T18:10:31.589Z"
   },
   {
    "duration": 121,
    "start_time": "2022-04-17T18:10:33.345Z"
   },
   {
    "duration": 35,
    "start_time": "2022-04-17T18:10:33.468Z"
   },
   {
    "duration": 8,
    "start_time": "2022-04-17T18:10:33.506Z"
   },
   {
    "duration": 23,
    "start_time": "2022-04-17T18:10:33.517Z"
   },
   {
    "duration": 50,
    "start_time": "2022-04-17T18:10:33.543Z"
   },
   {
    "duration": 21,
    "start_time": "2022-04-17T18:10:33.595Z"
   },
   {
    "duration": 47,
    "start_time": "2022-04-17T18:10:33.618Z"
   },
   {
    "duration": 48,
    "start_time": "2022-04-17T18:10:33.667Z"
   },
   {
    "duration": 6,
    "start_time": "2022-04-17T18:10:33.719Z"
   },
   {
    "duration": 25,
    "start_time": "2022-04-17T18:10:33.727Z"
   },
   {
    "duration": 52,
    "start_time": "2022-04-17T18:10:33.754Z"
   },
   {
    "duration": 558,
    "start_time": "2022-04-17T18:10:33.808Z"
   },
   {
    "duration": 569,
    "start_time": "2022-04-17T18:10:34.370Z"
   },
   {
    "duration": 62,
    "start_time": "2022-04-17T18:10:34.942Z"
   },
   {
    "duration": 1647,
    "start_time": "2022-04-17T18:10:35.007Z"
   },
   {
    "duration": 9,
    "start_time": "2022-04-17T18:10:36.656Z"
   },
   {
    "duration": 1322,
    "start_time": "2022-04-17T18:10:36.667Z"
   },
   {
    "duration": 323,
    "start_time": "2022-04-17T18:10:37.990Z"
   },
   {
    "duration": 436,
    "start_time": "2022-04-17T18:10:38.316Z"
   },
   {
    "duration": 8,
    "start_time": "2022-04-17T18:10:38.754Z"
   },
   {
    "duration": 2199,
    "start_time": "2022-04-17T18:10:38.764Z"
   },
   {
    "duration": 406,
    "start_time": "2022-04-17T18:10:40.965Z"
   },
   {
    "duration": 299,
    "start_time": "2022-04-17T18:10:41.374Z"
   },
   {
    "duration": 48,
    "start_time": "2022-04-17T18:10:41.675Z"
   },
   {
    "duration": 69,
    "start_time": "2022-04-17T18:10:41.725Z"
   },
   {
    "duration": 54,
    "start_time": "2022-04-17T18:10:41.797Z"
   },
   {
    "duration": 52,
    "start_time": "2022-04-17T18:10:41.858Z"
   },
   {
    "duration": 23,
    "start_time": "2022-04-17T18:10:41.913Z"
   },
   {
    "duration": 1369,
    "start_time": "2022-04-17T18:10:56.893Z"
   },
   {
    "duration": 125,
    "start_time": "2022-04-17T18:10:58.265Z"
   },
   {
    "duration": 27,
    "start_time": "2022-04-17T18:10:58.394Z"
   },
   {
    "duration": 6,
    "start_time": "2022-04-17T18:10:58.424Z"
   },
   {
    "duration": 15,
    "start_time": "2022-04-17T18:10:58.432Z"
   },
   {
    "duration": 50,
    "start_time": "2022-04-17T18:10:58.449Z"
   },
   {
    "duration": 26,
    "start_time": "2022-04-17T18:10:58.502Z"
   },
   {
    "duration": 45,
    "start_time": "2022-04-17T18:10:58.530Z"
   },
   {
    "duration": 21,
    "start_time": "2022-04-17T18:10:58.593Z"
   },
   {
    "duration": 6,
    "start_time": "2022-04-17T18:10:58.618Z"
   },
   {
    "duration": 23,
    "start_time": "2022-04-17T18:10:58.626Z"
   },
   {
    "duration": 56,
    "start_time": "2022-04-17T18:10:58.651Z"
   },
   {
    "duration": 547,
    "start_time": "2022-04-17T18:10:58.709Z"
   },
   {
    "duration": 514,
    "start_time": "2022-04-17T18:10:59.258Z"
   },
   {
    "duration": 57,
    "start_time": "2022-04-17T18:10:59.775Z"
   },
   {
    "duration": 1713,
    "start_time": "2022-04-17T18:10:59.835Z"
   },
   {
    "duration": 8,
    "start_time": "2022-04-17T18:11:01.551Z"
   },
   {
    "duration": 1324,
    "start_time": "2022-04-17T18:11:22.047Z"
   },
   {
    "duration": 1279,
    "start_time": "2022-04-17T18:11:52.141Z"
   },
   {
    "duration": 1338,
    "start_time": "2022-04-17T18:12:02.245Z"
   },
   {
    "duration": 1345,
    "start_time": "2022-04-17T18:14:14.451Z"
   },
   {
    "duration": 1314,
    "start_time": "2022-04-17T18:14:39.899Z"
   },
   {
    "duration": 1250,
    "start_time": "2022-04-17T18:14:59.162Z"
   },
   {
    "duration": 1295,
    "start_time": "2022-04-17T18:15:09.211Z"
   },
   {
    "duration": 1248,
    "start_time": "2022-04-17T18:15:14.120Z"
   },
   {
    "duration": 1218,
    "start_time": "2022-04-17T18:15:27.975Z"
   },
   {
    "duration": 1132,
    "start_time": "2022-04-17T18:15:41.165Z"
   },
   {
    "duration": 1437,
    "start_time": "2022-04-17T18:16:13.403Z"
   },
   {
    "duration": 1389,
    "start_time": "2022-04-17T18:16:31.969Z"
   },
   {
    "duration": 116,
    "start_time": "2022-04-17T18:16:33.360Z"
   },
   {
    "duration": 26,
    "start_time": "2022-04-17T18:16:33.478Z"
   },
   {
    "duration": 7,
    "start_time": "2022-04-17T18:16:33.506Z"
   },
   {
    "duration": 20,
    "start_time": "2022-04-17T18:16:33.515Z"
   },
   {
    "duration": 15,
    "start_time": "2022-04-17T18:16:33.537Z"
   },
   {
    "duration": 55,
    "start_time": "2022-04-17T18:16:33.554Z"
   },
   {
    "duration": 46,
    "start_time": "2022-04-17T18:16:33.611Z"
   },
   {
    "duration": 46,
    "start_time": "2022-04-17T18:16:33.659Z"
   },
   {
    "duration": 6,
    "start_time": "2022-04-17T18:16:33.710Z"
   },
   {
    "duration": 26,
    "start_time": "2022-04-17T18:16:33.719Z"
   },
   {
    "duration": 54,
    "start_time": "2022-04-17T18:16:33.747Z"
   },
   {
    "duration": 523,
    "start_time": "2022-04-17T18:16:33.803Z"
   },
   {
    "duration": 455,
    "start_time": "2022-04-17T18:16:34.329Z"
   },
   {
    "duration": 45,
    "start_time": "2022-04-17T18:16:34.793Z"
   },
   {
    "duration": 1653,
    "start_time": "2022-04-17T18:16:34.840Z"
   },
   {
    "duration": 8,
    "start_time": "2022-04-17T18:16:36.495Z"
   },
   {
    "duration": 1191,
    "start_time": "2022-04-17T18:16:36.505Z"
   },
   {
    "duration": 306,
    "start_time": "2022-04-17T18:16:37.698Z"
   },
   {
    "duration": 444,
    "start_time": "2022-04-17T18:16:38.007Z"
   },
   {
    "duration": 9,
    "start_time": "2022-04-17T18:16:38.453Z"
   },
   {
    "duration": 2214,
    "start_time": "2022-04-17T18:16:38.464Z"
   },
   {
    "duration": 436,
    "start_time": "2022-04-17T18:16:40.681Z"
   },
   {
    "duration": 304,
    "start_time": "2022-04-17T18:16:41.119Z"
   },
   {
    "duration": 38,
    "start_time": "2022-04-17T18:16:41.426Z"
   },
   {
    "duration": 66,
    "start_time": "2022-04-17T18:16:41.466Z"
   },
   {
    "duration": 78,
    "start_time": "2022-04-17T18:16:41.534Z"
   },
   {
    "duration": 24,
    "start_time": "2022-04-17T18:16:41.616Z"
   },
   {
    "duration": 20,
    "start_time": "2022-04-17T18:16:41.642Z"
   },
   {
    "duration": 202,
    "start_time": "2022-04-17T18:19:46.039Z"
   }
  ],
  "kernelspec": {
   "display_name": "Python 3 (ipykernel)",
   "language": "python",
   "name": "python3"
  },
  "language_info": {
   "codemirror_mode": {
    "name": "ipython",
    "version": 3
   },
   "file_extension": ".py",
   "mimetype": "text/x-python",
   "name": "python",
   "nbconvert_exporter": "python",
   "pygments_lexer": "ipython3",
   "version": "3.9.7"
  },
  "toc": {
   "base_numbering": 1,
   "nav_menu": {},
   "number_sections": false,
   "sideBar": true,
   "skip_h1_title": false,
   "title_cell": "Table of Contents",
   "title_sidebar": "Contents",
   "toc_cell": false,
   "toc_position": {
    "height": "calc(100% - 180px)",
    "left": "10px",
    "top": "150px",
    "width": "328px"
   },
   "toc_section_display": true,
   "toc_window_display": true
  }
 },
 "nbformat": 4,
 "nbformat_minor": 5
}
