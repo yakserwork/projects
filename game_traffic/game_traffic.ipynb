{
 "cells": [
  {
   "cell_type": "markdown",
   "metadata": {},
   "source": [
    "# Исследование рекламных источников для игры"
   ]
  },
  {
   "cell_type": "markdown",
   "metadata": {},
   "source": [
    "**Описание**\n",
    "\n",
    "Заказчик - команда мобильной игры. Основная монетизация игры планируется на втором уровне. Предполагается, что в приложении будет происходить показ рекламы на экране с выбором типа объекта для постройки. \n",
    "\n",
    "Завершение первого уровня требует от игрока выполнения одного из двух условий:\n",
    "\n",
    "- Победа над первым врагом\n",
    "- Реализация проекта - разработка орбитальной сборки спутников\n",
    "\n",
    "**Цель проекта:**\n",
    "\n",
    "Проанализировать поведение игроков в зависимости от источника перехода.\n",
    "\n",
    "**Описание данных**\n",
    "\n",
    "В основном датасете содержатся данные по игре пользователей на первом уровне — когорты игроков, которые начали пользоваться приложением в период с 4 по 10 мая включительно.\n",
    "\n",
    "Датасет *game_actions.csv*:\n",
    "\n",
    "- `event_datetime` - время события;\n",
    "- `event` - одно из трёх событий:\n",
    "    1. `building` - объект построен,\n",
    "    2. `finished_stage_1` - первый уровень завершён,\n",
    "    3. `project` - проект завершён;\n",
    "    \n",
    "    \n",
    "- `building_type` - один из трёх типов здания:\n",
    "    1. `assembly_shop` - сборочный цех,\n",
    "    2. `spaceport` - космопорт,\n",
    "    3. `research_center` - исследовательский центр;\n",
    "    \n",
    "    \n",
    "- `user_id` - идентификатор пользователя;\n",
    "- `project_type` - тип реализованного проекта;\n",
    "\n",
    "\n",
    "Помимо основного датасета есть два дополнительных с информацией о рекламных активностях.\n",
    "\n",
    "Датасет *ad_cost.csv*:\n",
    "\n",
    "- `day` - день, в который был совершен клик по объявлению\n",
    "- `source` - источник трафика\n",
    "- `cost` - стоимость кликов\n",
    "\n",
    "Датасет *user_source.csv*:\n",
    "\n",
    "- `user_id` - идентификатор пользователя\n",
    "- `source` - источник, с которого пришёл пользователь, установивший приложение\n",
    "\n",
    "\n",
    "**Ход исследования**\n",
    "\n",
    "1. Обзор и предобработка данных.   \n",
    "\n",
    "2. Исследовательский анализ данных.\n",
    " \n",
    "3. Оценка эффективности рекламных источников.\n",
    " \n",
    "4. Статистический анализ данных.\n",
    " \n",
    "5. Общий вывод по результатам исследования.\n",
    "\n",
    "**Импорт библиотек**\n",
    "\n",
    "В первую очередь импортируем все необходимые для исследования библиотеки:"
   ]
  },
  {
   "cell_type": "code",
   "execution_count": 1,
   "metadata": {},
   "outputs": [],
   "source": [
    "import pandas as pd\n",
    "import numpy as np\n",
    "import datetime as dt\n",
    "import seaborn as sns\n",
    "sns.set_style('darkgrid')\n",
    "import matplotlib.pyplot as plt\n",
    "from datetime import timedelta\n",
    "from scipy import stats as st"
   ]
  },
  {
   "cell_type": "markdown",
   "metadata": {},
   "source": [
    "## Обзор и предобработка данных\n",
    "\n",
    "Сохраним таблицы в переменные."
   ]
  },
  {
   "cell_type": "code",
   "execution_count": 2,
   "metadata": {},
   "outputs": [],
   "source": [
    "actions = pd.read_csv('/datasets/game_actions.csv')\n",
    "sources = pd.read_csv('/datasets/user_source.csv')\n",
    "costs = pd.read_csv('/datasets/ad_costs.csv')"
   ]
  },
  {
   "cell_type": "markdown",
   "metadata": {},
   "source": [
    "Посмотрим общую информацию о датасетах и выведем первые строки таблиц."
   ]
  },
  {
   "cell_type": "code",
   "execution_count": 3,
   "metadata": {},
   "outputs": [
    {
     "data": {
      "text/html": [
       "<div>\n",
       "<style scoped>\n",
       "    .dataframe tbody tr th:only-of-type {\n",
       "        vertical-align: middle;\n",
       "    }\n",
       "\n",
       "    .dataframe tbody tr th {\n",
       "        vertical-align: top;\n",
       "    }\n",
       "\n",
       "    .dataframe thead th {\n",
       "        text-align: right;\n",
       "    }\n",
       "</style>\n",
       "<table border=\"1\" class=\"dataframe\">\n",
       "  <thead>\n",
       "    <tr style=\"text-align: right;\">\n",
       "      <th></th>\n",
       "      <th>event_datetime</th>\n",
       "      <th>event</th>\n",
       "      <th>building_type</th>\n",
       "      <th>user_id</th>\n",
       "      <th>project_type</th>\n",
       "    </tr>\n",
       "  </thead>\n",
       "  <tbody>\n",
       "    <tr>\n",
       "      <th>0</th>\n",
       "      <td>2020-05-04 00:00:01</td>\n",
       "      <td>building</td>\n",
       "      <td>assembly_shop</td>\n",
       "      <td>55e92310-cb8e-4754-b622-597e124b03de</td>\n",
       "      <td>NaN</td>\n",
       "    </tr>\n",
       "    <tr>\n",
       "      <th>1</th>\n",
       "      <td>2020-05-04 00:00:03</td>\n",
       "      <td>building</td>\n",
       "      <td>assembly_shop</td>\n",
       "      <td>c07b1c10-f477-44dc-81dc-ec82254b1347</td>\n",
       "      <td>NaN</td>\n",
       "    </tr>\n",
       "    <tr>\n",
       "      <th>2</th>\n",
       "      <td>2020-05-04 00:00:16</td>\n",
       "      <td>building</td>\n",
       "      <td>assembly_shop</td>\n",
       "      <td>6edd42cc-e753-4ff6-a947-2107cd560710</td>\n",
       "      <td>NaN</td>\n",
       "    </tr>\n",
       "  </tbody>\n",
       "</table>\n",
       "</div>"
      ],
      "text/plain": [
       "        event_datetime     event  building_type  \\\n",
       "0  2020-05-04 00:00:01  building  assembly_shop   \n",
       "1  2020-05-04 00:00:03  building  assembly_shop   \n",
       "2  2020-05-04 00:00:16  building  assembly_shop   \n",
       "\n",
       "                                user_id project_type  \n",
       "0  55e92310-cb8e-4754-b622-597e124b03de          NaN  \n",
       "1  c07b1c10-f477-44dc-81dc-ec82254b1347          NaN  \n",
       "2  6edd42cc-e753-4ff6-a947-2107cd560710          NaN  "
      ]
     },
     "metadata": {},
     "output_type": "display_data"
    },
    {
     "data": {
      "text/html": [
       "<div>\n",
       "<style scoped>\n",
       "    .dataframe tbody tr th:only-of-type {\n",
       "        vertical-align: middle;\n",
       "    }\n",
       "\n",
       "    .dataframe tbody tr th {\n",
       "        vertical-align: top;\n",
       "    }\n",
       "\n",
       "    .dataframe thead th {\n",
       "        text-align: right;\n",
       "    }\n",
       "</style>\n",
       "<table border=\"1\" class=\"dataframe\">\n",
       "  <thead>\n",
       "    <tr style=\"text-align: right;\">\n",
       "      <th></th>\n",
       "      <th>user_id</th>\n",
       "      <th>source</th>\n",
       "    </tr>\n",
       "  </thead>\n",
       "  <tbody>\n",
       "    <tr>\n",
       "      <th>0</th>\n",
       "      <td>0001f83c-c6ac-4621-b7f0-8a28b283ac30</td>\n",
       "      <td>facebook_ads</td>\n",
       "    </tr>\n",
       "    <tr>\n",
       "      <th>1</th>\n",
       "      <td>00151b4f-ba38-44a8-a650-d7cf130a0105</td>\n",
       "      <td>yandex_direct</td>\n",
       "    </tr>\n",
       "    <tr>\n",
       "      <th>2</th>\n",
       "      <td>001aaea6-3d14-43f1-8ca8-7f48820f17aa</td>\n",
       "      <td>youtube_channel_reklama</td>\n",
       "    </tr>\n",
       "  </tbody>\n",
       "</table>\n",
       "</div>"
      ],
      "text/plain": [
       "                                user_id                   source\n",
       "0  0001f83c-c6ac-4621-b7f0-8a28b283ac30             facebook_ads\n",
       "1  00151b4f-ba38-44a8-a650-d7cf130a0105            yandex_direct\n",
       "2  001aaea6-3d14-43f1-8ca8-7f48820f17aa  youtube_channel_reklama"
      ]
     },
     "metadata": {},
     "output_type": "display_data"
    },
    {
     "data": {
      "text/html": [
       "<div>\n",
       "<style scoped>\n",
       "    .dataframe tbody tr th:only-of-type {\n",
       "        vertical-align: middle;\n",
       "    }\n",
       "\n",
       "    .dataframe tbody tr th {\n",
       "        vertical-align: top;\n",
       "    }\n",
       "\n",
       "    .dataframe thead th {\n",
       "        text-align: right;\n",
       "    }\n",
       "</style>\n",
       "<table border=\"1\" class=\"dataframe\">\n",
       "  <thead>\n",
       "    <tr style=\"text-align: right;\">\n",
       "      <th></th>\n",
       "      <th>source</th>\n",
       "      <th>day</th>\n",
       "      <th>cost</th>\n",
       "    </tr>\n",
       "  </thead>\n",
       "  <tbody>\n",
       "    <tr>\n",
       "      <th>0</th>\n",
       "      <td>facebook_ads</td>\n",
       "      <td>2020-05-03</td>\n",
       "      <td>935.882786</td>\n",
       "    </tr>\n",
       "    <tr>\n",
       "      <th>1</th>\n",
       "      <td>facebook_ads</td>\n",
       "      <td>2020-05-04</td>\n",
       "      <td>548.354480</td>\n",
       "    </tr>\n",
       "    <tr>\n",
       "      <th>2</th>\n",
       "      <td>facebook_ads</td>\n",
       "      <td>2020-05-05</td>\n",
       "      <td>260.185754</td>\n",
       "    </tr>\n",
       "  </tbody>\n",
       "</table>\n",
       "</div>"
      ],
      "text/plain": [
       "         source         day        cost\n",
       "0  facebook_ads  2020-05-03  935.882786\n",
       "1  facebook_ads  2020-05-04  548.354480\n",
       "2  facebook_ads  2020-05-05  260.185754"
      ]
     },
     "metadata": {},
     "output_type": "display_data"
    },
    {
     "name": "stdout",
     "output_type": "stream",
     "text": [
      "\n",
      "<class 'pandas.core.frame.DataFrame'>\n",
      "RangeIndex: 135640 entries, 0 to 135639\n",
      "Data columns (total 5 columns):\n",
      " #   Column          Non-Null Count   Dtype \n",
      "---  ------          --------------   ----- \n",
      " 0   event_datetime  135640 non-null  object\n",
      " 1   event           135640 non-null  object\n",
      " 2   building_type   127957 non-null  object\n",
      " 3   user_id         135640 non-null  object\n",
      " 4   project_type    1866 non-null    object\n",
      "dtypes: object(5)\n",
      "memory usage: 5.2+ MB\n",
      "\n",
      "<class 'pandas.core.frame.DataFrame'>\n",
      "RangeIndex: 13576 entries, 0 to 13575\n",
      "Data columns (total 2 columns):\n",
      " #   Column   Non-Null Count  Dtype \n",
      "---  ------   --------------  ----- \n",
      " 0   user_id  13576 non-null  object\n",
      " 1   source   13576 non-null  object\n",
      "dtypes: object(2)\n",
      "memory usage: 212.2+ KB\n",
      "\n",
      "<class 'pandas.core.frame.DataFrame'>\n",
      "RangeIndex: 28 entries, 0 to 27\n",
      "Data columns (total 3 columns):\n",
      " #   Column  Non-Null Count  Dtype  \n",
      "---  ------  --------------  -----  \n",
      " 0   source  28 non-null     object \n",
      " 1   day     28 non-null     object \n",
      " 2   cost    28 non-null     float64\n",
      "dtypes: float64(1), object(2)\n",
      "memory usage: 800.0+ bytes\n"
     ]
    }
   ],
   "source": [
    "display(actions.head(3), sources.head(3), costs.head(3)) # вывод первых строк таблиц\n",
    "\n",
    "print() # вывод информации о таблицах\n",
    "actions.info()\n",
    "print()\n",
    "sources.info()\n",
    "print()\n",
    "costs.info()"
   ]
  },
  {
   "cell_type": "markdown",
   "metadata": {},
   "source": [
    "Столбец `event_datetime` в таблице `actions` и столбец `day` в таблице `costs` нужно привести к формату даты/времени."
   ]
  },
  {
   "cell_type": "code",
   "execution_count": 4,
   "metadata": {},
   "outputs": [],
   "source": [
    "actions['event_datetime'] = pd.to_datetime(actions['event_datetime'])\n",
    "costs['day'] = pd.to_datetime(costs['day']) # изменение типа данных"
   ]
  },
  {
   "cell_type": "markdown",
   "metadata": {},
   "source": [
    "В столбцах таблицы `actions` есть пропуски, посчитаем их."
   ]
  },
  {
   "cell_type": "code",
   "execution_count": 5,
   "metadata": {},
   "outputs": [
    {
     "data": {
      "text/plain": [
       "event_datetime         0\n",
       "event                  0\n",
       "building_type       7683\n",
       "user_id                0\n",
       "project_type      133774\n",
       "dtype: int64"
      ]
     },
     "execution_count": 5,
     "metadata": {},
     "output_type": "execute_result"
    }
   ],
   "source": [
    "actions.isnull().sum() # подсчет пропущенных значений"
   ]
  },
  {
   "cell_type": "markdown",
   "metadata": {},
   "source": [
    "В столбце `building_type` 7683 пропущенных значения. Возможно это события с типом `finished_stage_1` и `project`, для которых не предусмотрен признак `building_type`."
   ]
  },
  {
   "cell_type": "code",
   "execution_count": 6,
   "metadata": {},
   "outputs": [
    {
     "data": {
      "text/plain": [
       "7683"
      ]
     },
     "execution_count": 6,
     "metadata": {},
     "output_type": "execute_result"
    }
   ],
   "source": [
    "actions[actions['event'] == 'finished_stage_1'].shape[0] + actions[actions['event'] == 'project'].shape[0]"
   ]
  },
  {
   "cell_type": "markdown",
   "metadata": {},
   "source": [
    "Предположение подтвердилось, от пропусков можно не избавляться. В столбце `project_type` 1333774 пропущенных значения и всего 1866 заполненных ячеек. Проверим, возможно это все события с типом `project`, для которых не предусмотрено других признаков."
   ]
  },
  {
   "cell_type": "code",
   "execution_count": 7,
   "metadata": {},
   "outputs": [
    {
     "data": {
      "text/plain": [
       "1866"
      ]
     },
     "execution_count": 7,
     "metadata": {},
     "output_type": "execute_result"
    }
   ],
   "source": [
    "actions[actions['event'] == 'project'].shape[0]"
   ]
  },
  {
   "cell_type": "markdown",
   "metadata": {},
   "source": [
    "От пропусков можно не избавляться. Проверим датасеты на наличие дубликатов."
   ]
  },
  {
   "cell_type": "code",
   "execution_count": 8,
   "metadata": {},
   "outputs": [
    {
     "name": "stdout",
     "output_type": "stream",
     "text": [
      "Дубликаты:\n",
      "actions 1 \n",
      "source 0 \n",
      "costs 0\n"
     ]
    }
   ],
   "source": [
    "print('Дубликаты:\\nactions', actions.duplicated().sum(), '\\nsource', sources.duplicated().sum(), '\\ncosts', costs.duplicated().sum())"
   ]
  },
  {
   "cell_type": "markdown",
   "metadata": {},
   "source": [
    "Всего 1 явный дубликат в таблице `actions`, удалим его."
   ]
  },
  {
   "cell_type": "code",
   "execution_count": 9,
   "metadata": {},
   "outputs": [],
   "source": [
    "actions = actions.drop_duplicates() # удаление дубликатов"
   ]
  },
  {
   "cell_type": "markdown",
   "metadata": {},
   "source": [
    "## Вывод\n",
    "\n",
    "На этом можно завершить этап предобработки, так как данные очень качественные. Пропуски отсутствуют и найден всего 1 явный дубликат."
   ]
  },
  {
   "cell_type": "markdown",
   "metadata": {},
   "source": [
    "## Исследовательский анализ данных\n",
    "\n",
    "На этом этапе проанализируем влияние источника перехода в игру на поведение пользователя."
   ]
  },
  {
   "cell_type": "markdown",
   "metadata": {},
   "source": [
    "### Источники\n",
    "\n",
    "Выясним из каких источников приходит больше пользователей.\n",
    "\n",
    "Сделаем сводную таблицу и построии диаграмму распределения пользователей по источникам."
   ]
  },
  {
   "cell_type": "code",
   "execution_count": 10,
   "metadata": {
    "scrolled": false
   },
   "outputs": [
    {
     "data": {
      "image/png": "[encoded data removed]",
      "text/plain": [
       "<Figure size 720x360 with 1 Axes>"
      ]
     },
     "metadata": {},
     "output_type": "display_data"
    },
    {
     "data": {
      "text/html": [
       "<div>\n",
       "<style scoped>\n",
       "    .dataframe tbody tr th:only-of-type {\n",
       "        vertical-align: middle;\n",
       "    }\n",
       "\n",
       "    .dataframe tbody tr th {\n",
       "        vertical-align: top;\n",
       "    }\n",
       "\n",
       "    .dataframe thead th {\n",
       "        text-align: right;\n",
       "    }\n",
       "</style>\n",
       "<table border=\"1\" class=\"dataframe\">\n",
       "  <thead>\n",
       "    <tr style=\"text-align: right;\">\n",
       "      <th></th>\n",
       "      <th>source</th>\n",
       "      <th>user_id</th>\n",
       "      <th>ratio</th>\n",
       "    </tr>\n",
       "  </thead>\n",
       "  <tbody>\n",
       "    <tr>\n",
       "      <th>3</th>\n",
       "      <td>youtube_channel_reklama</td>\n",
       "      <td>2686</td>\n",
       "      <td>20.0</td>\n",
       "    </tr>\n",
       "    <tr>\n",
       "      <th>0</th>\n",
       "      <td>facebook_ads</td>\n",
       "      <td>2726</td>\n",
       "      <td>20.0</td>\n",
       "    </tr>\n",
       "    <tr>\n",
       "      <th>1</th>\n",
       "      <td>instagram_new_adverts</td>\n",
       "      <td>3347</td>\n",
       "      <td>25.0</td>\n",
       "    </tr>\n",
       "    <tr>\n",
       "      <th>2</th>\n",
       "      <td>yandex_direct</td>\n",
       "      <td>4817</td>\n",
       "      <td>35.0</td>\n",
       "    </tr>\n",
       "  </tbody>\n",
       "</table>\n",
       "</div>"
      ],
      "text/plain": [
       "                    source  user_id  ratio\n",
       "3  youtube_channel_reklama     2686   20.0\n",
       "0             facebook_ads     2726   20.0\n",
       "1    instagram_new_adverts     3347   25.0\n",
       "2            yandex_direct     4817   35.0"
      ]
     },
     "execution_count": 10,
     "metadata": {},
     "output_type": "execute_result"
    }
   ],
   "source": [
    "users_by_sources = sources.groupby('source')['user_id'].count().reset_index().sort_values(by='user_id')\n",
    "users_by_sources['ratio'] = round(users_by_sources['user_id'] / users_by_sources['user_id'].sum() * 100)\n",
    "\n",
    "plt.figure(figsize=(10, 5)) # график\n",
    "ax = sns.barplot(x='user_id', y='source', data=users_by_sources, palette='GnBu_d')\n",
    "plt.title('Распределение привлеченных пользователей по источникам', fontsize=16)\n",
    "plt.xlabel('Количество пользователей', fontsize=14)\n",
    "plt.ylabel('Источники', fontsize=14)\n",
    "plt.tick_params(labelsize=12)\n",
    "plt.show()\n",
    "\n",
    "\n",
    "users_by_sources"
   ]
  },
  {
   "cell_type": "markdown",
   "metadata": {},
   "source": [
    "Больше всего пользователей приходит из источника `yandex_direct` - 35%, на втором месте `instagram_new_adverts` - 25%."
   ]
  },
  {
   "cell_type": "markdown",
   "metadata": {},
   "source": [
    "### Время прохождения уровня\n",
    "\n",
    "Выясним сколько пользователей переходит на второй уровень. \n",
    "\n",
    "Предварительно добавим к таблице `actions` источник из таблицы `sources`, для дальнейшего анализа источников."
   ]
  },
  {
   "cell_type": "code",
   "execution_count": 11,
   "metadata": {},
   "outputs": [],
   "source": [
    "actions = actions.merge(sources, left_on='user_id', right_on='user_id') # объединение таблицы"
   ]
  },
  {
   "cell_type": "code",
   "execution_count": 12,
   "metadata": {},
   "outputs": [
    {
     "name": "stdout",
     "output_type": "stream",
     "text": [
      "Всего игроков: 13576\n",
      "Игроков, завершивших первый уровень: 5817\n",
      "Доля завершивших перевый уровень: 43%\n"
     ]
    }
   ],
   "source": [
    "unique_users = actions['user_id'].nunique()\n",
    "users_fin_level = actions[actions['event'] == 'finished_stage_1']\n",
    "print('Всего игроков:', unique_users) \n",
    "print('Игроков, завершивших первый уровень:', users_fin_level.shape[0])\n",
    "print('Доля завершивших перевый уровень: {}%'.format(round(users_fin_level.shape[0] / unique_users * 100)))"
   ]
  },
  {
   "cell_type": "markdown",
   "metadata": {},
   "source": [
    "До второго уровня доходит 5817 игроков, что составляет 43% от общего числа пользователей.\n",
    "\n",
    "Выясним сколько времени требуется пользователям на завершение первого уровня. "
   ]
  },
  {
   "cell_type": "code",
   "execution_count": 13,
   "metadata": {
    "scrolled": true
   },
   "outputs": [
    {
     "data": {
      "text/html": [
       "<div>\n",
       "<style scoped>\n",
       "    .dataframe tbody tr th:only-of-type {\n",
       "        vertical-align: middle;\n",
       "    }\n",
       "\n",
       "    .dataframe tbody tr th {\n",
       "        vertical-align: top;\n",
       "    }\n",
       "\n",
       "    .dataframe thead th {\n",
       "        text-align: right;\n",
       "    }\n",
       "</style>\n",
       "<table border=\"1\" class=\"dataframe\">\n",
       "  <thead>\n",
       "    <tr style=\"text-align: right;\">\n",
       "      <th></th>\n",
       "      <th>user_id</th>\n",
       "      <th>start</th>\n",
       "      <th>end</th>\n",
       "      <th>source</th>\n",
       "      <th>delta_hours</th>\n",
       "    </tr>\n",
       "  </thead>\n",
       "  <tbody>\n",
       "    <tr>\n",
       "      <th>0</th>\n",
       "      <td>001d39dc-366c-4021-9604-6a3b9ff01e25</td>\n",
       "      <td>2020-05-05 21:02:05</td>\n",
       "      <td>2020-05-12 07:40:47</td>\n",
       "      <td>instagram_new_adverts</td>\n",
       "      <td>154.65</td>\n",
       "    </tr>\n",
       "    <tr>\n",
       "      <th>1</th>\n",
       "      <td>003ee7e8-6356-4286-a715-62f22a18d2a1</td>\n",
       "      <td>2020-05-05 08:31:04</td>\n",
       "      <td>2020-05-17 21:47:49</td>\n",
       "      <td>instagram_new_adverts</td>\n",
       "      <td>301.28</td>\n",
       "    </tr>\n",
       "    <tr>\n",
       "      <th>2</th>\n",
       "      <td>004074f8-251a-4776-922c-8348dca1a2f6</td>\n",
       "      <td>2020-05-04 01:07:35</td>\n",
       "      <td>2020-05-16 19:57:40</td>\n",
       "      <td>facebook_ads</td>\n",
       "      <td>306.83</td>\n",
       "    </tr>\n",
       "    <tr>\n",
       "      <th>3</th>\n",
       "      <td>00464e5e-28ed-4be6-bf44-517ef7b3937b</td>\n",
       "      <td>2020-05-04 08:35:29</td>\n",
       "      <td>2020-05-15 16:02:01</td>\n",
       "      <td>yandex_direct</td>\n",
       "      <td>271.44</td>\n",
       "    </tr>\n",
       "    <tr>\n",
       "      <th>4</th>\n",
       "      <td>0056c007-c082-43cc-bdef-afc49bca4cb9</td>\n",
       "      <td>2020-05-10 11:49:47</td>\n",
       "      <td>2020-05-16 13:48:39</td>\n",
       "      <td>instagram_new_adverts</td>\n",
       "      <td>145.98</td>\n",
       "    </tr>\n",
       "  </tbody>\n",
       "</table>\n",
       "</div>"
      ],
      "text/plain": [
       "                                user_id               start  \\\n",
       "0  001d39dc-366c-4021-9604-6a3b9ff01e25 2020-05-05 21:02:05   \n",
       "1  003ee7e8-6356-4286-a715-62f22a18d2a1 2020-05-05 08:31:04   \n",
       "2  004074f8-251a-4776-922c-8348dca1a2f6 2020-05-04 01:07:35   \n",
       "3  00464e5e-28ed-4be6-bf44-517ef7b3937b 2020-05-04 08:35:29   \n",
       "4  0056c007-c082-43cc-bdef-afc49bca4cb9 2020-05-10 11:49:47   \n",
       "\n",
       "                  end                 source  delta_hours  \n",
       "0 2020-05-12 07:40:47  instagram_new_adverts       154.65  \n",
       "1 2020-05-17 21:47:49  instagram_new_adverts       301.28  \n",
       "2 2020-05-16 19:57:40           facebook_ads       306.83  \n",
       "3 2020-05-15 16:02:01          yandex_direct       271.44  \n",
       "4 2020-05-16 13:48:39  instagram_new_adverts       145.98  "
      ]
     },
     "execution_count": 13,
     "metadata": {},
     "output_type": "execute_result"
    }
   ],
   "source": [
    "fin_ids = users_fin_level['user_id']\n",
    "actions_fin = actions.query(\"user_id in @fin_ids\")\n",
    "time_to_fin = actions_fin.sort_values(by=['user_id', 'event_datetime']).groupby('user_id')['event_datetime'].first().to_frame().reset_index()\n",
    "time_to_fin = time_to_fin.merge(\n",
    "    users_fin_level[['user_id', 'event_datetime', 'source']], left_on='user_id', right_on='user_id')\n",
    "time_to_fin = time_to_fin.rename(columns = {'event_datetime_x': 'start', 'event_datetime_y': 'end'})\n",
    "time_to_fin['delta_hours'] = (time_to_fin ['end']- time_to_fin ['start'])\\\n",
    "    .apply(lambda x: round(x.total_seconds() / 3600, 2))\n",
    "time_to_fin.head()"
   ]
  },
  {
   "cell_type": "markdown",
   "metadata": {},
   "source": [
    "Мы получили список пользователей, завершивших первый уровень и затраченное время в часах. Посмотрим на распределение, построим графики."
   ]
  },
  {
   "cell_type": "code",
   "execution_count": 14,
   "metadata": {},
   "outputs": [
    {
     "data": {
      "image/png": "[encoded data removed]",
      "text/plain": [
       "<Figure size 1152x432 with 2 Axes>"
      ]
     },
     "metadata": {},
     "output_type": "display_data"
    }
   ],
   "source": [
    "fig, axes = plt.subplots(1, 2, figsize=(16, 6))\n",
    "fig.suptitle('Распределение игроков по времени прохождения первого уровня', fontsize=16)\n",
    "sns.histplot(ax=axes[0], data=time_to_fin, x='delta_hours')\n",
    "axes[0].set_title('Гистограмма', fontsize=14)\n",
    "axes[0].set_xlabel('Время (в часах)', fontsize=12)\n",
    "axes[0].set_ylabel('Количество игроков', fontsize=12)\n",
    "\n",
    "sns.boxplot(x=time_to_fin['delta_hours'])\n",
    "axes[1].set_title('Ящик с усами', fontsize=14)\n",
    "axes[1].set_xlabel('Время (в часах)', fontsize=12)\n",
    "plt.show()"
   ]
  },
  {
   "cell_type": "markdown",
   "metadata": {},
   "source": [
    "Распределение получилось достаточно симметричным. Большинству пользователей требуется от 100 по 500 часов на прохождение первого уровня.\n",
    "\n",
    "Выясним, игроки из каких источников быстрее и чаще завершают первый уровень, построим диграммы."
   ]
  },
  {
   "cell_type": "code",
   "execution_count": 15,
   "metadata": {
    "scrolled": false
   },
   "outputs": [
    {
     "data": {
      "image/png": "[encoded data removed]",
      "text/plain": [
       "<Figure size 1152x432 with 2 Axes>"
      ]
     },
     "metadata": {},
     "output_type": "display_data"
    }
   ],
   "source": [
    "source_fin = users_fin_level.groupby('source')['user_id'].count().reset_index().sort_values(by='user_id')\n",
    "\n",
    "fig, axes = plt.subplots(1, 2, figsize=(16, 6))\n",
    "fig.suptitle('Распределение игроков по источникам', fontsize=16)\n",
    "sns.histplot(ax=axes[0], data=time_to_fin, x='delta_hours', hue='source', palette='muted', kde=True, element='step')\n",
    "axes[0].set_title('Гистограмма времени прохождения первого уровня', fontsize=14)\n",
    "axes[0].set_xlabel('Время (в часах)', fontsize=12)\n",
    "axes[0].set_ylabel('Количество игроков', fontsize=12)\n",
    "\n",
    "sns.barplot(ax=axes[1], data=source_fin, x='source', y='user_id', palette='GnBu_d')\n",
    "axes[1].set_title('Диаграмма игроков, завершивших первый уровень', fontsize=14)\n",
    "axes[1].set_xlabel('Источники', fontsize=12)\n",
    "axes[1].set_ylabel('Количество игроков', fontsize=12)\n",
    "plt.xticks(rotation=-15)\n",
    "plt.show()"
   ]
  },
  {
   "cell_type": "markdown",
   "metadata": {},
   "source": [
    "Время прохождения первого уровня примерно одинаково расределено между игроками из разных источников. Чаще всего уровень завершают игроки из источников `yandex_direct` и `instagram_new_adverts`, что соответствует количеству привлеченных пользователей из источников. Следовательно, пользователи из разных источников заканчивают первый уровень примерно с равной скоростью и частотой."
   ]
  },
  {
   "cell_type": "markdown",
   "metadata": {},
   "source": [
    "### Поведение игроков\n",
    "\n",
    "Рассмотрим игроков, которые по разному завершили первый уровень.\n",
    "\n",
    "* Победа над первым врагом\n",
    "* Реализация проекта - разработка орбитальной сборки спутников\n",
    "\n",
    "Будем рассматривать поведение игроков как **PVP** (Player vs Player) и **PVE** (Player vs Environment) соответственно."
   ]
  },
  {
   "cell_type": "code",
   "execution_count": 16,
   "metadata": {
    "scrolled": true
   },
   "outputs": [
    {
     "name": "stdout",
     "output_type": "stream",
     "text": [
      "Игроки завершившие первый уровень:\n",
      "Стратегия PVE - 1866\n",
      "Стратегия PVP - 3951\n"
     ]
    }
   ],
   "source": [
    "proj = actions_fin[actions_fin['project_type']  == 'satellite_orbital_assembly']\n",
    "proj_ids = proj['user_id']\n",
    "pve = actions_fin.query(\"user_id in @proj_ids\")\n",
    "pvp = actions_fin.query(\"user_id not in @proj_ids\")\n",
    "\n",
    "print('Игроки завершившие первый уровень:')\n",
    "print('Стратегия PVE -', pve['user_id'].nunique())\n",
    "print('Стратегия PVP -', pvp['user_id'].nunique())"
   ]
  },
  {
   "cell_type": "markdown",
   "metadata": {},
   "source": [
    "Стратегии PVE придерживается в 2 раза меньше игроков чем стратегии PVP."
   ]
  },
  {
   "cell_type": "markdown",
   "metadata": {},
   "source": [
    "Добавим столбец со стратегией к таблице `time_to_fin` и посмотрим как распределены пользователи по времени прохождения уровня и источнику."
   ]
  },
  {
   "cell_type": "code",
   "execution_count": 17,
   "metadata": {},
   "outputs": [],
   "source": [
    "pve_users = pve['user_id'].unique()\n",
    "pvp_users = pvp['user_id'].unique()\n",
    "\n",
    "def str_cat(user):\n",
    "    for i in user:\n",
    "        if user in pve_users:\n",
    "            return 'pve'\n",
    "        if user in pvp_users:\n",
    "            return 'pvp'\n",
    "        else:\n",
    "            return 'not defind'\n",
    "    \n",
    "time_to_fin['strategy'] = time_to_fin['user_id'].apply(str_cat)"
   ]
  },
  {
   "cell_type": "code",
   "execution_count": 19,
   "metadata": {},
   "outputs": [
    {
     "ename": "NameError",
     "evalue": "name 'source_str' is not defined",
     "output_type": "error",
     "traceback": [
      "\u001b[0;31m---------------------------------------------------------------------------\u001b[0m",
      "\u001b[0;31mNameError\u001b[0m                                 Traceback (most recent call last)",
      "\u001b[0;32m/tmp/ipykernel_196/926779528.py\u001b[0m in \u001b[0;36m<module>\u001b[0;34m\u001b[0m\n\u001b[1;32m      1\u001b[0m \u001b[0mtime_to_fin\u001b[0m\u001b[0;34m.\u001b[0m\u001b[0mhead\u001b[0m\u001b[0;34m(\u001b[0m\u001b[0;36m3\u001b[0m\u001b[0;34m)\u001b[0m\u001b[0;34m\u001b[0m\u001b[0;34m\u001b[0m\u001b[0m\n\u001b[0;32m----> 2\u001b[0;31m \u001b[0msource_str\u001b[0m\u001b[0;34m\u001b[0m\u001b[0;34m\u001b[0m\u001b[0m\n\u001b[0m",
      "\u001b[0;31mNameError\u001b[0m: name 'source_str' is not defined"
     ]
    }
   ],
   "source": [
    "time_to_fin.head(3)"
   ]
  },
  {
   "cell_type": "code",
   "execution_count": 22,
   "metadata": {},
   "outputs": [
    {
     "data": {
      "image/png": "[encoded data removed]",
      "text/plain": [
       "<Figure size 1152x432 with 2 Axes>"
      ]
     },
     "metadata": {},
     "output_type": "display_data"
    },
    {
     "data": {
      "text/html": [
       "<div>\n",
       "<style scoped>\n",
       "    .dataframe tbody tr th:only-of-type {\n",
       "        vertical-align: middle;\n",
       "    }\n",
       "\n",
       "    .dataframe tbody tr th {\n",
       "        vertical-align: top;\n",
       "    }\n",
       "\n",
       "    .dataframe thead th {\n",
       "        text-align: right;\n",
       "    }\n",
       "</style>\n",
       "<table border=\"1\" class=\"dataframe\">\n",
       "  <thead>\n",
       "    <tr style=\"text-align: right;\">\n",
       "      <th></th>\n",
       "      <th>source</th>\n",
       "      <th>strategy</th>\n",
       "      <th>user_id</th>\n",
       "    </tr>\n",
       "  </thead>\n",
       "  <tbody>\n",
       "    <tr>\n",
       "      <th>0</th>\n",
       "      <td>facebook_ads</td>\n",
       "      <td>pve</td>\n",
       "      <td>391</td>\n",
       "    </tr>\n",
       "    <tr>\n",
       "      <th>1</th>\n",
       "      <td>facebook_ads</td>\n",
       "      <td>pvp</td>\n",
       "      <td>759</td>\n",
       "    </tr>\n",
       "    <tr>\n",
       "      <th>2</th>\n",
       "      <td>instagram_new_adverts</td>\n",
       "      <td>pve</td>\n",
       "      <td>476</td>\n",
       "    </tr>\n",
       "    <tr>\n",
       "      <th>3</th>\n",
       "      <td>instagram_new_adverts</td>\n",
       "      <td>pvp</td>\n",
       "      <td>990</td>\n",
       "    </tr>\n",
       "    <tr>\n",
       "      <th>4</th>\n",
       "      <td>yandex_direct</td>\n",
       "      <td>pve</td>\n",
       "      <td>620</td>\n",
       "    </tr>\n",
       "    <tr>\n",
       "      <th>5</th>\n",
       "      <td>yandex_direct</td>\n",
       "      <td>pvp</td>\n",
       "      <td>1422</td>\n",
       "    </tr>\n",
       "    <tr>\n",
       "      <th>6</th>\n",
       "      <td>youtube_channel_reklama</td>\n",
       "      <td>pve</td>\n",
       "      <td>379</td>\n",
       "    </tr>\n",
       "    <tr>\n",
       "      <th>7</th>\n",
       "      <td>youtube_channel_reklama</td>\n",
       "      <td>pvp</td>\n",
       "      <td>780</td>\n",
       "    </tr>\n",
       "  </tbody>\n",
       "</table>\n",
       "</div>"
      ],
      "text/plain": [
       "                    source strategy  user_id\n",
       "0             facebook_ads      pve      391\n",
       "1             facebook_ads      pvp      759\n",
       "2    instagram_new_adverts      pve      476\n",
       "3    instagram_new_adverts      pvp      990\n",
       "4            yandex_direct      pve      620\n",
       "5            yandex_direct      pvp     1422\n",
       "6  youtube_channel_reklama      pve      379\n",
       "7  youtube_channel_reklama      pvp      780"
      ]
     },
     "execution_count": 22,
     "metadata": {},
     "output_type": "execute_result"
    }
   ],
   "source": [
    "source_str = time_to_fin.pivot_table(index=['source', 'strategy'], values='user_id', aggfunc='count').reset_index()\n",
    "\n",
    "fig, axes = plt.subplots(1, 2, figsize=(16, 6))\n",
    "fig.suptitle('Распределение игроков по стратегии', fontsize=16)\n",
    "\n",
    "sns.histplot(ax=axes[0], data=time_to_fin, x='delta_hours', hue='strategy', multiple='dodge', palette='muted', kde=True)\n",
    "axes[0].set_title('Гистограмма времени прохождения первого уровня', fontsize=14)\n",
    "axes[0].set_xlabel('Время (в часах)', fontsize=12)\n",
    "axes[0].set_ylabel('Количество игроков', fontsize=12)\n",
    "\n",
    "sns.barplot(ax=axes[1], data=source_str, x='source', y='user_id', hue='strategy', palette='muted', hue_order=['pvp', 'pve'])\n",
    "axes[1].set_title('Диаграмма игроков, завершивших первый уровень', fontsize=14)\n",
    "axes[1].set_xlabel('Источники', fontsize=12)\n",
    "axes[1].set_ylabel('Количество игроков', fontsize=12)\n",
    "plt.xticks(rotation=-15)\n",
    "plt.show()\n",
    "\n",
    "time_to_fin.groupby('strategy')['delta_hours'].mean().to_frame()\n",
    "source_str"
   ]
  },
  {
   "cell_type": "markdown",
   "metadata": {},
   "source": [
    "На гистограмме видно, что выбирая стратегию PVP, игроки в среднем тратят на часов меньше времени на первый уровень. Источники не влияют на выбор стратегии."
   ]
  },
  {
   "cell_type": "markdown",
   "metadata": {},
   "source": [
    "### Постройка зданий\n",
    "\n",
    "Посмотрим на среднее значение построенных зданий."
   ]
  },
  {
   "cell_type": "code",
   "execution_count": 68,
   "metadata": {},
   "outputs": [
    {
     "name": "stdout",
     "output_type": "stream",
     "text": [
      "Среднее построенных игроком зданий: 10\n"
     ]
    }
   ],
   "source": [
    "buildings = actions_fin.query('event == \"building\"')\n",
    "build_by_user = buildings.groupby('user_id')['event'].count().reset_index()\n",
    "build_by_user['strategy'] = build_by_user['user_id'].apply(str_cat)\n",
    "print('Среднее построенных игроком зданий:', round(build_by_user['event'].mean()))"
   ]
  },
  {
   "cell_type": "markdown",
   "metadata": {},
   "source": [
    "В среднем игроки строят 10 зданий. Посмотрим на распределение количества построенных игроками зданий в зависимости от источника и стратегии."
   ]
  },
  {
   "cell_type": "code",
   "execution_count": 69,
   "metadata": {
    "scrolled": false
   },
   "outputs": [
    {
     "data": {
      "image/png": "[encoded data removed]",
      "text/plain": [
       "<Figure size 1152x432 with 2 Axes>"
      ]
     },
     "metadata": {},
     "output_type": "display_data"
    }
   ],
   "source": [
    "build_by_source = buildings.groupby('source')['event'].count().reset_index()\n",
    "\n",
    "fig, axes = plt.subplots(1, 2, figsize=(16, 6))\n",
    "fig.suptitle('Распределение по количеству построенных зданий', fontsize=16)\n",
    "\n",
    "sns.histplot(ax=axes[0], data=build_by_user, x='event', palette='muted', hue='strategy', multiple='dodge', shrink=3, kde=True)\n",
    "axes[0].set_title('В зависимости от стратегии', fontsize=14)\n",
    "axes[0].set_xlabel('Количество зданий', fontsize=12)\n",
    "axes[0].set_ylabel('Количество игроков', fontsize=12)\n",
    "\n",
    "sns.barplot(ax=axes[1], data=build_by_source, x='source', y='event', palette='muted')\n",
    "axes[1].set_title('В зависимости от источника', fontsize=14)\n",
    "axes[1].set_xlabel('Источники', fontsize=12)\n",
    "axes[1].set_ylabel('Количество зданий', fontsize=12)\n",
    "plt.xticks(rotation=-15)\n",
    "plt.show()"
   ]
  },
  {
   "cell_type": "markdown",
   "metadata": {},
   "source": [
    "Источник не влияет на количество построенных, так как распределение совпадает с распределением привлеченных пользователей. Игроки со стратегией PVE строят в среднем больше зданий, чем игроки со стратегией PVP. Посмотрим на их средние значения."
   ]
  },
  {
   "cell_type": "code",
   "execution_count": 70,
   "metadata": {},
   "outputs": [
    {
     "name": "stdout",
     "output_type": "stream",
     "text": [
      "Среднее количество построенных зданий для стратегии PVP: 9\n",
      "Среднее количество построенных зданий для стратегии PVE: 13\n"
     ]
    }
   ],
   "source": [
    "print('Среднее количество построенных зданий для стратегии PVP:',\n",
    "      round(build_by_user.query('strategy == \"pvp\"')['event'].mean()))\n",
    "print('Среднее количество построенных зданий для стратегии PVE:',\n",
    "      round(build_by_user.query('strategy == \"pve\"')['event'].mean()))"
   ]
  },
  {
   "cell_type": "markdown",
   "metadata": {},
   "source": [
    "### Вывод\n",
    "\n",
    "Больше всего пользователей приходит из источника `yandex_direct`. До второго уровня доходит 43% пользователей. Стратегии PVP придерживается примерно в 2 раза больше игроков чем PVE. Выбирая стратегию PVP, игроки быстрее завершают первый уровень. В среднем игроки строят 10 зданий, для стратегии PVE - 13 зданий, для PVP - 9 зданий. Источник не влияет время прохождения уровня и количество построенных зданий."
   ]
  },
  {
   "cell_type": "markdown",
   "metadata": {},
   "source": [
    "## Оценка эффективности источников\n",
    "\n",
    "Оценим эффективность источников. Так как мы определили, что источник не влияет на поведение игроков, на время прохождения первого уровня и количество построенных зданий, то посчитаем стоимость привлечения пользователя для каждого источника."
   ]
  },
  {
   "cell_type": "code",
   "execution_count": 71,
   "metadata": {
    "scrolled": true
   },
   "outputs": [],
   "source": [
    "profiles = actions.sort_values(by=['user_id', 'event_datetime'])\\\n",
    "        .groupby('user_id')\\\n",
    "        .agg({'event_datetime': 'first', 'source': 'first'})\\\n",
    "        .reset_index()\n",
    "profiles['dt'] = profiles['event_datetime'].dt.date\n",
    "\n",
    "prof_pivot = profiles.pivot_table(\n",
    "    index=['dt', 'source'], values='user_id', aggfunc='nunique').sort_values(by=['source', 'dt']).reset_index()\n",
    "prof_pivot = prof_pivot.drop(columns='source')\n",
    "prof_pivot = pd.concat([prof_pivot, costs], axis=1)\n",
    "prof_pivot['user_cost'] = prof_pivot['cost'] / prof_pivot['user_id']"
   ]
  },
  {
   "cell_type": "markdown",
   "metadata": {},
   "source": [
    "Посчитаем среднюю стоимость пользователя для каждого источника и выведем количество пользователей."
   ]
  },
  {
   "cell_type": "code",
   "execution_count": 72,
   "metadata": {},
   "outputs": [
    {
     "data": {
      "text/html": [
       "<div>\n",
       "<style scoped>\n",
       "    .dataframe tbody tr th:only-of-type {\n",
       "        vertical-align: middle;\n",
       "    }\n",
       "\n",
       "    .dataframe tbody tr th {\n",
       "        vertical-align: top;\n",
       "    }\n",
       "\n",
       "    .dataframe thead th {\n",
       "        text-align: right;\n",
       "    }\n",
       "</style>\n",
       "<table border=\"1\" class=\"dataframe\">\n",
       "  <thead>\n",
       "    <tr style=\"text-align: right;\">\n",
       "      <th></th>\n",
       "      <th>user_cost</th>\n",
       "      <th>user_id</th>\n",
       "    </tr>\n",
       "    <tr>\n",
       "      <th>source</th>\n",
       "      <th></th>\n",
       "      <th></th>\n",
       "    </tr>\n",
       "  </thead>\n",
       "  <tbody>\n",
       "    <tr>\n",
       "      <th>facebook_ads</th>\n",
       "      <td>0.776358</td>\n",
       "      <td>2726</td>\n",
       "    </tr>\n",
       "    <tr>\n",
       "      <th>instagram_new_adverts</th>\n",
       "      <td>0.646144</td>\n",
       "      <td>3347</td>\n",
       "    </tr>\n",
       "    <tr>\n",
       "      <th>yandex_direct</th>\n",
       "      <td>0.463491</td>\n",
       "      <td>4817</td>\n",
       "    </tr>\n",
       "    <tr>\n",
       "      <th>youtube_channel_reklama</th>\n",
       "      <td>0.403225</td>\n",
       "      <td>2686</td>\n",
       "    </tr>\n",
       "  </tbody>\n",
       "</table>\n",
       "</div>"
      ],
      "text/plain": [
       "                         user_cost  user_id\n",
       "source                                     \n",
       "facebook_ads              0.776358     2726\n",
       "instagram_new_adverts     0.646144     3347\n",
       "yandex_direct             0.463491     4817\n",
       "youtube_channel_reklama   0.403225     2686"
      ]
     },
     "execution_count": 72,
     "metadata": {},
     "output_type": "execute_result"
    }
   ],
   "source": [
    "prof_pivot.pivot_table(index='source', values=['user_id', 'user_cost'], aggfunc={'user_id': 'sum', 'user_cost': 'mean'})"
   ]
  },
  {
   "cell_type": "markdown",
   "metadata": {},
   "source": [
    "Построим график изменения стоимости пользователя по дням для каждого источника."
   ]
  },
  {
   "cell_type": "code",
   "execution_count": 101,
   "metadata": {
    "scrolled": false
   },
   "outputs": [
    {
     "data": {
      "image/png": "[encoded data removed]",
      "text/plain": [
       "<Figure size 936x576 with 1 Axes>"
      ]
     },
     "metadata": {},
     "output_type": "display_data"
    }
   ],
   "source": [
    "plt.figure(figsize=(13, 8))\n",
    "sns.lineplot(data=prof_pivot, x='dt', y='user_cost', hue='source')\n",
    "plt.title('График стоимости привлечения пользователя', fontsize=16)\n",
    "plt.xlabel('Даты', fontsize=14)\n",
    "plt.ylabel('Стоимость (у.е.)', fontsize=14)\n",
    "plt.legend(fontsize = 14, bbox_to_anchor=(1.3, 1))\n",
    "plt.xticks(fontsize = 12)\n",
    "plt.show()"
   ]
  },
  {
   "cell_type": "markdown",
   "metadata": {},
   "source": [
    "### Вывод\n",
    "\n",
    "Расходы на привлечение пользователей из `facebook` самые высокие, а количество привлеченных пользователей - относительно низкое, определенно это неэффективный источник. `Instagram` привлекает больше пользователей, но их стоимость так же высока. Лучшие значения по количеству пользователей и их стоимости у `yandex`. Самая низкая стоимость у `youtube`, а пользователей почти столько же, как и у `facebook`."
   ]
  },
  {
   "cell_type": "markdown",
   "metadata": {},
   "source": [
    "## Статистический анализ данных\n",
    "\n",
    "Проверим гипотезы с помощью t-test (статистический тест с использованием t-распределения Стьюдента), который позволяет сравнивать средние двух генеральных совокупностей между собой. В нулевой гипотезе мы предпологаем что средние равны. Пороговое значение alpha зададим 0.05."
   ]
  },
  {
   "cell_type": "markdown",
   "metadata": {},
   "source": [
    "### Гипотеза 1:\n",
    "\n",
    "H0. Среднее время завершения уровня не различается в зависимости способа завершения первого уровня;\n",
    "\n",
    "H1. Среднее время завершения уровня различается в зависимости способа завершения первого уровня."
   ]
  },
  {
   "cell_type": "code",
   "execution_count": 26,
   "metadata": {},
   "outputs": [
    {
     "name": "stdout",
     "output_type": "stream",
     "text": [
      "p-значение:  7.256269600176612e-98\n",
      "Отвергаем нулевую гипотезу о равенстве средних значений времени завершения первого уровня\n",
      "\n",
      "Среднее время завершения первого уровня для PVP: 266.506671728677\n",
      "Среднее время завершения первого уровня для PVE: 323.013617363344\n"
     ]
    }
   ],
   "source": [
    "pvp_time = time_to_fin.query('strategy == \"pvp\"')\n",
    "pve_time = time_to_fin.query('strategy == \"pve\"')\n",
    "\n",
    "alpha = 0.05 # критический уровень статистической значимости\n",
    "\n",
    "results = st.ttest_ind(pvp_time['delta_hours'], pve_time['delta_hours']) # t-test для двух совокупностей\n",
    "print('p-значение: ', results.pvalue)\n",
    "\n",
    "if results.pvalue < alpha: # условия для двух гипотез\n",
    "    print('Отвергаем нулевую гипотезу о равенстве средних значений времени завершения первого уровня')\n",
    "else:\n",
    "    print('Не получилось отвергнуть нулевую гипотезу о равенстве средних значений времени завершения первого уровня')\n",
    "    \n",
    "print()\n",
    "print('Среднее время завершения первого уровня для PVP:', pvp_time['delta_hours'].mean())\n",
    "print('Среднее время завершения первого уровня для PVE:', pve_time['delta_hours'].mean())"
   ]
  },
  {
   "cell_type": "markdown",
   "metadata": {},
   "source": [
    "### Гипотеза 2\n",
    "\n",
    "H0. Среднее количество построенных зданий не различается в зависимости способа завершения первого уровня;\n",
    "\n",
    "H1. Среднее количество построенных зданий различается в зависимости способа завершения первого уровня."
   ]
  },
  {
   "cell_type": "code",
   "execution_count": 27,
   "metadata": {},
   "outputs": [
    {
     "name": "stdout",
     "output_type": "stream",
     "text": [
      "p-значение:  0.0\n",
      "Отвергаем нулевую гипотезу о равенстве количества построенных зданий\n",
      "\n",
      "Среднее количество построенных зданий для PVP: 9.411541381928625\n",
      "Среднее количество построенных зданий для PVE: 12.64790996784566\n"
     ]
    }
   ],
   "source": [
    "pvp_build = build_by_user.query('strategy == \"pvp\"')\n",
    "pve_build = build_by_user.query('strategy == \"pve\"')\n",
    "\n",
    "alpha = 0.05 # критический уровень статистической значимости\n",
    "\n",
    "results = st.ttest_ind(pvp_build['event'], pve_build['event']) # t-test для двух совокупностей\n",
    "print('p-значение: ', results.pvalue)\n",
    "\n",
    "if results.pvalue < alpha: # условия для двух гипотез\n",
    "    print('Отвергаем нулевую гипотезу о равенстве количества построенных зданий')\n",
    "else:\n",
    "    print('Не получилось отвергнуть нулевую гипотезу о равенстве количества построенных зданий')\n",
    "    \n",
    "print()\n",
    "print('Среднее количество построенных зданий для PVP:', pvp_build['event'].mean())\n",
    "print('Среднее количество построенных зданий для PVE:', pve_build['event'].mean())"
   ]
  },
  {
   "cell_type": "markdown",
   "metadata": {},
   "source": [
    "Мы проверили гипотезы с помощью t-test и можем сделать выводы:\n",
    "\n",
    "* Среднее время завершения уровня различается в зависимости способа завершения первого уровня\n",
    "* Среднее количество построенных зданий различается в зависимости способа завершения первого уровня"
   ]
  },
  {
   "cell_type": "markdown",
   "metadata": {},
   "source": [
    "### Вывод\n",
    "\n",
    "Среднее время прохождения первого уровня для стратегии PVP меньше, чем для PVE. Также для стратегии PVP можно строить меньше зданий. Вероятно поэтому игроки в 2 раза чаще выбирают стратегию PVP. В игре проблемы с балансом, нужно передать информацию геймдизайнерам."
   ]
  },
  {
   "cell_type": "markdown",
   "metadata": {},
   "source": [
    "## Общий вывод"
   ]
  },
  {
   "cell_type": "markdown",
   "metadata": {},
   "source": [
    "Целью проекта было проанализировать поведение игроков в зависимости от источника перехода.\n",
    "\n",
    "**По результатам исследования можно сделать  вывод, что поведение игроков не зависит от источника перехода.**\n",
    "\n",
    "Мы провели исследовательский анализ данных и определи следующее:\n",
    "\n",
    "* Больше всего пользователей из источника `yandex_direct` - 35% \n",
    "* До второго уровня доходит 43% пользователей от их общего числа\n",
    "* Стратегии PVP придерживается примерно в 2 раза больше игроков чем PVE\n",
    "* Выбирая стратегию PVP, игроки в среднем тратят на 50 часов меньше времени на первый уровень\n",
    "* В среднем игроки строят 10 зданий, для стратегии PVE - 13 зданий, для PVP - 9 зданий\n",
    "* Источник не влияет время прохождения уровня, выбор стратегии и количество построенных зданий\n",
    "\n",
    "Так как источник не влияет на поведение игроков, то мы посчитали стоимость привлечения пользователя. \n",
    "\n",
    "Можно сделать следующие выводы:\n",
    "\n",
    "* `yandex` самый эффективный источник, лучшие значения по количеству пользователей и их стоимости\n",
    "* `facebook` неэффективный источник, высокие расходы, относительно низкое число пользователей\n",
    "* `instagram` привлекает больше пользователей чем `facebook`, но их стоимость так же высока \n",
    "* `youtube` - самая низкая стоимость пользователей, а количество почти столько же, как и у `facebook`\n",
    "\n",
    "Также мы провели статистический анализ данных, проверили гипотезы с помощью t-test и можем сделать выводы:\n",
    "\n",
    "* Среднее время завершения уровня различается в зависимости способа завершения первого уровня\n",
    "\n",
    "* Среднее количество построенных зданий различается в зависимости способа завершения первого уровня\n",
    "\n",
    "Игроки почти в 2 раза чаще выбирают стратегию PVP чем PVE, так как PVP требует меньше времени и меньше зданий для прохождения первого уровня. В игре нарушен баланс.\n",
    "\n",
    "**Рекомендации для заказчика:**\n",
    "\n",
    "* Перераспределить рекламный бюджет с канала `facebook` на `yandex` и `youtube`\n",
    "* Передать информацию геймдизайнерам о проблемах с балансом в игре"
   ]
  }
 ],
 "metadata": {
  "ExecuteTimeLog": [
   {
    "duration": 432,
    "start_time": "2022-07-20T12:48:32.654Z"
   },
   {
    "duration": 93,
    "start_time": "2022-07-20T12:51:30.551Z"
   },
   {
    "duration": 43,
    "start_time": "2022-07-20T12:51:34.820Z"
   },
   {
    "duration": 1827,
    "start_time": "2022-07-20T12:52:28.971Z"
   },
   {
    "duration": 4,
    "start_time": "2022-07-20T12:53:25.072Z"
   },
   {
    "duration": 3,
    "start_time": "2022-07-20T12:53:30.121Z"
   },
   {
    "duration": 10,
    "start_time": "2022-07-20T13:11:37.156Z"
   },
   {
    "duration": 11,
    "start_time": "2022-07-20T13:12:46.597Z"
   },
   {
    "duration": 11,
    "start_time": "2022-07-20T13:14:20.607Z"
   },
   {
    "duration": 10,
    "start_time": "2022-07-20T13:15:47.999Z"
   },
   {
    "duration": 58,
    "start_time": "2022-07-20T13:16:42.202Z"
   },
   {
    "duration": 12,
    "start_time": "2022-07-20T13:17:26.551Z"
   },
   {
    "duration": 11,
    "start_time": "2022-07-20T13:18:50.003Z"
   },
   {
    "duration": 45,
    "start_time": "2022-07-21T05:37:38.268Z"
   },
   {
    "duration": 418,
    "start_time": "2022-07-21T05:37:40.484Z"
   },
   {
    "duration": 507,
    "start_time": "2022-07-21T05:37:42.085Z"
   },
   {
    "duration": 706,
    "start_time": "2022-07-21T05:38:05.622Z"
   },
   {
    "duration": 735,
    "start_time": "2022-07-21T05:38:14.551Z"
   },
   {
    "duration": 52,
    "start_time": "2022-07-21T05:38:32.054Z"
   },
   {
    "duration": 1851,
    "start_time": "2022-07-21T05:38:50.447Z"
   },
   {
    "duration": 657,
    "start_time": "2022-07-21T05:39:08.808Z"
   },
   {
    "duration": 263,
    "start_time": "2022-07-21T05:40:56.698Z"
   },
   {
    "duration": 302,
    "start_time": "2022-07-21T05:43:31.863Z"
   },
   {
    "duration": 1058,
    "start_time": "2022-07-21T08:27:17.425Z"
   },
   {
    "duration": 46,
    "start_time": "2022-07-21T18:42:33.351Z"
   },
   {
    "duration": 365,
    "start_time": "2022-07-21T18:42:35.620Z"
   },
   {
    "duration": 1631,
    "start_time": "2022-07-21T18:42:37.538Z"
   },
   {
    "duration": 1685,
    "start_time": "2022-07-21T18:42:44.650Z"
   },
   {
    "duration": 1871,
    "start_time": "2022-07-21T18:49:12.604Z"
   },
   {
    "duration": 2903,
    "start_time": "2022-07-21T18:49:23.892Z"
   },
   {
    "duration": 4018,
    "start_time": "2022-07-21T18:51:57.085Z"
   },
   {
    "duration": 58,
    "start_time": "2022-07-21T18:52:20.641Z"
   },
   {
    "duration": 31,
    "start_time": "2022-07-21T18:52:41.589Z"
   },
   {
    "duration": 25,
    "start_time": "2022-07-21T18:52:45.460Z"
   },
   {
    "duration": 18,
    "start_time": "2022-07-21T18:52:48.124Z"
   },
   {
    "duration": 10,
    "start_time": "2022-07-21T18:52:49.565Z"
   },
   {
    "duration": 63,
    "start_time": "2022-07-21T18:53:20.751Z"
   },
   {
    "duration": 55,
    "start_time": "2022-07-21T18:54:04.024Z"
   },
   {
    "duration": 54,
    "start_time": "2022-07-21T18:54:19.224Z"
   },
   {
    "duration": 56,
    "start_time": "2022-07-21T18:54:32.275Z"
   },
   {
    "duration": 55,
    "start_time": "2022-07-21T18:54:41.042Z"
   },
   {
    "duration": 55,
    "start_time": "2022-07-21T18:54:46.699Z"
   },
   {
    "duration": 62,
    "start_time": "2022-07-21T18:55:19.208Z"
   },
   {
    "duration": 10,
    "start_time": "2022-07-21T18:55:22.511Z"
   },
   {
    "duration": 71,
    "start_time": "2022-07-21T18:55:26.811Z"
   },
   {
    "duration": 53,
    "start_time": "2022-07-21T18:56:18.446Z"
   },
   {
    "duration": 53,
    "start_time": "2022-07-21T18:56:29.434Z"
   },
   {
    "duration": 50,
    "start_time": "2022-07-21T18:56:33.898Z"
   },
   {
    "duration": 52,
    "start_time": "2022-07-21T18:56:53.840Z"
   },
   {
    "duration": 50,
    "start_time": "2022-07-21T18:57:18.987Z"
   },
   {
    "duration": 896,
    "start_time": "2022-07-21T18:57:25.426Z"
   },
   {
    "duration": 50,
    "start_time": "2022-07-21T19:01:15.617Z"
   },
   {
    "duration": 219,
    "start_time": "2022-07-21T19:02:07.857Z"
   },
   {
    "duration": 208,
    "start_time": "2022-07-21T19:03:11.541Z"
   },
   {
    "duration": 25,
    "start_time": "2022-07-21T19:06:13.359Z"
   },
   {
    "duration": 30,
    "start_time": "2022-07-21T19:07:12.694Z"
   },
   {
    "duration": 28,
    "start_time": "2022-07-21T19:10:02.301Z"
   },
   {
    "duration": 30,
    "start_time": "2022-07-21T19:10:06.669Z"
   },
   {
    "duration": 42,
    "start_time": "2022-07-21T19:10:17.549Z"
   },
   {
    "duration": 45,
    "start_time": "2022-07-21T19:10:28.560Z"
   },
   {
    "duration": 32,
    "start_time": "2022-07-21T19:10:59.476Z"
   },
   {
    "duration": 28,
    "start_time": "2022-07-21T19:11:04.476Z"
   },
   {
    "duration": 43,
    "start_time": "2022-07-21T19:11:08.980Z"
   },
   {
    "duration": 42,
    "start_time": "2022-07-21T19:11:15.148Z"
   },
   {
    "duration": 28,
    "start_time": "2022-07-21T19:11:17.228Z"
   },
   {
    "duration": 46,
    "start_time": "2022-07-21T19:13:13.219Z"
   },
   {
    "duration": 69,
    "start_time": "2022-07-21T19:13:20.975Z"
   },
   {
    "duration": 70,
    "start_time": "2022-07-21T19:14:16.485Z"
   },
   {
    "duration": 72,
    "start_time": "2022-07-21T19:15:56.465Z"
   },
   {
    "duration": 46,
    "start_time": "2022-07-21T19:16:15.141Z"
   },
   {
    "duration": 47,
    "start_time": "2022-07-21T19:16:46.881Z"
   },
   {
    "duration": 59,
    "start_time": "2022-07-21T19:17:03.653Z"
   },
   {
    "duration": 39,
    "start_time": "2022-07-21T19:17:15.407Z"
   },
   {
    "duration": 44,
    "start_time": "2022-07-21T19:17:44.536Z"
   },
   {
    "duration": 47,
    "start_time": "2022-07-21T19:18:03.196Z"
   },
   {
    "duration": 47,
    "start_time": "2022-07-21T19:18:09.093Z"
   },
   {
    "duration": 78,
    "start_time": "2022-07-21T19:18:12.994Z"
   },
   {
    "duration": 77,
    "start_time": "2022-07-21T19:18:19.188Z"
   },
   {
    "duration": 418,
    "start_time": "2022-07-21T19:20:13.492Z"
   },
   {
    "duration": 449,
    "start_time": "2022-07-21T19:20:21.895Z"
   },
   {
    "duration": 406,
    "start_time": "2022-07-21T19:20:25.968Z"
   },
   {
    "duration": 388,
    "start_time": "2022-07-21T19:20:40.515Z"
   },
   {
    "duration": 368,
    "start_time": "2022-07-21T19:21:23.063Z"
   },
   {
    "duration": 168,
    "start_time": "2022-07-21T19:24:59.550Z"
   },
   {
    "duration": 174,
    "start_time": "2022-07-21T19:25:13.217Z"
   },
   {
    "duration": 77,
    "start_time": "2022-07-21T19:25:32.652Z"
   },
   {
    "duration": 236,
    "start_time": "2022-07-21T19:26:22.465Z"
   },
   {
    "duration": 49,
    "start_time": "2022-07-21T19:26:37.204Z"
   },
   {
    "duration": 43,
    "start_time": "2022-07-21T19:27:00.192Z"
   },
   {
    "duration": 165,
    "start_time": "2022-07-21T19:27:10.487Z"
   },
   {
    "duration": 373,
    "start_time": "2022-07-21T19:27:20.324Z"
   },
   {
    "duration": 682,
    "start_time": "2022-07-21T19:27:30.299Z"
   },
   {
    "duration": 690,
    "start_time": "2022-07-21T19:42:34.607Z"
   },
   {
    "duration": 469,
    "start_time": "2022-07-21T19:48:36.131Z"
   },
   {
    "duration": 762,
    "start_time": "2022-07-21T19:48:39.652Z"
   },
   {
    "duration": 89,
    "start_time": "2022-07-21T19:54:07.088Z"
   },
   {
    "duration": 89,
    "start_time": "2022-07-21T19:54:15.873Z"
   },
   {
    "duration": 87,
    "start_time": "2022-07-21T19:55:10.657Z"
   },
   {
    "duration": 209,
    "start_time": "2022-07-21T19:55:23.825Z"
   },
   {
    "duration": 38,
    "start_time": "2022-07-21T19:55:31.724Z"
   },
   {
    "duration": 98,
    "start_time": "2022-07-21T19:55:50.576Z"
   },
   {
    "duration": 70,
    "start_time": "2022-07-21T19:56:04.313Z"
   },
   {
    "duration": 427,
    "start_time": "2022-07-21T19:56:07.120Z"
   },
   {
    "duration": 764,
    "start_time": "2022-07-21T19:56:28.364Z"
   },
   {
    "duration": 824,
    "start_time": "2022-07-21T19:56:57.432Z"
   },
   {
    "duration": 222,
    "start_time": "2022-07-21T19:58:08.951Z"
   },
   {
    "duration": 741,
    "start_time": "2022-07-21T19:58:15.743Z"
   },
   {
    "duration": 17,
    "start_time": "2022-07-21T19:58:34.283Z"
   },
   {
    "duration": 7,
    "start_time": "2022-07-21T20:01:44.459Z"
   },
   {
    "duration": 10,
    "start_time": "2022-07-21T20:01:56.925Z"
   },
   {
    "duration": 203,
    "start_time": "2022-07-21T20:02:10.834Z"
   },
   {
    "duration": 768,
    "start_time": "2022-07-21T20:03:48.693Z"
   },
   {
    "duration": 980,
    "start_time": "2022-07-21T20:04:25.929Z"
   },
   {
    "duration": 894,
    "start_time": "2022-07-21T20:04:39.389Z"
   },
   {
    "duration": 904,
    "start_time": "2022-07-21T20:04:52.616Z"
   },
   {
    "duration": 752,
    "start_time": "2022-07-21T20:05:14.128Z"
   },
   {
    "duration": 731,
    "start_time": "2022-07-21T20:07:59.112Z"
   },
   {
    "duration": 820,
    "start_time": "2022-07-21T20:08:18.362Z"
   },
   {
    "duration": 780,
    "start_time": "2022-07-21T20:10:34.013Z"
   },
   {
    "duration": 731,
    "start_time": "2022-07-21T20:10:39.909Z"
   },
   {
    "duration": 845,
    "start_time": "2022-07-21T20:10:58.037Z"
   },
   {
    "duration": 813,
    "start_time": "2022-07-21T20:11:08.545Z"
   },
   {
    "duration": 729,
    "start_time": "2022-07-21T20:11:48.300Z"
   },
   {
    "duration": 945,
    "start_time": "2022-07-21T20:13:07.297Z"
   },
   {
    "duration": 727,
    "start_time": "2022-07-21T20:14:17.351Z"
   },
   {
    "duration": 997,
    "start_time": "2022-07-21T20:14:28.347Z"
   },
   {
    "duration": 769,
    "start_time": "2022-07-21T20:19:24.137Z"
   },
   {
    "duration": 772,
    "start_time": "2022-07-21T20:19:35.284Z"
   },
   {
    "duration": 894,
    "start_time": "2022-07-21T20:20:23.240Z"
   },
   {
    "duration": 816,
    "start_time": "2022-07-21T20:20:31.241Z"
   },
   {
    "duration": 793,
    "start_time": "2022-07-21T20:20:40.797Z"
   },
   {
    "duration": 1051,
    "start_time": "2022-07-21T20:29:26.710Z"
   },
   {
    "duration": 47,
    "start_time": "2022-07-21T20:29:28.299Z"
   },
   {
    "duration": 83,
    "start_time": "2022-07-21T20:32:04.607Z"
   },
   {
    "duration": 78,
    "start_time": "2022-07-21T20:32:18.858Z"
   },
   {
    "duration": 11296,
    "start_time": "2022-07-21T20:33:34.317Z"
   },
   {
    "duration": 435,
    "start_time": "2022-07-21T20:34:38.558Z"
   },
   {
    "duration": 484,
    "start_time": "2022-07-21T20:34:43.461Z"
   },
   {
    "duration": 458,
    "start_time": "2022-07-21T20:35:23.903Z"
   },
   {
    "duration": 404,
    "start_time": "2022-07-21T20:35:30.323Z"
   },
   {
    "duration": 16,
    "start_time": "2022-07-21T20:36:38.852Z"
   },
   {
    "duration": 6,
    "start_time": "2022-07-21T20:37:14.636Z"
   },
   {
    "duration": 9,
    "start_time": "2022-07-21T20:37:17.739Z"
   },
   {
    "duration": 11,
    "start_time": "2022-07-21T20:39:38.362Z"
   },
   {
    "duration": 10,
    "start_time": "2022-07-21T20:40:13.289Z"
   },
   {
    "duration": 20,
    "start_time": "2022-07-21T20:40:16.193Z"
   },
   {
    "duration": 12,
    "start_time": "2022-07-21T20:40:26.520Z"
   },
   {
    "duration": 11,
    "start_time": "2022-07-21T20:44:09.346Z"
   },
   {
    "duration": 38,
    "start_time": "2022-07-21T20:45:49.628Z"
   },
   {
    "duration": 37,
    "start_time": "2022-07-21T20:46:22.320Z"
   },
   {
    "duration": 1330,
    "start_time": "2022-07-22T05:16:59.657Z"
   },
   {
    "duration": 8491,
    "start_time": "2022-07-22T05:17:00.989Z"
   },
   {
    "duration": 65,
    "start_time": "2022-07-22T05:17:09.481Z"
   },
   {
    "duration": 31,
    "start_time": "2022-07-22T05:17:09.548Z"
   },
   {
    "duration": 24,
    "start_time": "2022-07-22T05:17:09.581Z"
   },
   {
    "duration": 20,
    "start_time": "2022-07-22T05:17:09.607Z"
   },
   {
    "duration": 35,
    "start_time": "2022-07-22T05:17:09.628Z"
   },
   {
    "duration": 59,
    "start_time": "2022-07-22T05:17:09.665Z"
   },
   {
    "duration": 66,
    "start_time": "2022-07-22T05:17:09.725Z"
   },
   {
    "duration": 45,
    "start_time": "2022-07-22T05:17:09.793Z"
   },
   {
    "duration": 212,
    "start_time": "2022-07-22T05:17:09.840Z"
   },
   {
    "duration": 68,
    "start_time": "2022-07-22T05:17:14.928Z"
   },
   {
    "duration": 33,
    "start_time": "2022-07-22T05:17:48.608Z"
   },
   {
    "duration": 362,
    "start_time": "2022-07-22T05:18:08.041Z"
   },
   {
    "duration": 112,
    "start_time": "2022-07-22T05:18:10.574Z"
   },
   {
    "duration": 414,
    "start_time": "2022-07-22T05:18:12.264Z"
   },
   {
    "duration": 733,
    "start_time": "2022-07-22T05:18:14.671Z"
   },
   {
    "duration": 10,
    "start_time": "2022-07-22T05:18:36.085Z"
   },
   {
    "duration": 9,
    "start_time": "2022-07-22T05:19:39.644Z"
   },
   {
    "duration": 14,
    "start_time": "2022-07-22T05:19:47.746Z"
   },
   {
    "duration": 13,
    "start_time": "2022-07-22T05:20:16.344Z"
   },
   {
    "duration": 1174,
    "start_time": "2022-07-22T05:20:41.052Z"
   },
   {
    "duration": 5752,
    "start_time": "2022-07-22T05:20:42.228Z"
   },
   {
    "duration": 66,
    "start_time": "2022-07-22T05:20:47.982Z"
   },
   {
    "duration": 34,
    "start_time": "2022-07-22T05:20:48.049Z"
   },
   {
    "duration": 25,
    "start_time": "2022-07-22T05:20:48.085Z"
   },
   {
    "duration": 19,
    "start_time": "2022-07-22T05:20:48.112Z"
   },
   {
    "duration": 33,
    "start_time": "2022-07-22T05:20:48.133Z"
   },
   {
    "duration": 64,
    "start_time": "2022-07-22T05:20:48.167Z"
   },
   {
    "duration": 67,
    "start_time": "2022-07-22T05:20:48.233Z"
   },
   {
    "duration": 43,
    "start_time": "2022-07-22T05:20:48.302Z"
   },
   {
    "duration": 185,
    "start_time": "2022-07-22T05:20:48.363Z"
   },
   {
    "duration": 45,
    "start_time": "2022-07-22T05:20:48.550Z"
   },
   {
    "duration": 176,
    "start_time": "2022-07-22T05:20:48.597Z"
   },
   {
    "duration": 368,
    "start_time": "2022-07-22T05:20:48.775Z"
   },
   {
    "duration": 724,
    "start_time": "2022-07-22T05:20:49.145Z"
   },
   {
    "duration": 12,
    "start_time": "2022-07-22T05:20:49.871Z"
   },
   {
    "duration": 5,
    "start_time": "2022-07-22T05:22:34.778Z"
   },
   {
    "duration": 8,
    "start_time": "2022-07-22T05:22:44.747Z"
   },
   {
    "duration": 252,
    "start_time": "2022-07-22T05:22:54.681Z"
   },
   {
    "duration": 1187,
    "start_time": "2022-07-22T05:23:00.146Z"
   },
   {
    "duration": 4980,
    "start_time": "2022-07-22T05:23:01.335Z"
   },
   {
    "duration": 63,
    "start_time": "2022-07-22T05:23:06.317Z"
   },
   {
    "duration": 34,
    "start_time": "2022-07-22T05:23:06.381Z"
   },
   {
    "duration": 25,
    "start_time": "2022-07-22T05:23:06.417Z"
   },
   {
    "duration": 34,
    "start_time": "2022-07-22T05:23:06.444Z"
   },
   {
    "duration": 11,
    "start_time": "2022-07-22T05:23:06.479Z"
   },
   {
    "duration": 77,
    "start_time": "2022-07-22T05:23:06.492Z"
   },
   {
    "duration": 55,
    "start_time": "2022-07-22T05:23:06.571Z"
   },
   {
    "duration": 63,
    "start_time": "2022-07-22T05:23:06.627Z"
   },
   {
    "duration": 189,
    "start_time": "2022-07-22T05:23:06.692Z"
   },
   {
    "duration": 40,
    "start_time": "2022-07-22T05:23:06.882Z"
   },
   {
    "duration": 172,
    "start_time": "2022-07-22T05:23:06.924Z"
   },
   {
    "duration": 369,
    "start_time": "2022-07-22T05:23:07.099Z"
   },
   {
    "duration": 713,
    "start_time": "2022-07-22T05:23:07.470Z"
   },
   {
    "duration": 9,
    "start_time": "2022-07-22T05:23:08.185Z"
   },
   {
    "duration": 11,
    "start_time": "2022-07-22T05:23:08.195Z"
   },
   {
    "duration": 755,
    "start_time": "2022-07-22T05:23:28.081Z"
   },
   {
    "duration": 713,
    "start_time": "2022-07-22T05:24:13.799Z"
   },
   {
    "duration": 714,
    "start_time": "2022-07-22T05:25:23.813Z"
   },
   {
    "duration": 807,
    "start_time": "2022-07-22T05:25:26.670Z"
   },
   {
    "duration": 700,
    "start_time": "2022-07-22T05:25:39.675Z"
   },
   {
    "duration": 864,
    "start_time": "2022-07-22T05:25:55.214Z"
   },
   {
    "duration": 712,
    "start_time": "2022-07-22T05:26:34.901Z"
   },
   {
    "duration": 779,
    "start_time": "2022-07-22T05:27:52.480Z"
   },
   {
    "duration": 845,
    "start_time": "2022-07-22T05:28:03.299Z"
   },
   {
    "duration": 766,
    "start_time": "2022-07-22T05:28:10.467Z"
   },
   {
    "duration": 707,
    "start_time": "2022-07-22T05:28:42.930Z"
   },
   {
    "duration": 1043,
    "start_time": "2022-07-22T05:29:01.842Z"
   },
   {
    "duration": 723,
    "start_time": "2022-07-22T05:29:09.685Z"
   },
   {
    "duration": 932,
    "start_time": "2022-07-22T05:30:32.302Z"
   },
   {
    "duration": 848,
    "start_time": "2022-07-22T05:30:56.075Z"
   },
   {
    "duration": 832,
    "start_time": "2022-07-22T05:31:00.097Z"
   },
   {
    "duration": 911,
    "start_time": "2022-07-22T05:31:02.728Z"
   },
   {
    "duration": 773,
    "start_time": "2022-07-22T05:31:05.656Z"
   },
   {
    "duration": 789,
    "start_time": "2022-07-22T05:31:08.433Z"
   },
   {
    "duration": 855,
    "start_time": "2022-07-22T05:31:10.953Z"
   },
   {
    "duration": 745,
    "start_time": "2022-07-22T05:31:15.124Z"
   },
   {
    "duration": 720,
    "start_time": "2022-07-22T05:31:26.990Z"
   },
   {
    "duration": 857,
    "start_time": "2022-07-22T05:31:40.830Z"
   },
   {
    "duration": 748,
    "start_time": "2022-07-22T05:32:24.443Z"
   },
   {
    "duration": 726,
    "start_time": "2022-07-22T05:32:54.567Z"
   },
   {
    "duration": 299,
    "start_time": "2022-07-22T05:33:08.818Z"
   },
   {
    "duration": 179,
    "start_time": "2022-07-22T05:33:11.299Z"
   },
   {
    "duration": 720,
    "start_time": "2022-07-22T05:33:27.960Z"
   },
   {
    "duration": 720,
    "start_time": "2022-07-22T05:33:57.513Z"
   },
   {
    "duration": 901,
    "start_time": "2022-07-22T05:34:13.226Z"
   },
   {
    "duration": 741,
    "start_time": "2022-07-22T05:34:17.753Z"
   },
   {
    "duration": 758,
    "start_time": "2022-07-22T05:34:21.697Z"
   },
   {
    "duration": 840,
    "start_time": "2022-07-22T05:34:25.642Z"
   },
   {
    "duration": 786,
    "start_time": "2022-07-22T05:34:28.066Z"
   },
   {
    "duration": 963,
    "start_time": "2022-07-22T05:34:32.482Z"
   },
   {
    "duration": 198,
    "start_time": "2022-07-22T07:32:10.133Z"
   },
   {
    "duration": 240,
    "start_time": "2022-07-22T07:32:18.132Z"
   },
   {
    "duration": 119,
    "start_time": "2022-07-22T07:46:33.063Z"
   },
   {
    "duration": 99,
    "start_time": "2022-07-22T07:46:40.415Z"
   },
   {
    "duration": 11,
    "start_time": "2022-07-22T07:48:19.884Z"
   },
   {
    "duration": 27,
    "start_time": "2022-07-22T07:51:50.448Z"
   },
   {
    "duration": 10,
    "start_time": "2022-07-22T07:52:20.133Z"
   },
   {
    "duration": 10,
    "start_time": "2022-07-22T07:52:46.598Z"
   },
   {
    "duration": 11,
    "start_time": "2022-07-22T07:53:14.499Z"
   },
   {
    "duration": 15,
    "start_time": "2022-07-22T07:53:48.558Z"
   },
   {
    "duration": 221,
    "start_time": "2022-07-22T07:55:19.336Z"
   },
   {
    "duration": 220,
    "start_time": "2022-07-22T07:55:40.329Z"
   },
   {
    "duration": 197,
    "start_time": "2022-07-22T07:55:42.353Z"
   },
   {
    "duration": 49,
    "start_time": "2022-07-22T07:57:11.139Z"
   },
   {
    "duration": 123,
    "start_time": "2022-07-22T07:57:17.180Z"
   },
   {
    "duration": 451,
    "start_time": "2022-07-22T07:57:20.306Z"
   },
   {
    "duration": 98,
    "start_time": "2022-07-22T07:58:48.689Z"
   },
   {
    "duration": 100,
    "start_time": "2022-07-22T08:08:08.911Z"
   },
   {
    "duration": 64,
    "start_time": "2022-07-22T08:08:32.811Z"
   },
   {
    "duration": 34,
    "start_time": "2022-07-22T08:08:37.898Z"
   },
   {
    "duration": 43,
    "start_time": "2022-07-22T08:08:54.105Z"
   },
   {
    "duration": 54,
    "start_time": "2022-07-22T08:09:41.433Z"
   },
   {
    "duration": 1147,
    "start_time": "2022-07-22T08:09:45.307Z"
   },
   {
    "duration": 7948,
    "start_time": "2022-07-22T08:09:46.456Z"
   },
   {
    "duration": 88,
    "start_time": "2022-07-22T08:09:54.406Z"
   },
   {
    "duration": 43,
    "start_time": "2022-07-22T08:09:54.496Z"
   },
   {
    "duration": 52,
    "start_time": "2022-07-22T08:09:54.540Z"
   },
   {
    "duration": 54,
    "start_time": "2022-07-22T08:09:54.594Z"
   },
   {
    "duration": 38,
    "start_time": "2022-07-22T08:09:54.650Z"
   },
   {
    "duration": 140,
    "start_time": "2022-07-22T08:09:54.690Z"
   },
   {
    "duration": 84,
    "start_time": "2022-07-22T08:09:54.833Z"
   },
   {
    "duration": 198,
    "start_time": "2022-07-22T08:10:00.635Z"
   },
   {
    "duration": 51,
    "start_time": "2022-07-22T08:10:16.423Z"
   },
   {
    "duration": 47,
    "start_time": "2022-07-22T08:13:05.099Z"
   },
   {
    "duration": 121,
    "start_time": "2022-07-22T08:14:45.488Z"
   },
   {
    "duration": 1253,
    "start_time": "2022-07-22T08:16:19.292Z"
   },
   {
    "duration": 8408,
    "start_time": "2022-07-22T08:16:20.547Z"
   },
   {
    "duration": 79,
    "start_time": "2022-07-22T08:16:28.956Z"
   },
   {
    "duration": 43,
    "start_time": "2022-07-22T08:16:29.037Z"
   },
   {
    "duration": 39,
    "start_time": "2022-07-22T08:16:29.087Z"
   },
   {
    "duration": 37,
    "start_time": "2022-07-22T08:16:29.128Z"
   },
   {
    "duration": 26,
    "start_time": "2022-07-22T08:16:29.167Z"
   },
   {
    "duration": 74,
    "start_time": "2022-07-22T08:16:29.196Z"
   },
   {
    "duration": 58,
    "start_time": "2022-07-22T08:16:29.278Z"
   },
   {
    "duration": 170,
    "start_time": "2022-07-22T08:16:29.338Z"
   },
   {
    "duration": 47,
    "start_time": "2022-07-22T08:16:32.696Z"
   },
   {
    "duration": 64,
    "start_time": "2022-07-22T08:16:34.859Z"
   },
   {
    "duration": 233,
    "start_time": "2022-07-22T08:16:49.846Z"
   },
   {
    "duration": 43,
    "start_time": "2022-07-22T08:17:03.962Z"
   },
   {
    "duration": 97,
    "start_time": "2022-07-22T08:17:38.213Z"
   },
   {
    "duration": 209,
    "start_time": "2022-07-22T08:17:49.396Z"
   },
   {
    "duration": 345,
    "start_time": "2022-07-22T08:17:53.404Z"
   },
   {
    "duration": 330,
    "start_time": "2022-07-22T08:17:56.687Z"
   },
   {
    "duration": 4,
    "start_time": "2022-07-22T08:18:18.657Z"
   },
   {
    "duration": 249,
    "start_time": "2022-07-22T08:18:22.454Z"
   },
   {
    "duration": 555,
    "start_time": "2022-07-22T08:18:25.585Z"
   },
   {
    "duration": 275,
    "start_time": "2022-07-22T08:18:33.210Z"
   },
   {
    "duration": 838,
    "start_time": "2022-07-22T08:18:37.046Z"
   },
   {
    "duration": 736,
    "start_time": "2022-07-22T08:31:44.094Z"
   },
   {
    "duration": 974,
    "start_time": "2022-07-22T08:33:32.782Z"
   },
   {
    "duration": 845,
    "start_time": "2022-07-22T08:33:45.886Z"
   },
   {
    "duration": 1033,
    "start_time": "2022-07-22T08:33:51.997Z"
   },
   {
    "duration": 885,
    "start_time": "2022-07-22T08:34:02.473Z"
   },
   {
    "duration": 14,
    "start_time": "2022-07-22T08:45:11.837Z"
   },
   {
    "duration": 9,
    "start_time": "2022-07-22T08:45:22.965Z"
   },
   {
    "duration": 13,
    "start_time": "2022-07-22T08:45:29.836Z"
   },
   {
    "duration": 7,
    "start_time": "2022-07-22T08:50:58.020Z"
   },
   {
    "duration": 61,
    "start_time": "2022-07-22T08:52:16.565Z"
   },
   {
    "duration": 31,
    "start_time": "2022-07-22T08:52:29.771Z"
   },
   {
    "duration": 14,
    "start_time": "2022-07-22T08:53:02.870Z"
   },
   {
    "duration": 6,
    "start_time": "2022-07-22T08:53:13.954Z"
   },
   {
    "duration": 56,
    "start_time": "2022-07-22T08:53:20.187Z"
   },
   {
    "duration": 14,
    "start_time": "2022-07-22T08:53:30.395Z"
   },
   {
    "duration": 23,
    "start_time": "2022-07-22T08:53:39.420Z"
   },
   {
    "duration": 22,
    "start_time": "2022-07-22T08:54:24.856Z"
   },
   {
    "duration": 15,
    "start_time": "2022-07-22T08:57:09.175Z"
   },
   {
    "duration": 18,
    "start_time": "2022-07-22T08:57:29.997Z"
   },
   {
    "duration": 43,
    "start_time": "2022-07-22T09:05:13.562Z"
   },
   {
    "duration": 274,
    "start_time": "2022-07-22T09:05:38.223Z"
   },
   {
    "duration": 1774,
    "start_time": "2022-07-22T09:05:52.577Z"
   },
   {
    "duration": 65,
    "start_time": "2022-07-22T09:06:02.719Z"
   },
   {
    "duration": 53,
    "start_time": "2022-07-22T09:07:16.769Z"
   },
   {
    "duration": 66,
    "start_time": "2022-07-22T09:07:35.161Z"
   },
   {
    "duration": 64,
    "start_time": "2022-07-22T09:07:50.418Z"
   },
   {
    "duration": 64,
    "start_time": "2022-07-22T09:07:56.484Z"
   },
   {
    "duration": 60,
    "start_time": "2022-07-22T09:08:40.485Z"
   },
   {
    "duration": 5896,
    "start_time": "2022-07-22T09:08:51.290Z"
   },
   {
    "duration": 53,
    "start_time": "2022-07-22T09:09:05.569Z"
   },
   {
    "duration": 47,
    "start_time": "2022-07-22T09:09:15.770Z"
   },
   {
    "duration": 86,
    "start_time": "2022-07-22T09:09:19.725Z"
   },
   {
    "duration": 88,
    "start_time": "2022-07-22T09:09:28.316Z"
   },
   {
    "duration": 93,
    "start_time": "2022-07-22T09:09:32.073Z"
   },
   {
    "duration": 97,
    "start_time": "2022-07-22T09:09:40.361Z"
   },
   {
    "duration": 366,
    "start_time": "2022-07-22T09:09:44.681Z"
   },
   {
    "duration": 852,
    "start_time": "2022-07-22T09:09:47.913Z"
   },
   {
    "duration": 13,
    "start_time": "2022-07-22T09:10:17.649Z"
   },
   {
    "duration": 47,
    "start_time": "2022-07-22T09:12:22.292Z"
   },
   {
    "duration": 89,
    "start_time": "2022-07-22T09:12:28.084Z"
   },
   {
    "duration": 381,
    "start_time": "2022-07-22T09:12:38.625Z"
   },
   {
    "duration": 90,
    "start_time": "2022-07-22T09:13:10.512Z"
   },
   {
    "duration": 86,
    "start_time": "2022-07-22T09:13:17.815Z"
   },
   {
    "duration": 14,
    "start_time": "2022-07-22T09:13:27.617Z"
   },
   {
    "duration": 17,
    "start_time": "2022-07-22T09:13:32.658Z"
   },
   {
    "duration": 14,
    "start_time": "2022-07-22T09:13:46.892Z"
   },
   {
    "duration": 175,
    "start_time": "2022-07-22T09:16:31.861Z"
   },
   {
    "duration": 54,
    "start_time": "2022-07-22T09:16:44.879Z"
   },
   {
    "duration": 22,
    "start_time": "2022-07-22T09:16:56.716Z"
   },
   {
    "duration": 18,
    "start_time": "2022-07-22T09:17:40.263Z"
   },
   {
    "duration": 18,
    "start_time": "2022-07-22T09:18:25.214Z"
   },
   {
    "duration": 50,
    "start_time": "2022-07-22T09:19:01.848Z"
   },
   {
    "duration": 40,
    "start_time": "2022-07-22T09:19:31.023Z"
   },
   {
    "duration": 44,
    "start_time": "2022-07-22T09:19:56.379Z"
   },
   {
    "duration": 71,
    "start_time": "2022-07-22T09:20:13.278Z"
   },
   {
    "duration": 49,
    "start_time": "2022-07-22T09:20:22.777Z"
   },
   {
    "duration": 67,
    "start_time": "2022-07-22T09:21:13.075Z"
   },
   {
    "duration": 74,
    "start_time": "2022-07-22T09:21:19.565Z"
   },
   {
    "duration": 43,
    "start_time": "2022-07-22T09:21:40.290Z"
   },
   {
    "duration": 11,
    "start_time": "2022-07-22T10:04:49.788Z"
   },
   {
    "duration": 15,
    "start_time": "2022-07-22T10:07:54.573Z"
   },
   {
    "duration": 550,
    "start_time": "2022-07-22T10:08:32.937Z"
   },
   {
    "duration": 17,
    "start_time": "2022-07-22T10:08:35.131Z"
   },
   {
    "duration": 10,
    "start_time": "2022-07-22T10:12:13.687Z"
   },
   {
    "duration": 923,
    "start_time": "2022-07-22T10:13:12.255Z"
   },
   {
    "duration": 722,
    "start_time": "2022-07-22T10:13:21.465Z"
   },
   {
    "duration": 5,
    "start_time": "2022-07-22T10:15:08.291Z"
   },
   {
    "duration": 10,
    "start_time": "2022-07-22T10:15:11.985Z"
   },
   {
    "duration": 5,
    "start_time": "2022-07-22T10:15:34.134Z"
   },
   {
    "duration": 17,
    "start_time": "2022-07-22T10:17:22.821Z"
   },
   {
    "duration": 15,
    "start_time": "2022-07-22T10:17:26.517Z"
   },
   {
    "duration": 17,
    "start_time": "2022-07-22T10:17:57.982Z"
   },
   {
    "duration": 588,
    "start_time": "2022-07-22T10:19:05.479Z"
   },
   {
    "duration": 929,
    "start_time": "2022-07-22T10:19:36.875Z"
   },
   {
    "duration": 52,
    "start_time": "2022-07-22T11:00:07.397Z"
   },
   {
    "duration": 1332,
    "start_time": "2022-07-22T11:00:13.182Z"
   },
   {
    "duration": 7519,
    "start_time": "2022-07-22T11:00:14.516Z"
   },
   {
    "duration": 67,
    "start_time": "2022-07-22T11:00:22.037Z"
   },
   {
    "duration": 37,
    "start_time": "2022-07-22T11:00:22.107Z"
   },
   {
    "duration": 30,
    "start_time": "2022-07-22T11:00:22.146Z"
   },
   {
    "duration": 34,
    "start_time": "2022-07-22T11:00:22.178Z"
   },
   {
    "duration": 12,
    "start_time": "2022-07-22T11:00:22.214Z"
   },
   {
    "duration": 86,
    "start_time": "2022-07-22T11:00:22.228Z"
   },
   {
    "duration": 59,
    "start_time": "2022-07-22T11:00:22.317Z"
   },
   {
    "duration": 201,
    "start_time": "2022-07-22T11:00:22.379Z"
   },
   {
    "duration": 45,
    "start_time": "2022-07-22T11:00:22.582Z"
   },
   {
    "duration": 48,
    "start_time": "2022-07-22T11:00:22.629Z"
   },
   {
    "duration": 177,
    "start_time": "2022-07-22T11:00:22.679Z"
   },
   {
    "duration": 417,
    "start_time": "2022-07-22T11:00:22.858Z"
   },
   {
    "duration": 837,
    "start_time": "2022-07-22T11:00:23.277Z"
   },
   {
    "duration": 53,
    "start_time": "2022-07-22T11:00:24.116Z"
   },
   {
    "duration": 547,
    "start_time": "2022-07-22T11:00:24.170Z"
   },
   {
    "duration": 11,
    "start_time": "2022-07-22T11:00:24.718Z"
   },
   {
    "duration": 29,
    "start_time": "2022-07-22T11:00:24.731Z"
   },
   {
    "duration": 668,
    "start_time": "2022-07-22T11:00:26.683Z"
   },
   {
    "duration": 612,
    "start_time": "2022-07-22T11:00:38.636Z"
   },
   {
    "duration": 626,
    "start_time": "2022-07-22T11:00:52.240Z"
   },
   {
    "duration": 562,
    "start_time": "2022-07-22T11:01:04.302Z"
   },
   {
    "duration": 692,
    "start_time": "2022-07-22T11:01:31.863Z"
   },
   {
    "duration": 604,
    "start_time": "2022-07-22T11:01:58.652Z"
   },
   {
    "duration": 650,
    "start_time": "2022-07-22T11:09:57.856Z"
   },
   {
    "duration": 804,
    "start_time": "2022-07-22T11:10:49.848Z"
   },
   {
    "duration": 20,
    "start_time": "2022-07-22T11:11:10.478Z"
   },
   {
    "duration": 18,
    "start_time": "2022-07-22T11:11:31.081Z"
   },
   {
    "duration": 17,
    "start_time": "2022-07-22T11:11:51.798Z"
   },
   {
    "duration": 16,
    "start_time": "2022-07-22T11:12:35.160Z"
   },
   {
    "duration": 18,
    "start_time": "2022-07-22T11:12:39.134Z"
   },
   {
    "duration": 17,
    "start_time": "2022-07-22T11:12:47.638Z"
   },
   {
    "duration": 687,
    "start_time": "2022-07-22T11:13:13.481Z"
   },
   {
    "duration": 722,
    "start_time": "2022-07-22T11:13:26.570Z"
   },
   {
    "duration": 648,
    "start_time": "2022-07-22T11:13:35.095Z"
   },
   {
    "duration": 786,
    "start_time": "2022-07-22T11:13:51.940Z"
   },
   {
    "duration": 630,
    "start_time": "2022-07-22T11:15:41.352Z"
   },
   {
    "duration": 717,
    "start_time": "2022-07-22T11:16:16.610Z"
   },
   {
    "duration": 663,
    "start_time": "2022-07-22T11:16:27.254Z"
   },
   {
    "duration": 838,
    "start_time": "2022-07-22T11:24:33.952Z"
   },
   {
    "duration": 703,
    "start_time": "2022-07-22T11:24:47.552Z"
   },
   {
    "duration": 652,
    "start_time": "2022-07-22T11:25:56.984Z"
   },
   {
    "duration": 841,
    "start_time": "2022-07-22T11:26:03.651Z"
   },
   {
    "duration": 650,
    "start_time": "2022-07-22T11:27:07.173Z"
   },
   {
    "duration": 668,
    "start_time": "2022-07-22T11:27:31.818Z"
   },
   {
    "duration": 653,
    "start_time": "2022-07-22T11:27:42.247Z"
   },
   {
    "duration": 910,
    "start_time": "2022-07-22T11:28:05.471Z"
   },
   {
    "duration": 821,
    "start_time": "2022-07-22T11:42:20.286Z"
   },
   {
    "duration": 853,
    "start_time": "2022-07-22T11:43:09.509Z"
   },
   {
    "duration": 1028,
    "start_time": "2022-07-22T11:43:14.864Z"
   },
   {
    "duration": 786,
    "start_time": "2022-07-22T11:43:27.705Z"
   },
   {
    "duration": 973,
    "start_time": "2022-07-22T11:43:49.344Z"
   },
   {
    "duration": 755,
    "start_time": "2022-07-22T11:45:17.124Z"
   },
   {
    "duration": 647,
    "start_time": "2022-07-22T11:45:52.418Z"
   },
   {
    "duration": 1365,
    "start_time": "2022-07-22T11:45:58.312Z"
   },
   {
    "duration": 766,
    "start_time": "2022-07-22T11:46:41.638Z"
   },
   {
    "duration": 938,
    "start_time": "2022-07-22T11:47:08.706Z"
   },
   {
    "duration": 850,
    "start_time": "2022-07-22T11:47:15.379Z"
   },
   {
    "duration": 831,
    "start_time": "2022-07-22T11:57:44.443Z"
   },
   {
    "duration": 1094,
    "start_time": "2022-07-22T11:58:16.779Z"
   },
   {
    "duration": 899,
    "start_time": "2022-07-22T11:58:46.006Z"
   },
   {
    "duration": 864,
    "start_time": "2022-07-22T11:59:18.178Z"
   },
   {
    "duration": 948,
    "start_time": "2022-07-22T12:00:07.966Z"
   },
   {
    "duration": 810,
    "start_time": "2022-07-22T12:00:36.908Z"
   },
   {
    "duration": 944,
    "start_time": "2022-07-22T12:01:03.279Z"
   },
   {
    "duration": 832,
    "start_time": "2022-07-22T12:01:23.433Z"
   },
   {
    "duration": 807,
    "start_time": "2022-07-22T12:01:34.644Z"
   },
   {
    "duration": 1054,
    "start_time": "2022-07-22T12:03:18.648Z"
   },
   {
    "duration": 649,
    "start_time": "2022-07-22T12:03:37.048Z"
   },
   {
    "duration": 832,
    "start_time": "2022-07-22T12:04:46.950Z"
   },
   {
    "duration": 900,
    "start_time": "2022-07-22T12:05:59.154Z"
   },
   {
    "duration": 844,
    "start_time": "2022-07-22T12:06:19.390Z"
   },
   {
    "duration": 957,
    "start_time": "2022-07-22T12:07:24.648Z"
   },
   {
    "duration": 1056,
    "start_time": "2022-07-22T12:07:31.314Z"
   },
   {
    "duration": 924,
    "start_time": "2022-07-22T12:08:06.550Z"
   },
   {
    "duration": 879,
    "start_time": "2022-07-22T12:09:15.550Z"
   },
   {
    "duration": 960,
    "start_time": "2022-07-22T12:09:24.824Z"
   },
   {
    "duration": 856,
    "start_time": "2022-07-22T12:09:46.733Z"
   },
   {
    "duration": 1015,
    "start_time": "2022-07-22T12:09:51.216Z"
   },
   {
    "duration": 746,
    "start_time": "2022-07-22T12:10:22.646Z"
   },
   {
    "duration": 730,
    "start_time": "2022-07-22T12:10:42.809Z"
   },
   {
    "duration": 720,
    "start_time": "2022-07-22T12:10:54.508Z"
   },
   {
    "duration": 1026,
    "start_time": "2022-07-22T12:11:01.304Z"
   },
   {
    "duration": 906,
    "start_time": "2022-07-22T12:16:30.154Z"
   },
   {
    "duration": 970,
    "start_time": "2022-07-22T12:16:45.962Z"
   },
   {
    "duration": 992,
    "start_time": "2022-07-22T12:16:50.142Z"
   },
   {
    "duration": 850,
    "start_time": "2022-07-22T12:16:56.714Z"
   },
   {
    "duration": 1008,
    "start_time": "2022-07-22T12:17:02.847Z"
   },
   {
    "duration": 918,
    "start_time": "2022-07-22T12:17:08.349Z"
   },
   {
    "duration": 889,
    "start_time": "2022-07-22T12:17:14.246Z"
   },
   {
    "duration": 1056,
    "start_time": "2022-07-22T12:17:21.974Z"
   },
   {
    "duration": 857,
    "start_time": "2022-07-22T12:17:28.151Z"
   },
   {
    "duration": 860,
    "start_time": "2022-07-22T12:17:32.154Z"
   },
   {
    "duration": 1037,
    "start_time": "2022-07-22T12:17:37.968Z"
   },
   {
    "duration": 940,
    "start_time": "2022-07-22T12:20:00.710Z"
   },
   {
    "duration": 360,
    "start_time": "2022-07-22T12:20:25.610Z"
   },
   {
    "duration": 947,
    "start_time": "2022-07-22T12:20:29.240Z"
   },
   {
    "duration": 856,
    "start_time": "2022-07-22T12:21:07.248Z"
   },
   {
    "duration": 850,
    "start_time": "2022-07-22T12:21:18.443Z"
   },
   {
    "duration": 980,
    "start_time": "2022-07-22T12:21:28.261Z"
   },
   {
    "duration": 921,
    "start_time": "2022-07-22T12:21:44.502Z"
   },
   {
    "duration": 290,
    "start_time": "2022-07-22T12:21:51.092Z"
   },
   {
    "duration": 304,
    "start_time": "2022-07-22T12:22:01.645Z"
   },
   {
    "duration": 324,
    "start_time": "2022-07-22T12:22:16.159Z"
   },
   {
    "duration": 1063,
    "start_time": "2022-07-22T12:22:46.346Z"
   },
   {
    "duration": 834,
    "start_time": "2022-07-22T12:22:51.582Z"
   },
   {
    "duration": 815,
    "start_time": "2022-07-22T12:22:57.903Z"
   },
   {
    "duration": 947,
    "start_time": "2022-07-22T12:23:01.945Z"
   },
   {
    "duration": 829,
    "start_time": "2022-07-22T12:23:05.675Z"
   },
   {
    "duration": 837,
    "start_time": "2022-07-22T12:23:11.667Z"
   },
   {
    "duration": 1048,
    "start_time": "2022-07-22T12:23:24.082Z"
   },
   {
    "duration": 876,
    "start_time": "2022-07-22T12:23:30.758Z"
   },
   {
    "duration": 1131,
    "start_time": "2022-07-22T12:23:36.302Z"
   },
   {
    "duration": 892,
    "start_time": "2022-07-22T12:23:40.903Z"
   },
   {
    "duration": 846,
    "start_time": "2022-07-22T12:25:58.107Z"
   },
   {
    "duration": 1084,
    "start_time": "2022-07-22T12:26:01.963Z"
   },
   {
    "duration": 1693,
    "start_time": "2022-07-22T12:26:15.909Z"
   },
   {
    "duration": 474,
    "start_time": "2022-07-22T12:27:03.340Z"
   },
   {
    "duration": 500,
    "start_time": "2022-07-22T12:29:07.118Z"
   },
   {
    "duration": 510,
    "start_time": "2022-07-22T12:29:15.266Z"
   },
   {
    "duration": 468,
    "start_time": "2022-07-22T12:29:45.441Z"
   },
   {
    "duration": 512,
    "start_time": "2022-07-22T12:29:50.361Z"
   },
   {
    "duration": 540,
    "start_time": "2022-07-22T12:30:06.843Z"
   },
   {
    "duration": 507,
    "start_time": "2022-07-22T12:30:32.204Z"
   },
   {
    "duration": 255,
    "start_time": "2022-07-22T12:30:42.762Z"
   },
   {
    "duration": 929,
    "start_time": "2022-07-22T12:30:44.115Z"
   },
   {
    "duration": 861,
    "start_time": "2022-07-22T12:30:50.543Z"
   },
   {
    "duration": 948,
    "start_time": "2022-07-22T12:31:39.766Z"
   },
   {
    "duration": 923,
    "start_time": "2022-07-22T12:31:54.201Z"
   },
   {
    "duration": 850,
    "start_time": "2022-07-22T12:32:01.648Z"
   },
   {
    "duration": 1074,
    "start_time": "2022-07-22T12:32:26.259Z"
   },
   {
    "duration": 529,
    "start_time": "2022-07-22T12:32:31.044Z"
   },
   {
    "duration": 538,
    "start_time": "2022-07-22T12:32:56.240Z"
   },
   {
    "duration": 1185,
    "start_time": "2022-07-22T13:15:44.668Z"
   },
   {
    "duration": 9241,
    "start_time": "2022-07-22T13:15:45.855Z"
   },
   {
    "duration": 72,
    "start_time": "2022-07-22T13:15:55.098Z"
   },
   {
    "duration": 48,
    "start_time": "2022-07-22T13:15:55.172Z"
   },
   {
    "duration": 25,
    "start_time": "2022-07-22T13:15:55.222Z"
   },
   {
    "duration": 21,
    "start_time": "2022-07-22T13:15:55.249Z"
   },
   {
    "duration": 36,
    "start_time": "2022-07-22T13:15:55.272Z"
   },
   {
    "duration": 73,
    "start_time": "2022-07-22T13:15:55.310Z"
   },
   {
    "duration": 75,
    "start_time": "2022-07-22T13:15:55.384Z"
   },
   {
    "duration": 188,
    "start_time": "2022-07-22T13:15:55.461Z"
   },
   {
    "duration": 42,
    "start_time": "2022-07-22T13:15:55.651Z"
   },
   {
    "duration": 54,
    "start_time": "2022-07-22T13:15:55.704Z"
   },
   {
    "duration": 197,
    "start_time": "2022-07-22T13:15:55.760Z"
   },
   {
    "duration": 413,
    "start_time": "2022-07-22T13:15:55.960Z"
   },
   {
    "duration": 301,
    "start_time": "2022-07-22T13:16:08.456Z"
   },
   {
    "duration": 507,
    "start_time": "2022-07-22T13:16:16.778Z"
   },
   {
    "duration": 485,
    "start_time": "2022-07-22T13:16:21.370Z"
   },
   {
    "duration": 585,
    "start_time": "2022-07-22T13:16:28.982Z"
   },
   {
    "duration": 303,
    "start_time": "2022-07-22T13:16:35.615Z"
   },
   {
    "duration": 482,
    "start_time": "2022-07-22T13:16:41.088Z"
   },
   {
    "duration": 486,
    "start_time": "2022-07-22T13:16:49.078Z"
   },
   {
    "duration": 509,
    "start_time": "2022-07-22T13:16:57.465Z"
   },
   {
    "duration": 555,
    "start_time": "2022-07-22T13:17:06.271Z"
   },
   {
    "duration": 179,
    "start_time": "2022-07-22T13:18:38.852Z"
   },
   {
    "duration": 77,
    "start_time": "2022-07-22T13:18:42.994Z"
   },
   {
    "duration": 505,
    "start_time": "2022-07-22T13:18:45.317Z"
   },
   {
    "duration": 535,
    "start_time": "2022-07-22T13:19:06.275Z"
   },
   {
    "duration": 478,
    "start_time": "2022-07-22T13:19:11.001Z"
   },
   {
    "duration": 302,
    "start_time": "2022-07-22T13:19:38.369Z"
   },
   {
    "duration": 471,
    "start_time": "2022-07-22T13:19:48.956Z"
   },
   {
    "duration": 546,
    "start_time": "2022-07-22T13:20:06.511Z"
   },
   {
    "duration": 736,
    "start_time": "2022-07-22T13:20:16.300Z"
   },
   {
    "duration": 191,
    "start_time": "2022-07-22T13:20:26.387Z"
   },
   {
    "duration": 180,
    "start_time": "2022-07-22T13:20:32.804Z"
   },
   {
    "duration": 496,
    "start_time": "2022-07-22T13:20:56.075Z"
   },
   {
    "duration": 541,
    "start_time": "2022-07-22T13:21:09.266Z"
   },
   {
    "duration": 20,
    "start_time": "2022-07-22T13:21:43.325Z"
   },
   {
    "duration": 3,
    "start_time": "2022-07-22T13:21:47.837Z"
   },
   {
    "duration": 9639,
    "start_time": "2022-07-22T13:21:47.842Z"
   },
   {
    "duration": 60,
    "start_time": "2022-07-22T13:21:57.483Z"
   },
   {
    "duration": 33,
    "start_time": "2022-07-22T13:21:57.545Z"
   },
   {
    "duration": 38,
    "start_time": "2022-07-22T13:21:57.580Z"
   },
   {
    "duration": 20,
    "start_time": "2022-07-22T13:21:57.619Z"
   },
   {
    "duration": 12,
    "start_time": "2022-07-22T13:21:57.640Z"
   },
   {
    "duration": 84,
    "start_time": "2022-07-22T13:21:57.653Z"
   },
   {
    "duration": 53,
    "start_time": "2022-07-22T13:21:57.739Z"
   },
   {
    "duration": 180,
    "start_time": "2022-07-22T13:21:57.793Z"
   },
   {
    "duration": 46,
    "start_time": "2022-07-22T13:21:57.975Z"
   },
   {
    "duration": 52,
    "start_time": "2022-07-22T13:21:58.023Z"
   },
   {
    "duration": 114,
    "start_time": "2022-07-22T13:21:58.076Z"
   },
   {
    "duration": 493,
    "start_time": "2022-07-22T13:21:58.191Z"
   },
   {
    "duration": 490,
    "start_time": "2022-07-22T13:21:58.685Z"
   },
   {
    "duration": 63,
    "start_time": "2022-07-22T13:21:59.177Z"
   },
   {
    "duration": 522,
    "start_time": "2022-07-22T13:21:59.241Z"
   },
   {
    "duration": 12,
    "start_time": "2022-07-22T13:21:59.764Z"
   },
   {
    "duration": 628,
    "start_time": "2022-07-22T13:22:23.457Z"
   },
   {
    "duration": 646,
    "start_time": "2022-07-22T13:22:27.022Z"
   },
   {
    "duration": 946,
    "start_time": "2022-07-22T13:23:05.093Z"
   },
   {
    "duration": 1002,
    "start_time": "2022-07-22T13:23:21.060Z"
   },
   {
    "duration": 900,
    "start_time": "2022-07-22T13:24:02.363Z"
   },
   {
    "duration": 865,
    "start_time": "2022-07-22T13:24:14.164Z"
   },
   {
    "duration": 994,
    "start_time": "2022-07-22T13:24:27.109Z"
   },
   {
    "duration": 650,
    "start_time": "2022-07-22T13:24:40.901Z"
   },
   {
    "duration": 1504,
    "start_time": "2022-07-27T12:37:56.526Z"
   },
   {
    "duration": 1232,
    "start_time": "2022-07-27T12:38:02.278Z"
   },
   {
    "duration": 72,
    "start_time": "2022-07-27T12:38:05.862Z"
   },
   {
    "duration": 67,
    "start_time": "2022-07-27T12:40:54.518Z"
   },
   {
    "duration": 720,
    "start_time": "2022-07-27T12:41:10.450Z"
   },
   {
    "duration": 72,
    "start_time": "2022-07-27T12:41:12.346Z"
   },
   {
    "duration": 37,
    "start_time": "2022-07-27T12:41:17.707Z"
   },
   {
    "duration": 28,
    "start_time": "2022-07-27T12:41:18.860Z"
   },
   {
    "duration": 24,
    "start_time": "2022-07-27T12:41:19.844Z"
   },
   {
    "duration": 15,
    "start_time": "2022-07-27T12:41:20.721Z"
   },
   {
    "duration": 72,
    "start_time": "2022-07-27T12:41:24.530Z"
   },
   {
    "duration": 83,
    "start_time": "2022-07-27T12:41:26.570Z"
   },
   {
    "duration": 1214,
    "start_time": "2022-07-27T12:51:13.549Z"
   },
   {
    "duration": 1098,
    "start_time": "2022-07-27T12:51:14.765Z"
   },
   {
    "duration": 81,
    "start_time": "2022-07-27T12:51:15.865Z"
   },
   {
    "duration": 38,
    "start_time": "2022-07-27T12:51:15.948Z"
   },
   {
    "duration": 44,
    "start_time": "2022-07-27T12:51:15.988Z"
   },
   {
    "duration": 24,
    "start_time": "2022-07-27T12:51:16.034Z"
   },
   {
    "duration": 12,
    "start_time": "2022-07-27T12:51:16.060Z"
   },
   {
    "duration": 112,
    "start_time": "2022-07-27T12:51:16.074Z"
   },
   {
    "duration": 85,
    "start_time": "2022-07-27T12:51:16.188Z"
   },
   {
    "duration": 258,
    "start_time": "2022-07-27T12:51:16.275Z"
   },
   {
    "duration": 79,
    "start_time": "2022-07-27T12:51:16.537Z"
   },
   {
    "duration": 65,
    "start_time": "2022-07-27T12:51:16.618Z"
   },
   {
    "duration": 167,
    "start_time": "2022-07-27T12:51:16.685Z"
   },
   {
    "duration": 482,
    "start_time": "2022-07-27T12:51:16.855Z"
   },
   {
    "duration": 631,
    "start_time": "2022-07-27T12:51:17.339Z"
   },
   {
    "duration": 45,
    "start_time": "2022-07-27T12:51:17.972Z"
   },
   {
    "duration": 702,
    "start_time": "2022-07-27T12:51:18.025Z"
   },
   {
    "duration": 12,
    "start_time": "2022-07-27T12:51:18.729Z"
   },
   {
    "duration": 841,
    "start_time": "2022-07-27T12:51:18.744Z"
   },
   {
    "duration": 749,
    "start_time": "2022-07-27T12:51:19.587Z"
   },
   {
    "duration": 827,
    "start_time": "2022-07-27T12:51:20.338Z"
   },
   {
    "duration": 14,
    "start_time": "2022-07-27T12:51:21.168Z"
   },
   {
    "duration": 89,
    "start_time": "2022-07-27T12:51:23.946Z"
   },
   {
    "duration": 108,
    "start_time": "2022-07-27T12:51:35.427Z"
   },
   {
    "duration": 83,
    "start_time": "2022-07-27T12:51:39.931Z"
   },
   {
    "duration": 75,
    "start_time": "2022-07-27T12:51:53.971Z"
   },
   {
    "duration": 186,
    "start_time": "2022-07-27T12:53:55.542Z"
   },
   {
    "duration": 166,
    "start_time": "2022-07-27T12:54:03.319Z"
   },
   {
    "duration": 23,
    "start_time": "2022-07-27T12:54:05.334Z"
   },
   {
    "duration": 494,
    "start_time": "2022-07-27T12:54:09.998Z"
   },
   {
    "duration": 179,
    "start_time": "2022-07-27T12:54:50.618Z"
   },
   {
    "duration": 176,
    "start_time": "2022-07-27T12:54:57.908Z"
   },
   {
    "duration": 6,
    "start_time": "2022-07-27T12:56:09.354Z"
   },
   {
    "duration": 58,
    "start_time": "2022-07-27T17:01:28.962Z"
   },
   {
    "duration": 1189,
    "start_time": "2022-07-27T17:01:36.389Z"
   },
   {
    "duration": 816,
    "start_time": "2022-07-27T17:01:37.580Z"
   },
   {
    "duration": 53,
    "start_time": "2022-07-27T17:01:38.398Z"
   },
   {
    "duration": 31,
    "start_time": "2022-07-27T17:01:38.453Z"
   },
   {
    "duration": 20,
    "start_time": "2022-07-27T17:01:38.486Z"
   },
   {
    "duration": 34,
    "start_time": "2022-07-27T17:01:38.507Z"
   },
   {
    "duration": 10,
    "start_time": "2022-07-27T17:01:38.542Z"
   },
   {
    "duration": 82,
    "start_time": "2022-07-27T17:01:38.553Z"
   },
   {
    "duration": 46,
    "start_time": "2022-07-27T17:01:38.637Z"
   },
   {
    "duration": 241,
    "start_time": "2022-07-27T17:01:41.592Z"
   },
   {
    "duration": 159,
    "start_time": "2022-07-27T17:04:23.957Z"
   },
   {
    "duration": 179,
    "start_time": "2022-07-27T17:04:42.280Z"
   },
   {
    "duration": 145,
    "start_time": "2022-07-27T17:05:00.492Z"
   },
   {
    "duration": 170,
    "start_time": "2022-07-27T17:07:45.231Z"
   },
   {
    "duration": 181,
    "start_time": "2022-07-27T17:08:05.874Z"
   },
   {
    "duration": 168,
    "start_time": "2022-07-27T17:09:04.994Z"
   },
   {
    "duration": 169,
    "start_time": "2022-07-27T17:10:07.957Z"
   },
   {
    "duration": 117,
    "start_time": "2022-07-27T17:10:31.777Z"
   },
   {
    "duration": 220,
    "start_time": "2022-07-27T17:10:40.357Z"
   },
   {
    "duration": 163,
    "start_time": "2022-07-27T17:10:41.238Z"
   },
   {
    "duration": 202,
    "start_time": "2022-07-27T17:11:30.558Z"
   },
   {
    "duration": 210,
    "start_time": "2022-07-27T17:11:49.206Z"
   },
   {
    "duration": 201,
    "start_time": "2022-07-27T17:12:27.278Z"
   },
   {
    "duration": 199,
    "start_time": "2022-07-27T17:12:32.537Z"
   },
   {
    "duration": 158,
    "start_time": "2022-07-27T17:15:53.978Z"
   },
   {
    "duration": 3,
    "start_time": "2022-07-27T17:41:14.929Z"
   },
   {
    "duration": 647,
    "start_time": "2022-07-27T17:41:14.934Z"
   },
   {
    "duration": 57,
    "start_time": "2022-07-27T17:41:15.583Z"
   },
   {
    "duration": 31,
    "start_time": "2022-07-27T17:41:15.641Z"
   },
   {
    "duration": 21,
    "start_time": "2022-07-27T17:41:15.674Z"
   },
   {
    "duration": 35,
    "start_time": "2022-07-27T17:41:15.697Z"
   },
   {
    "duration": 12,
    "start_time": "2022-07-27T17:41:15.733Z"
   },
   {
    "duration": 71,
    "start_time": "2022-07-27T17:41:15.747Z"
   },
   {
    "duration": 65,
    "start_time": "2022-07-27T17:41:15.820Z"
   },
   {
    "duration": 184,
    "start_time": "2022-07-27T17:41:15.887Z"
   },
   {
    "duration": 37,
    "start_time": "2022-07-27T17:41:16.073Z"
   },
   {
    "duration": 48,
    "start_time": "2022-07-27T17:41:16.112Z"
   },
   {
    "duration": 119,
    "start_time": "2022-07-27T17:41:16.162Z"
   },
   {
    "duration": 350,
    "start_time": "2022-07-27T17:41:16.283Z"
   },
   {
    "duration": 506,
    "start_time": "2022-07-27T17:41:16.635Z"
   },
   {
    "duration": 25,
    "start_time": "2022-07-27T17:41:17.143Z"
   },
   {
    "duration": 535,
    "start_time": "2022-07-27T17:41:17.170Z"
   },
   {
    "duration": 9,
    "start_time": "2022-07-27T17:41:17.706Z"
   },
   {
    "duration": 602,
    "start_time": "2022-07-27T17:41:22.308Z"
   },
   {
    "duration": 697,
    "start_time": "2022-07-27T17:41:47.265Z"
   },
   {
    "duration": 663,
    "start_time": "2022-07-27T17:41:58.261Z"
   },
   {
    "duration": 13,
    "start_time": "2022-07-27T17:51:58.190Z"
   },
   {
    "duration": 4,
    "start_time": "2022-07-27T17:52:01.275Z"
   },
   {
    "duration": 887,
    "start_time": "2022-07-27T17:52:01.281Z"
   },
   {
    "duration": 54,
    "start_time": "2022-07-27T17:52:02.170Z"
   },
   {
    "duration": 30,
    "start_time": "2022-07-27T17:52:02.225Z"
   },
   {
    "duration": 21,
    "start_time": "2022-07-27T17:52:02.257Z"
   },
   {
    "duration": 27,
    "start_time": "2022-07-27T17:52:02.280Z"
   },
   {
    "duration": 22,
    "start_time": "2022-07-27T17:52:02.309Z"
   },
   {
    "duration": 56,
    "start_time": "2022-07-27T17:52:02.333Z"
   },
   {
    "duration": 68,
    "start_time": "2022-07-27T17:52:02.390Z"
   },
   {
    "duration": 179,
    "start_time": "2022-07-27T17:52:02.459Z"
   },
   {
    "duration": 35,
    "start_time": "2022-07-27T17:52:02.640Z"
   },
   {
    "duration": 33,
    "start_time": "2022-07-27T17:52:02.677Z"
   },
   {
    "duration": 127,
    "start_time": "2022-07-27T17:52:02.711Z"
   },
   {
    "duration": 369,
    "start_time": "2022-07-27T17:52:02.839Z"
   },
   {
    "duration": 424,
    "start_time": "2022-07-27T17:52:03.209Z"
   },
   {
    "duration": 31,
    "start_time": "2022-07-27T17:52:03.636Z"
   },
   {
    "duration": 517,
    "start_time": "2022-07-27T17:52:03.669Z"
   },
   {
    "duration": 14,
    "start_time": "2022-07-27T17:52:04.188Z"
   },
   {
    "duration": 621,
    "start_time": "2022-07-27T17:52:04.204Z"
   },
   {
    "duration": 530,
    "start_time": "2022-07-27T17:52:04.832Z"
   },
   {
    "duration": 687,
    "start_time": "2022-07-27T17:52:05.364Z"
   },
   {
    "duration": 11,
    "start_time": "2022-07-27T17:52:06.053Z"
   },
   {
    "duration": 166,
    "start_time": "2022-07-27T17:52:06.065Z"
   },
   {
    "duration": 15,
    "start_time": "2022-07-27T17:52:06.232Z"
   },
   {
    "duration": 388,
    "start_time": "2022-07-27T17:52:07.355Z"
   },
   {
    "duration": 325,
    "start_time": "2022-07-27T17:52:42.534Z"
   },
   {
    "duration": 298,
    "start_time": "2022-07-27T17:54:01.401Z"
   },
   {
    "duration": 320,
    "start_time": "2022-07-27T17:54:06.882Z"
   },
   {
    "duration": 326,
    "start_time": "2022-07-27T17:54:17.458Z"
   },
   {
    "duration": 317,
    "start_time": "2022-07-27T17:54:20.409Z"
   },
   {
    "duration": 338,
    "start_time": "2022-07-27T17:54:28.824Z"
   },
   {
    "duration": 313,
    "start_time": "2022-07-27T17:54:31.869Z"
   },
   {
    "duration": 373,
    "start_time": "2022-07-27T17:54:34.555Z"
   },
   {
    "duration": 310,
    "start_time": "2022-07-27T17:54:38.005Z"
   },
   {
    "duration": 317,
    "start_time": "2022-07-27T17:54:42.255Z"
   },
   {
    "duration": 304,
    "start_time": "2022-07-27T17:54:45.556Z"
   },
   {
    "duration": 318,
    "start_time": "2022-07-27T17:54:49.056Z"
   },
   {
    "duration": 307,
    "start_time": "2022-07-27T17:54:51.988Z"
   },
   {
    "duration": 332,
    "start_time": "2022-07-27T17:54:54.927Z"
   },
   {
    "duration": 334,
    "start_time": "2022-07-27T17:55:01.184Z"
   },
   {
    "duration": 418,
    "start_time": "2022-07-27T17:55:19.829Z"
   },
   {
    "duration": 336,
    "start_time": "2022-07-27T17:55:24.976Z"
   },
   {
    "duration": 330,
    "start_time": "2022-07-27T17:55:30.941Z"
   },
   {
    "duration": 468,
    "start_time": "2022-07-27T17:55:34.956Z"
   },
   {
    "duration": 342,
    "start_time": "2022-07-27T17:55:37.867Z"
   },
   {
    "duration": 398,
    "start_time": "2022-07-27T17:55:42.092Z"
   },
   {
    "duration": 350,
    "start_time": "2022-07-27T17:55:44.728Z"
   },
   {
    "duration": 333,
    "start_time": "2022-07-27T17:55:49.229Z"
   },
   {
    "duration": 309,
    "start_time": "2022-07-27T17:55:51.836Z"
   },
   {
    "duration": 346,
    "start_time": "2022-07-27T17:55:53.955Z"
   },
   {
    "duration": 332,
    "start_time": "2022-07-27T17:55:55.729Z"
   },
   {
    "duration": 302,
    "start_time": "2022-07-27T17:56:18.696Z"
   },
   {
    "duration": 303,
    "start_time": "2022-07-27T17:57:00.471Z"
   },
   {
    "duration": 1261,
    "start_time": "2022-08-01T17:53:13.313Z"
   },
   {
    "duration": 1138,
    "start_time": "2022-08-01T17:53:14.576Z"
   },
   {
    "duration": 67,
    "start_time": "2022-08-01T17:53:15.716Z"
   },
   {
    "duration": 44,
    "start_time": "2022-08-01T17:53:15.785Z"
   },
   {
    "duration": 27,
    "start_time": "2022-08-01T17:53:15.830Z"
   },
   {
    "duration": 45,
    "start_time": "2022-08-01T17:53:15.859Z"
   },
   {
    "duration": 13,
    "start_time": "2022-08-01T17:53:15.906Z"
   },
   {
    "duration": 91,
    "start_time": "2022-08-01T17:53:15.921Z"
   },
   {
    "duration": 66,
    "start_time": "2022-08-01T17:53:16.014Z"
   },
   {
    "duration": 227,
    "start_time": "2022-08-01T17:53:16.083Z"
   },
   {
    "duration": 50,
    "start_time": "2022-08-01T17:53:16.311Z"
   },
   {
    "duration": 71,
    "start_time": "2022-08-01T17:53:16.363Z"
   },
   {
    "duration": 160,
    "start_time": "2022-08-01T17:53:16.436Z"
   },
   {
    "duration": 524,
    "start_time": "2022-08-01T17:53:16.603Z"
   },
   {
    "duration": 576,
    "start_time": "2022-08-01T17:53:17.129Z"
   },
   {
    "duration": 32,
    "start_time": "2022-08-01T17:53:17.707Z"
   },
   {
    "duration": 663,
    "start_time": "2022-08-01T17:53:17.741Z"
   },
   {
    "duration": 11,
    "start_time": "2022-08-01T17:53:18.406Z"
   },
   {
    "duration": 103,
    "start_time": "2022-08-01T17:53:21.413Z"
   },
   {
    "duration": 818,
    "start_time": "2022-08-01T17:53:26.558Z"
   },
   {
    "duration": 732,
    "start_time": "2022-08-01T17:53:32.430Z"
   },
   {
    "duration": 728,
    "start_time": "2022-08-01T17:53:38.121Z"
   }
  ],
  "kernelspec": {
   "display_name": "Python 3 (ipykernel)",
   "language": "python",
   "name": "python3"
  },
  "language_info": {
   "codemirror_mode": {
    "name": "ipython",
    "version": 3
   },
   "file_extension": ".py",
   "mimetype": "text/x-python",
   "name": "python",
   "nbconvert_exporter": "python",
   "pygments_lexer": "ipython3",
   "version": "3.9.7"
  },
  "toc": {
   "base_numbering": 1,
   "nav_menu": {},
   "number_sections": true,
   "sideBar": true,
   "skip_h1_title": true,
   "title_cell": "Table of Contents",
   "title_sidebar": "Contents",
   "toc_cell": false,
   "toc_position": {
    "height": "calc(100% - 180px)",
    "left": "10px",
    "top": "150px",
    "width": "278.391px"
   },
   "toc_section_display": true,
   "toc_window_display": true
  }
 },
 "nbformat": 4,
 "nbformat_minor": 2
}
