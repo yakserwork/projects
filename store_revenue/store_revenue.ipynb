{
 "cells": [
  {
   "cell_type": "markdown",
   "metadata": {},
   "source": [
    "# Исследование решений по увеличению выручки интернет-магазина\n",
    "\n",
    "Отдел маркетинга крупного интернет-магазина подготовил список гипотез для увеличения выручки.\n",
    "\n",
    "**Цель исследования**\n",
    "\n",
    "Приоритизировать гипотезы, запустить A/B-тест и проанализировать результаты.\n",
    "\n",
    "**Описание данных**\n",
    "\n",
    "У нас в распоряжении есть файл с 9 гипотезами по увеличению выручки и 2 файла с результатами A/B теста.\n",
    "\n",
    "Таблица `/datasets/hypothesis.csv`:\n",
    "\n",
    "    Hypothesis — краткое описание гипотезы;\n",
    "    Reach — охват пользователей по 10-балльной шкале;\n",
    "    Impact — влияние на пользователей по 10-балльной шкале;\n",
    "    Confidence — уверенность в гипотезе по 10-балльной шкале;\n",
    "    Efforts — затраты ресурсов на проверку гипотезы по 10-балльной шкале. Чем больше значение, тем дороже проверка гипотезы.\n",
    "\n",
    "Таблица `/datasets/orders.csv`:\n",
    "\n",
    "    transactionId — идентификатор заказа;\n",
    "    visitorId — идентификатор пользователя, совершившего заказ;\n",
    "    date — дата, когда был совершён заказ;\n",
    "    revenue — выручка заказа;\n",
    "    group — группа A/B-теста, в которую попал заказ.\n",
    "\n",
    "Таблица `/datasets/visitors.csv`:\n",
    "\n",
    "    date — дата;\n",
    "    group — группа A/B-теста;\n",
    "    visitors — количество пользователей в указанную дату в указанной группе A/B-теста\n",
    "\n",
    "**Ход исследования:**\n",
    "\n",
    "1. Обзор данных и подготовка.\n",
    "2. Приоритизация гипотез.\n",
    "3. Анализ A/B-теста.\n",
    "4. Общий вывод."
   ]
  },
  {
   "cell_type": "markdown",
   "metadata": {},
   "source": [
    "## Обзор данных и подготовка"
   ]
  },
  {
   "cell_type": "markdown",
   "metadata": {},
   "source": [
    "### Импорт библиотек\n",
    "\n",
    "В первую очередь импортируем необходимые для исследования библиотеки."
   ]
  },
  {
   "cell_type": "code",
   "execution_count": 1,
   "metadata": {},
   "outputs": [],
   "source": [
    "import numpy as np # импорт библиотеки numpy\n",
    "import pandas as pd # импорт библиотеки pandas\n",
    "import matplotlib.pyplot as plt # импорт библиотеки matplotlib\n",
    "import datetime as dt # импорт библиотеки datetime\n",
    "import scipy.stats as st # импорт библиотеки scipy\n",
    "\n",
    "pd.set_option('display.max_colwidth', None) # сброс ограничения на количество символов в записи"
   ]
  },
  {
   "cell_type": "markdown",
   "metadata": {},
   "source": [
    "### Изучение данных из файла\n",
    "\n",
    "Сохраним данные о гипотезах и результатах A/B-теста в переменные. Выведем таблицы на экран для ознакомления с содержимым."
   ]
  },
  {
   "cell_type": "code",
   "execution_count": 2,
   "metadata": {},
   "outputs": [
    {
     "data": {
      "text/html": [
       "<div>\n",
       "<style scoped>\n",
       "    .dataframe tbody tr th:only-of-type {\n",
       "        vertical-align: middle;\n",
       "    }\n",
       "\n",
       "    .dataframe tbody tr th {\n",
       "        vertical-align: top;\n",
       "    }\n",
       "\n",
       "    .dataframe thead th {\n",
       "        text-align: right;\n",
       "    }\n",
       "</style>\n",
       "<table border=\"1\" class=\"dataframe\">\n",
       "  <thead>\n",
       "    <tr style=\"text-align: right;\">\n",
       "      <th></th>\n",
       "      <th>Hypothesis</th>\n",
       "      <th>Reach</th>\n",
       "      <th>Impact</th>\n",
       "      <th>Confidence</th>\n",
       "      <th>Efforts</th>\n",
       "    </tr>\n",
       "  </thead>\n",
       "  <tbody>\n",
       "    <tr>\n",
       "      <th>0</th>\n",
       "      <td>Добавить два новых канала привлечения трафика, что позволит привлекать на 30% больше пользователей</td>\n",
       "      <td>3</td>\n",
       "      <td>10</td>\n",
       "      <td>8</td>\n",
       "      <td>6</td>\n",
       "    </tr>\n",
       "    <tr>\n",
       "      <th>1</th>\n",
       "      <td>Запустить собственную службу доставки, что сократит срок доставки заказов</td>\n",
       "      <td>2</td>\n",
       "      <td>5</td>\n",
       "      <td>4</td>\n",
       "      <td>10</td>\n",
       "    </tr>\n",
       "    <tr>\n",
       "      <th>2</th>\n",
       "      <td>Добавить блоки рекомендаций товаров на сайт интернет магазина, чтобы повысить конверсию и средний чек заказа</td>\n",
       "      <td>8</td>\n",
       "      <td>3</td>\n",
       "      <td>7</td>\n",
       "      <td>3</td>\n",
       "    </tr>\n",
       "    <tr>\n",
       "      <th>3</th>\n",
       "      <td>Изменить структура категорий, что увеличит конверсию, т.к. пользователи быстрее найдут нужный товар</td>\n",
       "      <td>8</td>\n",
       "      <td>3</td>\n",
       "      <td>3</td>\n",
       "      <td>8</td>\n",
       "    </tr>\n",
       "    <tr>\n",
       "      <th>4</th>\n",
       "      <td>Изменить цвет фона главной страницы, чтобы увеличить вовлеченность пользователей</td>\n",
       "      <td>3</td>\n",
       "      <td>1</td>\n",
       "      <td>1</td>\n",
       "      <td>1</td>\n",
       "    </tr>\n",
       "    <tr>\n",
       "      <th>5</th>\n",
       "      <td>Добавить страницу отзывов клиентов о магазине, что позволит увеличить количество заказов</td>\n",
       "      <td>3</td>\n",
       "      <td>2</td>\n",
       "      <td>2</td>\n",
       "      <td>3</td>\n",
       "    </tr>\n",
       "    <tr>\n",
       "      <th>6</th>\n",
       "      <td>Показать на главной странице баннеры с актуальными акциями и распродажами, чтобы увеличить конверсию</td>\n",
       "      <td>5</td>\n",
       "      <td>3</td>\n",
       "      <td>8</td>\n",
       "      <td>3</td>\n",
       "    </tr>\n",
       "    <tr>\n",
       "      <th>7</th>\n",
       "      <td>Добавить форму подписки на все основные страницы, чтобы собрать базу клиентов для email-рассылок</td>\n",
       "      <td>10</td>\n",
       "      <td>7</td>\n",
       "      <td>8</td>\n",
       "      <td>5</td>\n",
       "    </tr>\n",
       "    <tr>\n",
       "      <th>8</th>\n",
       "      <td>Запустить акцию, дающую скидку на товар в день рождения</td>\n",
       "      <td>1</td>\n",
       "      <td>9</td>\n",
       "      <td>9</td>\n",
       "      <td>5</td>\n",
       "    </tr>\n",
       "  </tbody>\n",
       "</table>\n",
       "</div>"
      ],
      "text/plain": [
       "                                                                                                     Hypothesis  \\\n",
       "0            Добавить два новых канала привлечения трафика, что позволит привлекать на 30% больше пользователей   \n",
       "1                                     Запустить собственную службу доставки, что сократит срок доставки заказов   \n",
       "2  Добавить блоки рекомендаций товаров на сайт интернет магазина, чтобы повысить конверсию и средний чек заказа   \n",
       "3           Изменить структура категорий, что увеличит конверсию, т.к. пользователи быстрее найдут нужный товар   \n",
       "4                              Изменить цвет фона главной страницы, чтобы увеличить вовлеченность пользователей   \n",
       "5                      Добавить страницу отзывов клиентов о магазине, что позволит увеличить количество заказов   \n",
       "6          Показать на главной странице баннеры с актуальными акциями и распродажами, чтобы увеличить конверсию   \n",
       "7              Добавить форму подписки на все основные страницы, чтобы собрать базу клиентов для email-рассылок   \n",
       "8                                                       Запустить акцию, дающую скидку на товар в день рождения   \n",
       "\n",
       "   Reach  Impact  Confidence  Efforts  \n",
       "0      3      10           8        6  \n",
       "1      2       5           4       10  \n",
       "2      8       3           7        3  \n",
       "3      8       3           3        8  \n",
       "4      3       1           1        1  \n",
       "5      3       2           2        3  \n",
       "6      5       3           8        3  \n",
       "7     10       7           8        5  \n",
       "8      1       9           9        5  "
      ]
     },
     "metadata": {},
     "output_type": "display_data"
    },
    {
     "data": {
      "text/html": [
       "<div>\n",
       "<style scoped>\n",
       "    .dataframe tbody tr th:only-of-type {\n",
       "        vertical-align: middle;\n",
       "    }\n",
       "\n",
       "    .dataframe tbody tr th {\n",
       "        vertical-align: top;\n",
       "    }\n",
       "\n",
       "    .dataframe thead th {\n",
       "        text-align: right;\n",
       "    }\n",
       "</style>\n",
       "<table border=\"1\" class=\"dataframe\">\n",
       "  <thead>\n",
       "    <tr style=\"text-align: right;\">\n",
       "      <th></th>\n",
       "      <th>transactionId</th>\n",
       "      <th>visitorId</th>\n",
       "      <th>date</th>\n",
       "      <th>revenue</th>\n",
       "      <th>group</th>\n",
       "    </tr>\n",
       "  </thead>\n",
       "  <tbody>\n",
       "    <tr>\n",
       "      <th>0</th>\n",
       "      <td>3667963787</td>\n",
       "      <td>3312258926</td>\n",
       "      <td>2019-08-15</td>\n",
       "      <td>1650</td>\n",
       "      <td>B</td>\n",
       "    </tr>\n",
       "    <tr>\n",
       "      <th>1</th>\n",
       "      <td>2804400009</td>\n",
       "      <td>3642806036</td>\n",
       "      <td>2019-08-15</td>\n",
       "      <td>730</td>\n",
       "      <td>B</td>\n",
       "    </tr>\n",
       "    <tr>\n",
       "      <th>2</th>\n",
       "      <td>2961555356</td>\n",
       "      <td>4069496402</td>\n",
       "      <td>2019-08-15</td>\n",
       "      <td>400</td>\n",
       "      <td>A</td>\n",
       "    </tr>\n",
       "    <tr>\n",
       "      <th>3</th>\n",
       "      <td>3797467345</td>\n",
       "      <td>1196621759</td>\n",
       "      <td>2019-08-15</td>\n",
       "      <td>9759</td>\n",
       "      <td>B</td>\n",
       "    </tr>\n",
       "    <tr>\n",
       "      <th>4</th>\n",
       "      <td>2282983706</td>\n",
       "      <td>2322279887</td>\n",
       "      <td>2019-08-15</td>\n",
       "      <td>2308</td>\n",
       "      <td>B</td>\n",
       "    </tr>\n",
       "  </tbody>\n",
       "</table>\n",
       "</div>"
      ],
      "text/plain": [
       "   transactionId   visitorId        date  revenue group\n",
       "0     3667963787  3312258926  2019-08-15     1650     B\n",
       "1     2804400009  3642806036  2019-08-15      730     B\n",
       "2     2961555356  4069496402  2019-08-15      400     A\n",
       "3     3797467345  1196621759  2019-08-15     9759     B\n",
       "4     2282983706  2322279887  2019-08-15     2308     B"
      ]
     },
     "metadata": {},
     "output_type": "display_data"
    },
    {
     "data": {
      "text/html": [
       "<div>\n",
       "<style scoped>\n",
       "    .dataframe tbody tr th:only-of-type {\n",
       "        vertical-align: middle;\n",
       "    }\n",
       "\n",
       "    .dataframe tbody tr th {\n",
       "        vertical-align: top;\n",
       "    }\n",
       "\n",
       "    .dataframe thead th {\n",
       "        text-align: right;\n",
       "    }\n",
       "</style>\n",
       "<table border=\"1\" class=\"dataframe\">\n",
       "  <thead>\n",
       "    <tr style=\"text-align: right;\">\n",
       "      <th></th>\n",
       "      <th>date</th>\n",
       "      <th>group</th>\n",
       "      <th>visitors</th>\n",
       "    </tr>\n",
       "  </thead>\n",
       "  <tbody>\n",
       "    <tr>\n",
       "      <th>0</th>\n",
       "      <td>2019-08-01</td>\n",
       "      <td>A</td>\n",
       "      <td>719</td>\n",
       "    </tr>\n",
       "    <tr>\n",
       "      <th>1</th>\n",
       "      <td>2019-08-02</td>\n",
       "      <td>A</td>\n",
       "      <td>619</td>\n",
       "    </tr>\n",
       "    <tr>\n",
       "      <th>2</th>\n",
       "      <td>2019-08-03</td>\n",
       "      <td>A</td>\n",
       "      <td>507</td>\n",
       "    </tr>\n",
       "    <tr>\n",
       "      <th>3</th>\n",
       "      <td>2019-08-04</td>\n",
       "      <td>A</td>\n",
       "      <td>717</td>\n",
       "    </tr>\n",
       "    <tr>\n",
       "      <th>4</th>\n",
       "      <td>2019-08-05</td>\n",
       "      <td>A</td>\n",
       "      <td>756</td>\n",
       "    </tr>\n",
       "  </tbody>\n",
       "</table>\n",
       "</div>"
      ],
      "text/plain": [
       "         date group  visitors\n",
       "0  2019-08-01     A       719\n",
       "1  2019-08-02     A       619\n",
       "2  2019-08-03     A       507\n",
       "3  2019-08-04     A       717\n",
       "4  2019-08-05     A       756"
      ]
     },
     "metadata": {},
     "output_type": "display_data"
    }
   ],
   "source": [
    "hypothesis = pd.read_csv('/datasets/hypothesis.csv') # сохранение\n",
    "orders = pd.read_csv('/datasets/orders.csv')         # таблиц \n",
    "visitors = pd.read_csv('/datasets/visitors.csv')     # в переменные\n",
    "\n",
    "display(hypothesis, orders.head(5), visitors.head(5)) # вывод на экран"
   ]
  },
  {
   "cell_type": "markdown",
   "metadata": {},
   "source": [
    "Исправим нарушения стиля в названиях столбцов таблиц `hypothesis` и `orders`. Приведем их к нижнему змеиному регистру, проверим результат."
   ]
  },
  {
   "cell_type": "code",
   "execution_count": 3,
   "metadata": {},
   "outputs": [
    {
     "name": "stdout",
     "output_type": "stream",
     "text": [
      "<class 'pandas.core.frame.DataFrame'>\n",
      "RangeIndex: 9 entries, 0 to 8\n",
      "Data columns (total 5 columns):\n",
      " #   Column      Non-Null Count  Dtype \n",
      "---  ------      --------------  ----- \n",
      " 0   hypothesis  9 non-null      object\n",
      " 1   reach       9 non-null      int64 \n",
      " 2   impact      9 non-null      int64 \n",
      " 3   confidence  9 non-null      int64 \n",
      " 4   efforts     9 non-null      int64 \n",
      "dtypes: int64(4), object(1)\n",
      "memory usage: 488.0+ bytes\n",
      "\n",
      "<class 'pandas.core.frame.DataFrame'>\n",
      "RangeIndex: 1197 entries, 0 to 1196\n",
      "Data columns (total 5 columns):\n",
      " #   Column          Non-Null Count  Dtype \n",
      "---  ------          --------------  ----- \n",
      " 0   transaction_id  1197 non-null   int64 \n",
      " 1   visitor_id      1197 non-null   int64 \n",
      " 2   date            1197 non-null   object\n",
      " 3   revenue         1197 non-null   int64 \n",
      " 4   group           1197 non-null   object\n",
      "dtypes: int64(3), object(2)\n",
      "memory usage: 46.9+ KB\n",
      "\n",
      "<class 'pandas.core.frame.DataFrame'>\n",
      "RangeIndex: 62 entries, 0 to 61\n",
      "Data columns (total 3 columns):\n",
      " #   Column    Non-Null Count  Dtype \n",
      "---  ------    --------------  ----- \n",
      " 0   date      62 non-null     object\n",
      " 1   group     62 non-null     object\n",
      " 2   visitors  62 non-null     int64 \n",
      "dtypes: int64(1), object(2)\n",
      "memory usage: 1.6+ KB\n",
      "\n"
     ]
    }
   ],
   "source": [
    "hypothesis.columns = hypothesis.columns.str.lower() # приведение названий столбцов к нижнему регистру\n",
    "orders = orders.rename(columns={'transactionId': 'transaction_id', 'visitorId': 'visitor_id'}) # переименование столбцов\n",
    "\n",
    "for df in (hypothesis, orders, visitors): # цикл для вывода на экран информации о таблицах\n",
    "    df.info()\n",
    "    print()"
   ]
  },
  {
   "cell_type": "markdown",
   "metadata": {},
   "source": [
    "Столбец `date` в таблицах `orders` и `visitors` имеет строковый тип. Переведем данные в ячейках в тип даты и проверим результат."
   ]
  },
  {
   "cell_type": "code",
   "execution_count": 4,
   "metadata": {},
   "outputs": [
    {
     "name": "stdout",
     "output_type": "stream",
     "text": [
      "<class 'pandas.core.frame.DataFrame'>\n",
      "RangeIndex: 1197 entries, 0 to 1196\n",
      "Data columns (total 5 columns):\n",
      " #   Column          Non-Null Count  Dtype         \n",
      "---  ------          --------------  -----         \n",
      " 0   transaction_id  1197 non-null   int64         \n",
      " 1   visitor_id      1197 non-null   int64         \n",
      " 2   date            1197 non-null   datetime64[ns]\n",
      " 3   revenue         1197 non-null   int64         \n",
      " 4   group           1197 non-null   object        \n",
      "dtypes: datetime64[ns](1), int64(3), object(1)\n",
      "memory usage: 46.9+ KB\n",
      "\n",
      "<class 'pandas.core.frame.DataFrame'>\n",
      "RangeIndex: 62 entries, 0 to 61\n",
      "Data columns (total 3 columns):\n",
      " #   Column    Non-Null Count  Dtype         \n",
      "---  ------    --------------  -----         \n",
      " 0   date      62 non-null     datetime64[ns]\n",
      " 1   group     62 non-null     object        \n",
      " 2   visitors  62 non-null     int64         \n",
      "dtypes: datetime64[ns](1), int64(1), object(1)\n",
      "memory usage: 1.6+ KB\n",
      "\n"
     ]
    }
   ],
   "source": [
    "for df in (orders, visitors): # цикл для приведения строки к формату даты\n",
    "    df['date'] = df['date'].map(lambda x: dt.datetime.strptime(x, '%Y-%m-%d'))\n",
    "    df.info()\n",
    "    print()"
   ]
  },
  {
   "cell_type": "markdown",
   "metadata": {},
   "source": [
    "Сейчас все данные в ячейках соответствуют типам данных в столбцах. Пропусков нет, проверим наличие явных дубликатов в таблицах."
   ]
  },
  {
   "cell_type": "code",
   "execution_count": 5,
   "metadata": {},
   "outputs": [
    {
     "name": "stdout",
     "output_type": "stream",
     "text": [
      "Дубликатов в таблице hypothesis: 0\n",
      "Дубликатов в таблице orders: 0\n",
      "Дубликатов в таблице visitors: 0\n"
     ]
    }
   ],
   "source": [
    "for name, df in zip(['hypothesis', 'orders', 'visitors'], [hypothesis, orders, visitors]):\n",
    "    print(f'Дубликатов в таблице {name}: {df.duplicated().sum()}') # цикл для проверки таблиц на дубликаты"
   ]
  },
  {
   "cell_type": "markdown",
   "metadata": {},
   "source": [
    "### Вывод\n",
    "\n",
    "Мы привели назавния столбцов к единому стилю, поменяли тип данных в ячейках и проверили таблицы на наличие явных дубликатов."
   ]
  },
  {
   "cell_type": "markdown",
   "metadata": {},
   "source": [
    "## Приоритизация гипотез\n",
    "\n",
    "На этом этапе мы рассчитаем приоритет гипотез методами ICE и RICE, а также сравним результаты."
   ]
  },
  {
   "cell_type": "markdown",
   "metadata": {},
   "source": [
    "### Фреймворк ICE"
   ]
  },
  {
   "cell_type": "markdown",
   "metadata": {},
   "source": [
    "Применим фреймворк ICE для приоритизации гипотез. \n",
    "\n",
    "Формула расчета: **ICE = Impact * Confidence / Efforts**\n",
    "\n",
    "    где:\n",
    "    \n",
    "    Impact — сила влияния изменений на пользователей, их опыт и удовлетворенность продуктом\n",
    "    Confidence — уверенность в определенном влиянии изменений на пользователей\n",
    "    Efforts — сколько стоит протестировать эту гипотезу\n",
    "\n",
    "Отсортируем гипотезы по убыванию приоритета."
   ]
  },
  {
   "cell_type": "code",
   "execution_count": 6,
   "metadata": {},
   "outputs": [
    {
     "data": {
      "text/html": [
       "<div>\n",
       "<style scoped>\n",
       "    .dataframe tbody tr th:only-of-type {\n",
       "        vertical-align: middle;\n",
       "    }\n",
       "\n",
       "    .dataframe tbody tr th {\n",
       "        vertical-align: top;\n",
       "    }\n",
       "\n",
       "    .dataframe thead th {\n",
       "        text-align: right;\n",
       "    }\n",
       "</style>\n",
       "<table border=\"1\" class=\"dataframe\">\n",
       "  <thead>\n",
       "    <tr style=\"text-align: right;\">\n",
       "      <th></th>\n",
       "      <th>hypothesis</th>\n",
       "      <th>ice</th>\n",
       "    </tr>\n",
       "  </thead>\n",
       "  <tbody>\n",
       "    <tr>\n",
       "      <th>8</th>\n",
       "      <td>Запустить акцию, дающую скидку на товар в день рождения</td>\n",
       "      <td>16.20</td>\n",
       "    </tr>\n",
       "    <tr>\n",
       "      <th>0</th>\n",
       "      <td>Добавить два новых канала привлечения трафика, что позволит привлекать на 30% больше пользователей</td>\n",
       "      <td>13.33</td>\n",
       "    </tr>\n",
       "    <tr>\n",
       "      <th>7</th>\n",
       "      <td>Добавить форму подписки на все основные страницы, чтобы собрать базу клиентов для email-рассылок</td>\n",
       "      <td>11.20</td>\n",
       "    </tr>\n",
       "    <tr>\n",
       "      <th>6</th>\n",
       "      <td>Показать на главной странице баннеры с актуальными акциями и распродажами, чтобы увеличить конверсию</td>\n",
       "      <td>8.00</td>\n",
       "    </tr>\n",
       "    <tr>\n",
       "      <th>2</th>\n",
       "      <td>Добавить блоки рекомендаций товаров на сайт интернет магазина, чтобы повысить конверсию и средний чек заказа</td>\n",
       "      <td>7.00</td>\n",
       "    </tr>\n",
       "    <tr>\n",
       "      <th>1</th>\n",
       "      <td>Запустить собственную службу доставки, что сократит срок доставки заказов</td>\n",
       "      <td>2.00</td>\n",
       "    </tr>\n",
       "    <tr>\n",
       "      <th>5</th>\n",
       "      <td>Добавить страницу отзывов клиентов о магазине, что позволит увеличить количество заказов</td>\n",
       "      <td>1.33</td>\n",
       "    </tr>\n",
       "    <tr>\n",
       "      <th>3</th>\n",
       "      <td>Изменить структура категорий, что увеличит конверсию, т.к. пользователи быстрее найдут нужный товар</td>\n",
       "      <td>1.12</td>\n",
       "    </tr>\n",
       "    <tr>\n",
       "      <th>4</th>\n",
       "      <td>Изменить цвет фона главной страницы, чтобы увеличить вовлеченность пользователей</td>\n",
       "      <td>1.00</td>\n",
       "    </tr>\n",
       "  </tbody>\n",
       "</table>\n",
       "</div>"
      ],
      "text/plain": [
       "                                                                                                     hypothesis  \\\n",
       "8                                                       Запустить акцию, дающую скидку на товар в день рождения   \n",
       "0            Добавить два новых канала привлечения трафика, что позволит привлекать на 30% больше пользователей   \n",
       "7              Добавить форму подписки на все основные страницы, чтобы собрать базу клиентов для email-рассылок   \n",
       "6          Показать на главной странице баннеры с актуальными акциями и распродажами, чтобы увеличить конверсию   \n",
       "2  Добавить блоки рекомендаций товаров на сайт интернет магазина, чтобы повысить конверсию и средний чек заказа   \n",
       "1                                     Запустить собственную службу доставки, что сократит срок доставки заказов   \n",
       "5                      Добавить страницу отзывов клиентов о магазине, что позволит увеличить количество заказов   \n",
       "3           Изменить структура категорий, что увеличит конверсию, т.к. пользователи быстрее найдут нужный товар   \n",
       "4                              Изменить цвет фона главной страницы, чтобы увеличить вовлеченность пользователей   \n",
       "\n",
       "     ice  \n",
       "8  16.20  \n",
       "0  13.33  \n",
       "7  11.20  \n",
       "6   8.00  \n",
       "2   7.00  \n",
       "1   2.00  \n",
       "5   1.33  \n",
       "3   1.12  \n",
       "4   1.00  "
      ]
     },
     "metadata": {},
     "output_type": "display_data"
    }
   ],
   "source": [
    "hypothesis['ice'] = round( # расчет ICE с округлением до двух знаков\n",
    "    hypothesis['impact'] * hypothesis['confidence'] / hypothesis['efforts'], 2\n",
    ") # расчет ICE \n",
    "display(hypothesis[['hypothesis', 'ice']].sort_values(by='ice', ascending=False)) # вывод на экран с сортировкой"
   ]
  },
  {
   "cell_type": "markdown",
   "metadata": {},
   "source": [
    "### Фреймворк RICE\n",
    "\n",
    "Теперь применим модификацию предыдущего способа, фреймворк RICE с дополнительным параметром Reach (охват пользователей).\n",
    "\n",
    "Формула расчета: **RICE = Reach * Impact * Confidence / Efforts**\n",
    "\n",
    "Также отсортируем гипотезы по убыванию приоритета."
   ]
  },
  {
   "cell_type": "code",
   "execution_count": 7,
   "metadata": {},
   "outputs": [
    {
     "data": {
      "text/html": [
       "<div>\n",
       "<style scoped>\n",
       "    .dataframe tbody tr th:only-of-type {\n",
       "        vertical-align: middle;\n",
       "    }\n",
       "\n",
       "    .dataframe tbody tr th {\n",
       "        vertical-align: top;\n",
       "    }\n",
       "\n",
       "    .dataframe thead th {\n",
       "        text-align: right;\n",
       "    }\n",
       "</style>\n",
       "<table border=\"1\" class=\"dataframe\">\n",
       "  <thead>\n",
       "    <tr style=\"text-align: right;\">\n",
       "      <th></th>\n",
       "      <th>hypothesis</th>\n",
       "      <th>rice</th>\n",
       "    </tr>\n",
       "  </thead>\n",
       "  <tbody>\n",
       "    <tr>\n",
       "      <th>7</th>\n",
       "      <td>Добавить форму подписки на все основные страницы, чтобы собрать базу клиентов для email-рассылок</td>\n",
       "      <td>112.0</td>\n",
       "    </tr>\n",
       "    <tr>\n",
       "      <th>2</th>\n",
       "      <td>Добавить блоки рекомендаций товаров на сайт интернет магазина, чтобы повысить конверсию и средний чек заказа</td>\n",
       "      <td>56.0</td>\n",
       "    </tr>\n",
       "    <tr>\n",
       "      <th>0</th>\n",
       "      <td>Добавить два новых канала привлечения трафика, что позволит привлекать на 30% больше пользователей</td>\n",
       "      <td>40.0</td>\n",
       "    </tr>\n",
       "    <tr>\n",
       "      <th>6</th>\n",
       "      <td>Показать на главной странице баннеры с актуальными акциями и распродажами, чтобы увеличить конверсию</td>\n",
       "      <td>40.0</td>\n",
       "    </tr>\n",
       "    <tr>\n",
       "      <th>8</th>\n",
       "      <td>Запустить акцию, дающую скидку на товар в день рождения</td>\n",
       "      <td>16.2</td>\n",
       "    </tr>\n",
       "    <tr>\n",
       "      <th>3</th>\n",
       "      <td>Изменить структура категорий, что увеличит конверсию, т.к. пользователи быстрее найдут нужный товар</td>\n",
       "      <td>9.0</td>\n",
       "    </tr>\n",
       "    <tr>\n",
       "      <th>1</th>\n",
       "      <td>Запустить собственную службу доставки, что сократит срок доставки заказов</td>\n",
       "      <td>4.0</td>\n",
       "    </tr>\n",
       "    <tr>\n",
       "      <th>5</th>\n",
       "      <td>Добавить страницу отзывов клиентов о магазине, что позволит увеличить количество заказов</td>\n",
       "      <td>4.0</td>\n",
       "    </tr>\n",
       "    <tr>\n",
       "      <th>4</th>\n",
       "      <td>Изменить цвет фона главной страницы, чтобы увеличить вовлеченность пользователей</td>\n",
       "      <td>3.0</td>\n",
       "    </tr>\n",
       "  </tbody>\n",
       "</table>\n",
       "</div>"
      ],
      "text/plain": [
       "                                                                                                     hypothesis  \\\n",
       "7              Добавить форму подписки на все основные страницы, чтобы собрать базу клиентов для email-рассылок   \n",
       "2  Добавить блоки рекомендаций товаров на сайт интернет магазина, чтобы повысить конверсию и средний чек заказа   \n",
       "0            Добавить два новых канала привлечения трафика, что позволит привлекать на 30% больше пользователей   \n",
       "6          Показать на главной странице баннеры с актуальными акциями и распродажами, чтобы увеличить конверсию   \n",
       "8                                                       Запустить акцию, дающую скидку на товар в день рождения   \n",
       "3           Изменить структура категорий, что увеличит конверсию, т.к. пользователи быстрее найдут нужный товар   \n",
       "1                                     Запустить собственную службу доставки, что сократит срок доставки заказов   \n",
       "5                      Добавить страницу отзывов клиентов о магазине, что позволит увеличить количество заказов   \n",
       "4                              Изменить цвет фона главной страницы, чтобы увеличить вовлеченность пользователей   \n",
       "\n",
       "    rice  \n",
       "7  112.0  \n",
       "2   56.0  \n",
       "0   40.0  \n",
       "6   40.0  \n",
       "8   16.2  \n",
       "3    9.0  \n",
       "1    4.0  \n",
       "5    4.0  \n",
       "4    3.0  "
      ]
     },
     "metadata": {},
     "output_type": "display_data"
    }
   ],
   "source": [
    "hypothesis['rice'] = round( # расчет RICE с округлением до двух знаков\n",
    "    hypothesis['reach'] * hypothesis['impact'] * hypothesis['confidence'] / hypothesis['efforts'], 2\n",
    ") \n",
    "display(hypothesis[['hypothesis', 'rice']].sort_values(by='rice', ascending=False)) # вывод на экран с сортировкой"
   ]
  },
  {
   "cell_type": "markdown",
   "metadata": {},
   "source": [
    "### Вывод\n",
    "\n",
    "После применения фреймворка RICE, приоритет гипотез изменился. Самая перспективная гипотеза 8 спустилась с первого места на пятое. Перспективными остались гипотезы 7, 0 и 6, но их порядок изменился, теперь на первом месте гипотеза 7. Это произошло по причине того, что в расчет был добавлен параметр Reach, а у гипотезы 7 он самый высокий - 10, в то время как у гипотезы 8 параметр Reach самый низкий - 1."
   ]
  },
  {
   "cell_type": "markdown",
   "metadata": {},
   "source": [
    "## Анализ A/B-теста\n",
    "\n",
    "На этом этапе мы проанализируем результаты A/B-теста."
   ]
  },
  {
   "cell_type": "markdown",
   "metadata": {},
   "source": [
    "### Подготовка к анализу\n",
    "\n",
    "Перед проведением анализа A/B теста, проверим не попали ли пользователи одновременно в обе группы."
   ]
  },
  {
   "cell_type": "code",
   "execution_count": 8,
   "metadata": {
    "scrolled": true
   },
   "outputs": [
    {
     "name": "stdout",
     "output_type": "stream",
     "text": [
      "Одновременно в обе группы попало 58 пользователей.\n"
     ]
    }
   ],
   "source": [
    "group_a = orders[orders['group'] == 'A']['visitor_id'].unique() # сбор уникальных\n",
    "group_b = orders[orders['group'] == 'B']['visitor_id'].unique() # пользователей по группам\n",
    "\n",
    "both = [] # пустой список\n",
    "\n",
    "for i in group_a: # цикл для проверки\n",
    "    if i in group_b: # совпадений пользователей\n",
    "        both.append(i) # добавление в список\n",
    "        \n",
    "print(f'Одновременно в обе группы попало {len(both)} пользователей.')"
   ]
  },
  {
   "cell_type": "markdown",
   "metadata": {},
   "source": [
    "Удалим этих пользователей с помощью среза."
   ]
  },
  {
   "cell_type": "code",
   "execution_count": 9,
   "metadata": {},
   "outputs": [],
   "source": [
    "orders = orders.query('visitor_id not in @both') # срез по переменной со списком пользователей"
   ]
  },
  {
   "cell_type": "markdown",
   "metadata": {},
   "source": [
    "Теперь соберём агрегированные кумулятивные по дням данные о заказах и выведем таблицу на экран."
   ]
  },
  {
   "cell_type": "code",
   "execution_count": 10,
   "metadata": {},
   "outputs": [
    {
     "data": {
      "text/html": [
       "<div>\n",
       "<style scoped>\n",
       "    .dataframe tbody tr th:only-of-type {\n",
       "        vertical-align: middle;\n",
       "    }\n",
       "\n",
       "    .dataframe tbody tr th {\n",
       "        vertical-align: top;\n",
       "    }\n",
       "\n",
       "    .dataframe thead th {\n",
       "        text-align: right;\n",
       "    }\n",
       "</style>\n",
       "<table border=\"1\" class=\"dataframe\">\n",
       "  <thead>\n",
       "    <tr style=\"text-align: right;\">\n",
       "      <th></th>\n",
       "      <th>date</th>\n",
       "      <th>group</th>\n",
       "      <th>orders</th>\n",
       "      <th>buyers</th>\n",
       "      <th>revenue</th>\n",
       "      <th>visitors</th>\n",
       "    </tr>\n",
       "  </thead>\n",
       "  <tbody>\n",
       "    <tr>\n",
       "      <th>0</th>\n",
       "      <td>2019-08-01</td>\n",
       "      <td>A</td>\n",
       "      <td>23</td>\n",
       "      <td>19</td>\n",
       "      <td>142779</td>\n",
       "      <td>719</td>\n",
       "    </tr>\n",
       "    <tr>\n",
       "      <th>1</th>\n",
       "      <td>2019-08-01</td>\n",
       "      <td>B</td>\n",
       "      <td>17</td>\n",
       "      <td>17</td>\n",
       "      <td>59758</td>\n",
       "      <td>713</td>\n",
       "    </tr>\n",
       "    <tr>\n",
       "      <th>2</th>\n",
       "      <td>2019-08-02</td>\n",
       "      <td>A</td>\n",
       "      <td>42</td>\n",
       "      <td>36</td>\n",
       "      <td>234381</td>\n",
       "      <td>1338</td>\n",
       "    </tr>\n",
       "    <tr>\n",
       "      <th>3</th>\n",
       "      <td>2019-08-02</td>\n",
       "      <td>B</td>\n",
       "      <td>40</td>\n",
       "      <td>39</td>\n",
       "      <td>221801</td>\n",
       "      <td>1294</td>\n",
       "    </tr>\n",
       "    <tr>\n",
       "      <th>4</th>\n",
       "      <td>2019-08-03</td>\n",
       "      <td>A</td>\n",
       "      <td>66</td>\n",
       "      <td>60</td>\n",
       "      <td>346854</td>\n",
       "      <td>1845</td>\n",
       "    </tr>\n",
       "  </tbody>\n",
       "</table>\n",
       "</div>"
      ],
      "text/plain": [
       "        date group  orders  buyers  revenue  visitors\n",
       "0 2019-08-01     A      23      19   142779       719\n",
       "1 2019-08-01     B      17      17    59758       713\n",
       "2 2019-08-02     A      42      36   234381      1338\n",
       "3 2019-08-02     B      40      39   221801      1294\n",
       "4 2019-08-03     A      66      60   346854      1845"
      ]
     },
     "metadata": {},
     "output_type": "display_data"
    }
   ],
   "source": [
    "dates_droups = orders[['date','group']].drop_duplicates() # создаем массив уникальных пар значений дат и групп теста\n",
    "\n",
    "orders_aggregated = dates_droups.apply( # получаем агрегированные кумулятивные по дням данные о заказах \n",
    "    lambda x: orders[np.logical_and(\n",
    "        orders['date'] <= x['date'], orders['group'] == x['group'])].agg(\n",
    "        {'date' : 'max', 'group' : 'max', 'transaction_id' : 'nunique',\n",
    "         'visitor_id' : 'nunique', 'revenue' : 'sum'}), axis=1).sort_values(by=['date','group']) \n",
    "\n",
    "visitors_aggregated = dates_droups.apply( # получаем агрегированные кумулятивные по дням данные о посетителях интернет-магазина \n",
    "    lambda x: visitors[np.logical_and(\n",
    "        visitors['date'] <= x['date'], visitors['group'] == x['group'])].agg(\n",
    "        {'date' : 'max', 'group' : 'max', 'visitors' : 'sum'}), axis=1).sort_values(\n",
    "    by=['date','group']) \n",
    "\n",
    "cumulative_data = orders_aggregated.merge( # объединяем кумулятивные данные в одной таблице \n",
    "    visitors_aggregated, left_on=['date', 'group'], right_on=['date', 'group'])\n",
    "\n",
    "cumulative_data.columns = ['date', # присваиваем столбцам понятные названия\n",
    "                          'group',\n",
    "                          'orders',\n",
    "                          'buyers',\n",
    "                          'revenue',\n",
    "                          'visitors'] \n",
    "\n",
    "display(cumulative_data.head(5))"
   ]
  },
  {
   "cell_type": "markdown",
   "metadata": {},
   "source": [
    "### Анализ кумулятивных данных\n",
    "\n",
    "Построим график кумулятивной выручки по группам."
   ]
  },
  {
   "cell_type": "code",
   "execution_count": 11,
   "metadata": {},
   "outputs": [
    {
     "data": {
      "image/png": "[encoded data removed]",
      "text/plain": [
       "<Figure size 1080x432 with 1 Axes>"
      ]
     },
     "metadata": {
      "needs_background": "light"
     },
     "output_type": "display_data"
    }
   ],
   "source": [
    "cumulative_revenue_a = cumulative_data[ # датафрейм с кумулятивным количеством заказов и выручкой по дням в группе A\n",
    "    cumulative_data['group'] == 'A'][['date', 'revenue', 'orders']]\n",
    "\n",
    "cumulative_revenue_b = cumulative_data[ # датафрейм с кумулятивным количеством заказов и выручкой по дням в группе B\n",
    "    cumulative_data['group'] == 'B'][['date', 'revenue', 'orders']]\n",
    "\n",
    "plt.figure(figsize=(15, 6)) # размер фигуры\n",
    "plt.plot(cumulative_revenue_a['date'], cumulative_revenue_a['revenue'], label='A') # график выручки группы А\n",
    "plt.plot(cumulative_revenue_b['date'], cumulative_revenue_b['revenue'], label='B') # график выручки группы B\n",
    "plt.title('График кумулятивной выручки по группам') # заговолок графика\n",
    "plt.legend() # включение легенды\n",
    "plt.grid() # включение сетки\n",
    "plt.show()"
   ]
  },
  {
   "cell_type": "markdown",
   "metadata": {},
   "source": [
    "Выручка увеличивается почти равномерно в течение всего теста, но у группы B после 17.08.2019 наблюдается резкий скачок выручки. Это может означать всплеск числа заказов или появление очень дорогих заказов в выборке. Мы проанализируем это позже.\n",
    "\n",
    "\n",
    "Построим график кумулятивного среднего чека по группам."
   ]
  },
  {
   "cell_type": "code",
   "execution_count": 12,
   "metadata": {},
   "outputs": [
    {
     "data": {
      "image/png": "[encoded data removed]",
      "text/plain": [
       "<Figure size 1080x432 with 1 Axes>"
      ]
     },
     "metadata": {
      "needs_background": "light"
     },
     "output_type": "display_data"
    }
   ],
   "source": [
    "plt.figure(figsize=(15, 6)) # размер фигуры\n",
    "plt.plot(cumulative_revenue_a['date'], # график среднего чека группы А\n",
    "         cumulative_revenue_a['revenue'] / cumulative_revenue_a['orders'], label='A')\n",
    "plt.plot(cumulative_revenue_b['date'], # график среднего чека группы B\n",
    "         cumulative_revenue_b['revenue'] / cumulative_revenue_b['orders'], label='B')\n",
    "plt.title('График кумулятивного среднего чека по группам') # заговолок графика\n",
    "plt.legend() # включение легенды\n",
    "plt.grid() # включение сетки\n",
    "plt.show()"
   ]
  },
  {
   "cell_type": "markdown",
   "metadata": {},
   "source": [
    "Средний чек для группы А становится равномерным ближе к концу теста. У группы B показатель крайне нестабильный, возможно нужно больше данных, чтобы прийти к реальному среднему чеку и установиться на его уровне.\n",
    "\n",
    "Построим график относительного изменения кумулятивного среднего чека группы B к группе A."
   ]
  },
  {
   "cell_type": "code",
   "execution_count": 13,
   "metadata": {},
   "outputs": [
    {
     "data": {
      "image/png": "[encoded data removed]",
      "text/plain": [
       "<Figure size 1080x432 with 1 Axes>"
      ]
     },
     "metadata": {
      "needs_background": "light"
     },
     "output_type": "display_data"
    }
   ],
   "source": [
    "merged_cumulative_revenue = cumulative_revenue_a.merge( # объединение таблиц\n",
    "    cumulative_revenue_b, left_on='date', right_on='date', how='left', suffixes=['_a', '_b'])\n",
    "\n",
    "plt.figure(figsize=(15, 6)) # размер фигуры\n",
    "plt.plot( # cтроим отношение средних чеков\n",
    "    merged_cumulative_revenue['date'], (\n",
    "        merged_cumulative_revenue['revenue_b'] / merged_cumulative_revenue['orders_b']) / (\n",
    "        merged_cumulative_revenue['revenue_a'] / merged_cumulative_revenue['orders_b']) - 1)\n",
    "plt.title('График относительного изменения кумулятивного среднего чека группы B к группе A') # заговолок графика\n",
    "plt.axhline(y=0, color='black', linestyle='--') # пунктирная линия оси X\n",
    "plt.grid() # включение сетки\n",
    "plt.show()"
   ]
  },
  {
   "cell_type": "markdown",
   "metadata": {},
   "source": [
    "Группа B лучше группы A, но в некоторых точках наблюдаются резкие скачки, но возможно это крупные заказы и выбросы. \n",
    "\n",
    "Построим график кумулятивной конверсии по группам."
   ]
  },
  {
   "cell_type": "code",
   "execution_count": 14,
   "metadata": {},
   "outputs": [
    {
     "data": {
      "image/png": "[encoded data removed]",
      "text/plain": [
       "<Figure size 1080x432 with 1 Axes>"
      ]
     },
     "metadata": {
      "needs_background": "light"
     },
     "output_type": "display_data"
    }
   ],
   "source": [
    "cumulative_data['conversion'] = cumulative_data['orders'] / cumulative_data['visitors'] # считаем кумулятивную конверсию\n",
    "\n",
    "cumulative_data_a = cumulative_data[cumulative_data['group'] == 'A'] # отделяем данные по группе A\n",
    "cumulative_data_b = cumulative_data[cumulative_data['group'] == 'B'] # отделяем данные по группе B\n",
    "\n",
    "plt.figure(figsize=(15, 6))\n",
    "plt.plot(cumulative_data_a['date'], cumulative_data_a['conversion'], label='A') # строим\n",
    "plt.plot(cumulative_data_b['date'], cumulative_data_b['conversion'], label='B') # графики\n",
    "plt.title('График кумулятивной конверсии по группам') # заговолок графика\n",
    "plt.grid() # включение сетки\n",
    "plt.legend() # включение легенды\n",
    "plt.show()"
   ]
  },
  {
   "cell_type": "markdown",
   "metadata": {},
   "source": [
    "В начале теста наблюдались резкие всплески, но затем конверсия группы A просела и зафиксировалась. Конверсия группы B так же зафиксировалась, но на более высоком значении.\n",
    "\n",
    "Построим график относительного изменения кумулятивной конверсии группы B к группе A."
   ]
  },
  {
   "cell_type": "code",
   "execution_count": 15,
   "metadata": {},
   "outputs": [
    {
     "data": {
      "image/png": "[encoded data removed]",
      "text/plain": [
       "<Figure size 1080x432 with 1 Axes>"
      ]
     },
     "metadata": {
      "needs_background": "light"
     },
     "output_type": "display_data"
    }
   ],
   "source": [
    "merged_cumulative_conversions = cumulative_data_a[['date','conversion']].merge( # объединение таблиц\n",
    "    cumulative_data_b[['date','conversion']], left_on='date', right_on='date', how='left', suffixes=['_a', '_b'])\n",
    "\n",
    "plt.figure(figsize=(15, 6)) # размер фигуры\n",
    "plt.plot( # строим график\n",
    "    merged_cumulative_conversions['date'],\n",
    "    merged_cumulative_conversions['conversion_b'] / merged_cumulative_conversions['conversion_a'] - 1)\n",
    "plt.title('Относительный прирост конверсии группы B относительно группы A') # заговолок графика\n",
    "plt.axhline(y=0, color='black', linestyle='--') # пунктирная линия оси X\n",
    "plt.grid() # включение сетки\n",
    "plt.show()"
   ]
  },
  {
   "cell_type": "markdown",
   "metadata": {},
   "source": [
    "В начале теста группа B значительно проигрывала группе A, затем вырвалась вперёд и зафиксировалась."
   ]
  },
  {
   "cell_type": "markdown",
   "metadata": {},
   "source": [
    "### Анализ выбросов и аномалий\n",
    "\n",
    "Проанализируем наличие выбросов и аномалий, которые могут искажать результаты A/B-теста.\n",
    "\n",
    "Нас интересуют очень дорогие заказы и пользователи с нетипично большим количеством заказов. Если дорогой заказ попадёт в одну из групп теста, он сразу исказит результаты и сделает победителем ту группу, в которой оказался. Пользователи, совершившие много заказов, влияют на числитель формулы конверсии. Скорее всего, их поведение отличается от нормального. При этом такие покупки — исключение, которое проявилось не из-за тестирования гипотезы, а случайно. Далее мы будем удалять аномально дорогие заказы и пользователей с большим количеством заказов для проведения расчетов по \"очищенным\" данным.\n",
    "\n",
    "Построим точечный график количества заказов по пользователям для определения границы аномального числа заказов."
   ]
  },
  {
   "cell_type": "code",
   "execution_count": 16,
   "metadata": {},
   "outputs": [
    {
     "data": {
      "image/png": "[encoded data removed]",
      "text/plain": [
       "<Figure size 720x360 with 1 Axes>"
      ]
     },
     "metadata": {
      "needs_background": "light"
     },
     "output_type": "display_data"
    }
   ],
   "source": [
    "orders_by_users = (orders.groupby('visitor_id', as_index=False).agg({'transaction_id': 'nunique'})) # группировка таблицы\n",
    "orders_by_users.columns = ['user_id', 'orders'] # переименование столбцов\n",
    "\n",
    "x_values = pd.Series(range(0, len(orders_by_users))) # задаем ось X\n",
    "\n",
    "plt.figure(figsize=(10, 5)) # размер фигуры\n",
    "plt.scatter(x_values, orders_by_users['orders']) # строим график\n",
    "plt.title('Диаграмма числа заказов на одного пользователя') # заговолок графика\n",
    "plt.xlabel('Пользователи') # название оси X\n",
    "plt.ylabel('Заказы') # название оси Y\n",
    "plt.show()"
   ]
  },
  {
   "cell_type": "markdown",
   "metadata": {},
   "source": [
    "Большинство пользователей делают 1 заказ, но есть и те, кто делал 2-3 заказа. Их точная доля неизвестна и непонятно, считать ли их аномалиями. \n",
    "\n",
    "В статистике принято отсеивать от 1% до 5% наблюдений с крайними значениями. Посчитаем 95-й и 99-й перцентили количества заказов на пользователя."
   ]
  },
  {
   "cell_type": "code",
   "execution_count": 17,
   "metadata": {},
   "outputs": [
    {
     "name": "stdout",
     "output_type": "stream",
     "text": [
      "[1. 2.]\n"
     ]
    }
   ],
   "source": [
    "print(np.percentile(orders_by_users['orders'], [95, 99]))"
   ]
  },
  {
   "cell_type": "markdown",
   "metadata": {},
   "source": [
    "Не более 5% пользователей оформляли больше двух заказов. Выберем границу в 1 заказ для определения аномальных пользователей. \n",
    "\n",
    "Построим точечный график стоимостей заказов для определения границы аномальной стоимости заказов."
   ]
  },
  {
   "cell_type": "code",
   "execution_count": 18,
   "metadata": {
    "scrolled": false
   },
   "outputs": [
    {
     "data": {
      "image/png": "[encoded data removed]",
      "text/plain": [
       "<Figure size 720x360 with 1 Axes>"
      ]
     },
     "metadata": {
      "needs_background": "light"
     },
     "output_type": "display_data"
    }
   ],
   "source": [
    "x_values = pd.Series(range(0, len(orders['revenue']))) # задаем ось X\n",
    "\n",
    "plt.figure(figsize=(10, 5)) # размер фигуры\n",
    "plt.scatter(x_values, orders['revenue']) # строим график\n",
    "plt.title('Диаграмма стоимости заказа') # заговолок графика\n",
    "plt.xlabel('Пользователи') # название оси X\n",
    "plt.ylabel('Стоимость заказа') # название оси Y\n",
    "plt.show()"
   ]
  },
  {
   "cell_type": "markdown",
   "metadata": {},
   "source": [
    "Дорогих немного, но есть один очень дорогой заказ, который мог исказить результаты теста. Посчитаем 95-й и 99-й перцентили стоимости заказов."
   ]
  },
  {
   "cell_type": "code",
   "execution_count": 19,
   "metadata": {},
   "outputs": [
    {
     "name": "stdout",
     "output_type": "stream",
     "text": [
      "[26785. 53904.]\n"
     ]
    }
   ],
   "source": [
    "print(np.percentile(orders['revenue'], [95, 99]))"
   ]
  },
  {
   "cell_type": "markdown",
   "metadata": {},
   "source": [
    "Не более 5% заказов дороже 26785 рублей и не более 1% дороже 53904 рублей. Выберем границу аномальной стоимости заказов в 27000 руб."
   ]
  },
  {
   "cell_type": "markdown",
   "metadata": {},
   "source": [
    "### Статистический анализ \"сырых\" данных\n",
    "\n",
    "Начнём с подготовки данных."
   ]
  },
  {
   "cell_type": "code",
   "execution_count": 20,
   "metadata": {},
   "outputs": [
    {
     "name": "stdout",
     "output_type": "stream",
     "text": [
      "        date  orders_per_date_a  revenue_per_date_a  orders_per_date_b  \\\n",
      "0 2019-08-01                 23              142779                 17   \n",
      "1 2019-08-02                 19               91602                 23   \n",
      "2 2019-08-03                 24              112473                 14   \n",
      "3 2019-08-04                 11               41176                 14   \n",
      "4 2019-08-05                 22               86383                 21   \n",
      "\n",
      "   revenue_per_date_b  orders_cummulative_a  revenue_cummulative_a  \\\n",
      "0               59758                    23                 142779   \n",
      "1              162043                    42                 234381   \n",
      "2               67049                    66                 346854   \n",
      "3               96890                    77                 388030   \n",
      "4               89908                    99                 474413   \n",
      "\n",
      "   orders_cummulative_b  revenue_cummulative_b  visitors_per_date_a  \\\n",
      "0                    17                  59758                  719   \n",
      "1                    40                 221801                  619   \n",
      "2                    54                 288850                  507   \n",
      "3                    68                 385740                  717   \n",
      "4                    89                 475648                  756   \n",
      "\n",
      "   visitors_per_date_b  visitors_cummulative_a  visitors_cummulative_b  \n",
      "0                  713                     719                     713  \n",
      "1                  581                    1338                    1294  \n",
      "2                  509                    1845                    1803  \n",
      "3                  770                    2562                    2573  \n",
      "4                  707                    3318                    3280  \n"
     ]
    }
   ],
   "source": [
    "visitors_a_daily = visitors[visitors['group'] == 'A'][['date', 'visitors']] # количество пользователей в день в группе A\n",
    "visitors_a_daily.columns = ['date', 'visitors_per_date_a'] # переименование столбцов\n",
    "\n",
    "visitors_a_cummulative = visitors_a_daily.apply( # количество пользователей до выбранной даты включительно в группе A\n",
    "    lambda x: visitors_a_daily[visitors_a_daily['date'] <= x['date']].agg(\n",
    "        {'date': 'max', 'visitors_per_date_a': 'sum'}), axis=1)\n",
    "visitors_a_cummulative.columns = ['date', 'visitors_cummulative_a'] # переименование столбцов\n",
    "\n",
    "visitors_b_daily = visitors[visitors['group'] == 'B'][['date', 'visitors']] # количество пользователей в день в группе B\n",
    "visitors_b_daily.columns = ['date', 'visitors_per_date_b'] # переименование столбцов\n",
    "\n",
    "visitors_b_cummulative = visitors_b_daily.apply( # количество пользователей до выбранной даты включительно в группе B\n",
    "    lambda x: visitors_b_daily[visitors_b_daily['date'] <= x['date']].agg(\n",
    "        {'date': 'max', 'visitors_per_date_b': 'sum'}), axis=1)\n",
    "visitors_b_cummulative.columns = ['date', 'visitors_cummulative_b'] # переименование столбцов\n",
    "\n",
    "\n",
    "orders_a_daily = ( # количество заказов и выручка в день в группе A\n",
    "    orders[orders['group'] == 'A'][['date', 'transaction_id', 'visitor_id', 'revenue']]\n",
    "    .groupby('date', as_index=False)\n",
    "    .agg({'transaction_id': pd.Series.nunique, 'revenue': 'sum'}))\n",
    "orders_a_daily.columns = ['date', 'orders_per_date_a', 'revenue_per_date_a'] # переименование столбцов\n",
    "\n",
    "orders_a_cummulative = orders_a_daily.apply( # суммарное количество заказов и суммарная выручка до выбранной даты\n",
    "    lambda x: orders_a_daily[orders_a_daily['date'] <= x['date']].agg(                  # включительно в группе A\n",
    "        {'date': 'max', 'orders_per_date_a': 'sum', 'revenue_per_date_a': 'sum'}\n",
    "    ), axis=1).sort_values(by=['date'])\n",
    "orders_a_cummulative.columns = ['date', 'orders_cummulative_a', 'revenue_cummulative_a'] # переименование столбцов\n",
    "\n",
    "orders_b_daily = ( # количество заказов и выручка в день в группе B\n",
    "    orders[orders['group'] == 'B'][['date', 'transaction_id', 'visitor_id', 'revenue']]\n",
    "    .groupby('date', as_index=False)\n",
    "    .agg({'transaction_id': pd.Series.nunique, 'revenue': 'sum'}))\n",
    "orders_b_daily.columns = ['date', 'orders_per_date_b', 'revenue_per_date_b'] # переименование столбцов\n",
    "\n",
    "orders_b_cummulative = orders_b_daily.apply( # суммарное количество заказов и суммарная выручка до выбранной даты\n",
    "    lambda x: orders_b_daily[orders_b_daily['date'] <= x['date']].agg(                  # включительно в группе B\n",
    "        {'date': 'max', 'orders_per_date_b': 'sum', 'revenue_per_date_b': 'sum'}\n",
    "    ), axis=1).sort_values(by=['date'])\n",
    "orders_b_cummulative.columns = ['date', 'orders_cummulative_b', 'revenue_cummulative_b'] # переименование столбцов\n",
    "\n",
    "\n",
    "data = ( # объединение таблиц\n",
    "    orders_a_daily.merge(\n",
    "        orders_b_daily, left_on='date', right_on='date', how='left'\n",
    "    )\n",
    "    .merge(orders_a_cummulative, left_on='date', right_on='date', how='left')\n",
    "    .merge(orders_b_cummulative, left_on='date', right_on='date', how='left')\n",
    "    .merge(visitors_a_daily, left_on='date', right_on='date', how='left')\n",
    "    .merge(visitors_b_daily, left_on='date', right_on='date', how='left')\n",
    "    .merge(visitors_a_cummulative, left_on='date', right_on='date', how='left')\n",
    "    .merge(visitors_b_cummulative, left_on='date', right_on='date', how='left')\n",
    ")\n",
    "\n",
    "print(data.head(5))"
   ]
  },
  {
   "cell_type": "markdown",
   "metadata": {},
   "source": [
    "Создадим переменные `orders_by_users_a` и `orders_by_users_b` со столбцами `user_id` и `orders`. В них для пользователей, которые заказывали хотя бы 1 раз, укажем число совершённых заказов."
   ]
  },
  {
   "cell_type": "code",
   "execution_count": 21,
   "metadata": {},
   "outputs": [],
   "source": [
    "orders_by_users_a = ( # группировка таблицы\n",
    "    orders[orders['group'] == 'A']\n",
    "    .groupby('visitor_id', as_index=False)\n",
    "    .agg({'transaction_id': pd.Series.nunique})\n",
    ")\n",
    "orders_by_users_a.columns = ['user_id', 'orders'] # переименование столбцов\n",
    "\n",
    "orders_by_users_b = ( # группировка таблицы\n",
    "    orders[orders['group'] == 'B']\n",
    "    .groupby('visitor_id', as_index=False)\n",
    "    .agg({'transaction_id': pd.Series.nunique})\n",
    ")\n",
    "orders_by_users_b.columns = ['user_id', 'orders'] # переименование столбцов"
   ]
  },
  {
   "cell_type": "markdown",
   "metadata": {},
   "source": [
    "Объявим переменные `sample_a` и `sample_b`, в которых пользователям из разных групп будет соответствовать количество заказов. Тем, кто ничего не заказал, будут соответствовать нули. Это нужно, чтобы подготовить выборки к проверке критерием Манна-Уитни.\n",
    "\n",
    "Переменные `sample_a` и `sample_b` должны состоять из двух частей:\n",
    "\n",
    "1. Список с количеством заказов для каждого из пользователей.\n",
    "2. Нули для пользователей, которые ничего не заказывали."
   ]
  },
  {
   "cell_type": "code",
   "execution_count": 22,
   "metadata": {},
   "outputs": [],
   "source": [
    "sample_a = pd.concat( # объединение последовательности функцией pd.concat()\n",
    "    [orders_by_users_a['orders'], pd.Series(\n",
    "        0, index=np.arange(data['visitors_per_date_a'].sum() - len(orders_by_users_a['orders'])), name='orders')], axis=0)\n",
    "\n",
    "sample_b = pd.concat( # объединение последовательности функцией pd.concat()\n",
    "    [orders_by_users_b['orders'], pd.Series(\n",
    "        0, index=np.arange(data['visitors_per_date_b'].sum() - len(orders_by_users_b['orders'])), name='orders')], axis=0)"
   ]
  },
  {
   "cell_type": "markdown",
   "metadata": {},
   "source": [
    "Посчитаем статистическую значимость различий в конверсии между группами по «сырым» данным — без удаления аномальных пользователей.\n",
    "\n",
    "\n",
    "Применим критерий Манна-Уитни и отформатируем p-value, округлив его до трёх знаков после запятой. Чтобы получить конверсию в группе, поделим сумму заказов на число пользователей. Выведем также относительный прирост конверсии группы B.\n",
    "\n",
    "Сформулируем гипотезы. **Нулевая**: различий в конверсии между группами нет. **Альтернативная**: различия в конверсии между группами есть.\n",
    "\n",
    "Критический уровень статистической значимости установим 0.05"
   ]
  },
  {
   "cell_type": "code",
   "execution_count": 23,
   "metadata": {},
   "outputs": [
    {
     "name": "stdout",
     "output_type": "stream",
     "text": [
      "p-value: 0.011\n",
      "Относительный прирост конверсии группы B: 0.160\n",
      "Отвергаем нулевую гипотезу: разница статистически значима\n"
     ]
    }
   ],
   "source": [
    "alpha = 0.05  # критический уровень статистической значимости\n",
    "\n",
    "results_1 = st.mannwhitneyu(sample_a, sample_b) # критерий Манна-Уитни\n",
    "\n",
    "print('p-value:', '{0:.3f}'.format(results_1.pvalue))\n",
    "print('Относительный прирост конверсии группы B:', '{0:.3f}'.format(sample_b.mean() / sample_a.mean() - 1))\n",
    "\n",
    "if results_1.pvalue < alpha:\n",
    "    print('Отвергаем нулевую гипотезу: разница статистически значима')\n",
    "else:\n",
    "    print('Не получилось отвергнуть нулевую гипотезу, вывод о различии сделать нельзя') "
   ]
  },
  {
   "cell_type": "markdown",
   "metadata": {},
   "source": [
    "По \"сырым\" данным есть различия в конверсии между группами A и B и относительный прирост конверсии группы B составляет 16%.\n",
    "\n",
    "Теперь посчитаем статистическую значимость различий в среднем чеке заказа между группами по \"сырым\" данным. Также найдем относительные различия в среднем чеке между группами.\n",
    "\n",
    "Сформулируем гипотезы. **Нулевая**: различий в среднем чеке между группами нет. **Альтернативная**: различия в среднем чеке между группами есть."
   ]
  },
  {
   "cell_type": "code",
   "execution_count": 24,
   "metadata": {},
   "outputs": [
    {
     "name": "stdout",
     "output_type": "stream",
     "text": [
      "p-value: 0.829\n",
      "Относительное различие среднего чека между группами: 0.287\n",
      "Не получилось отвергнуть нулевую гипотезу, вывод о различии сделать нельзя\n"
     ]
    }
   ],
   "source": [
    "results_2 = st.mannwhitneyu( # критерий Манна-Уитни\n",
    "    orders[orders['group'] == 'A']['revenue'], orders[orders['group'] == 'B']['revenue']) \n",
    "\n",
    "print('p-value:', '{0:.3f}'.format(results_2.pvalue))\n",
    "print('Относительное различие среднего чека между группами:', '{0:.3f}'.format(\n",
    "    orders[orders['group'] == 'B']['revenue'].mean() / orders[orders['group'] == 'A']['revenue'].mean() - 1))\n",
    "\n",
    "if results_2.pvalue < alpha:\n",
    "    print('Отвергаем нулевую гипотезу: разница статистически значима')\n",
    "else:\n",
    "    print('Не получилось отвергнуть нулевую гипотезу, вывод о различии сделать нельзя')"
   ]
  },
  {
   "cell_type": "markdown",
   "metadata": {},
   "source": [
    "p-value значительно больше 0.05. Это означает, что нет причин отвергать нулевую гипотезу и считать, что в среднем чеке есть различия, хотя средний чек группы B значительно выше среднего чека группы A на 29%. Необходимо рассмотреть результаты теста на \"очищенных\" данных."
   ]
  },
  {
   "cell_type": "markdown",
   "metadata": {},
   "source": [
    "### Статистический анализ \"очищенных\" данных\n",
    "\n",
    "Примем за аномальных пользователей тех, кто совершил более 1 заказа и заказ дороже 27000 рублей. Так мы уберём 5% пользователей с большим числом заказов и от 1% до 5% пользователей с дорогими заказами. Сделаем срезы пользователей и объединим их в одну таблицу и посчитаем их."
   ]
  },
  {
   "cell_type": "code",
   "execution_count": 25,
   "metadata": {
    "scrolled": true
   },
   "outputs": [
    {
     "name": "stdout",
     "output_type": "stream",
     "text": [
      "568     113298937\n",
      "1099    148427295\n",
      "461     154576532\n",
      "928     204675465\n",
      "684     358944393\n",
      "dtype: int64\n",
      "70\n"
     ]
    }
   ],
   "source": [
    "users_with_many_orders = pd.concat([ # фильтрация аномальных пользователей\n",
    "        orders_by_users_a[orders_by_users_a['orders'] > 4]['user_id'],\n",
    "        orders_by_users_b[orders_by_users_b['orders'] > 4]['user_id']], axis=0)\n",
    "\n",
    "users_with_expensive_orders = orders[orders['revenue'] > 20000]['visitor_id'] # фильтрация аномальных пользователей\n",
    "\n",
    "abnormal_users = ( # объединение аномальных пользователей\n",
    "    pd.concat([users_with_many_orders, users_with_expensive_orders], axis=0)\n",
    "    .drop_duplicates()\n",
    "    .sort_values()\n",
    ")\n",
    "print(abnormal_users.head(5))\n",
    "print(abnormal_users.shape[0])"
   ]
  },
  {
   "cell_type": "markdown",
   "metadata": {},
   "source": [
    "Всего 70 пользователей. Узнаем, как их действия повлияли на результаты теста. Сначала, подготовим выборки количества заказов по пользователям по группам теста и снова посчитаем статистическую значимость различий в конверсии между группами, но уже по «очищенным» данным."
   ]
  },
  {
   "cell_type": "code",
   "execution_count": 26,
   "metadata": {},
   "outputs": [
    {
     "name": "stdout",
     "output_type": "stream",
     "text": [
      "p-value: 0.017\n",
      "Относительный прирост конверсии группы B: 0.162\n",
      "Отвергаем нулевую гипотезу: разница статистически значима\n"
     ]
    }
   ],
   "source": [
    "sample_a_filtered = pd.concat( # объединение последовательности функцией pd.concat()\n",
    "    [orders_by_users_a[np.logical_not(orders_by_users_a['user_id'].isin(abnormal_users))]['orders'],\n",
    "        pd.Series(0, index=np.arange(data['visitors_per_date_a'].sum() - len(orders_by_users_a['orders'])),\n",
    "                  name='orders')], axis=0)\n",
    "\n",
    "sample_b_filtered = pd.concat( # объединение последовательности функцией pd.concat()\n",
    "    [orders_by_users_b[np.logical_not(orders_by_users_b['user_id'].isin(abnormal_users))]['orders'],\n",
    "        pd.Series(0, index=np.arange(data['visitors_per_date_b'].sum() - len(orders_by_users_b['orders'])),\n",
    "                  name='orders')], axis=0)\n",
    "\n",
    "results_3 = st.mannwhitneyu(sample_a_filtered, sample_b_filtered) # критерий Манна-Уитни\n",
    "\n",
    "print('p-value:', '{0:.3f}'.format(results_3.pvalue))\n",
    "print('Относительный прирост конверсии группы B:', '{0:.3f}'.format(sample_b_filtered.mean() / sample_a_filtered.mean() - 1))\n",
    "\n",
    "if results_3.pvalue < alpha:\n",
    "    print('Отвергаем нулевую гипотезу: разница статистически значима')\n",
    "else:\n",
    "    print('Не получилось отвергнуть нулевую гипотезу, вывод о различии сделать нельзя')"
   ]
  },
  {
   "cell_type": "markdown",
   "metadata": {},
   "source": [
    "Результаты по конверсии практически не изменились. \n",
    "\n",
    "Теперь посчитаем статистическую значимость различий в среднем чеке заказа между группами по «очищенным» данным."
   ]
  },
  {
   "cell_type": "code",
   "execution_count": 27,
   "metadata": {},
   "outputs": [
    {
     "name": "stdout",
     "output_type": "stream",
     "text": [
      "p-value: 0.845\n",
      "Относительное различие среднего чека между группами: -0.042\n",
      "Не получилось отвергнуть нулевую гипотезу, вывод о различии сделать нельзя\n"
     ]
    }
   ],
   "source": [
    "results_4 = st.mannwhitneyu( # критерий Манна-Уитни\n",
    "    orders[np.logical_and(orders['group'] == 'A', np.logical_not(orders['visitor_id'].isin(abnormal_users)))]['revenue'],\n",
    "    orders[np.logical_and(orders['group'] == 'B', np.logical_not(orders['visitor_id'].isin(abnormal_users)))]['revenue'])\n",
    "\n",
    "print('p-value:', '{0:.3f}'.format(results_4.pvalue))\n",
    "print('Относительное различие среднего чека между группами:', '{0:.3f}'.format( # расчет относительного различия среднего чека между группами\n",
    "    orders[np.logical_and(orders['group'] == 'B', np.logical_not(orders['visitor_id'].isin(abnormal_users)))]\n",
    "    ['revenue'].mean() / orders[np.logical_and(orders['group'] == 'A', np.logical_not(orders['visitor_id'].isin(abnormal_users)))]\n",
    "    ['revenue'].mean() - 1))\n",
    "\n",
    "if results_4.pvalue < alpha:\n",
    "    print('Отвергаем нулевую гипотезу: разница статистически значима')\n",
    "else:\n",
    "    print('Не получилось отвергнуть нулевую гипотезу, вывод о различии сделать нельзя')"
   ]
  },
  {
   "cell_type": "markdown",
   "metadata": {},
   "source": [
    "p-value не сильно изменился, а относительная разница в среднем чеке между группами сократилась с 27% до -4%. Можно сделать вывод о том, что выбросы действительно повлияли на результаты теста по \"сырым\" данным."
   ]
  },
  {
   "cell_type": "markdown",
   "metadata": {},
   "source": [
    "### Вывод\n",
    "\n",
    "После проведения анализа кумулятивных данных и статистического анализа, можно сделать следующие выводы:\n",
    "\n",
    "1. Есть статистически значимое различие по конверсии между группами A и B как по \"сырым\", так и по \"очищенным\" от аномалий данным. Относительный прирост конверсии группы B составляет 16%.\n",
    "\n",
    "\n",
    "2. Нет статистически значимого различия по среднему чеку между группами ни по \"сырым\", ни и по \"очищенным\" от аномалий данным.\n",
    "\n",
    "\n",
    "3. График различия конверсии между группами сообщает, что результаты группы B лучше группы A и есть тенденция к росту либо фиксация около среднего значения.\n",
    "\n",
    "\n",
    "4. График различия среднего чека колеблется, а результаты группы B лучше группы A, но с помощью статистического теста мы выяснили, что на результат повлияли редкие аномально дорогие заказы. Относительная разница в среднем чеке между группами составила -4%.\n",
    "\n",
    "\n",
    "Исходя из обнаруженных фактов, тест следует остановить и зафиксировать победу группы B за относительный прирост конверсии в 16%."
   ]
  },
  {
   "cell_type": "markdown",
   "metadata": {},
   "source": [
    "## Общий вывод\n",
    "\n",
    "Задачей исследования была приоритизация гипотез и анализ результатов A/B-теста. Мы начали с предварительной подготовки данных к анализу.\n",
    "\n",
    "Первым этапом исследования была приоритизация гипотез. Мы рассчитали приоритет гипотез методами ICE и RICE и сравнили результаты. При использовании фреймворка ICE, самыми перспективными были определены гипотезы 8, 0, 7, 6. Однако, после применения фреймворка RICE, приоритет гипотез изменился, это произошло по причине добавление в расчет параметра Reach, который отвечает за влияние на охват пользователей. В результате использования фреймворка RICE, самыми перспективными были определены гипотезы 7, 2, 0, 6.\n",
    "\n",
    "Вторым этапом был анализ результатов A/B-теста. Мы подготовили данные и собрали агрегированные кумулятивные по дням данные о заказах. \n",
    "\n",
    "Объектами исследования были следующие метрики:\n",
    "\n",
    "* выручка по группам\n",
    "* средний чек по группам\n",
    "* относительное изменение среднего чека группы B к группе A\n",
    "* конверсия и относительный прирост конверсии группы B к группе A\n",
    "\n",
    "Мы построили графики и смогли сделать промежуточные выводы о преимуществе группы B над группой A по всем вышеописанным метрикам:\n",
    "\n",
    "1. Наблюдались всплески и колебания выручки, среднего чека и конверсии, но результаты группы B значительно лучше результатов группы A.\n",
    "\n",
    "\n",
    "2. График различия конверсии показывает, что результаты группы B лучше группы A. Есть тенденция к росту либо фиксация около среднего.\n",
    "\n",
    "\n",
    "3. График различия среднего чека колеблется, но результаты группы B лучше группы A.\n",
    "\n",
    "Так как на результаты анализа могли повлиять выбросы, мы проанализировали их и разделили данные на \"сырые\" и \"очищенные\" (без выбросов). Далее на \"сырых\" и \"очищенных\" мы провели статистический анализ с применением критерия Манна-Уитни и сделали следующие выводы:\n",
    "\n",
    "1. Есть статистически значимое различие по конверсии между группами A и B как по \"сырым\", так и по \"очищенным\" от аномалий данным. Относительный прирост конверсии группы B составляет 16%.\n",
    "\n",
    "\n",
    "2. Нет статистически значимого различия по среднему чеку между группами ни по \"сырым\", ни и по \"очищенным\" от аномалий данным.\n",
    "\n",
    "\n",
    "После статистического анализа мы смогли дополнить промежуточные выводы о преимуществе группы B над группой A по всем метрикам:\n",
    "\n",
    "1. Подтвердились различия конверсии между группами, результаты группы B лучше группы A. Относительный прирост составил 16%.\n",
    "\n",
    "\n",
    "2. Не подтвердились различия среднего чека между группами A и B. На результат повлияли выбросы, то есть редкие аномально дорогие заказы. Относительная разница в среднем чеке между группами составила -4%.\n",
    "\n",
    "Исходя из обнаруженных фактов, тест следует остановить и зафиксировать победу группы B за относительный прирост конверсии в 16%."
   ]
  }
 ],
 "metadata": {
  "ExecuteTimeLog": [
   {
    "duration": 1388,
    "start_time": "2022-05-25T08:41:40.101Z"
   },
   {
    "duration": 124,
    "start_time": "2022-05-25T08:42:50.487Z"
   },
   {
    "duration": 35,
    "start_time": "2022-05-25T08:43:56.406Z"
   },
   {
    "duration": 34,
    "start_time": "2022-05-25T08:44:05.990Z"
   },
   {
    "duration": 779,
    "start_time": "2022-05-25T08:45:57.091Z"
   },
   {
    "duration": 36,
    "start_time": "2022-05-25T08:45:57.872Z"
   },
   {
    "duration": 157,
    "start_time": "2022-05-25T08:47:51.435Z"
   },
   {
    "duration": 74,
    "start_time": "2022-05-25T08:48:14.803Z"
   },
   {
    "duration": 114,
    "start_time": "2022-05-25T08:48:39.608Z"
   },
   {
    "duration": 92,
    "start_time": "2022-05-25T08:49:15.704Z"
   },
   {
    "duration": 12,
    "start_time": "2022-05-25T08:53:09.588Z"
   },
   {
    "duration": 820,
    "start_time": "2022-05-25T08:57:03.425Z"
   },
   {
    "duration": 95,
    "start_time": "2022-05-25T08:57:04.247Z"
   },
   {
    "duration": 5,
    "start_time": "2022-05-25T08:57:04.344Z"
   },
   {
    "duration": 29,
    "start_time": "2022-05-25T08:57:53.219Z"
   },
   {
    "duration": 27,
    "start_time": "2022-05-25T08:58:00.133Z"
   },
   {
    "duration": 4,
    "start_time": "2022-05-25T09:03:19.645Z"
   },
   {
    "duration": 89,
    "start_time": "2022-05-25T09:03:21.699Z"
   },
   {
    "duration": 26,
    "start_time": "2022-05-25T09:04:37.303Z"
   },
   {
    "duration": 7,
    "start_time": "2022-05-25T09:09:11.928Z"
   },
   {
    "duration": 6,
    "start_time": "2022-05-25T09:09:25.683Z"
   },
   {
    "duration": 721,
    "start_time": "2022-05-25T09:10:09.561Z"
   },
   {
    "duration": 93,
    "start_time": "2022-05-25T09:10:10.284Z"
   },
   {
    "duration": 31,
    "start_time": "2022-05-25T09:10:10.379Z"
   },
   {
    "duration": 7,
    "start_time": "2022-05-25T09:10:10.412Z"
   },
   {
    "duration": 8,
    "start_time": "2022-05-25T09:10:26.689Z"
   },
   {
    "duration": 13,
    "start_time": "2022-05-25T09:10:42.893Z"
   },
   {
    "duration": 18,
    "start_time": "2022-05-25T09:12:17.730Z"
   },
   {
    "duration": 115,
    "start_time": "2022-05-25T09:20:08.009Z"
   },
   {
    "duration": 12,
    "start_time": "2022-05-25T09:20:47.439Z"
   },
   {
    "duration": 179,
    "start_time": "2022-05-25T09:21:10.186Z"
   },
   {
    "duration": 12,
    "start_time": "2022-05-25T09:21:50.287Z"
   },
   {
    "duration": 735,
    "start_time": "2022-05-25T09:21:59.699Z"
   },
   {
    "duration": 95,
    "start_time": "2022-05-25T09:22:00.436Z"
   },
   {
    "duration": 26,
    "start_time": "2022-05-25T09:22:00.533Z"
   },
   {
    "duration": 76,
    "start_time": "2022-05-25T09:22:00.562Z"
   },
   {
    "duration": 93,
    "start_time": "2022-05-25T09:22:53.203Z"
   },
   {
    "duration": 16,
    "start_time": "2022-05-25T09:23:06.872Z"
   },
   {
    "duration": 18,
    "start_time": "2022-05-25T09:25:13.519Z"
   },
   {
    "duration": 303,
    "start_time": "2022-05-25T09:25:18.213Z"
   },
   {
    "duration": 281,
    "start_time": "2022-05-25T09:25:29.019Z"
   },
   {
    "duration": 11,
    "start_time": "2022-05-25T09:26:06.654Z"
   },
   {
    "duration": 123,
    "start_time": "2022-05-25T09:26:29.136Z"
   },
   {
    "duration": 699,
    "start_time": "2022-05-25T09:26:39.936Z"
   },
   {
    "duration": 96,
    "start_time": "2022-05-25T09:26:40.637Z"
   },
   {
    "duration": 26,
    "start_time": "2022-05-25T09:26:40.734Z"
   },
   {
    "duration": 100,
    "start_time": "2022-05-25T09:26:40.762Z"
   },
   {
    "duration": 13,
    "start_time": "2022-05-25T09:27:09.518Z"
   },
   {
    "duration": 766,
    "start_time": "2022-05-25T09:27:45.165Z"
   },
   {
    "duration": 97,
    "start_time": "2022-05-25T09:27:45.933Z"
   },
   {
    "duration": 42,
    "start_time": "2022-05-25T09:27:46.031Z"
   },
   {
    "duration": 84,
    "start_time": "2022-05-25T09:27:46.075Z"
   },
   {
    "duration": 28,
    "start_time": "2022-05-25T09:29:04.286Z"
   },
   {
    "duration": 193,
    "start_time": "2022-05-25T09:29:08.040Z"
   },
   {
    "duration": 110,
    "start_time": "2022-05-25T09:29:12.007Z"
   },
   {
    "duration": 701,
    "start_time": "2022-05-25T09:29:35.484Z"
   },
   {
    "duration": 101,
    "start_time": "2022-05-25T09:29:36.187Z"
   },
   {
    "duration": 29,
    "start_time": "2022-05-25T09:29:36.290Z"
   },
   {
    "duration": 111,
    "start_time": "2022-05-25T09:29:36.320Z"
   },
   {
    "duration": 687,
    "start_time": "2022-05-25T09:29:46.920Z"
   },
   {
    "duration": 103,
    "start_time": "2022-05-25T09:29:47.609Z"
   },
   {
    "duration": 31,
    "start_time": "2022-05-25T09:29:47.714Z"
   },
   {
    "duration": 37,
    "start_time": "2022-05-25T09:29:47.746Z"
   },
   {
    "duration": 121,
    "start_time": "2022-05-25T09:33:58.867Z"
   },
   {
    "duration": 19,
    "start_time": "2022-05-25T09:34:17.479Z"
   },
   {
    "duration": 371,
    "start_time": "2022-05-25T10:11:22.792Z"
   },
   {
    "duration": 734,
    "start_time": "2022-05-25T10:12:01.440Z"
   },
   {
    "duration": 92,
    "start_time": "2022-05-25T10:12:02.176Z"
   },
   {
    "duration": 25,
    "start_time": "2022-05-25T10:12:02.269Z"
   },
   {
    "duration": 26,
    "start_time": "2022-05-25T10:12:02.296Z"
   },
   {
    "duration": 7,
    "start_time": "2022-05-25T10:12:02.324Z"
   },
   {
    "duration": 36,
    "start_time": "2022-05-25T10:12:02.332Z"
   },
   {
    "duration": 649,
    "start_time": "2022-05-25T10:12:21.006Z"
   },
   {
    "duration": 93,
    "start_time": "2022-05-25T10:12:21.657Z"
   },
   {
    "duration": 26,
    "start_time": "2022-05-25T10:12:21.752Z"
   },
   {
    "duration": 38,
    "start_time": "2022-05-25T10:12:21.779Z"
   },
   {
    "duration": 8,
    "start_time": "2022-05-25T10:12:21.819Z"
   },
   {
    "duration": 18,
    "start_time": "2022-05-25T10:12:21.828Z"
   },
   {
    "duration": 729,
    "start_time": "2022-05-25T10:12:43.632Z"
   },
   {
    "duration": 93,
    "start_time": "2022-05-25T10:12:44.363Z"
   },
   {
    "duration": 25,
    "start_time": "2022-05-25T10:12:44.458Z"
   },
   {
    "duration": 24,
    "start_time": "2022-05-25T10:12:44.485Z"
   },
   {
    "duration": 7,
    "start_time": "2022-05-25T10:12:44.511Z"
   },
   {
    "duration": 10,
    "start_time": "2022-05-25T10:12:44.519Z"
   },
   {
    "duration": 38,
    "start_time": "2022-05-25T10:13:51.053Z"
   },
   {
    "duration": 3,
    "start_time": "2022-05-25T10:14:03.101Z"
   },
   {
    "duration": 669,
    "start_time": "2022-05-25T10:14:07.018Z"
   },
   {
    "duration": 92,
    "start_time": "2022-05-25T10:14:07.689Z"
   },
   {
    "duration": 34,
    "start_time": "2022-05-25T10:14:07.783Z"
   },
   {
    "duration": 48,
    "start_time": "2022-05-25T10:14:07.820Z"
   },
   {
    "duration": 9,
    "start_time": "2022-05-25T10:14:07.870Z"
   },
   {
    "duration": 10,
    "start_time": "2022-05-25T10:14:07.881Z"
   },
   {
    "duration": 3,
    "start_time": "2022-05-25T10:14:18.749Z"
   },
   {
    "duration": 89,
    "start_time": "2022-05-25T10:14:20.070Z"
   },
   {
    "duration": 3,
    "start_time": "2022-05-25T10:14:23.324Z"
   },
   {
    "duration": 88,
    "start_time": "2022-05-25T10:14:24.601Z"
   },
   {
    "duration": 6,
    "start_time": "2022-05-25T10:14:28.580Z"
   },
   {
    "duration": 89,
    "start_time": "2022-05-25T10:14:30.005Z"
   },
   {
    "duration": 3,
    "start_time": "2022-05-25T10:14:33.821Z"
   },
   {
    "duration": 87,
    "start_time": "2022-05-25T10:14:35.350Z"
   },
   {
    "duration": 97,
    "start_time": "2022-05-25T10:14:41.987Z"
   },
   {
    "duration": 749,
    "start_time": "2022-05-25T10:14:45.613Z"
   },
   {
    "duration": 92,
    "start_time": "2022-05-25T10:14:46.364Z"
   },
   {
    "duration": 25,
    "start_time": "2022-05-25T10:14:46.458Z"
   },
   {
    "duration": 26,
    "start_time": "2022-05-25T10:14:46.485Z"
   },
   {
    "duration": 7,
    "start_time": "2022-05-25T10:14:46.513Z"
   },
   {
    "duration": 11,
    "start_time": "2022-05-25T10:14:46.522Z"
   },
   {
    "duration": 9,
    "start_time": "2022-05-25T10:15:13.019Z"
   },
   {
    "duration": 4,
    "start_time": "2022-05-25T10:15:19.402Z"
   },
   {
    "duration": 86,
    "start_time": "2022-05-25T10:15:22.050Z"
   },
   {
    "duration": 716,
    "start_time": "2022-05-25T10:15:28.350Z"
   },
   {
    "duration": 93,
    "start_time": "2022-05-25T10:15:29.068Z"
   },
   {
    "duration": 24,
    "start_time": "2022-05-25T10:15:29.163Z"
   },
   {
    "duration": 27,
    "start_time": "2022-05-25T10:15:29.189Z"
   },
   {
    "duration": 12,
    "start_time": "2022-05-25T10:15:29.218Z"
   },
   {
    "duration": 8,
    "start_time": "2022-05-25T10:15:29.232Z"
   },
   {
    "duration": 11,
    "start_time": "2022-05-25T10:15:46.874Z"
   },
   {
    "duration": 11,
    "start_time": "2022-05-25T10:15:54.468Z"
   },
   {
    "duration": 668,
    "start_time": "2022-05-25T10:16:21.911Z"
   },
   {
    "duration": 92,
    "start_time": "2022-05-25T10:16:22.581Z"
   },
   {
    "duration": 27,
    "start_time": "2022-05-25T10:16:22.675Z"
   },
   {
    "duration": 29,
    "start_time": "2022-05-25T10:16:22.705Z"
   },
   {
    "duration": 35,
    "start_time": "2022-05-25T10:16:22.735Z"
   },
   {
    "duration": 14,
    "start_time": "2022-05-25T10:16:22.772Z"
   },
   {
    "duration": 10,
    "start_time": "2022-05-25T10:16:43.281Z"
   },
   {
    "duration": 13,
    "start_time": "2022-05-25T10:18:47.730Z"
   },
   {
    "duration": 10,
    "start_time": "2022-05-25T11:06:45.728Z"
   },
   {
    "duration": 11,
    "start_time": "2022-05-25T11:06:47.078Z"
   },
   {
    "duration": 99,
    "start_time": "2022-05-25T11:17:26.224Z"
   },
   {
    "duration": 27,
    "start_time": "2022-05-25T11:17:58.767Z"
   },
   {
    "duration": 278,
    "start_time": "2022-05-25T11:19:24.844Z"
   },
   {
    "duration": 283,
    "start_time": "2022-05-25T11:19:37.209Z"
   },
   {
    "duration": 8,
    "start_time": "2022-05-25T11:41:17.997Z"
   },
   {
    "duration": 5,
    "start_time": "2022-05-25T11:41:21.822Z"
   },
   {
    "duration": 5,
    "start_time": "2022-05-25T11:41:26.679Z"
   },
   {
    "duration": 7,
    "start_time": "2022-05-25T11:42:02.653Z"
   },
   {
    "duration": 6,
    "start_time": "2022-05-25T11:42:59.459Z"
   },
   {
    "duration": 12,
    "start_time": "2022-05-25T11:43:26.614Z"
   },
   {
    "duration": 23,
    "start_time": "2022-05-25T11:49:15.979Z"
   },
   {
    "duration": 10,
    "start_time": "2022-05-25T11:49:22.188Z"
   },
   {
    "duration": 9,
    "start_time": "2022-05-25T11:49:30.420Z"
   },
   {
    "duration": 11,
    "start_time": "2022-05-25T11:52:48.391Z"
   },
   {
    "duration": 21,
    "start_time": "2022-05-25T11:52:54.611Z"
   },
   {
    "duration": 13,
    "start_time": "2022-05-25T11:54:04.196Z"
   },
   {
    "duration": 10,
    "start_time": "2022-05-25T11:54:09.787Z"
   },
   {
    "duration": 18,
    "start_time": "2022-05-25T11:54:14.961Z"
   },
   {
    "duration": 13,
    "start_time": "2022-05-25T11:54:24.664Z"
   },
   {
    "duration": 9,
    "start_time": "2022-05-25T11:54:31.670Z"
   },
   {
    "duration": 737,
    "start_time": "2022-05-25T11:54:38.318Z"
   },
   {
    "duration": 105,
    "start_time": "2022-05-25T11:54:39.057Z"
   },
   {
    "duration": 34,
    "start_time": "2022-05-25T11:54:39.164Z"
   },
   {
    "duration": 37,
    "start_time": "2022-05-25T11:54:39.200Z"
   },
   {
    "duration": 30,
    "start_time": "2022-05-25T11:54:39.240Z"
   },
   {
    "duration": 18,
    "start_time": "2022-05-25T11:54:39.272Z"
   },
   {
    "duration": 13,
    "start_time": "2022-05-25T11:54:39.292Z"
   },
   {
    "duration": 20,
    "start_time": "2022-05-25T11:54:39.307Z"
   },
   {
    "duration": 8,
    "start_time": "2022-05-25T11:54:39.329Z"
   },
   {
    "duration": 36,
    "start_time": "2022-05-25T11:54:39.339Z"
   },
   {
    "duration": 733,
    "start_time": "2022-05-25T11:54:55.935Z"
   },
   {
    "duration": 94,
    "start_time": "2022-05-25T11:54:56.670Z"
   },
   {
    "duration": 29,
    "start_time": "2022-05-25T11:54:56.766Z"
   },
   {
    "duration": 26,
    "start_time": "2022-05-25T11:54:56.797Z"
   },
   {
    "duration": 7,
    "start_time": "2022-05-25T11:54:56.825Z"
   },
   {
    "duration": 40,
    "start_time": "2022-05-25T11:54:56.834Z"
   },
   {
    "duration": 10,
    "start_time": "2022-05-25T11:54:56.876Z"
   },
   {
    "duration": 14,
    "start_time": "2022-05-25T11:54:56.888Z"
   },
   {
    "duration": 277,
    "start_time": "2022-05-25T11:55:11.515Z"
   },
   {
    "duration": 90,
    "start_time": "2022-05-25T11:55:20.245Z"
   },
   {
    "duration": 13,
    "start_time": "2022-05-25T11:55:24.330Z"
   },
   {
    "duration": 14,
    "start_time": "2022-05-25T11:55:37.605Z"
   },
   {
    "duration": 37,
    "start_time": "2022-05-25T11:55:46.611Z"
   },
   {
    "duration": 13,
    "start_time": "2022-05-25T11:55:49.090Z"
   },
   {
    "duration": 8,
    "start_time": "2022-05-25T11:57:03.724Z"
   },
   {
    "duration": 9,
    "start_time": "2022-05-25T11:57:09.765Z"
   },
   {
    "duration": 541,
    "start_time": "2022-05-25T12:03:53.680Z"
   },
   {
    "duration": 202,
    "start_time": "2022-05-25T12:04:01.098Z"
   },
   {
    "duration": 184,
    "start_time": "2022-05-25T12:04:07.337Z"
   },
   {
    "duration": 201,
    "start_time": "2022-05-25T12:04:27.751Z"
   },
   {
    "duration": 30,
    "start_time": "2022-05-25T12:04:56.123Z"
   },
   {
    "duration": 187,
    "start_time": "2022-05-25T12:05:00.050Z"
   },
   {
    "duration": 200,
    "start_time": "2022-05-25T12:05:43.248Z"
   },
   {
    "duration": 202,
    "start_time": "2022-05-25T12:05:48.597Z"
   },
   {
    "duration": 280,
    "start_time": "2022-05-25T12:05:55.760Z"
   },
   {
    "duration": 281,
    "start_time": "2022-05-25T12:07:10.236Z"
   },
   {
    "duration": 241,
    "start_time": "2022-05-25T12:07:18.787Z"
   },
   {
    "duration": 224,
    "start_time": "2022-05-25T12:07:31.390Z"
   },
   {
    "duration": 866,
    "start_time": "2022-05-25T15:01:59.757Z"
   },
   {
    "duration": 201,
    "start_time": "2022-05-25T15:02:00.625Z"
   },
   {
    "duration": 25,
    "start_time": "2022-05-25T15:02:00.827Z"
   },
   {
    "duration": 27,
    "start_time": "2022-05-25T15:02:00.854Z"
   },
   {
    "duration": 7,
    "start_time": "2022-05-25T15:02:00.883Z"
   },
   {
    "duration": 32,
    "start_time": "2022-05-25T15:02:00.891Z"
   },
   {
    "duration": 12,
    "start_time": "2022-05-25T15:02:00.925Z"
   },
   {
    "duration": 13,
    "start_time": "2022-05-25T15:02:00.938Z"
   },
   {
    "duration": 7,
    "start_time": "2022-05-25T15:02:00.953Z"
   },
   {
    "duration": 305,
    "start_time": "2022-05-25T15:02:00.963Z"
   },
   {
    "duration": 309,
    "start_time": "2022-05-25T15:02:01.269Z"
   },
   {
    "duration": 4,
    "start_time": "2022-05-25T15:02:50.577Z"
   },
   {
    "duration": 91,
    "start_time": "2022-05-25T15:02:50.583Z"
   },
   {
    "duration": 24,
    "start_time": "2022-05-25T15:02:50.675Z"
   },
   {
    "duration": 27,
    "start_time": "2022-05-25T15:02:50.701Z"
   },
   {
    "duration": 9,
    "start_time": "2022-05-25T15:02:50.731Z"
   },
   {
    "duration": 19,
    "start_time": "2022-05-25T15:02:50.741Z"
   },
   {
    "duration": 12,
    "start_time": "2022-05-25T15:02:50.762Z"
   },
   {
    "duration": 9,
    "start_time": "2022-05-25T15:02:50.776Z"
   },
   {
    "duration": 5,
    "start_time": "2022-05-25T15:02:50.787Z"
   },
   {
    "duration": 307,
    "start_time": "2022-05-25T15:02:50.794Z"
   },
   {
    "duration": 208,
    "start_time": "2022-05-25T15:02:51.103Z"
   },
   {
    "duration": 177,
    "start_time": "2022-05-25T15:02:53.427Z"
   },
   {
    "duration": 204,
    "start_time": "2022-05-25T15:03:05.122Z"
   },
   {
    "duration": 183,
    "start_time": "2022-05-25T15:03:26.699Z"
   },
   {
    "duration": 259,
    "start_time": "2022-05-25T15:03:32.423Z"
   },
   {
    "duration": 202,
    "start_time": "2022-05-25T15:03:40.064Z"
   },
   {
    "duration": 275,
    "start_time": "2022-05-25T15:03:44.044Z"
   },
   {
    "duration": 207,
    "start_time": "2022-05-25T15:03:57.581Z"
   },
   {
    "duration": 191,
    "start_time": "2022-05-25T15:03:59.832Z"
   },
   {
    "duration": 335,
    "start_time": "2022-05-25T15:07:32.650Z"
   },
   {
    "duration": 165,
    "start_time": "2022-05-25T15:09:55.115Z"
   },
   {
    "duration": 196,
    "start_time": "2022-05-25T15:10:06.391Z"
   },
   {
    "duration": 272,
    "start_time": "2022-05-25T15:10:20.123Z"
   },
   {
    "duration": 232,
    "start_time": "2022-05-25T15:10:40.127Z"
   },
   {
    "duration": 96,
    "start_time": "2022-05-25T15:12:52.854Z"
   },
   {
    "duration": 16,
    "start_time": "2022-05-25T15:13:04.209Z"
   },
   {
    "duration": 381,
    "start_time": "2022-05-25T15:13:15.297Z"
   },
   {
    "duration": 323,
    "start_time": "2022-05-25T15:13:22.249Z"
   },
   {
    "duration": 318,
    "start_time": "2022-05-25T15:13:36.307Z"
   },
   {
    "duration": 176,
    "start_time": "2022-05-25T15:14:11.338Z"
   },
   {
    "duration": 298,
    "start_time": "2022-05-25T15:14:39.389Z"
   },
   {
    "duration": 313,
    "start_time": "2022-05-25T15:14:51.045Z"
   },
   {
    "duration": 276,
    "start_time": "2022-05-25T15:14:55.348Z"
   },
   {
    "duration": 202,
    "start_time": "2022-05-25T15:15:49.763Z"
   },
   {
    "duration": 294,
    "start_time": "2022-05-25T15:16:26.139Z"
   },
   {
    "duration": 209,
    "start_time": "2022-05-25T15:16:58.577Z"
   },
   {
    "duration": 271,
    "start_time": "2022-05-25T15:17:13.693Z"
   },
   {
    "duration": 201,
    "start_time": "2022-05-25T15:17:29.724Z"
   },
   {
    "duration": 210,
    "start_time": "2022-05-25T15:18:54.447Z"
   },
   {
    "duration": 304,
    "start_time": "2022-05-25T15:19:14.353Z"
   },
   {
    "duration": 208,
    "start_time": "2022-05-25T15:19:23.096Z"
   },
   {
    "duration": 213,
    "start_time": "2022-05-25T15:19:33.336Z"
   },
   {
    "duration": 276,
    "start_time": "2022-05-25T15:19:44.739Z"
   },
   {
    "duration": 15,
    "start_time": "2022-05-25T16:43:42.033Z"
   },
   {
    "duration": 14,
    "start_time": "2022-05-25T16:44:16.837Z"
   },
   {
    "duration": 673,
    "start_time": "2022-05-25T16:46:04.150Z"
   },
   {
    "duration": 91,
    "start_time": "2022-05-25T16:46:04.825Z"
   },
   {
    "duration": 26,
    "start_time": "2022-05-25T16:46:04.918Z"
   },
   {
    "duration": 27,
    "start_time": "2022-05-25T16:46:04.946Z"
   },
   {
    "duration": 6,
    "start_time": "2022-05-25T16:46:04.975Z"
   },
   {
    "duration": 17,
    "start_time": "2022-05-25T16:46:04.982Z"
   },
   {
    "duration": 33,
    "start_time": "2022-05-25T16:46:05.001Z"
   },
   {
    "duration": 43,
    "start_time": "2022-05-25T16:46:05.036Z"
   },
   {
    "duration": 19,
    "start_time": "2022-05-25T16:46:05.081Z"
   },
   {
    "duration": 282,
    "start_time": "2022-05-25T16:46:05.103Z"
   },
   {
    "duration": 81,
    "start_time": "2022-05-25T16:46:08.369Z"
   },
   {
    "duration": 18,
    "start_time": "2022-05-25T16:47:07.951Z"
   },
   {
    "duration": 467,
    "start_time": "2022-05-25T16:50:31.606Z"
   },
   {
    "duration": 15,
    "start_time": "2022-05-25T16:50:42.001Z"
   },
   {
    "duration": 196,
    "start_time": "2022-05-25T16:50:54.867Z"
   },
   {
    "duration": 197,
    "start_time": "2022-05-25T16:51:06.686Z"
   },
   {
    "duration": 348,
    "start_time": "2022-05-25T16:51:10.300Z"
   },
   {
    "duration": 267,
    "start_time": "2022-05-25T16:51:12.527Z"
   },
   {
    "duration": 344,
    "start_time": "2022-05-25T16:51:14.792Z"
   },
   {
    "duration": 1039,
    "start_time": "2022-05-26T09:33:56.633Z"
   },
   {
    "duration": 206,
    "start_time": "2022-05-26T09:33:57.675Z"
   },
   {
    "duration": 34,
    "start_time": "2022-05-26T09:33:57.883Z"
   },
   {
    "duration": 38,
    "start_time": "2022-05-26T09:33:57.919Z"
   },
   {
    "duration": 7,
    "start_time": "2022-05-26T09:33:57.959Z"
   },
   {
    "duration": 45,
    "start_time": "2022-05-26T09:33:57.968Z"
   },
   {
    "duration": 11,
    "start_time": "2022-05-26T09:33:58.015Z"
   },
   {
    "duration": 22,
    "start_time": "2022-05-26T09:33:58.028Z"
   },
   {
    "duration": 7,
    "start_time": "2022-05-26T09:33:58.052Z"
   },
   {
    "duration": 322,
    "start_time": "2022-05-26T09:33:58.062Z"
   },
   {
    "duration": 325,
    "start_time": "2022-05-26T09:33:58.386Z"
   },
   {
    "duration": 221,
    "start_time": "2022-05-26T09:33:58.713Z"
   },
   {
    "duration": 394,
    "start_time": "2022-05-26T09:33:58.936Z"
   },
   {
    "duration": 221,
    "start_time": "2022-05-26T09:33:59.331Z"
   },
   {
    "duration": 368,
    "start_time": "2022-05-26T09:33:59.553Z"
   },
   {
    "duration": 10,
    "start_time": "2022-05-26T09:34:03.225Z"
   },
   {
    "duration": 136,
    "start_time": "2022-05-26T09:35:50.916Z"
   },
   {
    "duration": 132,
    "start_time": "2022-05-26T09:35:58.247Z"
   },
   {
    "duration": 244,
    "start_time": "2022-05-26T09:36:56.236Z"
   },
   {
    "duration": 111,
    "start_time": "2022-05-26T09:37:04.063Z"
   },
   {
    "duration": 226,
    "start_time": "2022-05-26T09:37:13.087Z"
   },
   {
    "duration": 89,
    "start_time": "2022-05-26T09:38:08.486Z"
   },
   {
    "duration": 230,
    "start_time": "2022-05-26T09:38:26.881Z"
   },
   {
    "duration": 141,
    "start_time": "2022-05-26T09:38:32.192Z"
   },
   {
    "duration": 118,
    "start_time": "2022-05-26T09:38:53.710Z"
   },
   {
    "duration": 156,
    "start_time": "2022-05-26T09:39:24.897Z"
   },
   {
    "duration": 113,
    "start_time": "2022-05-26T09:39:50.845Z"
   },
   {
    "duration": 127,
    "start_time": "2022-05-26T09:39:57.350Z"
   },
   {
    "duration": 262,
    "start_time": "2022-05-26T09:40:08.277Z"
   },
   {
    "duration": 172,
    "start_time": "2022-05-26T09:41:28.778Z"
   },
   {
    "duration": 145,
    "start_time": "2022-05-26T09:41:53.524Z"
   },
   {
    "duration": 152,
    "start_time": "2022-05-26T09:42:17.604Z"
   },
   {
    "duration": 155,
    "start_time": "2022-05-26T09:42:25.751Z"
   },
   {
    "duration": 6,
    "start_time": "2022-05-26T09:47:37.393Z"
   },
   {
    "duration": 127,
    "start_time": "2022-05-26T09:51:27.086Z"
   },
   {
    "duration": 161,
    "start_time": "2022-05-26T09:52:57.188Z"
   },
   {
    "duration": 168,
    "start_time": "2022-05-26T09:53:12.559Z"
   },
   {
    "duration": 10,
    "start_time": "2022-05-26T09:56:07.030Z"
   },
   {
    "duration": 311,
    "start_time": "2022-05-26T09:56:13.849Z"
   },
   {
    "duration": 154,
    "start_time": "2022-05-26T09:56:56.026Z"
   },
   {
    "duration": 5,
    "start_time": "2022-05-26T09:57:05.375Z"
   },
   {
    "duration": 16,
    "start_time": "2022-05-26T09:57:25.722Z"
   },
   {
    "duration": 5,
    "start_time": "2022-05-26T09:57:54.269Z"
   },
   {
    "duration": 8,
    "start_time": "2022-05-26T09:58:09.612Z"
   },
   {
    "duration": 5,
    "start_time": "2022-05-26T10:00:40.696Z"
   },
   {
    "duration": 5,
    "start_time": "2022-05-26T10:00:59.579Z"
   },
   {
    "duration": 436,
    "start_time": "2022-05-26T11:09:26.536Z"
   },
   {
    "duration": 490,
    "start_time": "2022-05-26T11:10:14.115Z"
   },
   {
    "duration": 512,
    "start_time": "2022-05-26T11:11:28.046Z"
   },
   {
    "duration": 452,
    "start_time": "2022-05-26T11:11:40.227Z"
   },
   {
    "duration": 315,
    "start_time": "2022-05-26T11:13:35.316Z"
   },
   {
    "duration": 302,
    "start_time": "2022-05-26T11:27:46.856Z"
   },
   {
    "duration": 188,
    "start_time": "2022-05-26T11:48:27.553Z"
   },
   {
    "duration": 14,
    "start_time": "2022-05-26T11:48:30.580Z"
   },
   {
    "duration": 7,
    "start_time": "2022-05-26T11:49:00.338Z"
   },
   {
    "duration": 10,
    "start_time": "2022-05-26T11:49:02.185Z"
   },
   {
    "duration": 17,
    "start_time": "2022-05-26T11:49:30.713Z"
   },
   {
    "duration": 723,
    "start_time": "2022-05-26T11:49:59.659Z"
   },
   {
    "duration": 47,
    "start_time": "2022-05-26T11:50:05.541Z"
   },
   {
    "duration": 8,
    "start_time": "2022-05-26T11:50:09.236Z"
   },
   {
    "duration": 46,
    "start_time": "2022-05-26T11:50:10.268Z"
   },
   {
    "duration": 12,
    "start_time": "2022-05-26T11:57:35.350Z"
   },
   {
    "duration": 1150,
    "start_time": "2022-05-26T14:53:08.715Z"
   },
   {
    "duration": 226,
    "start_time": "2022-05-26T14:53:09.867Z"
   },
   {
    "duration": 24,
    "start_time": "2022-05-26T14:53:10.095Z"
   },
   {
    "duration": 34,
    "start_time": "2022-05-26T14:53:10.122Z"
   },
   {
    "duration": 18,
    "start_time": "2022-05-26T14:53:10.157Z"
   },
   {
    "duration": 11,
    "start_time": "2022-05-26T14:53:10.176Z"
   },
   {
    "duration": 11,
    "start_time": "2022-05-26T14:53:10.188Z"
   },
   {
    "duration": 13,
    "start_time": "2022-05-26T14:53:10.200Z"
   },
   {
    "duration": 6,
    "start_time": "2022-05-26T14:53:10.214Z"
   },
   {
    "duration": 296,
    "start_time": "2022-05-26T14:53:10.223Z"
   },
   {
    "duration": 315,
    "start_time": "2022-05-26T14:53:10.521Z"
   },
   {
    "duration": 266,
    "start_time": "2022-05-26T14:53:10.838Z"
   },
   {
    "duration": 316,
    "start_time": "2022-05-26T14:53:11.106Z"
   },
   {
    "duration": 202,
    "start_time": "2022-05-26T14:53:11.423Z"
   },
   {
    "duration": 269,
    "start_time": "2022-05-26T14:53:11.626Z"
   },
   {
    "duration": 149,
    "start_time": "2022-05-26T14:53:11.896Z"
   },
   {
    "duration": 4,
    "start_time": "2022-05-26T14:53:12.047Z"
   },
   {
    "duration": 5,
    "start_time": "2022-05-26T14:53:12.052Z"
   },
   {
    "duration": 0,
    "start_time": "2022-05-26T14:53:12.058Z"
   },
   {
    "duration": 0,
    "start_time": "2022-05-26T14:53:12.059Z"
   },
   {
    "duration": 0,
    "start_time": "2022-05-26T14:53:12.075Z"
   },
   {
    "duration": 0,
    "start_time": "2022-05-26T14:53:12.076Z"
   },
   {
    "duration": 0,
    "start_time": "2022-05-26T14:53:12.077Z"
   },
   {
    "duration": 95,
    "start_time": "2022-05-26T14:53:19.241Z"
   },
   {
    "duration": 9,
    "start_time": "2022-05-26T14:53:23.257Z"
   },
   {
    "duration": 130,
    "start_time": "2022-05-26T14:53:34.349Z"
   },
   {
    "duration": 5,
    "start_time": "2022-05-26T14:53:36.791Z"
   },
   {
    "duration": 227,
    "start_time": "2022-05-26T14:53:39.327Z"
   },
   {
    "duration": 110,
    "start_time": "2022-05-26T14:53:41.109Z"
   },
   {
    "duration": 8,
    "start_time": "2022-05-26T14:53:43.333Z"
   },
   {
    "duration": 29,
    "start_time": "2022-05-26T14:53:45.868Z"
   },
   {
    "duration": 10,
    "start_time": "2022-05-26T14:53:47.822Z"
   },
   {
    "duration": 10,
    "start_time": "2022-05-26T14:55:46.158Z"
   },
   {
    "duration": 4,
    "start_time": "2022-05-26T14:55:55.428Z"
   },
   {
    "duration": 32,
    "start_time": "2022-05-26T14:56:00.136Z"
   },
   {
    "duration": 10,
    "start_time": "2022-05-26T14:56:01.424Z"
   },
   {
    "duration": 46,
    "start_time": "2022-05-26T14:58:07.391Z"
   },
   {
    "duration": 24,
    "start_time": "2022-05-26T14:58:44.442Z"
   },
   {
    "duration": 28,
    "start_time": "2022-05-26T15:04:23.034Z"
   },
   {
    "duration": 25,
    "start_time": "2022-05-26T15:06:30.607Z"
   },
   {
    "duration": 11,
    "start_time": "2022-05-26T15:11:43.649Z"
   },
   {
    "duration": 10,
    "start_time": "2022-05-26T15:13:58.468Z"
   },
   {
    "duration": 26,
    "start_time": "2022-05-26T15:14:01.227Z"
   },
   {
    "duration": 31,
    "start_time": "2022-05-26T15:14:53.873Z"
   },
   {
    "duration": 28,
    "start_time": "2022-05-26T15:15:10.148Z"
   },
   {
    "duration": 32,
    "start_time": "2022-05-26T15:15:22.701Z"
   },
   {
    "duration": 27,
    "start_time": "2022-05-26T15:15:31.567Z"
   },
   {
    "duration": 12,
    "start_time": "2022-05-26T15:16:00.425Z"
   },
   {
    "duration": 25,
    "start_time": "2022-05-26T15:16:29.416Z"
   },
   {
    "duration": 13,
    "start_time": "2022-05-26T15:16:42.155Z"
   },
   {
    "duration": 11,
    "start_time": "2022-05-26T15:16:45.211Z"
   },
   {
    "duration": 11,
    "start_time": "2022-05-26T15:25:52.334Z"
   },
   {
    "duration": 28,
    "start_time": "2022-05-26T15:26:54.815Z"
   },
   {
    "duration": 495,
    "start_time": "2022-05-26T15:26:58.940Z"
   },
   {
    "duration": 414,
    "start_time": "2022-05-26T15:28:59.523Z"
   },
   {
    "duration": 118,
    "start_time": "2022-05-26T15:29:27.801Z"
   },
   {
    "duration": 118,
    "start_time": "2022-05-26T15:29:30.512Z"
   },
   {
    "duration": 410,
    "start_time": "2022-05-26T15:29:49.933Z"
   },
   {
    "duration": 9,
    "start_time": "2022-05-26T15:30:10.203Z"
   },
   {
    "duration": 11,
    "start_time": "2022-05-26T15:36:42.746Z"
   },
   {
    "duration": 33,
    "start_time": "2022-05-26T15:37:40.904Z"
   },
   {
    "duration": 439,
    "start_time": "2022-05-26T15:49:19.053Z"
   },
   {
    "duration": 493,
    "start_time": "2022-05-26T15:49:51.484Z"
   },
   {
    "duration": 478,
    "start_time": "2022-05-26T15:49:58.763Z"
   },
   {
    "duration": 14,
    "start_time": "2022-05-26T15:50:13.903Z"
   },
   {
    "duration": 14,
    "start_time": "2022-05-26T15:55:55.052Z"
   },
   {
    "duration": 150,
    "start_time": "2022-05-26T16:47:09.348Z"
   },
   {
    "duration": 151,
    "start_time": "2022-05-26T16:47:18.783Z"
   },
   {
    "duration": 234,
    "start_time": "2022-05-26T16:47:30.165Z"
   },
   {
    "duration": 139,
    "start_time": "2022-05-26T16:47:35.854Z"
   },
   {
    "duration": 285,
    "start_time": "2022-05-26T16:47:41.475Z"
   },
   {
    "duration": 312,
    "start_time": "2022-05-26T16:47:47.945Z"
   },
   {
    "duration": 264,
    "start_time": "2022-05-26T16:48:10.330Z"
   },
   {
    "duration": 200,
    "start_time": "2022-05-26T16:48:28.227Z"
   },
   {
    "duration": 1341,
    "start_time": "2022-05-27T11:02:56.683Z"
   },
   {
    "duration": 229,
    "start_time": "2022-05-27T11:02:58.026Z"
   },
   {
    "duration": 29,
    "start_time": "2022-05-27T11:02:58.257Z"
   },
   {
    "duration": 36,
    "start_time": "2022-05-27T11:02:58.288Z"
   },
   {
    "duration": 25,
    "start_time": "2022-05-27T11:02:58.326Z"
   },
   {
    "duration": 30,
    "start_time": "2022-05-27T11:02:58.353Z"
   },
   {
    "duration": 14,
    "start_time": "2022-05-27T11:02:58.385Z"
   },
   {
    "duration": 21,
    "start_time": "2022-05-27T11:02:58.401Z"
   },
   {
    "duration": 24,
    "start_time": "2022-05-27T11:02:58.424Z"
   },
   {
    "duration": 309,
    "start_time": "2022-05-27T11:02:58.451Z"
   },
   {
    "duration": 417,
    "start_time": "2022-05-27T11:02:58.762Z"
   },
   {
    "duration": 317,
    "start_time": "2022-05-27T11:02:59.181Z"
   },
   {
    "duration": 373,
    "start_time": "2022-05-27T11:02:59.500Z"
   },
   {
    "duration": 244,
    "start_time": "2022-05-27T11:02:59.875Z"
   },
   {
    "duration": 300,
    "start_time": "2022-05-27T11:03:00.121Z"
   },
   {
    "duration": 175,
    "start_time": "2022-05-27T11:03:00.424Z"
   },
   {
    "duration": 5,
    "start_time": "2022-05-27T11:03:00.602Z"
   },
   {
    "duration": 197,
    "start_time": "2022-05-27T11:03:00.609Z"
   },
   {
    "duration": 5,
    "start_time": "2022-05-27T11:03:00.809Z"
   },
   {
    "duration": 257,
    "start_time": "2022-05-27T11:03:00.816Z"
   },
   {
    "duration": 155,
    "start_time": "2022-05-27T11:03:01.076Z"
   },
   {
    "duration": 8,
    "start_time": "2022-05-27T11:03:01.233Z"
   },
   {
    "duration": 70,
    "start_time": "2022-05-27T11:03:01.243Z"
   },
   {
    "duration": 13,
    "start_time": "2022-05-27T11:03:01.316Z"
   },
   {
    "duration": 52,
    "start_time": "2022-05-27T11:03:01.331Z"
   },
   {
    "duration": 55,
    "start_time": "2022-05-27T11:03:01.385Z"
   },
   {
    "duration": 24,
    "start_time": "2022-05-27T11:03:01.441Z"
   },
   {
    "duration": 195,
    "start_time": "2022-05-27T11:16:05.868Z"
   },
   {
    "duration": 199,
    "start_time": "2022-05-27T11:17:07.925Z"
   },
   {
    "duration": 9,
    "start_time": "2022-05-27T11:23:28.173Z"
   },
   {
    "duration": 1132,
    "start_time": "2022-05-27T11:23:32.371Z"
   },
   {
    "duration": 96,
    "start_time": "2022-05-27T11:23:33.505Z"
   },
   {
    "duration": 28,
    "start_time": "2022-05-27T11:23:33.604Z"
   },
   {
    "duration": 31,
    "start_time": "2022-05-27T11:23:33.634Z"
   },
   {
    "duration": 31,
    "start_time": "2022-05-27T11:23:33.667Z"
   },
   {
    "duration": 13,
    "start_time": "2022-05-27T11:23:33.700Z"
   },
   {
    "duration": 12,
    "start_time": "2022-05-27T11:23:33.715Z"
   },
   {
    "duration": 13,
    "start_time": "2022-05-27T11:23:33.729Z"
   },
   {
    "duration": 15,
    "start_time": "2022-05-27T11:23:33.743Z"
   },
   {
    "duration": 325,
    "start_time": "2022-05-27T11:23:33.759Z"
   },
   {
    "duration": 348,
    "start_time": "2022-05-27T11:23:34.086Z"
   },
   {
    "duration": 312,
    "start_time": "2022-05-27T11:23:34.436Z"
   },
   {
    "duration": 319,
    "start_time": "2022-05-27T11:23:34.750Z"
   },
   {
    "duration": 235,
    "start_time": "2022-05-27T11:23:35.071Z"
   },
   {
    "duration": 310,
    "start_time": "2022-05-27T11:23:35.308Z"
   },
   {
    "duration": 172,
    "start_time": "2022-05-27T11:23:35.620Z"
   },
   {
    "duration": 5,
    "start_time": "2022-05-27T11:23:35.794Z"
   },
   {
    "duration": 157,
    "start_time": "2022-05-27T11:23:35.801Z"
   },
   {
    "duration": 5,
    "start_time": "2022-05-27T11:23:35.959Z"
   },
   {
    "duration": 243,
    "start_time": "2022-05-27T11:23:35.966Z"
   },
   {
    "duration": 147,
    "start_time": "2022-05-27T11:23:36.211Z"
   },
   {
    "duration": 7,
    "start_time": "2022-05-27T11:23:36.360Z"
   },
   {
    "duration": 49,
    "start_time": "2022-05-27T11:23:36.368Z"
   },
   {
    "duration": 11,
    "start_time": "2022-05-27T11:23:36.419Z"
   },
   {
    "duration": 10,
    "start_time": "2022-05-27T11:23:36.432Z"
   },
   {
    "duration": 55,
    "start_time": "2022-05-27T11:23:36.444Z"
   },
   {
    "duration": 15,
    "start_time": "2022-05-27T11:23:36.501Z"
   },
   {
    "duration": 1111,
    "start_time": "2022-05-27T18:28:18.989Z"
   },
   {
    "duration": 210,
    "start_time": "2022-05-27T18:28:20.102Z"
   },
   {
    "duration": 27,
    "start_time": "2022-05-27T18:28:20.314Z"
   },
   {
    "duration": 56,
    "start_time": "2022-05-27T18:28:20.344Z"
   },
   {
    "duration": 8,
    "start_time": "2022-05-27T18:28:20.403Z"
   },
   {
    "duration": 19,
    "start_time": "2022-05-27T18:28:20.413Z"
   },
   {
    "duration": 14,
    "start_time": "2022-05-27T18:28:20.434Z"
   },
   {
    "duration": 17,
    "start_time": "2022-05-27T18:28:20.450Z"
   },
   {
    "duration": 7,
    "start_time": "2022-05-27T18:28:20.495Z"
   },
   {
    "duration": 319,
    "start_time": "2022-05-27T18:28:20.505Z"
   },
   {
    "duration": 396,
    "start_time": "2022-05-27T18:28:20.826Z"
   },
   {
    "duration": 301,
    "start_time": "2022-05-27T18:28:21.224Z"
   },
   {
    "duration": 315,
    "start_time": "2022-05-27T18:28:21.527Z"
   },
   {
    "duration": 251,
    "start_time": "2022-05-27T18:28:21.844Z"
   },
   {
    "duration": 321,
    "start_time": "2022-05-27T18:28:22.096Z"
   },
   {
    "duration": 166,
    "start_time": "2022-05-27T18:28:22.418Z"
   },
   {
    "duration": 4,
    "start_time": "2022-05-27T18:28:22.586Z"
   },
   {
    "duration": 185,
    "start_time": "2022-05-27T18:28:22.595Z"
   },
   {
    "duration": 17,
    "start_time": "2022-05-27T18:28:22.782Z"
   },
   {
    "duration": 258,
    "start_time": "2022-05-27T18:28:22.801Z"
   },
   {
    "duration": 172,
    "start_time": "2022-05-27T18:28:23.061Z"
   },
   {
    "duration": 7,
    "start_time": "2022-05-27T18:28:23.234Z"
   },
   {
    "duration": 34,
    "start_time": "2022-05-27T18:28:23.242Z"
   },
   {
    "duration": 24,
    "start_time": "2022-05-27T18:28:23.278Z"
   },
   {
    "duration": 10,
    "start_time": "2022-05-27T18:28:23.304Z"
   },
   {
    "duration": 55,
    "start_time": "2022-05-27T18:28:23.316Z"
   },
   {
    "duration": 33,
    "start_time": "2022-05-27T18:28:23.373Z"
   }
  ],
  "kernelspec": {
   "display_name": "Python 3 (ipykernel)",
   "language": "python",
   "name": "python3"
  },
  "language_info": {
   "codemirror_mode": {
    "name": "ipython",
    "version": 3
   },
   "file_extension": ".py",
   "mimetype": "text/x-python",
   "name": "python",
   "nbconvert_exporter": "python",
   "pygments_lexer": "ipython3",
   "version": "3.9.7"
  },
  "toc": {
   "base_numbering": 1,
   "nav_menu": {},
   "number_sections": true,
   "sideBar": true,
   "skip_h1_title": true,
   "title_cell": "Table of Contents",
   "title_sidebar": "Contents",
   "toc_cell": false,
   "toc_position": {
    "height": "calc(100% - 180px)",
    "left": "10px",
    "top": "150px",
    "width": "366.391px"
   },
   "toc_section_display": true,
   "toc_window_display": true
  }
 },
 "nbformat": 4,
 "nbformat_minor": 2
}
