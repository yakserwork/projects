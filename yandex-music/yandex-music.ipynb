{
 "cells": [
  {
   "cell_type": "markdown",
   "metadata": {
    "id": "VUC88oWjTJw2"
   },
   "source": [
    "# Исследование сервиса Яндекс Музыка\n",
    "\n",
    "**Цель исследования** \n",
    "\n",
    "Необходимо сравнить поведение пользователей Москвы и Санкт-Петербурга. Проверить гипотезы:\n",
    "\n",
    "1. Активность пользователей зависит от дня недели, причем в Москве и Петербурге это проявляется по-разному.\n",
    "2. В понедельник утром и в пятницу вечером в Москве преобладают одни жанры, а в Петербурге — другие.\n",
    "3. В Москве чаще слушают поп-музыку, в Петербурге — русский рэп.\n",
    "\n",
    "**Ход исследования**\n",
    "\n",
    " 1. Обзор данных.\n",
    " 2. Предобработка данных.\n",
    " 3. Проверка гипотез."
   ]
  },
  {
   "cell_type": "markdown",
   "metadata": {
    "id": "Ml1hmfXC_Zcs"
   },
   "source": [
    "## Обзор данных\n",
    "\n",
    "Составим первое представление о данных. Импортируем библиотеку `pandas`."
   ]
  },
  {
   "cell_type": "code",
   "execution_count": 1,
   "metadata": {
    "id": "AXN7PHPN_Zcs"
   },
   "outputs": [],
   "source": [
    "import pandas as pd # импорт библиотеки pandas"
   ]
  },
  {
   "cell_type": "markdown",
   "metadata": {
    "id": "SG23P8tt_Zcs"
   },
   "source": [
    "Прочитаем файл `yandex_music_project.csv` из папки `/datasets` и сохраните его в переменной `df`:"
   ]
  },
  {
   "cell_type": "code",
   "execution_count": 2,
   "metadata": {
    "id": "fFVu7vqh_Zct"
   },
   "outputs": [],
   "source": [
    "df = pd.read_csv('/datasets/yandex_music_project.csv') # чтение файла с данными и сохранение в df"
   ]
  },
  {
   "cell_type": "markdown",
   "metadata": {
    "id": "rDoOMd3uTqnZ"
   },
   "source": [
    "Выведим на экран первые десять строк таблицы:"
   ]
  },
  {
   "cell_type": "code",
   "execution_count": 3,
   "metadata": {
    "id": "oWTVX3gW_Zct"
   },
   "outputs": [
    {
     "data": {
      "text/html": [
       "<div>\n",
       "<style scoped>\n",
       "    .dataframe tbody tr th:only-of-type {\n",
       "        vertical-align: middle;\n",
       "    }\n",
       "\n",
       "    .dataframe tbody tr th {\n",
       "        vertical-align: top;\n",
       "    }\n",
       "\n",
       "    .dataframe thead th {\n",
       "        text-align: right;\n",
       "    }\n",
       "</style>\n",
       "<table border=\"1\" class=\"dataframe\">\n",
       "  <thead>\n",
       "    <tr style=\"text-align: right;\">\n",
       "      <th></th>\n",
       "      <th>userID</th>\n",
       "      <th>Track</th>\n",
       "      <th>artist</th>\n",
       "      <th>genre</th>\n",
       "      <th>City</th>\n",
       "      <th>time</th>\n",
       "      <th>Day</th>\n",
       "    </tr>\n",
       "  </thead>\n",
       "  <tbody>\n",
       "    <tr>\n",
       "      <td>0</td>\n",
       "      <td>FFB692EC</td>\n",
       "      <td>Kamigata To Boots</td>\n",
       "      <td>The Mass Missile</td>\n",
       "      <td>rock</td>\n",
       "      <td>Saint-Petersburg</td>\n",
       "      <td>20:28:33</td>\n",
       "      <td>Wednesday</td>\n",
       "    </tr>\n",
       "    <tr>\n",
       "      <td>1</td>\n",
       "      <td>55204538</td>\n",
       "      <td>Delayed Because of Accident</td>\n",
       "      <td>Andreas Rönnberg</td>\n",
       "      <td>rock</td>\n",
       "      <td>Moscow</td>\n",
       "      <td>14:07:09</td>\n",
       "      <td>Friday</td>\n",
       "    </tr>\n",
       "    <tr>\n",
       "      <td>2</td>\n",
       "      <td>20EC38</td>\n",
       "      <td>Funiculì funiculà</td>\n",
       "      <td>Mario Lanza</td>\n",
       "      <td>pop</td>\n",
       "      <td>Saint-Petersburg</td>\n",
       "      <td>20:58:07</td>\n",
       "      <td>Wednesday</td>\n",
       "    </tr>\n",
       "    <tr>\n",
       "      <td>3</td>\n",
       "      <td>A3DD03C9</td>\n",
       "      <td>Dragons in the Sunset</td>\n",
       "      <td>Fire + Ice</td>\n",
       "      <td>folk</td>\n",
       "      <td>Saint-Petersburg</td>\n",
       "      <td>08:37:09</td>\n",
       "      <td>Monday</td>\n",
       "    </tr>\n",
       "    <tr>\n",
       "      <td>4</td>\n",
       "      <td>E2DC1FAE</td>\n",
       "      <td>Soul People</td>\n",
       "      <td>Space Echo</td>\n",
       "      <td>dance</td>\n",
       "      <td>Moscow</td>\n",
       "      <td>08:34:34</td>\n",
       "      <td>Monday</td>\n",
       "    </tr>\n",
       "    <tr>\n",
       "      <td>5</td>\n",
       "      <td>842029A1</td>\n",
       "      <td>Преданная</td>\n",
       "      <td>IMPERVTOR</td>\n",
       "      <td>rusrap</td>\n",
       "      <td>Saint-Petersburg</td>\n",
       "      <td>13:09:41</td>\n",
       "      <td>Friday</td>\n",
       "    </tr>\n",
       "    <tr>\n",
       "      <td>6</td>\n",
       "      <td>4CB90AA5</td>\n",
       "      <td>True</td>\n",
       "      <td>Roman Messer</td>\n",
       "      <td>dance</td>\n",
       "      <td>Moscow</td>\n",
       "      <td>13:00:07</td>\n",
       "      <td>Wednesday</td>\n",
       "    </tr>\n",
       "    <tr>\n",
       "      <td>7</td>\n",
       "      <td>F03E1C1F</td>\n",
       "      <td>Feeling This Way</td>\n",
       "      <td>Polina Griffith</td>\n",
       "      <td>dance</td>\n",
       "      <td>Moscow</td>\n",
       "      <td>20:47:49</td>\n",
       "      <td>Wednesday</td>\n",
       "    </tr>\n",
       "    <tr>\n",
       "      <td>8</td>\n",
       "      <td>8FA1D3BE</td>\n",
       "      <td>И вновь продолжается бой</td>\n",
       "      <td>NaN</td>\n",
       "      <td>ruspop</td>\n",
       "      <td>Moscow</td>\n",
       "      <td>09:17:40</td>\n",
       "      <td>Friday</td>\n",
       "    </tr>\n",
       "    <tr>\n",
       "      <td>9</td>\n",
       "      <td>E772D5C0</td>\n",
       "      <td>Pessimist</td>\n",
       "      <td>NaN</td>\n",
       "      <td>dance</td>\n",
       "      <td>Saint-Petersburg</td>\n",
       "      <td>21:20:49</td>\n",
       "      <td>Wednesday</td>\n",
       "    </tr>\n",
       "  </tbody>\n",
       "</table>\n",
       "</div>"
      ],
      "text/plain": [
       "     userID                        Track            artist   genre  \\\n",
       "0  FFB692EC            Kamigata To Boots  The Mass Missile    rock   \n",
       "1  55204538  Delayed Because of Accident  Andreas Rönnberg    rock   \n",
       "2    20EC38            Funiculì funiculà       Mario Lanza     pop   \n",
       "3  A3DD03C9        Dragons in the Sunset        Fire + Ice    folk   \n",
       "4  E2DC1FAE                  Soul People        Space Echo   dance   \n",
       "5  842029A1                    Преданная         IMPERVTOR  rusrap   \n",
       "6  4CB90AA5                         True      Roman Messer   dance   \n",
       "7  F03E1C1F             Feeling This Way   Polina Griffith   dance   \n",
       "8  8FA1D3BE     И вновь продолжается бой               NaN  ruspop   \n",
       "9  E772D5C0                    Pessimist               NaN   dance   \n",
       "\n",
       "             City        time        Day  \n",
       "0  Saint-Petersburg  20:28:33  Wednesday  \n",
       "1            Moscow  14:07:09     Friday  \n",
       "2  Saint-Petersburg  20:58:07  Wednesday  \n",
       "3  Saint-Petersburg  08:37:09     Monday  \n",
       "4            Moscow  08:34:34     Monday  \n",
       "5  Saint-Petersburg  13:09:41     Friday  \n",
       "6            Moscow  13:00:07  Wednesday  \n",
       "7            Moscow  20:47:49  Wednesday  \n",
       "8            Moscow  09:17:40     Friday  \n",
       "9  Saint-Petersburg  21:20:49  Wednesday  "
      ]
     },
     "metadata": {},
     "output_type": "display_data"
    }
   ],
   "source": [
    "display(df.head(10)) # получение первых 10 строк таблицы df"
   ]
  },
  {
   "cell_type": "markdown",
   "metadata": {
    "id": "EO73Kwic_Zct"
   },
   "source": [
    "Получим общую информацию о таблице:"
   ]
  },
  {
   "cell_type": "code",
   "execution_count": 4,
   "metadata": {
    "id": "DSf2kIb-_Zct"
   },
   "outputs": [
    {
     "name": "stdout",
     "output_type": "stream",
     "text": [
      "<class 'pandas.core.frame.DataFrame'>\n",
      "RangeIndex: 65079 entries, 0 to 65078\n",
      "Data columns (total 7 columns):\n",
      "  userID    65079 non-null object\n",
      "Track       63848 non-null object\n",
      "artist      57876 non-null object\n",
      "genre       63881 non-null object\n",
      "  City      65079 non-null object\n",
      "time        65079 non-null object\n",
      "Day         65079 non-null object\n",
      "dtypes: object(7)\n",
      "memory usage: 3.5+ MB\n"
     ]
    }
   ],
   "source": [
    "df.info() # получение общей информации о данных в таблице df"
   ]
  },
  {
   "cell_type": "markdown",
   "metadata": {
    "id": "TaQ2Iwbr_Zct"
   },
   "source": [
    "Итак, в таблице семь столбцов. Тип данных во всех столбцах — `object`.\n",
    "\n",
    "Согласно документации к данным:\n",
    "* `userID` — идентификатор пользователя;\n",
    "* `Track` — название трека;  \n",
    "* `artist` — имя исполнителя;\n",
    "* `genre` — название жанра;\n",
    "* `City` — город пользователя;\n",
    "* `time` — время начала прослушивания;\n",
    "* `Day` — день недели.\n",
    "\n",
    "В названиях колонок видны три нарушения стиля:\n",
    "1. Строчные буквы сочетаются с прописными.\n",
    "2. Встречаются пробелы.\n",
    "3. Название столбцов не в змеином регистре.\n",
    "\n",
    "\n",
    "\n",
    "\n",
    "Количество значений в столбцах различается. Значит, в данных есть пропущенные значения.\n"
   ]
  },
  {
   "cell_type": "markdown",
   "metadata": {
    "id": "MCB6-dXG_Zct"
   },
   "source": [
    "**Выводы**\n",
    "\n",
    "В каждой строке таблицы — данные о прослушанном треке. Часть колонок описывает саму композицию: название, исполнителя и жанр. Остальные данные рассказывают о пользователе: из какого он города, когда он слушал музыку. \n",
    "\n",
    "Предварительно можно утверждать, что, данных достаточно для проверки гипотез. Но встречаются пропуски в данных, а в названиях колонок — расхождения с хорошим стилем.\n",
    "\n",
    "Чтобы двигаться дальше, нужно устранить проблемы в данных."
   ]
  },
  {
   "cell_type": "markdown",
   "metadata": {
    "id": "SjYF6Ub9_Zct"
   },
   "source": [
    "## Предобработка данных\n",
    "\n",
    "Исправим стиль в заголовках столбцов и исключим пропуски. Затем проверим данные на дубликаты."
   ]
  },
  {
   "cell_type": "markdown",
   "metadata": {
    "id": "dIaKXr29_Zct"
   },
   "source": [
    "### Стиль заголовков\n",
    "\n",
    "Выведем на экран названия столбцов:"
   ]
  },
  {
   "cell_type": "code",
   "execution_count": 5,
   "metadata": {
    "id": "oKOTdF_Q_Zct"
   },
   "outputs": [
    {
     "name": "stdout",
     "output_type": "stream",
     "text": [
      "Index(['  userID', 'Track', 'artist', 'genre', '  City  ', 'time', 'Day'], dtype='object')\n"
     ]
    }
   ],
   "source": [
    "print(df.columns) # перечень названий столбцов таблицы df"
   ]
  },
  {
   "cell_type": "markdown",
   "metadata": {
    "id": "zj5534cv_Zct"
   },
   "source": [
    "Приведем названия в соответствие со стилем:\n",
    "\n",
    "* несколько слов в названии запишите в «змеином_регистре»,\n",
    "* все символы сделайте строчными,\n",
    "* устраните пробелы.\n",
    "\n",
    "Для этого переименуйте колонки так:\n",
    "* `'  userID'` → `'user_id'`;\n",
    "* `'Track'` → `'track'`;\n",
    "* `'  City  '` → `'city'`;\n",
    "* `'Day'` → `'day'`."
   ]
  },
  {
   "cell_type": "code",
   "execution_count": 6,
   "metadata": {
    "id": "ISlFqs5y_Zct"
   },
   "outputs": [],
   "source": [
    "df = df.rename(columns={'  userID': 'user_id', 'Track': 'track', '  City  ': 'city', 'Day': 'day'}) # переименование столбцов"
   ]
  },
  {
   "cell_type": "markdown",
   "metadata": {
    "id": "1dqbh00J_Zct"
   },
   "source": [
    "Проверим результат:"
   ]
  },
  {
   "cell_type": "code",
   "execution_count": 7,
   "metadata": {
    "id": "d4NOAmTW_Zct"
   },
   "outputs": [
    {
     "name": "stdout",
     "output_type": "stream",
     "text": [
      "Index(['user_id', 'track', 'artist', 'genre', 'city', 'time', 'day'], dtype='object')\n"
     ]
    }
   ],
   "source": [
    "print(df.columns) # проверка результатов - перечень названий столбцов"
   ]
  },
  {
   "cell_type": "markdown",
   "metadata": {
    "id": "5ISfbcfY_Zct"
   },
   "source": [
    "### Пропуски значений\n",
    "Сначала посчитаем, сколько в таблице пропущенных значений."
   ]
  },
  {
   "cell_type": "code",
   "execution_count": 8,
   "metadata": {
    "id": "RskX29qr_Zct"
   },
   "outputs": [
    {
     "data": {
      "text/plain": [
       "user_id       0\n",
       "track      1231\n",
       "artist     7203\n",
       "genre      1198\n",
       "city          0\n",
       "time          0\n",
       "day           0\n",
       "dtype: int64"
      ]
     },
     "execution_count": 8,
     "metadata": {},
     "output_type": "execute_result"
    }
   ],
   "source": [
    "df.isna().sum() # подсчёт пропусков"
   ]
  },
  {
   "cell_type": "markdown",
   "metadata": {
    "id": "qubhgnlO_Zct"
   },
   "source": [
    "Не все пропущенные значения влияют на исследование. Так в `track` и `artist` пропуски не важны для вашей работы. Достаточно заменить их явными обозначениями.\n",
    "\n",
    "Но пропуски в `genre` могут помешать сравнению музыкальных вкусов в Москве и Санкт-Петербурге. На практике было бы правильно установить причину пропусков и восстановить данные. Такой возможности нет в учебном проекте. Придётся:\n",
    "* заполнить и эти пропуски явными обозначениями,\n",
    "* оценить, насколько они повредят расчётам. "
   ]
  },
  {
   "cell_type": "markdown",
   "metadata": {
    "id": "fSv2laPA_Zct"
   },
   "source": [
    "Заменим пропущенные значения в столбцах `track`, `artist` и `genre` на строку `'unknown'`. Для этого создадим список `columns_to_replace`, переберем его элементы циклом `for` и для каждого столбца выполним замену пропущенных значений:"
   ]
  },
  {
   "cell_type": "code",
   "execution_count": 9,
   "metadata": {
    "id": "KplB5qWs_Zct"
   },
   "outputs": [],
   "source": [
    "columns_to_replace = ['track', 'artist', 'genre'] # перебор названий столбцов в цикле и замена пропущенных значений на 'unknown'\n",
    "for column in columns_to_replace:\n",
    "    df[column] = df[column].fillna('unknown') "
   ]
  },
  {
   "cell_type": "markdown",
   "metadata": {
    "id": "Ilsm-MZo_Zct"
   },
   "source": [
    "Убедимся, что в таблице не осталось пропусков. Для этого ещё раз посчитаем пропущенные значения."
   ]
  },
  {
   "cell_type": "code",
   "execution_count": 10,
   "metadata": {
    "id": "Tq4nYRX4_Zct"
   },
   "outputs": [
    {
     "data": {
      "text/plain": [
       "user_id    0\n",
       "track      0\n",
       "artist     0\n",
       "genre      0\n",
       "city       0\n",
       "time       0\n",
       "day        0\n",
       "dtype: int64"
      ]
     },
     "execution_count": 10,
     "metadata": {},
     "output_type": "execute_result"
    }
   ],
   "source": [
    "df.isna().sum() # подсчёт пропусков"
   ]
  },
  {
   "cell_type": "markdown",
   "metadata": {
    "id": "BWKRtBJ3_Zct"
   },
   "source": [
    "### Дубликаты\n",
    "\n",
    "Посчитаем явные дубликаты в таблице:"
   ]
  },
  {
   "cell_type": "code",
   "execution_count": 11,
   "metadata": {
    "id": "36eES_S0_Zct"
   },
   "outputs": [
    {
     "data": {
      "text/plain": [
       "3826"
      ]
     },
     "execution_count": 11,
     "metadata": {},
     "output_type": "execute_result"
    }
   ],
   "source": [
    "df.duplicated().sum() # подсчёт явных дубликатов"
   ]
  },
  {
   "cell_type": "markdown",
   "metadata": {
    "id": "Ot25h6XR_Zct"
   },
   "source": [
    "Удалим явные дубликаты:"
   ]
  },
  {
   "cell_type": "code",
   "execution_count": 12,
   "metadata": {
    "id": "exFHq6tt_Zct"
   },
   "outputs": [],
   "source": [
    "df = df.drop_duplicates().reset_index(drop=True) # удаление явных дубликатов (с удалением старых индексов и формированием новых)"
   ]
  },
  {
   "cell_type": "markdown",
   "metadata": {
    "id": "Im2YwBEG_Zct"
   },
   "source": [
    "Ещё раз посчитаем явные дубликаты в таблице — убедимся, что полностью от них избавились:"
   ]
  },
  {
   "cell_type": "code",
   "execution_count": 13,
   "metadata": {
    "id": "-8PuNWQ0_Zct"
   },
   "outputs": [
    {
     "data": {
      "text/plain": [
       "0"
      ]
     },
     "execution_count": 13,
     "metadata": {},
     "output_type": "execute_result"
    }
   ],
   "source": [
    "df.duplicated().sum() # проверка на отсутствие дубликатов"
   ]
  },
  {
   "cell_type": "markdown",
   "metadata": {
    "id": "QlFBsxAr_Zct"
   },
   "source": [
    "Теперь избавимся от неявных дубликатов в колонке `genre`. Например, название одного и того же жанра может быть записано немного по-разному. Такие ошибки тоже повлияют на результат исследования."
   ]
  },
  {
   "cell_type": "markdown",
   "metadata": {
    "id": "eSjWwsOh_Zct"
   },
   "source": [
    "Выведем на экран список уникальных названий жанров, отсортированный в алфавитном порядке.\n",
    "\n",
    "* извлечем нужный столбец датафрейма, \n",
    "* применим к нему метод сортировки,\n",
    "* для отсортированного столбца вызовем метод, который вернёт уникальные значения из столбца."
   ]
  },
  {
   "cell_type": "code",
   "execution_count": 14,
   "metadata": {
    "id": "JIUcqzZN_Zct"
   },
   "outputs": [
    {
     "data": {
      "text/plain": [
       "['acid',\n",
       " 'acoustic',\n",
       " 'action',\n",
       " 'adult',\n",
       " 'africa',\n",
       " 'afrikaans',\n",
       " 'alternative',\n",
       " 'alternativepunk',\n",
       " 'ambient',\n",
       " 'americana',\n",
       " 'animated',\n",
       " 'anime',\n",
       " 'arabesk',\n",
       " 'arabic',\n",
       " 'arena',\n",
       " 'argentinetango',\n",
       " 'art',\n",
       " 'audiobook',\n",
       " 'author',\n",
       " 'avantgarde',\n",
       " 'axé',\n",
       " 'baile',\n",
       " 'balkan',\n",
       " 'beats',\n",
       " 'bigroom',\n",
       " 'black',\n",
       " 'bluegrass',\n",
       " 'blues',\n",
       " 'bollywood',\n",
       " 'bossa',\n",
       " 'brazilian',\n",
       " 'breakbeat',\n",
       " 'breaks',\n",
       " 'broadway',\n",
       " 'cantautori',\n",
       " 'cantopop',\n",
       " 'canzone',\n",
       " 'caribbean',\n",
       " 'caucasian',\n",
       " 'celtic',\n",
       " 'chamber',\n",
       " 'chanson',\n",
       " 'children',\n",
       " 'chill',\n",
       " 'chinese',\n",
       " 'choral',\n",
       " 'christian',\n",
       " 'christmas',\n",
       " 'classical',\n",
       " 'classicmetal',\n",
       " 'club',\n",
       " 'colombian',\n",
       " 'comedy',\n",
       " 'conjazz',\n",
       " 'contemporary',\n",
       " 'country',\n",
       " 'cuban',\n",
       " 'dance',\n",
       " 'dancehall',\n",
       " 'dancepop',\n",
       " 'dark',\n",
       " 'death',\n",
       " 'deep',\n",
       " 'deutschrock',\n",
       " 'deutschspr',\n",
       " 'dirty',\n",
       " 'disco',\n",
       " 'dnb',\n",
       " 'documentary',\n",
       " 'downbeat',\n",
       " 'downtempo',\n",
       " 'drum',\n",
       " 'dub',\n",
       " 'dubstep',\n",
       " 'eastern',\n",
       " 'easy',\n",
       " 'electronic',\n",
       " 'electropop',\n",
       " 'emo',\n",
       " 'entehno',\n",
       " 'epicmetal',\n",
       " 'estrada',\n",
       " 'ethnic',\n",
       " 'eurofolk',\n",
       " 'european',\n",
       " 'experimental',\n",
       " 'extrememetal',\n",
       " 'fado',\n",
       " 'fairytail',\n",
       " 'film',\n",
       " 'fitness',\n",
       " 'flamenco',\n",
       " 'folk',\n",
       " 'folklore',\n",
       " 'folkmetal',\n",
       " 'folkrock',\n",
       " 'folktronica',\n",
       " 'forró',\n",
       " 'frankreich',\n",
       " 'französisch',\n",
       " 'french',\n",
       " 'funk',\n",
       " 'future',\n",
       " 'gangsta',\n",
       " 'garage',\n",
       " 'german',\n",
       " 'ghazal',\n",
       " 'gitarre',\n",
       " 'glitch',\n",
       " 'gospel',\n",
       " 'gothic',\n",
       " 'grime',\n",
       " 'grunge',\n",
       " 'gypsy',\n",
       " 'handsup',\n",
       " \"hard'n'heavy\",\n",
       " 'hardcore',\n",
       " 'hardstyle',\n",
       " 'hardtechno',\n",
       " 'hip',\n",
       " 'hip-hop',\n",
       " 'hiphop',\n",
       " 'historisch',\n",
       " 'holiday',\n",
       " 'hop',\n",
       " 'horror',\n",
       " 'house',\n",
       " 'hymn',\n",
       " 'idm',\n",
       " 'independent',\n",
       " 'indian',\n",
       " 'indie',\n",
       " 'indipop',\n",
       " 'industrial',\n",
       " 'inspirational',\n",
       " 'instrumental',\n",
       " 'international',\n",
       " 'irish',\n",
       " 'jam',\n",
       " 'japanese',\n",
       " 'jazz',\n",
       " 'jewish',\n",
       " 'jpop',\n",
       " 'jungle',\n",
       " 'k-pop',\n",
       " 'karadeniz',\n",
       " 'karaoke',\n",
       " 'kayokyoku',\n",
       " 'korean',\n",
       " 'laiko',\n",
       " 'latin',\n",
       " 'latino',\n",
       " 'leftfield',\n",
       " 'local',\n",
       " 'lounge',\n",
       " 'loungeelectronic',\n",
       " 'lovers',\n",
       " 'malaysian',\n",
       " 'mandopop',\n",
       " 'marschmusik',\n",
       " 'meditative',\n",
       " 'mediterranean',\n",
       " 'melodic',\n",
       " 'metal',\n",
       " 'metalcore',\n",
       " 'mexican',\n",
       " 'middle',\n",
       " 'minimal',\n",
       " 'miscellaneous',\n",
       " 'modern',\n",
       " 'mood',\n",
       " 'mpb',\n",
       " 'muslim',\n",
       " 'native',\n",
       " 'neoklassik',\n",
       " 'neue',\n",
       " 'new',\n",
       " 'newage',\n",
       " 'newwave',\n",
       " 'nu',\n",
       " 'nujazz',\n",
       " 'numetal',\n",
       " 'oceania',\n",
       " 'old',\n",
       " 'opera',\n",
       " 'orchestral',\n",
       " 'other',\n",
       " 'piano',\n",
       " 'podcasts',\n",
       " 'pop',\n",
       " 'popdance',\n",
       " 'popelectronic',\n",
       " 'popeurodance',\n",
       " 'poprussian',\n",
       " 'post',\n",
       " 'posthardcore',\n",
       " 'postrock',\n",
       " 'power',\n",
       " 'progmetal',\n",
       " 'progressive',\n",
       " 'psychedelic',\n",
       " 'punjabi',\n",
       " 'punk',\n",
       " 'quebecois',\n",
       " 'ragga',\n",
       " 'ram',\n",
       " 'rancheras',\n",
       " 'rap',\n",
       " 'rave',\n",
       " 'reggae',\n",
       " 'reggaeton',\n",
       " 'regional',\n",
       " 'relax',\n",
       " 'religious',\n",
       " 'retro',\n",
       " 'rhythm',\n",
       " 'rnb',\n",
       " 'rnr',\n",
       " 'rock',\n",
       " 'rockabilly',\n",
       " 'rockalternative',\n",
       " 'rockindie',\n",
       " 'rockother',\n",
       " 'romance',\n",
       " 'roots',\n",
       " 'ruspop',\n",
       " 'rusrap',\n",
       " 'rusrock',\n",
       " 'russian',\n",
       " 'salsa',\n",
       " 'samba',\n",
       " 'scenic',\n",
       " 'schlager',\n",
       " 'self',\n",
       " 'sertanejo',\n",
       " 'shanson',\n",
       " 'shoegazing',\n",
       " 'showtunes',\n",
       " 'singer',\n",
       " 'ska',\n",
       " 'skarock',\n",
       " 'slow',\n",
       " 'smooth',\n",
       " 'soft',\n",
       " 'soul',\n",
       " 'soulful',\n",
       " 'sound',\n",
       " 'soundtrack',\n",
       " 'southern',\n",
       " 'specialty',\n",
       " 'speech',\n",
       " 'spiritual',\n",
       " 'sport',\n",
       " 'stonerrock',\n",
       " 'surf',\n",
       " 'swing',\n",
       " 'synthpop',\n",
       " 'synthrock',\n",
       " 'sängerportrait',\n",
       " 'tango',\n",
       " 'tanzorchester',\n",
       " 'taraftar',\n",
       " 'tatar',\n",
       " 'tech',\n",
       " 'techno',\n",
       " 'teen',\n",
       " 'thrash',\n",
       " 'top',\n",
       " 'traditional',\n",
       " 'tradjazz',\n",
       " 'trance',\n",
       " 'tribal',\n",
       " 'trip',\n",
       " 'triphop',\n",
       " 'tropical',\n",
       " 'türk',\n",
       " 'türkçe',\n",
       " 'ukrrock',\n",
       " 'unknown',\n",
       " 'urban',\n",
       " 'uzbek',\n",
       " 'variété',\n",
       " 'vi',\n",
       " 'videogame',\n",
       " 'vocal',\n",
       " 'western',\n",
       " 'world',\n",
       " 'worldbeat',\n",
       " 'ïîï',\n",
       " 'электроника']"
      ]
     },
     "metadata": {},
     "output_type": "display_data"
    }
   ],
   "source": [
    "display(sorted(df['genre'].unique())) # Просмотр уникальных названий жанров"
   ]
  },
  {
   "cell_type": "markdown",
   "metadata": {
    "id": "qej-Qmuo_Zct"
   },
   "source": [
    "Просмотрим список и найдем неявные дубликаты названия `hiphop`. Это могут быть названия с ошибками или альтернативные названия того же жанра.\n",
    "\n",
    "Чтобы очистить от них таблицу, напишем функцию `replace_wrong_genres()` с двумя параметрами: \n",
    "* `wrong_genres` — список дубликатов,\n",
    "* `correct_genre` — строка с правильным значением.\n",
    "\n",
    "Функция должна исправить колонку `genre` в таблице `df`: заменить каждое значение из списка `wrong_genres` на значение из `correct_genre`."
   ]
  },
  {
   "cell_type": "code",
   "execution_count": 15,
   "metadata": {
    "id": "ErNDkmns_Zct"
   },
   "outputs": [],
   "source": [
    "def replace_wrong_genres(wrong_genres, correct_genre): # Функция для замены неявных дубликатов\n",
    "    for wrong_genre in wrong_genres:\n",
    "        df['genre'] = df['genre'].replace(wrong_genre, correct_genre)"
   ]
  },
  {
   "cell_type": "markdown",
   "metadata": {
    "id": "aDoBJxbA_Zct"
   },
   "source": [
    "Вызовем `replace_wrong_genres()` и передадим ей такие аргументы, чтобы она устранила неявные дубликаты: вместо `hip`, `hop` и `hip-hop` в таблице должно быть значение `hiphop`:"
   ]
  },
  {
   "cell_type": "code",
   "execution_count": 16,
   "metadata": {
    "id": "YN5i2hpmSo09"
   },
   "outputs": [],
   "source": [
    "duplicates = ['hip', 'hop', 'hip-hop'] # Устранение неявных дубликатов\n",
    "name = 'hiphop'\n",
    "replace_wrong_genres(duplicates, name)\n",
    "replace_wrong_genres(['электроника'], 'electronic') # Удаление дубликата жанра electronic"
   ]
  },
  {
   "cell_type": "markdown",
   "metadata": {
    "id": "zQKF16_RG15m"
   },
   "source": [
    "Проверим, что заменили неправильные названия:\n",
    "\n",
    "*   hip\n",
    "*   hop\n",
    "*   hip-hop\n",
    "\n",
    "Выведем отсортированный список уникальных значений столбца `genre`:"
   ]
  },
  {
   "cell_type": "code",
   "execution_count": 17,
   "metadata": {
    "id": "wvixALnFG15m"
   },
   "outputs": [
    {
     "data": {
      "text/plain": [
       "['acid',\n",
       " 'acoustic',\n",
       " 'action',\n",
       " 'adult',\n",
       " 'africa',\n",
       " 'afrikaans',\n",
       " 'alternative',\n",
       " 'alternativepunk',\n",
       " 'ambient',\n",
       " 'americana',\n",
       " 'animated',\n",
       " 'anime',\n",
       " 'arabesk',\n",
       " 'arabic',\n",
       " 'arena',\n",
       " 'argentinetango',\n",
       " 'art',\n",
       " 'audiobook',\n",
       " 'author',\n",
       " 'avantgarde',\n",
       " 'axé',\n",
       " 'baile',\n",
       " 'balkan',\n",
       " 'beats',\n",
       " 'bigroom',\n",
       " 'black',\n",
       " 'bluegrass',\n",
       " 'blues',\n",
       " 'bollywood',\n",
       " 'bossa',\n",
       " 'brazilian',\n",
       " 'breakbeat',\n",
       " 'breaks',\n",
       " 'broadway',\n",
       " 'cantautori',\n",
       " 'cantopop',\n",
       " 'canzone',\n",
       " 'caribbean',\n",
       " 'caucasian',\n",
       " 'celtic',\n",
       " 'chamber',\n",
       " 'chanson',\n",
       " 'children',\n",
       " 'chill',\n",
       " 'chinese',\n",
       " 'choral',\n",
       " 'christian',\n",
       " 'christmas',\n",
       " 'classical',\n",
       " 'classicmetal',\n",
       " 'club',\n",
       " 'colombian',\n",
       " 'comedy',\n",
       " 'conjazz',\n",
       " 'contemporary',\n",
       " 'country',\n",
       " 'cuban',\n",
       " 'dance',\n",
       " 'dancehall',\n",
       " 'dancepop',\n",
       " 'dark',\n",
       " 'death',\n",
       " 'deep',\n",
       " 'deutschrock',\n",
       " 'deutschspr',\n",
       " 'dirty',\n",
       " 'disco',\n",
       " 'dnb',\n",
       " 'documentary',\n",
       " 'downbeat',\n",
       " 'downtempo',\n",
       " 'drum',\n",
       " 'dub',\n",
       " 'dubstep',\n",
       " 'eastern',\n",
       " 'easy',\n",
       " 'electronic',\n",
       " 'electropop',\n",
       " 'emo',\n",
       " 'entehno',\n",
       " 'epicmetal',\n",
       " 'estrada',\n",
       " 'ethnic',\n",
       " 'eurofolk',\n",
       " 'european',\n",
       " 'experimental',\n",
       " 'extrememetal',\n",
       " 'fado',\n",
       " 'fairytail',\n",
       " 'film',\n",
       " 'fitness',\n",
       " 'flamenco',\n",
       " 'folk',\n",
       " 'folklore',\n",
       " 'folkmetal',\n",
       " 'folkrock',\n",
       " 'folktronica',\n",
       " 'forró',\n",
       " 'frankreich',\n",
       " 'französisch',\n",
       " 'french',\n",
       " 'funk',\n",
       " 'future',\n",
       " 'gangsta',\n",
       " 'garage',\n",
       " 'german',\n",
       " 'ghazal',\n",
       " 'gitarre',\n",
       " 'glitch',\n",
       " 'gospel',\n",
       " 'gothic',\n",
       " 'grime',\n",
       " 'grunge',\n",
       " 'gypsy',\n",
       " 'handsup',\n",
       " \"hard'n'heavy\",\n",
       " 'hardcore',\n",
       " 'hardstyle',\n",
       " 'hardtechno',\n",
       " 'hiphop',\n",
       " 'historisch',\n",
       " 'holiday',\n",
       " 'horror',\n",
       " 'house',\n",
       " 'hymn',\n",
       " 'idm',\n",
       " 'independent',\n",
       " 'indian',\n",
       " 'indie',\n",
       " 'indipop',\n",
       " 'industrial',\n",
       " 'inspirational',\n",
       " 'instrumental',\n",
       " 'international',\n",
       " 'irish',\n",
       " 'jam',\n",
       " 'japanese',\n",
       " 'jazz',\n",
       " 'jewish',\n",
       " 'jpop',\n",
       " 'jungle',\n",
       " 'k-pop',\n",
       " 'karadeniz',\n",
       " 'karaoke',\n",
       " 'kayokyoku',\n",
       " 'korean',\n",
       " 'laiko',\n",
       " 'latin',\n",
       " 'latino',\n",
       " 'leftfield',\n",
       " 'local',\n",
       " 'lounge',\n",
       " 'loungeelectronic',\n",
       " 'lovers',\n",
       " 'malaysian',\n",
       " 'mandopop',\n",
       " 'marschmusik',\n",
       " 'meditative',\n",
       " 'mediterranean',\n",
       " 'melodic',\n",
       " 'metal',\n",
       " 'metalcore',\n",
       " 'mexican',\n",
       " 'middle',\n",
       " 'minimal',\n",
       " 'miscellaneous',\n",
       " 'modern',\n",
       " 'mood',\n",
       " 'mpb',\n",
       " 'muslim',\n",
       " 'native',\n",
       " 'neoklassik',\n",
       " 'neue',\n",
       " 'new',\n",
       " 'newage',\n",
       " 'newwave',\n",
       " 'nu',\n",
       " 'nujazz',\n",
       " 'numetal',\n",
       " 'oceania',\n",
       " 'old',\n",
       " 'opera',\n",
       " 'orchestral',\n",
       " 'other',\n",
       " 'piano',\n",
       " 'podcasts',\n",
       " 'pop',\n",
       " 'popdance',\n",
       " 'popelectronic',\n",
       " 'popeurodance',\n",
       " 'poprussian',\n",
       " 'post',\n",
       " 'posthardcore',\n",
       " 'postrock',\n",
       " 'power',\n",
       " 'progmetal',\n",
       " 'progressive',\n",
       " 'psychedelic',\n",
       " 'punjabi',\n",
       " 'punk',\n",
       " 'quebecois',\n",
       " 'ragga',\n",
       " 'ram',\n",
       " 'rancheras',\n",
       " 'rap',\n",
       " 'rave',\n",
       " 'reggae',\n",
       " 'reggaeton',\n",
       " 'regional',\n",
       " 'relax',\n",
       " 'religious',\n",
       " 'retro',\n",
       " 'rhythm',\n",
       " 'rnb',\n",
       " 'rnr',\n",
       " 'rock',\n",
       " 'rockabilly',\n",
       " 'rockalternative',\n",
       " 'rockindie',\n",
       " 'rockother',\n",
       " 'romance',\n",
       " 'roots',\n",
       " 'ruspop',\n",
       " 'rusrap',\n",
       " 'rusrock',\n",
       " 'russian',\n",
       " 'salsa',\n",
       " 'samba',\n",
       " 'scenic',\n",
       " 'schlager',\n",
       " 'self',\n",
       " 'sertanejo',\n",
       " 'shanson',\n",
       " 'shoegazing',\n",
       " 'showtunes',\n",
       " 'singer',\n",
       " 'ska',\n",
       " 'skarock',\n",
       " 'slow',\n",
       " 'smooth',\n",
       " 'soft',\n",
       " 'soul',\n",
       " 'soulful',\n",
       " 'sound',\n",
       " 'soundtrack',\n",
       " 'southern',\n",
       " 'specialty',\n",
       " 'speech',\n",
       " 'spiritual',\n",
       " 'sport',\n",
       " 'stonerrock',\n",
       " 'surf',\n",
       " 'swing',\n",
       " 'synthpop',\n",
       " 'synthrock',\n",
       " 'sängerportrait',\n",
       " 'tango',\n",
       " 'tanzorchester',\n",
       " 'taraftar',\n",
       " 'tatar',\n",
       " 'tech',\n",
       " 'techno',\n",
       " 'teen',\n",
       " 'thrash',\n",
       " 'top',\n",
       " 'traditional',\n",
       " 'tradjazz',\n",
       " 'trance',\n",
       " 'tribal',\n",
       " 'trip',\n",
       " 'triphop',\n",
       " 'tropical',\n",
       " 'türk',\n",
       " 'türkçe',\n",
       " 'ukrrock',\n",
       " 'unknown',\n",
       " 'urban',\n",
       " 'uzbek',\n",
       " 'variété',\n",
       " 'vi',\n",
       " 'videogame',\n",
       " 'vocal',\n",
       " 'western',\n",
       " 'world',\n",
       " 'worldbeat',\n",
       " 'ïîï']"
      ]
     },
     "metadata": {},
     "output_type": "display_data"
    }
   ],
   "source": [
    "display(sorted(df['genre'].unique())) # Проверка на неявные дубликаты"
   ]
  },
  {
   "cell_type": "markdown",
   "metadata": {
    "id": "jz6a9-7HQUDd"
   },
   "source": [
    "**Выводы**\n",
    "\n",
    "Предобработка обнаружила три проблемы в данных:\n",
    "\n",
    "- нарушения в стиле заголовков,\n",
    "- пропущенные значения,\n",
    "- дубликаты — явные и неявные.\n",
    "\n",
    "Мы исправили заголовки, чтобы упростить работу с таблицей. Без дубликатов исследование станет более точным.\n",
    "\n",
    "Пропущенные значения вы заменили на `'unknown'`. Ещё предстоит увидеть, не повредят ли исследованию пропуски в колонке `genre`.\n",
    "\n",
    "Теперь можно перейти к проверке гипотез. "
   ]
  },
  {
   "cell_type": "markdown",
   "metadata": {
    "id": "WttZHXH0SqKk"
   },
   "source": [
    "## Проверка гипотез"
   ]
  },
  {
   "cell_type": "markdown",
   "metadata": {
    "id": "Im936VVi_Zcu"
   },
   "source": [
    "### Сравнение поведения пользователей двух столиц"
   ]
  },
  {
   "cell_type": "markdown",
   "metadata": {
    "id": "nwt_MuaL_Zcu"
   },
   "source": [
    "Первая гипотеза утверждает, что пользователи по-разному слушают музыку в Москве и Санкт-Петербурге. Проверим это предположение по данным о трёх днях недели — понедельнике, среде и пятнице. Для этого:\n",
    "\n",
    "* Разделим пользователей Москвы и Санкт-Петербурга\n",
    "* Сравним, сколько треков послушала каждая группа пользователей в понедельник, среду и пятницу.\n"
   ]
  },
  {
   "cell_type": "markdown",
   "metadata": {
    "id": "8Dw_YMmT_Zcu"
   },
   "source": [
    "Для тренировки сначала выполним каждый из расчётов по отдельности. \n",
    "\n",
    "Оценим активность пользователей в каждом городе. Сгруппируем данные по городу и посчитайте прослушивания в каждой группе."
   ]
  },
  {
   "cell_type": "code",
   "execution_count": 18,
   "metadata": {
    "id": "0_Qs96oh_Zcu"
   },
   "outputs": [
    {
     "data": {
      "text/plain": [
       "city\n",
       "Moscow              42741\n",
       "Saint-Petersburg    18512\n",
       "Name: track, dtype: int64"
      ]
     },
     "execution_count": 18,
     "metadata": {},
     "output_type": "execute_result"
    }
   ],
   "source": [
    "df.groupby('city')['track'].count() # Подсчёт прослушиваний в каждом городе"
   ]
  },
  {
   "cell_type": "markdown",
   "metadata": {
    "id": "dzli3w8o_Zcu"
   },
   "source": [
    "В Москве прослушиваний больше, чем в Петербурге. Из этого не следует, что московские пользователи чаще слушают музыку. Просто самих пользователей в Москве больше.\n",
    "\n",
    "Теперь сгруппируем данные по дню недели и подсчитаем прослушивания в понедельник, среду и пятницу. Учитываем, что в данных есть информация только о прослушиваниях только за эти дни."
   ]
  },
  {
   "cell_type": "code",
   "execution_count": 19,
   "metadata": {
    "id": "uZMKjiJz_Zcu"
   },
   "outputs": [
    {
     "data": {
      "text/plain": [
       "day\n",
       "Friday       21840\n",
       "Monday       21354\n",
       "Wednesday    18059\n",
       "Name: track, dtype: int64"
      ]
     },
     "execution_count": 19,
     "metadata": {},
     "output_type": "execute_result"
    }
   ],
   "source": [
    "df.groupby('day')['track'].count() # Подсчёт прослушиваний в каждый из трёх дней"
   ]
  },
  {
   "cell_type": "markdown",
   "metadata": {
    "id": "cC2tNrlL_Zcu"
   },
   "source": [
    "В среднем пользователи из двух городов менее активны по средам. Но картина может измениться, если рассмотреть каждый город в отдельности."
   ]
  },
  {
   "cell_type": "markdown",
   "metadata": {
    "id": "POzs8bGa_Zcu"
   },
   "source": [
    "Группировка работаетпо городу и по дням недели. Теперь напишем функцию, которая объединит два эти расчёта.\n",
    "\n",
    "Создадим функцию `number_tracks()`, которая посчитает прослушивания для заданного дня и города. Ей понадобятся два параметра:\n",
    "\n",
    "* день недели,\n",
    "* название города.\n",
    "\n",
    "В функции сохранм в переменную строки исходной таблицы, у которых значение:\n",
    "  * в колонке `day` равно параметру `day`,\n",
    "  * в колонке `city` равно параметру `city`.\n",
    "\n",
    "Для этого применим последовательную фильтрацию с логической индексацией.\n",
    "\n",
    "Затем посчитаем значения в столбце `user_id` получившейся таблицы. Результат сохраним в новую переменную. Вернем эту переменную из функции."
   ]
  },
  {
   "cell_type": "code",
   "execution_count": 20,
   "metadata": {
    "id": "Nz3GdQB1_Zcu"
   },
   "outputs": [],
   "source": [
    "def number_tracks(day, city): # Функция для подсчёта прослушиваний для конкретного дня и города\n",
    "    track_list = df[\n",
    "        (df['day'] == day)\n",
    "        & (df['city'] == city)\n",
    "    ]     \n",
    "    track_list_count = track_list['user_id'].count()\n",
    "    return track_list_count"
   ]
  },
  {
   "cell_type": "markdown",
   "metadata": {
    "id": "ytf7xFrFJQ2r"
   },
   "source": [
    "Вызовем `number_tracks()` шесть раз, меняя значение параметров — так, чтобы получить данные для каждого города в каждый из трёх дней."
   ]
  },
  {
   "cell_type": "code",
   "execution_count": 21,
   "metadata": {
    "id": "rJcRATNQ_Zcu"
   },
   "outputs": [
    {
     "data": {
      "text/plain": [
       "15740"
      ]
     },
     "execution_count": 21,
     "metadata": {},
     "output_type": "execute_result"
    }
   ],
   "source": [
    "number_tracks('Monday', 'Moscow') # количество прослушиваний в Москве по понедельникам"
   ]
  },
  {
   "cell_type": "code",
   "execution_count": 22,
   "metadata": {
    "id": "hq_ncZ5T_Zcu"
   },
   "outputs": [
    {
     "data": {
      "text/plain": [
       "5614"
      ]
     },
     "execution_count": 22,
     "metadata": {},
     "output_type": "execute_result"
    }
   ],
   "source": [
    "number_tracks('Monday', 'Saint-Petersburg') # количество прослушиваний в Санкт-Петербурге по понедельникам"
   ]
  },
  {
   "cell_type": "code",
   "execution_count": 23,
   "metadata": {
    "id": "_NTy2VPU_Zcu"
   },
   "outputs": [
    {
     "data": {
      "text/plain": [
       "11056"
      ]
     },
     "execution_count": 23,
     "metadata": {},
     "output_type": "execute_result"
    }
   ],
   "source": [
    "number_tracks('Wednesday', 'Moscow') # количество прослушиваний в Москве по средам"
   ]
  },
  {
   "cell_type": "code",
   "execution_count": 24,
   "metadata": {
    "id": "j2y3TAwo_Zcu"
   },
   "outputs": [
    {
     "data": {
      "text/plain": [
       "7003"
      ]
     },
     "execution_count": 24,
     "metadata": {},
     "output_type": "execute_result"
    }
   ],
   "source": [
    "number_tracks('Wednesday', 'Saint-Petersburg') # количество прослушиваний в Санкт-Петербурге по средам"
   ]
  },
  {
   "cell_type": "code",
   "execution_count": 25,
   "metadata": {
    "id": "vYDw5u_K_Zcu"
   },
   "outputs": [
    {
     "data": {
      "text/plain": [
       "15945"
      ]
     },
     "execution_count": 25,
     "metadata": {},
     "output_type": "execute_result"
    }
   ],
   "source": [
    "number_tracks('Friday', 'Moscow') # количество прослушиваний в Москве по пятницам"
   ]
  },
  {
   "cell_type": "code",
   "execution_count": 26,
   "metadata": {
    "id": "8_yzFtW3_Zcu"
   },
   "outputs": [
    {
     "data": {
      "text/plain": [
       "5895"
      ]
     },
     "execution_count": 26,
     "metadata": {},
     "output_type": "execute_result"
    }
   ],
   "source": [
    "number_tracks('Friday', 'Saint-Petersburg') # количество прослушиваний в Санкт-Петербурге по пятницам"
   ]
  },
  {
   "cell_type": "markdown",
   "metadata": {
    "id": "7QXffbO-_Zcu"
   },
   "source": [
    "Создадим c помощью конструктора `pd.DataFrame` таблицу, где\n",
    "* названия колонок — `['city', 'monday', 'wednesday', 'friday']`;\n",
    "* данные — результаты, которые вы получили с помощью `number_tracks`."
   ]
  },
  {
   "cell_type": "code",
   "execution_count": 27,
   "metadata": {
    "id": "APAcLpOr_Zcu"
   },
   "outputs": [
    {
     "data": {
      "text/html": [
       "<div>\n",
       "<style scoped>\n",
       "    .dataframe tbody tr th:only-of-type {\n",
       "        vertical-align: middle;\n",
       "    }\n",
       "\n",
       "    .dataframe tbody tr th {\n",
       "        vertical-align: top;\n",
       "    }\n",
       "\n",
       "    .dataframe thead th {\n",
       "        text-align: right;\n",
       "    }\n",
       "</style>\n",
       "<table border=\"1\" class=\"dataframe\">\n",
       "  <thead>\n",
       "    <tr style=\"text-align: right;\">\n",
       "      <th></th>\n",
       "      <th>city</th>\n",
       "      <th>monday</th>\n",
       "      <th>wednesday</th>\n",
       "      <th>friday</th>\n",
       "    </tr>\n",
       "  </thead>\n",
       "  <tbody>\n",
       "    <tr>\n",
       "      <td>0</td>\n",
       "      <td>Moscow</td>\n",
       "      <td>15740</td>\n",
       "      <td>11056</td>\n",
       "      <td>15945</td>\n",
       "    </tr>\n",
       "    <tr>\n",
       "      <td>1</td>\n",
       "      <td>Saint-Petersburg</td>\n",
       "      <td>5614</td>\n",
       "      <td>7003</td>\n",
       "      <td>5895</td>\n",
       "    </tr>\n",
       "  </tbody>\n",
       "</table>\n",
       "</div>"
      ],
      "text/plain": [
       "               city  monday  wednesday  friday\n",
       "0            Moscow   15740      11056   15945\n",
       "1  Saint-Petersburg    5614       7003    5895"
      ]
     },
     "metadata": {},
     "output_type": "display_data"
    }
   ],
   "source": [
    "tracks = [\n",
    "    ['Moscow', number_tracks('Monday', 'Moscow'), number_tracks('Wednesday', 'Moscow'), number_tracks('Friday', 'Moscow')],\n",
    "    ['Saint-Petersburg', number_tracks('Monday', 'Saint-Petersburg'), number_tracks('Wednesday', 'Saint-Petersburg'), number_tracks('Friday', 'Saint-Petersburg')]\n",
    "]\n",
    "\n",
    "days = ['city', 'monday', 'wednesday', 'friday']\n",
    " \n",
    "tracks_day_city = pd.DataFrame(data=tracks, columns=days) # Таблица с результатами\n",
    "\n",
    "display(tracks_day_city)"
   ]
  },
  {
   "cell_type": "markdown",
   "metadata": {
    "id": "-EgPIHYu_Zcu"
   },
   "source": [
    "**Выводы**\n",
    "\n",
    "Данные показывают разницу поведения пользователей:\n",
    "\n",
    "- В Москве пик прослушиваний приходится на понедельник и пятницу, а в среду заметен спад.\n",
    "- В Петербурге, наоборот, больше слушают музыку по средам. Активность в понедельник и пятницу здесь почти в равной мере уступает среде.\n",
    "\n",
    "Значит, данные говорят в пользу первой гипотезы."
   ]
  },
  {
   "cell_type": "markdown",
   "metadata": {
    "id": "atZAxtq4_Zcu"
   },
   "source": [
    "### Музыка в начале и в конце недели"
   ]
  },
  {
   "cell_type": "markdown",
   "metadata": {
    "id": "eXrQqXFH_Zcu"
   },
   "source": [
    "Согласно второй гипотезе, утром в понедельник в Москве преобладают одни жанры, а в Петербурге — другие. Так же и вечером пятницы преобладают разные жанры — в зависимости от города."
   ]
  },
  {
   "cell_type": "markdown",
   "metadata": {
    "id": "S8UcW6Hw_Zcu"
   },
   "source": [
    "Сохраним таблицы с данными в две переменные:\n",
    "* по Москве — в `moscow_general`;\n",
    "* по Санкт-Петербургу — в `spb_general`."
   ]
  },
  {
   "cell_type": "code",
   "execution_count": 28,
   "metadata": {
    "id": "qeaFfM_P_Zcu"
   },
   "outputs": [],
   "source": [
    "moscow_general = df[df['city'] == 'Moscow'] # таблица с треками, которые слушают в Москве "
   ]
  },
  {
   "cell_type": "code",
   "execution_count": 29,
   "metadata": {
    "id": "ORaVRKto_Zcu"
   },
   "outputs": [],
   "source": [
    "spb_general = df[df['city'] == 'Saint-Petersburg'] # таблица с треками, которые слушают в Санкт-Петербурге"
   ]
  },
  {
   "cell_type": "markdown",
   "metadata": {
    "id": "MEJV-CX2_Zcu"
   },
   "source": [
    "Создадим функцию `genre_weekday()` с четырьмя параметрами:\n",
    "\n",
    "* таблица (датафрейм) с данными,\n",
    "* день недели,\n",
    "* начальная временная метка в формате 'hh:mm', \n",
    "* последняя временная метка в формате 'hh:mm'.\n",
    "\n",
    "Функция должна вернуть информацию о топ-10 жанров тех треков, которые прослушивали в указанный день, в промежутке между двумя отметками времени."
   ]
  },
  {
   "cell_type": "code",
   "execution_count": 30,
   "metadata": {
    "id": "laJT9BYl_Zcu"
   },
   "outputs": [],
   "source": [
    "def genre_weekday(table, day, time1, time2): # Функция, которая возвращает информацию о самых популярных жанрах в указанный день и в заданное время:\n",
    "    genre_df = table[\n",
    "        (table['day'] == day)\n",
    "        & (table['time'] > time1)\n",
    "        & (table['time'] < time2) \n",
    "    ]\n",
    "    genre_df_count = genre_df.groupby('genre')['track'].count()\n",
    "    genre_df_sorted = genre_df_count.sort_values(ascending=False)\n",
    "    return genre_df_sorted.head(10)"
   ]
  },
  {
   "cell_type": "markdown",
   "metadata": {
    "id": "la2s2_PF_Zcu"
   },
   "source": [
    "Cравним результаты функции `genre_weekday()` для Москвы и Санкт-Петербурга в понедельник утром (с 7:00 до 11:00) и в пятницу вечером (с 17:00 до 23:00):"
   ]
  },
  {
   "cell_type": "code",
   "execution_count": 31,
   "metadata": {
    "id": "yz7itPUQ_Zcu"
   },
   "outputs": [
    {
     "data": {
      "text/plain": [
       "genre\n",
       "pop            781\n",
       "dance          549\n",
       "electronic     480\n",
       "rock           474\n",
       "hiphop         286\n",
       "ruspop         186\n",
       "world          181\n",
       "rusrap         175\n",
       "alternative    164\n",
       "unknown        161\n",
       "Name: track, dtype: int64"
      ]
     },
     "execution_count": 31,
     "metadata": {},
     "output_type": "execute_result"
    }
   ],
   "source": [
    "genre_weekday(moscow_general, 'Monday', '07:00', '11:00') # вызов функции для утра понедельника в Москве"
   ]
  },
  {
   "cell_type": "code",
   "execution_count": 32,
   "metadata": {
    "id": "kwUcHPdy_Zcu"
   },
   "outputs": [
    {
     "data": {
      "text/plain": [
       "genre\n",
       "pop            218\n",
       "dance          182\n",
       "rock           162\n",
       "electronic     147\n",
       "hiphop          80\n",
       "ruspop          64\n",
       "alternative     58\n",
       "rusrap          55\n",
       "jazz            44\n",
       "classical       40\n",
       "Name: track, dtype: int64"
      ]
     },
     "execution_count": 32,
     "metadata": {},
     "output_type": "execute_result"
    }
   ],
   "source": [
    "genre_weekday(spb_general, 'Monday', '07:00', '11:00') # вызов функции для утра понедельника в Петербурге"
   ]
  },
  {
   "cell_type": "code",
   "execution_count": 33,
   "metadata": {
    "id": "EzXVRE1o_Zcu"
   },
   "outputs": [
    {
     "data": {
      "text/plain": [
       "genre\n",
       "pop            713\n",
       "rock           517\n",
       "dance          495\n",
       "electronic     482\n",
       "hiphop         273\n",
       "world          208\n",
       "ruspop         170\n",
       "alternative    163\n",
       "classical      163\n",
       "rusrap         142\n",
       "Name: track, dtype: int64"
      ]
     },
     "execution_count": 33,
     "metadata": {},
     "output_type": "execute_result"
    }
   ],
   "source": [
    "genre_weekday(moscow_general, 'Friday', '17:00', '23:00') # вызов функции для вечера пятницы в Москве"
   ]
  },
  {
   "cell_type": "code",
   "execution_count": 34,
   "metadata": {
    "id": "JZaEKu5v_Zcu"
   },
   "outputs": [
    {
     "data": {
      "text/plain": [
       "genre\n",
       "pop            256\n",
       "rock           216\n",
       "electronic     216\n",
       "dance          210\n",
       "hiphop          97\n",
       "alternative     63\n",
       "jazz            61\n",
       "classical       60\n",
       "rusrap          59\n",
       "world           54\n",
       "Name: track, dtype: int64"
      ]
     },
     "execution_count": 34,
     "metadata": {},
     "output_type": "execute_result"
    }
   ],
   "source": [
    "genre_weekday(spb_general, 'Friday', '17:00', '23:00') # вызов функции для вечера пятницы в Петербурге"
   ]
  },
  {
   "cell_type": "markdown",
   "metadata": {
    "id": "wrCe4MNX_Zcu"
   },
   "source": [
    "**Выводы**\n",
    "\n",
    "Если сравнить топ-10 жанров в понедельник утром, можно сделать такие выводы:\n",
    "\n",
    "1. В Москве и Петербурге слушают похожую музыку. Единственное отличие — в московский рейтинг вошёл жанр “world”, а в петербургский — джаз и классика.\n",
    "\n",
    "2. В Москве пропущенных значений оказалось так много, что значение `'unknown'` заняло десятое место среди самых популярных жанров. Значит, пропущенные значения занимают существенную долю в данных и угрожают достоверности исследования.\n",
    "\n",
    "Вечер пятницы не меняет эту картину. Некоторые жанры поднимаются немного выше, другие спускаются, но в целом топ-10 остаётся тем же самым.\n",
    "\n",
    "Таким образом, вторая гипотеза подтвердилась лишь частично:\n",
    "* Пользователи слушают похожую музыку в начале недели и в конце.\n",
    "* Разница между Москвой и Петербургом не слишком выражена. В Москве чаще слушают русскую популярную музыку, в Петербурге — джаз.\n",
    "\n",
    "Однако пропуски в данных ставят под сомнение этот результат. В Москве их так много, что рейтинг топ-10 мог бы выглядеть иначе, если бы не утерянные  данные о жанрах."
   ]
  },
  {
   "cell_type": "markdown",
   "metadata": {
    "id": "JolODAqr_Zcu"
   },
   "source": [
    "### Жанровые предпочтения в Москве и Петербурге\n",
    "\n",
    "Гипотеза: Петербург — столица рэпа, музыку этого жанра там слушают чаще, чем в Москве.  А Москва — город контрастов, в котором, тем не менее, преобладает поп-музыка."
   ]
  },
  {
   "cell_type": "markdown",
   "metadata": {
    "id": "DlegSvaT_Zcu"
   },
   "source": [
    "Сгруппируем таблицу `moscow_general` по жанру и посчитаем прослушивания треков каждого жанра методом `count()`. Затем отсортируем результат в порядке убывания и сохраним его в таблице `moscow_genres`."
   ]
  },
  {
   "cell_type": "code",
   "execution_count": 35,
   "metadata": {
    "id": "r19lIPke_Zcu"
   },
   "outputs": [],
   "source": [
    "moscow_genres = moscow_general.groupby('genre')['track'].count().sort_values(ascending=False) # Количество прослушивания треков по жанрам для Москвы"
   ]
  },
  {
   "cell_type": "markdown",
   "metadata": {
    "id": "6kMuomxTiIr8"
   },
   "source": [
    "Выведем на экран первые десять строк `moscow_genres`:"
   ]
  },
  {
   "cell_type": "code",
   "execution_count": 36,
   "metadata": {
    "id": "WhCSooF8_Zcv"
   },
   "outputs": [
    {
     "data": {
      "text/plain": [
       "genre\n",
       "pop            5892\n",
       "dance          4435\n",
       "rock           3965\n",
       "electronic     3786\n",
       "hiphop         2096\n",
       "classical      1616\n",
       "world          1432\n",
       "alternative    1379\n",
       "ruspop         1372\n",
       "rusrap         1161\n",
       "Name: track, dtype: int64"
      ]
     },
     "metadata": {},
     "output_type": "display_data"
    }
   ],
   "source": [
    "display(moscow_genres.head(10)) # просмотр первых 10 строк moscow_genres"
   ]
  },
  {
   "cell_type": "markdown",
   "metadata": {
    "id": "cnPG2vnN_Zcv"
   },
   "source": [
    "Теперь повторим то же и для Петербурга.\n",
    "\n",
    "Сгруппируем таблицу `spb_general` по жанру. Посчитаем прослушивания треков каждого жанра. Результат отсортируем в порядке убывания и сохраним в таблице `spb_genres`:"
   ]
  },
  {
   "cell_type": "code",
   "execution_count": 37,
   "metadata": {
    "id": "gluLIpE7_Zcv"
   },
   "outputs": [],
   "source": [
    "spb_genres = spb_general.groupby('genre')['track'].count().sort_values(ascending=False) # Количество прослушивания треков по жанрам для Санкт-Петербурга"
   ]
  },
  {
   "cell_type": "markdown",
   "metadata": {
    "id": "5Doha_ODgyQ8"
   },
   "source": [
    "Выведем на экран первые десять строк `spb_genres`:"
   ]
  },
  {
   "cell_type": "code",
   "execution_count": 38,
   "metadata": {
    "id": "uaGJHjVU_Zcv"
   },
   "outputs": [
    {
     "data": {
      "text/plain": [
       "genre\n",
       "pop            2431\n",
       "dance          1932\n",
       "rock           1879\n",
       "electronic     1737\n",
       "hiphop          960\n",
       "alternative     649\n",
       "classical       646\n",
       "rusrap          564\n",
       "ruspop          538\n",
       "world           515\n",
       "Name: track, dtype: int64"
      ]
     },
     "metadata": {},
     "output_type": "display_data"
    }
   ],
   "source": [
    "display(spb_genres.head(10)) # просмотр первых 10 строк spb_genres"
   ]
  },
  {
   "cell_type": "markdown",
   "metadata": {
    "id": "RY51YJYu_Zcv"
   },
   "source": [
    "**Выводы**"
   ]
  },
  {
   "cell_type": "markdown",
   "metadata": {
    "id": "nVhnJEm__Zcv"
   },
   "source": [
    "Гипотеза частично подтвердилась:\n",
    "* Поп-музыка — самый популярный жанр в Москве, как и предполагала гипотеза. Более того, в топ-10 жанров встречается близкий жанр — русская популярная музыка.\n",
    "* Вопреки ожиданиям, рэп одинаково популярен в Москве и Петербурге. \n"
   ]
  },
  {
   "cell_type": "markdown",
   "metadata": {
    "id": "ykKQ0N65_Zcv"
   },
   "source": [
    "## Итоги исследования"
   ]
  },
  {
   "cell_type": "markdown",
   "metadata": {
    "id": "tjUwbHb3_Zcv"
   },
   "source": [
    "Мы проверили три гипотезы и установили:\n",
    "\n",
    "1. День недели по-разному влияет на активность пользователей в Москве и Петербурге. \n",
    "\n",
    "Первая гипотеза полностью подтвердилась.\n",
    "\n",
    "2. Музыкальные предпочтения не сильно меняются в течение недели — будь то Москва или Петербург. Небольшие различия заметны в начале недели, по понедельникам:\n",
    "* в Москве слушают музыку жанра “world”,\n",
    "* в Петербурге — джаз и классику.\n",
    "\n",
    "Таким образом, вторая гипотеза подтвердилась лишь отчасти. Этот результат мог оказаться иным, если бы не пропуски в данных.\n",
    "\n",
    "3. Во вкусах пользователей Москвы и Петербурга больше общего чем различий. Вопреки ожиданиям, предпочтения жанров в Петербурге напоминают московские.\n",
    "\n",
    "Третья гипотеза не подтвердилась. Если различия в предпочтениях и существуют, на основной массе пользователей они незаметны."
   ]
  }
 ],
 "metadata": {
  "ExecuteTimeLog": [
   {
    "duration": 734,
    "start_time": "2022-01-29T10:54:46.603Z"
   },
   {
    "duration": 168,
    "start_time": "2022-01-29T10:54:47.340Z"
   },
   {
    "duration": 25,
    "start_time": "2022-01-29T10:54:47.511Z"
   },
   {
    "duration": 30,
    "start_time": "2022-01-29T10:54:47.549Z"
   },
   {
    "duration": 4,
    "start_time": "2022-01-29T10:54:47.582Z"
   },
   {
    "duration": 27,
    "start_time": "2022-01-29T10:54:47.589Z"
   },
   {
    "duration": 33,
    "start_time": "2022-01-29T10:54:47.618Z"
   },
   {
    "duration": 38,
    "start_time": "2022-01-29T10:54:47.655Z"
   },
   {
    "duration": 20,
    "start_time": "2022-01-29T10:54:47.696Z"
   },
   {
    "duration": 48,
    "start_time": "2022-01-29T10:54:47.718Z"
   },
   {
    "duration": 102,
    "start_time": "2022-01-29T10:54:47.769Z"
   },
   {
    "duration": 105,
    "start_time": "2022-01-29T10:54:47.873Z"
   },
   {
    "duration": 79,
    "start_time": "2022-01-29T10:55:05.477Z"
   },
   {
    "duration": 353,
    "start_time": "2022-01-29T10:59:45.038Z"
   },
   {
    "duration": 8,
    "start_time": "2022-01-29T11:00:22.735Z"
   },
   {
    "duration": 3,
    "start_time": "2022-01-29T11:14:23.787Z"
   },
   {
    "duration": 194,
    "start_time": "2022-01-29T11:14:23.796Z"
   },
   {
    "duration": 18,
    "start_time": "2022-01-29T11:14:23.993Z"
   },
   {
    "duration": 58,
    "start_time": "2022-01-29T11:14:24.015Z"
   },
   {
    "duration": 5,
    "start_time": "2022-01-29T11:14:24.077Z"
   },
   {
    "duration": 24,
    "start_time": "2022-01-29T11:14:24.085Z"
   },
   {
    "duration": 38,
    "start_time": "2022-01-29T11:14:24.111Z"
   },
   {
    "duration": 33,
    "start_time": "2022-01-29T11:14:24.152Z"
   },
   {
    "duration": 23,
    "start_time": "2022-01-29T11:14:24.190Z"
   },
   {
    "duration": 33,
    "start_time": "2022-01-29T11:14:24.250Z"
   },
   {
    "duration": 105,
    "start_time": "2022-01-29T11:14:24.286Z"
   },
   {
    "duration": 102,
    "start_time": "2022-01-29T11:14:24.393Z"
   },
   {
    "duration": 88,
    "start_time": "2022-01-29T11:14:24.498Z"
   },
   {
    "duration": 8,
    "start_time": "2022-01-29T11:14:24.591Z"
   },
   {
    "duration": 5,
    "start_time": "2022-01-29T11:14:24.602Z"
   },
   {
    "duration": 40,
    "start_time": "2022-01-29T11:14:24.610Z"
   },
   {
    "duration": 126,
    "start_time": "2022-01-29T11:14:51.650Z"
   },
   {
    "duration": 318,
    "start_time": "2022-01-29T11:14:59.513Z"
   },
   {
    "duration": 14,
    "start_time": "2022-01-29T11:15:15.876Z"
   },
   {
    "duration": 8,
    "start_time": "2022-01-29T11:15:38.592Z"
   },
   {
    "duration": 7,
    "start_time": "2022-01-29T11:15:44.592Z"
   },
   {
    "duration": 45,
    "start_time": "2022-01-29T11:22:01.038Z"
   },
   {
    "duration": 9,
    "start_time": "2022-01-29T11:22:08.472Z"
   },
   {
    "duration": 3,
    "start_time": "2022-01-29T11:22:55.307Z"
   },
   {
    "duration": 189,
    "start_time": "2022-01-29T11:22:55.316Z"
   },
   {
    "duration": 16,
    "start_time": "2022-01-29T11:22:55.508Z"
   },
   {
    "duration": 50,
    "start_time": "2022-01-29T11:22:55.528Z"
   },
   {
    "duration": 4,
    "start_time": "2022-01-29T11:22:55.581Z"
   },
   {
    "duration": 20,
    "start_time": "2022-01-29T11:22:55.587Z"
   },
   {
    "duration": 4,
    "start_time": "2022-01-29T11:22:55.609Z"
   },
   {
    "duration": 66,
    "start_time": "2022-01-29T11:22:55.616Z"
   },
   {
    "duration": 21,
    "start_time": "2022-01-29T11:22:55.686Z"
   },
   {
    "duration": 49,
    "start_time": "2022-01-29T11:22:55.710Z"
   },
   {
    "duration": 99,
    "start_time": "2022-01-29T11:22:55.762Z"
   },
   {
    "duration": 104,
    "start_time": "2022-01-29T11:22:55.864Z"
   },
   {
    "duration": 80,
    "start_time": "2022-01-29T11:22:55.971Z"
   },
   {
    "duration": 7,
    "start_time": "2022-01-29T11:22:56.053Z"
   },
   {
    "duration": 4,
    "start_time": "2022-01-29T11:22:56.063Z"
   },
   {
    "duration": 48,
    "start_time": "2022-01-29T11:22:56.070Z"
   },
   {
    "duration": 9,
    "start_time": "2022-01-29T11:23:00.191Z"
   },
   {
    "duration": 19,
    "start_time": "2022-01-29T11:24:24.919Z"
   },
   {
    "duration": 8,
    "start_time": "2022-01-29T11:24:27.543Z"
   },
   {
    "duration": 14,
    "start_time": "2022-01-29T11:26:53.975Z"
   },
   {
    "duration": 13,
    "start_time": "2022-01-29T11:27:04.569Z"
   },
   {
    "duration": 46,
    "start_time": "2022-01-29T11:34:01.147Z"
   },
   {
    "duration": 40,
    "start_time": "2022-01-29T11:35:32.845Z"
   },
   {
    "duration": 39,
    "start_time": "2022-01-29T11:35:44.461Z"
   },
   {
    "duration": 40,
    "start_time": "2022-01-29T11:36:38.531Z"
   },
   {
    "duration": 6,
    "start_time": "2022-01-29T11:38:07.110Z"
   },
   {
    "duration": 16,
    "start_time": "2022-01-29T11:38:23.410Z"
   },
   {
    "duration": 15,
    "start_time": "2022-01-29T11:38:32.669Z"
   },
   {
    "duration": 19,
    "start_time": "2022-01-29T11:39:19.089Z"
   },
   {
    "duration": 16,
    "start_time": "2022-01-29T11:39:27.415Z"
   },
   {
    "duration": 4,
    "start_time": "2022-01-29T11:44:14.389Z"
   },
   {
    "duration": 21,
    "start_time": "2022-01-29T11:44:23.808Z"
   },
   {
    "duration": 21,
    "start_time": "2022-01-29T11:44:36.933Z"
   },
   {
    "duration": 5,
    "start_time": "2022-01-29T11:44:38.866Z"
   },
   {
    "duration": 17,
    "start_time": "2022-01-29T11:44:40.616Z"
   },
   {
    "duration": 280,
    "start_time": "2022-01-29T12:01:05.233Z"
   },
   {
    "duration": 4,
    "start_time": "2022-01-29T12:01:11.576Z"
   },
   {
    "duration": 178,
    "start_time": "2022-01-29T12:01:11.587Z"
   },
   {
    "duration": 16,
    "start_time": "2022-01-29T12:01:11.768Z"
   },
   {
    "duration": 33,
    "start_time": "2022-01-29T12:01:11.787Z"
   },
   {
    "duration": 31,
    "start_time": "2022-01-29T12:01:11.823Z"
   },
   {
    "duration": 38,
    "start_time": "2022-01-29T12:01:11.857Z"
   },
   {
    "duration": 5,
    "start_time": "2022-01-29T12:01:11.898Z"
   },
   {
    "duration": 51,
    "start_time": "2022-01-29T12:01:11.905Z"
   },
   {
    "duration": 22,
    "start_time": "2022-01-29T12:01:11.962Z"
   },
   {
    "duration": 31,
    "start_time": "2022-01-29T12:01:11.987Z"
   },
   {
    "duration": 101,
    "start_time": "2022-01-29T12:01:12.048Z"
   },
   {
    "duration": 154,
    "start_time": "2022-01-29T12:01:12.152Z"
   },
   {
    "duration": 114,
    "start_time": "2022-01-29T12:01:12.309Z"
   },
   {
    "duration": 26,
    "start_time": "2022-01-29T12:01:12.425Z"
   },
   {
    "duration": 4,
    "start_time": "2022-01-29T12:01:12.453Z"
   },
   {
    "duration": 18,
    "start_time": "2022-01-29T12:01:12.460Z"
   },
   {
    "duration": 14,
    "start_time": "2022-01-29T12:01:12.480Z"
   },
   {
    "duration": 15,
    "start_time": "2022-01-29T12:01:12.496Z"
   },
   {
    "duration": 15,
    "start_time": "2022-01-29T12:01:12.549Z"
   },
   {
    "duration": 5,
    "start_time": "2022-01-29T12:01:12.566Z"
   },
   {
    "duration": 114,
    "start_time": "2022-01-29T12:01:12.574Z"
   },
   {
    "duration": 106,
    "start_time": "2022-01-29T12:01:12.690Z"
   },
   {
    "duration": 109,
    "start_time": "2022-01-29T12:01:12.798Z"
   },
   {
    "duration": 72,
    "start_time": "2022-01-29T12:01:12.911Z"
   },
   {
    "duration": 72,
    "start_time": "2022-01-29T12:01:12.987Z"
   },
   {
    "duration": 5,
    "start_time": "2022-01-29T12:03:11.023Z"
   },
   {
    "duration": 4,
    "start_time": "2022-01-29T12:03:23.401Z"
   },
   {
    "duration": 195,
    "start_time": "2022-01-29T12:03:23.410Z"
   },
   {
    "duration": 15,
    "start_time": "2022-01-29T12:03:23.608Z"
   },
   {
    "duration": 46,
    "start_time": "2022-01-29T12:03:23.626Z"
   },
   {
    "duration": 5,
    "start_time": "2022-01-29T12:03:23.675Z"
   },
   {
    "duration": 22,
    "start_time": "2022-01-29T12:03:23.682Z"
   },
   {
    "duration": 4,
    "start_time": "2022-01-29T12:03:23.707Z"
   },
   {
    "duration": 31,
    "start_time": "2022-01-29T12:03:23.749Z"
   },
   {
    "duration": 21,
    "start_time": "2022-01-29T12:03:23.784Z"
   },
   {
    "duration": 48,
    "start_time": "2022-01-29T12:03:23.808Z"
   },
   {
    "duration": 100,
    "start_time": "2022-01-29T12:03:23.858Z"
   },
   {
    "duration": 99,
    "start_time": "2022-01-29T12:03:23.961Z"
   },
   {
    "duration": 86,
    "start_time": "2022-01-29T12:03:24.063Z"
   },
   {
    "duration": 13,
    "start_time": "2022-01-29T12:03:24.152Z"
   },
   {
    "duration": 5,
    "start_time": "2022-01-29T12:03:24.167Z"
   },
   {
    "duration": 18,
    "start_time": "2022-01-29T12:03:24.174Z"
   },
   {
    "duration": 13,
    "start_time": "2022-01-29T12:03:24.195Z"
   },
   {
    "duration": 50,
    "start_time": "2022-01-29T12:03:24.212Z"
   },
   {
    "duration": 17,
    "start_time": "2022-01-29T12:03:24.265Z"
   },
   {
    "duration": 5,
    "start_time": "2022-01-29T12:03:24.285Z"
   },
   {
    "duration": 76,
    "start_time": "2022-01-29T12:03:24.293Z"
   },
   {
    "duration": 31,
    "start_time": "2022-01-29T12:03:24.372Z"
   },
   {
    "duration": 58,
    "start_time": "2022-01-29T12:03:24.406Z"
   },
   {
    "duration": 23,
    "start_time": "2022-01-29T12:03:24.468Z"
   },
   {
    "duration": 23,
    "start_time": "2022-01-29T12:03:24.493Z"
   },
   {
    "duration": 26,
    "start_time": "2022-01-29T12:08:00.484Z"
   },
   {
    "duration": 30,
    "start_time": "2022-01-29T12:08:21.611Z"
   },
   {
    "duration": 31,
    "start_time": "2022-01-29T12:09:39.766Z"
   },
   {
    "duration": 30,
    "start_time": "2022-01-29T12:09:41.670Z"
   },
   {
    "duration": 28,
    "start_time": "2022-01-29T12:09:42.938Z"
   },
   {
    "duration": 5,
    "start_time": "2022-01-29T12:11:26.615Z"
   },
   {
    "duration": 20,
    "start_time": "2022-01-29T12:11:28.229Z"
   },
   {
    "duration": 19,
    "start_time": "2022-01-29T12:11:29.773Z"
   },
   {
    "duration": 3,
    "start_time": "2022-01-29T12:11:41.024Z"
   },
   {
    "duration": 200,
    "start_time": "2022-01-29T12:11:41.032Z"
   },
   {
    "duration": 20,
    "start_time": "2022-01-29T12:11:41.235Z"
   },
   {
    "duration": 35,
    "start_time": "2022-01-29T12:11:41.258Z"
   },
   {
    "duration": 6,
    "start_time": "2022-01-29T12:11:41.296Z"
   },
   {
    "duration": 59,
    "start_time": "2022-01-29T12:11:41.305Z"
   },
   {
    "duration": 4,
    "start_time": "2022-01-29T12:11:41.367Z"
   },
   {
    "duration": 36,
    "start_time": "2022-01-29T12:11:41.374Z"
   },
   {
    "duration": 45,
    "start_time": "2022-01-29T12:11:41.414Z"
   },
   {
    "duration": 28,
    "start_time": "2022-01-29T12:11:41.462Z"
   },
   {
    "duration": 96,
    "start_time": "2022-01-29T12:11:41.492Z"
   },
   {
    "duration": 98,
    "start_time": "2022-01-29T12:11:41.590Z"
   },
   {
    "duration": 82,
    "start_time": "2022-01-29T12:11:41.691Z"
   },
   {
    "duration": 13,
    "start_time": "2022-01-29T12:11:41.776Z"
   },
   {
    "duration": 6,
    "start_time": "2022-01-29T12:11:41.791Z"
   },
   {
    "duration": 21,
    "start_time": "2022-01-29T12:11:41.800Z"
   },
   {
    "duration": 34,
    "start_time": "2022-01-29T12:11:41.824Z"
   },
   {
    "duration": 15,
    "start_time": "2022-01-29T12:11:41.860Z"
   },
   {
    "duration": 13,
    "start_time": "2022-01-29T12:11:41.878Z"
   },
   {
    "duration": 4,
    "start_time": "2022-01-29T12:11:41.894Z"
   },
   {
    "duration": 61,
    "start_time": "2022-01-29T12:11:41.901Z"
   },
   {
    "duration": 17,
    "start_time": "2022-01-29T12:11:41.964Z"
   },
   {
    "duration": 18,
    "start_time": "2022-01-29T12:11:41.984Z"
   },
   {
    "duration": 47,
    "start_time": "2022-01-29T12:11:42.006Z"
   },
   {
    "duration": 21,
    "start_time": "2022-01-29T12:11:42.056Z"
   },
   {
    "duration": 18,
    "start_time": "2022-01-29T12:11:45.996Z"
   },
   {
    "duration": 109,
    "start_time": "2022-01-29T12:14:27.675Z"
   },
   {
    "duration": 116,
    "start_time": "2022-01-29T12:14:51.906Z"
   },
   {
    "duration": 111,
    "start_time": "2022-01-29T12:16:15.980Z"
   },
   {
    "duration": 4,
    "start_time": "2022-01-29T12:17:09.259Z"
   },
   {
    "duration": 192,
    "start_time": "2022-01-29T12:17:09.265Z"
   },
   {
    "duration": 16,
    "start_time": "2022-01-29T12:17:09.460Z"
   },
   {
    "duration": 37,
    "start_time": "2022-01-29T12:17:09.479Z"
   },
   {
    "duration": 5,
    "start_time": "2022-01-29T12:17:09.519Z"
   },
   {
    "duration": 38,
    "start_time": "2022-01-29T12:17:09.526Z"
   },
   {
    "duration": 11,
    "start_time": "2022-01-29T12:17:09.567Z"
   },
   {
    "duration": 30,
    "start_time": "2022-01-29T12:17:09.581Z"
   },
   {
    "duration": 53,
    "start_time": "2022-01-29T12:17:09.614Z"
   },
   {
    "duration": 37,
    "start_time": "2022-01-29T12:17:09.669Z"
   },
   {
    "duration": 108,
    "start_time": "2022-01-29T12:17:09.709Z"
   },
   {
    "duration": 105,
    "start_time": "2022-01-29T12:17:09.819Z"
   },
   {
    "duration": 84,
    "start_time": "2022-01-29T12:17:09.927Z"
   },
   {
    "duration": 14,
    "start_time": "2022-01-29T12:17:10.014Z"
   },
   {
    "duration": 19,
    "start_time": "2022-01-29T12:17:10.030Z"
   },
   {
    "duration": 18,
    "start_time": "2022-01-29T12:17:10.052Z"
   },
   {
    "duration": 14,
    "start_time": "2022-01-29T12:17:10.073Z"
   },
   {
    "duration": 16,
    "start_time": "2022-01-29T12:17:10.089Z"
   },
   {
    "duration": 47,
    "start_time": "2022-01-29T12:17:10.109Z"
   },
   {
    "duration": 7,
    "start_time": "2022-01-29T12:17:10.159Z"
   },
   {
    "duration": 34,
    "start_time": "2022-01-29T12:17:10.169Z"
   },
   {
    "duration": 29,
    "start_time": "2022-01-29T12:17:10.205Z"
   },
   {
    "duration": 31,
    "start_time": "2022-01-29T12:17:10.248Z"
   },
   {
    "duration": 25,
    "start_time": "2022-01-29T12:17:10.282Z"
   },
   {
    "duration": 33,
    "start_time": "2022-01-29T12:17:10.310Z"
   },
   {
    "duration": 19,
    "start_time": "2022-01-29T12:17:10.345Z"
   },
   {
    "duration": 112,
    "start_time": "2022-01-29T12:17:18.268Z"
   },
   {
    "duration": 7,
    "start_time": "2022-01-29T12:19:22.341Z"
   },
   {
    "duration": 6,
    "start_time": "2022-01-29T12:19:25.131Z"
   },
   {
    "duration": 12,
    "start_time": "2022-01-29T12:19:43.647Z"
   },
   {
    "duration": 13,
    "start_time": "2022-01-29T12:23:33.744Z"
   },
   {
    "duration": 585,
    "start_time": "2022-01-30T13:18:05.434Z"
   },
   {
    "duration": 118,
    "start_time": "2022-01-30T13:18:06.020Z"
   },
   {
    "duration": 15,
    "start_time": "2022-01-30T13:18:06.139Z"
   },
   {
    "duration": 23,
    "start_time": "2022-01-30T13:18:06.155Z"
   },
   {
    "duration": 3,
    "start_time": "2022-01-30T13:18:06.179Z"
   },
   {
    "duration": 19,
    "start_time": "2022-01-30T13:18:06.183Z"
   },
   {
    "duration": 3,
    "start_time": "2022-01-30T13:18:06.203Z"
   },
   {
    "duration": 20,
    "start_time": "2022-01-30T13:18:06.227Z"
   },
   {
    "duration": 14,
    "start_time": "2022-01-30T13:18:06.249Z"
   },
   {
    "duration": 18,
    "start_time": "2022-01-30T13:18:06.265Z"
   },
   {
    "duration": 69,
    "start_time": "2022-01-30T13:18:06.284Z"
   },
   {
    "duration": 54,
    "start_time": "2022-01-30T13:18:06.354Z"
   },
   {
    "duration": 57,
    "start_time": "2022-01-30T13:18:06.409Z"
   },
   {
    "duration": 9,
    "start_time": "2022-01-30T13:18:06.467Z"
   },
   {
    "duration": 3,
    "start_time": "2022-01-30T13:18:06.477Z"
   },
   {
    "duration": 12,
    "start_time": "2022-01-30T13:18:06.481Z"
   },
   {
    "duration": 7,
    "start_time": "2022-01-30T13:18:06.495Z"
   },
   {
    "duration": 26,
    "start_time": "2022-01-30T13:18:06.504Z"
   },
   {
    "duration": 11,
    "start_time": "2022-01-30T13:18:06.531Z"
   },
   {
    "duration": 3,
    "start_time": "2022-01-30T13:18:06.543Z"
   },
   {
    "duration": 15,
    "start_time": "2022-01-30T13:18:06.548Z"
   },
   {
    "duration": 13,
    "start_time": "2022-01-30T13:18:06.564Z"
   },
   {
    "duration": 14,
    "start_time": "2022-01-30T13:18:06.578Z"
   },
   {
    "duration": 12,
    "start_time": "2022-01-30T13:18:06.627Z"
   },
   {
    "duration": 12,
    "start_time": "2022-01-30T13:18:06.640Z"
   },
   {
    "duration": 11,
    "start_time": "2022-01-30T13:18:06.653Z"
   },
   {
    "duration": 8,
    "start_time": "2022-01-30T13:18:06.666Z"
   },
   {
    "duration": 17,
    "start_time": "2022-01-30T13:18:41.237Z"
   },
   {
    "duration": 17,
    "start_time": "2022-01-30T13:20:48.800Z"
   },
   {
    "duration": 3,
    "start_time": "2022-01-30T13:41:08.048Z"
   },
   {
    "duration": 758,
    "start_time": "2022-01-30T13:41:12.564Z"
   },
   {
    "duration": 13,
    "start_time": "2022-01-30T13:41:43.896Z"
   },
   {
    "duration": 3,
    "start_time": "2022-01-30T13:42:03.680Z"
   },
   {
    "duration": 805,
    "start_time": "2022-01-30T13:42:08.937Z"
   },
   {
    "duration": 4,
    "start_time": "2022-01-30T13:43:23.573Z"
   },
   {
    "duration": 18,
    "start_time": "2022-01-30T13:43:26.444Z"
   },
   {
    "duration": 4,
    "start_time": "2022-01-30T13:44:07.598Z"
   },
   {
    "duration": 19,
    "start_time": "2022-01-30T13:44:09.896Z"
   },
   {
    "duration": 4,
    "start_time": "2022-01-30T13:44:18.290Z"
   },
   {
    "duration": 19,
    "start_time": "2022-01-30T13:44:22.797Z"
   },
   {
    "duration": 21,
    "start_time": "2022-01-30T13:47:04.356Z"
   },
   {
    "duration": 4,
    "start_time": "2022-01-30T13:47:13.888Z"
   },
   {
    "duration": 20,
    "start_time": "2022-01-30T13:47:17.484Z"
   },
   {
    "duration": 20,
    "start_time": "2022-01-30T13:47:23.559Z"
   },
   {
    "duration": 5,
    "start_time": "2022-01-30T13:48:06.653Z"
   },
   {
    "duration": 4,
    "start_time": "2022-01-30T13:48:17.532Z"
   },
   {
    "duration": 15,
    "start_time": "2022-01-30T13:48:19.904Z"
   },
   {
    "duration": 12,
    "start_time": "2022-01-30T13:48:22.736Z"
   },
   {
    "duration": 16,
    "start_time": "2022-01-30T13:48:26.125Z"
   },
   {
    "duration": 13,
    "start_time": "2022-01-30T13:48:28.936Z"
   },
   {
    "duration": 8,
    "start_time": "2022-01-30T13:54:01.906Z"
   },
   {
    "duration": 8,
    "start_time": "2022-01-30T13:54:11.729Z"
   },
   {
    "duration": 4,
    "start_time": "2022-01-30T13:55:26.736Z"
   },
   {
    "duration": 312,
    "start_time": "2022-01-30T13:55:38.556Z"
   },
   {
    "duration": 5,
    "start_time": "2022-01-30T13:55:45.157Z"
   },
   {
    "duration": 7,
    "start_time": "2022-01-30T13:56:12.556Z"
   },
   {
    "duration": 329,
    "start_time": "2022-01-30T13:57:59.164Z"
   },
   {
    "duration": 8,
    "start_time": "2022-01-30T13:58:02.157Z"
   },
   {
    "duration": 6,
    "start_time": "2022-01-30T13:58:04.218Z"
   },
   {
    "duration": 4,
    "start_time": "2022-01-30T13:58:32.996Z"
   },
   {
    "duration": 5,
    "start_time": "2022-01-30T13:58:36.816Z"
   },
   {
    "duration": 331,
    "start_time": "2022-01-30T17:18:32.684Z"
   },
   {
    "duration": 718,
    "start_time": "2022-01-30T17:18:37.530Z"
   },
   {
    "duration": 118,
    "start_time": "2022-01-30T17:18:38.250Z"
   },
   {
    "duration": 14,
    "start_time": "2022-01-30T17:18:38.371Z"
   },
   {
    "duration": 22,
    "start_time": "2022-01-30T17:18:38.387Z"
   },
   {
    "duration": 3,
    "start_time": "2022-01-30T17:18:38.410Z"
   },
   {
    "duration": 18,
    "start_time": "2022-01-30T17:18:38.415Z"
   },
   {
    "duration": 4,
    "start_time": "2022-01-30T17:18:39.394Z"
   },
   {
    "duration": 3,
    "start_time": "2022-01-30T17:29:14.687Z"
   },
   {
    "duration": 3,
    "start_time": "2022-01-30T17:29:26.349Z"
   },
   {
    "duration": 186,
    "start_time": "2022-01-30T17:29:26.355Z"
   },
   {
    "duration": 12,
    "start_time": "2022-01-30T17:29:26.543Z"
   },
   {
    "duration": 35,
    "start_time": "2022-01-30T17:29:26.578Z"
   },
   {
    "duration": 4,
    "start_time": "2022-01-30T17:29:26.615Z"
   },
   {
    "duration": 22,
    "start_time": "2022-01-30T17:29:26.620Z"
   },
   {
    "duration": 2,
    "start_time": "2022-01-30T17:29:26.644Z"
   },
   {
    "duration": 43,
    "start_time": "2022-01-30T17:29:26.648Z"
   },
   {
    "duration": 16,
    "start_time": "2022-01-30T17:29:26.693Z"
   },
   {
    "duration": 23,
    "start_time": "2022-01-30T17:29:26.711Z"
   },
   {
    "duration": 67,
    "start_time": "2022-01-30T17:29:26.736Z"
   },
   {
    "duration": 55,
    "start_time": "2022-01-30T17:29:26.805Z"
   },
   {
    "duration": 63,
    "start_time": "2022-01-30T17:29:26.862Z"
   },
   {
    "duration": 10,
    "start_time": "2022-01-30T17:29:26.927Z"
   },
   {
    "duration": 18,
    "start_time": "2022-01-30T17:29:26.939Z"
   },
   {
    "duration": 57,
    "start_time": "2022-01-30T17:29:26.959Z"
   },
   {
    "duration": 42,
    "start_time": "2022-01-30T17:29:27.018Z"
   },
   {
    "duration": 13,
    "start_time": "2022-01-30T17:29:27.061Z"
   },
   {
    "duration": 20,
    "start_time": "2022-01-30T17:29:27.075Z"
   },
   {
    "duration": 21,
    "start_time": "2022-01-30T17:29:27.097Z"
   },
   {
    "duration": 26,
    "start_time": "2022-01-30T17:29:27.120Z"
   },
   {
    "duration": 31,
    "start_time": "2022-01-30T17:29:27.147Z"
   },
   {
    "duration": 18,
    "start_time": "2022-01-30T17:29:27.179Z"
   },
   {
    "duration": 29,
    "start_time": "2022-01-30T17:29:27.200Z"
   },
   {
    "duration": 14,
    "start_time": "2022-01-30T17:29:27.231Z"
   },
   {
    "duration": 51,
    "start_time": "2022-01-30T17:29:27.246Z"
   },
   {
    "duration": 32,
    "start_time": "2022-01-30T17:29:27.298Z"
   },
   {
    "duration": 27,
    "start_time": "2022-01-30T17:29:27.331Z"
   },
   {
    "duration": 17,
    "start_time": "2022-01-30T17:29:27.360Z"
   },
   {
    "duration": 11,
    "start_time": "2022-01-30T17:29:27.378Z"
   },
   {
    "duration": 22,
    "start_time": "2022-01-30T17:29:27.391Z"
   },
   {
    "duration": 26,
    "start_time": "2022-01-30T17:29:27.415Z"
   },
   {
    "duration": 26,
    "start_time": "2022-01-30T17:29:27.443Z"
   },
   {
    "duration": 23,
    "start_time": "2022-01-30T17:29:27.471Z"
   },
   {
    "duration": 18,
    "start_time": "2022-01-30T17:29:27.496Z"
   },
   {
    "duration": 30,
    "start_time": "2022-01-30T17:29:27.515Z"
   },
   {
    "duration": 7,
    "start_time": "2022-01-30T17:29:30.301Z"
   },
   {
    "duration": 2,
    "start_time": "2022-01-30T17:37:46.955Z"
   },
   {
    "duration": 123,
    "start_time": "2022-01-30T17:37:46.961Z"
   },
   {
    "duration": 12,
    "start_time": "2022-01-30T17:37:47.086Z"
   },
   {
    "duration": 20,
    "start_time": "2022-01-30T17:37:47.100Z"
   },
   {
    "duration": 3,
    "start_time": "2022-01-30T17:37:47.121Z"
   },
   {
    "duration": 12,
    "start_time": "2022-01-30T17:37:47.125Z"
   },
   {
    "duration": 3,
    "start_time": "2022-01-30T17:37:47.139Z"
   },
   {
    "duration": 20,
    "start_time": "2022-01-30T17:37:47.171Z"
   },
   {
    "duration": 14,
    "start_time": "2022-01-30T17:37:47.193Z"
   },
   {
    "duration": 22,
    "start_time": "2022-01-30T17:37:47.209Z"
   },
   {
    "duration": 64,
    "start_time": "2022-01-30T17:37:47.232Z"
   },
   {
    "duration": 51,
    "start_time": "2022-01-30T17:37:47.297Z"
   },
   {
    "duration": 50,
    "start_time": "2022-01-30T17:37:47.350Z"
   },
   {
    "duration": 8,
    "start_time": "2022-01-30T17:37:47.401Z"
   },
   {
    "duration": 2,
    "start_time": "2022-01-30T17:37:47.410Z"
   },
   {
    "duration": 11,
    "start_time": "2022-01-30T17:37:47.414Z"
   },
   {
    "duration": 8,
    "start_time": "2022-01-30T17:37:47.426Z"
   },
   {
    "duration": 9,
    "start_time": "2022-01-30T17:37:47.435Z"
   },
   {
    "duration": 9,
    "start_time": "2022-01-30T17:37:47.472Z"
   },
   {
    "duration": 3,
    "start_time": "2022-01-30T17:37:47.482Z"
   },
   {
    "duration": 15,
    "start_time": "2022-01-30T17:37:47.486Z"
   },
   {
    "duration": 12,
    "start_time": "2022-01-30T17:37:47.502Z"
   },
   {
    "duration": 12,
    "start_time": "2022-01-30T17:37:47.516Z"
   },
   {
    "duration": 11,
    "start_time": "2022-01-30T17:37:47.531Z"
   },
   {
    "duration": 38,
    "start_time": "2022-01-30T17:37:47.543Z"
   },
   {
    "duration": 13,
    "start_time": "2022-01-30T17:37:52.728Z"
   },
   {
    "duration": 8,
    "start_time": "2022-01-30T17:38:52.376Z"
   },
   {
    "duration": 1726,
    "start_time": "2022-01-30T17:40:09.999Z"
   },
   {
    "duration": 4,
    "start_time": "2022-01-30T17:40:21.822Z"
   },
   {
    "duration": 17,
    "start_time": "2022-01-30T17:40:26.198Z"
   },
   {
    "duration": 12,
    "start_time": "2022-01-30T17:41:17.783Z"
   },
   {
    "duration": 3,
    "start_time": "2022-01-30T17:41:59.629Z"
   },
   {
    "duration": 17,
    "start_time": "2022-01-30T17:42:02.175Z"
   },
   {
    "duration": 12,
    "start_time": "2022-01-30T17:42:03.629Z"
   },
   {
    "duration": 15,
    "start_time": "2022-01-30T17:42:25.615Z"
   },
   {
    "duration": 12,
    "start_time": "2022-01-30T17:42:27.156Z"
   },
   {
    "duration": 8,
    "start_time": "2022-01-30T17:42:52.868Z"
   },
   {
    "duration": 6,
    "start_time": "2022-01-30T17:42:56.620Z"
   },
   {
    "duration": 4,
    "start_time": "2022-01-30T17:43:10.433Z"
   },
   {
    "duration": 5,
    "start_time": "2022-01-30T17:44:02.171Z"
   },
   {
    "duration": 8,
    "start_time": "2022-01-30T17:44:26.361Z"
   },
   {
    "duration": 4,
    "start_time": "2022-01-30T17:44:28.432Z"
   },
   {
    "duration": 4,
    "start_time": "2022-01-30T17:44:50.079Z"
   },
   {
    "duration": 7,
    "start_time": "2022-01-30T17:45:00.662Z"
   },
   {
    "duration": 5,
    "start_time": "2022-01-30T17:45:13.523Z"
   },
   {
    "duration": 882,
    "start_time": "2022-02-08T11:52:14.343Z"
   },
   {
    "duration": 190,
    "start_time": "2022-02-08T11:52:15.229Z"
   },
   {
    "duration": 47,
    "start_time": "2022-02-08T11:52:15.422Z"
   },
   {
    "duration": 36,
    "start_time": "2022-02-08T11:52:15.472Z"
   },
   {
    "duration": 6,
    "start_time": "2022-02-08T11:52:15.511Z"
   },
   {
    "duration": 67,
    "start_time": "2022-02-08T11:52:15.520Z"
   },
   {
    "duration": 6,
    "start_time": "2022-02-08T11:52:15.590Z"
   },
   {
    "duration": 35,
    "start_time": "2022-02-08T11:52:15.598Z"
   },
   {
    "duration": 50,
    "start_time": "2022-02-08T11:52:15.638Z"
   },
   {
    "duration": 33,
    "start_time": "2022-02-08T11:52:15.692Z"
   },
   {
    "duration": 122,
    "start_time": "2022-02-08T11:52:15.728Z"
   },
   {
    "duration": 99,
    "start_time": "2022-02-08T11:52:15.852Z"
   },
   {
    "duration": 88,
    "start_time": "2022-02-08T11:52:15.954Z"
   },
   {
    "duration": 28,
    "start_time": "2022-02-08T11:52:16.045Z"
   },
   {
    "duration": 4,
    "start_time": "2022-02-08T11:52:16.076Z"
   },
   {
    "duration": 19,
    "start_time": "2022-02-08T11:52:16.083Z"
   },
   {
    "duration": 18,
    "start_time": "2022-02-08T11:52:16.105Z"
   },
   {
    "duration": 52,
    "start_time": "2022-02-08T11:52:16.125Z"
   },
   {
    "duration": 16,
    "start_time": "2022-02-08T11:52:16.180Z"
   },
   {
    "duration": 6,
    "start_time": "2022-02-08T11:52:16.199Z"
   },
   {
    "duration": 25,
    "start_time": "2022-02-08T11:52:16.207Z"
   },
   {
    "duration": 47,
    "start_time": "2022-02-08T11:52:16.234Z"
   },
   {
    "duration": 23,
    "start_time": "2022-02-08T11:52:16.285Z"
   },
   {
    "duration": 60,
    "start_time": "2022-02-08T11:52:16.311Z"
   },
   {
    "duration": 24,
    "start_time": "2022-02-08T11:52:16.373Z"
   },
   {
    "duration": 20,
    "start_time": "2022-02-08T11:52:16.400Z"
   },
   {
    "duration": 45,
    "start_time": "2022-02-08T11:52:16.426Z"
   },
   {
    "duration": 25,
    "start_time": "2022-02-08T11:52:16.474Z"
   },
   {
    "duration": 13,
    "start_time": "2022-02-08T11:52:16.501Z"
   },
   {
    "duration": 5,
    "start_time": "2022-02-08T11:52:16.516Z"
   },
   {
    "duration": 50,
    "start_time": "2022-02-08T11:52:16.523Z"
   },
   {
    "duration": 20,
    "start_time": "2022-02-08T11:52:16.576Z"
   },
   {
    "duration": 26,
    "start_time": "2022-02-08T11:52:16.598Z"
   },
   {
    "duration": 55,
    "start_time": "2022-02-08T11:52:16.627Z"
   },
   {
    "duration": 16,
    "start_time": "2022-02-08T11:52:16.685Z"
   },
   {
    "duration": 8,
    "start_time": "2022-02-08T11:52:16.703Z"
   },
   {
    "duration": 12,
    "start_time": "2022-02-08T11:52:16.714Z"
   },
   {
    "duration": 46,
    "start_time": "2022-02-08T11:52:16.728Z"
   },
   {
    "duration": 132,
    "start_time": "2022-02-08T12:05:53.965Z"
   },
   {
    "duration": 186,
    "start_time": "2022-02-08T12:09:17.244Z"
   },
   {
    "duration": 544,
    "start_time": "2022-02-08T12:36:08.480Z"
   },
   {
    "duration": 129,
    "start_time": "2022-02-08T12:36:09.026Z"
   },
   {
    "duration": 16,
    "start_time": "2022-02-08T12:36:09.157Z"
   },
   {
    "duration": 23,
    "start_time": "2022-02-08T12:36:09.175Z"
   },
   {
    "duration": 3,
    "start_time": "2022-02-08T12:36:09.200Z"
   },
   {
    "duration": 38,
    "start_time": "2022-02-08T12:36:09.204Z"
   },
   {
    "duration": 3,
    "start_time": "2022-02-08T12:36:09.244Z"
   },
   {
    "duration": 34,
    "start_time": "2022-02-08T12:36:09.249Z"
   },
   {
    "duration": 44,
    "start_time": "2022-02-08T12:36:09.285Z"
   },
   {
    "duration": 20,
    "start_time": "2022-02-08T12:36:09.331Z"
   },
   {
    "duration": 52,
    "start_time": "2022-02-08T12:36:09.352Z"
   },
   {
    "duration": 76,
    "start_time": "2022-02-08T12:36:09.405Z"
   },
   {
    "duration": 52,
    "start_time": "2022-02-08T12:36:09.483Z"
   },
   {
    "duration": 8,
    "start_time": "2022-02-08T12:36:09.536Z"
   },
   {
    "duration": 3,
    "start_time": "2022-02-08T12:36:09.545Z"
   },
   {
    "duration": 11,
    "start_time": "2022-02-08T12:36:09.549Z"
   },
   {
    "duration": 8,
    "start_time": "2022-02-08T12:36:09.561Z"
   },
   {
    "duration": 10,
    "start_time": "2022-02-08T12:36:09.570Z"
   },
   {
    "duration": 9,
    "start_time": "2022-02-08T12:36:09.582Z"
   },
   {
    "duration": 35,
    "start_time": "2022-02-08T12:36:09.592Z"
   },
   {
    "duration": 16,
    "start_time": "2022-02-08T12:36:09.628Z"
   },
   {
    "duration": 12,
    "start_time": "2022-02-08T12:36:09.646Z"
   },
   {
    "duration": 12,
    "start_time": "2022-02-08T12:36:09.660Z"
   },
   {
    "duration": 12,
    "start_time": "2022-02-08T12:36:09.673Z"
   },
   {
    "duration": 12,
    "start_time": "2022-02-08T12:36:09.687Z"
   },
   {
    "duration": 37,
    "start_time": "2022-02-08T12:36:09.701Z"
   },
   {
    "duration": 60,
    "start_time": "2022-02-08T12:36:13.004Z"
   },
   {
    "duration": 110,
    "start_time": "2022-02-08T12:38:16.734Z"
   },
   {
    "duration": 109,
    "start_time": "2022-02-08T12:38:24.554Z"
   },
   {
    "duration": 107,
    "start_time": "2022-02-08T12:38:26.302Z"
   }
  ],
  "colab": {
   "collapsed_sections": [
    "E0vqbgi9ay0H",
    "VUC88oWjTJw2"
   ],
   "name": "yandex_music_project_2021.2.ipynb",
   "provenance": []
  },
  "kernelspec": {
   "display_name": "Python 3 (ipykernel)",
   "language": "python",
   "name": "python3"
  },
  "language_info": {
   "codemirror_mode": {
    "name": "ipython",
    "version": 3
   },
   "file_extension": ".py",
   "mimetype": "text/x-python",
   "name": "python",
   "nbconvert_exporter": "python",
   "pygments_lexer": "ipython3",
   "version": "3.9.7"
  },
  "toc": {
   "base_numbering": 1,
   "nav_menu": {},
   "number_sections": true,
   "sideBar": true,
   "skip_h1_title": true,
   "title_cell": "Table of Contents",
   "title_sidebar": "Contents",
   "toc_cell": false,
   "toc_position": {},
   "toc_section_display": true,
   "toc_window_display": true
  }
 },
 "nbformat": 4,
 "nbformat_minor": 1
}
